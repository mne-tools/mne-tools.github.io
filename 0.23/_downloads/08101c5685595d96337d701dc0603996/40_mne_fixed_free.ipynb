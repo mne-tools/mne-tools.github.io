{
  "cells": [
    {
      "cell_type": "code",
      "execution_count": null,
      "metadata": {
        "collapsed": false
      },
      "outputs": [],
      "source": [
        "%matplotlib inline"
      ]
    },
    {
      "cell_type": "markdown",
      "metadata": {},
      "source": [
        "\n\n# Computing various MNE solutions\n\nThis example shows example fixed- and free-orientation source localizations\nproduced by MNE, dSPM, sLORETA, and eLORETA.\n"
      ]
    },
    {
      "cell_type": "code",
      "execution_count": null,
      "metadata": {
        "collapsed": false
      },
      "outputs": [],
      "source": [
        "# Author: Eric Larson <larson.eric.d@gmail.com>\n#\n# License: BSD (3-clause)\n\nimport mne\nfrom mne.datasets import sample\nfrom mne.minimum_norm import make_inverse_operator, apply_inverse\n\nprint(__doc__)\n\ndata_path = sample.data_path()\nsubjects_dir = data_path + '/subjects'\n\n# Read data (just MEG here for speed, though we could use MEG+EEG)\nfname_evoked = data_path + '/MEG/sample/sample_audvis-ave.fif'\nevoked = mne.read_evokeds(fname_evoked, condition='Left Auditory',\n                          baseline=(None, 0))\nfname_fwd = data_path + '/MEG/sample/sample_audvis-meg-oct-6-fwd.fif'\nfname_cov = data_path + '/MEG/sample/sample_audvis-cov.fif'\nfwd = mne.read_forward_solution(fname_fwd)\ncov = mne.read_cov(fname_cov)\n# crop for speed in these examples\nevoked.crop(0.05, 0.15)"
      ]
    },
    {
      "cell_type": "markdown",
      "metadata": {},
      "source": [
        "## Fixed orientation\nFirst let's create a fixed-orientation inverse, with the default weighting.\n\n"
      ]
    },
    {
      "cell_type": "code",
      "execution_count": null,
      "metadata": {
        "collapsed": false
      },
      "outputs": [],
      "source": [
        "inv = make_inverse_operator(evoked.info, fwd, cov, loose=0., depth=0.8,\n                            verbose=True)"
      ]
    },
    {
      "cell_type": "markdown",
      "metadata": {},
      "source": [
        "Let's look at the current estimates using MNE. We'll take the absolute\nvalue of the source estimates to simplify the visualization.\n\n"
      ]
    },
    {
      "cell_type": "code",
      "execution_count": null,
      "metadata": {
        "collapsed": false
      },
      "outputs": [],
      "source": [
        "snr = 3.0\nlambda2 = 1.0 / snr ** 2\nkwargs = dict(initial_time=0.08, hemi='both', subjects_dir=subjects_dir,\n              size=(600, 600))\n\nstc = abs(apply_inverse(evoked, inv, lambda2, 'MNE', verbose=True))\nbrain = stc.plot(figure=1, **kwargs)\nbrain.add_text(0.1, 0.9, 'MNE', 'title', font_size=14)"
      ]
    },
    {
      "cell_type": "markdown",
      "metadata": {},
      "source": [
        "Next let's use the default noise normalization, dSPM:\n\n"
      ]
    },
    {
      "cell_type": "code",
      "execution_count": null,
      "metadata": {
        "collapsed": false
      },
      "outputs": [],
      "source": [
        "stc = abs(apply_inverse(evoked, inv, lambda2, 'dSPM', verbose=True))\nbrain = stc.plot(figure=2, **kwargs)\nbrain.add_text(0.1, 0.9, 'dSPM', 'title', font_size=14)"
      ]
    },
    {
      "cell_type": "markdown",
      "metadata": {},
      "source": [
        "And sLORETA:\n\n"
      ]
    },
    {
      "cell_type": "code",
      "execution_count": null,
      "metadata": {
        "collapsed": false
      },
      "outputs": [],
      "source": [
        "stc = abs(apply_inverse(evoked, inv, lambda2, 'sLORETA', verbose=True))\nbrain = stc.plot(figure=3, **kwargs)\nbrain.add_text(0.1, 0.9, 'sLORETA', 'title', font_size=14)"
      ]
    },
    {
      "cell_type": "markdown",
      "metadata": {},
      "source": [
        "And finally eLORETA:\n\n"
      ]
    },
    {
      "cell_type": "code",
      "execution_count": null,
      "metadata": {
        "collapsed": false
      },
      "outputs": [],
      "source": [
        "stc = abs(apply_inverse(evoked, inv, lambda2, 'eLORETA', verbose=True))\nbrain = stc.plot(figure=4, **kwargs)\nbrain.add_text(0.1, 0.9, 'eLORETA', 'title', font_size=14)\ndel inv"
      ]
    },
    {
      "cell_type": "markdown",
      "metadata": {},
      "source": [
        "## Free orientation\nNow let's not constrain the orientation of the dipoles at all by creating\na free-orientation inverse.\n\n"
      ]
    },
    {
      "cell_type": "code",
      "execution_count": null,
      "metadata": {
        "collapsed": false
      },
      "outputs": [],
      "source": [
        "inv = make_inverse_operator(evoked.info, fwd, cov, loose=1., depth=0.8,\n                            verbose=True)\ndel fwd"
      ]
    },
    {
      "cell_type": "markdown",
      "metadata": {},
      "source": [
        "Let's look at the current estimates using MNE. We'll take the absolute\nvalue of the source estimates to simplify the visualization.\n\n"
      ]
    },
    {
      "cell_type": "code",
      "execution_count": null,
      "metadata": {
        "collapsed": false
      },
      "outputs": [],
      "source": [
        "stc = apply_inverse(evoked, inv, lambda2, 'MNE', verbose=True)\nbrain = stc.plot(figure=5, **kwargs)\nbrain.add_text(0.1, 0.9, 'MNE', 'title', font_size=14)"
      ]
    },
    {
      "cell_type": "markdown",
      "metadata": {},
      "source": [
        "Next let's use the default noise normalization, dSPM:\n\n"
      ]
    },
    {
      "cell_type": "code",
      "execution_count": null,
      "metadata": {
        "collapsed": false
      },
      "outputs": [],
      "source": [
        "stc = apply_inverse(evoked, inv, lambda2, 'dSPM', verbose=True)\nbrain = stc.plot(figure=6, **kwargs)\nbrain.add_text(0.1, 0.9, 'dSPM', 'title', font_size=14)"
      ]
    },
    {
      "cell_type": "markdown",
      "metadata": {},
      "source": [
        "sLORETA:\n\n"
      ]
    },
    {
      "cell_type": "code",
      "execution_count": null,
      "metadata": {
        "collapsed": false
      },
      "outputs": [],
      "source": [
        "stc = apply_inverse(evoked, inv, lambda2, 'sLORETA', verbose=True)\nbrain = stc.plot(figure=7, **kwargs)\nbrain.add_text(0.1, 0.9, 'sLORETA', 'title', font_size=14)"
      ]
    },
    {
      "cell_type": "markdown",
      "metadata": {},
      "source": [
        "And finally eLORETA:\n\n"
      ]
    },
    {
      "cell_type": "code",
      "execution_count": null,
      "metadata": {
        "collapsed": false
      },
      "outputs": [],
      "source": [
        "stc = apply_inverse(evoked, inv, lambda2, 'eLORETA', verbose=True,\n                    method_params=dict(eps=1e-4))  # larger eps just for speed\nbrain = stc.plot(figure=8, **kwargs)\nbrain.add_text(0.1, 0.9, 'eLORETA', 'title', font_size=14)"
      ]
    }
  ],
  "metadata": {
    "kernelspec": {
      "display_name": "Python 3",
      "language": "python",
      "name": "python3"
    },
    "language_info": {
      "codemirror_mode": {
        "name": "ipython",
        "version": 3
      },
      "file_extension": ".py",
      "mimetype": "text/x-python",
      "name": "python",
      "nbconvert_exporter": "python",
      "pygments_lexer": "ipython3",
      "version": "3.8.5"
    }
  },
  "nbformat": 4,
  "nbformat_minor": 0
}