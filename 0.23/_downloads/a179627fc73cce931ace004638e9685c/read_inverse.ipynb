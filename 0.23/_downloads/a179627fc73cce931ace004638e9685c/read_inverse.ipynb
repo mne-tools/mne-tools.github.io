{
  "cells": [
    {
      "cell_type": "code",
      "execution_count": null,
      "metadata": {
        "collapsed": false
      },
      "outputs": [],
      "source": [
        "%matplotlib inline"
      ]
    },
    {
      "cell_type": "markdown",
      "metadata": {},
      "source": [
        "\n# Reading an inverse operator\n\nThe inverse operator's source space is shown in 3D.\n"
      ]
    },
    {
      "cell_type": "code",
      "execution_count": null,
      "metadata": {
        "collapsed": false
      },
      "outputs": [],
      "source": [
        "# Author: Alexandre Gramfort <alexandre.gramfort@inria.fr>\n#\n# License: BSD (3-clause)\n\nimport mne\nfrom mne.datasets import sample\nfrom mne.minimum_norm import read_inverse_operator\nfrom mne.viz import set_3d_view\n\nprint(__doc__)\n\ndata_path = sample.data_path()\nsubjects_dir = data_path + '/subjects'\n\nfname_trans = data_path + '/MEG/sample/sample_audvis_raw-trans.fif'\n\ninv_fname = data_path\ninv_fname += '/MEG/sample/sample_audvis-meg-oct-6-meg-inv.fif'\n\ninv = read_inverse_operator(inv_fname)\n\nprint(\"Method: %s\" % inv['methods'])\nprint(\"fMRI prior: %s\" % inv['fmri_prior'])\nprint(\"Number of sources: %s\" % inv['nsource'])\nprint(\"Number of channels: %s\" % inv['nchan'])\n\nsrc = inv['src']  # get the source space\n\n# Get access to the triangulation of the cortex\n\nprint(\"Number of vertices on the left hemisphere: %d\" % len(src[0]['rr']))\nprint(\"Number of triangles on left hemisphere: %d\" % len(src[0]['use_tris']))\nprint(\"Number of vertices on the right hemisphere: %d\" % len(src[1]['rr']))\nprint(\"Number of triangles on right hemisphere: %d\" % len(src[1]['use_tris']))"
      ]
    },
    {
      "cell_type": "markdown",
      "metadata": {},
      "source": [
        "Show result on 3D source space\n\n"
      ]
    },
    {
      "cell_type": "code",
      "execution_count": null,
      "metadata": {
        "collapsed": false
      },
      "outputs": [],
      "source": [
        "fig = mne.viz.plot_alignment(subject='sample', subjects_dir=subjects_dir,\n                             trans=fname_trans, surfaces='white', src=src)\nset_3d_view(fig, focalpoint=(0., 0., 0.06))"
      ]
    }
  ],
  "metadata": {
    "kernelspec": {
      "display_name": "Python 3",
      "language": "python",
      "name": "python3"
    },
    "language_info": {
      "codemirror_mode": {
        "name": "ipython",
        "version": 3
      },
      "file_extension": ".py",
      "mimetype": "text/x-python",
      "name": "python",
      "nbconvert_exporter": "python",
      "pygments_lexer": "ipython3",
      "version": "3.8.5"
    }
  },
  "nbformat": 4,
  "nbformat_minor": 0
}