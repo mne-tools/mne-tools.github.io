{
  "cells": [
    {
      "cell_type": "code",
      "execution_count": null,
      "metadata": {
        "collapsed": false
      },
      "outputs": [],
      "source": [
        "%matplotlib inline"
      ]
    },
    {
      "cell_type": "markdown",
      "metadata": {},
      "source": [
        "\n\n# How to plot topomaps the way EEGLAB does\n\nIf you have previous EEGLAB experience you may have noticed that topomaps\n(topoplots) generated using MNE-Python look a little different from those\ncreated in EEGLAB. If you prefer the EEGLAB style this example will show you\nhow to calculate head sphere origin and radius to obtain EEGLAB-like channel\nlayout in MNE.\n"
      ]
    },
    {
      "cell_type": "code",
      "execution_count": null,
      "metadata": {
        "collapsed": false
      },
      "outputs": [],
      "source": [
        "# Authors: Miko\u0142aj Magnuski <mmagnuski@swps.edu.pl>\n#\n# License: BSD (3-clause)\nimport numpy as np\nfrom matplotlib import pyplot as plt\n\nimport mne\n\n\nprint(__doc__)"
      ]
    },
    {
      "cell_type": "markdown",
      "metadata": {},
      "source": [
        "## Create fake data\n\nFirst we will create a simple evoked object with a single timepoint using\nbiosemi 10-20 channel layout.\n\n"
      ]
    },
    {
      "cell_type": "code",
      "execution_count": null,
      "metadata": {
        "collapsed": false
      },
      "outputs": [],
      "source": [
        "biosemi_montage = mne.channels.make_standard_montage('biosemi64')\nn_channels = len(biosemi_montage.ch_names)\nfake_info = mne.create_info(ch_names=biosemi_montage.ch_names, sfreq=250.,\n                            ch_types='eeg')\n\nrng = np.random.RandomState(0)\ndata = rng.normal(size=(n_channels, 1)) * 1e-6\nfake_evoked = mne.EvokedArray(data, fake_info)\nfake_evoked.set_montage(biosemi_montage)"
      ]
    },
    {
      "cell_type": "markdown",
      "metadata": {},
      "source": [
        "## Calculate sphere origin and radius\n\nEEGLAB plots head outline at the level where the head circumference is\nmeasured\nin the 10-20 system (a line going through Fpz, T8/T4, Oz and T7/T3 channels).\nMNE-Python places the head outline lower on the z dimension, at the level of\nthe anatomical landmarks :term:`LPA, RPA, and NAS <fiducial>`.\nTherefore to use the EEGLAB layout we\nhave to move the origin of the reference sphere (a sphere that is used as a\nreference when projecting channel locations to a 2d plane) a few centimeters\nup.\n\nInstead of approximating this position by eye, as we did in `the sensor\nlocations tutorial <tut-sensor-locations>`, here we will calculate it using\nthe position of Fpz, T8, Oz and T7 channels available in our montage.\n\n"
      ]
    },
    {
      "cell_type": "code",
      "execution_count": null,
      "metadata": {
        "collapsed": false
      },
      "outputs": [],
      "source": [
        "# first we obtain the 3d positions of selected channels\nchs = ['Oz', 'Fpz', 'T7', 'T8']\npos = np.stack([biosemi_montage.get_positions()['ch_pos'][ch] for ch in chs])\n\n# now we calculate the radius from T7 and T8 x position\n# (we could use Oz and Fpz y positions as well)\nradius = np.abs(pos[[2, 3], 0]).mean()\n\n# then we obtain the x, y, z sphere center this way:\n# x: x position of the Oz channel (should be very close to 0)\n# y: y position of the T8 channel (should be very close to 0 too)\n# z: average z position of Oz, Fpz, T7 and T8 (their z position should be the\n#    the same, so we could also use just one of these channels), it should be\n#    positive and somewhere around `0.03` (3 cm)\nx = pos[0, 0]\ny = pos[-1, 1]\nz = pos[:, -1].mean()\n\n# lets print the values we got:\nprint([f'{v:0.5f}' for v in [x, y, z, radius]])"
      ]
    },
    {
      "cell_type": "markdown",
      "metadata": {},
      "source": [
        "## Compare MNE and EEGLAB channel layout\n\nWe already have the required x, y, z sphere center and its radius \u2014 we can\nuse these values passing them to the ``sphere`` argument of many\ntopo-plotting functions (by passing ``sphere=(x, y, z, radius)``).\n\n"
      ]
    },
    {
      "cell_type": "code",
      "execution_count": null,
      "metadata": {
        "collapsed": false
      },
      "outputs": [],
      "source": [
        "# create a two-panel figure with some space for the titles at the top\nfig, ax = plt.subplots(ncols=2, figsize=(8, 4), gridspec_kw=dict(top=0.9),\n                       sharex=True, sharey=True)\n\n# we plot the channel positions with default sphere - the mne way\nfake_evoked.plot_sensors(axes=ax[0], show=False)\n\n# in the second panel we plot the positions using the EEGLAB reference sphere\nfake_evoked.plot_sensors(sphere=(x, y, z, radius), axes=ax[1], show=False)\n\n# add titles\nax[0].set_title('MNE channel projection', fontweight='bold')\nax[1].set_title('EEGLAB channel projection', fontweight='bold')"
      ]
    },
    {
      "cell_type": "markdown",
      "metadata": {},
      "source": [
        "## Topomaps (topoplots)\n\nAs the last step we do the same, but plotting the topomaps. These will not\nbe particularly interesting as they will show random data but hopefully you\nwill see the difference.\n\n"
      ]
    },
    {
      "cell_type": "code",
      "execution_count": null,
      "metadata": {
        "collapsed": false
      },
      "outputs": [],
      "source": [
        "fig, ax = plt.subplots(ncols=2, figsize=(8, 4), gridspec_kw=dict(top=0.9),\n                       sharex=True, sharey=True)\n\nmne.viz.plot_topomap(fake_evoked.data[:, 0], fake_evoked.info, axes=ax[0],\n                     show=False)\nmne.viz.plot_topomap(fake_evoked.data[:, 0], fake_evoked.info, axes=ax[1],\n                     show=False, sphere=(x, y, z, radius))\n\n# add titles\nax[0].set_title('MNE', fontweight='bold')\nax[1].set_title('EEGLAB', fontweight='bold')"
      ]
    }
  ],
  "metadata": {
    "kernelspec": {
      "display_name": "Python 3",
      "language": "python",
      "name": "python3"
    },
    "language_info": {
      "codemirror_mode": {
        "name": "ipython",
        "version": 3
      },
      "file_extension": ".py",
      "mimetype": "text/x-python",
      "name": "python",
      "nbconvert_exporter": "python",
      "pygments_lexer": "ipython3",
      "version": "3.8.5"
    }
  },
  "nbformat": 4,
  "nbformat_minor": 0
}