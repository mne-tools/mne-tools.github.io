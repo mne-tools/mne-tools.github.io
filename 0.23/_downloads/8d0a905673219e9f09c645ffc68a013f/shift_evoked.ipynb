{
  "cells": [
    {
      "cell_type": "code",
      "execution_count": null,
      "metadata": {
        "collapsed": false
      },
      "outputs": [],
      "source": [
        "%matplotlib inline"
      ]
    },
    {
      "cell_type": "markdown",
      "metadata": {},
      "source": [
        "\n# Shifting time-scale in evoked data\n"
      ]
    },
    {
      "cell_type": "code",
      "execution_count": null,
      "metadata": {
        "collapsed": false
      },
      "outputs": [],
      "source": [
        "# Author: Mainak Jas <mainak@neuro.hut.fi>\n#\n# License: BSD (3-clause)\n\nimport matplotlib.pyplot as plt\nimport mne\nfrom mne.viz import tight_layout\nfrom mne.datasets import sample\n\nprint(__doc__)\n\ndata_path = sample.data_path()\n\nfname = data_path + '/MEG/sample/sample_audvis-ave.fif'\n\n# Reading evoked data\ncondition = 'Left Auditory'\nevoked = mne.read_evokeds(fname, condition=condition, baseline=(None, 0),\n                          proj=True)\n\nch_names = evoked.info['ch_names']\npicks = mne.pick_channels(ch_names=ch_names, include=[\"MEG 2332\"])\n\n# Create subplots\nf, (ax1, ax2, ax3) = plt.subplots(3)\nevoked.plot(exclude=[], picks=picks, axes=ax1,\n            titles=dict(grad='Before time shifting'), time_unit='s')\n\n# Apply relative time-shift of 500 ms\nevoked.shift_time(0.5, relative=True)\n\nevoked.plot(exclude=[], picks=picks, axes=ax2,\n            titles=dict(grad='Relative shift: 500 ms'), time_unit='s')\n\n# Apply absolute time-shift of 500 ms\nevoked.shift_time(0.5, relative=False)\n\nevoked.plot(exclude=[], picks=picks, axes=ax3,\n            titles=dict(grad='Absolute shift: 500 ms'), time_unit='s')\n\ntight_layout()"
      ]
    }
  ],
  "metadata": {
    "kernelspec": {
      "display_name": "Python 3",
      "language": "python",
      "name": "python3"
    },
    "language_info": {
      "codemirror_mode": {
        "name": "ipython",
        "version": 3
      },
      "file_extension": ".py",
      "mimetype": "text/x-python",
      "name": "python",
      "nbconvert_exporter": "python",
      "pygments_lexer": "ipython3",
      "version": "3.8.5"
    }
  },
  "nbformat": 4,
  "nbformat_minor": 0
}