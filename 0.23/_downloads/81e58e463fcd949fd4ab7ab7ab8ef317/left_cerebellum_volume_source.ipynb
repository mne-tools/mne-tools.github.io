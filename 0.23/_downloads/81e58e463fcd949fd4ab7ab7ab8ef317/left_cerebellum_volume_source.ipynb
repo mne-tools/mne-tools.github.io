{
  "cells": [
    {
      "cell_type": "code",
      "execution_count": null,
      "metadata": {
        "collapsed": false
      },
      "outputs": [],
      "source": [
        "%matplotlib inline"
      ]
    },
    {
      "cell_type": "markdown",
      "metadata": {},
      "source": [
        "\n# Generate a left cerebellum volume source space\n\nGenerate a volume source space of the left cerebellum and plot its vertices\nrelative to the left cortical surface source space and the FreeSurfer\nsegmentation file.\n"
      ]
    },
    {
      "cell_type": "code",
      "execution_count": null,
      "metadata": {
        "collapsed": false
      },
      "outputs": [],
      "source": [
        "# Author: Alan Leggitt <alan.leggitt@ucsf.edu>\n#\n# License: BSD (3-clause)\n\nimport mne\nfrom mne import setup_source_space, setup_volume_source_space\nfrom mne.datasets import sample\n\nprint(__doc__)\n\ndata_path = sample.data_path()\nsubjects_dir = data_path + '/subjects'\nsubject = 'sample'\naseg_fname = subjects_dir + '/sample/mri/aseg.mgz'"
      ]
    },
    {
      "cell_type": "markdown",
      "metadata": {},
      "source": [
        "Setup the source spaces\n\n"
      ]
    },
    {
      "cell_type": "code",
      "execution_count": null,
      "metadata": {
        "collapsed": false
      },
      "outputs": [],
      "source": [
        "# setup a cortical surface source space and extract left hemisphere\nsurf = setup_source_space(subject, subjects_dir=subjects_dir, add_dist=False)\nlh_surf = surf[0]\n\n# setup a volume source space of the left cerebellum cortex\nvolume_label = 'Left-Cerebellum-Cortex'\nsphere = (0, 0, 0, 0.12)\nlh_cereb = setup_volume_source_space(\n    subject, mri=aseg_fname, sphere=sphere, volume_label=volume_label,\n    subjects_dir=subjects_dir, sphere_units='m')\n\n# Combine the source spaces\nsrc = surf + lh_cereb"
      ]
    },
    {
      "cell_type": "markdown",
      "metadata": {},
      "source": [
        "Plot the positions of each source space\n\n"
      ]
    },
    {
      "cell_type": "code",
      "execution_count": null,
      "metadata": {
        "collapsed": false
      },
      "outputs": [],
      "source": [
        "fig = mne.viz.plot_alignment(subject=subject, subjects_dir=subjects_dir,\n                             surfaces='white', coord_frame='head',\n                             src=src)\nmne.viz.set_3d_view(fig, azimuth=173.78, elevation=101.75,\n                    distance=0.30, focalpoint=(-0.03, -0.01, 0.03))"
      ]
    },
    {
      "cell_type": "markdown",
      "metadata": {},
      "source": [
        "You can export source positions to a NIfTI file::\n\n    >>> nii_fname = 'mne_sample_lh-cerebellum-cortex.nii'\n    >>> src.export_volume(nii_fname, mri_resolution=True)\n\nAnd display source positions in freeview::\n\n   >>> from mne.utils import run_subprocess\n   >>> mri_fname = subjects_dir + '/sample/mri/brain.mgz'\n   >>> run_subprocess(['freeview', '-v', mri_fname, '-v',\n                       '%s:colormap=lut:opacity=0.5' % aseg_fname, '-v',\n                       '%s:colormap=jet:colorscale=0,2' % nii_fname,\n                       '-slice', '157 75 105'])\n\n"
      ]
    }
  ],
  "metadata": {
    "kernelspec": {
      "display_name": "Python 3",
      "language": "python",
      "name": "python3"
    },
    "language_info": {
      "codemirror_mode": {
        "name": "ipython",
        "version": 3
      },
      "file_extension": ".py",
      "mimetype": "text/x-python",
      "name": "python",
      "nbconvert_exporter": "python",
      "pygments_lexer": "ipython3",
      "version": "3.8.5"
    }
  },
  "nbformat": 4,
  "nbformat_minor": 0
}