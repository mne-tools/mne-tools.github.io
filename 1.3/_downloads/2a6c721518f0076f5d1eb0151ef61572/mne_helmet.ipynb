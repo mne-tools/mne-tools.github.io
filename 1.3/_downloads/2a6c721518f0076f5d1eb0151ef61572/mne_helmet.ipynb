{
  "cells": [
    {
      "cell_type": "markdown",
      "metadata": {},
      "source": [
        "\n\n# Plot the MNE brain and helmet\n\nThis tutorial shows how to make the MNE helmet + brain image.\n"
      ]
    },
    {
      "cell_type": "code",
      "execution_count": null,
      "metadata": {
        "collapsed": false
      },
      "outputs": [],
      "source": [
        "import mne\n\nsample_path = mne.datasets.sample.data_path()\nsubjects_dir = sample_path / 'subjects'\nfname_evoked = sample_path / 'MEG' / 'sample' / 'sample_audvis-ave.fif'\nfname_inv = (sample_path / 'MEG' / 'sample' /\n             'sample_audvis-meg-oct-6-meg-inv.fif')\nfname_trans = sample_path / 'MEG' / 'sample' / 'sample_audvis_raw-trans.fif'\ninv = mne.minimum_norm.read_inverse_operator(fname_inv)\nevoked = mne.read_evokeds(fname_evoked, baseline=(None, 0),\n                          proj=True, verbose=False, condition='Left Auditory')\nmaps = mne.make_field_map(evoked, trans=fname_trans, ch_type='meg',\n                          subject='sample', subjects_dir=subjects_dir)\ntime = 0.083\nfig = mne.viz.create_3d_figure((256, 256))\nmne.viz.plot_alignment(\n    evoked.info, subject='sample', subjects_dir=subjects_dir, fig=fig,\n    trans=fname_trans, meg='sensors', eeg=False, surfaces='pial',\n    coord_frame='mri')\nevoked.plot_field(maps, time=time, fig=fig, time_label=None, vmax=5e-13)\nmne.viz.set_3d_view(\n    fig, azimuth=40, elevation=87, focalpoint=(0., -0.01, 0.04), roll=-25,\n    distance=0.55)"
      ]
    }
  ],
  "metadata": {
    "kernelspec": {
      "display_name": "Python 3",
      "language": "python",
      "name": "python3"
    },
    "language_info": {
      "codemirror_mode": {
        "name": "ipython",
        "version": 3
      },
      "file_extension": ".py",
      "mimetype": "text/x-python",
      "name": "python",
      "nbconvert_exporter": "python",
      "pygments_lexer": "ipython3",
      "version": "3.10.6"
    }
  },
  "nbformat": 4,
  "nbformat_minor": 0
}