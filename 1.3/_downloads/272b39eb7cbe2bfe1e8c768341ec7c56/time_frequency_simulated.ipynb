{
  "cells": [
    {
      "cell_type": "markdown",
      "metadata": {},
      "source": [
        "\n\n# Time-frequency on simulated data (Multitaper vs. Morlet vs. Stockwell vs. Hilbert)\n\nThis example demonstrates the different time-frequency estimation methods\non simulated data. It shows the time-frequency resolution trade-off\nand the problem of estimation variance. In addition it highlights\nalternative functions for generating TFRs without averaging across\ntrials, or by operating on numpy arrays.\n"
      ]
    },
    {
      "cell_type": "code",
      "execution_count": null,
      "metadata": {
        "collapsed": false
      },
      "outputs": [],
      "source": [
        "# Authors: Hari Bharadwaj <hari@nmr.mgh.harvard.edu>\n#          Denis Engemann <denis.engemann@gmail.com>\n#          Chris Holdgraf <choldgraf@berkeley.edu>\n#          Alex Rockhill <aprockhill@mailbox.org>\n#\n# License: BSD-3-Clause"
      ]
    },
    {
      "cell_type": "code",
      "execution_count": null,
      "metadata": {
        "collapsed": false
      },
      "outputs": [],
      "source": [
        "import numpy as np\nfrom matplotlib import pyplot as plt\n\nfrom mne import create_info, Epochs\nfrom mne.baseline import rescale\nfrom mne.io import RawArray\nfrom mne.time_frequency import (tfr_multitaper, tfr_stockwell, tfr_morlet,\n                                tfr_array_morlet, AverageTFR)\nfrom mne.viz import centers_to_edges\n\nprint(__doc__)"
      ]
    },
    {
      "cell_type": "markdown",
      "metadata": {},
      "source": [
        "## Simulate data\n\nWe'll simulate data with a known spectro-temporal structure.\n\n"
      ]
    },
    {
      "cell_type": "code",
      "execution_count": null,
      "metadata": {
        "collapsed": false
      },
      "outputs": [],
      "source": [
        "sfreq = 1000.0\nch_names = ['SIM0001', 'SIM0002']\nch_types = ['grad', 'grad']\ninfo = create_info(ch_names=ch_names, sfreq=sfreq, ch_types=ch_types)\n\nn_times = 1024  # Just over 1 second epochs\nn_epochs = 40\nseed = 42\nrng = np.random.RandomState(seed)\ndata = rng.randn(len(ch_names), n_times * n_epochs + 200)  # buffer\n\n# Add a 50 Hz sinusoidal burst to the noise and ramp it.\nt = np.arange(n_times, dtype=np.float64) / sfreq\nsignal = np.sin(np.pi * 2. * 50. * t)  # 50 Hz sinusoid signal\nsignal[np.logical_or(t < 0.45, t > 0.55)] = 0.  # Hard windowing\non_time = np.logical_and(t >= 0.45, t <= 0.55)\nsignal[on_time] *= np.hanning(on_time.sum())  # Ramping\ndata[:, 100:-100] += np.tile(signal, n_epochs)  # add signal\n\nraw = RawArray(data, info)\nevents = np.zeros((n_epochs, 3), dtype=int)\nevents[:, 0] = np.arange(n_epochs) * n_times\nepochs = Epochs(raw, events, dict(sin50hz=0), tmin=0, tmax=n_times / sfreq,\n                reject=dict(grad=4000), baseline=None)\n\nepochs.average().plot()"
      ]
    },
    {
      "cell_type": "markdown",
      "metadata": {},
      "source": [
        "## Calculate a time-frequency representation (TFR)\n\nBelow we'll demonstrate the output of several TFR functions in MNE:\n\n* :func:`mne.time_frequency.tfr_multitaper`\n* :func:`mne.time_frequency.tfr_stockwell`\n* :func:`mne.time_frequency.tfr_morlet`\n* :meth:`mne.Epochs.filter` and :meth:`mne.Epochs.apply_hilbert`\n\n### Multitaper transform\nFirst we'll use the multitaper method for calculating the TFR.\nThis creates several orthogonal tapering windows in the TFR estimation,\nwhich reduces variance. We'll also show some of the parameters that can be\ntweaked (e.g., ``time_bandwidth``) that will result in different multitaper\nproperties, and thus a different TFR. You can trade time resolution or\nfrequency resolution or both in order to get a reduction in variance.\n\n"
      ]
    },
    {
      "cell_type": "code",
      "execution_count": null,
      "metadata": {
        "collapsed": false
      },
      "outputs": [],
      "source": [
        "freqs = np.arange(5., 100., 3.)\nvmin, vmax = -3., 3.  # Define our color limits.\n\nfig, axs = plt.subplots(1, 3, figsize=(15, 5), sharey=True)\nfor n_cycles, time_bandwidth, ax, title in zip(\n        [freqs / 2, freqs, freqs / 2],  # number of cycles\n        [2.0, 4.0, 8.0],  # time bandwidth\n        axs,\n        ['Sim: Least smoothing, most variance',\n         'Sim: Less frequency smoothing,\\nmore time smoothing',\n         'Sim: Less time smoothing,\\nmore frequency smoothing']):\n    power = tfr_multitaper(epochs, freqs=freqs, n_cycles=n_cycles,\n                           time_bandwidth=time_bandwidth, return_itc=False)\n    ax.set_title(title)\n    # Plot results. Baseline correct based on first 100 ms.\n    power.plot([0], baseline=(0., 0.1), mode='mean', vmin=vmin, vmax=vmax,\n               axes=ax, show=False, colorbar=False)\nplt.tight_layout()"
      ]
    },
    {
      "cell_type": "markdown",
      "metadata": {},
      "source": [
        "### Stockwell (S) transform\n\nStockwell uses a Gaussian window to balance temporal and spectral resolution.\nImportantly, frequency bands are phase-normalized, hence strictly comparable\nwith regard to timing, and, the input signal can be recoverd from the\ntransform in a lossless way if we disregard numerical errors. In this case,\nwe control the spectral / temporal resolution by specifying different widths\nof the gaussian window using the ``width`` parameter.\n\n"
      ]
    },
    {
      "cell_type": "code",
      "execution_count": null,
      "metadata": {
        "collapsed": false
      },
      "outputs": [],
      "source": [
        "fig, axs = plt.subplots(1, 3, figsize=(15, 5), sharey=True)\nfmin, fmax = freqs[[0, -1]]\nfor width, ax in zip((0.2, 0.7, 3.0), axs):\n    power = tfr_stockwell(epochs, fmin=fmin, fmax=fmax, width=width)\n    power.plot([0], baseline=(0., 0.1), mode='mean', axes=ax, show=False,\n               colorbar=False)\n    ax.set_title('Sim: Using S transform, width = {:0.1f}'.format(width))\nplt.tight_layout()"
      ]
    },
    {
      "cell_type": "markdown",
      "metadata": {},
      "source": [
        "### Morlet Wavelets\n\nNext, we'll show the TFR using morlet wavelets, which are a sinusoidal wave\nwith a gaussian envelope. We can control the balance between spectral and\ntemporal resolution with the ``n_cycles`` parameter, which defines the\nnumber of cycles to include in the window.\n\n"
      ]
    },
    {
      "cell_type": "code",
      "execution_count": null,
      "metadata": {
        "collapsed": false
      },
      "outputs": [],
      "source": [
        "fig, axs = plt.subplots(1, 3, figsize=(15, 5), sharey=True)\nall_n_cycles = [1, 3, freqs / 2.]\nfor n_cycles, ax in zip(all_n_cycles, axs):\n    power = tfr_morlet(epochs, freqs=freqs,\n                       n_cycles=n_cycles, return_itc=False)\n    power.plot([0], baseline=(0., 0.1), mode='mean', vmin=vmin, vmax=vmax,\n               axes=ax, show=False, colorbar=False)\n    n_cycles = 'scaled by freqs' if not isinstance(n_cycles, int) else n_cycles\n    ax.set_title(f'Sim: Using Morlet wavelet, n_cycles = {n_cycles}')\nplt.tight_layout()"
      ]
    },
    {
      "cell_type": "markdown",
      "metadata": {},
      "source": [
        "### Narrow-bandpass Filter and Hilbert Transform\n\nFinally, we'll show a time-frequency representation using a narrow bandpass\nfilter and the Hilbert transform. Choosing the right filter parameters is\nimportant so that you isolate only one oscillation of interest, generally\nthe width of this filter is recommended to be about 2 Hz.\n\n"
      ]
    },
    {
      "cell_type": "code",
      "execution_count": null,
      "metadata": {
        "collapsed": false
      },
      "outputs": [],
      "source": [
        "fig, axs = plt.subplots(1, 3, figsize=(15, 5), sharey=True)\nbandwidths = [1., 2., 4.]\nfor bandwidth, ax in zip(bandwidths, axs):\n    data = np.zeros((len(ch_names), freqs.size, epochs.times.size),\n                    dtype=complex)\n    for idx, freq in enumerate(freqs):\n        # Filter raw data and re-epoch to avoid the filter being longer than\n        # the epoch data for low frequencies and short epochs, such as here.\n        raw_filter = raw.copy()\n        # NOTE: The bandwidths of the filters are changed from their defaults\n        # to exaggerate differences. With the default transition bandwidths,\n        # these are all very similar because the filters are almost the same.\n        # In practice, using the default is usually a wise choice.\n        raw_filter.filter(\n            l_freq=freq - bandwidth / 2, h_freq=freq + bandwidth / 2,\n            # no negative values for large bandwidth and low freq\n            l_trans_bandwidth=min([4 * bandwidth, freq - bandwidth]),\n            h_trans_bandwidth=4 * bandwidth)\n        raw_filter.apply_hilbert()\n        epochs_hilb = Epochs(raw_filter, events, tmin=0, tmax=n_times / sfreq,\n                             baseline=(0, 0.1))\n        tfr_data = epochs_hilb.get_data()\n        tfr_data = tfr_data * tfr_data.conj()  # compute power\n        tfr_data = np.mean(tfr_data, axis=0)  # average over epochs\n        data[:, idx] = tfr_data\n    power = AverageTFR(info, data, epochs.times, freqs, nave=n_epochs)\n    power.plot([0], baseline=(0., 0.1), mode='mean', vmin=-0.1, vmax=0.1,\n               axes=ax, show=False, colorbar=False)\n    n_cycles = 'scaled by freqs' if not isinstance(n_cycles, int) else n_cycles\n    ax.set_title('Sim: Using narrow bandpass filter Hilbert,\\n'\n                 f'bandwidth = {bandwidth}, '\n                 f'transition bandwidth = {4 * bandwidth}')\nplt.tight_layout()"
      ]
    },
    {
      "cell_type": "markdown",
      "metadata": {},
      "source": [
        "## Calculating a TFR without averaging over epochs\n\nIt is also possible to calculate a TFR without averaging across trials.\nWe can do this by using ``average=False``. In this case, an instance of\n:class:`mne.time_frequency.EpochsTFR` is returned.\n\n"
      ]
    },
    {
      "cell_type": "code",
      "execution_count": null,
      "metadata": {
        "collapsed": false
      },
      "outputs": [],
      "source": [
        "n_cycles = freqs / 2.\npower = tfr_morlet(epochs, freqs=freqs,\n                   n_cycles=n_cycles, return_itc=False, average=False)\nprint(type(power))\navgpower = power.average()\navgpower.plot([0], baseline=(0., 0.1), mode='mean', vmin=vmin, vmax=vmax,\n              title='Using Morlet wavelets and EpochsTFR', show=False)"
      ]
    },
    {
      "cell_type": "markdown",
      "metadata": {},
      "source": [
        "## Operating on arrays\n\nMNE also has versions of the functions above which operate on numpy arrays\ninstead of MNE objects. They expect inputs of the shape\n``(n_epochs, n_channels, n_times)``. They will also return a numpy array\nof shape ``(n_epochs, n_channels, n_freqs, n_times)``.\n\n"
      ]
    },
    {
      "cell_type": "code",
      "execution_count": null,
      "metadata": {
        "collapsed": false
      },
      "outputs": [],
      "source": [
        "power = tfr_array_morlet(epochs.get_data(), sfreq=epochs.info['sfreq'],\n                         freqs=freqs, n_cycles=n_cycles,\n                         output='avg_power')\n# Baseline the output\nrescale(power, epochs.times, (0., 0.1), mode='mean', copy=False)\nfig, ax = plt.subplots()\nx, y = centers_to_edges(epochs.times * 1000, freqs)\nmesh = ax.pcolormesh(x, y, power[0], cmap='RdBu_r', vmin=vmin, vmax=vmax)\nax.set_title('TFR calculated on a numpy array')\nax.set(ylim=freqs[[0, -1]], xlabel='Time (ms)')\nfig.colorbar(mesh)\nplt.tight_layout()\n\nplt.show()"
      ]
    }
  ],
  "metadata": {
    "kernelspec": {
      "display_name": "Python 3",
      "language": "python",
      "name": "python3"
    },
    "language_info": {
      "codemirror_mode": {
        "name": "ipython",
        "version": 3
      },
      "file_extension": ".py",
      "mimetype": "text/x-python",
      "name": "python",
      "nbconvert_exporter": "python",
      "pygments_lexer": "ipython3",
      "version": "3.10.6"
    }
  },
  "nbformat": 4,
  "nbformat_minor": 0
}