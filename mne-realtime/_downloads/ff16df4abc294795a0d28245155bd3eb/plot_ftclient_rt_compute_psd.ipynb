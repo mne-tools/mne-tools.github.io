{
  "cells": [
    {
      "cell_type": "code",
      "execution_count": null,
      "metadata": {
        "collapsed": false
      },
      "outputs": [],
      "source": [
        "%matplotlib inline"
      ]
    },
    {
      "cell_type": "markdown",
      "metadata": {},
      "source": [
        "\n# Compute real-time power spectrum density with FieldTrip client\n\nPlease refer to `ftclient_rt_average.py` for instructions on\nhow to get the FieldTrip connector working in MNE-Python.\n\nThis example demonstrates how to use it for continuous\ncomputation of power spectra in real-time using the\nget_data_as_epoch function.\n"
      ]
    },
    {
      "cell_type": "code",
      "execution_count": null,
      "metadata": {
        "collapsed": false
      },
      "outputs": [],
      "source": [
        "# Author: Mainak Jas <mainak@neuro.hut.fi>\n#\n# License: BSD (3-clause)\n\nimport os.path as op\nimport subprocess\nimport time\n\nimport numpy as np\nimport matplotlib.pyplot as plt\n\nimport mne\nfrom mne.time_frequency import psd_welch\nfrom mne.utils import running_subprocess\n\nfrom mne_realtime import FieldTripClient\n\nprint(__doc__)\n\n# user should provide info and list of bad channels because\n# FieldTrip header object does not provide them\ndata_path = mne.datasets.sample.data_path()\ninfo = mne.io.read_info(op.join(data_path, 'MEG', 'sample',\n                                'sample_audvis_raw.fif'))\nbads = ['MEG 2443', 'EEG 053']\n\nfig, ax = plt.subplots(1)\n\nspeedup = 10\ncommand = [\"neuromag2ft\", \"--file\",\n           \"{}/MEG/sample/sample_audvis_raw.fif\".format(data_path),\n           \"--speed\", str(speedup)]\nwith running_subprocess(command, after='kill',\n                        stdout=subprocess.PIPE, stderr=subprocess.PIPE):\n    with FieldTripClient(host='localhost', port=1972,\n                         tmax=10, wait_max=5, info=info) as rt_client:\n\n        # select gradiometers\n        picks = mne.pick_types(info, meg='grad', eeg=False, eog=True,\n                               stim=False, include=[], exclude=bads)\n\n        n_fft = 256  # the FFT size. Ideally a power of 2\n        n_samples = 2048  # time window on which to compute FFT\n\n        # make sure at least one epoch is available\n        time.sleep(n_samples / info['sfreq'])\n\n        for ii in range(5):\n            epoch = rt_client.get_data_as_epoch(n_samples=n_samples,\n                                                picks=picks)\n            psd, freqs = psd_welch(epoch, fmin=2, fmax=200, n_fft=n_fft)\n\n            cmap = 'RdBu_r'\n            freq_mask = freqs < 150\n            freqs = freqs[freq_mask]\n            log_psd = 10 * np.log10(psd[0])\n\n            tmin = epoch.events[0][0] / info['sfreq']\n            tmax = (epoch.events[0][0] + n_samples) / info['sfreq']\n\n            if ii == 0:\n                im = ax.imshow(log_psd[:, freq_mask].T, aspect='auto',\n                               origin='lower', cmap=cmap)\n\n                ax.set_yticks(np.arange(0, len(freqs), 10))\n                ax.set_yticklabels(freqs[::10].round(1))\n                ax.set_xlabel('Frequency (Hz)')\n                ax.set_xticks(np.arange(0, len(picks), 30))\n                ax.set_xticklabels(picks[::30])\n                ax.set_xlabel('MEG channel index')\n                im.set_clim()\n            else:\n                im.set_data(log_psd[:, freq_mask].T)\n\n            plt.title('continuous power spectrum (t = %0.2f sec to %0.2f sec)'\n                      % (tmin, tmax), fontsize=10)\n\n            plt.pause(0.5 / speedup)"
      ]
    }
  ],
  "metadata": {
    "kernelspec": {
      "display_name": "Python 3",
      "language": "python",
      "name": "python3"
    },
    "language_info": {
      "codemirror_mode": {
        "name": "ipython",
        "version": 3
      },
      "file_extension": ".py",
      "mimetype": "text/x-python",
      "name": "python",
      "nbconvert_exporter": "python",
      "pygments_lexer": "ipython3",
      "version": "3.9.7"
    }
  },
  "nbformat": 4,
  "nbformat_minor": 0
}