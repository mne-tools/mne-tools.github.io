{
  "cells": [
    {
      "cell_type": "markdown",
      "metadata": {},
      "source": [
        "\n# Real-time feedback for decoding :: Server Side\n\nThis example demonstrates how to setup a real-time feedback\nmechanism using StimServer and StimClient.\n\nThe idea here is to display future stimuli for the class which\nis predicted less accurately. This allows on-demand adaptation\nof the stimuli depending on the needs of the classifier.\n\nThis will execute the ``rt_feedback_client.py`` script in a separate\nprocess so that both can run concurrently.\n\nAll brain responses are simulated from a fiff file to make it easy\nto test. However, it should be possible to adapt this script\nfor a real experiment.\n"
      ]
    },
    {
      "cell_type": "code",
      "execution_count": null,
      "metadata": {
        "collapsed": false
      },
      "outputs": [],
      "source": [
        "# Author: Mainak Jas <mainak@neuro.hut.fi>\n#\n# License: BSD (3-clause)\n\nimport subprocess\nimport sys\nimport time\n\nimport numpy as np\nimport matplotlib.pyplot as plt\n\nfrom sklearn import preprocessing\nfrom sklearn.svm import SVC\nfrom sklearn.pipeline import Pipeline\nfrom sklearn.model_selection import train_test_split\nfrom sklearn.metrics import confusion_matrix\n\nimport mne\nfrom mne.datasets import sample\nfrom mne.utils import running_subprocess\nfrom mne_realtime import StimServer, MockRtClient\nfrom mne.decoding import Vectorizer\n\nprint(__doc__)\n\n# Load fiff file to simulate data\ndata_path = sample.data_path()\nraw_fname = data_path  / 'MEG' / 'sample' / 'sample_audvis_filt-0-40_raw.fif'\nraw = mne.io.read_raw_fif(raw_fname, preload=True)\n\nfig, ax = plt.subplots(1)\nax.set(xlabel='Trials', ylabel='Classification score (% correct)',\n       title='Real-time feedback')\nisi = 0.01  # this is unrealistic, but will make the example run quickly\nn_trials = 40  # number of trials to simulate\nn_start = 5  # number of trials to run before decoding\nrng = np.random.RandomState(0)\n\n# Instantiating stimulation server\n# The with statement is necessary to ensure a clean exit\nwith StimServer(port=4218) as stim_server:\n\n    # The channels to be used while decoding\n    picks = mne.pick_types(raw.info, meg='grad')\n\n    rt_client = MockRtClient(raw)\n\n    # Constructing the pipeline for classification\n    # don't highpass filter because of short signal length of epochs\n    scaler = preprocessing.StandardScaler()\n    vectorizer = Vectorizer()\n    clf = SVC(C=1, kernel='linear')\n    concat_classifier = Pipeline([('vector', vectorizer),\n                                  ('scaler', scaler), ('svm', clf)])\n    ev_list = list(rng.randint(3, 5, n_start))  # some random starting events\n    score_lv, score_rv, score_x = [], [], []\n\n    command = [sys.executable, 'rt_feedback_client.py']\n    with running_subprocess(command, after='kill',\n                            stdout=subprocess.PIPE, stderr=subprocess.PIPE):\n        for ii in range(n_trials):\n            # Tell the stim_client about the next stimuli\n            stim_server.add_trigger(ev_list[ii])\n\n            # Collecting data\n            if ii == 0:\n                X = rt_client.get_event_data(event_id=ev_list[ii], tmin=-0.2,\n                                             tmax=0.5, picks=picks,\n                                             stim_channel='STI 014')[None, ...]\n                y = ev_list[ii]\n            else:\n                X_temp = rt_client.get_event_data(\n                    event_id=ev_list[ii], tmin=-0.2, tmax=0.5, picks=picks,\n                    stim_channel='STI 014')\n                X_temp = X_temp[np.newaxis]\n                X = np.concatenate((X, X_temp), axis=0)\n                time.sleep(isi)  # simulating the isi\n                y = np.append(y, ev_list[ii])\n\n            # Start decoding after collecting sufficient data\n            if ii >= n_start - 1:\n                # Now start doing rtfeedback\n                X_train, X_test, y_train, y_test = train_test_split(\n                    X, y, test_size=0.2, random_state=rng)\n                y_pred = concat_classifier.fit(X_train,\n                                               y_train).predict(X_test)\n                cm = confusion_matrix(y_test, y_pred)\n                score_lv.append(float(cm[0, 0]) / sum(cm, 1)[0] * 100)\n                score_rv.append(float(cm[1, 1]) / sum(cm, 1)[1] * 100)\n                score_x.append(ii + 1)\n\n                # add events for the lower-performing class\n                ev_list.append(3 if score_lv[-1] < score_rv[-1] else 4)\n                print('Trial %d accuracy: %0.1f%%'\n                      % (ii + 1, np.mean([score_lv[-1], score_rv[-1]])))\n\n                # Now plot the accuracy\n                lvh = ax.plot(score_x[-2:], score_lv[-2:],\n                              c='r', marker='o', ls='-')[0]\n                rvh = ax.plot(score_x[-2:], score_rv[-2:],\n                              c='b', marker='o', ls='-')[0]\n                ax.set(ylim=[0, 100])\n                ax.legend((lvh, rvh), ('LV', 'RV'), loc='upper left')\n                plt.draw()\n                plt.pause(0.01)"
      ]
    }
  ],
  "metadata": {
    "kernelspec": {
      "display_name": "Python 3",
      "language": "python",
      "name": "python3"
    },
    "language_info": {
      "codemirror_mode": {
        "name": "ipython",
        "version": 3
      },
      "file_extension": ".py",
      "mimetype": "text/x-python",
      "name": "python",
      "nbconvert_exporter": "python",
      "pygments_lexer": "ipython3",
      "version": "3.10.6"
    }
  },
  "nbformat": 4,
  "nbformat_minor": 0
}