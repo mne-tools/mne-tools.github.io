{
  "cells": [
    {
      "cell_type": "markdown",
      "metadata": {},
      "source": [
        "\n# Real-time feedback for decoding :: Client Side\n\nThis example demonstrates how to setup a real-time feedback\nmechanism using StimServer and StimClient.\n\nThe idea here is to display future stimuli for the class which\nis predicted less accurately. This allows on-demand adaptation\nof the stimuli depending on the needs of the classifier.\n\nTo run this example, open ipython in two separate terminals.\nIn the first, run rt_feedback_server.py and then wait for the\nmessage\n\n    RtServer: Start\n\nOnce that appears, run rt_feedback_client.py in the other terminal\nand the feedback script should start.\n\nAll brain responses are simulated from a fiff file to make it easy\nto test. However, it should be possible to adapt this script\nfor a real experiment.\n"
      ]
    },
    {
      "cell_type": "code",
      "execution_count": null,
      "metadata": {
        "collapsed": false
      },
      "outputs": [],
      "source": [
        "# Author: Mainak Jas <mainak@neuro.hut.fi>\n#\n# License: BSD (3-clause)\n\nfrom mne_realtime import StimClient\nimport time\n\nprint(__doc__)\n\n# Instantiating stimulation client\n\n# Port number must match port number used to instantiate\n# StimServer. Any port number above 1000 should be fine\n# because they do not require root permission.\nstim_client = StimClient('localhost', port=4218)\n\n\nev_list = list()  # list of events displayed\n\n# start with right checkerboard stimuli. This is required\n# because the ev_list.append(ev_list[-1]) will not work\n# if ev_list is empty.\ntrig = 4\nstim_duration = 1.0\n\n# iterating over 50 epochs\nfor ii in range(50):\n\n    if trig is not None:\n        ev_list.append(trig)  # use the last trigger received\n    else:\n        ev_list.append(ev_list[-1])  # use the last stimuli\n\n    # draw left or right checkerboard according to ev_list\n    if ev_list[ii] == 3:\n        print('Stimulus: left checkerboard')\n    else:\n        print('Stimulus: right checkerboard')\n\n    last_stim_time = time.time()\n    trig = stim_client.get_trigger(timeout=(stim_duration - 0.05))\n\n    time.sleep(max(stim_duration - (time.time() - last_stim_time), 0))\n\n    print('Stimulus: Fixation Cross')"
      ]
    }
  ],
  "metadata": {
    "kernelspec": {
      "display_name": "Python 3",
      "language": "python",
      "name": "python3"
    },
    "language_info": {
      "codemirror_mode": {
        "name": "ipython",
        "version": 3
      },
      "file_extension": ".py",
      "mimetype": "text/x-python",
      "name": "python",
      "nbconvert_exporter": "python",
      "pygments_lexer": "ipython3",
      "version": "3.12.7"
    }
  },
  "nbformat": 4,
  "nbformat_minor": 0
}