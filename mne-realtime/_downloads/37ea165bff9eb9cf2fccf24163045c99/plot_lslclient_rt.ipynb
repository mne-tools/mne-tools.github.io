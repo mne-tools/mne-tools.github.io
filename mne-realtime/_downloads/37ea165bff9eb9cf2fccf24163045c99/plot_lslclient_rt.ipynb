{
  "cells": [
    {
      "cell_type": "markdown",
      "metadata": {},
      "source": [
        "\n# Plot real-time epoch data with LSL client\n\nThis example demonstrates how to use the LSL client to plot real-time\ncollection of event data from an LSL stream.\nFor the purposes of demo, a mock LSL stream is constructed. You can\nreplace this with the stream of your choice by changing the host id to\nthe desired stream.\n"
      ]
    },
    {
      "cell_type": "code",
      "execution_count": null,
      "metadata": {
        "collapsed": false
      },
      "outputs": [],
      "source": [
        "# Author: Teon Brooks <teon.brooks@gmail.com>\n#\n# License: BSD (3-clause)\nimport matplotlib.pyplot as plt\n\nfrom mne.datasets import sample\nfrom mne.io import read_raw_fif\n\nfrom mne_realtime import LSLClient, MockLSLStream\n\nprint(__doc__)\n\n# this is the host id that identifies your stream on LSL\nhost = 'mne_stream'\n# this is the max wait time in seconds until client connection\nwait_max = 5\n\n\n# Load a file to stream raw data\ndata_path = sample.data_path()\nraw_fname = data_path  / 'MEG' / 'sample' / 'sample_audvis_filt-0-40_raw.fif'\nraw = read_raw_fif(raw_fname).crop(0, 30).load_data().pick('eeg')\n\n# For this example, let's use the mock LSL stream.\n_, ax = plt.subplots(1)\nn_epochs = 5\n\n# main function is necessary here to enable script as own program\n# in such way a child process can be started (primarily for Windows)\nif __name__ == '__main__':\n    with MockLSLStream(host, raw, 'eeg'):\n        with LSLClient(info=raw.info, host=host, wait_max=wait_max) as client:\n            client_info = client.get_measurement_info()\n            sfreq = int(client_info['sfreq'])\n\n            # let's observe ten seconds of data\n            for ii in range(n_epochs):\n                print('Got epoch %d/%d' % (ii + 1, n_epochs))\n                plt.cla()\n                epoch = client.get_data_as_epoch(n_samples=sfreq)\n                epoch.average().plot(axes=ax)\n                plt.pause(1.)\n            plt.draw()\nprint('Streams closed')"
      ]
    }
  ],
  "metadata": {
    "kernelspec": {
      "display_name": "Python 3",
      "language": "python",
      "name": "python3"
    },
    "language_info": {
      "codemirror_mode": {
        "name": "ipython",
        "version": 3
      },
      "file_extension": ".py",
      "mimetype": "text/x-python",
      "name": "python",
      "nbconvert_exporter": "python",
      "pygments_lexer": "ipython3",
      "version": "3.10.6"
    }
  },
  "nbformat": 4,
  "nbformat_minor": 0
}