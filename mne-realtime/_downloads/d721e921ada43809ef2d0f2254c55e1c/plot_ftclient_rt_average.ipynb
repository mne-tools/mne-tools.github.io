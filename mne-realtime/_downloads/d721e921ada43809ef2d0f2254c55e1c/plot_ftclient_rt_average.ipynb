{
  "cells": [
    {
      "cell_type": "code",
      "execution_count": null,
      "metadata": {
        "collapsed": false
      },
      "outputs": [],
      "source": [
        "%matplotlib inline"
      ]
    },
    {
      "cell_type": "markdown",
      "metadata": {},
      "source": [
        "\n# Compute real-time evoked responses with FieldTrip client\n\nThis example demonstrates how to connect the MNE real-time\nsystem to the Fieldtrip buffer using FieldTripClient class.\n\nThis example was tested in simulation mode:\n\n.. code-block:: console\n\n    $ neuromag2ft --file MNE-sample-data/MEG/sample/sample_audvis_raw.fif\n\nusing a modified version of ``neuromag2ft`` available\n`here <https://staff.washington.edu/larsoner/minimal_cmds.tar.gz>`__\nto run the FieldTrip buffer. Then running this example acquires the\ndata on the client side.\n\nSince the Fieldtrip buffer does not contain all the\nmeasurement information required by the MNE real-time processing\npipeline, an info dictionary must be provided to instantiate FieldTripClient.\nAlternatively, the MNE-Python script will try to guess the missing\nmeasurement info from the Fieldtrip Header object.\n\nTogether with RtEpochs, this can be used to compute evoked\nresponses using moving averages.\n"
      ]
    },
    {
      "cell_type": "code",
      "execution_count": null,
      "metadata": {
        "collapsed": false
      },
      "outputs": [],
      "source": [
        "# Author: Mainak Jas <mainak@neuro.hut.fi>\n#\n# License: BSD (3-clause)\n\nimport os.path as op\nimport matplotlib.pyplot as plt\nimport subprocess\n\nimport mne\nfrom mne.viz import plot_events\nfrom mne.utils import running_subprocess\n\nfrom mne_realtime import FieldTripClient, RtEpochs\n\nprint(__doc__)\n\n# user should provide info and list of bad channels because\n# FieldTrip header object does not provide them\ndata_path = mne.datasets.sample.data_path()\ninfo = mne.io.read_info(op.join(data_path, 'MEG', 'sample',\n                                'sample_audvis_raw.fif'))\n\n# select the left-auditory condition\nevent_id, tmin, tmax = 1, -0.2, 0.5\n\n# user must provide list of bad channels because\n# FieldTrip header object does not provide that\nbads = ['MEG 2443', 'EEG 053']\n\n_, ax = plt.subplots(2, 1, figsize=(8, 8))  # create subplots\n\nspeedup = 10\ncommand = [\"neuromag2ft\", \"--file\",\n           \"{}/MEG/sample/sample_audvis_raw.fif\".format(data_path),\n           \"--speed\", str(speedup)]\nwith running_subprocess(command, after='kill',\n                        stdout=subprocess.PIPE, stderr=subprocess.PIPE):\n    with FieldTripClient(host='localhost', port=1972,\n                         tmax=30, wait_max=5, info=info) as rt_client:\n\n        # get measurement info guessed by MNE-Python\n        raw_info = rt_client.get_measurement_info()\n\n        # select gradiometers\n        picks = mne.pick_types(raw_info, meg='grad', eeg=False, eog=True,\n                               stim=True, exclude=bads)\n\n        # create the real-time epochs object and start acquisition\n        rt_epochs = RtEpochs(rt_client, event_id, tmin, tmax,\n                             stim_channel='STI 014', picks=picks,\n                             reject=dict(grad=4000e-13, eog=150e-6),\n                             decim=1, isi_max=2.0, proj=None)\n        rt_epochs.start()\n        for ii, ev in enumerate(rt_epochs.iter_evoked()):\n            print(\"Just got epoch %d\" % (ii + 1))\n\n            ev.pick_types(meg=True, eog=False)\n            if ii == 0:\n                evoked = ev\n            else:\n                evoked = mne.combine_evoked([evoked, ev], weights='nave')\n\n            ax[0].cla()\n            ax[1].cla()  # clear axis\n\n            plot_events(rt_epochs.events[-5:], sfreq=ev.info['sfreq'],\n                        first_samp=-rt_client.tmin_samp, axes=ax[0])\n\n            # plot on second subplot\n            evoked.plot(axes=ax[1], selectable=False, time_unit='s')\n            ax[1].set_title('Evoked response for gradiometer channels'\n                            '(event_id = %d)' % event_id)\n\n            plt.pause(0.05 / speedup)\n            plt.draw()\n        rt_epochs.stop()"
      ]
    }
  ],
  "metadata": {
    "kernelspec": {
      "display_name": "Python 3",
      "language": "python",
      "name": "python3"
    },
    "language_info": {
      "codemirror_mode": {
        "name": "ipython",
        "version": 3
      },
      "file_extension": ".py",
      "mimetype": "text/x-python",
      "name": "python",
      "nbconvert_exporter": "python",
      "pygments_lexer": "ipython3",
      "version": "3.9.7"
    }
  },
  "nbformat": 4,
  "nbformat_minor": 0
}