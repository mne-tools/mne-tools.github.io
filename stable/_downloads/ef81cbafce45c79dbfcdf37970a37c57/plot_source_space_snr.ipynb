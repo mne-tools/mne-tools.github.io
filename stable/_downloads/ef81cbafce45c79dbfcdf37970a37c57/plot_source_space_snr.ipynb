{
  "cells": [
    {
      "cell_type": "code",
      "execution_count": null,
      "metadata": {
        "collapsed": false
      },
      "outputs": [],
      "source": [
        "%matplotlib inline"
      ]
    },
    {
      "cell_type": "markdown",
      "metadata": {},
      "source": [
        "\n# Computing source space SNR\n\nThis example shows how to compute and plot source space SNR as in\n:footcite:`GoldenholzEtAl2009`.\n"
      ]
    },
    {
      "cell_type": "code",
      "execution_count": null,
      "metadata": {
        "collapsed": false
      },
      "outputs": [],
      "source": [
        "# Author: Padma Sundaram <tottochan@gmail.com>\n#         Kaisu Lankinen <klankinen@mgh.harvard.edu>\n#\n# License: BSD (3-clause)\n\n\nimport mne\nfrom mne.datasets import sample\nfrom mne.minimum_norm import make_inverse_operator, apply_inverse\nimport numpy as np\nimport matplotlib.pyplot as plt\n\nprint(__doc__)\n\ndata_path = sample.data_path()\nsubjects_dir = data_path + '/subjects'\n\n# Read data\nfname_evoked = data_path + '/MEG/sample/sample_audvis-ave.fif'\nevoked = mne.read_evokeds(fname_evoked, condition='Left Auditory',\n                          baseline=(None, 0))\nfname_fwd = data_path + '/MEG/sample/sample_audvis-meg-eeg-oct-6-fwd.fif'\nfname_cov = data_path + '/MEG/sample/sample_audvis-cov.fif'\nfwd = mne.read_forward_solution(fname_fwd)\ncov = mne.read_cov(fname_cov)\n\n# Read inverse operator:\ninv_op = make_inverse_operator(evoked.info, fwd, cov, fixed=True, verbose=True)\n\n# Calculate MNE:\nsnr = 3.0\nlambda2 = 1.0 / snr ** 2\nstc = apply_inverse(evoked, inv_op, lambda2, 'MNE', verbose=True)\n\n# Calculate SNR in source space:\nsnr_stc = stc.estimate_snr(evoked.info, fwd, cov)\n\n# Plot an average SNR across source points over time:\nave = np.mean(snr_stc.data, axis=0)\n\nfig, ax = plt.subplots()\nax.plot(evoked.times, ave)\nax.set(xlabel='Time (sec)', ylabel='SNR MEG-EEG')\nfig.tight_layout()\n\n# Find time point of maximum SNR\nmaxidx = np.argmax(ave)\n\n# Plot SNR on source space at the time point of maximum SNR:\nkwargs = dict(initial_time=evoked.times[maxidx], hemi='split',\n              views=['lat', 'med'], subjects_dir=subjects_dir, size=(600, 600),\n              clim=dict(kind='value', lims=(-100, -70, -40)),\n              transparent=True, colormap='viridis')\nbrain = snr_stc.plot(**kwargs)"
      ]
    },
    {
      "cell_type": "markdown",
      "metadata": {},
      "source": [
        "## EEG\nNext we do the same for EEG and plot the result on the cortex:\n\n"
      ]
    },
    {
      "cell_type": "code",
      "execution_count": null,
      "metadata": {
        "collapsed": false
      },
      "outputs": [],
      "source": [
        "evoked_eeg = evoked.copy().pick_types(eeg=True, meg=False)\ninv_op_eeg = make_inverse_operator(evoked_eeg.info, fwd, cov, fixed=True,\n                                   verbose=True)\nstc_eeg = apply_inverse(evoked_eeg, inv_op_eeg, lambda2, 'MNE', verbose=True)\nsnr_stc_eeg = stc_eeg.estimate_snr(evoked_eeg.info, fwd, cov)\nbrain = snr_stc_eeg.plot(**kwargs)"
      ]
    },
    {
      "cell_type": "markdown",
      "metadata": {},
      "source": [
        "The same can be done for MEG, which looks more similar to the MEG-EEG case\nthan the EEG case does.\n\n## References\n.. footbibliography::\n\n"
      ]
    }
  ],
  "metadata": {
    "kernelspec": {
      "display_name": "Python 3",
      "language": "python",
      "name": "python3"
    },
    "language_info": {
      "codemirror_mode": {
        "name": "ipython",
        "version": 3
      },
      "file_extension": ".py",
      "mimetype": "text/x-python",
      "name": "python",
      "nbconvert_exporter": "python",
      "pygments_lexer": "ipython3",
      "version": "3.8.5"
    }
  },
  "nbformat": 4,
  "nbformat_minor": 0
}