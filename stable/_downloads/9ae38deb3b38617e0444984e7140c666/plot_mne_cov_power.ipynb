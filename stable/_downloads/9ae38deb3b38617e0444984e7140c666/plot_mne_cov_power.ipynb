{
  "cells": [
    {
      "cell_type": "code",
      "execution_count": null,
      "metadata": {
        "collapsed": false
      },
      "outputs": [],
      "source": [
        "%matplotlib inline"
      ]
    },
    {
      "cell_type": "markdown",
      "metadata": {},
      "source": [
        "\n# Compute source power estimate by projecting the covariance with MNE\n\nWe can apply the MNE inverse operator to a covariance matrix to obtain\nan estimate of source power. This is computationally more efficient than first\nestimating the source timecourses and then computing their power. This\ncode is based on the code from :footcite:`Sabbagh2020` and has been useful to\ncorrect for individual field spread using source localization in the context of\npredictive modeling.\n\n## References\n.. footbibliography::\n"
      ]
    },
    {
      "cell_type": "code",
      "execution_count": null,
      "metadata": {
        "collapsed": false
      },
      "outputs": [],
      "source": [
        "# Author: Denis A. Engemann <denis-alexander.engemann@inria.fr>\n#         Luke Bloy <luke.bloy@gmail.com>\n#\n# License: BSD (3-clause)\n\nimport os.path as op\nimport numpy as np\n\nimport mne\nfrom mne.datasets import sample\nfrom mne.minimum_norm import make_inverse_operator, apply_inverse_cov\n\ndata_path = sample.data_path()\nsubjects_dir = data_path + '/subjects'\nraw_fname = data_path + '/MEG/sample/sample_audvis_filt-0-40_raw.fif'\nraw = mne.io.read_raw_fif(raw_fname)"
      ]
    },
    {
      "cell_type": "markdown",
      "metadata": {},
      "source": [
        "## Compute empty-room covariance\nFirst we compute an empty-room covariance, which captures noise from the\nsensors and environment.\n\n"
      ]
    },
    {
      "cell_type": "code",
      "execution_count": null,
      "metadata": {
        "collapsed": false
      },
      "outputs": [],
      "source": [
        "raw_empty_room_fname = op.join(\n    data_path, 'MEG', 'sample', 'ernoise_raw.fif')\nraw_empty_room = mne.io.read_raw_fif(raw_empty_room_fname)\nraw_empty_room.crop(0, 60)\nraw_empty_room.info['bads'] = ['MEG 2443']\nraw_empty_room.info['projs'] = raw.info['projs']\nnoise_cov = mne.compute_raw_covariance(\n    raw_empty_room, method=['empirical', 'shrunk'])\ndel raw_empty_room"
      ]
    },
    {
      "cell_type": "markdown",
      "metadata": {},
      "source": [
        "## Epoch the data\n\n"
      ]
    },
    {
      "cell_type": "code",
      "execution_count": null,
      "metadata": {
        "collapsed": false
      },
      "outputs": [],
      "source": [
        "raw.info['bads'] = ['MEG 2443', 'EEG 053']\nraw.load_data().filter(4, 12)\nevents = mne.find_events(raw, stim_channel='STI 014')\nevent_id = dict(aud_l=1, aud_r=2, vis_l=3, vis_r=4)\ntmin, tmax = -0.2, 0.5\nbaseline = (None, 0)  # means from the first instant to t = 0\nreject = dict(grad=4000e-13, mag=4e-12, eog=150e-6)\nepochs = mne.Epochs(raw.copy().filter(4, 12), events, event_id, tmin, tmax,\n                    proj=True, picks=('meg', 'eog'), baseline=None,\n                    reject=reject, preload=True)\ndel raw"
      ]
    },
    {
      "cell_type": "markdown",
      "metadata": {},
      "source": [
        "## Compute and plot covariances\nIn addition to the empty-room covariance above, we compute two additional\ncovariances:\n\n1. Baseline covariance, which captures signals not of interest in our\n   analysis (e.g., sensor noise, environmental noise, physiological\n   artifacts, and also resting-state-like brain activity / \"noise\").\n2. Data covariance, which captures our activation of interest (in addition\n   to noise sources).\n\n"
      ]
    },
    {
      "cell_type": "code",
      "execution_count": null,
      "metadata": {
        "collapsed": false
      },
      "outputs": [],
      "source": [
        "base_cov = mne.compute_covariance(\n    epochs, tmin=-0.2, tmax=0, method=['shrunk', 'empirical'], rank=None,\n    verbose=True)\ndata_cov = mne.compute_covariance(\n    epochs, tmin=0., tmax=0.2, method=['shrunk', 'empirical'], rank=None,\n    verbose=True)\n\nfig_noise_cov = mne.viz.plot_cov(noise_cov, epochs.info, show_svd=False)\nfig_base_cov = mne.viz.plot_cov(base_cov, epochs.info, show_svd=False)\nfig_data_cov = mne.viz.plot_cov(data_cov, epochs.info, show_svd=False)"
      ]
    },
    {
      "cell_type": "markdown",
      "metadata": {},
      "source": [
        "We can also look at the covariances using topomaps, here we just show the\nbaseline and data covariances, followed by the data covariance whitened\nby the baseline covariance:\n\n"
      ]
    },
    {
      "cell_type": "code",
      "execution_count": null,
      "metadata": {
        "collapsed": false
      },
      "outputs": [],
      "source": [
        "evoked = epochs.average().pick('meg')\nevoked.drop_channels(evoked.info['bads'])\nevoked.plot(time_unit='s')\nevoked.plot_topomap(times=np.linspace(0.05, 0.15, 5), ch_type='mag')\nnoise_cov.plot_topomap(evoked.info, 'grad', title='Noise')\ndata_cov.plot_topomap(evoked.info, 'grad', title='Data')\ndata_cov.plot_topomap(evoked.info, 'grad', noise_cov=noise_cov,\n                      title='Whitened data')"
      ]
    },
    {
      "cell_type": "markdown",
      "metadata": {},
      "source": [
        "## Apply inverse operator to covariance\nFinally, we can construct an inverse using the empty-room noise covariance:\n\n"
      ]
    },
    {
      "cell_type": "code",
      "execution_count": null,
      "metadata": {
        "collapsed": false
      },
      "outputs": [],
      "source": [
        "# Read the forward solution and compute the inverse operator\nfname_fwd = data_path + '/MEG/sample/sample_audvis-meg-oct-6-fwd.fif'\nfwd = mne.read_forward_solution(fname_fwd)\n\n# make an MEG inverse operator\ninfo = evoked.info\ninverse_operator = make_inverse_operator(info, fwd, noise_cov,\n                                         loose=0.2, depth=0.8)"
      ]
    },
    {
      "cell_type": "markdown",
      "metadata": {},
      "source": [
        "Project our data and baseline covariance to source space:\n\n"
      ]
    },
    {
      "cell_type": "code",
      "execution_count": null,
      "metadata": {
        "collapsed": false
      },
      "outputs": [],
      "source": [
        "stc_data = apply_inverse_cov(data_cov, evoked.info, inverse_operator,\n                             nave=len(epochs), method='dSPM', verbose=True)\nstc_base = apply_inverse_cov(base_cov, evoked.info, inverse_operator,\n                             nave=len(epochs), method='dSPM', verbose=True)"
      ]
    },
    {
      "cell_type": "markdown",
      "metadata": {},
      "source": [
        "And visualize power is relative to the baseline:\n\n"
      ]
    },
    {
      "cell_type": "code",
      "execution_count": null,
      "metadata": {
        "collapsed": false
      },
      "outputs": [],
      "source": [
        "stc_data /= stc_base\nbrain = stc_data.plot(subject='sample', subjects_dir=subjects_dir,\n                      clim=dict(kind='percent', lims=(50, 90, 98)))"
      ]
    }
  ],
  "metadata": {
    "kernelspec": {
      "display_name": "Python 3",
      "language": "python",
      "name": "python3"
    },
    "language_info": {
      "codemirror_mode": {
        "name": "ipython",
        "version": 3
      },
      "file_extension": ".py",
      "mimetype": "text/x-python",
      "name": "python",
      "nbconvert_exporter": "python",
      "pygments_lexer": "ipython3",
      "version": "3.8.5"
    }
  },
  "nbformat": 4,
  "nbformat_minor": 0
}