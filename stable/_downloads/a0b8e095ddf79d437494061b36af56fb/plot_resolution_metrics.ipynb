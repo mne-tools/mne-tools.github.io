{
  "cells": [
    {
      "cell_type": "code",
      "execution_count": null,
      "metadata": {
        "collapsed": false
      },
      "outputs": [],
      "source": [
        "%matplotlib inline"
      ]
    },
    {
      "cell_type": "markdown",
      "metadata": {},
      "source": [
        "\n# Compute spatial resolution metrics in source space\n\nCompute peak localisation error and spatial deviation for the point-spread\nfunctions of dSPM and MNE. Plot their distributions and difference of\ndistributions. This example mimics some results from :footcite:`HaukEtAl2019`,\nnamely Figure 3 (peak localisation error for PSFs, L2-MNE vs dSPM) and Figure 4\n(spatial deviation for PSFs, L2-MNE vs dSPM).\n"
      ]
    },
    {
      "cell_type": "code",
      "execution_count": null,
      "metadata": {
        "collapsed": false
      },
      "outputs": [],
      "source": [
        "# Author: Olaf Hauk <olaf.hauk@mrc-cbu.cam.ac.uk>\n#\n# License: BSD (3-clause)\n\nimport mne\nfrom mne.datasets import sample\nfrom mne.minimum_norm import make_inverse_resolution_matrix\nfrom mne.minimum_norm import resolution_metrics\n\nprint(__doc__)\n\ndata_path = sample.data_path()\nsubjects_dir = data_path + '/subjects/'\nfname_fwd = data_path + '/MEG/sample/sample_audvis-meg-eeg-oct-6-fwd.fif'\nfname_cov = data_path + '/MEG/sample/sample_audvis-cov.fif'\nfname_evo = data_path + '/MEG/sample/sample_audvis-ave.fif'\n\n# read forward solution\nforward = mne.read_forward_solution(fname_fwd)\n# forward operator with fixed source orientations\nmne.convert_forward_solution(forward, surf_ori=True,\n                             force_fixed=True, copy=False)\n\n# noise covariance matrix\nnoise_cov = mne.read_cov(fname_cov)\n\n# evoked data for info\nevoked = mne.read_evokeds(fname_evo, 0)\n\n# make inverse operator from forward solution\n# free source orientation\ninverse_operator = mne.minimum_norm.make_inverse_operator(\n    info=evoked.info, forward=forward, noise_cov=noise_cov, loose=0.,\n    depth=None)\n\n# regularisation parameter\nsnr = 3.0\nlambda2 = 1.0 / snr ** 2"
      ]
    },
    {
      "cell_type": "markdown",
      "metadata": {},
      "source": [
        "## MNE\nCompute resolution matrices, peak localisation error (PLE) for point spread\nfunctions (PSFs), spatial deviation (SD) for PSFs:\n\n"
      ]
    },
    {
      "cell_type": "code",
      "execution_count": null,
      "metadata": {
        "collapsed": false
      },
      "outputs": [],
      "source": [
        "rm_mne = make_inverse_resolution_matrix(forward, inverse_operator,\n                                        method='MNE', lambda2=lambda2)\nple_mne_psf = resolution_metrics(rm_mne, inverse_operator['src'],\n                                 function='psf', metric='peak_err')\nsd_mne_psf = resolution_metrics(rm_mne, inverse_operator['src'],\n                                function='psf', metric='sd_ext')\ndel rm_mne"
      ]
    },
    {
      "cell_type": "markdown",
      "metadata": {},
      "source": [
        "## dSPM\nDo the same for dSPM:\n\n"
      ]
    },
    {
      "cell_type": "code",
      "execution_count": null,
      "metadata": {
        "collapsed": false
      },
      "outputs": [],
      "source": [
        "rm_dspm = make_inverse_resolution_matrix(forward, inverse_operator,\n                                         method='dSPM', lambda2=lambda2)\nple_dspm_psf = resolution_metrics(rm_dspm, inverse_operator['src'],\n                                  function='psf', metric='peak_err')\nsd_dspm_psf = resolution_metrics(rm_dspm, inverse_operator['src'],\n                                 function='psf', metric='sd_ext')\ndel rm_dspm, forward"
      ]
    },
    {
      "cell_type": "markdown",
      "metadata": {},
      "source": [
        "## Visualize results\nVisualise peak localisation error (PLE) across the whole cortex for MNE PSF:\n\n"
      ]
    },
    {
      "cell_type": "code",
      "execution_count": null,
      "metadata": {
        "collapsed": false
      },
      "outputs": [],
      "source": [
        "brain_ple_mne = ple_mne_psf.plot('sample', 'inflated', 'lh',\n                                 subjects_dir=subjects_dir, figure=1,\n                                 clim=dict(kind='value', lims=(0, 2, 4)))\nbrain_ple_mne.add_text(0.1, 0.9, 'PLE MNE', 'title', font_size=16)"
      ]
    },
    {
      "cell_type": "markdown",
      "metadata": {},
      "source": [
        "And dSPM:\n\n"
      ]
    },
    {
      "cell_type": "code",
      "execution_count": null,
      "metadata": {
        "collapsed": false
      },
      "outputs": [],
      "source": [
        "brain_ple_dspm = ple_dspm_psf.plot('sample', 'inflated', 'lh',\n                                   subjects_dir=subjects_dir, figure=2,\n                                   clim=dict(kind='value', lims=(0, 2, 4)))\nbrain_ple_dspm.add_text(0.1, 0.9, 'PLE dSPM', 'title', font_size=16)"
      ]
    },
    {
      "cell_type": "markdown",
      "metadata": {},
      "source": [
        "Subtract the two distributions and plot this difference\n\n"
      ]
    },
    {
      "cell_type": "code",
      "execution_count": null,
      "metadata": {
        "collapsed": false
      },
      "outputs": [],
      "source": [
        "diff_ple = ple_mne_psf - ple_dspm_psf\n\nbrain_ple_diff = diff_ple.plot('sample', 'inflated', 'lh',\n                               subjects_dir=subjects_dir, figure=3,\n                               clim=dict(kind='value', pos_lims=(0., 1., 2.)))\nbrain_ple_diff.add_text(0.1, 0.9, 'PLE MNE-dSPM', 'title', font_size=16)"
      ]
    },
    {
      "cell_type": "markdown",
      "metadata": {},
      "source": [
        "These plots show that  dSPM has generally lower peak localization error (red\ncolor) than MNE in deeper brain areas, but higher error (blue color) in more\nsuperficial areas.\n\nNext we'll visualise spatial deviation (SD) across the whole cortex for MNE\nPSF:\n\n"
      ]
    },
    {
      "cell_type": "code",
      "execution_count": null,
      "metadata": {
        "collapsed": false
      },
      "outputs": [],
      "source": [
        "brain_sd_mne = sd_mne_psf.plot('sample', 'inflated', 'lh',\n                               subjects_dir=subjects_dir, figure=4,\n                               clim=dict(kind='value', lims=(0, 2, 4)))\nbrain_sd_mne.add_text(0.1, 0.9, 'SD MNE', 'title', font_size=16)"
      ]
    },
    {
      "cell_type": "markdown",
      "metadata": {},
      "source": [
        "And dSPM:\n\n"
      ]
    },
    {
      "cell_type": "code",
      "execution_count": null,
      "metadata": {
        "collapsed": false
      },
      "outputs": [],
      "source": [
        "brain_sd_dspm = sd_dspm_psf.plot('sample', 'inflated', 'lh',\n                                 subjects_dir=subjects_dir, figure=5,\n                                 clim=dict(kind='value', lims=(0, 2, 4)))\nbrain_sd_dspm.add_text(0.1, 0.9, 'SD dSPM', 'title', font_size=16)"
      ]
    },
    {
      "cell_type": "markdown",
      "metadata": {},
      "source": [
        "Subtract the two distributions and plot this difference:\n\n"
      ]
    },
    {
      "cell_type": "code",
      "execution_count": null,
      "metadata": {
        "collapsed": false
      },
      "outputs": [],
      "source": [
        "diff_sd = sd_mne_psf - sd_dspm_psf\n\nbrain_sd_diff = diff_sd.plot('sample', 'inflated', 'lh',\n                             subjects_dir=subjects_dir, figure=6,\n                             clim=dict(kind='value', pos_lims=(0., 1., 2.)))\nbrain_sd_diff.add_text(0.1, 0.9, 'SD MNE-dSPM', 'title', font_size=16)"
      ]
    },
    {
      "cell_type": "markdown",
      "metadata": {},
      "source": [
        "These plots show that dSPM has generally higher spatial deviation than MNE\n(blue color), i.e. worse performance to distinguish different sources.\n\n## References\n.. footbibliography::\n\n"
      ]
    }
  ],
  "metadata": {
    "kernelspec": {
      "display_name": "Python 3",
      "language": "python",
      "name": "python3"
    },
    "language_info": {
      "codemirror_mode": {
        "name": "ipython",
        "version": 3
      },
      "file_extension": ".py",
      "mimetype": "text/x-python",
      "name": "python",
      "nbconvert_exporter": "python",
      "pygments_lexer": "ipython3",
      "version": "3.8.5"
    }
  },
  "nbformat": 4,
  "nbformat_minor": 0
}