{
  "cells": [
    {
      "cell_type": "code",
      "execution_count": null,
      "metadata": {
        "collapsed": false
      },
      "outputs": [],
      "source": [
        "%matplotlib inline"
      ]
    },
    {
      "cell_type": "markdown",
      "metadata": {},
      "source": [
        "\n\n# Find MEG reference channel artifacts\n\nUse ICA decompositions of MEG reference channels to remove intermittent noise.\n\nMany MEG systems have an array of reference channels which are used to detect\nexternal magnetic noise. However, standard techniques that use reference\nchannels to remove noise from standard channels often fail when noise is\nintermittent. The technique described here (using ICA on the reference\nchannels) often succeeds where the standard techniques do not.\n\nThere are two algorithms to choose from: separate and together (default). In\nthe \"separate\" algorithm, two ICA decompositions are made: one on the reference\nchannels, and one on reference + standard channels. The reference + standard\nchannel components which correlate with the reference channel components are\nremoved.\n\nIn the \"together\" algorithm, a single ICA decomposition is made on reference +\nstandard channels, and those components whose weights are particularly heavy\non the reference channels are removed.\n\nThis technique is fully described and validated in :footcite:`HannaEtAl2020`\n"
      ]
    },
    {
      "cell_type": "code",
      "execution_count": null,
      "metadata": {
        "collapsed": false
      },
      "outputs": [],
      "source": [
        "# Authors: Jeff Hanna <jeff.hanna@gmail.com>\n#\n# License: BSD (3-clause)\n\nimport mne\nfrom mne import io\nfrom mne.datasets import refmeg_noise\nfrom mne.preprocessing import ICA\nimport numpy as np\n\nprint(__doc__)\n\ndata_path = refmeg_noise.data_path()"
      ]
    },
    {
      "cell_type": "markdown",
      "metadata": {},
      "source": [
        "Read raw data, cropping to 5 minutes to save memory\n\n"
      ]
    },
    {
      "cell_type": "code",
      "execution_count": null,
      "metadata": {
        "collapsed": false
      },
      "outputs": [],
      "source": [
        "raw_fname = data_path + '/sample_reference_MEG_noise-raw.fif'\nraw = io.read_raw_fif(raw_fname).crop(300, 600).load_data()"
      ]
    },
    {
      "cell_type": "markdown",
      "metadata": {},
      "source": [
        "Note that even though standard noise removal has already\nbeen applied to these data, much of the noise in the reference channels\n(bottom of the plot) can still be seen in the standard channels.\n\n"
      ]
    },
    {
      "cell_type": "code",
      "execution_count": null,
      "metadata": {
        "collapsed": false
      },
      "outputs": [],
      "source": [
        "select_picks = np.concatenate(\n    (mne.pick_types(raw.info, meg=True)[-32:],\n     mne.pick_types(raw.info, meg=False, ref_meg=True)))\nplot_kwargs = dict(\n    duration=100, order=select_picks, n_channels=len(select_picks),\n    scalings={\"mag\": 8e-13, \"ref_meg\": 2e-11})\nraw.plot(**plot_kwargs)"
      ]
    },
    {
      "cell_type": "markdown",
      "metadata": {},
      "source": [
        "The PSD of these data show the noise as clear peaks.\n\n"
      ]
    },
    {
      "cell_type": "code",
      "execution_count": null,
      "metadata": {
        "collapsed": false
      },
      "outputs": [],
      "source": [
        "raw.plot_psd(fmax=30)"
      ]
    },
    {
      "cell_type": "markdown",
      "metadata": {},
      "source": [
        "Run the \"together\" algorithm.\n\n"
      ]
    },
    {
      "cell_type": "code",
      "execution_count": null,
      "metadata": {
        "collapsed": false
      },
      "outputs": [],
      "source": [
        "raw_tog = raw.copy()\nica_kwargs = dict(\n    method='picard',\n    fit_params=dict(tol=1e-4),  # use a high tol here for speed\n)\nall_picks = mne.pick_types(raw_tog.info, meg=True, ref_meg=True)\nica_tog = ICA(n_components=60, allow_ref_meg=True, **ica_kwargs)\nica_tog.fit(raw_tog, picks=all_picks)\n# low threshold (2.0) here because of cropped data, entire recording can use\n# a higher threshold (2.5)\nbad_comps, scores = ica_tog.find_bads_ref(raw_tog, threshold=2.0)\n\n# Plot scores with bad components marked.\nica_tog.plot_scores(scores, bad_comps)\n\n# Examine the properties of removed components. It's clear from the time\n# courses and topographies that these components represent external,\n# intermittent noise.\nica_tog.plot_properties(raw_tog, picks=bad_comps)\n\n# Remove the components.\nraw_tog = ica_tog.apply(raw_tog, exclude=bad_comps)"
      ]
    },
    {
      "cell_type": "markdown",
      "metadata": {},
      "source": [
        "Cleaned data:\n\n"
      ]
    },
    {
      "cell_type": "code",
      "execution_count": null,
      "metadata": {
        "collapsed": false
      },
      "outputs": [],
      "source": [
        "raw_tog.plot_psd(fmax=30)"
      ]
    },
    {
      "cell_type": "markdown",
      "metadata": {},
      "source": [
        "Now try the \"separate\" algorithm.\n\n"
      ]
    },
    {
      "cell_type": "code",
      "execution_count": null,
      "metadata": {
        "collapsed": false
      },
      "outputs": [],
      "source": [
        "raw_sep = raw.copy()\n\n# Do ICA only on the reference channels.\nref_picks = mne.pick_types(raw_sep.info, meg=False, ref_meg=True)\nica_ref = ICA(n_components=2, allow_ref_meg=True, **ica_kwargs)\nica_ref.fit(raw_sep, picks=ref_picks)\n\n# Do ICA on both reference and standard channels. Here, we can just reuse\n# ica_tog from the section above.\nica_sep = ica_tog.copy()\n\n# Extract the time courses of these components and add them as channels\n# to the raw data. Think of them the same way as EOG/EKG channels, but instead\n# of giving info about eye movements/cardiac activity, they give info about\n# external magnetic noise.\nref_comps = ica_ref.get_sources(raw_sep)\nfor c in ref_comps.ch_names:  # they need to have REF_ prefix to be recognised\n    ref_comps.rename_channels({c: \"REF_\" + c})\nraw_sep.add_channels([ref_comps])\n\n# Now that we have our noise channels, we run the separate algorithm.\nbad_comps, scores = ica_sep.find_bads_ref(raw_sep, method=\"separate\")\n\n# Plot scores with bad components marked.\nica_sep.plot_scores(scores, bad_comps)\n\n# Examine the properties of removed components.\nica_sep.plot_properties(raw_sep, picks=bad_comps)\n\n# Remove the components.\nraw_sep = ica_sep.apply(raw_sep, exclude=bad_comps)"
      ]
    },
    {
      "cell_type": "markdown",
      "metadata": {},
      "source": [
        "Cleaned raw data traces:\n\n"
      ]
    },
    {
      "cell_type": "code",
      "execution_count": null,
      "metadata": {
        "collapsed": false
      },
      "outputs": [],
      "source": [
        "raw_sep.plot(**plot_kwargs)"
      ]
    },
    {
      "cell_type": "markdown",
      "metadata": {},
      "source": [
        "Cleaned raw data PSD:\n\n"
      ]
    },
    {
      "cell_type": "code",
      "execution_count": null,
      "metadata": {
        "collapsed": false
      },
      "outputs": [],
      "source": [
        "raw_sep.plot_psd(fmax=30)"
      ]
    },
    {
      "cell_type": "markdown",
      "metadata": {},
      "source": [
        "## References\n\n.. footbibliography::\n\n"
      ]
    }
  ],
  "metadata": {
    "kernelspec": {
      "display_name": "Python 3",
      "language": "python",
      "name": "python3"
    },
    "language_info": {
      "codemirror_mode": {
        "name": "ipython",
        "version": 3
      },
      "file_extension": ".py",
      "mimetype": "text/x-python",
      "name": "python",
      "nbconvert_exporter": "python",
      "pygments_lexer": "ipython3",
      "version": "3.8.5"
    }
  },
  "nbformat": 4,
  "nbformat_minor": 0
}