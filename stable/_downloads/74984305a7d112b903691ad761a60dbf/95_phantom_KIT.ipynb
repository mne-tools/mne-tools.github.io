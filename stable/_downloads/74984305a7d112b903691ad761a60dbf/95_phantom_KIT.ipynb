{
  "cells": [
    {
      "cell_type": "markdown",
      "metadata": {},
      "source": [
        "\n\n# KIT phantom dataset tutorial\n\nHere we read KIT data obtained from a phantom with 49 dipoles sequentially activated\nwith 2-cycle 11 Hz sinusoidal bursts to verify source localization accuracy.\n"
      ]
    },
    {
      "cell_type": "code",
      "execution_count": null,
      "metadata": {
        "collapsed": false
      },
      "outputs": [],
      "source": [
        "# Authors: Eric Larson <larson.eric.d@gmail.com>\n#\n# License: BSD-3-Clause\n# Copyright the MNE-Python contributors."
      ]
    },
    {
      "cell_type": "code",
      "execution_count": null,
      "metadata": {
        "collapsed": false
      },
      "outputs": [],
      "source": [
        "import matplotlib.pyplot as plt\nimport numpy as np\nfrom scipy.signal import find_peaks\n\nimport mne\n\ndata_path = mne.datasets.phantom_kit.data_path()\nactual_pos, actual_ori = mne.dipole.get_phantom_dipoles(\"oyama\")\nactual_pos, actual_ori = actual_pos[:49], actual_ori[:49]  # only 49 of 50 dipoles\n\nraw = mne.io.read_raw_kit(data_path / \"002_phantom_11Hz_100uA.con\")\n# cut from ~800 to ~300s for speed, and also at convenient dip stim boundaries\n# chosen by examining MISC 017 by eye.\nraw.crop(11.5, 302.9).load_data()\nraw.filter(None, 40)  # 11 Hz stimulation, no need to keep higher freqs\nplot_scalings = dict(mag=5e-12)  # large-amplitude sinusoids\nraw_plot_kwargs = dict(duration=15, n_channels=50, scalings=plot_scalings)\nraw.plot(**raw_plot_kwargs)"
      ]
    },
    {
      "cell_type": "markdown",
      "metadata": {},
      "source": [
        "We can also look at the power spectral density to see the phantom oscillations at\n11 Hz plus the expected frequency-domain sinc-like oscillations due to the time-domain\nboxcar windowing of the 11 Hz sinusoid.\n\n"
      ]
    },
    {
      "cell_type": "code",
      "execution_count": null,
      "metadata": {
        "collapsed": false
      },
      "outputs": [],
      "source": [
        "spectrum = raw.copy().crop(0, 60).compute_psd(n_fft=10000)\nfig = spectrum.plot()\nfig.axes[0].set_xlim(0, 50)\ndip_freq = 11.0\nfig.axes[0].axvline(dip_freq, color=\"r\", ls=\"--\", lw=2, zorder=4)"
      ]
    },
    {
      "cell_type": "markdown",
      "metadata": {},
      "source": [
        "To find the events, we can look at the MISC channel that recorded the activations.\nHere we use a very simple thresholding approach to find the events.\nThe MISC 017 channel holds the dipole activations, which are 2-cycle 11 Hz sinusoidal\nbursts with the initial sinusoidal deflection downward, so we do a little bit of\nsignal manipulation to help :func:`~scipy.signal.find_peaks`.\n\n"
      ]
    },
    {
      "cell_type": "code",
      "execution_count": null,
      "metadata": {
        "collapsed": false
      },
      "outputs": [],
      "source": [
        "# Figure out events\ndip_act, dip_t = raw[\"MISC 017\"]\ndip_act = dip_act[0]  # 2D to 1D array\ndip_act -= dip_act.mean()  # remove DC offset\ndip_act *= -1  # invert so first deflection is positive\nthresh = np.percentile(dip_act, 90)\nmin_dist = raw.info[\"sfreq\"] / dip_freq * 0.9  # 90% of period, to be safe\npeaks = find_peaks(dip_act, height=thresh, distance=min_dist)[0]\nassert len(peaks) % 2 == 0  # 2-cycle modulations\npeaks = peaks[::2]  # take only first peaks of each 2-cycle burst\n\nfig, ax = plt.subplots(layout=\"constrained\", figsize=(12, 4))\nstop = int(15 * raw.info[\"sfreq\"])  # 15 sec\nax.plot(dip_t[:stop], dip_act[:stop], color=\"k\", lw=1)\nax.axhline(thresh, color=\"r\", ls=\"--\", lw=1)\npeak_idx = peaks[peaks < stop]\nax.plot(dip_t[peak_idx], dip_act[peak_idx], \"ro\", zorder=5, ms=5)\nax.set(xlabel=\"Time (s)\", ylabel=\"Dipole activation (AU)\\n(MISC 017 adjusted)\")\nax.set(xlim=dip_t[[0, stop - 1]])\n\n# We know that there are 32 dipoles, so mark the first ones as well\nn_dip = 49\nassert len(peaks) % n_dip == 0  # we found them all (hopefully)\nax.plot(dip_t[peak_idx[::n_dip]], dip_act[peak_idx[::n_dip]], \"bo\", zorder=4, ms=10)\n\n# Knowing we've caught the top of the first cycle of a 11 Hz sinusoid, plot onsets\n# with red X's.\nonsets = peaks - np.round(raw.info[\"sfreq\"] / dip_freq / 4.0).astype(\n    int\n)  # shift to start\nonset_idx = onsets[onsets < stop]\nax.plot(dip_t[onset_idx], dip_act[onset_idx], \"rx\", zorder=5, ms=5)"
      ]
    },
    {
      "cell_type": "markdown",
      "metadata": {},
      "source": [
        "Given the onsets are now stored in ``peaks``, we can create our events array and plot\non our raw data.\n\n"
      ]
    },
    {
      "cell_type": "code",
      "execution_count": null,
      "metadata": {
        "collapsed": false
      },
      "outputs": [],
      "source": [
        "n_rep = len(peaks) // n_dip\nevents = np.zeros((len(peaks), 3), int)\nevents[:, 0] = onsets + raw.first_samp\nevents[:, 2] = np.tile(np.arange(1, n_dip + 1), n_rep)\nraw.plot(events=events, **raw_plot_kwargs)"
      ]
    },
    {
      "cell_type": "markdown",
      "metadata": {},
      "source": [
        "Now  we can figure out our epoching parameters and epoch the data, sanity checking\nsome values along the way knowing how the stimulation was done.\n\n"
      ]
    },
    {
      "cell_type": "code",
      "execution_count": null,
      "metadata": {
        "collapsed": false
      },
      "outputs": [],
      "source": [
        "# Sanity check and determine epoching params\ndeltas = np.diff(events[:, 0], axis=0)\ngroup_deltas = deltas[n_dip - 1 :: n_dip] / raw.info[\"sfreq\"]  # gap between 49 and 1\nassert (group_deltas > 0.8).all()\nassert (group_deltas < 0.9).all()\nothers = np.delete(deltas, np.arange(n_dip - 1, len(deltas), n_dip))  # remove 49->1\nothers = others / raw.info[\"sfreq\"]\nassert (others > 0.25).all()\nassert (others < 0.3).all()\ntmax = 1 / dip_freq * 2.0  # 2 cycles\ntmin = tmax - others.min()\nassert tmin < 0\nepochs = mne.Epochs(\n    raw,\n    events,\n    tmin=tmin,\n    tmax=tmax,\n    baseline=(None, 0),\n    decim=10,\n    picks=\"data\",\n    preload=True,\n)\ndel raw\nepochs.plot(scalings=plot_scalings)"
      ]
    },
    {
      "cell_type": "markdown",
      "metadata": {},
      "source": [
        "Now we can average the epochs for each dipole, get the activation at the peak time,\nand create an :class:`mne.EvokedArray` from the result.\n\n"
      ]
    },
    {
      "cell_type": "code",
      "execution_count": null,
      "metadata": {
        "collapsed": false
      },
      "outputs": [],
      "source": [
        "t_peak = 1.0 / dip_freq / 4.0\ndata = np.zeros((len(epochs.ch_names), n_dip))\nfor di in range(n_dip):\n    data[:, [di]] = epochs[str(di + 1)].average().crop(t_peak, t_peak).data\nevoked = mne.EvokedArray(data, epochs.info, tmin=0, comment=\"KIT phantom activations\")\nevoked.plot_joint()"
      ]
    },
    {
      "cell_type": "markdown",
      "metadata": {},
      "source": [
        "Let's fit dipoles at each dipole's peak activation time.\n\n"
      ]
    },
    {
      "cell_type": "code",
      "execution_count": null,
      "metadata": {
        "collapsed": false
      },
      "outputs": [],
      "source": [
        "trans = mne.transforms.Transform(\"head\", \"mri\", np.eye(4))\nsphere = mne.make_sphere_model(r0=(0.0, 0.0, 0.0), head_radius=0.08)\ncov = mne.compute_covariance(epochs, tmax=0, method=\"empirical\")\n# We need to correct the ``dev_head_t`` because it's incorrect for these data!\n# relative to the helmet: hleft, forward, up\ntranslation = mne.transforms.translation(x=0.01, y=-0.015, z=-0.088)\n# pitch down (rot about x/R), roll left (rot about y/A), yaw left (rot about z/S)\nrotation = mne.transforms.rotation(\n    x=np.deg2rad(5),\n    y=np.deg2rad(-1),\n    z=np.deg2rad(-3),\n)\nevoked.info[\"dev_head_t\"][\"trans\"][:] = translation @ rotation\ndip, residual = mne.fit_dipole(evoked, cov, sphere, n_jobs=None)"
      ]
    },
    {
      "cell_type": "markdown",
      "metadata": {},
      "source": [
        "Finally let's look at the results.\n\n"
      ]
    },
    {
      "cell_type": "code",
      "execution_count": null,
      "metadata": {
        "collapsed": false
      },
      "outputs": [],
      "source": [
        "print(f\"Average amplitude: {np.mean(dip.amplitude) * 1e9:0.1f} nAm\")\nprint(f\"Average GOF:       {np.mean(dip.gof):0.1f}%\")\ndiffs = 1000 * np.sqrt(np.sum((dip.pos - actual_pos) ** 2, axis=-1))\nprint(f\"Average loc error: {np.mean(diffs):0.1f} mm\")\nangles = np.rad2deg(np.arccos(np.abs(np.sum(dip.ori * actual_ori, axis=1))))\nprint(f\"Average ori error: {np.mean(angles):0.1f}\u00b0\")\n\nfig = mne.viz.plot_alignment(\n    evoked.info,\n    trans,\n    bem=sphere,\n    coord_frame=\"head\",\n    meg=\"helmet\",\n    show_axes=True,\n)\nfig = mne.viz.plot_dipole_locations(\n    dipoles=dip, mode=\"arrow\", color=(0.2, 1.0, 0.5), fig=fig\n)\n\nactual_amp = np.ones(len(dip))  # misc amp to create Dipole instance\nactual_gof = np.ones(len(dip))  # misc GOF to create Dipole instance\ndip_true = mne.Dipole(dip.times, actual_pos, actual_amp, actual_ori, actual_gof)\nfig = mne.viz.plot_dipole_locations(\n    dipoles=dip_true, mode=\"arrow\", color=(0.0, 0.0, 0.0), fig=fig\n)\n\nmne.viz.set_3d_view(figure=fig, azimuth=90, elevation=90, distance=0.5)"
      ]
    }
  ],
  "metadata": {
    "kernelspec": {
      "display_name": "Python 3",
      "language": "python",
      "name": "python3"
    },
    "language_info": {
      "codemirror_mode": {
        "name": "ipython",
        "version": 3
      },
      "file_extension": ".py",
      "mimetype": "text/x-python",
      "name": "python",
      "nbconvert_exporter": "python",
      "pygments_lexer": "ipython3",
      "version": "3.10.12"
    }
  },
  "nbformat": 4,
  "nbformat_minor": 0
}