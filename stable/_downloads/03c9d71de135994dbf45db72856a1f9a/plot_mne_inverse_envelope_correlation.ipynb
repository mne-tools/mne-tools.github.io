{
  "cells": [
    {
      "cell_type": "code",
      "execution_count": null,
      "metadata": {
        "collapsed": false
      },
      "outputs": [],
      "source": [
        "%matplotlib inline"
      ]
    },
    {
      "cell_type": "markdown",
      "metadata": {},
      "source": [
        "\n\n# Compute envelope correlations in source space\n\nCompute envelope correlations of orthogonalized activity\n:footcite:`HippEtAl2012,KhanEtAl2018` in source\nspace using resting state CTF data.\n"
      ]
    },
    {
      "cell_type": "code",
      "execution_count": null,
      "metadata": {
        "collapsed": false
      },
      "outputs": [],
      "source": [
        "# Authors: Eric Larson <larson.eric.d@gmail.com>\n#          Sheraz Khan <sheraz@khansheraz.com>\n#          Denis Engemann <denis.engemann@gmail.com>\n#\n# License: BSD (3-clause)\n\nimport os.path as op\n\nimport numpy as np\nimport matplotlib.pyplot as plt\n\nimport mne\nfrom mne.connectivity import envelope_correlation\nfrom mne.minimum_norm import make_inverse_operator, apply_inverse_epochs\nfrom mne.preprocessing import compute_proj_ecg, compute_proj_eog\n\ndata_path = mne.datasets.brainstorm.bst_resting.data_path()\nsubjects_dir = op.join(data_path, 'subjects')\nsubject = 'bst_resting'\ntrans = op.join(data_path, 'MEG', 'bst_resting', 'bst_resting-trans.fif')\nsrc = op.join(subjects_dir, subject, 'bem', subject + '-oct-6-src.fif')\nbem = op.join(subjects_dir, subject, 'bem', subject + '-5120-bem-sol.fif')\nraw_fname = op.join(data_path, 'MEG', 'bst_resting',\n                    'subj002_spontaneous_20111102_01_AUX.ds')"
      ]
    },
    {
      "cell_type": "markdown",
      "metadata": {},
      "source": [
        "Here we do some things in the name of speed, such as crop (which will\nhurt SNR) and downsample. Then we compute SSP projectors and apply them.\n\n"
      ]
    },
    {
      "cell_type": "code",
      "execution_count": null,
      "metadata": {
        "collapsed": false
      },
      "outputs": [],
      "source": [
        "raw = mne.io.read_raw_ctf(raw_fname, verbose='error')\nraw.crop(0, 60).pick_types(meg=True, eeg=False).load_data().resample(80)\nraw.apply_gradient_compensation(3)\nprojs_ecg, _ = compute_proj_ecg(raw, n_grad=1, n_mag=2)\nprojs_eog, _ = compute_proj_eog(raw, n_grad=1, n_mag=2, ch_name='MLT31-4407')\nraw.info['projs'] += projs_ecg\nraw.info['projs'] += projs_eog\nraw.apply_proj()\ncov = mne.compute_raw_covariance(raw)  # compute before band-pass of interest"
      ]
    },
    {
      "cell_type": "markdown",
      "metadata": {},
      "source": [
        "Now we band-pass filter our data and create epochs.\n\n"
      ]
    },
    {
      "cell_type": "code",
      "execution_count": null,
      "metadata": {
        "collapsed": false
      },
      "outputs": [],
      "source": [
        "raw.filter(14, 30)\nevents = mne.make_fixed_length_events(raw, duration=5.)\nepochs = mne.Epochs(raw, events=events, tmin=0, tmax=5.,\n                    baseline=None, reject=dict(mag=8e-13), preload=True)\ndel raw"
      ]
    },
    {
      "cell_type": "markdown",
      "metadata": {},
      "source": [
        "## Compute the forward and inverse\n\n"
      ]
    },
    {
      "cell_type": "code",
      "execution_count": null,
      "metadata": {
        "collapsed": false
      },
      "outputs": [],
      "source": [
        "src = mne.read_source_spaces(src)\nfwd = mne.make_forward_solution(epochs.info, trans, src, bem)\ninv = make_inverse_operator(epochs.info, fwd, cov)\ndel fwd, src"
      ]
    },
    {
      "cell_type": "markdown",
      "metadata": {},
      "source": [
        "## Compute label time series and do envelope correlation\n\n"
      ]
    },
    {
      "cell_type": "code",
      "execution_count": null,
      "metadata": {
        "collapsed": false
      },
      "outputs": [],
      "source": [
        "labels = mne.read_labels_from_annot(subject, 'aparc_sub',\n                                    subjects_dir=subjects_dir)\nepochs.apply_hilbert()  # faster to apply in sensor space\nstcs = apply_inverse_epochs(epochs, inv, lambda2=1. / 9., pick_ori='normal',\n                            return_generator=True)\nlabel_ts = mne.extract_label_time_course(\n    stcs, labels, inv['src'], return_generator=True)\ncorr = envelope_correlation(label_ts, verbose=True)\n\n# let's plot this matrix\nfig, ax = plt.subplots(figsize=(4, 4))\nax.imshow(corr, cmap='viridis', clim=np.percentile(corr, [5, 95]))\nfig.tight_layout()"
      ]
    },
    {
      "cell_type": "markdown",
      "metadata": {},
      "source": [
        "## Compute the degree and plot it\n\n"
      ]
    },
    {
      "cell_type": "code",
      "execution_count": null,
      "metadata": {
        "collapsed": false
      },
      "outputs": [],
      "source": [
        "threshold_prop = 0.15  # percentage of strongest edges to keep in the graph\ndegree = mne.connectivity.degree(corr, threshold_prop=threshold_prop)\nstc = mne.labels_to_stc(labels, degree)\nstc = stc.in_label(mne.Label(inv['src'][0]['vertno'], hemi='lh') +\n                   mne.Label(inv['src'][1]['vertno'], hemi='rh'))\nbrain = stc.plot(\n    clim=dict(kind='percent', lims=[75, 85, 95]), colormap='gnuplot',\n    subjects_dir=subjects_dir, views='dorsal', hemi='both',\n    smoothing_steps=25, time_label='Beta band')"
      ]
    },
    {
      "cell_type": "markdown",
      "metadata": {},
      "source": [
        "## References\n.. footbibliography::\n\n"
      ]
    }
  ],
  "metadata": {
    "kernelspec": {
      "display_name": "Python 3",
      "language": "python",
      "name": "python3"
    },
    "language_info": {
      "codemirror_mode": {
        "name": "ipython",
        "version": 3
      },
      "file_extension": ".py",
      "mimetype": "text/x-python",
      "name": "python",
      "nbconvert_exporter": "python",
      "pygments_lexer": "ipython3",
      "version": "3.8.5"
    }
  },
  "nbformat": 4,
  "nbformat_minor": 0
}