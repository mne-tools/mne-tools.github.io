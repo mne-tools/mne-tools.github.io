{
  "cells": [
    {
      "cell_type": "code",
      "execution_count": null,
      "metadata": {
        "collapsed": false
      },
      "outputs": [],
      "source": [
        "%matplotlib inline"
      ]
    },
    {
      "cell_type": "markdown",
      "metadata": {},
      "source": [
        "\n\n# Motor imagery decoding from EEG data using the Common Spatial Pattern (CSP)\n\nDecoding of motor imagery applied to EEG data decomposed using CSP. A\nclassifier is then applied to features extracted on CSP-filtered signals.\n\nSee https://en.wikipedia.org/wiki/Common_spatial_pattern and\n:footcite:`Koles1991`. The EEGBCI dataset is documented in\n:footcite:`SchalkEtAl2004` and is available at PhysioNet\n:footcite:`GoldbergerEtAl2000`.\n"
      ]
    },
    {
      "cell_type": "code",
      "execution_count": null,
      "metadata": {
        "collapsed": false
      },
      "outputs": [],
      "source": [
        "# Authors: Martin Billinger <martin.billinger@tugraz.at>\n#\n# License: BSD (3-clause)\n\n\nimport numpy as np\nimport matplotlib.pyplot as plt\n\nfrom sklearn.pipeline import Pipeline\nfrom sklearn.discriminant_analysis import LinearDiscriminantAnalysis\nfrom sklearn.model_selection import ShuffleSplit, cross_val_score\n\nfrom mne import Epochs, pick_types, events_from_annotations\nfrom mne.channels import make_standard_montage\nfrom mne.io import concatenate_raws, read_raw_edf\nfrom mne.datasets import eegbci\nfrom mne.decoding import CSP\n\nprint(__doc__)\n\n# #############################################################################\n# # Set parameters and read data\n\n# avoid classification of evoked responses by using epochs that start 1s after\n# cue onset.\ntmin, tmax = -1., 4.\nevent_id = dict(hands=2, feet=3)\nsubject = 1\nruns = [6, 10, 14]  # motor imagery: hands vs feet\n\nraw_fnames = eegbci.load_data(subject, runs)\nraw = concatenate_raws([read_raw_edf(f, preload=True) for f in raw_fnames])\neegbci.standardize(raw)  # set channel names\nmontage = make_standard_montage('standard_1005')\nraw.set_montage(montage)\n\n# strip channel names of \".\" characters\nraw.rename_channels(lambda x: x.strip('.'))\n\n# Apply band-pass filter\nraw.filter(7., 30., fir_design='firwin', skip_by_annotation='edge')\n\nevents, _ = events_from_annotations(raw, event_id=dict(T1=2, T2=3))\n\npicks = pick_types(raw.info, meg=False, eeg=True, stim=False, eog=False,\n                   exclude='bads')\n\n# Read epochs (train will be done only between 1 and 2s)\n# Testing will be done with a running classifier\nepochs = Epochs(raw, events, event_id, tmin, tmax, proj=True, picks=picks,\n                baseline=None, preload=True)\nepochs_train = epochs.copy().crop(tmin=1., tmax=2.)\nlabels = epochs.events[:, -1] - 2"
      ]
    },
    {
      "cell_type": "markdown",
      "metadata": {},
      "source": [
        "Classification with linear discrimant analysis\n\n"
      ]
    },
    {
      "cell_type": "code",
      "execution_count": null,
      "metadata": {
        "collapsed": false
      },
      "outputs": [],
      "source": [
        "# Define a monte-carlo cross-validation generator (reduce variance):\nscores = []\nepochs_data = epochs.get_data()\nepochs_data_train = epochs_train.get_data()\ncv = ShuffleSplit(10, test_size=0.2, random_state=42)\ncv_split = cv.split(epochs_data_train)\n\n# Assemble a classifier\nlda = LinearDiscriminantAnalysis()\ncsp = CSP(n_components=4, reg=None, log=True, norm_trace=False)\n\n# Use scikit-learn Pipeline with cross_val_score function\nclf = Pipeline([('CSP', csp), ('LDA', lda)])\nscores = cross_val_score(clf, epochs_data_train, labels, cv=cv, n_jobs=1)\n\n# Printing the results\nclass_balance = np.mean(labels == labels[0])\nclass_balance = max(class_balance, 1. - class_balance)\nprint(\"Classification accuracy: %f / Chance level: %f\" % (np.mean(scores),\n                                                          class_balance))\n\n# plot CSP patterns estimated on full data for visualization\ncsp.fit_transform(epochs_data, labels)\n\ncsp.plot_patterns(epochs.info, ch_type='eeg', units='Patterns (AU)', size=1.5)"
      ]
    },
    {
      "cell_type": "markdown",
      "metadata": {},
      "source": [
        "Look at performance over time\n\n"
      ]
    },
    {
      "cell_type": "code",
      "execution_count": null,
      "metadata": {
        "collapsed": false
      },
      "outputs": [],
      "source": [
        "sfreq = raw.info['sfreq']\nw_length = int(sfreq * 0.5)   # running classifier: window length\nw_step = int(sfreq * 0.1)  # running classifier: window step size\nw_start = np.arange(0, epochs_data.shape[2] - w_length, w_step)\n\nscores_windows = []\n\nfor train_idx, test_idx in cv_split:\n    y_train, y_test = labels[train_idx], labels[test_idx]\n\n    X_train = csp.fit_transform(epochs_data_train[train_idx], y_train)\n    X_test = csp.transform(epochs_data_train[test_idx])\n\n    # fit classifier\n    lda.fit(X_train, y_train)\n\n    # running classifier: test classifier on sliding window\n    score_this_window = []\n    for n in w_start:\n        X_test = csp.transform(epochs_data[test_idx][:, :, n:(n + w_length)])\n        score_this_window.append(lda.score(X_test, y_test))\n    scores_windows.append(score_this_window)\n\n# Plot scores over time\nw_times = (w_start + w_length / 2.) / sfreq + epochs.tmin\n\nplt.figure()\nplt.plot(w_times, np.mean(scores_windows, 0), label='Score')\nplt.axvline(0, linestyle='--', color='k', label='Onset')\nplt.axhline(0.5, linestyle='-', color='k', label='Chance')\nplt.xlabel('time (s)')\nplt.ylabel('classification accuracy')\nplt.title('Classification score over time')\nplt.legend(loc='lower right')\nplt.show()"
      ]
    },
    {
      "cell_type": "markdown",
      "metadata": {},
      "source": [
        "## References\n.. footbibliography::\n\n"
      ]
    }
  ],
  "metadata": {
    "kernelspec": {
      "display_name": "Python 3",
      "language": "python",
      "name": "python3"
    },
    "language_info": {
      "codemirror_mode": {
        "name": "ipython",
        "version": 3
      },
      "file_extension": ".py",
      "mimetype": "text/x-python",
      "name": "python",
      "nbconvert_exporter": "python",
      "pygments_lexer": "ipython3",
      "version": "3.8.5"
    }
  },
  "nbformat": 4,
  "nbformat_minor": 0
}