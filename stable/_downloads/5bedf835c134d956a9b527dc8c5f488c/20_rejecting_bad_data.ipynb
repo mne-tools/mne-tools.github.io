{
  "cells": [
    {
      "cell_type": "code",
      "execution_count": null,
      "metadata": {
        "collapsed": false
      },
      "outputs": [],
      "source": [
        "%matplotlib inline"
      ]
    },
    {
      "cell_type": "markdown",
      "metadata": {},
      "source": [
        "\n\n# Rejecting bad data spans\n\nThis tutorial covers manual marking of bad spans of data, and automated\nrejection of data spans based on signal amplitude.\n\nWe begin as always by importing the necessary Python modules and loading some\n`example data <sample-dataset>`; to save memory we'll use a pre-filtered\nand downsampled version of the example data, and we'll also load an events\narray to use when converting the continuous data to epochs:\n"
      ]
    },
    {
      "cell_type": "code",
      "execution_count": null,
      "metadata": {
        "collapsed": false
      },
      "outputs": [],
      "source": [
        "import os\nimport mne\n\nsample_data_folder = mne.datasets.sample.data_path()\nsample_data_raw_file = os.path.join(sample_data_folder, 'MEG', 'sample',\n                                    'sample_audvis_filt-0-40_raw.fif')\nraw = mne.io.read_raw_fif(sample_data_raw_file, verbose=False)\nevents_file = os.path.join(sample_data_folder, 'MEG', 'sample',\n                           'sample_audvis_filt-0-40_raw-eve.fif')\nevents = mne.read_events(events_file)"
      ]
    },
    {
      "cell_type": "markdown",
      "metadata": {},
      "source": [
        "## Annotating bad spans of data\n\nThe tutorial `tut-events-vs-annotations` describes how\n:class:`~mne.Annotations` can be read from embedded events in the raw\nrecording file, and `tut-annotate-raw` describes in detail how to\ninteractively annotate a :class:`~mne.io.Raw` data object. Here, we focus on\nbest practices for annotating *bad* data spans so that they will be excluded\nfrom your analysis pipeline.\n\n\n### The ``reject_by_annotation`` parameter\n\nIn the interactive ``raw.plot()`` window, the annotation controls can be\nopened by pressing :kbd:`a`. Here, new annotation labels can be created or\nexisting annotation labels can be selected for use.\n\n"
      ]
    },
    {
      "cell_type": "code",
      "execution_count": null,
      "metadata": {
        "collapsed": false
      },
      "outputs": [],
      "source": [
        "fig = raw.plot()\nfig.canvas.key_press_event('a')"
      ]
    },
    {
      "cell_type": "markdown",
      "metadata": {},
      "source": [
        ".. sidebar:: Annotating good spans\n\n    The default \"BAD\\_\" prefix for new labels can be removed simply by\n    pressing the backspace key four times before typing your custom\n    annotation label.\n\nYou can see that default annotation label is \"BAD\\_\"; this can be edited\nprior to pressing the \"Add label\" button to customize the label. The intent\nis that users can annotate with as many or as few labels as makes sense for\ntheir research needs, but that annotations marking spans that should be\nexcluded from the analysis pipeline should all begin with \"BAD\" or \"bad\"\n(e.g., \"bad_cough\", \"bad-eyes-closed\", \"bad door slamming\", etc). When this\npractice is followed, many processing steps in MNE-Python will automatically\nexclude the \"bad\"-labelled spans of data; this behavior is controlled by a\nparameter ``reject_by_annotation`` that can be found in many MNE-Python\nfunctions or class constructors, including:\n\n- creation of epoched data from continuous data (:class:`mne.Epochs`)\n- many methods of the independent components analysis class\n  (:class:`mne.preprocessing.ICA`)\n- functions for finding heartbeat and blink artifacts\n  (:func:`~mne.preprocessing.find_ecg_events`,\n  :func:`~mne.preprocessing.find_eog_events`)\n- covariance computations (:func:`mne.compute_raw_covariance`)\n- power spectral density computation (:meth:`mne.io.Raw.plot_psd`,\n  :func:`mne.time_frequency.psd_welch`)\n\nFor example, when creating epochs from continuous data, if\n``reject_by_annotation=True`` the :class:`~mne.Epochs` constructor will drop\nany epoch that partially or fully overlaps with an annotated span that begins\nwith \"bad\".\n\n\n### Generating annotations programmatically\n\nThe `tut-artifact-overview` tutorial introduced the artifact detection\nfunctions :func:`~mne.preprocessing.find_eog_events` and\n:func:`~mne.preprocessing.find_ecg_events` (although that tutorial mostly\nrelied on their higher-level wrappers\n:func:`~mne.preprocessing.create_eog_epochs` and\n:func:`~mne.preprocessing.create_ecg_epochs`). Here, for demonstration\npurposes, we make use of the lower-level artifact detection function to get\nan events array telling us where the blinks are, then automatically add\n\"bad_blink\" annotations around them (this is not necessary when using\n:func:`~mne.preprocessing.create_eog_epochs`, it is done here just to show\nhow annotations are added non-interactively). We'll start the annotations\n250 ms before the blink and end them 250 ms after it:\n\n"
      ]
    },
    {
      "cell_type": "code",
      "execution_count": null,
      "metadata": {
        "collapsed": false
      },
      "outputs": [],
      "source": [
        "eog_events = mne.preprocessing.find_eog_events(raw)\nonsets = eog_events[:, 0] / raw.info['sfreq'] - 0.25\ndurations = [0.5] * len(eog_events)\ndescriptions = ['bad blink'] * len(eog_events)\nblink_annot = mne.Annotations(onsets, durations, descriptions,\n                              orig_time=raw.info['meas_date'])\nraw.set_annotations(blink_annot)"
      ]
    },
    {
      "cell_type": "markdown",
      "metadata": {},
      "source": [
        "Now we can confirm that the annotations are centered on the EOG events. Since\nblinks are usually easiest to see in the EEG channels, we'll only plot EEG\nhere:\n\n"
      ]
    },
    {
      "cell_type": "code",
      "execution_count": null,
      "metadata": {
        "collapsed": false
      },
      "outputs": [],
      "source": [
        "eeg_picks = mne.pick_types(raw.info, meg=False, eeg=True)\nraw.plot(events=eog_events, order=eeg_picks)"
      ]
    },
    {
      "cell_type": "markdown",
      "metadata": {},
      "source": [
        "See the section `tut-section-programmatic-annotations` for more details\non creating annotations programmatically.\n\n\n\n## Rejecting Epochs based on channel amplitude\n\nBesides \"bad\" annotations, the :class:`mne.Epochs` class constructor has\nanother means of rejecting epochs, based on signal amplitude thresholds for\neach channel type. In the `overview tutorial\n<tut-section-overview-epoching>` we saw an example of this: setting maximum\nacceptable peak-to-peak amplitudes for each channel type in an epoch, using\nthe ``reject`` parameter. There is also a related parameter, ``flat``, that\ncan be used to set *minimum* acceptable peak-to-peak amplitudes for each\nchannel type in an epoch:\n\n"
      ]
    },
    {
      "cell_type": "code",
      "execution_count": null,
      "metadata": {
        "collapsed": false
      },
      "outputs": [],
      "source": [
        "reject_criteria = dict(mag=3000e-15,     # 3000 fT\n                       grad=3000e-13,    # 3000 fT/cm\n                       eeg=100e-6,       # 100 \u00b5V\n                       eog=200e-6)       # 200 \u00b5V\n\nflat_criteria = dict(mag=1e-15,          # 1 fT\n                     grad=1e-13,         # 1 fT/cm\n                     eeg=1e-6)           # 1 \u00b5V"
      ]
    },
    {
      "cell_type": "markdown",
      "metadata": {},
      "source": [
        "The values that are appropriate are dataset- and hardware-dependent, so some\ntrial-and-error may be necessary to find the correct balance between data\nquality and loss of power due to too many dropped epochs. Here, we've set the\nrejection criteria to be fairly stringent, for illustration purposes.\n\nTwo additional parameters, ``reject_tmin`` and ``reject_tmax``, are used to\nset the temporal window in which to calculate peak-to-peak amplitude for the\npurposes of epoch rejection. These default to the same ``tmin`` and ``tmax``\nof the entire epoch. As one example, if you wanted to only apply the\nrejection thresholds to the portion of the epoch that occurs *before* the\nevent marker around which the epoch is created, you could set\n``reject_tmax=0``. A summary of the causes of rejected epochs can be\ngenerated with the :meth:`~mne.Epochs.plot_drop_log` method:\n\n"
      ]
    },
    {
      "cell_type": "code",
      "execution_count": null,
      "metadata": {
        "collapsed": false
      },
      "outputs": [],
      "source": [
        "epochs = mne.Epochs(raw, events, tmin=-0.2, tmax=0.5, reject_tmax=0,\n                    reject=reject_criteria, flat=flat_criteria,\n                    reject_by_annotation=False, preload=True)\nepochs.plot_drop_log()"
      ]
    },
    {
      "cell_type": "markdown",
      "metadata": {},
      "source": [
        "Notice that we've passed ``reject_by_annotation=False`` above, in order to\nisolate the effects of the rejection thresholds. If we re-run the epoching\nwith ``reject_by_annotation=True`` (the default) we see that the rejections\ndue to EEG and EOG channels have disappeared (suggesting that those channel\nfluctuations were probably blink-related, and were subsumed by rejections\nbased on the \"bad blink\" label).\n\n"
      ]
    },
    {
      "cell_type": "code",
      "execution_count": null,
      "metadata": {
        "collapsed": false
      },
      "outputs": [],
      "source": [
        "epochs = mne.Epochs(raw, events, tmin=-0.2, tmax=0.5, reject_tmax=0,\n                    reject=reject_criteria, flat=flat_criteria, preload=True)\nepochs.plot_drop_log()"
      ]
    },
    {
      "cell_type": "markdown",
      "metadata": {},
      "source": [
        "More importantly, note that *many* more epochs are rejected (~20% instead of\n~2.5%) when rejecting based on the blink labels, underscoring why it is\nusually desirable to repair artifacts rather than exclude them.\n\nThe :meth:`~mne.Epochs.plot_drop_log` method is a visualization of an\n:class:`~mne.Epochs` attribute, namely ``epochs.drop_log``, which stores\nempty lists for retained epochs and lists of strings for dropped epochs, with\nthe strings indicating the reason(s) why the epoch was dropped. For example:\n\n"
      ]
    },
    {
      "cell_type": "code",
      "execution_count": null,
      "metadata": {
        "collapsed": false
      },
      "outputs": [],
      "source": [
        "print(epochs.drop_log)"
      ]
    },
    {
      "cell_type": "markdown",
      "metadata": {},
      "source": [
        "Finally, it should be noted that \"dropped\" epochs are not necessarily deleted\nfrom the :class:`~mne.Epochs` object right away. Above, we forced the\ndropping to happen when we created the :class:`~mne.Epochs` object by using\nthe ``preload=True`` parameter. If we had not done that, the\n:class:`~mne.Epochs` object would have been `memory-mapped`_ (not loaded into\nRAM), in which case the criteria for dropping epochs are stored, and the\nactual dropping happens when the :class:`~mne.Epochs` data are finally loaded\nand used. There are several ways this can get triggered, such as:\n\n- explicitly loading the data into RAM with the :meth:`~mne.Epochs.load_data`\n  method\n- plotting the data (:meth:`~mne.Epochs.plot`,\n  :meth:`~mne.Epochs.plot_image`, etc)\n- using the :meth:`~mne.Epochs.average` method to create an\n  :class:`~mne.Evoked` object\n\nYou can also trigger dropping with the :meth:`~mne.Epochs.drop_bad` method;\nif ``reject`` and/or ``flat`` criteria have already been provided to the\nepochs constructor, :meth:`~mne.Epochs.drop_bad` can be used without\narguments to simply delete the epochs already marked for removal (if the\nepochs have already been dropped, nothing further will happen):\n\n"
      ]
    },
    {
      "cell_type": "code",
      "execution_count": null,
      "metadata": {
        "collapsed": false
      },
      "outputs": [],
      "source": [
        "epochs.drop_bad()"
      ]
    },
    {
      "cell_type": "markdown",
      "metadata": {},
      "source": [
        "Alternatively, if rejection thresholds were not originally given to the\n:class:`~mne.Epochs` constructor, they can be passed to\n:meth:`~mne.Epochs.drop_bad` later instead; this can also be a way of\nimposing progressively more stringent rejection criteria:\n\n"
      ]
    },
    {
      "cell_type": "code",
      "execution_count": null,
      "metadata": {
        "collapsed": false
      },
      "outputs": [],
      "source": [
        "stronger_reject_criteria = dict(mag=2000e-15,     # 2000 fT\n                                grad=2000e-13,    # 2000 fT/cm\n                                eeg=100e-6,       # 100 \u00b5V\n                                eog=100e-6)       # 100 \u00b5V\n\nepochs.drop_bad(reject=stronger_reject_criteria)\nprint(epochs.drop_log)"
      ]
    },
    {
      "cell_type": "markdown",
      "metadata": {},
      "source": [
        "Note that a complementary Python module, the `autoreject package`_, uses\nmachine learning to find optimal rejection criteria, and is designed to\nintegrate smoothly with MNE-Python workflows. This can be a considerable\ntime-saver when working with heterogeneous datasets.\n\n\n.. LINKS\n\n\n"
      ]
    }
  ],
  "metadata": {
    "kernelspec": {
      "display_name": "Python 3",
      "language": "python",
      "name": "python3"
    },
    "language_info": {
      "codemirror_mode": {
        "name": "ipython",
        "version": 3
      },
      "file_extension": ".py",
      "mimetype": "text/x-python",
      "name": "python",
      "nbconvert_exporter": "python",
      "pygments_lexer": "ipython3",
      "version": "3.8.5"
    }
  },
  "nbformat": 4,
  "nbformat_minor": 0
}