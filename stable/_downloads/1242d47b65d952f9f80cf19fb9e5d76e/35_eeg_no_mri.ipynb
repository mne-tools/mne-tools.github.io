{
  "cells": [
    {
      "cell_type": "code",
      "execution_count": null,
      "metadata": {
        "collapsed": false
      },
      "outputs": [],
      "source": [
        "%matplotlib inline"
      ]
    },
    {
      "cell_type": "markdown",
      "metadata": {},
      "source": [
        "\n\n# EEG forward operator with a template MRI\n\nThis tutorial explains how to compute the forward operator from EEG data\nusing the standard template MRI subject ``fsaverage``.\n\n.. caution:: Source reconstruction without an individual T1 MRI from the\n             subject will be less accurate. Do not over interpret activity\n             locations which can be off by multiple centimeters.\n\n## Adult template MRI (fsaverage)\nFirst we show how ``fsaverage`` can be used as a surrogate subject.\n"
      ]
    },
    {
      "cell_type": "code",
      "execution_count": null,
      "metadata": {
        "collapsed": false
      },
      "outputs": [],
      "source": [
        "# Authors: Alexandre Gramfort <alexandre.gramfort@inria.fr>\n#          Joan Massich <mailsik@gmail.com>\n#          Eric Larson <larson.eric.d@gmail.com>\n#\n# License: BSD-3-Clause\n\nimport os.path as op\nimport numpy as np\n\nimport mne\nfrom mne.datasets import eegbci\nfrom mne.datasets import fetch_fsaverage\n\n# Download fsaverage files\nfs_dir = fetch_fsaverage(verbose=True)\nsubjects_dir = op.dirname(fs_dir)\n\n# The files live in:\nsubject = 'fsaverage'\ntrans = 'fsaverage'  # MNE has a built-in fsaverage transformation\nsrc = op.join(fs_dir, 'bem', 'fsaverage-ico-5-src.fif')\nbem = op.join(fs_dir, 'bem', 'fsaverage-5120-5120-5120-bem-sol.fif')"
      ]
    },
    {
      "cell_type": "markdown",
      "metadata": {},
      "source": [
        "### Load the data\n\nWe use here EEG data from the BCI dataset.\n\n<div class=\"alert alert-info\"><h4>Note</h4><p>See `plot_montage` to view all the standard EEG montages\n          available in MNE-Python.</p></div>\n\n"
      ]
    },
    {
      "cell_type": "code",
      "execution_count": null,
      "metadata": {
        "collapsed": false
      },
      "outputs": [],
      "source": [
        "raw_fname, = eegbci.load_data(subject=1, runs=[6])\nraw = mne.io.read_raw_edf(raw_fname, preload=True)\n\n# Clean channel names to be able to use a standard 1005 montage\nnew_names = dict(\n    (ch_name,\n     ch_name.rstrip('.').upper().replace('Z', 'z').replace('FP', 'Fp'))\n    for ch_name in raw.ch_names)\nraw.rename_channels(new_names)\n\n# Read and set the EEG electrode locations, which are already in fsaverage's\n# space (MNI space) for standard_1020:\nmontage = mne.channels.make_standard_montage('standard_1005')\nraw.set_montage(montage)\nraw.set_eeg_reference(projection=True)  # needed for inverse modeling\n\n# Check that the locations of EEG electrodes is correct with respect to MRI\nmne.viz.plot_alignment(\n    raw.info, src=src, eeg=['original', 'projected'], trans=trans,\n    show_axes=True, mri_fiducials=True, dig='fiducials')"
      ]
    },
    {
      "cell_type": "markdown",
      "metadata": {},
      "source": [
        "### Setup source space and compute forward\n\n"
      ]
    },
    {
      "cell_type": "code",
      "execution_count": null,
      "metadata": {
        "collapsed": false
      },
      "outputs": [],
      "source": [
        "fwd = mne.make_forward_solution(raw.info, trans=trans, src=src,\n                                bem=bem, eeg=True, mindist=5.0, n_jobs=None)\nprint(fwd)"
      ]
    },
    {
      "cell_type": "markdown",
      "metadata": {},
      "source": [
        "From here on, standard inverse imaging methods can be used!\n\n## Infant MRI surrogates\nWe don't have a sample infant dataset for MNE, so let's fake a 10-20 one:\n\n"
      ]
    },
    {
      "cell_type": "code",
      "execution_count": null,
      "metadata": {
        "collapsed": false
      },
      "outputs": [],
      "source": [
        "ch_names = \\\n    'Fz Cz Pz Oz Fp1 Fp2 F3 F4 F7 F8 C3 C4 T7 T8 P3 P4 P7 P8 O1 O2'.split()\ndata = np.random.RandomState(0).randn(len(ch_names), 1000)\ninfo = mne.create_info(ch_names, 1000., 'eeg')\nraw = mne.io.RawArray(data, info)"
      ]
    },
    {
      "cell_type": "markdown",
      "metadata": {},
      "source": [
        "### Get an infant MRI template\nTo use an infant head model for M/EEG data, you can use\n:func:`mne.datasets.fetch_infant_template` to download an infant template:\n\n"
      ]
    },
    {
      "cell_type": "code",
      "execution_count": null,
      "metadata": {
        "collapsed": false
      },
      "outputs": [],
      "source": [
        "subject = mne.datasets.fetch_infant_template('6mo', subjects_dir, verbose=True)"
      ]
    },
    {
      "cell_type": "markdown",
      "metadata": {},
      "source": [
        "It comes with several helpful built-in files, including a 10-20 montage\nin the MRI coordinate frame, which can be used to compute the\nMRI<->head transform ``trans``:\n\n"
      ]
    },
    {
      "cell_type": "code",
      "execution_count": null,
      "metadata": {
        "collapsed": false
      },
      "outputs": [],
      "source": [
        "fname_1020 = op.join(subjects_dir, subject, 'montages', '10-20-montage.fif')\nmon = mne.channels.read_dig_fif(fname_1020)\nmon.rename_channels(\n    {f'EEG{ii:03d}': ch_name for ii, ch_name in enumerate(ch_names, 1)})\ntrans = mne.channels.compute_native_head_t(mon)\nraw.set_montage(mon)\nprint(trans)"
      ]
    },
    {
      "cell_type": "markdown",
      "metadata": {},
      "source": [
        "There are also BEM and source spaces:\n\n"
      ]
    },
    {
      "cell_type": "code",
      "execution_count": null,
      "metadata": {
        "collapsed": false
      },
      "outputs": [],
      "source": [
        "bem_dir = op.join(subjects_dir, subject, 'bem')\nfname_src = op.join(bem_dir, f'{subject}-oct-6-src.fif')\nsrc = mne.read_source_spaces(fname_src)\nprint(src)\nfname_bem = op.join(bem_dir, f'{subject}-5120-5120-5120-bem-sol.fif')\nbem = mne.read_bem_solution(fname_bem)"
      ]
    },
    {
      "cell_type": "markdown",
      "metadata": {},
      "source": [
        "You can ensure everything is as expected by plotting the result:\n\n"
      ]
    },
    {
      "cell_type": "code",
      "execution_count": null,
      "metadata": {
        "collapsed": false
      },
      "outputs": [],
      "source": [
        "fig = mne.viz.plot_alignment(\n    raw.info, subject=subject, subjects_dir=subjects_dir, trans=trans,\n    src=src, bem=bem, coord_frame='mri', mri_fiducials=True, show_axes=True,\n    surfaces=('white', 'outer_skin', 'inner_skull', 'outer_skull'))\nmne.viz.set_3d_view(fig, 25, 70, focalpoint=[0, -0.005, 0.01])"
      ]
    },
    {
      "cell_type": "markdown",
      "metadata": {},
      "source": [
        "From here, standard forward and inverse operators can be computed\n\nIf you have digitized head positions or MEG data, consider using\n`mne coreg` to warp a suitable infant template MRI to your\ndigitization information.\n\n"
      ]
    }
  ],
  "metadata": {
    "kernelspec": {
      "display_name": "Python 3",
      "language": "python",
      "name": "python3"
    },
    "language_info": {
      "codemirror_mode": {
        "name": "ipython",
        "version": 3
      },
      "file_extension": ".py",
      "mimetype": "text/x-python",
      "name": "python",
      "nbconvert_exporter": "python",
      "pygments_lexer": "ipython3",
      "version": "3.10.6"
    }
  },
  "nbformat": 4,
  "nbformat_minor": 0
}