{
  "cells": [
    {
      "cell_type": "code",
      "execution_count": null,
      "metadata": {
        "collapsed": false
      },
      "outputs": [],
      "source": [
        "%matplotlib inline"
      ]
    },
    {
      "cell_type": "markdown",
      "metadata": {},
      "source": [
        "\n\n# Signal-space separation (SSS) and Maxwell filtering\n\nThis tutorial covers reducing environmental noise and compensating for head\nmovement with SSS and Maxwell filtering.\n\nAs usual, we'll start by importing the modules we need, loading some\n`example data <sample-dataset>`, and cropping it to save on memory:\n"
      ]
    },
    {
      "cell_type": "code",
      "execution_count": null,
      "metadata": {
        "collapsed": false
      },
      "outputs": [],
      "source": [
        "import os\nimport matplotlib.pyplot as plt\nimport seaborn as sns\nimport pandas as pd\nimport numpy as np\nimport mne\nfrom mne.preprocessing import find_bad_channels_maxwell\n\nsample_data_folder = mne.datasets.sample.data_path()\nsample_data_raw_file = os.path.join(sample_data_folder, 'MEG', 'sample',\n                                    'sample_audvis_raw.fif')\nraw = mne.io.read_raw_fif(sample_data_raw_file, verbose=False)\nraw.crop(tmax=60)"
      ]
    },
    {
      "cell_type": "markdown",
      "metadata": {},
      "source": [
        "## Background on SSS and Maxwell filtering\n\nSignal-space separation (SSS) :footcite:`TauluKajola2005,TauluSimola2006`\nis a technique based on the physics\nof electromagnetic fields. SSS separates the measured signal into components\nattributable to sources *inside* the measurement volume of the sensor array\n(the *internal components*), and components attributable to sources *outside*\nthe measurement volume (the *external components*). The internal and external\ncomponents are linearly independent, so it is possible to simply discard the\nexternal components to reduce environmental noise. *Maxwell filtering* is a\nrelated procedure that omits the higher-order components of the internal\nsubspace, which are dominated by sensor noise. Typically, Maxwell filtering\nand SSS are performed together (in MNE-Python they are implemented together\nin a single function).\n\nLike `SSP <tut-artifact-ssp>`, SSS is a form of projection. Whereas SSP\nempirically determines a noise subspace based on data (empty-room recordings,\nEOG or ECG activity, etc) and projects the measurements onto a subspace\northogonal to the noise, SSS mathematically constructs the external and\ninternal subspaces from `spherical harmonics`_ and reconstructs the sensor\nsignals using only the internal subspace (i.e., does an oblique projection).\n\n<div class=\"alert alert-danger\"><h4>Warning</h4><p>Maxwell filtering was originally developed for Elekta Neuromag\u00ae systems,\n    and should be considered *experimental* for non-Neuromag data. See the\n    Notes section of the :func:`~mne.preprocessing.maxwell_filter` docstring\n    for details.</p></div>\n\nThe MNE-Python implementation of SSS / Maxwell filtering currently provides\nthe following features:\n\n- Basic bad channel detection\n  (:func:`~mne.preprocessing.find_bad_channels_maxwell`)\n- Bad channel reconstruction\n- Cross-talk cancellation\n- Fine calibration correction\n- tSSS\n- Coordinate frame translation\n- Regularization of internal components using information theory\n- Raw movement compensation (using head positions estimated by MaxFilter)\n- cHPI subtraction (see :func:`mne.chpi.filter_chpi`)\n- Handling of 3D (in addition to 1D) fine calibration files\n- Epoch-based movement compensation as described in\n  :footcite:`TauluKajola2005` through :func:`mne.epochs.average_movements`\n- **Experimental** processing of data from (un-compensated) non-Elekta\n  systems\n\n\n## Using SSS and Maxwell filtering in MNE-Python\n\nFor optimal use of SSS with data from Elekta Neuromag\u00ae systems, you should\nprovide the path to the fine calibration file (which encodes site-specific\ninformation about sensor orientation and calibration) as well as a crosstalk\ncompensation file (which reduces interference between Elekta's co-located\nmagnetometer and paired gradiometer sensor units).\n\n"
      ]
    },
    {
      "cell_type": "code",
      "execution_count": null,
      "metadata": {
        "collapsed": false
      },
      "outputs": [],
      "source": [
        "fine_cal_file = os.path.join(sample_data_folder, 'SSS', 'sss_cal_mgh.dat')\ncrosstalk_file = os.path.join(sample_data_folder, 'SSS', 'ct_sparse_mgh.fif')"
      ]
    },
    {
      "cell_type": "markdown",
      "metadata": {},
      "source": [
        "Before we perform SSS we'll look for bad channels \u2014 ``MEG 2443`` is quite\nnoisy.\n\n<div class=\"alert alert-danger\"><h4>Warning</h4><p>It is critical to mark bad channels in ``raw.info['bads']`` *before*\n    calling :func:`~mne.preprocessing.maxwell_filter` in order to prevent\n    bad channel noise from spreading.</p></div>\n\nLet's see if we can automatically detect it.\n\n"
      ]
    },
    {
      "cell_type": "code",
      "execution_count": null,
      "metadata": {
        "collapsed": false
      },
      "outputs": [],
      "source": [
        "raw.info['bads'] = []\nraw_check = raw.copy()\nauto_noisy_chs, auto_flat_chs, auto_scores = find_bad_channels_maxwell(\n    raw_check, cross_talk=crosstalk_file, calibration=fine_cal_file,\n    return_scores=True, verbose=True)\nprint(auto_noisy_chs)  # we should find them!\nprint(auto_flat_chs)  # none for this dataset"
      ]
    },
    {
      "cell_type": "markdown",
      "metadata": {},
      "source": [
        "<div class=\"alert alert-info\"><h4>Note</h4><p>`~mne.preprocessing.find_bad_channels_maxwell` needs to operate on\n          a signal without line noise or cHPI signals. By default, it simply\n          applies a low-pass filter with a cutoff frequency of 40 Hz to the\n          data, which should remove these artifacts. You may also specify a\n          different cutoff by passing the ``h_freq`` keyword argument. If you\n          set ``h_freq=None``, no filtering will be applied. This can be\n          useful if your data has already been preconditioned, for example\n          using :func:`mne.chpi.filter_chpi`,\n          :func:`mne.io.Raw.notch_filter`, or :meth:`mne.io.Raw.filter`.</p></div>\n\nNow we can update the list of bad channels in the dataset.\n\n"
      ]
    },
    {
      "cell_type": "code",
      "execution_count": null,
      "metadata": {
        "collapsed": false
      },
      "outputs": [],
      "source": [
        "bads = raw.info['bads'] + auto_noisy_chs + auto_flat_chs\nraw.info['bads'] = bads"
      ]
    },
    {
      "cell_type": "markdown",
      "metadata": {},
      "source": [
        "We called `~mne.preprocessing.find_bad_channels_maxwell` with the optional\nkeyword argument ``return_scores=True``, causing the function to return a\ndictionary of all data related to the scoring used to classify channels as\nnoisy or flat. This information can be used to produce diagnostic figures.\n\nIn the following, we will generate such visualizations for\nthe automated detection of *noisy* gradiometer channels.\n\n"
      ]
    },
    {
      "cell_type": "code",
      "execution_count": null,
      "metadata": {
        "collapsed": false
      },
      "outputs": [],
      "source": [
        "# Only select the data for gradiometer channels.\nch_type = 'grad'\nch_subset = auto_scores['ch_types'] == ch_type\nch_names = auto_scores['ch_names'][ch_subset]\nscores = auto_scores['scores_noisy'][ch_subset]\nlimits = auto_scores['limits_noisy'][ch_subset]\nbins = auto_scores['bins']  # The the windows that were evaluated.\n# We will label each segment by its start and stop time, with up to 3\n# digits before and 3 digits after the decimal place (1 ms precision).\nbin_labels = [f'{start:3.3f} \u2013 {stop:3.3f}'\n              for start, stop in bins]\n\n# We store the data in a Pandas DataFrame. The seaborn heatmap function\n# we will call below will then be able to automatically assign the correct\n# labels to all axes.\ndata_to_plot = pd.DataFrame(data=scores,\n                            columns=pd.Index(bin_labels, name='Time (s)'),\n                            index=pd.Index(ch_names, name='Channel'))\n\n# First, plot the \"raw\" scores.\nfig, ax = plt.subplots(1, 2, figsize=(12, 8))\nfig.suptitle(f'Automated noisy channel detection: {ch_type}',\n             fontsize=16, fontweight='bold')\nsns.heatmap(data=data_to_plot, cmap='Reds', cbar_kws=dict(label='Score'),\n            ax=ax[0])\n[ax[0].axvline(x, ls='dashed', lw=0.25, dashes=(25, 15), color='gray')\n    for x in range(1, len(bins))]\nax[0].set_title('All Scores', fontweight='bold')\n\n# Now, adjust the color range to highlight segments that exceeded the limit.\nsns.heatmap(data=data_to_plot,\n            vmin=np.nanmin(limits),  # bads in input data have NaN limits\n            cmap='Reds', cbar_kws=dict(label='Score'), ax=ax[1])\n[ax[1].axvline(x, ls='dashed', lw=0.25, dashes=(25, 15), color='gray')\n    for x in range(1, len(bins))]\nax[1].set_title('Scores > Limit', fontweight='bold')\n\n# The figure title should not overlap with the subplots.\nfig.tight_layout(rect=[0, 0.03, 1, 0.95])"
      ]
    },
    {
      "cell_type": "markdown",
      "metadata": {},
      "source": [
        "<div class=\"alert alert-info\"><h4>Note</h4><p>You can use the very same code as above to produce figures for\n          *flat* channel detection. Simply replace the word \"noisy\" with\n          \"flat\", and replace ``vmin=np.nanmin(limits)`` with\n          ``vmax=np.nanmax(limits)``.</p></div>\n\nYou can see the un-altered scores for each channel and time segment in the\nleft subplots, and thresholded scores \u2013 those which exceeded a certain limit\nof noisiness \u2013 in the right subplots. While the right subplot is entirely\nwhite for the magnetometers, we can see a horizontal line extending all the\nway from left to right for the gradiometers. This line corresponds to channel\n``MEG 2443``, which was reported as auto-detected noisy channel in the step\nabove. But we can also see another channel exceeding the limits, apparently\nin a more transient fashion. It was therefore *not* detected as bad, because\nthe number of segments in which it exceeded the limits was less than 5,\nwhich MNE-Python uses by default.\n\n<div class=\"alert alert-info\"><h4>Note</h4><p>You can request a different number of segments that must be\n          found to be problematic before\n          `~mne.preprocessing.find_bad_channels_maxwell` reports them as bad.\n          To do this, pass the keyword argument ``min_count`` to the\n          function.</p></div>\n\n"
      ]
    },
    {
      "cell_type": "markdown",
      "metadata": {},
      "source": [
        "Obviously, this algorithm is not perfect. Specifically, on closer inspection\nof the raw data after looking at the diagnostic plots above, it becomes clear\nthat the channel exceeding the \"noise\" limits in some segments without\nqualifying as \"bad\", in fact contains some flux jumps. There were just not\n*enough* flux jumps in the recording for our automated procedure to report\nthe channel as bad. So it can still be useful to manually inspect and mark\nbad channels. The channel in question is ``MEG 2313``. Let's mark it as bad:\n\n"
      ]
    },
    {
      "cell_type": "code",
      "execution_count": null,
      "metadata": {
        "collapsed": false
      },
      "outputs": [],
      "source": [
        "raw.info['bads'] += ['MEG 2313']  # from manual inspection"
      ]
    },
    {
      "cell_type": "markdown",
      "metadata": {},
      "source": [
        "After that, performing SSS and Maxwell filtering is done with a\nsingle call to :func:`~mne.preprocessing.maxwell_filter`, with the crosstalk\nand fine calibration filenames provided (if available):\n\n"
      ]
    },
    {
      "cell_type": "code",
      "execution_count": null,
      "metadata": {
        "collapsed": false
      },
      "outputs": [],
      "source": [
        "raw_sss = mne.preprocessing.maxwell_filter(\n    raw, cross_talk=crosstalk_file, calibration=fine_cal_file, verbose=True)"
      ]
    },
    {
      "cell_type": "markdown",
      "metadata": {},
      "source": [
        "To see the effect, we can plot the data before and after SSS / Maxwell\nfiltering.\n\n"
      ]
    },
    {
      "cell_type": "code",
      "execution_count": null,
      "metadata": {
        "collapsed": false
      },
      "outputs": [],
      "source": [
        "raw.pick(['meg']).plot(duration=2, butterfly=True)\nraw_sss.pick(['meg']).plot(duration=2, butterfly=True)"
      ]
    },
    {
      "cell_type": "markdown",
      "metadata": {},
      "source": [
        "Notice that channels marked as \"bad\" have been effectively repaired by SSS,\neliminating the need to perform `interpolation <tut-bad-channels>`.\nThe heartbeat artifact has also been substantially reduced.\n\nThe :func:`~mne.preprocessing.maxwell_filter` function has parameters\n``int_order`` and ``ext_order`` for setting the order of the spherical\nharmonic expansion of the interior and exterior components; the default\nvalues are appropriate for most use cases. Additional parameters include\n``coord_frame`` and ``origin`` for controlling the coordinate frame (\"head\"\nor \"meg\") and the origin of the sphere; the defaults are appropriate for most\nstudies that include digitization of the scalp surface / electrodes. See the\ndocumentation of :func:`~mne.preprocessing.maxwell_filter` for details.\n\n\n## Spatiotemporal SSS (tSSS)\n\nAn assumption of SSS is that the measurement volume (the spherical shell\nwhere the sensors are physically located) is free of electromagnetic sources.\nThe thickness of this source-free measurement shell should be 4-8 cm for SSS\nto perform optimally. In practice, there may be sources falling within that\nmeasurement volume; these can often be mitigated by using Spatiotemporal\nSignal Space Separation (tSSS) :footcite:`TauluSimola2006`.\ntSSS works by looking for temporal\ncorrelation between components of the internal and external subspaces, and\nprojecting out any components that are common to the internal and external\nsubspaces. The projection is done in an analogous way to\n`SSP <tut-artifact-ssp>`, except that the noise vector is computed\nacross time points instead of across sensors.\n\nTo use tSSS in MNE-Python, pass a time (in seconds) to the parameter\n``st_duration`` of :func:`~mne.preprocessing.maxwell_filter`. This will\ndetermine the \"chunk duration\" over which to compute the temporal projection.\nThe chunk duration effectively acts as a high-pass filter with a cutoff\nfrequency of $\\frac{1}{\\mathtt{st\\_duration}}~\\mathrm{Hz}$; this\neffective high-pass has an important consequence:\n\n- In general, larger values of ``st_duration`` are better (provided that your\n  computer has sufficient memory) because larger values of ``st_duration``\n  will have a smaller effect on the signal.\n\nIf the chunk duration does not evenly divide your data length, the final\n(shorter) chunk will be added to the prior chunk before filtering, leading\nto slightly different effective filtering for the combined chunk (the\neffective cutoff frequency differing at most by a factor of 2). If you need\nto ensure identical processing of all analyzed chunks, either:\n\n- choose a chunk duration that evenly divides your data length (only\n  recommended if analyzing a single subject or run), or\n\n- include at least ``2 * st_duration`` of post-experiment recording time at\n  the end of the :class:`~mne.io.Raw` object, so that the data you intend to\n  further analyze is guaranteed not to be in the final or penultimate chunks.\n\nAdditional parameters affecting tSSS include ``st_correlation`` (to set the\ncorrelation value above which correlated internal and external components\nwill be projected out) and ``st_only`` (to apply only the temporal projection\nwithout also performing SSS and Maxwell filtering). See the docstring of\n:func:`~mne.preprocessing.maxwell_filter` for details.\n\n\n## Movement compensation\n\nIf you have information about subject head position relative to the sensors\n(i.e., continuous head position indicator coils, or :term:`cHPI`), SSS\ncan take that into account when projecting sensor data onto the internal\nsubspace. In case you are not sure whether you have that information or\nwant to doublecheck, you can use :func:`mne.chpi.get_active_chpi` (currently\nonly implemented for neuromag systems).\n\n"
      ]
    },
    {
      "cell_type": "code",
      "execution_count": null,
      "metadata": {
        "collapsed": false
      },
      "outputs": [],
      "source": [
        "chpi_fif_file = os.path.join(mne.datasets.testing.data_path(), 'SSS',\n                             'test_move_anon_raw.fif')\nraw = mne.io.read_raw_fif(chpi_fif_file, allow_maxshield='yes')\n\n# time-resolved information on active HPI coils\n# if all hpi were inactive n_active is a zero-array\nn_active = mne.chpi.get_active_chpi(raw)\nprint(f'Average number of coils active during recording: {n_active.mean()}')"
      ]
    },
    {
      "cell_type": "markdown",
      "metadata": {},
      "source": [
        "Head position data can be computed using\n:func:`mne.chpi.compute_chpi_locs` and :func:`mne.chpi.compute_head_pos`,\nor loaded with the:func:`mne.chpi.read_head_pos` function. The\n`example data <sample-dataset>` doesn't include cHPI, so here we'll\nload a :file:`.pos` file used for testing, just to demonstrate:\n\n"
      ]
    },
    {
      "cell_type": "code",
      "execution_count": null,
      "metadata": {
        "collapsed": false
      },
      "outputs": [],
      "source": [
        "head_pos_file = os.path.join(mne.datasets.testing.data_path(), 'SSS',\n                             'test_move_anon_raw.pos')\nhead_pos = mne.chpi.read_head_pos(head_pos_file)\nmne.viz.plot_head_positions(head_pos, mode='traces')"
      ]
    },
    {
      "cell_type": "markdown",
      "metadata": {},
      "source": [
        "The cHPI data file could also be passed as the ``head_pos`` parameter of\n:func:`~mne.preprocessing.maxwell_filter`. Not only would this account for\nmovement within a given recording session, but also would effectively\nnormalize head position across different measurement sessions and subjects.\nSee `here <ex-movement-comp>` for an extended example of applying\nmovement compensation during Maxwell filtering / SSS. Another option is to\napply movement compensation when averaging epochs into an\n:class:`~mne.Evoked` instance, using the :func:`mne.epochs.average_movements`\nfunction.\n\nEach of these approaches requires time-varying estimates of head position,\nwhich is obtained from MaxFilter using the ``-headpos`` and ``-hp``\narguments (see the MaxFilter manual for details).\n\n\n## Caveats to using SSS / Maxwell filtering\n\n1. There are patents related to the Maxwell filtering algorithm, which may\n   legally preclude using it in commercial applications. More details are\n   provided in the documentation of\n   :func:`~mne.preprocessing.maxwell_filter`.\n\n2. SSS works best when both magnetometers and gradiometers are present, and\n   is most effective when gradiometers are planar (due to the need for very\n   accurate sensor geometry and fine calibration information). Thus its\n   performance is dependent on the MEG system used to collect the data.\n\n\n## References\n\n.. footbibliography::\n\n\n.. LINKS\n\n\n"
      ]
    }
  ],
  "metadata": {
    "kernelspec": {
      "display_name": "Python 3",
      "language": "python",
      "name": "python3"
    },
    "language_info": {
      "codemirror_mode": {
        "name": "ipython",
        "version": 3
      },
      "file_extension": ".py",
      "mimetype": "text/x-python",
      "name": "python",
      "nbconvert_exporter": "python",
      "pygments_lexer": "ipython3",
      "version": "3.10.6"
    }
  },
  "nbformat": 4,
  "nbformat_minor": 0
}