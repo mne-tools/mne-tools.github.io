{
  "cells": [
    {
      "cell_type": "markdown",
      "metadata": {},
      "source": [
        "\n\n# Visualize channel over epochs as an image\n\nThis will produce what is sometimes called an event related\npotential / field (ERP/ERF) image.\n\nTwo images are produced, one with a good channel and one with a channel\nthat does not show any evoked field.\n\nIt is also demonstrated how to reorder the epochs using a 1D spectral\nembedding as described in :footcite:`GramfortEtAl2010`.\n"
      ]
    },
    {
      "cell_type": "code",
      "execution_count": null,
      "metadata": {
        "collapsed": false
      },
      "outputs": [],
      "source": [
        "# Authors: Alexandre Gramfort <alexandre.gramfort@inria.fr>\n#\n# License: BSD-3-Clause\n# Copyright the MNE-Python contributors."
      ]
    },
    {
      "cell_type": "code",
      "execution_count": null,
      "metadata": {
        "collapsed": false
      },
      "outputs": [],
      "source": [
        "import matplotlib.pyplot as plt\nimport numpy as np\n\nimport mne\nfrom mne import io\nfrom mne.datasets import sample\n\nprint(__doc__)\n\ndata_path = sample.data_path()"
      ]
    },
    {
      "cell_type": "markdown",
      "metadata": {},
      "source": [
        "Set parameters\n\n"
      ]
    },
    {
      "cell_type": "code",
      "execution_count": null,
      "metadata": {
        "collapsed": false
      },
      "outputs": [],
      "source": [
        "meg_path = data_path / \"MEG\" / \"sample\"\nraw_fname = meg_path / \"sample_audvis_filt-0-40_raw.fif\"\nevent_fname = meg_path / \"sample_audvis_filt-0-40_raw-eve.fif\"\nevent_id, tmin, tmax = 1, -0.2, 0.4\n\n# Setup for reading the raw data\nraw = io.read_raw_fif(raw_fname)\nevents = mne.read_events(event_fname)\n\n# Set up pick list: EEG + MEG - bad channels (modify to your needs)\nraw.info[\"bads\"] = [\"MEG 2443\", \"EEG 053\"]\n\n# Create epochs, here for gradiometers + EOG only for simplicity\nepochs = mne.Epochs(\n    raw,\n    events,\n    event_id,\n    tmin,\n    tmax,\n    proj=True,\n    picks=(\"grad\", \"eog\"),\n    baseline=(None, 0),\n    preload=True,\n    reject=dict(grad=4000e-13, eog=150e-6),\n)"
      ]
    },
    {
      "cell_type": "markdown",
      "metadata": {},
      "source": [
        "Show event-related fields images\n\n"
      ]
    },
    {
      "cell_type": "code",
      "execution_count": null,
      "metadata": {
        "collapsed": false
      },
      "outputs": [],
      "source": [
        "# and order with spectral reordering\n# If you don't have scikit-learn installed set order_func to None\nfrom sklearn.manifold import spectral_embedding  # noqa\nfrom sklearn.metrics.pairwise import rbf_kernel  # noqa\n\n\ndef order_func(times, data):\n    this_data = data[:, (times > 0.0) & (times < 0.350)]\n    this_data /= np.sqrt(np.sum(this_data**2, axis=1))[:, np.newaxis]\n    return np.argsort(\n        spectral_embedding(\n            rbf_kernel(this_data, gamma=1.0), n_components=1, random_state=0\n        ).ravel()\n    )\n\n\ngood_pick = 97  # channel with a clear evoked response\nbad_pick = 98  # channel with no evoked response\n\n# We'll also plot a sample time onset for each trial\nplt_times = np.linspace(0, 0.2, len(epochs))\n\nplt.close(\"all\")\nmne.viz.plot_epochs_image(\n    epochs,\n    [good_pick, bad_pick],\n    sigma=0.5,\n    order=order_func,\n    vmin=-250,\n    vmax=250,\n    overlay_times=plt_times,\n    show=True,\n)"
      ]
    },
    {
      "cell_type": "markdown",
      "metadata": {},
      "source": [
        "## References\n.. footbibliography::\n\n"
      ]
    }
  ],
  "metadata": {
    "kernelspec": {
      "display_name": "Python 3",
      "language": "python",
      "name": "python3"
    },
    "language_info": {
      "codemirror_mode": {
        "name": "ipython",
        "version": 3
      },
      "file_extension": ".py",
      "mimetype": "text/x-python",
      "name": "python",
      "nbconvert_exporter": "python",
      "pygments_lexer": "ipython3",
      "version": "3.10.12"
    }
  },
  "nbformat": 4,
  "nbformat_minor": 0
}