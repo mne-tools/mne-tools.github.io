{
  "cells": [
    {
      "cell_type": "code",
      "execution_count": null,
      "metadata": {
        "collapsed": false
      },
      "outputs": [],
      "source": [
        "%matplotlib inline"
      ]
    },
    {
      "cell_type": "markdown",
      "metadata": {},
      "source": [
        "\n\n# Plotting sensor layouts of MEG systems\n\nShow sensor layouts of different MEG systems.\n   :depth: 1\n"
      ]
    },
    {
      "cell_type": "code",
      "execution_count": null,
      "metadata": {
        "collapsed": false
      },
      "outputs": [],
      "source": [
        "# Author: Eric Larson <larson.eric.d@gmail.com>\n#\n# License: BSD (3-clause)\n\nimport os.path as op\n\nimport mne\nfrom mne.io import read_raw_fif, read_raw_ctf, read_raw_bti, read_raw_kit\nfrom mne.io import read_raw_artemis123\nfrom mne.datasets import sample, spm_face, testing\nfrom mne.viz import plot_alignment, set_3d_title\n\nprint(__doc__)"
      ]
    },
    {
      "cell_type": "markdown",
      "metadata": {},
      "source": [
        "## Neuromag\n\n"
      ]
    },
    {
      "cell_type": "code",
      "execution_count": null,
      "metadata": {
        "collapsed": false
      },
      "outputs": [],
      "source": [
        "kwargs = dict(eeg=False, coord_frame='meg', show_axes=True, verbose=True)\n\nraw = read_raw_fif(sample.data_path() + '/MEG/sample/sample_audvis_raw.fif')\nfig = plot_alignment(raw.info, meg=('helmet', 'sensors'), **kwargs)\nset_3d_title(figure=fig, title='Neuromag')"
      ]
    },
    {
      "cell_type": "markdown",
      "metadata": {},
      "source": [
        "## CTF\n\n"
      ]
    },
    {
      "cell_type": "code",
      "execution_count": null,
      "metadata": {
        "collapsed": false
      },
      "outputs": [],
      "source": [
        "raw = read_raw_ctf(spm_face.data_path() +\n                   '/MEG/spm/SPM_CTF_MEG_example_faces1_3D.ds')\nfig = plot_alignment(raw.info, meg=('helmet', 'sensors', 'ref'), **kwargs)\nset_3d_title(figure=fig, title='CTF 275')"
      ]
    },
    {
      "cell_type": "markdown",
      "metadata": {},
      "source": [
        "## BTi\n\n"
      ]
    },
    {
      "cell_type": "code",
      "execution_count": null,
      "metadata": {
        "collapsed": false
      },
      "outputs": [],
      "source": [
        "bti_path = op.abspath(op.dirname(mne.__file__)) + '/io/bti/tests/data/'\nraw = read_raw_bti(op.join(bti_path, 'test_pdf_linux'),\n                   op.join(bti_path, 'test_config_linux'),\n                   op.join(bti_path, 'test_hs_linux'))\nfig = plot_alignment(raw.info, meg=('helmet', 'sensors', 'ref'), **kwargs)\nset_3d_title(figure=fig, title='Magnes 3600wh')"
      ]
    },
    {
      "cell_type": "markdown",
      "metadata": {},
      "source": [
        "## KIT\n\n"
      ]
    },
    {
      "cell_type": "code",
      "execution_count": null,
      "metadata": {
        "collapsed": false
      },
      "outputs": [],
      "source": [
        "kit_path = op.abspath(op.dirname(mne.__file__)) + '/io/kit/tests/data/'\nraw = read_raw_kit(op.join(kit_path, 'test.sqd'))\nfig = plot_alignment(raw.info, meg=('helmet', 'sensors'), **kwargs)\nset_3d_title(figure=fig, title='KIT')"
      ]
    },
    {
      "cell_type": "markdown",
      "metadata": {},
      "source": [
        "## Artemis123\n\n"
      ]
    },
    {
      "cell_type": "code",
      "execution_count": null,
      "metadata": {
        "collapsed": false
      },
      "outputs": [],
      "source": [
        "raw = read_raw_artemis123(op.join(\n    testing.data_path(), 'ARTEMIS123',\n    'Artemis_Data_2017-04-14-10h-38m-59s_Phantom_1k_HPI_1s.bin'))\nfig = plot_alignment(raw.info, meg=('helmet', 'sensors', 'ref'), **kwargs)\nset_3d_title(figure=fig, title='Artemis123')"
      ]
    }
  ],
  "metadata": {
    "kernelspec": {
      "display_name": "Python 3",
      "language": "python",
      "name": "python3"
    },
    "language_info": {
      "codemirror_mode": {
        "name": "ipython",
        "version": 3
      },
      "file_extension": ".py",
      "mimetype": "text/x-python",
      "name": "python",
      "nbconvert_exporter": "python",
      "pygments_lexer": "ipython3",
      "version": "3.8.5"
    }
  },
  "nbformat": 4,
  "nbformat_minor": 0
}