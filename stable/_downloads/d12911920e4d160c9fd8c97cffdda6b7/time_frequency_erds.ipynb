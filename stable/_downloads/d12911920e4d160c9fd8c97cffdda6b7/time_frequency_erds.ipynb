{
  "cells": [
    {
      "cell_type": "code",
      "execution_count": null,
      "metadata": {
        "collapsed": false
      },
      "outputs": [],
      "source": [
        "%matplotlib inline"
      ]
    },
    {
      "cell_type": "markdown",
      "metadata": {},
      "source": [
        "\n# Compute and visualize ERDS maps\n\nThis example calculates and displays ERDS maps of event-related EEG data. ERDS\n(sometimes also written as ERD/ERS) is short for event-related\ndesynchronization (ERD) and event-related synchronization (ERS)\n:footcite:`PfurtschellerLopesdaSilva1999`.\nConceptually, ERD corresponds to a decrease in power in a specific frequency\nband relative to a baseline. Similarly, ERS corresponds to an increase in\npower. An ERDS map is a time/frequency representation of ERD/ERS over a range\nof frequencies :footcite:`GraimannEtAl2002`. ERDS maps are also known as ERSP\n(event-related spectral perturbation) :footcite:`Makeig1993`.\n\nWe use a public EEG BCI data set containing two different motor imagery tasks\navailable at PhysioNet. The two tasks are imagined hand and feet movement. Our\ngoal is to generate ERDS maps for each of the two tasks.\n\nFirst, we load the data and create epochs of 5s length. The data sets contain\nmultiple channels, but we will only consider the three channels C3, Cz, and C4.\nWe compute maps containing frequencies ranging from 2 to 35Hz. We map ERD to\nred color and ERS to blue color, which is the convention in many ERDS\npublications. Finally, we perform cluster-based permutation tests to estimate\nsignificant ERDS values (corrected for multiple comparisons within channels).\n"
      ]
    },
    {
      "cell_type": "code",
      "execution_count": null,
      "metadata": {
        "collapsed": false
      },
      "outputs": [],
      "source": [
        "# Authors: Clemens Brunner <clemens.brunner@gmail.com>\n#          Felix Klotzsche <klotzsche@cbs.mpg.de>\n#\n# License: BSD (3-clause)\n\nimport numpy as np\nimport matplotlib.pyplot as plt\nimport pandas as pd\nimport seaborn as sns\nimport mne\nfrom mne.datasets import eegbci\nfrom mne.io import concatenate_raws, read_raw_edf\nfrom mne.time_frequency import tfr_multitaper\nfrom mne.stats import permutation_cluster_1samp_test as pcluster_test\nfrom mne.viz.utils import center_cmap\n\n\n# load and preprocess data ####################################################\nsubject = 1  # use data from subject 1\nruns = [6, 10, 14]  # use only hand and feet motor imagery runs\n\nfnames = eegbci.load_data(subject, runs)\nraws = [read_raw_edf(f, preload=True) for f in fnames]\nraw = concatenate_raws(raws)\n\nraw.rename_channels(lambda x: x.strip('.'))  # remove dots from channel names\n\nevents, _ = mne.events_from_annotations(raw, event_id=dict(T1=2, T2=3))\n\nwant_chs = ['C3', 'Cz', 'C4']\npicks = mne.pick_channels(raw.info[\"ch_names\"], want_chs)\n\n# epoch data ##################################################################\ntmin, tmax = -1, 4  # define epochs around events (in s)\nevent_ids = dict(hands=2, feet=3)  # map event IDs to tasks\n\nepochs = mne.Epochs(raw, events, event_ids, tmin - 0.5, tmax + 0.5,\n                    picks=picks, baseline=None, preload=True)\n\n# compute ERDS maps ###########################################################\nfreqs = np.arange(2, 36, 1)  # frequencies from 2-35Hz\nn_cycles = freqs  # use constant t/f resolution\nvmin, vmax = -1, 1.5  # set min and max ERDS values in plot\nbaseline = [-1, 0]  # baseline interval (in s)\ncmap = center_cmap(plt.cm.RdBu, vmin, vmax)  # zero maps to white\nkwargs = dict(n_permutations=100, step_down_p=0.05, seed=1,\n              buffer_size=None, out_type='mask')  # for cluster test\n\n# Run TF decomposition overall epochs\ntfr = tfr_multitaper(epochs, freqs=freqs, n_cycles=n_cycles,\n                     use_fft=True, return_itc=False, average=False,\n                     decim=2)\ntfr.crop(tmin, tmax)\ntfr.apply_baseline(baseline, mode=\"percent\")\nfor event in event_ids:\n    # select desired epochs for visualization\n    tfr_ev = tfr[event]\n    fig, axes = plt.subplots(1, 4, figsize=(12, 4),\n                             gridspec_kw={\"width_ratios\": [10, 10, 10, 1]})\n    for ch, ax in enumerate(axes[:-1]):  # for each channel\n        # positive clusters\n        _, c1, p1, _ = pcluster_test(tfr_ev.data[:, ch, ...], tail=1, **kwargs)\n        # negative clusters\n        _, c2, p2, _ = pcluster_test(tfr_ev.data[:, ch, ...], tail=-1,\n                                     **kwargs)\n\n        # note that we keep clusters with p <= 0.05 from the combined clusters\n        # of two independent tests; in this example, we do not correct for\n        # these two comparisons\n        c = np.stack(c1 + c2, axis=2)  # combined clusters\n        p = np.concatenate((p1, p2))  # combined p-values\n        mask = c[..., p <= 0.05].any(axis=-1)\n\n        # plot TFR (ERDS map with masking)\n        tfr_ev.average().plot([ch], vmin=vmin, vmax=vmax, cmap=(cmap, False),\n                              axes=ax, colorbar=False, show=False, mask=mask,\n                              mask_style=\"mask\")\n\n        ax.set_title(epochs.ch_names[ch], fontsize=10)\n        ax.axvline(0, linewidth=1, color=\"black\", linestyle=\":\")  # event\n        if ch != 0:\n            ax.set_ylabel(\"\")\n            ax.set_yticklabels(\"\")\n    fig.colorbar(axes[0].images[-1], cax=axes[-1])\n    fig.suptitle(\"ERDS ({})\".format(event))\n    fig.show()"
      ]
    },
    {
      "cell_type": "markdown",
      "metadata": {},
      "source": [
        "Similar to `~mne.Epochs` objects, we can also export data from\n`~mne.time_frequency.EpochsTFR` and `~mne.time_frequency.AverageTFR` objects\nto a :class:`Pandas DataFrame <pandas.DataFrame>`. By default, the `time`\ncolumn of the exported data frame is in milliseconds. Here, to be consistent\nwith the time-frequency plots, we want to keep it in seconds, which we can\nachieve by setting ``time_format=None``:\n\n"
      ]
    },
    {
      "cell_type": "code",
      "execution_count": null,
      "metadata": {
        "collapsed": false
      },
      "outputs": [],
      "source": [
        "df = tfr.to_data_frame(time_format=None)\ndf.head()"
      ]
    },
    {
      "cell_type": "markdown",
      "metadata": {},
      "source": [
        "This allows us to use additional plotting functions like\n:func:`seaborn.lineplot` to plot confidence bands:\n\n"
      ]
    },
    {
      "cell_type": "code",
      "execution_count": null,
      "metadata": {
        "collapsed": false
      },
      "outputs": [],
      "source": [
        "df = tfr.to_data_frame(time_format=None, long_format=True)\n\n# Map to frequency bands:\nfreq_bounds = {'_': 0,\n               'delta': 3,\n               'theta': 7,\n               'alpha': 13,\n               'beta': 35,\n               'gamma': 140}\ndf['band'] = pd.cut(df['freq'], list(freq_bounds.values()),\n                    labels=list(freq_bounds)[1:])\n\n# Filter to retain only relevant frequency bands:\nfreq_bands_of_interest = ['delta', 'theta', 'alpha', 'beta']\ndf = df[df.band.isin(freq_bands_of_interest)]\ndf['band'] = df['band'].cat.remove_unused_categories()\n\n# Order channels for plotting:\ndf['channel'] = df['channel'].cat.reorder_categories(want_chs, ordered=True)\n\ng = sns.FacetGrid(df, row='band', col='channel', margin_titles=True)\ng.map(sns.lineplot, 'time', 'value', 'condition', n_boot=10)\naxline_kw = dict(color='black', linestyle='dashed', linewidth=0.5, alpha=0.5)\ng.map(plt.axhline, y=0, **axline_kw)\ng.map(plt.axvline, x=0, **axline_kw)\ng.set(ylim=(None, 1.5))\ng.set_axis_labels(\"Time (s)\", \"ERDS (%)\")\ng.set_titles(col_template=\"{col_name}\", row_template=\"{row_name}\")\ng.add_legend(ncol=2, loc='lower center')\ng.fig.subplots_adjust(left=0.1, right=0.9, top=0.9, bottom=0.08)"
      ]
    },
    {
      "cell_type": "markdown",
      "metadata": {},
      "source": [
        "Having the data as a DataFrame also facilitates subsetting,\ngrouping, and other transforms.\nHere, we use seaborn to plot the average ERDS in the motor imagery interval\nas a function of frequency band and imagery condition:\n\n"
      ]
    },
    {
      "cell_type": "code",
      "execution_count": null,
      "metadata": {
        "collapsed": false
      },
      "outputs": [],
      "source": [
        "df_mean = (df.query('time > 1')\n             .groupby(['condition', 'epoch', 'band', 'channel'])[['value']]\n             .mean()\n             .reset_index())\n\ng = sns.FacetGrid(df_mean, col='condition', col_order=['hands', 'feet'],\n                  margin_titles=True)\ng = (g.map(sns.violinplot, 'channel', 'value', 'band', n_boot=10,\n           palette='deep', order=['C3', 'Cz', 'C4'],\n           hue_order=freq_bands_of_interest,\n           linewidth=0.5)\n      .add_legend(ncol=4, loc='lower center'))\n\ng.map(plt.axhline, **axline_kw)\ng.set_axis_labels(\"\", \"ERDS (%)\")\ng.set_titles(col_template=\"{col_name}\", row_template=\"{row_name}\")\ng.fig.subplots_adjust(left=0.1, right=0.9, top=0.9, bottom=0.3)"
      ]
    },
    {
      "cell_type": "markdown",
      "metadata": {},
      "source": [
        "## References\n.. footbibliography::\n\n"
      ]
    }
  ],
  "metadata": {
    "kernelspec": {
      "display_name": "Python 3",
      "language": "python",
      "name": "python3"
    },
    "language_info": {
      "codemirror_mode": {
        "name": "ipython",
        "version": 3
      },
      "file_extension": ".py",
      "mimetype": "text/x-python",
      "name": "python",
      "nbconvert_exporter": "python",
      "pygments_lexer": "ipython3",
      "version": "3.8.5"
    }
  },
  "nbformat": 4,
  "nbformat_minor": 0
}