{
  "cells": [
    {
      "cell_type": "markdown",
      "metadata": {},
      "source": [
        "\n\n# Plotting sensor layouts of EEG systems\n\nThis example illustrates how to load all the EEG system montages\nshipped in MNE-python, and display it on the fsaverage template subject.\n"
      ]
    },
    {
      "cell_type": "code",
      "execution_count": null,
      "metadata": {
        "collapsed": false
      },
      "outputs": [],
      "source": [
        "# Authors: Alexandre Gramfort <alexandre.gramfort@inria.fr>\n#          Joan Massich <mailsik@gmail.com>\n#\n# License: BSD-3-Clause\n# Copyright the MNE-Python contributors."
      ]
    },
    {
      "cell_type": "code",
      "execution_count": null,
      "metadata": {
        "collapsed": false
      },
      "outputs": [],
      "source": [
        "import os.path as op\n\nimport numpy as np\n\nimport mne\nfrom mne.channels.montage import get_builtin_montages\nfrom mne.datasets import fetch_fsaverage\nfrom mne.viz import set_3d_title, set_3d_view"
      ]
    },
    {
      "cell_type": "markdown",
      "metadata": {},
      "source": [
        "Check all montages against a sphere\n\n"
      ]
    },
    {
      "cell_type": "code",
      "execution_count": null,
      "metadata": {
        "collapsed": false
      },
      "outputs": [],
      "source": [
        "for current_montage in get_builtin_montages():\n    montage = mne.channels.make_standard_montage(current_montage)\n    info = mne.create_info(ch_names=montage.ch_names, sfreq=100.0, ch_types=\"eeg\")\n    info.set_montage(montage)\n    sphere = mne.make_sphere_model(r0=\"auto\", head_radius=\"auto\", info=info)\n    fig = mne.viz.plot_alignment(\n        # Plot options\n        show_axes=True,\n        dig=\"fiducials\",\n        surfaces=\"head\",\n        trans=mne.Transform(\"head\", \"mri\", trans=np.eye(4)),  # identity\n        bem=sphere,\n        info=info,\n    )\n    set_3d_view(figure=fig, azimuth=135, elevation=80)\n    set_3d_title(figure=fig, title=current_montage)"
      ]
    },
    {
      "cell_type": "markdown",
      "metadata": {},
      "source": [
        "Check all montages against fsaverage\n\n"
      ]
    },
    {
      "cell_type": "code",
      "execution_count": null,
      "metadata": {
        "collapsed": false
      },
      "outputs": [],
      "source": [
        "subjects_dir = op.dirname(fetch_fsaverage())\n\nfor current_montage in get_builtin_montages():\n    montage = mne.channels.make_standard_montage(current_montage)\n    # Create dummy info\n    info = mne.create_info(ch_names=montage.ch_names, sfreq=100.0, ch_types=\"eeg\")\n    info.set_montage(montage)\n    fig = mne.viz.plot_alignment(\n        # Plot options\n        show_axes=True,\n        dig=\"fiducials\",\n        surfaces=\"head\",\n        mri_fiducials=True,\n        subject=\"fsaverage\",\n        subjects_dir=subjects_dir,\n        info=info,\n        coord_frame=\"mri\",\n        trans=\"fsaverage\",  # transform from head coords to fsaverage's MRI\n    )\n    set_3d_view(figure=fig, azimuth=135, elevation=80)\n    set_3d_title(figure=fig, title=current_montage)"
      ]
    }
  ],
  "metadata": {
    "kernelspec": {
      "display_name": "Python 3",
      "language": "python",
      "name": "python3"
    },
    "language_info": {
      "codemirror_mode": {
        "name": "ipython",
        "version": 3
      },
      "file_extension": ".py",
      "mimetype": "text/x-python",
      "name": "python",
      "nbconvert_exporter": "python",
      "pygments_lexer": "ipython3",
      "version": "3.12.3"
    }
  },
  "nbformat": 4,
  "nbformat_minor": 0
}