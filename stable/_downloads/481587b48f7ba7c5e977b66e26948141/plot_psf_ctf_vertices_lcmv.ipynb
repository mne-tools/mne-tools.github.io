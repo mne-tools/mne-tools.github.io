{
  "cells": [
    {
      "cell_type": "code",
      "execution_count": null,
      "metadata": {
        "collapsed": false
      },
      "outputs": [],
      "source": [
        "%matplotlib inline"
      ]
    },
    {
      "cell_type": "markdown",
      "metadata": {},
      "source": [
        "\n# Compute cross-talk functions for LCMV beamformers\n\nVisualise cross-talk functions at one vertex for LCMV beamformers computed\nwith different data covariance matrices, which affects their cross-talk\nfunctions.\n"
      ]
    },
    {
      "cell_type": "code",
      "execution_count": null,
      "metadata": {
        "collapsed": false
      },
      "outputs": [],
      "source": [
        "# Author: Olaf Hauk <olaf.hauk@mrc-cbu.cam.ac.uk>\n#\n# License: BSD (3-clause)\n\nimport mne\nfrom mne.datasets import sample\nfrom mne.beamformer import make_lcmv, make_lcmv_resolution_matrix\nfrom mne.minimum_norm import get_cross_talk\n\nprint(__doc__)\n\ndata_path = sample.data_path()\nsubjects_dir = data_path + '/subjects/'\nfname_fwd = data_path + '/MEG/sample/sample_audvis-meg-eeg-oct-6-fwd.fif'\nfname_cov = data_path + '/MEG/sample/sample_audvis-cov.fif'\nfname_evo = data_path + '/MEG/sample/sample_audvis-ave.fif'\nraw_fname = data_path + '/MEG/sample/sample_audvis_filt-0-40_raw.fif'\n\n# Read raw data\nraw = mne.io.read_raw_fif(raw_fname)\n\n# only pick good EEG/MEG sensors\nraw.info['bads'] += ['EEG 053']  # bads + 1 more\npicks = mne.pick_types(raw.info, meg=True, eeg=True, exclude='bads')\n\n# Find events\nevents = mne.find_events(raw)\n\n# event_id = {'aud/l': 1, 'aud/r': 2, 'vis/l': 3, 'vis/r': 4}\nevent_id = {'vis/l': 3, 'vis/r': 4}\n\ntmin, tmax = -.2, .25  # epoch duration\nepochs = mne.Epochs(raw, events, event_id=event_id, tmin=tmin, tmax=tmax,\n                    picks=picks, baseline=(-.2, 0.), preload=True)\ndel raw\n\n# covariance matrix for pre-stimulus interval\ntmin, tmax = -.2, 0.\ncov_pre = mne.compute_covariance(epochs, tmin=tmin, tmax=tmax,\n                                 method='empirical')\n\n# covariance matrix for post-stimulus interval (around main evoked responses)\ntmin, tmax = 0.05, .25\ncov_post = mne.compute_covariance(epochs, tmin=tmin, tmax=tmax,\n                                  method='empirical')\ninfo = epochs.info\ndel epochs\n\n# read forward solution\nforward = mne.read_forward_solution(fname_fwd)\n# use forward operator with fixed source orientations\nmne.convert_forward_solution(forward, surf_ori=True,\n                             force_fixed=True, copy=False)\n\n# read noise covariance matrix\nnoise_cov = mne.read_cov(fname_cov)\n\n# regularize noise covariance (we used 'empirical' above)\nnoise_cov = mne.cov.regularize(noise_cov, info, mag=0.1, grad=0.1,\n                               eeg=0.1, rank='info')"
      ]
    },
    {
      "cell_type": "markdown",
      "metadata": {},
      "source": [
        "## Compute LCMV filters with different data covariance matrices\n\n"
      ]
    },
    {
      "cell_type": "code",
      "execution_count": null,
      "metadata": {
        "collapsed": false
      },
      "outputs": [],
      "source": [
        "# compute LCMV beamformer filters for pre-stimulus interval\nfilters_pre = make_lcmv(info, forward, cov_pre, reg=0.05,\n                        noise_cov=noise_cov,\n                        pick_ori=None, rank=None,\n                        weight_norm=None,\n                        reduce_rank=False,\n                        verbose=False)\n\n# compute LCMV beamformer filters for post-stimulus interval\nfilters_post = make_lcmv(info, forward, cov_post, reg=0.05,\n                         noise_cov=noise_cov,\n                         pick_ori=None, rank=None,\n                         weight_norm=None,\n                         reduce_rank=False,\n                         verbose=False)"
      ]
    },
    {
      "cell_type": "markdown",
      "metadata": {},
      "source": [
        "## Compute resolution matrices for the two LCMV beamformers\n\n"
      ]
    },
    {
      "cell_type": "code",
      "execution_count": null,
      "metadata": {
        "collapsed": false
      },
      "outputs": [],
      "source": [
        "rm_pre = make_lcmv_resolution_matrix(filters_pre, forward, info)\n\nrm_post = make_lcmv_resolution_matrix(filters_post, forward, info)\n\n# compute cross-talk functions (CTFs) for one target vertex\nsources = [3000]\n\nstc_pre = get_cross_talk(rm_pre, forward['src'], sources, norm=True)\n\nstc_post = get_cross_talk(rm_post, forward['src'], sources, norm=True)\nverttrue = [forward['src'][0]['vertno'][sources[0]]]  # pick one vertex\ndel forward"
      ]
    },
    {
      "cell_type": "markdown",
      "metadata": {},
      "source": [
        "## Visualize\nPre:\n\n"
      ]
    },
    {
      "cell_type": "code",
      "execution_count": null,
      "metadata": {
        "collapsed": false
      },
      "outputs": [],
      "source": [
        "brain_pre = stc_pre.plot('sample', 'inflated', 'lh', subjects_dir=subjects_dir,\n                         figure=1, clim=dict(kind='value', lims=(0, .2, .4)))\n\nbrain_pre.add_text(0.1, 0.9, 'LCMV beamformer with pre-stimulus\\ndata '\n                   'covariance matrix', 'title', font_size=16)\n\n# mark true source location for CTFs\nbrain_pre.add_foci(verttrue, coords_as_verts=True, scale_factor=1., hemi='lh',\n                   color='green')"
      ]
    },
    {
      "cell_type": "markdown",
      "metadata": {},
      "source": [
        "Post:\n\n"
      ]
    },
    {
      "cell_type": "code",
      "execution_count": null,
      "metadata": {
        "collapsed": false
      },
      "outputs": [],
      "source": [
        "brain_post = stc_post.plot('sample', 'inflated', 'lh',\n                           subjects_dir=subjects_dir,\n                           figure=2, clim=dict(kind='value', lims=(0, .2, .4)))\n\nbrain_post.add_text(0.1, 0.9, 'LCMV beamformer with post-stimulus\\ndata '\n                    'covariance matrix', 'title', font_size=16)\n\nbrain_post.add_foci(verttrue, coords_as_verts=True, scale_factor=1.,\n                    hemi='lh', color='green')"
      ]
    },
    {
      "cell_type": "markdown",
      "metadata": {},
      "source": [
        "The pre-stimulus beamformer's CTF has lower values in parietal regions\nsuppressed alpha activity?) but larger values in occipital regions (less\nsuppression of visual activity?).\n\n"
      ]
    }
  ],
  "metadata": {
    "kernelspec": {
      "display_name": "Python 3",
      "language": "python",
      "name": "python3"
    },
    "language_info": {
      "codemirror_mode": {
        "name": "ipython",
        "version": 3
      },
      "file_extension": ".py",
      "mimetype": "text/x-python",
      "name": "python",
      "nbconvert_exporter": "python",
      "pygments_lexer": "ipython3",
      "version": "3.8.5"
    }
  },
  "nbformat": 4,
  "nbformat_minor": 0
}