{
  "cells": [
    {
      "cell_type": "code",
      "execution_count": null,
      "metadata": {
        "collapsed": false
      },
      "outputs": [],
      "source": [
        "%matplotlib inline"
      ]
    },
    {
      "cell_type": "markdown",
      "metadata": {},
      "source": [
        "\n# Compute and visualize ERDS maps\n\nThis example calculates and displays ERDS maps of event-related EEG data. ERDS\n(sometimes also written as ERD/ERS) is short for event-related\ndesynchronization (ERD) and event-related synchronization (ERS) [1]_.\nConceptually, ERD corresponds to a decrease in power in a specific frequency\nband relative to a baseline. Similarly, ERS corresponds to an increase in\npower. An ERDS map is a time/frequency representation of ERD/ERS over a range\nof frequencies [2]_. ERDS maps are also known as ERSP (event-related spectral\nperturbation) [3]_.\n\nWe use a public EEG BCI data set containing two different motor imagery tasks\navailable at PhysioNet. The two tasks are imagined hand and feet movement. Our\ngoal is to generate ERDS maps for each of the two tasks.\n\nFirst, we load the data and create epochs of 5s length. The data sets contain\nmultiple channels, but we will only consider the three channels C3, Cz, and C4.\nWe compute maps containing frequencies ranging from 2 to 35Hz. We map ERD to\nred color and ERS to blue color, which is the convention in many ERDS\npublications. Finally, we perform cluster-based permutation tests to estimate\nsignificant ERDS values (corrected for multiple comparisons within channels).\n\n## References\n\n.. [1] G. Pfurtscheller, F. H. Lopes da Silva. Event-related EEG/MEG\n       synchronization and desynchronization: basic principles. Clinical\n       Neurophysiology 110(11), 1842-1857, 1999.\n.. [2] B. Graimann, J. E. Huggins, S. P. Levine, G. Pfurtscheller.\n       Visualization of significant ERD/ERS patterns in multichannel EEG and\n       ECoG data. Clinical Neurophysiology 113(1), 43-47, 2002.\n.. [3] S. Makeig. Auditory event-related dynamics of the EEG spectrum and\n       effects of exposure to tones. Electroencephalography and Clinical\n       Neurophysiology 86(4), 283-293, 1993.\n"
      ]
    },
    {
      "cell_type": "code",
      "execution_count": null,
      "metadata": {
        "collapsed": false
      },
      "outputs": [],
      "source": [
        "# Authors: Clemens Brunner <clemens.brunner@gmail.com>\n#\n# License: BSD (3-clause)\n\nimport numpy as np\nimport matplotlib.pyplot as plt\nimport mne\nfrom mne.datasets import eegbci\nfrom mne.io import concatenate_raws, read_raw_edf\nfrom mne.time_frequency import tfr_multitaper\nfrom mne.stats import permutation_cluster_1samp_test as pcluster_test\nfrom mne.viz.utils import center_cmap\n\n\n# load and preprocess data ####################################################\nsubject = 1  # use data from subject 1\nruns = [6, 10, 14]  # use only hand and feet motor imagery runs\n\nfnames = eegbci.load_data(subject, runs)\nraws = [read_raw_edf(f, preload=True) for f in fnames]\nraw = concatenate_raws(raws)\n\nraw.rename_channels(lambda x: x.strip('.'))  # remove dots from channel names\n\nevents, _ = mne.events_from_annotations(raw, event_id=dict(T1=2, T2=3))\n\npicks = mne.pick_channels(raw.info[\"ch_names\"], [\"C3\", \"Cz\", \"C4\"])\n\n# epoch data ##################################################################\ntmin, tmax = -1, 4  # define epochs around events (in s)\nevent_ids = dict(hands=2, feet=3)  # map event IDs to tasks\n\nepochs = mne.Epochs(raw, events, event_ids, tmin - 0.5, tmax + 0.5,\n                    picks=picks, baseline=None, preload=True)\n\n# compute ERDS maps ###########################################################\nfreqs = np.arange(2, 36, 1)  # frequencies from 2-35Hz\nn_cycles = freqs  # use constant t/f resolution\nvmin, vmax = -1, 1.5  # set min and max ERDS values in plot\nbaseline = [-1, 0]  # baseline interval (in s)\ncmap = center_cmap(plt.cm.RdBu, vmin, vmax)  # zero maps to white\nkwargs = dict(n_permutations=100, step_down_p=0.05, seed=1,\n              buffer_size=None, out_type='mask')  # for cluster test\n\n# Run TF decomposition overall epochs\ntfr = tfr_multitaper(epochs, freqs=freqs, n_cycles=n_cycles,\n                     use_fft=True, return_itc=False, average=False,\n                     decim=2)\ntfr.crop(tmin, tmax)\ntfr.apply_baseline(baseline, mode=\"percent\")\nfor event in event_ids:\n    # select desired epochs for visualization\n    tfr_ev = tfr[event]\n    fig, axes = plt.subplots(1, 4, figsize=(12, 4),\n                             gridspec_kw={\"width_ratios\": [10, 10, 10, 1]})\n    for ch, ax in enumerate(axes[:-1]):  # for each channel\n        # positive clusters\n        _, c1, p1, _ = pcluster_test(tfr_ev.data[:, ch, ...], tail=1, **kwargs)\n        # negative clusters\n        _, c2, p2, _ = pcluster_test(tfr_ev.data[:, ch, ...], tail=-1,\n                                     **kwargs)\n\n        # note that we keep clusters with p <= 0.05 from the combined clusters\n        # of two independent tests; in this example, we do not correct for\n        # these two comparisons\n        c = np.stack(c1 + c2, axis=2)  # combined clusters\n        p = np.concatenate((p1, p2))  # combined p-values\n        mask = c[..., p <= 0.05].any(axis=-1)\n\n        # plot TFR (ERDS map with masking)\n        tfr_ev.average().plot([ch], vmin=vmin, vmax=vmax, cmap=(cmap, False),\n                              axes=ax, colorbar=False, show=False, mask=mask,\n                              mask_style=\"mask\")\n\n        ax.set_title(epochs.ch_names[ch], fontsize=10)\n        ax.axvline(0, linewidth=1, color=\"black\", linestyle=\":\")  # event\n        if ch != 0:\n            ax.set_ylabel(\"\")\n            ax.set_yticklabels(\"\")\n    fig.colorbar(axes[0].images[-1], cax=axes[-1])\n    fig.suptitle(\"ERDS ({})\".format(event))\n    fig.show()"
      ]
    }
  ],
  "metadata": {
    "kernelspec": {
      "display_name": "Python 3",
      "language": "python",
      "name": "python3"
    },
    "language_info": {
      "codemirror_mode": {
        "name": "ipython",
        "version": 3
      },
      "file_extension": ".py",
      "mimetype": "text/x-python",
      "name": "python",
      "nbconvert_exporter": "python",
      "pygments_lexer": "ipython3",
      "version": "3.8.5"
    }
  },
  "nbformat": 4,
  "nbformat_minor": 0
}