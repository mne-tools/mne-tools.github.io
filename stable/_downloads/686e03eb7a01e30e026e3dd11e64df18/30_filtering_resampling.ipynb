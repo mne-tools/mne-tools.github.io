{
  "cells": [
    {
      "cell_type": "markdown",
      "metadata": {},
      "source": [
        "\n\n# Filtering and resampling data\n\nThis tutorial covers filtering and resampling, and gives examples of how\nfiltering can be used for artifact repair.\n\nWe begin as always by importing the necessary Python modules and loading some\n`example data <sample-dataset>`. We'll also crop the data to 60 seconds\n(to save memory on the documentation server):\n"
      ]
    },
    {
      "cell_type": "code",
      "execution_count": null,
      "metadata": {
        "collapsed": false
      },
      "outputs": [],
      "source": [
        "# License: BSD-3-Clause\n# Copyright the MNE-Python contributors."
      ]
    },
    {
      "cell_type": "code",
      "execution_count": null,
      "metadata": {
        "collapsed": false
      },
      "outputs": [],
      "source": [
        "import os\n\nimport matplotlib.pyplot as plt\nimport numpy as np\n\nimport mne\n\nsample_data_folder = mne.datasets.sample.data_path()\nsample_data_raw_file = os.path.join(\n    sample_data_folder, \"MEG\", \"sample\", \"sample_audvis_raw.fif\"\n)\nraw = mne.io.read_raw_fif(sample_data_raw_file)\n# use just 60 seconds of data and mag channels, to save memory\nraw.crop(0, 60).pick(picks=[\"mag\", \"stim\"]).load_data()"
      ]
    },
    {
      "cell_type": "markdown",
      "metadata": {},
      "source": [
        "## Background on filtering\n\nA filter removes or attenuates parts of a signal. Usually, filters act on\nspecific *frequency ranges* of a signal \u2014 for example, suppressing all\nfrequency components above or below a certain cutoff value. There are *many*\nways of designing digital filters; see `disc-filtering` for a longer\ndiscussion of the various approaches to filtering physiological signals in\nMNE-Python.\n\n\n## Repairing artifacts by filtering\n\nArtifacts that are restricted to a narrow frequency range can sometimes\nbe repaired by filtering the data. Two examples of frequency-restricted\nartifacts are slow drifts and power line noise. Here we illustrate how each\nof these can be repaired by filtering.\n\n\n### Slow drifts\n\nLow-frequency drifts in raw data can usually be spotted by plotting a fairly\nlong span of data with the :meth:`~mne.io.Raw.plot` method, though it is\nhelpful to disable channel-wise DC shift correction to make slow drifts\nmore readily visible. Here we plot 60 seconds, showing all the magnetometer\nchannels:\n\n"
      ]
    },
    {
      "cell_type": "code",
      "execution_count": null,
      "metadata": {
        "collapsed": false
      },
      "outputs": [],
      "source": [
        "raw.plot(duration=60, proj=False, n_channels=len(raw.ch_names), remove_dc=False)"
      ]
    },
    {
      "cell_type": "markdown",
      "metadata": {},
      "source": [
        "A half-period of this slow drift appears to last around 10 seconds, so a full\nperiod would be 20 seconds, i.e., $\\frac{1}{20} \\mathrm{Hz}$. To be\nsure those components are excluded, we want our highpass to be *higher* than\nthat, so let's try $\\frac{1}{10} \\mathrm{Hz}$ and $\\frac{1}{5}\n\\mathrm{Hz}$ filters to see which works best:\n\n"
      ]
    },
    {
      "cell_type": "code",
      "execution_count": null,
      "metadata": {
        "collapsed": false
      },
      "outputs": [],
      "source": [
        "for cutoff in (0.1, 0.2):\n    raw_highpass = raw.copy().filter(l_freq=cutoff, h_freq=None)\n    with mne.viz.use_browser_backend(\"matplotlib\"):\n        fig = raw_highpass.plot(\n            duration=60, proj=False, n_channels=len(raw.ch_names), remove_dc=False\n        )\n    fig.subplots_adjust(top=0.9)\n    fig.suptitle(f\"High-pass filtered at {cutoff} Hz\", size=\"xx-large\", weight=\"bold\")"
      ]
    },
    {
      "cell_type": "markdown",
      "metadata": {},
      "source": [
        "Looks like 0.1 Hz was not quite high enough to fully remove the slow drifts.\nNotice that the text output summarizes the relevant characteristics of the\nfilter that was created. If you want to visualize the filter, you can pass\nthe same arguments used in the call to :meth:`raw.filter()\n<mne.io.Raw.filter>` above to the function :func:`mne.filter.create_filter`\nto get the filter parameters, and then pass the filter parameters to\n:func:`mne.viz.plot_filter`. :func:`~mne.filter.create_filter` also requires\nparameters ``data`` (a :class:`NumPy array <numpy.ndarray>`) and ``sfreq``\n(the sampling frequency of the data), so we'll extract those from our\n:class:`~mne.io.Raw` object:\n\n"
      ]
    },
    {
      "cell_type": "code",
      "execution_count": null,
      "metadata": {
        "collapsed": false
      },
      "outputs": [],
      "source": [
        "filter_params = mne.filter.create_filter(\n    raw.get_data(), raw.info[\"sfreq\"], l_freq=0.2, h_freq=None\n)"
      ]
    },
    {
      "cell_type": "markdown",
      "metadata": {},
      "source": [
        "Notice that the output is the same as when we applied this filter to the data\nusing :meth:`raw.filter() <mne.io.Raw.filter>`. You can now pass the filter\nparameters (and the sampling frequency) to :func:`~mne.viz.plot_filter` to\nplot the filter:\n\n"
      ]
    },
    {
      "cell_type": "code",
      "execution_count": null,
      "metadata": {
        "collapsed": false
      },
      "outputs": [],
      "source": [
        "mne.viz.plot_filter(filter_params, raw.info[\"sfreq\"], flim=(0.01, 5))"
      ]
    },
    {
      "cell_type": "markdown",
      "metadata": {},
      "source": [
        "\n### Power line noise\n\nPower line noise is an environmental artifact that manifests as persistent\noscillations centered around the `AC power line frequency`_. Power line\nartifacts are easiest to see on plots of the spectrum, so we'll use\n:meth:`~mne.io.Raw.compute_psd` to get a\n:class:`~mne.time_frequency.Spectrum` object, and use its\n:meth:`~mne.time_frequency.Spectrum.plot` method to illustrate. We'll also\nwrite a little function that adds arrows to the spectrum plot to highlight\nthe artifacts:\n\n"
      ]
    },
    {
      "cell_type": "code",
      "execution_count": null,
      "metadata": {
        "collapsed": false
      },
      "outputs": [],
      "source": [
        "def add_arrows(axes):\n    \"\"\"Add some arrows at 60 Hz and its harmonics.\"\"\"\n    for ax in axes:\n        freqs = ax.lines[-1].get_xdata()\n        psds = ax.lines[-1].get_ydata()\n        for freq in (60, 120, 180, 240):\n            idx = np.searchsorted(freqs, freq)\n            # get ymax of a small region around the freq. of interest\n            y = psds[(idx - 4) : (idx + 5)].max()\n            ax.arrow(\n                x=freqs[idx],\n                y=y + 18,\n                dx=0,\n                dy=-12,\n                color=\"red\",\n                width=0.1,\n                head_width=3,\n                length_includes_head=True,\n            )\n\n\nfig = raw.compute_psd(fmax=250).plot(\n    average=True, amplitude=False, picks=\"data\", exclude=\"bads\"\n)\nadd_arrows(fig.axes[:2])"
      ]
    },
    {
      "cell_type": "markdown",
      "metadata": {},
      "source": [
        "It should be evident that MEG channels are more susceptible to this kind of\ninterference than EEG that is recorded in the magnetically shielded room.\nRemoving power-line noise can be done with a notch filter,\napplied directly to the :class:`~mne.io.Raw` object, specifying an array of\nfrequencies to be attenuated. Since the EEG channels are relatively\nunaffected by the power line noise, we'll also specify a ``picks`` argument\nso that only the magnetometers and gradiometers get filtered:\n\n"
      ]
    },
    {
      "cell_type": "code",
      "execution_count": null,
      "metadata": {
        "collapsed": false
      },
      "outputs": [],
      "source": [
        "meg_picks = mne.pick_types(raw.info, meg=True)\nfreqs = (60, 120, 180, 240)\nraw_notch = raw.copy().notch_filter(freqs=freqs, picks=meg_picks)\nfor title, data in zip([\"Un\", \"Notch \"], [raw, raw_notch]):\n    fig = data.compute_psd(fmax=250).plot(\n        average=True, amplitude=False, picks=\"data\", exclude=\"bads\"\n    )\n    fig.suptitle(f\"{title}filtered\", size=\"xx-large\", weight=\"bold\")\n    add_arrows(fig.axes[:2])"
      ]
    },
    {
      "cell_type": "markdown",
      "metadata": {},
      "source": [
        ":meth:`~mne.io.Raw.notch_filter` also has parameters to control the notch\nwidth, transition bandwidth and other aspects of the filter. See the\ndocstring for details.\n\nIt's also possible to try to use a spectrum fitting routine to notch filter.\nIn principle it can automatically detect the frequencies to notch, but our\nimplementation generally does not do so reliably, so we specify the\nfrequencies to remove instead, and it does a good job of removing the\nline noise at those frequencies:\n\n"
      ]
    },
    {
      "cell_type": "code",
      "execution_count": null,
      "metadata": {
        "collapsed": false
      },
      "outputs": [],
      "source": [
        "raw_notch_fit = raw.copy().notch_filter(\n    freqs=freqs, picks=meg_picks, method=\"spectrum_fit\", filter_length=\"10s\"\n)\nfor title, data in zip([\"Un\", \"spectrum_fit \"], [raw, raw_notch_fit]):\n    fig = data.compute_psd(fmax=250).plot(\n        average=True, amplitude=False, picks=\"data\", exclude=\"bads\"\n    )\n    fig.suptitle(f\"{title}filtered\", size=\"xx-large\", weight=\"bold\")\n    add_arrows(fig.axes[:2])"
      ]
    },
    {
      "cell_type": "markdown",
      "metadata": {},
      "source": [
        "## Resampling\n\nEEG and MEG recordings are notable for their high temporal precision, and are\noften recorded with sampling rates around 1000 Hz or higher. This is good\nwhen precise timing of events is important to the experimental design or\nanalysis plan, but also consumes more memory and computational resources when\nprocessing the data. In cases where high-frequency components of the signal\nare not of interest and precise timing is not needed (e.g., computing EOG or\nECG projectors on a long recording), downsampling the signal can be a useful\ntime-saver.\n\nIn MNE-Python, the resampling methods (:meth:`raw.resample()\n<mne.io.Raw.resample>`, :meth:`epochs.resample() <mne.Epochs.resample>` and\n:meth:`evoked.resample() <mne.Evoked.resample>`) apply a low-pass filter to\nthe signal to avoid `aliasing`_, so you don't need to explicitly filter it\nyourself first. This built-in filtering that happens when using\n:meth:`raw.resample() <mne.io.Raw.resample>`, :meth:`epochs.resample()\n<mne.Epochs.resample>`, or :meth:`evoked.resample() <mne.Evoked.resample>` is\na brick-wall filter applied in the frequency domain at the `Nyquist\nfrequency`_ of the desired new sampling rate. This can be clearly seen in the\nPSD plot, where a dashed vertical line indicates the filter cutoff; the\noriginal data had an existing lowpass at around 172 Hz (see\n``raw.info['lowpass']``), and the data resampled from ~600 Hz to 200 Hz gets\nautomatically lowpass filtered at 100 Hz (the `Nyquist frequency`_ for a\ntarget rate of 200 Hz):\n\n"
      ]
    },
    {
      "cell_type": "code",
      "execution_count": null,
      "metadata": {
        "collapsed": false
      },
      "outputs": [],
      "source": [
        "raw_downsampled = raw.copy().resample(sfreq=200)\n# choose n_fft for Welch PSD to make frequency axes similar resolution\nn_ffts = [4096, int(round(4096 * 200 / raw.info[\"sfreq\"]))]\nfig, axes = plt.subplots(2, 1, sharey=True, layout=\"constrained\", figsize=(10, 6))\nfor ax, data, title, n_fft in zip(\n    axes, [raw, raw_downsampled], [\"Original\", \"Downsampled\"], n_ffts\n):\n    fig = data.compute_psd(n_fft=n_fft).plot(\n        average=True, amplitude=False, picks=\"data\", exclude=\"bads\", axes=ax\n    )\n    ax.set(title=title, xlim=(0, 300))"
      ]
    },
    {
      "cell_type": "markdown",
      "metadata": {},
      "source": [
        "By default, MNE-Python resamples using ``method=\"fft\"``, which performs FFT-based\nresampling via :func:`scipy.signal.resample`. While efficient and good for most\nbiological signals, it has two main potential drawbacks:\n\n1. It assumes periodicity of the signal. We try to overcome this with appropriate\n   signal padding, but some signal leakage may still occur.\n2. It treats the entire signal as a single block. This means that in general effects\n   are not guaranteed to be localized in time, though in practice they often are.\n\nAlternatively, resampling can be performed using ``method=\"polyphase\"`` instead.\nThis uses :func:`scipy.signal.resample_poly` under the hood, which in turn utilizes\na three-step process to resample signals (see :func:`scipy.signal.upfirdn` for\ndetails). This process guarantees that each resampled output value is only affected by\ninput values within a limited range. In other words, output values are guaranteed to\nbe a result of a specific set of input values.\n\nIn general, using ``method=\"polyphase\"`` can also be faster than ``method=\"fft\"`` in\ncases where the desired sampling rate is an integer factor different from the input\nsampling rate. For example:\n\n"
      ]
    },
    {
      "cell_type": "code",
      "execution_count": null,
      "metadata": {
        "collapsed": false
      },
      "outputs": [],
      "source": [
        "n_ffts = [4096, 2048]  # factor of 2 smaller n_fft\nraw_downsampled_poly = raw.copy().resample(\n    sfreq=raw.info[\"sfreq\"] / 2.0,\n    method=\"polyphase\",\n    verbose=True,\n)\nfig, axes = plt.subplots(2, 1, sharey=True, layout=\"constrained\", figsize=(10, 6))\nfor ax, data, title, n_fft in zip(\n    axes, [raw, raw_downsampled_poly], [\"Original\", \"Downsampled (polyphase)\"], n_ffts\n):\n    data.compute_psd(n_fft=n_fft).plot(\n        average=True, amplitude=False, picks=\"data\", exclude=\"bads\", axes=ax\n    )\n    ax.set(title=title, xlim=(0, 300))"
      ]
    },
    {
      "cell_type": "markdown",
      "metadata": {},
      "source": [
        "Because resampling involves filtering, there are some pitfalls to resampling\nat different points in the analysis stream:\n\n- Performing resampling on :class:`~mne.io.Raw` data (*before* epoching) will\n  negatively affect the temporal precision of Event arrays, by causing\n  `jitter`_ in the event timing. This reduced temporal precision will\n  propagate to subsequent epoching operations.\n\n- Performing resampling *after* epoching can introduce edge artifacts *on\n  every epoch*, whereas filtering the :class:`~mne.io.Raw` object will only\n  introduce artifacts at the start and end of the recording (which is often\n  far enough from the first and last epochs to have no affect on the\n  analysis).\n\nThe following section suggests best practices to mitigate both of these\nissues.\n\n\n### Best practices\n\nTo avoid the reduction in temporal precision of events that comes with\nresampling a :class:`~mne.io.Raw` object, and also avoid the edge artifacts\nthat come with filtering an :class:`~mne.Epochs` or :class:`~mne.Evoked`\nobject, the best practice is to:\n\n1. low-pass filter the :class:`~mne.io.Raw` data at or below\n   $\\frac{1}{3}$ of the desired sample rate, then\n\n2. decimate the data after epoching, by either passing the ``decim``\n   parameter to the :class:`~mne.Epochs` constructor, or using the\n   :meth:`~mne.Epochs.decimate` method after the :class:`~mne.Epochs` have\n   been created.\n\n<div class=\"alert alert-danger\"><h4>Warning</h4><p>The recommendation for setting the low-pass corner frequency at\n   $\\frac{1}{3}$ of the desired sample rate is a fairly safe rule of\n   thumb based on the default settings in :meth:`raw.filter()\n   <mne.io.Raw.filter>` (which are different from the filter settings used\n   inside the :meth:`raw.resample() <mne.io.Raw.resample>` method). If you\n   use a customized lowpass filter (specifically, if your transition\n   bandwidth is wider than 0.5\u00d7 the lowpass cutoff), downsampling to 3\u00d7 the\n   lowpass cutoff may still not be enough to avoid `aliasing`_, and\n   MNE-Python will not warn you about it (because the :class:`raw.info\n   <mne.Info>` object only keeps track of the lowpass cutoff, not the\n   transition bandwidth). Conversely, if you use a steeper filter, the\n   warning may be too sensitive. If you are unsure, plot the PSD of your\n   filtered data *before decimating* and ensure that there is no content in\n   the frequencies above the `Nyquist frequency`_ of the sample rate you'll\n   end up with *after* decimation.</p></div>\n\nNote that this method of manually filtering and decimating is exact only when\nthe original sampling frequency is an integer multiple of the desired new\nsampling frequency. Since the sampling frequency of our example data is\n600.614990234375 Hz, ending up with a specific sampling frequency like (say)\n90 Hz will not be possible:\n\n"
      ]
    },
    {
      "cell_type": "code",
      "execution_count": null,
      "metadata": {
        "collapsed": false
      },
      "outputs": [],
      "source": [
        "current_sfreq = raw.info[\"sfreq\"]\ndesired_sfreq = 90  # Hz\ndecim = np.round(current_sfreq / desired_sfreq).astype(int)\nobtained_sfreq = current_sfreq / decim\nlowpass_freq = obtained_sfreq / 3.0\n\nraw_filtered = raw.copy().filter(l_freq=None, h_freq=lowpass_freq)\nevents = mne.find_events(raw_filtered)\nepochs = mne.Epochs(raw_filtered, events, decim=decim)\n\nprint(\n    \"desired sampling frequency was {} Hz; decim factor of {} yielded an \"\n    \"actual sampling frequency of {} Hz.\".format(\n        desired_sfreq, decim, epochs.info[\"sfreq\"]\n    )\n)"
      ]
    },
    {
      "cell_type": "markdown",
      "metadata": {},
      "source": [
        "If for some reason you cannot follow the above-recommended best practices,\nyou should at the very least either:\n\n1. resample the data *after* epoching, and make your epochs long enough that\n   edge effects from the filtering do not affect the temporal span of the\n   epoch that you hope to analyze / interpret; or\n\n2. perform resampling on the :class:`~mne.io.Raw` object and its\n   corresponding Events array *simultaneously* so that they stay more or less\n   in synch. This can be done by passing the Events array as the\n   ``events`` parameter to :meth:`raw.resample() <mne.io.Raw.resample>`.\n\n\n.. LINKS\n\n   https://en.wikipedia.org/wiki/Mains_electricity\n\n"
      ]
    }
  ],
  "metadata": {
    "kernelspec": {
      "display_name": "Python 3",
      "language": "python",
      "name": "python3"
    },
    "language_info": {
      "codemirror_mode": {
        "name": "ipython",
        "version": 3
      },
      "file_extension": ".py",
      "mimetype": "text/x-python",
      "name": "python",
      "nbconvert_exporter": "python",
      "pygments_lexer": "ipython3",
      "version": "3.10.12"
    }
  },
  "nbformat": 4,
  "nbformat_minor": 0
}