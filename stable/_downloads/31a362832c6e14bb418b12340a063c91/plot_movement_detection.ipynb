{
  "cells": [
    {
      "cell_type": "code",
      "execution_count": null,
      "metadata": {
        "collapsed": false
      },
      "outputs": [],
      "source": [
        "%matplotlib inline"
      ]
    },
    {
      "cell_type": "markdown",
      "metadata": {},
      "source": [
        "\n# Annotate movement artifacts and reestimate dev_head_t\n\nPeriods, where the participant moved considerably, are contaminated by low\namplitude artifacts. When averaging the magnetic fields, the more spread the\nhead position, the bigger the cancellation due to different locations.\nSimilarly, the covariance will also be affected by severe head movement,\nand source estimation will suffer low/smeared coregistration accuracy.\n\nThis example uses the continuous head position indicators (cHPI) times series\nto annotate periods of head movement, then the device to head transformation\nmatrix is estimated from the artifact-free segments. The new head position will\nbe more representative of the actual head position during the recording.\n"
      ]
    },
    {
      "cell_type": "code",
      "execution_count": null,
      "metadata": {
        "collapsed": false
      },
      "outputs": [],
      "source": [
        "# Authors: Adonay Nunes <adonay.s.nunes@gmail.com>\n#          Luke Bloy <luke.bloy@gmail.com>\n# License: BSD (3-clause)\n\nimport os.path as op\n\nimport mne\nfrom mne.datasets.brainstorm import bst_auditory\nfrom mne.io import read_raw_ctf\nfrom mne.preprocessing import annotate_movement, compute_average_dev_head_t\n\n# Load data\ndata_path = bst_auditory.data_path()\ndata_path_MEG = op.join(data_path, 'MEG')\nsubject = 'bst_auditory'\nsubjects_dir = op.join(data_path, 'subjects')\ntrans_fname = op.join(data_path, 'MEG', 'bst_auditory',\n                      'bst_auditory-trans.fif')\nraw_fname1 = op.join(data_path_MEG, 'bst_auditory', 'S01_AEF_20131218_01.ds')\nraw_fname2 = op.join(data_path_MEG, 'bst_auditory', 'S01_AEF_20131218_02.ds')\n# read and concatenate two files\nraw = read_raw_ctf(raw_fname1, preload=False)\nmne.io.concatenate_raws([raw, read_raw_ctf(raw_fname2, preload=False)])\nraw.crop(350, 410).load_data()\nraw.resample(100, npad=\"auto\")"
      ]
    },
    {
      "cell_type": "markdown",
      "metadata": {},
      "source": [
        "## Plot continuous head position with respect to the mean recording position\n\n"
      ]
    },
    {
      "cell_type": "code",
      "execution_count": null,
      "metadata": {
        "collapsed": false
      },
      "outputs": [],
      "source": [
        "# Get cHPI time series and compute average\nchpi_locs = mne.chpi.extract_chpi_locs_ctf(raw)\nhead_pos = mne.chpi.compute_head_pos(raw.info, chpi_locs)\noriginal_head_dev_t = mne.transforms.invert_transform(\n    raw.info['dev_head_t'])\naverage_head_dev_t = mne.transforms.invert_transform(\n    compute_average_dev_head_t(raw, head_pos))\nfig = mne.viz.plot_head_positions(head_pos)\nfor ax, val, val_ori in zip(fig.axes[::2], average_head_dev_t['trans'][:3, 3],\n                            original_head_dev_t['trans'][:3, 3]):\n    ax.axhline(1000 * val, color='r')\n    ax.axhline(1000 * val_ori, color='g')\n\n# The green horizontal lines represent the original head position, whereas the\n# red lines are the new head position averaged over all the time points."
      ]
    },
    {
      "cell_type": "markdown",
      "metadata": {},
      "source": [
        "## Plot raw data with annotated movement\n\n"
      ]
    },
    {
      "cell_type": "code",
      "execution_count": null,
      "metadata": {
        "collapsed": false
      },
      "outputs": [],
      "source": [
        "mean_distance_limit = .0015  # in meters\nannotation_movement, hpi_disp = annotate_movement(\n    raw, head_pos, mean_distance_limit=mean_distance_limit)\nraw.set_annotations(annotation_movement)\nraw.plot(n_channels=100, duration=20)"
      ]
    },
    {
      "cell_type": "markdown",
      "metadata": {},
      "source": [
        "After checking the annotated movement artifacts, calculate the new transform\nand plot it:\n\n"
      ]
    },
    {
      "cell_type": "code",
      "execution_count": null,
      "metadata": {
        "collapsed": false
      },
      "outputs": [],
      "source": [
        "new_dev_head_t = compute_average_dev_head_t(raw, head_pos)\nraw.info['dev_head_t'] = new_dev_head_t\nmne.viz.plot_alignment(raw.info, show_axes=True, subject=subject,\n                       trans=trans_fname, subjects_dir=subjects_dir)"
      ]
    }
  ],
  "metadata": {
    "kernelspec": {
      "display_name": "Python 3",
      "language": "python",
      "name": "python3"
    },
    "language_info": {
      "codemirror_mode": {
        "name": "ipython",
        "version": 3
      },
      "file_extension": ".py",
      "mimetype": "text/x-python",
      "name": "python",
      "nbconvert_exporter": "python",
      "pygments_lexer": "ipython3",
      "version": "3.8.5"
    }
  },
  "nbformat": 4,
  "nbformat_minor": 0
}