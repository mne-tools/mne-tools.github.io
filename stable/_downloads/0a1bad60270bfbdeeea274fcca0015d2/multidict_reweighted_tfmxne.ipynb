{
  "cells": [
    {
      "cell_type": "code",
      "execution_count": null,
      "metadata": {
        "collapsed": false
      },
      "outputs": [],
      "source": [
        "%matplotlib inline"
      ]
    },
    {
      "cell_type": "markdown",
      "metadata": {},
      "source": [
        "\n# Compute iterative reweighted TF-MxNE with multiscale time-frequency dictionary\n\nThe iterative reweighted TF-MxNE solver is a distributed inverse method\nbased on the TF-MxNE solver, which promotes focal (sparse) sources\n:footcite:`StrohmeierEtAl2015`. The benefits of this approach are that:\n\n- it is spatio-temporal without assuming stationarity (source properties\n  can vary over time),\n- activations are localized in space, time, and frequency in one step,\n- the solver uses non-convex penalties in the TF domain, which results in a\n  solution less biased towards zero than when simple TF-MxNE is used,\n- using a multiscale dictionary allows to capture short transient\n  activations along with slower brain waves :footcite:`BekhtiEtAl2016`.\n"
      ]
    },
    {
      "cell_type": "code",
      "execution_count": null,
      "metadata": {
        "collapsed": false
      },
      "outputs": [],
      "source": [
        "# Author: Mathurin Massias <mathurin.massias@gmail.com>\n#         Yousra Bekhti <yousra.bekhti@gmail.com>\n#         Daniel Strohmeier <daniel.strohmeier@tu-ilmenau.de>\n#         Alexandre Gramfort <alexandre.gramfort@inria.fr>\n#\n# License: BSD (3-clause)\n\nimport os.path as op\n\nimport mne\nfrom mne.datasets import somato\nfrom mne.inverse_sparse import tf_mixed_norm, make_stc_from_dipoles\nfrom mne.viz import plot_sparse_source_estimates\n\nprint(__doc__)"
      ]
    },
    {
      "cell_type": "markdown",
      "metadata": {},
      "source": [
        "Load somatosensory MEG data\n\n"
      ]
    },
    {
      "cell_type": "code",
      "execution_count": null,
      "metadata": {
        "collapsed": false
      },
      "outputs": [],
      "source": [
        "data_path = somato.data_path()\nsubject = '01'\ntask = 'somato'\nraw_fname = op.join(data_path, 'sub-{}'.format(subject), 'meg',\n                    'sub-{}_task-{}_meg.fif'.format(subject, task))\nfwd_fname = op.join(data_path, 'derivatives', 'sub-{}'.format(subject),\n                    'sub-{}_task-{}-fwd.fif'.format(subject, task))\n\n# Read evoked\nraw = mne.io.read_raw_fif(raw_fname)\nraw.pick_types(meg=True, eog=True, stim=True)\nevents = mne.find_events(raw, stim_channel='STI 014')\n\nreject = dict(grad=4000e-13, eog=350e-6)\nevent_id, tmin, tmax = dict(unknown=1), -0.5, 0.5\nepochs = mne.Epochs(raw, events, event_id, tmin, tmax, reject=reject,\n                    baseline=(None, 0))\nevoked = epochs.average()\n\nevoked.crop(tmin=0.0, tmax=0.2)\n\n# Compute noise covariance matrix\ncov = mne.compute_covariance(epochs, rank='info', tmax=0.)\ndel epochs, raw\n\n# Handling forward solution\nforward = mne.read_forward_solution(fwd_fname)"
      ]
    },
    {
      "cell_type": "markdown",
      "metadata": {},
      "source": [
        "Run iterative reweighted multidict TF-MxNE solver\n\n"
      ]
    },
    {
      "cell_type": "code",
      "execution_count": null,
      "metadata": {
        "collapsed": false
      },
      "outputs": [],
      "source": [
        "alpha, l1_ratio = 20, 0.05\nloose, depth = 0.9, 1.\n# Use a multiscale time-frequency dictionary\nwsize, tstep = [4, 16], [2, 4]\n\n\nn_tfmxne_iter = 10\n# Compute TF-MxNE inverse solution with dipole output\ndipoles, residual = tf_mixed_norm(\n    evoked, forward, cov, alpha=alpha, l1_ratio=l1_ratio,\n    n_tfmxne_iter=n_tfmxne_iter, loose=loose,\n    depth=depth, tol=1e-3,\n    wsize=wsize, tstep=tstep, return_as_dipoles=True,\n    return_residual=True)"
      ]
    },
    {
      "cell_type": "markdown",
      "metadata": {},
      "source": [
        "Generate stc from dipoles\n\n"
      ]
    },
    {
      "cell_type": "code",
      "execution_count": null,
      "metadata": {
        "collapsed": false
      },
      "outputs": [],
      "source": [
        "stc = make_stc_from_dipoles(dipoles, forward['src'])\nplot_sparse_source_estimates(\n    forward['src'], stc, bgcolor=(1, 1, 1), opacity=0.1,\n    fig_name=f\"irTF-MxNE (cond {evoked.comment})\")"
      ]
    },
    {
      "cell_type": "markdown",
      "metadata": {},
      "source": [
        "Show the evoked response and the residual for gradiometers\n\n"
      ]
    },
    {
      "cell_type": "code",
      "execution_count": null,
      "metadata": {
        "collapsed": false
      },
      "outputs": [],
      "source": [
        "ylim = dict(grad=[-300, 300])\nevoked.copy().pick_types(meg='grad').plot(\n    titles=dict(grad='Evoked Response: Gradiometers'), ylim=ylim)\nresidual.copy().pick_types(meg='grad').plot(\n    titles=dict(grad='Residuals: Gradiometers'), ylim=ylim)"
      ]
    },
    {
      "cell_type": "markdown",
      "metadata": {},
      "source": [
        "## References\n.. footbibliography::\n\n"
      ]
    }
  ],
  "metadata": {
    "kernelspec": {
      "display_name": "Python 3",
      "language": "python",
      "name": "python3"
    },
    "language_info": {
      "codemirror_mode": {
        "name": "ipython",
        "version": 3
      },
      "file_extension": ".py",
      "mimetype": "text/x-python",
      "name": "python",
      "nbconvert_exporter": "python",
      "pygments_lexer": "ipython3",
      "version": "3.8.5"
    }
  },
  "nbformat": 4,
  "nbformat_minor": 0
}