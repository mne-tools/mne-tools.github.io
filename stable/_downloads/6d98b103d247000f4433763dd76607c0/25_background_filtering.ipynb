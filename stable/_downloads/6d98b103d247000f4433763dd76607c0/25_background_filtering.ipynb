{
  "cells": [
    {
      "cell_type": "code",
      "execution_count": null,
      "metadata": {
        "collapsed": false
      },
      "outputs": [],
      "source": [
        "%matplotlib inline"
      ]
    },
    {
      "cell_type": "markdown",
      "metadata": {},
      "source": [
        "\n\n# Background information on filtering\n\nHere we give some background information on filtering in general, and how it is\ndone in MNE-Python in particular. Recommended reading for practical\napplications of digital filter design can be found in\nParks & Burrus (1987) :footcite:`ParksBurrus1987`\nand Ifeachor & Jervis (2002) :footcite:`IfeachorJervis2002`,\nand for filtering in an M/EEG context we recommend reading\nWidmann *et al.* (2015) :footcite:`WidmannEtAl2015`.\n\n<div class=\"alert alert-info\"><h4>Note</h4><p>This tutorial goes pretty deep into the mathematics of filtering and the\n   design decisions that go into choosing a filter. If you just want to know\n   how to apply the default filters in MNE-Python to your data, skip this\n   tutorial and read `tut-filter-resample` instead (but someday, you\n   should come back and read this one too \ud83d\ude42).</p></div>\n\n\n## Problem statement\n\nPractical issues with filtering electrophysiological data are covered\nin Widmann *et al.* (2012) :footcite:`WidmannSchroger2012`, where they\nconclude with this statement:\n\n    Filtering can result in considerable distortions of the time course\n    (and amplitude) of a signal as demonstrated by VanRullen (2011)\n    :footcite:`VanRullen2011`.\n    Thus, filtering should not be used lightly. However, if effects of\n    filtering are cautiously considered and filter artifacts are minimized,\n    a valid interpretation of the temporal dynamics of filtered\n    electrophysiological data is possible and signals missed otherwise\n    can be detected with filtering.\n\nIn other words, filtering can increase signal-to-noise ratio (SNR), but if it\nis not used carefully, it can distort data. Here we hope to cover some\nfiltering basics so users can better understand filtering trade-offs and why\nMNE-Python has chosen particular defaults.\n\n\n## Filtering basics\n\nLet's get some of the basic math down. In the frequency domain, digital\nfilters have a transfer function that is given by:\n\n\\begin{align}H(z) &= \\frac{b_0 + b_1 z^{-1} + b_2 z^{-2} + \\ldots + b_M z^{-M}}\n                 {1 + a_1 z^{-1} + a_2 z^{-2} + \\ldots + a_N z^{-M}} \\\\\n         &= \\frac{\\sum_{k=0}^Mb_kz^{-k}}{1 + \\sum_{k=1}^Na_kz^{-k}}\\end{align}\n\nIn the time domain, the numerator coefficients $b_k$ and denominator\ncoefficients $a_k$ can be used to obtain our output data\n$y(n)$ in terms of our input data $x(n)$ as:\n\n\\begin{align}:label: summations\n\n    y(n) &= b_0 x(n) + \\ldots + b_M x(n-M)\n            - a_1 y(n-1) - \\ldots - a_N y(n - N)\\\\\n         &= \\sum_{k=0}^M b_k x(n-k) - \\sum_{k=1}^N a_k y(n-k)\\end{align}\n\nIn other words, the output at time $n$ is determined by a sum over\n\n1. the numerator coefficients $b_k$, which get multiplied by the previous\n   input values $x(n-k)$, and\n2. the denominator coefficients $a_k$, which get multiplied by the\n   previous output values $y(n-k)$.\n\nNote that these summations correspond to (1) a weighted `moving average`_ and\n(2) an autoregression_.\n\nFilters are broken into two classes based on these coefficients: FIR_ (finite\nimpulse response) and IIR_ (infinite impulse response) filters.\nFIR filters use a finite number of numerator\ncoefficients $b_k$ (where $a_k=0\\qquad \\forall k$), and thus each\noutput value $y(n)$ depends only on the $M$ previous input values.\nIIR filters depend on the previous input and output values, and thus can have\neffectively infinitely long impulse responses.\n\nAs outlined in Parks & Burrus (1987) :footcite:`ParksBurrus1987`,\nFIR and IIR filters have different pros and cons:\n\n* A causal FIR filter can be linear-phase -- i.e., the same time delay across\n  all frequencies -- whereas a causal IIR filter cannot. The phase and group\n  delay characteristics are also usually better for FIR filters.\n* IIR filters can generally have a steeper cutoff than an FIR filter of\n  equivalent order.\n* IIR filters are generally less numerically stable, in part due to\n  accumulating error (due to recursive calculations).\n\nIn MNE-Python we default to using FIR filtering. As noted in Widmann *et al.*\n(2015) :footcite:`WidmannEtAl2015`:\n\n    Despite IIR filters often being considered as computationally more\n    efficient, they are recommended only when high throughput and sharp\n    cutoffs are required\n    (Ifeachor and Jervis, 2002 :footcite:`IfeachorJervis2002`, p. 321).\n    FIR filters are easier to control, are always stable, have a\n    well-defined passband, can be corrected to zero-phase without\n    additional computations, and can be converted to minimum-phase.\n    We therefore recommend FIR filters for most purposes in\n    electrophysiological data analysis.\n\nWhen designing a filter (FIR or IIR), there are always trade-offs that\nneed to be considered, including but not limited to:\n\n1. Ripple in the pass-band\n2. Attenuation of the stop-band\n3. Steepness of roll-off\n4. Filter order (i.e., length for FIR filters)\n5. Time-domain ringing\n\nIn general, the sharper something is in frequency, the broader it is in time,\nand vice-versa. This is a fundamental time-frequency trade-off, and it will\nshow up below.\n\n## FIR Filters\n\nFirst, we will focus on FIR filters, which are the default filters used by\nMNE-Python.\n"
      ]
    },
    {
      "cell_type": "markdown",
      "metadata": {},
      "source": [
        "### Designing FIR filters\nHere we'll try to design a low-pass filter and look at trade-offs in terms\nof time- and frequency-domain filter characteristics. Later, in\n`tut-effect-on-signals`, we'll look at how such filters can affect\nsignals when they are used.\n\nFirst let's import some useful tools for filtering, and set some default\nvalues for our data that are reasonable for M/EEG.\n\n"
      ]
    },
    {
      "cell_type": "code",
      "execution_count": null,
      "metadata": {
        "collapsed": false
      },
      "outputs": [],
      "source": [
        "import numpy as np\nfrom numpy.fft import fft, fftfreq\nfrom scipy import signal\nimport matplotlib.pyplot as plt\n\nfrom mne.time_frequency.tfr import morlet\nfrom mne.viz import plot_filter, plot_ideal_filter\n\nimport mne\n\nsfreq = 1000.\nf_p = 40.\n# limits for plotting\nflim = (1., sfreq / 2.)  # frequencies\ndlim = (-0.2, 0.2)  # delays"
      ]
    },
    {
      "cell_type": "markdown",
      "metadata": {},
      "source": [
        "Take for example an ideal low-pass filter, which would give a magnitude\nresponse of 1 in the pass-band (up to frequency $f_p$) and a magnitude\nresponse of 0 in the stop-band (down to frequency $f_s$) such that\n$f_p=f_s=40$ Hz here (shown to a lower limit of -60 dB for simplicity):\n\n"
      ]
    },
    {
      "cell_type": "code",
      "execution_count": null,
      "metadata": {
        "collapsed": false
      },
      "outputs": [],
      "source": [
        "nyq = sfreq / 2.  # the Nyquist frequency is half our sample rate\nfreq = [0, f_p, f_p, nyq]\ngain = [1, 1, 0, 0]\n\nthird_height = np.array(plt.rcParams['figure.figsize']) * [1, 1. / 3.]\nax = plt.subplots(1, figsize=third_height)[1]\nplot_ideal_filter(freq, gain, ax, title='Ideal %s Hz lowpass' % f_p, flim=flim)"
      ]
    },
    {
      "cell_type": "markdown",
      "metadata": {},
      "source": [
        "This filter hypothetically achieves zero ripple in the frequency domain,\nperfect attenuation, and perfect steepness. However, due to the discontinuity\nin the frequency response, the filter would require infinite ringing in the\ntime domain (i.e., infinite order) to be realized. Another way to think of\nthis is that a rectangular window in the frequency domain is actually a sinc_\nfunction in the time domain, which requires an infinite number of samples\n(and thus infinite time) to represent. So although this filter has ideal\nfrequency suppression, it has poor time-domain characteristics.\n\nLet's try to na\u00efvely make a brick-wall (sinc) filter of length 0.1 s, and\nlook at the filter itself in the time domain and the frequency domain:\n\n"
      ]
    },
    {
      "cell_type": "code",
      "execution_count": null,
      "metadata": {
        "collapsed": false
      },
      "outputs": [],
      "source": [
        "n = int(round(0.1 * sfreq))\nn -= n % 2 - 1  # make it odd\nt = np.arange(-(n // 2), n // 2 + 1) / sfreq  # center our sinc\nh = np.sinc(2 * f_p * t) / (4 * np.pi)\nkwargs = dict(flim=flim, dlim=dlim)\nplot_filter(h, sfreq, freq, gain, 'Sinc (0.1 s)', compensate=True, **kwargs)"
      ]
    },
    {
      "cell_type": "markdown",
      "metadata": {},
      "source": [
        "This is not so good! Making the filter 10 times longer (1 s) gets us a\nslightly better stop-band suppression, but still has a lot of ringing in\nthe time domain. Note the x-axis is an order of magnitude longer here,\nand the filter has a correspondingly much longer group delay (again equal\nto half the filter length, or 0.5 seconds):\n\n"
      ]
    },
    {
      "cell_type": "code",
      "execution_count": null,
      "metadata": {
        "collapsed": false
      },
      "outputs": [],
      "source": [
        "n = int(round(1. * sfreq))\nn -= n % 2 - 1  # make it odd\nt = np.arange(-(n // 2), n // 2 + 1) / sfreq\nh = np.sinc(2 * f_p * t) / (4 * np.pi)\nplot_filter(h, sfreq, freq, gain, 'Sinc (1.0 s)', compensate=True, **kwargs)"
      ]
    },
    {
      "cell_type": "markdown",
      "metadata": {},
      "source": [
        "Let's make the stop-band tighter still with a longer filter (10 s),\nwith a resulting larger x-axis:\n\n"
      ]
    },
    {
      "cell_type": "code",
      "execution_count": null,
      "metadata": {
        "collapsed": false
      },
      "outputs": [],
      "source": [
        "n = int(round(10. * sfreq))\nn -= n % 2 - 1  # make it odd\nt = np.arange(-(n // 2), n // 2 + 1) / sfreq\nh = np.sinc(2 * f_p * t) / (4 * np.pi)\nplot_filter(h, sfreq, freq, gain, 'Sinc (10.0 s)', compensate=True, **kwargs)"
      ]
    },
    {
      "cell_type": "markdown",
      "metadata": {},
      "source": [
        "Now we have very sharp frequency suppression, but our filter rings for the\nentire 10 seconds. So this na\u00efve method is probably not a good way to build\nour low-pass filter.\n\nFortunately, there are multiple established methods to design FIR filters\nbased on desired response characteristics. These include:\n\n1. The Remez_ algorithm (:func:`scipy.signal.remez`)\n2. Windowed FIR design (:func:`scipy.signal.firwin2`,\n   :func:`scipy.signal.firwin`)\n3. Least squares design (:func:`scipy.signal.firls`)\n4. Frequency-domain design (construct filter in Fourier domain and use an\n   :func:`IFFT <numpy.fft.ifft>` to invert it)\n\n<div class=\"alert alert-info\"><h4>Note</h4><p>Remez and least squares designs have advantages when there are\n          \"do not care\" regions in our frequency response. However, we want\n          well controlled responses in all frequency regions.\n          Frequency-domain construction is good when an arbitrary response\n          is desired, but generally less clean (due to sampling issues) than\n          a windowed approach for more straightforward filter applications.\n          Since our filters (low-pass, high-pass, band-pass, band-stop)\n          are fairly simple and we require precise control of all frequency\n          regions, we will primarily use and explore windowed FIR design.</p></div>\n\nIf we relax our frequency-domain filter requirements a little bit, we can\nuse these functions to construct a lowpass filter that instead has a\n*transition band*, a region between the pass frequency $f_p$\nand stop frequency $f_s$:\n\n"
      ]
    },
    {
      "cell_type": "code",
      "execution_count": null,
      "metadata": {
        "collapsed": false
      },
      "outputs": [],
      "source": [
        "trans_bandwidth = 10  # 10 Hz transition band\nf_s = f_p + trans_bandwidth  # = 50 Hz\n\nfreq = [0., f_p, f_s, nyq]\ngain = [1., 1., 0., 0.]\nax = plt.subplots(1, figsize=third_height)[1]\ntitle = '%s Hz lowpass with a %s Hz transition' % (f_p, trans_bandwidth)\nplot_ideal_filter(freq, gain, ax, title=title, flim=flim)"
      ]
    },
    {
      "cell_type": "markdown",
      "metadata": {},
      "source": [
        "Accepting a shallower roll-off of the filter in the frequency domain makes\nour time-domain response potentially much better. We end up with a more\ngradual slope through the transition region, but a *much* cleaner time\ndomain signal. Here again for the 1 s filter:\n\n"
      ]
    },
    {
      "cell_type": "code",
      "execution_count": null,
      "metadata": {
        "collapsed": false
      },
      "outputs": [],
      "source": [
        "h = signal.firwin2(n, freq, gain, fs=sfreq)\nplot_filter(h, sfreq, freq, gain, 'Windowed 10 Hz transition (1.0 s)',\n            compensate=True, **kwargs)"
      ]
    },
    {
      "cell_type": "markdown",
      "metadata": {},
      "source": [
        "Since our lowpass is around 40 Hz with a 10 Hz transition, we can actually\nuse a shorter filter (5 cycles at 10 Hz = 0.5 s) and still get acceptable\nstop-band attenuation:\n\n"
      ]
    },
    {
      "cell_type": "code",
      "execution_count": null,
      "metadata": {
        "collapsed": false
      },
      "outputs": [],
      "source": [
        "n = int(round(sfreq * 0.5)) + 1\nh = signal.firwin2(n, freq, gain, fs=sfreq)\nplot_filter(h, sfreq, freq, gain, 'Windowed 10 Hz transition (0.5 s)',\n            compensate=True, **kwargs)"
      ]
    },
    {
      "cell_type": "markdown",
      "metadata": {},
      "source": [
        "But if we shorten the filter too much (2 cycles of 10 Hz = 0.2 s),\nour effective stop frequency gets pushed out past 60 Hz:\n\n"
      ]
    },
    {
      "cell_type": "code",
      "execution_count": null,
      "metadata": {
        "collapsed": false
      },
      "outputs": [],
      "source": [
        "n = int(round(sfreq * 0.2)) + 1\nh = signal.firwin2(n, freq, gain, fs=sfreq)\nplot_filter(h, sfreq, freq, gain, 'Windowed 10 Hz transition (0.2 s)',\n            compensate=True, **kwargs)"
      ]
    },
    {
      "cell_type": "markdown",
      "metadata": {},
      "source": [
        "If we want a filter that is only 0.1 seconds long, we should probably use\nsomething more like a 25 Hz transition band (0.2 s = 5 cycles @ 25 Hz):\n\n"
      ]
    },
    {
      "cell_type": "code",
      "execution_count": null,
      "metadata": {
        "collapsed": false
      },
      "outputs": [],
      "source": [
        "trans_bandwidth = 25\nf_s = f_p + trans_bandwidth\nfreq = [0, f_p, f_s, nyq]\nh = signal.firwin2(n, freq, gain, fs=sfreq)\nplot_filter(h, sfreq, freq, gain, 'Windowed 50 Hz transition (0.2 s)',\n            compensate=True, **kwargs)"
      ]
    },
    {
      "cell_type": "markdown",
      "metadata": {},
      "source": [
        "So far, we have only discussed *non-causal* filtering, which means that each\nsample at each time point $t$ is filtered using samples that come\nafter ($t + \\Delta t$) *and* before ($t - \\Delta t$) the current\ntime point $t$.\nIn this sense, each sample is influenced by samples that come both before\nand after it. This is useful in many cases, especially because it does not\ndelay the timing of events.\n\nHowever, sometimes it can be beneficial to use *causal* filtering,\nwhereby each sample $t$ is filtered only using time points that came\nafter it.\n\nNote that the delay is variable (whereas for linear/zero-phase filters it\nis constant) but small in the pass-band. Unlike zero-phase filters, which\nrequire time-shifting backward the output of a linear-phase filtering stage\n(and thus becoming non-causal), minimum-phase filters do not require any\ncompensation to achieve small delays in the pass-band. Note that as an\nartifact of the minimum phase filter construction step, the filter does\nnot end up being as steep as the linear/zero-phase version.\n\nWe can construct a minimum-phase filter from our existing linear-phase\nfilter with the :func:`scipy.signal.minimum_phase` function, and note\nthat the falloff is not as steep:\n\n"
      ]
    },
    {
      "cell_type": "code",
      "execution_count": null,
      "metadata": {
        "collapsed": false
      },
      "outputs": [],
      "source": [
        "h_min = signal.minimum_phase(h)\nplot_filter(h_min, sfreq, freq, gain, 'Minimum-phase', **kwargs)"
      ]
    },
    {
      "cell_type": "markdown",
      "metadata": {},
      "source": [
        "Note that this minimum-phase filter has a *much* smaller delay compared to\nan *uncompensated, causal* linear-phase filter, as shown below. This is why\nin MNE-Python we currently only offer zero-phase, non-causal filters (i.e.,\ndelay-compensated filters) *or* minimum-phase causal filters. The linear\nphase filter has a constant, large delay:\n\n"
      ]
    },
    {
      "cell_type": "code",
      "execution_count": null,
      "metadata": {
        "collapsed": false
      },
      "outputs": [],
      "source": [
        "plot_filter(h, sfreq, freq, gain, 'Linear phase (uncompensated)', **kwargs)"
      ]
    },
    {
      "cell_type": "markdown",
      "metadata": {},
      "source": [
        "\n### Applying FIR filters\n\nNow lets look at some practical effects of these filters by applying\nthem to some data.\n\nLet's construct a Gaussian-windowed sinusoid (i.e., Morlet imaginary part)\nplus noise (random and line). Note that the original clean signal contains\nfrequency content in both the pass band and transition bands of our\nlow-pass filter.\n\n"
      ]
    },
    {
      "cell_type": "code",
      "execution_count": null,
      "metadata": {
        "collapsed": false
      },
      "outputs": [],
      "source": [
        "dur = 10.\ncenter = 2.\nmorlet_freq = f_p\ntlim = [center - 0.2, center + 0.2]\ntticks = [tlim[0], center, tlim[1]]\nflim = [20, 70]\n\nx = np.zeros(int(sfreq * dur) + 1)\nblip = morlet(sfreq, [morlet_freq], n_cycles=7)[0].imag / 20.\nn_onset = int(center * sfreq) - len(blip) // 2\nx[n_onset:n_onset + len(blip)] += blip\nx_orig = x.copy()\n\nrng = np.random.RandomState(0)\nx += rng.randn(len(x)) / 1000.\nx += np.sin(2. * np.pi * 60. * np.arange(len(x)) / sfreq) / 2000."
      ]
    },
    {
      "cell_type": "markdown",
      "metadata": {},
      "source": [
        "Let's filter it with a shallow cutoff, linear-phase FIR (which allows us to\ncompensate for the constant filter delay):\n\n"
      ]
    },
    {
      "cell_type": "code",
      "execution_count": null,
      "metadata": {
        "collapsed": false
      },
      "outputs": [],
      "source": [
        "transition_band = 0.25 * f_p\nf_s = f_p + transition_band\nfreq = [0., f_p, f_s, sfreq / 2.]\ngain = [1., 1., 0., 0.]\n# This would be equivalent:\nh = mne.filter.create_filter(x, sfreq, l_freq=None, h_freq=f_p,\n                             fir_design='firwin', verbose=True)\nx_v16 = np.convolve(h, x)\n# this is the linear->zero phase, causal-to-non-causal conversion / shift\nx_v16 = x_v16[len(h) // 2:]\n\nplot_filter(h, sfreq, freq, gain, 'MNE-Python \u22650.16 default',\n            compensate=True, **kwargs)"
      ]
    },
    {
      "cell_type": "markdown",
      "metadata": {},
      "source": [
        "Now let's filter it with a different design method ``fir_design=\"firwin2\"``,\nand also compensate for the constant filter delay. This method does not\nproduce quite as sharp a transition compared to ``fir_design=\"firwin\"``,\ndespite being twice as long:\n\n"
      ]
    },
    {
      "cell_type": "code",
      "execution_count": null,
      "metadata": {
        "collapsed": false
      },
      "outputs": [],
      "source": [
        "transition_band = 0.25 * f_p\nf_s = f_p + transition_band\nfreq = [0., f_p, f_s, sfreq / 2.]\ngain = [1., 1., 0., 0.]\n# This would be equivalent:\n# filter_dur = 6.6 / transition_band  # sec\n# n = int(sfreq * filter_dur)\n# h = signal.firwin2(n, freq, gain, nyq=sfreq / 2.)\nh = mne.filter.create_filter(x, sfreq, l_freq=None, h_freq=f_p,\n                             fir_design='firwin2', verbose=True)\nx_v14 = np.convolve(h, x)[len(h) // 2:]\n\nplot_filter(h, sfreq, freq, gain, 'MNE-Python 0.14 default',\n            compensate=True, **kwargs)"
      ]
    },
    {
      "cell_type": "markdown",
      "metadata": {},
      "source": [
        "Let's also filter with the MNE-Python 0.13 default, which is a\nlong-duration, steep cutoff FIR that gets applied twice:\n\n"
      ]
    },
    {
      "cell_type": "code",
      "execution_count": null,
      "metadata": {
        "collapsed": false
      },
      "outputs": [],
      "source": [
        "transition_band = 0.5  # Hz\nf_s = f_p + transition_band\nfilter_dur = 10.  # sec\nfreq = [0., f_p, f_s, sfreq / 2.]\ngain = [1., 1., 0., 0.]\n# This would be equivalent\n# n = int(sfreq * filter_dur)\n# h = signal.firwin2(n, freq, gain, nyq=sfreq / 2.)\nh = mne.filter.create_filter(x, sfreq, l_freq=None, h_freq=f_p,\n                             h_trans_bandwidth=transition_band,\n                             filter_length='%ss' % filter_dur,\n                             fir_design='firwin2', verbose=True)\nx_v13 = np.convolve(np.convolve(h, x)[::-1], h)[::-1][len(h) - 1:-len(h) - 1]\n# the effective h is one that is applied to the time-reversed version of itself\nh_eff = np.convolve(h, h[::-1])\nplot_filter(h_eff, sfreq, freq, gain, 'MNE-Python \u22640.13 default',\n            compensate=True, **kwargs)"
      ]
    },
    {
      "cell_type": "markdown",
      "metadata": {},
      "source": [
        "Let's also filter it with the MNE-C default, which is a long-duration\nsteep-slope FIR filter designed using frequency-domain techniques:\n\n"
      ]
    },
    {
      "cell_type": "code",
      "execution_count": null,
      "metadata": {
        "collapsed": false
      },
      "outputs": [],
      "source": [
        "h = mne.filter.design_mne_c_filter(sfreq, l_freq=None, h_freq=f_p + 2.5)\nx_mne_c = np.convolve(h, x)[len(h) // 2:]\n\ntransition_band = 5  # Hz (default in MNE-C)\nf_s = f_p + transition_band\nfreq = [0., f_p, f_s, sfreq / 2.]\ngain = [1., 1., 0., 0.]\nplot_filter(h, sfreq, freq, gain, 'MNE-C default', compensate=True, **kwargs)"
      ]
    },
    {
      "cell_type": "markdown",
      "metadata": {},
      "source": [
        "And now an example of a minimum-phase filter:\n\n"
      ]
    },
    {
      "cell_type": "code",
      "execution_count": null,
      "metadata": {
        "collapsed": false
      },
      "outputs": [],
      "source": [
        "h = mne.filter.create_filter(x, sfreq, l_freq=None, h_freq=f_p,\n                             phase='minimum', fir_design='firwin',\n                             verbose=True)\nx_min = np.convolve(h, x)\ntransition_band = 0.25 * f_p\nf_s = f_p + transition_band\nfilter_dur = 6.6 / transition_band  # sec\nn = int(sfreq * filter_dur)\nfreq = [0., f_p, f_s, sfreq / 2.]\ngain = [1., 1., 0., 0.]\nplot_filter(h, sfreq, freq, gain, 'Minimum-phase filter', **kwargs)"
      ]
    },
    {
      "cell_type": "markdown",
      "metadata": {},
      "source": [
        "Both the MNE-Python 0.13 and MNE-C filters have excellent frequency\nattenuation, but it comes at a cost of potential\nringing (long-lasting ripples) in the time domain. Ringing can occur with\nsteep filters, especially in signals with frequency content around the\ntransition band. Our Morlet wavelet signal has power in our transition band,\nand the time-domain ringing is thus more pronounced for the steep-slope,\nlong-duration filter than the shorter, shallower-slope filter:\n\n"
      ]
    },
    {
      "cell_type": "code",
      "execution_count": null,
      "metadata": {
        "collapsed": false
      },
      "outputs": [],
      "source": [
        "axes = plt.subplots(1, 2)[1]\n\n\ndef plot_signal(x, offset):\n    \"\"\"Plot a signal.\"\"\"\n    t = np.arange(len(x)) / sfreq\n    axes[0].plot(t, x + offset)\n    axes[0].set(xlabel='Time (s)', xlim=t[[0, -1]])\n    X = fft(x)\n    freqs = fftfreq(len(x), 1. / sfreq)\n    mask = freqs >= 0\n    X = X[mask]\n    freqs = freqs[mask]\n    axes[1].plot(freqs, 20 * np.log10(np.maximum(np.abs(X), 1e-16)))\n    axes[1].set(xlim=flim)\n\n\nyscale = 30\nyticklabels = ['Original', 'Noisy', 'FIR-firwin (\u22650.16)', 'FIR-firwin2 (0.14)',\n               'FIR-steep (\u22640.13)', 'FIR-steep (MNE-C)', 'Minimum-phase']\nyticks = -np.arange(len(yticklabels)) / yscale\nplot_signal(x_orig, offset=yticks[0])\nplot_signal(x, offset=yticks[1])\nplot_signal(x_v16, offset=yticks[2])\nplot_signal(x_v14, offset=yticks[3])\nplot_signal(x_v13, offset=yticks[4])\nplot_signal(x_mne_c, offset=yticks[5])\nplot_signal(x_min, offset=yticks[6])\naxes[0].set(xlim=tlim, title='FIR, Lowpass=%d Hz' % f_p, xticks=tticks,\n            ylim=[-len(yticks) / yscale, 1. / yscale],\n            yticks=yticks, yticklabels=yticklabels)\nfor text in axes[0].get_yticklabels():\n    text.set(rotation=45, size=8)\naxes[1].set(xlim=flim, ylim=(-60, 10), xlabel='Frequency (Hz)',\n            ylabel='Magnitude (dB)')\nmne.viz.tight_layout()\nplt.show()"
      ]
    },
    {
      "cell_type": "markdown",
      "metadata": {},
      "source": [
        "## IIR filters\n\nMNE-Python also offers IIR filtering functionality that is based on the\nmethods from :mod:`scipy.signal`. Specifically, we use the general-purpose\nfunctions :func:`scipy.signal.iirfilter` and :func:`scipy.signal.iirdesign`,\nwhich provide unified interfaces to IIR filter design.\n\n### Designing IIR filters\n\nLet's continue with our design of a 40 Hz low-pass filter and look at\nsome trade-offs of different IIR filters.\n\nOften the default IIR filter is a `Butterworth filter`_, which is designed\nto have a *maximally flat pass-band*. Let's look at a few filter orders,\ni.e., a few different numbers of coefficients used and therefore steepness\nof the filter:\n\n<div class=\"alert alert-info\"><h4>Note</h4><p>Notice that the group delay (which is related to the phase) of\n          the IIR filters below are not constant. In the FIR case, we can\n          design so-called linear-phase filters that have a constant group\n          delay, and thus compensate for the delay (making the filter\n          non-causal) if necessary. This cannot be done with IIR filters, as\n          they have a non-linear phase (non-constant group delay). As the\n          filter order increases, the phase distortion near and in the\n          transition band worsens. However, if non-causal (forward-backward)\n          filtering can be used, e.g. with :func:`scipy.signal.filtfilt`,\n          these phase issues can theoretically be mitigated.</p></div>\n\n"
      ]
    },
    {
      "cell_type": "code",
      "execution_count": null,
      "metadata": {
        "collapsed": false
      },
      "outputs": [],
      "source": [
        "sos = signal.iirfilter(2, f_p / nyq, btype='low', ftype='butter', output='sos')\nplot_filter(dict(sos=sos), sfreq, freq, gain, 'Butterworth order=2',\n            compensate=True, **kwargs)\nx_shallow = signal.sosfiltfilt(sos, x)\ndel sos"
      ]
    },
    {
      "cell_type": "markdown",
      "metadata": {},
      "source": [
        "The falloff of this filter is not very steep.\n\n<div class=\"alert alert-info\"><h4>Note</h4><p>Here we have made use of second-order sections (SOS)\n          by using :func:`scipy.signal.sosfilt` and, under the\n          hood, :func:`scipy.signal.zpk2sos` when passing the\n          ``output='sos'`` keyword argument to\n          :func:`scipy.signal.iirfilter`. The filter definitions\n          given `above <tut-filtering-basics>` use the polynomial\n          numerator/denominator (sometimes called \"tf\") form ``(b, a)``,\n          which are theoretically equivalent to the SOS form used here.\n          In practice, however, the SOS form can give much better results\n          due to issues with numerical precision (see\n          :func:`scipy.signal.sosfilt` for an example), so SOS should be\n          used whenever possible.</p></div>\n\nLet's increase the order, and note that now we have better attenuation,\nwith a longer impulse response. Let's also switch to using the MNE filter\ndesign function, which simplifies a few things and gives us some information\nabout the resulting filter:\n\n"
      ]
    },
    {
      "cell_type": "code",
      "execution_count": null,
      "metadata": {
        "collapsed": false
      },
      "outputs": [],
      "source": [
        "iir_params = dict(order=8, ftype='butter')\nfilt = mne.filter.create_filter(x, sfreq, l_freq=None, h_freq=f_p,\n                                method='iir', iir_params=iir_params,\n                                verbose=True)\nplot_filter(filt, sfreq, freq, gain, 'Butterworth order=8',\n            compensate=True, **kwargs)\nx_steep = signal.sosfiltfilt(filt['sos'], x)"
      ]
    },
    {
      "cell_type": "markdown",
      "metadata": {},
      "source": [
        "There are other types of IIR filters that we can use. For a complete list,\ncheck out the documentation for :func:`scipy.signal.iirdesign`. Let's\ntry a Chebychev (type I) filter, which trades off ripple in the pass-band\nto get better attenuation in the stop-band:\n\n"
      ]
    },
    {
      "cell_type": "code",
      "execution_count": null,
      "metadata": {
        "collapsed": false
      },
      "outputs": [],
      "source": [
        "iir_params.update(ftype='cheby1',\n                  rp=1.,  # dB of acceptable pass-band ripple\n                  )\nfilt = mne.filter.create_filter(x, sfreq, l_freq=None, h_freq=f_p,\n                                method='iir', iir_params=iir_params,\n                                verbose=True)\nplot_filter(filt, sfreq, freq, gain, 'Chebychev-1 order=8, ripple=1 dB',\n            compensate=True, **kwargs)"
      ]
    },
    {
      "cell_type": "markdown",
      "metadata": {},
      "source": [
        "If we can live with even more ripple, we can get it slightly steeper,\nbut the impulse response begins to ring substantially longer (note the\ndifferent x-axis scale):\n\n"
      ]
    },
    {
      "cell_type": "code",
      "execution_count": null,
      "metadata": {
        "collapsed": false
      },
      "outputs": [],
      "source": [
        "iir_params['rp'] = 6.\nfilt = mne.filter.create_filter(x, sfreq, l_freq=None, h_freq=f_p,\n                                method='iir', iir_params=iir_params,\n                                verbose=True)\nplot_filter(filt, sfreq, freq, gain, 'Chebychev-1 order=8, ripple=6 dB',\n            compensate=True, **kwargs)"
      ]
    },
    {
      "cell_type": "markdown",
      "metadata": {},
      "source": [
        "### Applying IIR filters\n\nNow let's look at how our shallow and steep Butterworth IIR filters\nperform on our Morlet signal from before:\n\n"
      ]
    },
    {
      "cell_type": "code",
      "execution_count": null,
      "metadata": {
        "collapsed": false
      },
      "outputs": [],
      "source": [
        "axes = plt.subplots(1, 2)[1]\nyticks = np.arange(4) / -30.\nyticklabels = ['Original', 'Noisy', 'Butterworth-2', 'Butterworth-8']\nplot_signal(x_orig, offset=yticks[0])\nplot_signal(x, offset=yticks[1])\nplot_signal(x_shallow, offset=yticks[2])\nplot_signal(x_steep, offset=yticks[3])\naxes[0].set(xlim=tlim, title='IIR, Lowpass=%d Hz' % f_p, xticks=tticks,\n            ylim=[-0.125, 0.025], yticks=yticks, yticklabels=yticklabels,)\nfor text in axes[0].get_yticklabels():\n    text.set(rotation=45, size=8)\naxes[1].set(xlim=flim, ylim=(-60, 10), xlabel='Frequency (Hz)',\n            ylabel='Magnitude (dB)')\nmne.viz.adjust_axes(axes)\nmne.viz.tight_layout()\nplt.show()"
      ]
    },
    {
      "cell_type": "markdown",
      "metadata": {},
      "source": [
        "## Some pitfalls of filtering\n\nMultiple recent papers have noted potential risks of drawing\nerrant inferences due to misapplication of filters.\n\n### Low-pass problems\n\nFilters in general, especially those that are non-causal (zero-phase), can\nmake activity appear to occur earlier or later than it truly did. As\nmentioned in VanRullen (2011) :footcite:`VanRullen2011`,\ninvestigations of commonly (at the time)\nused low-pass filters created artifacts when they were applied to simulated\ndata. However, such deleterious effects were minimal in many real-world\nexamples in Rousselet (2012) :footcite:`Rousselet2012`.\n\nPerhaps more revealing, it was noted in Widmann & Schr\u00f6ger (2012)\n:footcite:`WidmannSchroger2012` that the problematic low-pass filters from\nVanRullen (2011) :footcite:`VanRullen2011`:\n\n1. Used a least-squares design (like :func:`scipy.signal.firls`) that\n   included \"do-not-care\" transition regions, which can lead to uncontrolled\n   behavior.\n2. Had a filter length that was independent of the transition bandwidth,\n   which can cause excessive ringing and signal distortion.\n\n\n### High-pass problems\n\nWhen it comes to high-pass filtering, using corner frequencies above 0.1 Hz\nwere found in Acunzo *et al.* (2012) :footcite:`AcunzoEtAl2012` to:\n\n   \"... generate a systematic bias easily leading to misinterpretations of\n   neural activity.\u201d\n\nIn a related paper, Widmann *et al.* (2015) :footcite:`WidmannEtAl2015`\nalso came to suggest a 0.1 Hz highpass. More evidence followed in\nTanner *et al.* (2015) :footcite:`TannerEtAl2015` of such distortions.\nUsing data from language ERP studies of semantic and\nsyntactic processing (i.e., N400 and P600), using a high-pass above 0.3 Hz\ncaused significant effects to be introduced implausibly early when compared\nto the unfiltered data. From this, the authors suggested the optimal\nhigh-pass value for language processing to be 0.1 Hz.\n\nWe can recreate a problematic simulation from\nTanner *et al.* (2015) :footcite:`TannerEtAl2015`:\n\n   \"The simulated component is a single-cycle cosine wave with an amplitude\n   of 5\u00b5V [sic], onset of 500 ms poststimulus, and duration of 800 ms. The\n   simulated component was embedded in 20 s of zero values to avoid\n   filtering edge effects. [...] Distortions [were] caused by 2 Hz low-pass\n   and high-pass filters. [...] No visible distortion to the original\n   waveform [occurred] with 30 Hz low-pass and 0.01 Hz high-pass filters.\n   [...] Filter frequencies correspond to the half-amplitude (-6 dB) cutoff\n   (12 dB/octave roll-off).\"\n\n<div class=\"alert alert-info\"><h4>Note</h4><p>This simulated signal contains energy not just within the\n          pass-band, but also within the transition and stop-bands -- perhaps\n          most easily understood because the signal has a non-zero DC value,\n          but also because it is a shifted cosine that has been\n          *windowed* (here multiplied by a rectangular window), which\n          makes the cosine and DC frequencies spread to other frequencies\n          (multiplication in time is convolution in frequency, so multiplying\n          by a rectangular window in the time domain means convolving a sinc\n          function with the impulses at DC and the cosine frequency in the\n          frequency domain).</p></div>\n\n\n"
      ]
    },
    {
      "cell_type": "code",
      "execution_count": null,
      "metadata": {
        "collapsed": false
      },
      "outputs": [],
      "source": [
        "x = np.zeros(int(2 * sfreq))\nt = np.arange(0, len(x)) / sfreq - 0.2\nonset = np.where(t >= 0.5)[0][0]\ncos_t = np.arange(0, int(sfreq * 0.8)) / sfreq\nsig = 2.5 - 2.5 * np.cos(2 * np.pi * (1. / 0.8) * cos_t)\nx[onset:onset + len(sig)] = sig\n\niir_lp_30 = signal.iirfilter(2, 30. / sfreq, btype='lowpass')\niir_hp_p1 = signal.iirfilter(2, 0.1 / sfreq, btype='highpass')\niir_lp_2 = signal.iirfilter(2, 2. / sfreq, btype='lowpass')\niir_hp_2 = signal.iirfilter(2, 2. / sfreq, btype='highpass')\nx_lp_30 = signal.filtfilt(iir_lp_30[0], iir_lp_30[1], x, padlen=0)\nx_hp_p1 = signal.filtfilt(iir_hp_p1[0], iir_hp_p1[1], x, padlen=0)\nx_lp_2 = signal.filtfilt(iir_lp_2[0], iir_lp_2[1], x, padlen=0)\nx_hp_2 = signal.filtfilt(iir_hp_2[0], iir_hp_2[1], x, padlen=0)\n\nxlim = t[[0, -1]]\nylim = [-2, 6]\nxlabel = 'Time (sec)'\nylabel = r'Amplitude ($\\mu$V)'\ntticks = [0, 0.5, 1.3, t[-1]]\naxes = plt.subplots(2, 2)[1].ravel()\nfor ax, x_f, title in zip(axes, [x_lp_2, x_lp_30, x_hp_2, x_hp_p1],\n                          ['LP$_2$', 'LP$_{30}$', 'HP$_2$', 'LP$_{0.1}$']):\n    ax.plot(t, x, color='0.5')\n    ax.plot(t, x_f, color='k', linestyle='--')\n    ax.set(ylim=ylim, xlim=xlim, xticks=tticks,\n           title=title, xlabel=xlabel, ylabel=ylabel)\nmne.viz.adjust_axes(axes)\nmne.viz.tight_layout()\nplt.show()"
      ]
    },
    {
      "cell_type": "markdown",
      "metadata": {},
      "source": [
        "Similarly, in a P300 paradigm reported by\nKappenman & Luck (2010) :footcite:`KappenmanLuck2010`,\nthey found that applying a 1&nbsp;Hz high-pass decreased the probability of\nfinding a significant difference in the N100 response, likely because\nthe P300 response was smeared (and inverted) in time by the high-pass\nfilter such that it tended to cancel out the increased N100. However,\nthey nonetheless noted that some high-passing can still be useful to deal\nwith drifts in the data.\n\nEven though these papers generally advise a 0.1 Hz or lower frequency for\na high-pass, it is important to keep in mind (as most authors note) that\nfiltering choices should depend on the frequency content of both the\nsignal(s) of interest and the noise to be suppressed. For example, in\nsome of the MNE-Python examples involving the `sample-dataset` dataset,\nhigh-pass values of around 1 Hz are used when looking at auditory\nor visual N100 responses, because we analyze standard (not deviant) trials\nand thus expect that contamination by later or slower components will\nbe limited.\n\n### Baseline problems (or solutions?)\n\nIn an evolving discussion, Tanner *et al.* (2015) :footcite:`TannerEtAl2015`\nsuggest using baseline correction to remove slow drifts in data. However,\nMaess *et al.* (2016) :footcite:`MaessEtAl2016`\nsuggest that baseline correction, which is a form of high-passing, does\nnot offer substantial advantages over standard high-pass filtering.\nTanner *et al.* (2016) :footcite:`TannerEtAl2016`\nrebutted that baseline correction can correct for problems with filtering.\n\nTo see what they mean, consider again our old simulated signal ``x`` from\nbefore:\n\n"
      ]
    },
    {
      "cell_type": "code",
      "execution_count": null,
      "metadata": {
        "collapsed": false
      },
      "outputs": [],
      "source": [
        "def baseline_plot(x):\n    all_axes = plt.subplots(3, 2)[1]\n    for ri, (axes, freq) in enumerate(zip(all_axes, [0.1, 0.3, 0.5])):\n        for ci, ax in enumerate(axes):\n            if ci == 0:\n                iir_hp = signal.iirfilter(4, freq / sfreq, btype='highpass',\n                                          output='sos')\n                x_hp = signal.sosfiltfilt(iir_hp, x, padlen=0)\n            else:\n                x_hp -= x_hp[t < 0].mean()\n            ax.plot(t, x, color='0.5')\n            ax.plot(t, x_hp, color='k', linestyle='--')\n            if ri == 0:\n                ax.set(title=('No ' if ci == 0 else '') +\n                       'Baseline Correction')\n            ax.set(xticks=tticks, ylim=ylim, xlim=xlim, xlabel=xlabel)\n            ax.set_ylabel('%0.1f Hz' % freq, rotation=0,\n                          horizontalalignment='right')\n        mne.viz.adjust_axes(axes)\n    mne.viz.tight_layout()\n    plt.suptitle(title)\n    plt.show()\n\n\nbaseline_plot(x)"
      ]
    },
    {
      "cell_type": "markdown",
      "metadata": {},
      "source": [
        "In response, Maess *et al.* (2016) :footcite:`MaessEtAl2016a`\nnote that these simulations do not\naddress cases of pre-stimulus activity that is shared across conditions, as\napplying baseline correction will effectively copy the topology outside the\nbaseline period. We can see this if we give our signal ``x`` with some\nconsistent pre-stimulus activity, which makes everything look bad.\n\n<div class=\"alert alert-info\"><h4>Note</h4><p>An important thing to keep in mind with these plots is that they\n          are for a single simulated sensor. In multi-electrode recordings\n          the topology (i.e., spatial pattern) of the pre-stimulus activity\n          will leak into the post-stimulus period. This will likely create a\n          spatially varying distortion of the time-domain signals, as the\n          averaged pre-stimulus spatial pattern gets subtracted from the\n          sensor time courses.</p></div>\n\nPutting some activity in the baseline period:\n\n"
      ]
    },
    {
      "cell_type": "code",
      "execution_count": null,
      "metadata": {
        "collapsed": false
      },
      "outputs": [],
      "source": [
        "n_pre = (t < 0).sum()\nsig_pre = 1 - np.cos(2 * np.pi * np.arange(n_pre) / (0.5 * n_pre))\nx[:n_pre] += sig_pre\nbaseline_plot(x)"
      ]
    },
    {
      "cell_type": "markdown",
      "metadata": {},
      "source": [
        "Both groups seem to acknowledge that the choices of filtering cutoffs, and\nperhaps even the application of baseline correction, depend on the\ncharacteristics of the data being investigated, especially when it comes to:\n\n1. The frequency content of the underlying evoked activity relative to the\n   filtering parameters.\n2. The validity of the assumption of no consistent evoked activity in the\n   baseline period.\n\nWe thus recommend carefully applying baseline correction and/or high-pass\nvalues based on the characteristics of the data to be analyzed.\n\n\n## Filtering defaults\n\n\n### Defaults in MNE-Python\n\nMost often, filtering in MNE-Python is done at the :class:`mne.io.Raw` level,\nand thus :func:`mne.io.Raw.filter` is used. This function under the hood\n(among other things) calls :func:`mne.filter.filter_data` to actually\nfilter the data, which by default applies a zero-phase FIR filter designed\nusing :func:`scipy.signal.firwin`.\nIn Widmann *et al.* (2015) :footcite:`WidmannEtAl2015`, they\nsuggest a specific set of parameters to use for high-pass filtering,\nincluding:\n\n    \"... providing a transition bandwidth of 25% of the lower passband\n    edge but, where possible, not lower than 2 Hz and otherwise the\n    distance from the passband edge to the critical frequency.\u201d\n\nIn practice, this means that for each high-pass value ``l_freq`` or\nlow-pass value ``h_freq`` below, you would get this corresponding\n``l_trans_bandwidth`` or ``h_trans_bandwidth``, respectively,\nif the sample rate were 100 Hz (i.e., Nyquist frequency of 50 Hz):\n\n+------------------+-------------------+-------------------+\n| l_freq or h_freq | l_trans_bandwidth | h_trans_bandwidth |\n+==================+===================+===================+\n|             0.01 |              0.01 |               2.0 |\n+------------------+-------------------+-------------------+\n|              0.1 |               0.1 |               2.0 |\n+------------------+-------------------+-------------------+\n|              1.0 |               1.0 |               2.0 |\n+------------------+-------------------+-------------------+\n|              2.0 |               2.0 |               2.0 |\n+------------------+-------------------+-------------------+\n|              4.0 |               2.0 |               2.0 |\n+------------------+-------------------+-------------------+\n|              8.0 |               2.0 |               2.0 |\n+------------------+-------------------+-------------------+\n|             10.0 |               2.5 |               2.5 |\n+------------------+-------------------+-------------------+\n|             20.0 |               5.0 |               5.0 |\n+------------------+-------------------+-------------------+\n|             40.0 |              10.0 |              10.0 |\n+------------------+-------------------+-------------------+\n|             50.0 |              12.5 |              12.5 |\n+------------------+-------------------+-------------------+\n\nMNE-Python has adopted this definition for its high-pass (and low-pass)\ntransition bandwidth choices when using ``l_trans_bandwidth='auto'`` and\n``h_trans_bandwidth='auto'``.\n\nTo choose the filter length automatically with ``filter_length='auto'``,\nthe reciprocal of the shortest transition bandwidth is used to ensure\ndecent attenuation at the stop frequency. Specifically, the reciprocal\n(in samples) is multiplied by 3.1, 3.3, or 5.0 for the Hann, Hamming,\nor Blackman windows, respectively, as selected by the ``fir_window``\nargument for ``fir_design='firwin'``, and double these for\n``fir_design='firwin2'`` mode.\n\n<div class=\"alert alert-info\"><h4>Note</h4><p>For ``fir_design='firwin2'``, the multiplicative factors are\n          doubled compared to what is given in\n          Ifeachor & Jervis (2002) :footcite:`IfeachorJervis2002`\n          (p. 357), as :func:`scipy.signal.firwin2` has a smearing effect\n          on the frequency response, which we compensate for by\n          increasing the filter length. This is why\n          ``fir_desgin='firwin'`` is preferred to ``fir_design='firwin2'``.</p></div>\n\nIn 0.14, we default to using a Hamming window in filter design, as it\nprovides up to 53 dB of stop-band attenuation with small pass-band ripple.\n\n<div class=\"alert alert-info\"><h4>Note</h4><p>In band-pass applications, often a low-pass filter can operate\n          effectively with fewer samples than the high-pass filter, so\n          it is advisable to apply the high-pass and low-pass separately\n          when using ``fir_design='firwin2'``. For design mode\n          ``fir_design='firwin'``, there is no need to separate the\n          operations, as the lowpass and highpass elements are constructed\n          separately to meet the transition band requirements.</p></div>\n\nFor more information on how to use the\nMNE-Python filtering functions with real data, consult the preprocessing\ntutorial on `tut-filter-resample`.\n\n### Defaults in MNE-C\nMNE-C by default uses:\n\n1. 5 Hz transition band for low-pass filters.\n2. 3-sample transition band for high-pass filters.\n3. Filter length of 8197 samples.\n\nThe filter is designed in the frequency domain, creating a linear-phase\nfilter such that the delay is compensated for as is done with the MNE-Python\n``phase='zero'`` filtering option.\n\nSquared-cosine ramps are used in the transition regions. Because these\nare used in place of more gradual (e.g., linear) transitions,\na given transition width will result in more temporal ringing but also more\nrapid attenuation than the same transition width in windowed FIR designs.\n\nThe default filter length will generally have excellent attenuation\nbut long ringing for the sample rates typically encountered in M/EEG data\n(e.g. 500-2000 Hz).\n\n### Defaults in other software\nA good but possibly outdated comparison of filtering in various software\npackages is available in Widmann *et al.* (2015) :footcite:`WidmannEtAl2015`.\nBriefly:\n\n* EEGLAB\n    MNE-Python 0.14 defaults to behavior very similar to that of EEGLAB\n    (see the `EEGLAB filtering FAQ`_ for more information).\n* FieldTrip\n    By default FieldTrip applies a forward-backward Butterworth IIR filter\n    of order 4 (band-pass and band-stop filters) or 2 (for low-pass and\n    high-pass filters). Similar filters can be achieved in MNE-Python when\n    filtering with :meth:`raw.filter(..., method='iir') <mne.io.Raw.filter>`\n    (see also :func:`mne.filter.construct_iir_filter` for options).\n    For more information, see e.g. the\n    [FieldTrip band-pass documentation](ftbp_).\n\n## Reporting Filters\nOn page 45 in Widmann *et al.* (2015) :footcite:`WidmannEtAl2015`,\nthere is a convenient list of\nimportant filter parameters that should be reported with each publication:\n\n1. Filter type (high-pass, low-pass, band-pass, band-stop, FIR, IIR)\n2. Cutoff frequency (including definition)\n3. Filter order (or length)\n4. Roll-off or transition bandwidth\n5. Passband ripple and stopband attenuation\n6. Filter delay (zero-phase, linear-phase, non-linear phase) and causality\n7. Direction of computation (one-pass forward/reverse, or two-pass forward\n   and reverse)\n\nIn the following, we will address how to deal with these parameters in MNE.\n\n\n### Filter type\nDepending on the function or method used, the filter type can be specified.\nTo name an example, in :func:`mne.filter.create_filter`, the relevant\narguments would be ``l_freq``, ``h_freq``, ``method``, and if the method is\nFIR ``fir_window`` and ``fir_design``.\n\n\n### Cutoff frequency\nThe cutoff of FIR filters in MNE is defined as half-amplitude cutoff in the\nmiddle of the transition band. That is, if you construct a lowpass FIR filter\nwith ``h_freq = 40``, the filter function will provide a transition\nbandwidth that depends on the ``h_trans_bandwidth`` argument. The desired\nhalf-amplitude  cutoff of the lowpass FIR filter is then at\n``h_freq + transition_bandwidth/2``.\n\n### Filter length (order) and transition bandwidth (roll-off)\nIn the `tut-filtering-in-python` section, we have already talked about\nthe default filter lengths and transition bandwidths that are used when no\ncustom values are specified using the respective filter function arguments.\n\nIf you want to find out about the filter length and transition bandwidth that\nwere used through the 'auto' setting, you can use\n:func:`mne.filter.create_filter` to print out the settings once more:\n\n"
      ]
    },
    {
      "cell_type": "code",
      "execution_count": null,
      "metadata": {
        "collapsed": false
      },
      "outputs": [],
      "source": [
        "# Use the same settings as when calling e.g., `raw.filter()`\nfir_coefs = mne.filter.create_filter(\n    data=None,  # data is only used for sanity checking, not strictly needed\n    sfreq=1000.,  # sfreq of your data in Hz\n    l_freq=None,\n    h_freq=40.,  # assuming a lowpass of 40 Hz\n    method='fir',\n    fir_window='hamming',\n    fir_design='firwin',\n    verbose=True)\n\n# See the printed log for the transition bandwidth and filter length.\n# Alternatively, get the filter length through:\nfilter_length = fir_coefs.shape[0]"
      ]
    },
    {
      "cell_type": "markdown",
      "metadata": {},
      "source": [
        "<div class=\"alert alert-info\"><h4>Note</h4><p>If you are using an IIR filter, :func:`mne.filter.create_filter`\n          will not print a filter length and transition bandwidth to the log.\n          Instead, you can specify the roll-off with the ``iir_params``\n          argument or stay with the default, which is a fourth order\n          (Butterworth) filter.</p></div>\n\n### Passband ripple and stopband attenuation\n\nWhen using the standard :func:`scipy.signal.firwin` design (as for FIR\nfilters in MNE), the passband ripple and stopband attenuation depend on the\nwindow used in design. For standard windows the values are listed in this\ntable (see Ifeachor & Jervis (2002) :footcite:`IfeachorJervis2002`, p. 357):\n\n+-------------------------+-----------------+----------------------+\n| Name of window function | Passband ripple | Stopband attenuation |\n+=========================+=================+======================+\n| Hann                    | 0.0545 dB       | 44 dB                |\n+-------------------------+-----------------+----------------------+\n| Hamming                 | 0.0194 dB       | 53 dB                |\n+-------------------------+-----------------+----------------------+\n| Blackman                | 0.0017 dB       | 74 dB                |\n+-------------------------+-----------------+----------------------+\n\n\n### Filter delay and direction of computation\nFor reporting this information, it might be sufficient to read the docstring\nof the filter function or method that you apply. For example in the\ndocstring of `mne.filter.create_filter`, for the phase parameter it says:\n\n   Phase of the filter, only used if ``method='fir'``.\n   By default, a symmetric linear-phase FIR filter is constructed.\n   If ``phase='zero'`` (default), the delay of this filter\n   is compensated for. If ``phase=='zero-double'``, then this filter\n   is applied twice, once forward, and once backward. If ``'minimum'``,\n   then a minimum-phase, causal filter will be used.\n\n\n## Summary\n\nWhen filtering, there are always trade-offs that should be considered.\nOne important trade-off is balancing time-domain characteristics (like\nringing) and frequency-domain attenuation characteristics (like effective\ntransition bandwidth). Filters with sharp frequency cutoffs can produce\noutputs that ring for a long time when they operate on signals with frequency\ncontent in the transition band. In general, therefore, the wider a transition\nband that can be tolerated, the better behaved the filter will be in the time\ndomain.\n\n## References\n.. footbibliography::\n\n\n"
      ]
    }
  ],
  "metadata": {
    "kernelspec": {
      "display_name": "Python 3",
      "language": "python",
      "name": "python3"
    },
    "language_info": {
      "codemirror_mode": {
        "name": "ipython",
        "version": 3
      },
      "file_extension": ".py",
      "mimetype": "text/x-python",
      "name": "python",
      "nbconvert_exporter": "python",
      "pygments_lexer": "ipython3",
      "version": "3.10.6"
    }
  },
  "nbformat": 4,
  "nbformat_minor": 0
}