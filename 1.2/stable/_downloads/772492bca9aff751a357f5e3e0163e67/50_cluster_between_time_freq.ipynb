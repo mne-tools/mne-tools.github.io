{
  "cells": [
    {
      "cell_type": "code",
      "execution_count": null,
      "metadata": {
        "collapsed": false
      },
      "outputs": [],
      "source": [
        "%matplotlib inline"
      ]
    },
    {
      "cell_type": "markdown",
      "metadata": {},
      "source": [
        "\n\n# Non-parametric between conditions cluster statistic on single trial power\n\nThis script shows how to compare clusters in time-frequency\npower estimates between conditions. It uses a non-parametric\nstatistical procedure based on permutations and cluster\nlevel statistics.\n\nThe procedure consists of:\n\n  - extracting epochs for 2 conditions\n  - compute single trial power estimates\n  - baseline line correct the power estimates (power ratios)\n  - compute stats to see if the power estimates are significantly different\n    between conditions.\n"
      ]
    },
    {
      "cell_type": "code",
      "execution_count": null,
      "metadata": {
        "collapsed": false
      },
      "outputs": [],
      "source": [
        "# Authors: Alexandre Gramfort <alexandre.gramfort@inria.fr>\n#\n# License: BSD-3-Clause"
      ]
    },
    {
      "cell_type": "code",
      "execution_count": null,
      "metadata": {
        "collapsed": false
      },
      "outputs": [],
      "source": [
        "import numpy as np\nimport matplotlib.pyplot as plt\n\nimport mne\nfrom mne.time_frequency import tfr_morlet\nfrom mne.stats import permutation_cluster_test\nfrom mne.datasets import sample\n\nprint(__doc__)"
      ]
    },
    {
      "cell_type": "markdown",
      "metadata": {},
      "source": [
        "Set parameters\n\n"
      ]
    },
    {
      "cell_type": "code",
      "execution_count": null,
      "metadata": {
        "collapsed": false
      },
      "outputs": [],
      "source": [
        "data_path = sample.data_path()\nmeg_path = data_path / 'MEG' / 'sample'\nraw_fname = meg_path / 'sample_audvis_raw.fif'\nevent_fname = meg_path / 'sample_audvis_raw-eve.fif'\ntmin, tmax = -0.2, 0.5\n\n# Setup for reading the raw data\nraw = mne.io.read_raw_fif(raw_fname)\nevents = mne.read_events(event_fname)\n\ninclude = []\nraw.info['bads'] += ['MEG 2443', 'EEG 053']  # bads + 2 more\n\n# picks MEG gradiometers\npicks = mne.pick_types(raw.info, meg='grad', eeg=False, eog=True,\n                       stim=False, include=include, exclude='bads')\n\nch_name = 'MEG 1332'  # restrict example to one channel\n\n# Load condition 1\nreject = dict(grad=4000e-13, eog=150e-6)\nevent_id = 1\nepochs_condition_1 = mne.Epochs(raw, events, event_id, tmin, tmax,\n                                picks=picks, baseline=(None, 0),\n                                reject=reject, preload=True)\nepochs_condition_1.pick_channels([ch_name])\n\n# Load condition 2\nevent_id = 2\nepochs_condition_2 = mne.Epochs(raw, events, event_id, tmin, tmax,\n                                picks=picks, baseline=(None, 0),\n                                reject=reject, preload=True)\nepochs_condition_2.pick_channels([ch_name])"
      ]
    },
    {
      "cell_type": "markdown",
      "metadata": {},
      "source": [
        "Factor to downsample the temporal dimension of the TFR computed by\ntfr_morlet. Decimation occurs after frequency decomposition and can\nbe used to reduce memory usage (and possibly comptuational time of downstream\noperations such as nonparametric statistics) if you don't need high\nspectrotemporal resolution.\n\n"
      ]
    },
    {
      "cell_type": "code",
      "execution_count": null,
      "metadata": {
        "collapsed": false
      },
      "outputs": [],
      "source": [
        "decim = 2\nfreqs = np.arange(7, 30, 3)  # define frequencies of interest\nn_cycles = 1.5\n\ntfr_epochs_1 = tfr_morlet(epochs_condition_1, freqs,\n                          n_cycles=n_cycles, decim=decim,\n                          return_itc=False, average=False)\n\ntfr_epochs_2 = tfr_morlet(epochs_condition_2, freqs,\n                          n_cycles=n_cycles, decim=decim,\n                          return_itc=False, average=False)\n\ntfr_epochs_1.apply_baseline(mode='ratio', baseline=(None, 0))\ntfr_epochs_2.apply_baseline(mode='ratio', baseline=(None, 0))\n\nepochs_power_1 = tfr_epochs_1.data[:, 0, :, :]  # only 1 channel as 3D matrix\nepochs_power_2 = tfr_epochs_2.data[:, 0, :, :]  # only 1 channel as 3D matrix"
      ]
    },
    {
      "cell_type": "markdown",
      "metadata": {},
      "source": [
        "## Compute statistic\n\n"
      ]
    },
    {
      "cell_type": "code",
      "execution_count": null,
      "metadata": {
        "collapsed": false
      },
      "outputs": [],
      "source": [
        "threshold = 6.0\nF_obs, clusters, cluster_p_values, H0 = \\\n    permutation_cluster_test([epochs_power_1, epochs_power_2], out_type='mask',\n                             n_permutations=100, threshold=threshold, tail=0)"
      ]
    },
    {
      "cell_type": "markdown",
      "metadata": {},
      "source": [
        "## View time-frequency plots\n\n"
      ]
    },
    {
      "cell_type": "code",
      "execution_count": null,
      "metadata": {
        "collapsed": false
      },
      "outputs": [],
      "source": [
        "times = 1e3 * epochs_condition_1.times  # change unit to ms\n\nfig, (ax, ax2) = plt.subplots(2, 1, figsize=(6, 4))\nfig.subplots_adjust(0.12, 0.08, 0.96, 0.94, 0.2, 0.43)\n\n# Compute the difference in evoked to determine which was greater since\n# we used a 1-way ANOVA which tested for a difference in population means\nevoked_power_1 = epochs_power_1.mean(axis=0)\nevoked_power_2 = epochs_power_2.mean(axis=0)\nevoked_power_contrast = evoked_power_1 - evoked_power_2\nsigns = np.sign(evoked_power_contrast)\n\n# Create new stats image with only significant clusters\nF_obs_plot = np.nan * np.ones_like(F_obs)\nfor c, p_val in zip(clusters, cluster_p_values):\n    if p_val <= 0.05:\n        F_obs_plot[c] = F_obs[c] * signs[c]\n\nax.imshow(F_obs,\n          extent=[times[0], times[-1], freqs[0], freqs[-1]],\n          aspect='auto', origin='lower', cmap='gray')\nmax_F = np.nanmax(abs(F_obs_plot))\nax.imshow(F_obs_plot,\n          extent=[times[0], times[-1], freqs[0], freqs[-1]],\n          aspect='auto', origin='lower', cmap='RdBu_r',\n          vmin=-max_F, vmax=max_F)\n\nax.set_xlabel('Time (ms)')\nax.set_ylabel('Frequency (Hz)')\nax.set_title(f'Induced power ({ch_name})')\n\n# plot evoked\nevoked_condition_1 = epochs_condition_1.average()\nevoked_condition_2 = epochs_condition_2.average()\nevoked_contrast = mne.combine_evoked([evoked_condition_1, evoked_condition_2],\n                                     weights=[1, -1])\nevoked_contrast.plot(axes=ax2, time_unit='s')"
      ]
    }
  ],
  "metadata": {
    "kernelspec": {
      "display_name": "Python 3",
      "language": "python",
      "name": "python3"
    },
    "language_info": {
      "codemirror_mode": {
        "name": "ipython",
        "version": 3
      },
      "file_extension": ".py",
      "mimetype": "text/x-python",
      "name": "python",
      "nbconvert_exporter": "python",
      "pygments_lexer": "ipython3",
      "version": "3.10.6"
    }
  },
  "nbformat": 4,
  "nbformat_minor": 0
}