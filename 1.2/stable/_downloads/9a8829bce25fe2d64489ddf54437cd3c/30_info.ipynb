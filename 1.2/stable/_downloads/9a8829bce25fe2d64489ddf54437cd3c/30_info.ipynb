{
  "cells": [
    {
      "cell_type": "code",
      "execution_count": null,
      "metadata": {
        "collapsed": false
      },
      "outputs": [],
      "source": [
        "%matplotlib inline"
      ]
    },
    {
      "cell_type": "markdown",
      "metadata": {},
      "source": [
        "\n\n# The Info data structure\n\nThis tutorial describes the :class:`mne.Info` data structure, which keeps track\nof various recording details, and is attached to :class:`~mne.io.Raw`,\n:class:`~mne.Epochs`, and :class:`~mne.Evoked` objects.\n\nWe will begin by loading the Python modules we need, and loading the same\n`example data <sample-dataset>` we used in the `introductory tutorial\n<tut-overview>`:\n"
      ]
    },
    {
      "cell_type": "code",
      "execution_count": null,
      "metadata": {
        "collapsed": false
      },
      "outputs": [],
      "source": [
        "import mne\n\nsample_data_folder = mne.datasets.sample.data_path()\nsample_data_raw_file = (sample_data_folder / 'MEG' / 'sample' /\n                        'sample_audvis_filt-0-40_raw.fif')\nraw = mne.io.read_raw_fif(sample_data_raw_file)"
      ]
    },
    {
      "cell_type": "markdown",
      "metadata": {},
      "source": [
        "As seen in the `introductory tutorial <tut-overview>`, when a\n:class:`~mne.io.Raw` object is loaded, an :class:`~mne.Info` object is\ncreated automatically, and stored in the ``raw.info`` attribute:\n\n"
      ]
    },
    {
      "cell_type": "code",
      "execution_count": null,
      "metadata": {
        "collapsed": false
      },
      "outputs": [],
      "source": [
        "print(raw.info)"
      ]
    },
    {
      "cell_type": "markdown",
      "metadata": {},
      "source": [
        "However, it is not strictly necessary to load the :class:`~mne.io.Raw` object\nin order to view or edit the :class:`~mne.Info` object; you can extract all\nthe relevant information into a stand-alone :class:`~mne.Info` object using\n:func:`mne.io.read_info`:\n\n"
      ]
    },
    {
      "cell_type": "code",
      "execution_count": null,
      "metadata": {
        "collapsed": false
      },
      "outputs": [],
      "source": [
        "info = mne.io.read_info(sample_data_raw_file)\nprint(info)"
      ]
    },
    {
      "cell_type": "markdown",
      "metadata": {},
      "source": [
        "As you can see, the :class:`~mne.Info` object keeps track of a lot of\ninformation about:\n\n- the recording system (gantry angle, HPI details, sensor digitizations,\n  channel names, ...)\n- the experiment (project name and ID, subject information, recording date,\n  experimenter name or ID, ...)\n- the data (sampling frequency, applied filter frequencies, bad channels,\n  projectors, ...)\n\nThe complete list of fields is given in :class:`the API documentation\n<mne.Info>`.\n\n\n## Querying the ``Info`` object\n\nThe fields in a :class:`~mne.Info` object act like Python :class:`dictionary\n<dict>` keys, using square brackets and strings to access the contents of a\nfield:\n\n"
      ]
    },
    {
      "cell_type": "code",
      "execution_count": null,
      "metadata": {
        "collapsed": false
      },
      "outputs": [],
      "source": [
        "print(info.keys())\nprint()  # insert a blank line\nprint(info['ch_names'])"
      ]
    },
    {
      "cell_type": "markdown",
      "metadata": {},
      "source": [
        "Most of the fields contain :class:`int`, :class:`float`, or :class:`list`\ndata, but the ``chs`` field bears special mention: it contains a list of\ndictionaries (one :class:`dict` per channel) containing everything there is\nto know about a channel other than the data it recorded. Normally it is not\nnecessary to dig into the details of the ``chs`` field \u2014 various MNE-Python\nfunctions can extract the information more cleanly than iterating over the\nlist of dicts yourself \u2014 but it can be helpful to know what is in there. Here\nwe show the keys for the first channel's :class:`dict`:\n\n"
      ]
    },
    {
      "cell_type": "code",
      "execution_count": null,
      "metadata": {
        "collapsed": false
      },
      "outputs": [],
      "source": [
        "print(info['chs'][0].keys())"
      ]
    },
    {
      "cell_type": "markdown",
      "metadata": {},
      "source": [
        "\n## Obtaining subsets of channels\n\nIt is often useful to convert between channel names and the integer indices\nidentifying rows of the data array where those channels' measurements are\nstored. The :class:`~mne.Info` object is useful for this task; two\nconvenience functions that rely on the :class:`mne.Info` object for picking\nchannels are :func:`mne.pick_channels` and :func:`mne.pick_types`.\n:func:`~mne.pick_channels` minimally takes a list of all channel names and a\nlist of channel names to include; it is also possible to provide an empty\nlist to ``include`` and specify which channels to ``exclude`` instead:\n\n"
      ]
    },
    {
      "cell_type": "code",
      "execution_count": null,
      "metadata": {
        "collapsed": false
      },
      "outputs": [],
      "source": [
        "print(mne.pick_channels(info['ch_names'], include=['MEG 0312', 'EEG 005']))\n\nprint(mne.pick_channels(info['ch_names'], include=[],\n                        exclude=['MEG 0312', 'EEG 005']))"
      ]
    },
    {
      "cell_type": "markdown",
      "metadata": {},
      "source": [
        ":func:`~mne.pick_types` works differently, since channel type cannot always\nbe reliably determined from channel name alone. Consequently,\n:func:`~mne.pick_types` needs an :class:`~mne.Info` object instead of just a\nlist of channel names, and has boolean keyword arguments for each channel\ntype. Default behavior is to pick only MEG channels (and MEG reference\nchannels if present) and exclude any channels already marked as \"bad\" in the\n``bads`` field of the :class:`~mne.Info` object. Therefore, to get *all* and\n*only* the EEG channel indices (including the \"bad\" EEG channels) we must\npass ``meg=False`` and ``exclude=[]``:\n\n"
      ]
    },
    {
      "cell_type": "code",
      "execution_count": null,
      "metadata": {
        "collapsed": false
      },
      "outputs": [],
      "source": [
        "print(mne.pick_types(info, meg=False, eeg=True, exclude=[]))"
      ]
    },
    {
      "cell_type": "markdown",
      "metadata": {},
      "source": [
        "Note that the ``meg`` and ``fnirs`` parameters of :func:`~mne.pick_types`\naccept strings as well as boolean values, to allow selecting only\nmagnetometer or gradiometer channels (via ``meg='mag'`` or ``meg='grad'``) or\nto pick only oxyhemoglobin or deoxyhemoglobin channels (via ``fnirs='hbo'``\nor ``fnirs='hbr'``, respectively).\n\nA third way to pick channels from an :class:`~mne.Info` object is to apply\n`regular expression`_ matching to the channel names using\n:func:`mne.pick_channels_regexp`. Here the ``^`` represents the beginning of\nthe string and ``.`` character matches any single character, so both EEG and\nEOG channels will be selected:\n\n"
      ]
    },
    {
      "cell_type": "code",
      "execution_count": null,
      "metadata": {
        "collapsed": false
      },
      "outputs": [],
      "source": [
        "print(mne.pick_channels_regexp(info['ch_names'], '^E.G'))"
      ]
    },
    {
      "cell_type": "markdown",
      "metadata": {},
      "source": [
        ":func:`~mne.pick_channels_regexp` can be especially useful for channels named\naccording to the [10-20](ten-twenty_) system (e.g., to select all channels\nending in \"z\" to get the midline, or all channels beginning with \"O\" to get\nthe occipital channels). Note that :func:`~mne.pick_channels_regexp` uses the\nPython standard module :mod:`re` to perform regular expression matching; see\nthe documentation of the :mod:`re` module for implementation details.\n\n<div class=\"alert alert-danger\"><h4>Warning</h4><p>Both :func:`~mne.pick_channels` and :func:`~mne.pick_channels_regexp`\n   operate on lists of channel names, so they are unaware of which channels\n   (if any) have been marked as \"bad\" in ``info['bads']``. Use caution to\n   avoid accidentally selecting bad channels.</p></div>\n\n\n## Obtaining channel type information\n\nSometimes it can be useful to know channel type based on its index in the\ndata array. For this case, use :func:`mne.channel_type`, which takes\nan :class:`~mne.Info` object and a single integer channel index:\n\n"
      ]
    },
    {
      "cell_type": "code",
      "execution_count": null,
      "metadata": {
        "collapsed": false
      },
      "outputs": [],
      "source": [
        "print(mne.channel_type(info, 25))"
      ]
    },
    {
      "cell_type": "markdown",
      "metadata": {},
      "source": [
        "To obtain several channel types at once, you could embed\n:func:`~mne.channel_type` in a :term:`list comprehension`, or use the\n:meth:`~mne.io.Raw.get_channel_types` method of a :class:`~mne.io.Raw`,\n:class:`~mne.Epochs`, or :class:`~mne.Evoked` instance:\n\n"
      ]
    },
    {
      "cell_type": "code",
      "execution_count": null,
      "metadata": {
        "collapsed": false
      },
      "outputs": [],
      "source": [
        "picks = (25, 76, 77, 319)\nprint([mne.channel_type(info, x) for x in picks])\nprint(raw.get_channel_types(picks=picks))"
      ]
    },
    {
      "cell_type": "markdown",
      "metadata": {},
      "source": [
        "Alternatively, you can get the indices of all channels of *all* channel types\npresent in the data, using :func:`~mne.channel_indices_by_type`,\nwhich returns a :class:`dict` with channel types as keys, and lists of\nchannel indices as values:\n\n"
      ]
    },
    {
      "cell_type": "code",
      "execution_count": null,
      "metadata": {
        "collapsed": false
      },
      "outputs": [],
      "source": [
        "ch_idx_by_type = mne.channel_indices_by_type(info)\nprint(ch_idx_by_type.keys())\nprint(ch_idx_by_type['eog'])"
      ]
    },
    {
      "cell_type": "markdown",
      "metadata": {},
      "source": [
        "## Dropping channels from an ``Info`` object\n\nIf you want to modify an :class:`~mne.Info` object by eliminating some of the\nchannels in it, you can use the :func:`mne.pick_info` function to pick the\nchannels you want to keep and omit the rest:\n\n"
      ]
    },
    {
      "cell_type": "code",
      "execution_count": null,
      "metadata": {
        "collapsed": false
      },
      "outputs": [],
      "source": [
        "print(info['nchan'])\neeg_indices = mne.pick_types(info, meg=False, eeg=True)\nprint(mne.pick_info(info, eeg_indices)['nchan'])"
      ]
    },
    {
      "cell_type": "markdown",
      "metadata": {},
      "source": [
        "We can also get a nice HTML representation in IPython like:\n\n"
      ]
    },
    {
      "cell_type": "code",
      "execution_count": null,
      "metadata": {
        "collapsed": false
      },
      "outputs": [],
      "source": [
        "info"
      ]
    },
    {
      "cell_type": "markdown",
      "metadata": {},
      "source": [
        "By default, :func:`~mne.pick_info` will make a copy of the original\n:class:`~mne.Info` object before modifying it; if you want to modify it\nin-place, include the parameter ``copy=False``.\n\n\n.. LINKS\n\n\n"
      ]
    }
  ],
  "metadata": {
    "kernelspec": {
      "display_name": "Python 3",
      "language": "python",
      "name": "python3"
    },
    "language_info": {
      "codemirror_mode": {
        "name": "ipython",
        "version": 3
      },
      "file_extension": ".py",
      "mimetype": "text/x-python",
      "name": "python",
      "nbconvert_exporter": "python",
      "pygments_lexer": "ipython3",
      "version": "3.10.6"
    }
  },
  "nbformat": 4,
  "nbformat_minor": 0
}