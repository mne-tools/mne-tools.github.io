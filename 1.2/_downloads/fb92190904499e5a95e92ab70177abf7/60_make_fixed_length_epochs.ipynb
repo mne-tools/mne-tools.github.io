{
  "cells": [
    {
      "cell_type": "code",
      "execution_count": null,
      "metadata": {
        "collapsed": false
      },
      "outputs": [],
      "source": [
        "%matplotlib inline"
      ]
    },
    {
      "cell_type": "markdown",
      "metadata": {},
      "source": [
        "\n\n# Divide continuous data into equally-spaced epochs\n\nThis tutorial shows how to segment continuous data into a set of epochs spaced\nequidistantly in time. The epochs will not be created based on experimental\nevents; instead, the continuous data will be \"chunked\" into consecutive epochs\n(which may be temporally overlapping, adjacent, or separated).\nWe will also briefly demonstrate how to use these epochs in connectivity\nanalysis.\n\nFirst, we import necessary modules and read in a sample raw data set.\nThis data set contains brain activity that is event-related, i.e.,\nsynchronized to the onset of auditory stimuli. However, rather than creating\nepochs by segmenting the data around the onset of each stimulus, we will\ncreate 30 second epochs that allow us to perform non-event-related analyses of\nthe signal.\n\n<div class=\"alert alert-info\"><h4>Note</h4><p>Starting in version 1.0, all functions in the ``mne.connectivity``\n    sub-module are housed in a separate package called\n    :mod:`mne-connectivity <mne_connectivity>`. Download it by  running:\n\n```console\n$ pip install mne-connectivity</p></div>\n```\n"
      ]
    },
    {
      "cell_type": "code",
      "execution_count": null,
      "metadata": {
        "collapsed": false
      },
      "outputs": [],
      "source": [
        "import numpy as np\nimport matplotlib.pyplot as plt\nimport mne\nfrom mne.preprocessing import compute_proj_ecg\nfrom mne_connectivity import envelope_correlation\n\nsample_data_folder = mne.datasets.sample.data_path()\nsample_data_raw_file = (sample_data_folder / 'MEG' / 'sample' /\n                        'sample_audvis_raw.fif')\nraw = mne.io.read_raw_fif(sample_data_raw_file)"
      ]
    },
    {
      "cell_type": "markdown",
      "metadata": {},
      "source": [
        "For this tutorial we'll crop and resample the raw data to a manageable size\nfor our web server to handle, ignore EEG channels, and remove the heartbeat\nartifact so we don't get spurious correlations just because of that.\n\n"
      ]
    },
    {
      "cell_type": "code",
      "execution_count": null,
      "metadata": {
        "collapsed": false
      },
      "outputs": [],
      "source": [
        "raw.crop(tmax=150).resample(100).pick('meg')\necg_proj, _ = compute_proj_ecg(raw, ch_name='MEG 0511')  # No ECG chan\nraw.add_proj(ecg_proj)\nraw.apply_proj()"
      ]
    },
    {
      "cell_type": "markdown",
      "metadata": {},
      "source": [
        "To create fixed length epochs, we simply call the function and provide it\nwith the appropriate parameters indicating the desired duration of epochs in\nseconds, whether or not to preload data, whether or not to reject epochs that\noverlap with raw data segments annotated as bad, whether or not to include\nprojectors, and finally whether or not to be verbose. Here, we choose a long\nepoch duration (30 seconds). To conserve memory, we set ``preload`` to\n``False``.\n\n"
      ]
    },
    {
      "cell_type": "code",
      "execution_count": null,
      "metadata": {
        "collapsed": false
      },
      "outputs": [],
      "source": [
        "epochs = mne.make_fixed_length_epochs(raw, duration=30, preload=False)"
      ]
    },
    {
      "cell_type": "markdown",
      "metadata": {},
      "source": [
        "## Characteristics of Fixed Length Epochs\nFixed length epochs are generally unsuitable for event-related analyses. This\ncan be seen in an image map of our fixed length\nepochs. When the epochs are averaged, as seen at the bottom of the plot,\nmisalignment between onsets of event-related activity results in noise.\n\n"
      ]
    },
    {
      "cell_type": "code",
      "execution_count": null,
      "metadata": {
        "collapsed": false
      },
      "outputs": [],
      "source": [
        "event_related_plot = epochs.plot_image(picks=['MEG 1142'])"
      ]
    },
    {
      "cell_type": "markdown",
      "metadata": {},
      "source": [
        "For information about creating epochs for event-related analyses, please see\n`tut-epochs-class`.\n\n## Example Use Case for Fixed Length Epochs: Connectivity Analysis\nFixed lengths epochs are suitable for many types of analysis, including\nfrequency or time-frequency analyses, connectivity analyses, or\nclassification analyses. Here we briefly illustrate their utility in a sensor\nspace connectivity analysis.\n\nThe data from our epochs object has shape ``(n_epochs, n_sensors, n_times)``\nand is therefore an appropriate basis for using MNE-Python's envelope\ncorrelation function to compute power-based connectivity in sensor space. The\nlong duration of our fixed length epochs, 30 seconds, helps us reduce edge\nartifacts and achieve better frequency resolution when filtering must\nbe applied after epoching.\n\nLet's examine the alpha band. We allow default values for filter parameters\n(for more information on filtering, please see `tut-filter-resample`).\n\n"
      ]
    },
    {
      "cell_type": "code",
      "execution_count": null,
      "metadata": {
        "collapsed": false
      },
      "outputs": [],
      "source": [
        "epochs.load_data().filter(l_freq=8, h_freq=12)\nalpha_data = epochs.get_data()"
      ]
    },
    {
      "cell_type": "markdown",
      "metadata": {},
      "source": [
        "If desired, separate correlation matrices for each epoch can be obtained.\nFor envelope correlations, this is the default return if you use\n:meth:`mne-connectivity:mne_connectivity.EpochConnectivity.get_data`:\n\n"
      ]
    },
    {
      "cell_type": "code",
      "execution_count": null,
      "metadata": {
        "collapsed": false
      },
      "outputs": [],
      "source": [
        "corr_matrix = envelope_correlation(alpha_data).get_data()\nprint(corr_matrix.shape)"
      ]
    },
    {
      "cell_type": "markdown",
      "metadata": {},
      "source": [
        "Now we can plot correlation matrices. We'll compare the first and last\n30-second epochs of the recording:\n\n"
      ]
    },
    {
      "cell_type": "code",
      "execution_count": null,
      "metadata": {
        "collapsed": false
      },
      "outputs": [],
      "source": [
        "first_30 = corr_matrix[0]\nlast_30 = corr_matrix[-1]\ncorr_matrices = [first_30, last_30]\ncolor_lims = np.percentile(np.array(corr_matrices), [5, 95])\ntitles = ['First 30 Seconds', 'Last 30 Seconds']\n\nfig, axes = plt.subplots(nrows=1, ncols=2)\nfig.suptitle('Correlation Matrices from First 30 Seconds and Last 30 Seconds')\nfor ci, corr_matrix in enumerate(corr_matrices):\n    ax = axes[ci]\n    mpbl = ax.imshow(corr_matrix, clim=color_lims)\n    ax.set_xlabel(titles[ci])\nfig.subplots_adjust(right=0.8)\ncax = fig.add_axes([0.85, 0.2, 0.025, 0.6])\ncbar = fig.colorbar(ax.images[0], cax=cax)\ncbar.set_label('Correlation Coefficient')"
      ]
    }
  ],
  "metadata": {
    "kernelspec": {
      "display_name": "Python 3",
      "language": "python",
      "name": "python3"
    },
    "language_info": {
      "codemirror_mode": {
        "name": "ipython",
        "version": 3
      },
      "file_extension": ".py",
      "mimetype": "text/x-python",
      "name": "python",
      "nbconvert_exporter": "python",
      "pygments_lexer": "ipython3",
      "version": "3.10.6"
    }
  },
  "nbformat": 4,
  "nbformat_minor": 0
}