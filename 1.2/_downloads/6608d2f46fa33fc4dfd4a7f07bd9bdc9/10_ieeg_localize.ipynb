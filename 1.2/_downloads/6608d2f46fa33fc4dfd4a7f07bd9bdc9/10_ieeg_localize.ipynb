{
  "cells": [
    {
      "cell_type": "code",
      "execution_count": null,
      "metadata": {
        "collapsed": false
      },
      "outputs": [],
      "source": [
        "%matplotlib inline"
      ]
    },
    {
      "cell_type": "markdown",
      "metadata": {},
      "source": [
        "\n\n# Locating intracranial electrode contacts\n\nAnalysis of intracranial electrophysiology recordings typically involves\nfinding the position of each contact relative to brain structures. In a\ntypical setup, the brain and the electrode locations will be in two places\nand will have to be aligned; the brain is best visualized by a\npre-implantation magnetic resonance (MR) image whereas the electrode contact\nlocations are best visualized in a post-implantation computed tomography (CT)\nimage. The CT image has greater intensity than the background at each of the\nelectrode contacts and for the skull. Using the skull, the CT can be aligned\nto MR-space. This accomplishes our goal of obtaining contact locations in\nMR-space (which is where the brain structures are best determined using the\n`tut-freesurfer-reconstruction`). Contact locations in MR-space can also\nbe warped to a template space such as ``fsaverage`` for group comparisons.\nPlease note that this tutorial requires ``nibabel``, ``nilearn`` and ``dipy``\nwhich can be installed using ``pip`` as well as 3D plotting\n(see `manual-install`).\n\nSupport for intracranial electrophysiology analysis in MNE was added after\nthe original publication, so please cite :footcite:`RockhillEtAl2022` if you\nuse this module in your analysis to support the addition of new projects to\nMNE.\n"
      ]
    },
    {
      "cell_type": "code",
      "execution_count": null,
      "metadata": {
        "collapsed": false
      },
      "outputs": [],
      "source": [
        "# Authors: Alex Rockhill <aprockhill@mailbox.org>\n#          Eric Larson <larson.eric.d@gmail.com>\n#\n# License: BSD-3-Clause"
      ]
    },
    {
      "cell_type": "code",
      "execution_count": null,
      "metadata": {
        "collapsed": false
      },
      "outputs": [],
      "source": [
        "import numpy as np\nimport matplotlib.pyplot as plt\n\nimport nibabel as nib\nimport nilearn.plotting\nfrom dipy.align import resample\n\nimport mne\nfrom mne.datasets import fetch_fsaverage\n\n# paths to mne datasets: sample sEEG and FreeSurfer's fsaverage subject,\n# which is in MNI space\nmisc_path = mne.datasets.misc.data_path()\nsample_path = mne.datasets.sample.data_path()\nsubjects_dir = sample_path / 'subjects'\n\n# use mne-python's fsaverage data\nfetch_fsaverage(subjects_dir=subjects_dir, verbose=True)  # downloads if needed\n\n# GUI requires pyvista backend\nmne.viz.set_3d_backend('pyvistaqt')"
      ]
    },
    {
      "cell_type": "markdown",
      "metadata": {},
      "source": [
        "## Aligning the T1 to ACPC\n\nFor intracranial electrophysiology recordings, the Brain Imaging Data\nStructure (BIDS) standard requires that coordinates be aligned to the\nanterior commissure and posterior commissure (ACPC-aligned). Therefore, it is\nrecommended that you do this alignment before finding the positions of the\nchannels in your recording. Doing this will make the \"mri\" (aka surface RAS)\ncoordinate frame an ACPC coordinate frame. This can be done using\nFreesurfer's freeview:\n\n```console\n$ freeview $MISC_PATH/seeg/sample_seeg_T1.mgz\n```\nAnd then interact with the graphical user interface:\n\nFirst, it is recommended to change the cursor style to long, this can be done\nthrough the menu options like so:\n\n    :menuselection:`Freeview --> Preferences --> General --> Cursor style\n    --> Long`\n\nThen, the image needs to be aligned to ACPC to look like the image below.\nThis can be done by pulling up the transform popup from the menu like so:\n\n    :menuselection:`Tools --> Transform Volume`\n\n<div class=\"alert alert-info\"><h4>Note</h4><p>Be sure to set the text entry box labeled RAS (not TkReg RAS) to\n    ``0 0 0`` before beginning the transform.</p></div>\n\nThen translate the image until the crosshairs meet on the AC and\nrun through the PC as shown in the plot. The eyes should be in\nthe ACPC plane and the image should be rotated until they are symmetrical,\nand the crosshairs should transect the midline of the brain.\nBe sure to use both the rotate and the translate menus and save the volume\nafter you're finished using ``Save Volume As`` in the transform popup\n:footcite:`HamiltonEtAl2017`.\n\n"
      ]
    },
    {
      "cell_type": "code",
      "execution_count": null,
      "metadata": {
        "collapsed": false
      },
      "outputs": [],
      "source": [
        "T1 = nib.load(misc_path / 'seeg' / 'sample_seeg' / 'mri' / 'T1.mgz')\nviewer = T1.orthoview()\nviewer.set_position(0, 9.9, 5.8)\nviewer.figs[0].axes[0].annotate(\n    'PC', (107, 108), xytext=(10, 75), color='white',\n    horizontalalignment='center',\n    arrowprops=dict(facecolor='white', lw=0.5, width=2, headwidth=5))\nviewer.figs[0].axes[0].annotate(\n    'AC', (137, 108), xytext=(246, 75), color='white',\n    horizontalalignment='center',\n    arrowprops=dict(facecolor='white', lw=0.5, width=2, headwidth=5))"
      ]
    },
    {
      "cell_type": "markdown",
      "metadata": {},
      "source": [
        "## Freesurfer recon-all\n\nThe first step is the most time consuming; the freesurfer reconstruction.\nThis process segments out the brain from the rest of the MR image and\ndetermines which voxels correspond to each brain area based on a template\ndeformation. This process takes approximately 8 hours so plan accordingly.\nThe example dataset contains the data from completed reconstruction so\nwe will proceed using that.\n\n```console\n$ export SUBJECT=sample_seeg\n$ export SUBJECTS_DIR=$MY_DATA_DIRECTORY\n$ recon-all -subjid $SUBJECT -sd $SUBJECTS_DIR \\\n  -i $MISC_PATH/seeg/sample_seeg_T1.mgz -all -deface\n```\n<div class=\"alert alert-info\"><h4>Note</h4><p>You may need to include an additional ``-cw256`` flag which can be added\n    to the end of the recon-all command if your MR scan is not\n    ``256 \u00d7 256 \u00d7 256`` voxels.</p></div>\n\n<div class=\"alert alert-info\"><h4>Note</h4><p>Using the ``-deface`` flag will create a defaced, anonymized T1 image\n    located at ``$MY_DATA_DIRECTORY/$SUBJECT/mri/orig_defaced.mgz``,\n    which is helpful for when you publish your data. You can also use\n    :func:`mne_bids.write_anat` and pass ``deface=True``.</p></div>\n\n"
      ]
    },
    {
      "cell_type": "markdown",
      "metadata": {},
      "source": [
        "## Aligning the CT to the MR\n\nLet's load our T1 and CT images and visualize them. You can hardly\nsee the CT, it's so misaligned that all you can see is part of the\nstereotactic frame that is anteriolateral to the skull in the middle plot.\nClearly, we need to align the CT to the T1 image.\n\n"
      ]
    },
    {
      "cell_type": "code",
      "execution_count": null,
      "metadata": {
        "collapsed": false
      },
      "outputs": [],
      "source": [
        "def plot_overlay(image, compare, title, thresh=None):\n    \"\"\"Define a helper function for comparing plots.\"\"\"\n    image = nib.orientations.apply_orientation(\n        np.asarray(image.dataobj), nib.orientations.axcodes2ornt(\n            nib.orientations.aff2axcodes(image.affine))).astype(np.float32)\n    compare = nib.orientations.apply_orientation(\n        np.asarray(compare.dataobj), nib.orientations.axcodes2ornt(\n            nib.orientations.aff2axcodes(compare.affine))).astype(np.float32)\n    if thresh is not None:\n        compare[compare < np.quantile(compare, thresh)] = np.nan\n    fig, axes = plt.subplots(1, 3, figsize=(12, 4))\n    fig.suptitle(title)\n    for i, ax in enumerate(axes):\n        ax.imshow(np.take(image, [image.shape[i] // 2], axis=i).squeeze().T,\n                  cmap='gray')\n        ax.imshow(np.take(compare, [compare.shape[i] // 2],\n                          axis=i).squeeze().T, cmap='gist_heat', alpha=0.5)\n        ax.invert_yaxis()\n        ax.axis('off')\n    fig.tight_layout()\n\n\nCT_orig = nib.load(misc_path / 'seeg' / 'sample_seeg_CT.mgz')\n\n# resample to T1's definition of world coordinates\nCT_resampled = resample(moving=np.asarray(CT_orig.dataobj),\n                        static=np.asarray(T1.dataobj),\n                        moving_affine=CT_orig.affine,\n                        static_affine=T1.affine)\nplot_overlay(T1, CT_resampled, 'Unaligned CT Overlaid on T1', thresh=0.95)\ndel CT_resampled"
      ]
    },
    {
      "cell_type": "markdown",
      "metadata": {},
      "source": [
        "Now we need to align our CT image to the T1 image.\n\nWe want this to be a rigid transformation (just rotation + translation),\nso we don't do a full affine registration (that includes shear) here.\nThis takes a while (~10 minutes) to execute so we skip actually running it\nhere::\n\n   reg_affine, _ = mne.transforms.compute_volume_registration(\n        CT_orig, T1, pipeline='rigids')\n\nInstead we just hard-code the resulting 4x4 matrix:\n\n"
      ]
    },
    {
      "cell_type": "code",
      "execution_count": null,
      "metadata": {
        "collapsed": false
      },
      "outputs": [],
      "source": [
        "reg_affine = np.array([\n    [0.99270756, -0.03243313, 0.11610254, -133.094156],\n    [0.04374389, 0.99439665, -0.09623816, -97.58320673],\n    [-0.11233068, 0.10061512, 0.98856381, -84.45551601],\n    [0., 0., 0., 1.]])\n# use a cval='1%' here to make the values outside the domain of the CT\n# the same as the background level during interpolation\nCT_aligned = mne.transforms.apply_volume_registration(\n    CT_orig, T1, reg_affine, cval='1%')\nplot_overlay(T1, CT_aligned, 'Aligned CT Overlaid on T1', thresh=0.95)\ndel CT_orig"
      ]
    },
    {
      "cell_type": "markdown",
      "metadata": {},
      "source": [
        "<div class=\"alert alert-info\"><h4>Note</h4><p>Alignment failures sometimes occur which requires manual pre-alignment.\n    Freesurfer's ``freeview`` can be used to to align manually\n\n```console\n$ freeview $MISC_PATH/seeg/sample_seeg/mri/T1.mgz \\\n   $MISC_PATH/seeg/sample_seeg_CT.mgz:colormap=heat:opacity=0.6\n```\n    - Navigate to the upper toolbar, go to\n      :menuselection:`Tools --> Transform Volume`\n    - Use the rotation and translation slide bars to align the CT\n      to the MR (be sure to have the CT selected in the upper left menu)\n    - Save the linear transform array (lta) file using the ``Save Reg...``\n      button\n\n    Since we really require as much precision as possible for the\n    alignment, we should rerun the algorithm starting with the manual\n    alignment. This time, we just want to skip to the most exact rigid\n    alignment, without smoothing, since the manual alignment is already\n    very close.\n\n```python\n# load transform\nmanual_reg_affine_vox = mne.read_lta(op.join(  # the path used above\n    misc_path, 'seeg', 'sample_seeg_CT_aligned_manual.mgz.lta'))\n# convert from vox->vox to ras->ras\nmanual_reg_affine = \\\n    CT_orig.affine @ np.linalg.inv(manual_reg_affine_vox) \\\n    @ np.linalg.inv(CT_orig.affine)\nreg_affine, _ = mne.transforms.compute_volume_registration(\n    CT_orig, T1, pipeline=['rigid'],\n    starting_affine=manual_reg_affine)\nCT_aligned = mne.transforms.apply_volume_registration(\n    CT_orig, T1, reg_affine, cval='1%')\n```\n    The rest of the tutorial can then be completed using ``CT_aligned``\n    from this point on.</p></div>\n\n"
      ]
    },
    {
      "cell_type": "markdown",
      "metadata": {},
      "source": [
        "We can now see how the CT image looks properly aligned to the T1 image.\n\n<div class=\"alert alert-info\"><h4>Note</h4><p>The hyperintense skull is actually aligned to the hypointensity between\n    the brain and the scalp. The brighter area surrounding the skull in the\n    MR is actually subcutaneous fat.</p></div>\n\n"
      ]
    },
    {
      "cell_type": "code",
      "execution_count": null,
      "metadata": {
        "collapsed": false
      },
      "outputs": [],
      "source": [
        "# make low intensity parts of the CT transparent for easier visualization\nCT_data = CT_aligned.get_fdata().copy()\nCT_data[CT_data < np.quantile(CT_data, 0.95)] = np.nan\nT1_data = np.asarray(T1.dataobj)\n\nfig, axes = plt.subplots(1, 3, figsize=(12, 6))\nfor ax in axes:\n    ax.axis('off')\naxes[0].imshow(T1_data[T1.shape[0] // 2], cmap='gray')\naxes[0].set_title('MR')\naxes[1].imshow(np.asarray(CT_aligned.dataobj)[CT_aligned.shape[0] // 2],\n               cmap='gray')\naxes[1].set_title('CT')\naxes[2].imshow(T1_data[T1.shape[0] // 2], cmap='gray')\naxes[2].imshow(CT_data[CT_aligned.shape[0] // 2], cmap='gist_heat', alpha=0.5)\nfor ax in (axes[0], axes[2]):\n    ax.annotate('Subcutaneous fat', (110, 52), xytext=(100, 30),\n                color='white', horizontalalignment='center',\n                arrowprops=dict(facecolor='white'))\nfor ax in axes:\n    ax.annotate('Skull (dark in MR, bright in CT)', (40, 175),\n                xytext=(120, 246), horizontalalignment='center',\n                color='white', arrowprops=dict(facecolor='white'))\naxes[2].set_title('CT aligned to MR')\nfig.tight_layout()\ndel CT_data, T1"
      ]
    },
    {
      "cell_type": "markdown",
      "metadata": {},
      "source": [
        "Now we need to estimate the \"head\" coordinate transform.\n\nMNE stores digitization montages in a coordinate frame called \"head\"\ndefined by fiducial points (origin is halfway between the LPA and RPA\nsee `tut-source-alignment`). For sEEG, it is convenient to get an\nestimate of the location of the fiducial points for the subject\nusing the Talairach transform (see :func:`mne.coreg.get_mni_fiducials`)\nto use to define the coordinate frame so that we don't have to manually\nidentify their location.\n\n"
      ]
    },
    {
      "cell_type": "code",
      "execution_count": null,
      "metadata": {
        "collapsed": false
      },
      "outputs": [],
      "source": [
        "# estimate head->mri transform\nsubj_trans = mne.coreg.estimate_head_mri_t(\n    'sample_seeg', misc_path / 'seeg')"
      ]
    },
    {
      "cell_type": "markdown",
      "metadata": {},
      "source": [
        "## Marking the Location of Each Electrode Contact\n\nNow, the CT and the MR are in the same space, so when you are looking at a\npoint in CT space, it is the same point in MR space. So now everything is\nready to determine the location of each electrode contact in the\nindividual subject's anatomical space (T1-space). To do this, we can use the\nMNE intracranial electrode location graphical user interface.\n\n<div class=\"alert alert-info\"><h4>Note</h4><p>The most useful coordinate frame for intracranial electrodes is\n          generally the ``surface RAS`` coordinate frame because that is\n          the coordinate frame that all the surface and image files that\n          Freesurfer outputs are in, see `tut-freesurfer-mne`. These are\n          useful for finding the brain structures nearby each contact and\n          plotting the results.</p></div>\n\nSee the following video on how to operate the GUI or follow the steps below:\n\n.. youtube:: 8JWDJhXq0VY\n\n- Click in each image to navigate to each electrode contact\n- Select the contact name in the right panel\n- Press the \"Mark\" button or the \"m\" key to associate that\n  position with that contact\n- Repeat until each contact is marked, they will both appear as circles\n  in the plots and be colored in the sidebar when marked\n\n<div class=\"alert alert-info\"><h4>Note</h4><p>The channel locations are saved to the ``raw`` object every time\n          a location is marked or removed so there is no \"Save\" button.</p></div>\n\n<div class=\"alert alert-info\"><h4>Note</h4><p>Using the scroll or +/- arrow keys you can zoom in and out,\n          and the up/down, left/right and page up/page down keys allow\n          you to move one slice in any direction. This information is\n          available in the help menu, accessible by pressing the \"h\" key.</p></div>\n\n<div class=\"alert alert-info\"><h4>Note</h4><p>If \"Snap to Center\" is on, this will use the radius so be\n          sure to set it properly.</p></div>\n\n"
      ]
    },
    {
      "cell_type": "code",
      "execution_count": null,
      "metadata": {
        "collapsed": false
      },
      "outputs": [],
      "source": [
        "# load electrophysiology data to find channel locations for\n# (the channels are already located in the example)\n\nraw = mne.io.read_raw(misc_path / 'seeg' / 'sample_seeg_ieeg.fif')\n\n# you may want to add `block=True` to halt execution until you have interacted\n# with the GUI to find the channel positions, that way the raw object can\n# be used later in the script (e.g. saved with channel positions)\nmne.gui.locate_ieeg(raw.info, subj_trans, CT_aligned,\n                    subject='sample_seeg',\n                    subjects_dir=misc_path / 'seeg')\n# The `raw` object is modified to contain the channel locations"
      ]
    },
    {
      "cell_type": "markdown",
      "metadata": {},
      "source": [
        "Let's do a quick sidebar and show what this looks like for ECoG as well.\n\n"
      ]
    },
    {
      "cell_type": "code",
      "execution_count": null,
      "metadata": {
        "collapsed": false
      },
      "outputs": [],
      "source": [
        "T1_ecog = nib.load(misc_path / 'ecog' / 'sample_ecog' / 'mri' / 'T1.mgz')\nCT_orig_ecog = nib.load(misc_path / 'ecog' / 'sample_ecog_CT.mgz')\n\n# pre-computed affine from `mne.transforms.compute_volume_registration`\nreg_affine = np.array([\n    [0.99982382, -0.00414586, -0.01830679, 0.15413965],\n    [0.00549597, 0.99721885, 0.07432601, -1.54316131],\n    [0.01794773, -0.07441352, 0.99706595, -1.84162514],\n    [0., 0., 0., 1.]])\n# align CT\nCT_aligned_ecog = mne.transforms.apply_volume_registration(\n    CT_orig_ecog, T1_ecog, reg_affine, cval='1%')\n\nraw_ecog = mne.io.read_raw(misc_path / 'ecog' / 'sample_ecog_ieeg.fif')\n# use estimated `trans` which was used when the locations were found previously\nsubj_trans_ecog = mne.coreg.estimate_head_mri_t(\n    'sample_ecog', misc_path / 'ecog')\nmne.gui.locate_ieeg(raw_ecog.info, subj_trans_ecog, CT_aligned_ecog,\n                    subject='sample_ecog',\n                    subjects_dir=misc_path / 'ecog')"
      ]
    },
    {
      "cell_type": "markdown",
      "metadata": {},
      "source": [
        "For ECoG, we typically want to account for \"brain shift\" or shrinking of the\nbrain away from the skull/dura due to changes in pressure during the\ncraniotomy\nNote: this requires the BEM surfaces to have been computed e.g. using\n`mne watershed_bem` or `mne flash_bem`.\nFirst, let's plot the localized sensor positions without modification.\n\n"
      ]
    },
    {
      "cell_type": "code",
      "execution_count": null,
      "metadata": {
        "collapsed": false
      },
      "outputs": [],
      "source": [
        "# plot projected sensors\nbrain_kwargs = dict(cortex='low_contrast', alpha=0.2, background='white')\nbrain = mne.viz.Brain('sample_ecog', subjects_dir=misc_path / 'ecog',\n                      title='Before Projection', **brain_kwargs)\nbrain.add_sensors(raw_ecog.info, trans=subj_trans_ecog)\nview_kwargs = dict(azimuth=60, elevation=100, distance=350,\n                   focalpoint=(0, 0, -15))\nbrain.show_view(**view_kwargs)"
      ]
    },
    {
      "cell_type": "markdown",
      "metadata": {},
      "source": [
        "Now, let's project the sensors to the brain surface and re-plot them.\n\n"
      ]
    },
    {
      "cell_type": "code",
      "execution_count": null,
      "metadata": {
        "collapsed": false
      },
      "outputs": [],
      "source": [
        "# project sensors to the brain surface\nraw_ecog.info = mne.preprocessing.ieeg.project_sensors_onto_brain(\n    raw_ecog.info, subj_trans_ecog, 'sample_ecog',\n    subjects_dir=misc_path / 'ecog')\n\n# plot projected sensors\nbrain = mne.viz.Brain('sample_ecog', subjects_dir=misc_path / 'ecog',\n                      title='After Projection', **brain_kwargs)\nbrain.add_sensors(raw_ecog.info, trans=subj_trans_ecog)\nbrain.show_view(**view_kwargs)"
      ]
    },
    {
      "cell_type": "markdown",
      "metadata": {},
      "source": [
        "Let's plot the electrode contact locations on the subject's brain.\n\nMNE stores digitization montages in a coordinate frame called \"head\"\ndefined by fiducial points (origin is halfway between the LPA and RPA\nsee `tut-source-alignment`). For sEEG, it is convenient to get an\nestimate of the location of the fiducial points for the subject\nusing the Talairach transform (see :func:`mne.coreg.get_mni_fiducials`)\nto use to define the coordinate frame so that we don't have to manually\nidentify their location. The estimated head->mri ``trans`` was used\nwhen the electrode contacts were localized so we need to use it again here.\n\n"
      ]
    },
    {
      "cell_type": "code",
      "execution_count": null,
      "metadata": {
        "collapsed": false
      },
      "outputs": [],
      "source": [
        "# plot the alignment\nbrain = mne.viz.Brain('sample_seeg', subjects_dir=misc_path / 'seeg',\n                      **brain_kwargs)\nbrain.add_sensors(raw.info, trans=subj_trans)\nbrain.show_view(**view_kwargs)"
      ]
    },
    {
      "cell_type": "markdown",
      "metadata": {},
      "source": [
        "## Warping to a Common Atlas\n\nElectrode contact locations are often compared across subjects in a template\nspace such as ``fsaverage`` or ``cvs_avg35_inMNI152``. To transform electrode\ncontact locations to that space, we need to determine a function that maps\nfrom the subject's brain to the template brain. We will use the symmetric\ndiffeomorphic registration (SDR) implemented by ``Dipy`` to do this.\n\nBefore we can make a function to account for individual differences in the\nshape and size of brain areas, we need to fix the alignment of the brains.\nThe plot below shows that they are not yet aligned.\n\n"
      ]
    },
    {
      "cell_type": "code",
      "execution_count": null,
      "metadata": {
        "collapsed": false
      },
      "outputs": [],
      "source": [
        "# load the subject's brain and the Freesurfer \"fsaverage\" template brain\nsubject_brain = nib.load(\n    misc_path / 'seeg' / 'sample_seeg' / 'mri' / 'brain.mgz')\ntemplate_brain = nib.load(\n    subjects_dir / 'fsaverage' / 'mri' / 'brain.mgz')\n\nplot_overlay(template_brain, subject_brain,\n             'Alignment with fsaverage before Affine Registration')"
      ]
    },
    {
      "cell_type": "markdown",
      "metadata": {},
      "source": [
        "Now, we'll register the affine of the subject's brain to the template brain.\nThis aligns the two brains, preparing the subject's brain to be warped\nto the template.\n\n<div class=\"alert alert-danger\"><h4>Warning</h4><p>Here we use custom ``zooms`` just for speed (this downsamples\n             the image resolution), in general we recommend using\n             ``zooms=None`` (default) for highest accuracy!</p></div>\n\n"
      ]
    },
    {
      "cell_type": "code",
      "execution_count": null,
      "metadata": {
        "collapsed": false
      },
      "outputs": [],
      "source": [
        "zooms = dict(translation=10, rigid=10, affine=10, sdr=5)\nreg_affine, sdr_morph = mne.transforms.compute_volume_registration(\n    subject_brain, template_brain, zooms=zooms, verbose=True)\nsubject_brain_sdr = mne.transforms.apply_volume_registration(\n    subject_brain, template_brain, reg_affine, sdr_morph)\n\n# apply the transform to the subject brain to plot it\nplot_overlay(template_brain, subject_brain_sdr,\n             'Alignment with fsaverage after SDR Registration')\n\ndel subject_brain, template_brain"
      ]
    },
    {
      "cell_type": "markdown",
      "metadata": {},
      "source": [
        "Finally, we'll apply the registrations to the electrode contact coordinates.\nThe brain image is warped to the template but the goal was to warp the\npositions of the electrode contacts. To do that, we'll make an image that is\na lookup table of the electrode contacts. In this image, the background will\nbe ``0`` s all the bright voxels near the location of the first contact will\nbe ``1`` s, the second ``2`` s and so on. This image can then be warped by\nthe SDR transform. We can finally recover a position by averaging the\npositions of all the voxels that had the contact's lookup number in\nthe warped image.\n\n"
      ]
    },
    {
      "cell_type": "code",
      "execution_count": null,
      "metadata": {
        "collapsed": false
      },
      "outputs": [],
      "source": [
        "# first we need our montage but it needs to be converted to \"mri\" coordinates\n# using our ``subj_trans``\nmontage = raw.get_montage()\nmontage.apply_trans(subj_trans)\n\nmontage_warped, elec_image, warped_elec_image = mne.warp_montage_volume(\n    montage, CT_aligned, reg_affine, sdr_morph, thresh=0.25,\n    subject_from='sample_seeg', subjects_dir_from=misc_path / 'seeg',\n    subject_to='fsaverage', subjects_dir_to=subjects_dir)\n\nfig, axes = plt.subplots(2, 1, figsize=(8, 8))\nnilearn.plotting.plot_glass_brain(elec_image, axes=axes[0], cmap='Dark2')\nfig.text(0.1, 0.65, 'Subject T1', rotation='vertical')\nnilearn.plotting.plot_glass_brain(warped_elec_image, axes=axes[1],\n                                  cmap='Dark2')\nfig.text(0.1, 0.25, 'fsaverage', rotation='vertical')\nfig.suptitle('Electrodes warped to fsaverage')\n\ndel CT_aligned"
      ]
    },
    {
      "cell_type": "markdown",
      "metadata": {},
      "source": [
        "We can now plot the result. You can compare this to the plot in\n`tut-working-with-seeg` to see the difference between this morph, which\nis more complex, and the less-complex, linear Talairach transformation.\nBy accounting for the shape of this particular subject's brain using the\nSDR to warp the positions of the electrode contacts, the position in the\ntemplate brain is able to be more accurately estimated.\n\n<div class=\"alert alert-info\"><h4>Note</h4><p>The accuracy of warping to the template has been degraded by\n          using ``zooms`` to downsample the image before registration\n          which makes some of the contacts inaccurately appear outside\n          the brain.</p></div>\n\n"
      ]
    },
    {
      "cell_type": "code",
      "execution_count": null,
      "metadata": {
        "collapsed": false
      },
      "outputs": [],
      "source": [
        "# first we need to add fiducials so that we can define the \"head\" coordinate\n# frame in terms of them (with the origin at the center between LPA and RPA)\nmontage_warped.add_estimated_fiducials('fsaverage', subjects_dir)\n\n# compute the head<->mri ``trans`` now using the fiducials\ntemplate_trans = mne.channels.compute_native_head_t(montage_warped)\n\n# now we can set the montage and, because there are fiducials in the montage,\n# the montage will be properly transformed to \"head\" coordinates when we do\n# (this step uses ``template_trans`` but it is recomputed behind the scenes)\nraw.set_montage(montage_warped)\n\n# plot the resulting alignment\nbrain = mne.viz.Brain('fsaverage', subjects_dir=subjects_dir, **brain_kwargs)\nbrain.add_sensors(raw.info, trans=template_trans)\nbrain.show_view(**view_kwargs)"
      ]
    },
    {
      "cell_type": "markdown",
      "metadata": {},
      "source": [
        "This pipeline was developed based on previous work\n:footcite:`HamiltonEtAl2017`.\n\n## References\n\n.. footbibliography::\n\n"
      ]
    }
  ],
  "metadata": {
    "kernelspec": {
      "display_name": "Python 3",
      "language": "python",
      "name": "python3"
    },
    "language_info": {
      "codemirror_mode": {
        "name": "ipython",
        "version": 3
      },
      "file_extension": ".py",
      "mimetype": "text/x-python",
      "name": "python",
      "nbconvert_exporter": "python",
      "pygments_lexer": "ipython3",
      "version": "3.10.6"
    }
  },
  "nbformat": 4,
  "nbformat_minor": 0
}