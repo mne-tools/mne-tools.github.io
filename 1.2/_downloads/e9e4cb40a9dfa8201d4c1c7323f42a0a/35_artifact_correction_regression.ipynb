{
  "cells": [
    {
      "cell_type": "code",
      "execution_count": null,
      "metadata": {
        "collapsed": false
      },
      "outputs": [],
      "source": [
        "%matplotlib inline"
      ]
    },
    {
      "cell_type": "markdown",
      "metadata": {},
      "source": [
        "\n\n# Repairing artifacts with regression\n\nThis tutorial covers removal of artifacts using regression as in Gratton et al.\n(1983) :footcite:`GrattonEtAl1983` and Croft & Barry (2000)\n:footcite:`CroftBarry2000`.\n\nGenerally speaking, artifacts that result in time waveforms on the sensors\nthat are accurately reflected by some reference signal can be removed by\nregression. Blink artifacts captured by bipolar EOG channels provide a good\nexample of this, so we will demonstrate this here.\n\nAlthough ECG signals are well captured by bipolar ECG electrodes,\nregression-based removal of ECG artifacts usually does not work very well.\nThis is likely because the heart acts like a rotating dipole, and\ntherefore the ECG channel time waveform recorded from the ECG electrode sites\ndoes not reflect the same temporal dynamics that manifest at each MEG channel\n(obtained by sampling some component of the related magnetic vector field).\nOther approaches like `ICA <tut-artifact-ica>` or\n`SSP <tut-artifact-ssp>` will likely work better for ECG.\n\nFurthermore, regression approaches are usually performed in situations where\nthere are few channels available, and removing an entire signal component is\nundesirable. Hence, most articles on the topic concern EEG and it is\nunusual to see the technique applied to MEG. For this reason, we will restrict\nthe analysis in this tutorial to EEG data only.\n\n\n## Prepare the data\n\nWe begin as always by importing the necessary Python modules and loading some\ndata. The `MNE-Sample <sample-dataset>` dataset has some clear, large\nblink artifacts, especially during the presentation of visual stimuli.\n"
      ]
    },
    {
      "cell_type": "code",
      "execution_count": null,
      "metadata": {
        "collapsed": false
      },
      "outputs": [],
      "source": [
        "import numpy as np\nimport mne\nfrom mne.preprocessing import EOGRegression\n\ndata_path = mne.datasets.sample.data_path()\nraw_fname = data_path / 'MEG' / 'sample' / 'sample_audvis_raw.fif'\nraw = mne.io.read_raw_fif(raw_fname)\nraw.pick(['eeg', 'eog', 'stim'])\nraw.load_data()\n\n# The regression technique works regardless of chosen reference. However, it is\n# important to choose a reference before proceeding with the analysis.\nraw.set_eeg_reference('average')\n\n# Removing slow drifts makes for more stable regression coefficients. Make sure\n# to apply the same filter to both EEG and EOG channels!\nraw.filter(0.3, 40)\n\n# make epochs\nevents = mne.find_events(raw)\nevent_id = {'visual/left': 3, 'visual/right': 4}\nepochs = mne.Epochs(raw, events, event_id=event_id, preload=True)"
      ]
    },
    {
      "cell_type": "markdown",
      "metadata": {},
      "source": [
        "## Visualize the original data\nLet's first look at the `~mne.Evoked` data (average across epochs) without\nany corrections applied.\n\n"
      ]
    },
    {
      "cell_type": "code",
      "execution_count": null,
      "metadata": {
        "collapsed": false
      },
      "outputs": [],
      "source": [
        "# we'll try to keep a consistent ylim across figures\nplot_kwargs = dict(picks='all', ylim=dict(eeg=(-10, 10), eog=(-5, 15)))\n\n# plot the evoked for the EEG and the EOG sensors\nfig = epochs.average('all').plot(**plot_kwargs)\nfig.set_size_inches(6, 6)"
      ]
    },
    {
      "cell_type": "markdown",
      "metadata": {},
      "source": [
        "We can see there is some EOG activity that is likely bleeding into the EEG\nevoked response. At around 250ms this becomes especially noticeable. Let's\napply regression to subtract the EOG signal from the EEG signals to clean it\nup.\n\n"
      ]
    },
    {
      "cell_type": "markdown",
      "metadata": {},
      "source": [
        "## Compute and apply EOG regression\nNow, we'll compare the evoked response before and after we regress out the\nEOG signal. First, let's try plain regression, and then we'll explore more\nadvanced techniques.\n\n"
      ]
    },
    {
      "cell_type": "code",
      "execution_count": null,
      "metadata": {
        "collapsed": false
      },
      "outputs": [],
      "source": [
        "# Perform regression using the EOG sensor as independent variable and the EEG\n# sensors as dependent variables.\nmodel_plain = EOGRegression(picks='eeg', picks_artifact='eog').fit(epochs)\nfig = model_plain.plot(vlim=(None, 0.4))  # regression coefficients as topomap\nfig.set_size_inches(3, 2)"
      ]
    },
    {
      "cell_type": "markdown",
      "metadata": {},
      "source": [
        "The regression coefficients show the linear relationship between each EEG\nsensor and the EOG sensor. Note that occipital sensors have a positive\nrelationship, as we set a common-average reference when we loaded the data\nabove.\n\nNow we are ready to use these coefficients to subtract the EOG signal from\nthe EEG signals.\n\n"
      ]
    },
    {
      "cell_type": "code",
      "execution_count": null,
      "metadata": {
        "collapsed": false
      },
      "outputs": [],
      "source": [
        "epochs_clean_plain = model_plain.apply(epochs)\n# After regression, we should redo the baseline correction\nepochs_clean_plain.apply_baseline()\n# Show the evoked potential computed on the corrected data\nfig = epochs_clean_plain.average('all').plot(**plot_kwargs)\nfig.set_size_inches(6, 6)"
      ]
    },
    {
      "cell_type": "markdown",
      "metadata": {},
      "source": [
        "Regressing the EOG signal out of the EEG signals has reduced the peak around\n250ms that was partly there because of eye artifacts.\n\nIn the `MNE-Sample dataset <sample-dataset>`, there are no segments of\ndata that are particularly unstable, so the basic form of regression produces\nrobust coefficients. However, this may not be the case in every dataset, so\nlet's explore some variations that may improve the estimation of the\nregression coefficients.\n\nOne potential problem is that the EOG sensor does not only pick up eye\nartifacts, but also a bit of EEG signal. This means we are prone to\noverestimating the regression coefficients if the EOG sensors are placed too\nclose to the EEG sensors. However, there is a correction we can apply to\nalleviate this.\n\n## Subtract the evoked response from the epoch data before regression\nGratton et al. (1983) :footcite:`GrattonEtAl1983` suggest computing\nregression coefficients on epoch data with the evoked response subtracted\nout. The idea is that the EEG signal components relevant to the study are in\nthe evoked, so by removing them, mostly noise components will be left. Since\nEOG artifacts are unlikely to be strictly time-locked to the stimulus onset,\nenough EOG information will likely remain to be able to estimate robust\nregression coefficients.\n\n"
      ]
    },
    {
      "cell_type": "code",
      "execution_count": null,
      "metadata": {
        "collapsed": false
      },
      "outputs": [],
      "source": [
        "# create epochs with the evoked subtracted out\nepochs_sub = epochs.copy().subtract_evoked()\n\n# perform regression\nmodel_sub = EOGRegression(picks='eeg', picks_artifact='eog').fit(epochs_sub)\nfig = model_sub.plot(vlim=(None, 0.4))\nfig.set_size_inches(3, 2)\n\n# apply the regression coefficients to the original epochs\nepochs_clean_sub = model_plain.apply(epochs).apply_baseline()\nfig = epochs_clean_sub.average('all').plot(**plot_kwargs)\nfig.set_size_inches(6, 6)"
      ]
    },
    {
      "cell_type": "markdown",
      "metadata": {},
      "source": [
        "We see that we obtain the same regression coefficients, even with the evoked\nremoved from the epochs.\n\n## Create EOG evoked before regression\nIt is advantageous to estimate the regression coefficients on a piece of data\nwith lots of EOG activity. As EOG activity is typically much larger than EEG,\nthe EOG artifacts will dominate the signal and the regression coefficients\nwill reflect mostly the influence of the EOG. To amplify this effect, Croft &\nBarry (2000) :footcite:`CroftBarry2000` suggest creating epochs based on\nblink onsets and computing the evoked blink response. The averaging procedure\nwill suppress EEG signals that are not strictly time-locked with the blink\nresponse. Ideally, one would create evokeds for both blinks and saccades, and\ncreate two separate regression models. However, we will restrict ourselves to\njust blink epochs, since MNE-Python contains an automated method for creating\nthose.\n\n<div class=\"alert alert-info\"><h4>Note</h4><p>This is very similar to the approach taken by `SSP\n          <tut-artifact-ssp>`. The difference is that `SSP\n          <tut-artifact-ssp>` estimates signal components that are maximally\n          correlated with the artifact and removes any data along that\n          component (thereby reducing the rank of the non-EOG data), whereas\n          the regression approach uses the ongoing EOG signal to determine\n          how much data to remove (thereby not necessarily reducing the rank\n          of the non-EOG data). Generally, SSP tends to err on the side of\n          removing too much data, eliminating artifacts and true brain\n          signals alike, whereas regression will err on the side of not\n          removing enough, leaving some artifact signals still present in the\n          signal.</p></div>\n\n"
      ]
    },
    {
      "cell_type": "code",
      "execution_count": null,
      "metadata": {
        "collapsed": false
      },
      "outputs": [],
      "source": [
        "eog_epochs = mne.preprocessing.create_eog_epochs(raw)\n# We need to explicitly specify that we want to average the EOG channel too.\neog_evoked = eog_epochs.average('all')\neog_evoked.plot('all')\nfig.set_size_inches(6, 6)\n\n# perform regression on the evoked blink response\nmodel_evoked = EOGRegression(picks='eeg', picks_artifact='eog').fit(eog_evoked)\nfig = model_evoked.plot(vlim=(None, 0.4))\nfig.set_size_inches(3, 2)\n\n# apply the regression coefficients to the original epochs\nepochs_clean_evoked = model_evoked.apply(epochs).apply_baseline()\nfig = epochs_clean_evoked.average('all').plot(**plot_kwargs)\nfig.set_size_inches(6, 6)\n\n# for good measure, also show the effect on the blink evoked\neog_evoked_clean = model_evoked.apply(eog_evoked)\neog_evoked_clean.apply_baseline()\neog_evoked_clean.plot('all')\nfig.set_size_inches(6, 6)"
      ]
    },
    {
      "cell_type": "markdown",
      "metadata": {},
      "source": [
        "We see that again, the regression weights have been correctly estimated.\n\n## Visualize the effect on raw data\nOnce we have obtained robust regression weights, we can use them to apply the\nregression directly to raw, epoched, and evoked data. Here, we will use the\nregression weights obtained from the blink evoked and apply it to an instance\nof `~mne.io.Raw`.\n\n"
      ]
    },
    {
      "cell_type": "code",
      "execution_count": null,
      "metadata": {
        "collapsed": false
      },
      "outputs": [],
      "source": [
        "order = np.concatenate([  # plotting order: EOG first, then EEG\n    mne.pick_types(raw.info, meg=False, eog=True),\n    mne.pick_types(raw.info, meg=False, eeg=True),\n])\nraw_kwargs = dict(events=eog_epochs.events, order=order, start=13, duration=3,\n                  n_channels=10, scalings=dict(eeg=50e-6, eog=250e-6))\n\n# plot original data\nraw.plot(**raw_kwargs)\n\n# regress (using coefficients computed previously) and plot\nraw_clean = model_evoked.apply(raw)\nraw_clean.plot(**raw_kwargs)"
      ]
    },
    {
      "cell_type": "markdown",
      "metadata": {},
      "source": [
        "## References\n.. footbibliography::\n\n"
      ]
    }
  ],
  "metadata": {
    "kernelspec": {
      "display_name": "Python 3",
      "language": "python",
      "name": "python3"
    },
    "language_info": {
      "codemirror_mode": {
        "name": "ipython",
        "version": 3
      },
      "file_extension": ".py",
      "mimetype": "text/x-python",
      "name": "python",
      "nbconvert_exporter": "python",
      "pygments_lexer": "ipython3",
      "version": "3.10.6"
    }
  },
  "nbformat": 4,
  "nbformat_minor": 0
}