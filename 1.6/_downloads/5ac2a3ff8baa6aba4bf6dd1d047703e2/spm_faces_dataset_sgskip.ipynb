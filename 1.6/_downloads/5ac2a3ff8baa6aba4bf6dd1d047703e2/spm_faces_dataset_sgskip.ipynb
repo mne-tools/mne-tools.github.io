{
  "cells": [
    {
      "cell_type": "markdown",
      "metadata": {},
      "source": [
        "\n\n# From raw data to dSPM on SPM Faces dataset\n\nRuns a full pipeline using MNE-Python:\n\n    - artifact removal\n    - averaging Epochs\n    - forward model computation\n    - source reconstruction using dSPM on the contrast : \"faces - scrambled\"\n\n<div class=\"alert alert-info\"><h4>Note</h4><p>This example does quite a bit of processing, so even on a\n          fast machine it can take several minutes to complete.</p></div>\n"
      ]
    },
    {
      "cell_type": "code",
      "execution_count": null,
      "metadata": {
        "collapsed": false
      },
      "outputs": [],
      "source": [
        "# Authors: Alexandre Gramfort <alexandre.gramfort@inria.fr>\n#          Denis Engemann <denis.engemann@gmail.com>\n#\n# License: BSD-3-Clause\n# Copyright the MNE-Python contributors."
      ]
    },
    {
      "cell_type": "code",
      "execution_count": null,
      "metadata": {
        "collapsed": false
      },
      "outputs": [],
      "source": [
        "import matplotlib.pyplot as plt\n\nimport mne\nfrom mne import combine_evoked, io\nfrom mne.datasets import spm_face\nfrom mne.minimum_norm import apply_inverse, make_inverse_operator\nfrom mne.preprocessing import ICA, create_eog_epochs\n\nprint(__doc__)\n\ndata_path = spm_face.data_path()\nsubjects_dir = data_path / \"subjects\"\nspm_path = data_path / \"MEG\" / \"spm\""
      ]
    },
    {
      "cell_type": "markdown",
      "metadata": {},
      "source": [
        "Load and filter data, set up epochs\n\n"
      ]
    },
    {
      "cell_type": "code",
      "execution_count": null,
      "metadata": {
        "collapsed": false
      },
      "outputs": [],
      "source": [
        "raw_fname = spm_path / \"SPM_CTF_MEG_example_faces1_3D.ds\"\n\nraw = io.read_raw_ctf(raw_fname, preload=True)  # Take first run\n# Here to save memory and time we'll downsample heavily -- this is not\n# advised for real data as it can effectively jitter events!\nraw.resample(120.0, npad=\"auto\")\n\npicks = mne.pick_types(raw.info, meg=True, exclude=\"bads\")\nraw.filter(1, 30, method=\"fir\", fir_design=\"firwin\")\n\nevents = mne.find_events(raw, stim_channel=\"UPPT001\")\n\n# plot the events to get an idea of the paradigm\nmne.viz.plot_events(events, raw.info[\"sfreq\"])\n\nevent_ids = {\"faces\": 1, \"scrambled\": 2}\n\ntmin, tmax = -0.2, 0.6\nbaseline = None  # no baseline as high-pass is applied\nreject = dict(mag=5e-12)\n\nepochs = mne.Epochs(\n    raw,\n    events,\n    event_ids,\n    tmin,\n    tmax,\n    picks=picks,\n    baseline=baseline,\n    preload=True,\n    reject=reject,\n)\n\n# Fit ICA, find and remove major artifacts\nica = ICA(n_components=0.95, max_iter=\"auto\", random_state=0)\nica.fit(raw, decim=1, reject=reject)\n\n# compute correlation scores, get bad indices sorted by score\neog_epochs = create_eog_epochs(raw, ch_name=\"MRT31-2908\", reject=reject)\neog_inds, eog_scores = ica.find_bads_eog(eog_epochs, ch_name=\"MRT31-2908\")\nica.plot_scores(eog_scores, eog_inds)  # see scores the selection is based on\nica.plot_components(eog_inds)  # view topographic sensitivity of components\nica.exclude += eog_inds[:1]  # we saw the 2nd ECG component looked too dipolar\nica.plot_overlay(eog_epochs.average())  # inspect artifact removal\nica.apply(epochs)  # clean data, default in place\n\nevoked = [epochs[k].average() for k in event_ids]\n\ncontrast = combine_evoked(evoked, weights=[-1, 1])  # Faces - scrambled\n\nevoked.append(contrast)\n\nfor e in evoked:\n    e.plot(ylim=dict(mag=[-400, 400]))\n\nplt.show()\n\n# estimate noise covarariance\nnoise_cov = mne.compute_covariance(epochs, tmax=0, method=\"shrunk\", rank=None)"
      ]
    },
    {
      "cell_type": "markdown",
      "metadata": {},
      "source": [
        "Visualize fields on MEG helmet\n\n"
      ]
    },
    {
      "cell_type": "code",
      "execution_count": null,
      "metadata": {
        "collapsed": false
      },
      "outputs": [],
      "source": [
        "# The transformation here was aligned using the dig-montage. It's included in\n# the spm_faces dataset and is named SPM_dig_montage.fif.\ntrans_fname = spm_path / \"SPM_CTF_MEG_example_faces1_3D_raw-trans.fif\"\n\nmaps = mne.make_field_map(\n    evoked[0], trans_fname, subject=\"spm\", subjects_dir=subjects_dir, n_jobs=None\n)\n\nevoked[0].plot_field(maps, time=0.170, time_viewer=False)"
      ]
    },
    {
      "cell_type": "markdown",
      "metadata": {},
      "source": [
        "Look at the whitened evoked daat\n\n"
      ]
    },
    {
      "cell_type": "code",
      "execution_count": null,
      "metadata": {
        "collapsed": false
      },
      "outputs": [],
      "source": [
        "evoked[0].plot_white(noise_cov)"
      ]
    },
    {
      "cell_type": "markdown",
      "metadata": {},
      "source": [
        "Compute forward model\n\n"
      ]
    },
    {
      "cell_type": "code",
      "execution_count": null,
      "metadata": {
        "collapsed": false
      },
      "outputs": [],
      "source": [
        "src = subjects_dir / \"spm\" / \"bem\" / \"spm-oct-6-src.fif\"\nbem = subjects_dir / \"spm\" / \"bem\" / \"spm-5120-5120-5120-bem-sol.fif\"\nforward = mne.make_forward_solution(contrast.info, trans_fname, src, bem)"
      ]
    },
    {
      "cell_type": "markdown",
      "metadata": {},
      "source": [
        "Compute inverse solution\n\n"
      ]
    },
    {
      "cell_type": "code",
      "execution_count": null,
      "metadata": {
        "collapsed": false
      },
      "outputs": [],
      "source": [
        "snr = 3.0\nlambda2 = 1.0 / snr**2\nmethod = \"dSPM\"\n\ninverse_operator = make_inverse_operator(\n    contrast.info, forward, noise_cov, loose=0.2, depth=0.8\n)\n\n# Compute inverse solution on contrast\nstc = apply_inverse(contrast, inverse_operator, lambda2, method, pick_ori=None)\n# stc.save('spm_%s_dSPM_inverse' % contrast.comment)\n\n# Plot contrast in 3D with mne.viz.Brain if available\nbrain = stc.plot(\n    hemi=\"both\",\n    subjects_dir=subjects_dir,\n    initial_time=0.170,\n    views=[\"ven\"],\n    clim={\"kind\": \"value\", \"lims\": [3.0, 6.0, 9.0]},\n)\n# brain.save_image('dSPM_map.png')"
      ]
    }
  ],
  "metadata": {
    "kernelspec": {
      "display_name": "Python 3",
      "language": "python",
      "name": "python3"
    },
    "language_info": {
      "codemirror_mode": {
        "name": "ipython",
        "version": 3
      },
      "file_extension": ".py",
      "mimetype": "text/x-python",
      "name": "python",
      "nbconvert_exporter": "python",
      "pygments_lexer": "ipython3",
      "version": "3.10.12"
    }
  },
  "nbformat": 4,
  "nbformat_minor": 0
}