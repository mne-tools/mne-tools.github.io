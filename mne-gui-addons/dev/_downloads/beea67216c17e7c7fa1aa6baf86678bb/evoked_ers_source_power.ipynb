{
  "cells": [
    {
      "cell_type": "code",
      "execution_count": null,
      "metadata": {
        "collapsed": false
      },
      "outputs": [],
      "source": [
        "%matplotlib inline"
      ]
    },
    {
      "cell_type": "markdown",
      "metadata": {},
      "source": [
        "\n\n# Compute evoked ERS source power using DICS, LCMV beamformer, and dSPM\n\nHere we examine 3 ways of localizing event-related synchronization (ERS) of\nbeta band activity in this dataset: `somato-dataset` using\n:term:`DICS`, :term:`LCMV beamformer`, and :term:`dSPM` applied to active and\nbaseline covariance matrices.\n"
      ]
    },
    {
      "cell_type": "code",
      "execution_count": null,
      "metadata": {
        "collapsed": false
      },
      "outputs": [],
      "source": [
        "# Authors: Luke Bloy <luke.bloy@gmail.com>\n#          Eric Larson <larson.eric.d@gmail.com>\n#          Alex Rockhill <aprockhill@mailbox.org>\n#\n# License: BSD-3-Clause"
      ]
    },
    {
      "cell_type": "code",
      "execution_count": null,
      "metadata": {
        "collapsed": false
      },
      "outputs": [],
      "source": [
        "import numpy as np\n\nimport mne_gui_addons\n\nimport mne\nfrom mne.cov import compute_covariance\nfrom mne.datasets import somato\nfrom mne.time_frequency import csd_tfr\nfrom mne.beamformer import make_dics, apply_dics_csd, make_lcmv, apply_lcmv_cov\nfrom mne.minimum_norm import make_inverse_operator, apply_inverse_cov\n\nprint(__doc__)"
      ]
    },
    {
      "cell_type": "markdown",
      "metadata": {},
      "source": [
        "Reading the raw data and creating epochs:\n\n"
      ]
    },
    {
      "cell_type": "code",
      "execution_count": null,
      "metadata": {
        "collapsed": false
      },
      "outputs": [],
      "source": [
        "data_path = somato.data_path()\nsubject = \"01\"\nsubjects_dir = data_path / \"derivatives\" / \"freesurfer\" / \"subjects\"\ntask = \"somato\"\nraw_fname = (\n    data_path\n    / \"sub-{}\".format(subject)\n    / \"meg\"\n    / \"sub-{}_task-{}_meg.fif\".format(subject, task)\n)\n\n# crop to 5 minutes to save memory\nraw = mne.io.read_raw_fif(raw_fname).crop(0, 300)\n\n# We are interested in the beta band (12-30 Hz)\nraw.load_data().filter(12, 30)\n\n# The DICS beamformer currently only supports a single sensor type.\n# We'll use the gradiometers in this example.\npicks = mne.pick_types(raw.info, meg=\"grad\", exclude=\"bads\")\n\n# Read epochs\nevents = mne.find_events(raw)\nepochs = mne.Epochs(\n    raw, events, event_id=1, tmin=-1.5, tmax=2, picks=picks, preload=True, decim=3\n)\n\n# Read forward operator and point to freesurfer subject directory\nfwd_fname = (\n    data_path\n    / \"derivatives\"\n    / \"sub-{}\".format(subject)\n    / \"sub-{}_task-{}-fwd.fif\".format(subject, task)\n)\nfwd = mne.read_forward_solution(fwd_fname)"
      ]
    },
    {
      "cell_type": "markdown",
      "metadata": {},
      "source": [
        "## Compute covariances and cross-spectral density\nERS activity starts at 0.5 seconds after stimulus onset. Because these\ndata have been processed by MaxFilter directly (rather than MNE-Python's\nversion), we have to be careful to compute the rank with a more conservative\nthreshold in order to get the correct data rank (64). Once this is used in\ncombination with an advanced covariance estimator like \"shrunk\", the rank\nwill be correctly preserved.\n\n"
      ]
    },
    {
      "cell_type": "code",
      "execution_count": null,
      "metadata": {
        "collapsed": false
      },
      "outputs": [],
      "source": [
        "rank = mne.compute_rank(epochs, tol=1e-6, tol_kind=\"relative\")\nwin_active = (0.5, 1.5)\nwin_baseline = (-1, 0)\ncov_baseline = compute_covariance(\n    epochs,\n    tmin=win_baseline[0],\n    tmax=win_baseline[1],\n    method=\"shrunk\",\n    rank=rank,\n    verbose=True,\n)\ncov_active = compute_covariance(\n    epochs,\n    tmin=win_active[0],\n    tmax=win_active[1],\n    method=\"shrunk\",\n    rank=rank,\n    verbose=True,\n)\n\n# when the covariance objects are added together, they are scaled by the size\n# of the window used to create them so that the average is properly weighted\ncov_common = cov_baseline + cov_active\ncov_baseline.plot(epochs.info)\n\nfreqs = np.logspace(np.log10(12), np.log10(30), 9)\n\n# time-frequency decomposition\nepochs_tfr = mne.time_frequency.tfr_morlet(\n    epochs,\n    freqs=freqs,\n    n_cycles=freqs / 2,\n    return_itc=False,\n    average=False,\n    output=\"complex\",\n)\nepochs_tfr.decimate(20)  # decimate for speed\n\n# compute cross-spectral density matrices\ncsd = csd_tfr(epochs_tfr, tmin=-1, tmax=1.5)\ncsd_baseline = csd_tfr(epochs_tfr, tmin=win_baseline[0], tmax=win_baseline[1])\ncsd_ers = csd_tfr(epochs_tfr, tmin=win_active[0], tmax=win_active[1])\n\ncsd_baseline.plot()"
      ]
    },
    {
      "cell_type": "markdown",
      "metadata": {},
      "source": [
        "## Compute some source estimates\nHere we will use DICS, LCMV beamformer, and dSPM.\n\nSee `ex-inverse-source-power` for more information about DICS.\n\n"
      ]
    },
    {
      "cell_type": "code",
      "execution_count": null,
      "metadata": {
        "collapsed": false
      },
      "outputs": [],
      "source": [
        "def _gen_dics(csd, ers_csd, csd_baseline, fwd):\n    filters = make_dics(\n        epochs.info,\n        fwd,\n        csd.mean(),\n        pick_ori=\"max-power\",\n        reduce_rank=True,\n        real_filter=True,\n        rank=rank,\n    )\n    stc_base, freqs = apply_dics_csd(csd_baseline.mean(), filters)\n    stc_act, freqs = apply_dics_csd(csd_ers.mean(), filters)\n    stc_act /= stc_base\n    return stc_act\n\n\n# generate lcmv source estimate\ndef _gen_lcmv(active_cov, cov_baseline, common_cov, fwd):\n    filters = make_lcmv(\n        epochs.info, fwd, common_cov, reg=0.05, noise_cov=None, pick_ori=\"max-power\"\n    )\n    stc_base = apply_lcmv_cov(cov_baseline, filters)\n    stc_act = apply_lcmv_cov(cov_active, filters)\n    stc_act /= stc_base\n    return stc_act\n\n\n# generate mne/dSPM source estimate\ndef _gen_mne(cov_active, cov_baseline, cov_common, fwd, info, method=\"dSPM\"):\n    inverse_operator = make_inverse_operator(info, fwd, cov_common)\n    stc_act = apply_inverse_cov(\n        cov_active, info, inverse_operator, method=method, verbose=True\n    )\n    stc_base = apply_inverse_cov(\n        cov_baseline, info, inverse_operator, method=method, verbose=True\n    )\n    stc_act /= stc_base\n    return stc_act\n\n\n# Compute source estimates\nstc_dics = _gen_dics(csd, csd_ers, csd_baseline, fwd)\nstc_lcmv = _gen_lcmv(cov_active, cov_baseline, cov_common, fwd)\nstc_dspm = _gen_mne(cov_active, cov_baseline, cov_common, fwd, epochs.info)"
      ]
    },
    {
      "cell_type": "markdown",
      "metadata": {},
      "source": [
        "## Plot source estimates\nDICS:\n\n"
      ]
    },
    {
      "cell_type": "code",
      "execution_count": null,
      "metadata": {
        "collapsed": false
      },
      "outputs": [],
      "source": [
        "brain_dics = stc_dics.plot(\n    hemi=\"rh\",\n    subjects_dir=subjects_dir,\n    subject=subject,\n    time_label=\"DICS source power in the 12-30 Hz frequency band\",\n)"
      ]
    },
    {
      "cell_type": "markdown",
      "metadata": {},
      "source": [
        "LCMV:\n\n"
      ]
    },
    {
      "cell_type": "code",
      "execution_count": null,
      "metadata": {
        "collapsed": false
      },
      "outputs": [],
      "source": [
        "brain_lcmv = stc_lcmv.plot(\n    hemi=\"rh\",\n    subjects_dir=subjects_dir,\n    subject=subject,\n    time_label=\"LCMV source power in the 12-30 Hz frequency band\",\n)"
      ]
    },
    {
      "cell_type": "markdown",
      "metadata": {},
      "source": [
        "dSPM:\n\n"
      ]
    },
    {
      "cell_type": "code",
      "execution_count": null,
      "metadata": {
        "collapsed": false
      },
      "outputs": [],
      "source": [
        "brain_dspm = stc_dspm.plot(\n    hemi=\"rh\",\n    subjects_dir=subjects_dir,\n    subject=subject,\n    time_label=\"dSPM source power in the 12-30 Hz frequency band\",\n)"
      ]
    },
    {
      "cell_type": "markdown",
      "metadata": {},
      "source": [
        "## Use volume source estimate with time-frequency resolution\n\n"
      ]
    },
    {
      "cell_type": "code",
      "execution_count": null,
      "metadata": {
        "collapsed": false
      },
      "outputs": [],
      "source": [
        "# make a volume source space\nsurface = subjects_dir / subject / \"bem\" / \"inner_skull.surf\"\nvol_src = mne.setup_volume_source_space(\n    subject=subject,\n    subjects_dir=subjects_dir,\n    surface=surface,\n    pos=10,\n    add_interpolator=False,\n)  # just for speed!\n\nconductivity = (0.3,)  # one layer for MEG\nmodel = mne.make_bem_model(\n    subject=subject,\n    ico=3,  # just for speed\n    conductivity=conductivity,\n    subjects_dir=subjects_dir,\n)\nbem = mne.make_bem_solution(model)\n\ntrans = fwd[\"info\"][\"mri_head_t\"]\nvol_fwd = mne.make_forward_solution(\n    raw.info,\n    trans=trans,\n    src=vol_src,\n    bem=bem,\n    meg=True,\n    eeg=True,\n    mindist=5.0,\n    n_jobs=1,\n    verbose=True,\n)\n\n# Compute source estimate using MNE solver\nsnr = 3.0\nlambda2 = 1.0 / snr**2\nmethod = \"MNE\"  # use MNE method (could also be dSPM or sLORETA)\n\n# make a different inverse operator for each frequency so as to properly\n# whiten the sensor data\ninverse_operator = list()\nfor freq_idx in range(epochs_tfr.freqs.size):\n    # for each frequency, compute a separate covariance matrix\n    cov_baseline = csd_baseline.get_data(index=freq_idx, as_cov=True)\n    cov_baseline[\"data\"] = cov_baseline[\"data\"].real  # only normalize by real\n    # then use that covariance matrix as normalization for the inverse\n    # operator\n    inverse_operator.append(\n        mne.minimum_norm.make_inverse_operator(epochs.info, vol_fwd, cov_baseline)\n    )\n\n# finally, compute the stcs for each epoch and frequency\nstcs = mne.minimum_norm.apply_inverse_tfr_epochs(\n    epochs_tfr, inverse_operator, lambda2, method=method, pick_ori=\"vector\"\n)"
      ]
    },
    {
      "cell_type": "markdown",
      "metadata": {},
      "source": [
        "## Plot volume source estimates\n\n"
      ]
    },
    {
      "cell_type": "code",
      "execution_count": null,
      "metadata": {
        "collapsed": false
      },
      "outputs": [],
      "source": [
        "viewer = mne_gui_addons.view_vol_stc(\n    stcs, subject=subject, subjects_dir=subjects_dir, src=vol_src, inst=epochs_tfr\n)\nviewer.go_to_extreme()  # show the maximum intensity source vertex\nviewer.set_cmap(vmin=0.25, vmid=0.8)\nviewer.set_3d_view(azimuth=40, elevation=35, distance=350)"
      ]
    }
  ],
  "metadata": {
    "kernelspec": {
      "display_name": "Python 3",
      "language": "python",
      "name": "python3"
    },
    "language_info": {
      "codemirror_mode": {
        "name": "ipython",
        "version": 3
      },
      "file_extension": ".py",
      "mimetype": "text/x-python",
      "name": "python",
      "nbconvert_exporter": "python",
      "pygments_lexer": "ipython3",
      "version": "3.10.6"
    }
  },
  "nbformat": 4,
  "nbformat_minor": 0
}