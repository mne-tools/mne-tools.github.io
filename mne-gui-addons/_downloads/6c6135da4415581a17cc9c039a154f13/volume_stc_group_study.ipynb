{
  "cells": [
    {
      "cell_type": "markdown",
      "metadata": {},
      "source": [
        "\n\n# Volume Source Time Course Estimate for a Group Study\n\nIn this example, we'll show how to use the MNE volume stc viewing\nGUI to compare brain activity across subjects in a group study.\n"
      ]
    },
    {
      "cell_type": "code",
      "execution_count": null,
      "metadata": {
        "collapsed": false
      },
      "outputs": [],
      "source": [
        "# Authors: Alex Rockhill <aprockhill@mailbox.org>\n#\n# License: BSD-3-Clause\n\nimport os.path as op\nimport numpy as np\nimport mne\nimport mne_gui_addons as mne_gui\nimport autoreject\nfrom mne.time_frequency import csd_tfr\n\nfs_dir = mne.datasets.fetch_fsaverage(verbose=True)\nsubjects_dir = op.dirname(fs_dir)\n\ntemplate = \"fsaverage\"\ntrans = \"fsaverage\"  # MNE has a built-in fsaverage transformation\nsrc = mne.read_source_spaces(op.join(fs_dir, \"bem\", \"fsaverage-vol-5-src.fif\"))\nbem = mne.read_bem_solution(\n    op.join(fs_dir, \"bem\", \"fsaverage-5120-5120-5120-bem-sol.fif\")\n)\n\n# basic task parameters\ntmin, tmax = -1.0, 4.0\nactive_win = (0, 4)\nbaseline_win = (-1, 0)\nevent_id = dict(hands=2, feet=3)\nruns = [6, 10, 14]  # motor imagery: hands vs feet"
      ]
    },
    {
      "cell_type": "markdown",
      "metadata": {},
      "source": [
        "Compute source time course (stc) estimates for both time courses\nand spectrograms (time-frequency).\n\n"
      ]
    },
    {
      "cell_type": "code",
      "execution_count": null,
      "metadata": {
        "collapsed": false
      },
      "outputs": [],
      "source": [
        "montage = mne.channels.make_standard_montage(\"standard_1005\")\nstcs_tfr = list()\nstcs_epochs = list()\ninsts_tfr = list()\ninsts_epochs = list()\nfor sub in range(1, 4):\n    print(f\"Computing source estimate for subject {sub}\")\n    raw_fnames = mne.datasets.eegbci.load_data(subject=sub, runs=runs, update_path=True)\n    raw = mne.concatenate_raws(\n        [\n            mne.io.read_raw(raw_fname, preload=True, verbose=False)\n            for raw_fname in raw_fnames\n        ]\n    )\n    mne.datasets.eegbci.standardize(raw)  # set channel names\n    raw.set_montage(montage, verbose=False)\n\n    # make epochs\n    events, _ = mne.events_from_annotations(raw, event_id=dict(T1=2, T2=3))\n\n    picks = mne.pick_types(\n        raw.info, meg=False, eeg=True, stim=False, eog=False, exclude=\"bads\"\n    )\n    epochs = mne.Epochs(\n        raw,\n        events,\n        event_id,\n        tmin - 0.5,\n        tmax + 0.5,\n        proj=True,\n        picks=picks,\n        baseline=None,\n        preload=True,\n    )\n    del raw\n    epochs.set_eeg_reference(projection=True)\n\n    # reject bad epochs\n    reject = autoreject.get_rejection_threshold(epochs)\n    epochs.drop_bad(reject=reject)\n\n    epochs.filter(l_freq=1, h_freq=None)\n    ica = mne.preprocessing.ICA(n_components=15, random_state=11)\n    ica.fit(epochs)\n\n    eog_idx, scores = ica.find_bads_eog(epochs, ch_name=\"Fp1\")\n    muscle_idx, scores = ica.find_bads_muscle(epochs)\n    ica.apply(epochs, exclude=eog_idx + muscle_idx)\n\n    # make forward model\n    fwd = mne.make_forward_solution(\n        epochs.info, trans=trans, src=src, bem=bem, eeg=True, mindist=5.0\n    )\n\n    rank = mne.compute_rank(epochs, tol=1e-6, tol_kind=\"relative\")\n\n    # compute cross-spectral density matrices\n    freqs = np.logspace(np.log10(12), np.log10(30), 9)\n\n    # time-frequency decomposition\n    epochs_tfr = mne.time_frequency.tfr_morlet(\n        epochs,\n        freqs=freqs,\n        n_cycles=freqs / 2,\n        return_itc=False,\n        average=False,\n        output=\"complex\",\n    )\n\n    baseline_csd = csd_tfr(epochs_tfr, tmin=baseline_win[0], tmax=baseline_win[1])\n\n    epochs_tfr.decimate(20)  # decimate for speed\n    insts_tfr.append(epochs_tfr)\n\n    # Compute source estimate using MNE solver\n    snr = 3.0\n    lambda2 = 1.0 / snr**2\n    method = \"MNE\"  # use MNE method (could also be dSPM or sLORETA)\n\n    epochs.decimate(20)\n    insts_epochs.append(epochs)\n\n    # do time-series epochs first\n    baseline_cov = mne.compute_covariance(epochs, tmax=0)\n    inverse_operator = mne.minimum_norm.make_inverse_operator(\n        epochs.info, fwd, baseline_cov\n    )\n    stcs_epochs.append(\n        mne.minimum_norm.apply_inverse_epochs(\n            epochs,\n            inverse_operator,\n            lambda2,\n            method=method,\n            pick_ori=\"vector\",\n            return_generator=True,\n        )\n    )\n\n    # make a different inverse operator for each frequency so as to properly\n    # whiten the sensor data\n    stcs = list()\n    for freq_idx in range(epochs_tfr.freqs.size):\n        # for each frequency, compute a separate covariance matrix\n        baseline_cov = baseline_csd.get_data(index=freq_idx, as_cov=True)\n        # only normalize by real\n        baseline_cov[\"data\"] = baseline_cov[\"data\"].real\n        # then use that covariance matrix as normalization for the inverse\n        # operator\n        inverse_operator = mne.minimum_norm.make_inverse_operator(\n            epochs.info, fwd, baseline_cov\n        )\n\n    # finally, compute the stcs for each epoch and frequency\n    stcs = mne.minimum_norm.apply_inverse_tfr_epochs(\n        epochs_tfr,\n        inverse_operator,\n        lambda2,\n        method=method,\n        pick_ori=\"vector\",\n        return_generator=True,\n    )\n\n    # append to group\n    stcs_tfr.append(stcs)"
      ]
    },
    {
      "cell_type": "markdown",
      "metadata": {},
      "source": [
        "Use the viewer to explore the time-course source estimates.\n\n"
      ]
    },
    {
      "cell_type": "code",
      "execution_count": null,
      "metadata": {
        "collapsed": false
      },
      "outputs": [],
      "source": [
        "viewer = mne_gui.view_vol_stc(\n    stcs_epochs,\n    group=True,\n    freq_first=False,\n    subject=template,\n    subjects_dir=subjects_dir,\n    src=src,\n    inst=insts_epochs,\n    tmin=tmin,\n    tmax=tmax,\n)\nviewer.go_to_extreme()  # show the maximum intensity source vertex\nviewer.set_cmap(vmin=0.25, vmid=0.8)\nviewer.set_3d_view(azimuth=40, elevation=35, distance=300)\ndel stcs_epochs, insts_epochs"
      ]
    },
    {
      "cell_type": "markdown",
      "metadata": {},
      "source": [
        "Use the viewer to explore the time-frequency source estimates, we'll\nuse the power in this case but you can also view inter-trial coherence (itc).\n\n"
      ]
    },
    {
      "cell_type": "code",
      "execution_count": null,
      "metadata": {
        "collapsed": false
      },
      "outputs": [],
      "source": [
        "viewer = mne_gui.view_vol_stc(\n    stcs_tfr,\n    group=\"power\",  # can also be \"itc\"\n    subject=template,\n    subjects_dir=subjects_dir,\n    src=src,\n    inst=insts_tfr,\n    tmin=tmin,\n    tmax=tmax,\n)\nviewer.go_to_extreme()  # show the maximum intensity source vertex\nviewer.set_cmap(vmin=0.25, vmid=0.8)\nviewer.set_3d_view(azimuth=40, elevation=35, distance=300)\ndel stcs_tfr, insts_tfr"
      ]
    }
  ],
  "metadata": {
    "kernelspec": {
      "display_name": "Python 3",
      "language": "python",
      "name": "python3"
    },
    "language_info": {
      "codemirror_mode": {
        "name": "ipython",
        "version": 3
      },
      "file_extension": ".py",
      "mimetype": "text/x-python",
      "name": "python",
      "nbconvert_exporter": "python",
      "pygments_lexer": "ipython3",
      "version": "3.10.12"
    }
  },
  "nbformat": 4,
  "nbformat_minor": 0
}