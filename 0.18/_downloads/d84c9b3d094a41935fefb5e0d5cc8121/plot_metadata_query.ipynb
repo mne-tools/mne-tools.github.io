{
  "cells": [
    {
      "cell_type": "code",
      "execution_count": null,
      "metadata": {
        "collapsed": false
      },
      "outputs": [],
      "source": [
        "%matplotlib inline"
      ]
    },
    {
      "cell_type": "markdown",
      "metadata": {},
      "source": [
        "\n# Querying epochs with rich metadata\n\n\nSelecting a subset of epochs based on rich metadata.\n\nMNE allows you to include metadata along with your :class:`mne.Epochs` objects.\nThis is in the form of a :class:`pandas.DataFrame` that has one row for each\nevent, and an arbitrary number of columns corresponding to different\nfeatures that were collected. Columns may be of type int, float, or str.\n\nIf an :class:`mne.Epochs` object has a metadata attribute, you can select\nsubsets of epochs by using pandas query syntax directly. Here we'll show\na few examples of how this looks.\n"
      ]
    },
    {
      "cell_type": "code",
      "execution_count": null,
      "metadata": {
        "collapsed": false
      },
      "outputs": [],
      "source": [
        "# Authors: Chris Holdgraf <choldgraf@gmail.com>\n#          Jona Sassenhagen <jona.sassenhagen@gmail.com>\n#          Eric Larson <larson.eric.d@gmail.com>\n\n# License: BSD (3-clause)\n\nimport os\nimport pandas as pd\nimport matplotlib.pyplot as plt\nimport mne\n\n# First load some data\nevents = mne.read_events(os.path.join(mne.datasets.sample.data_path(),\n                         'MEG/sample/sample_audvis_raw-eve.fif'))\nraw = mne.io.read_raw_fif(os.path.join(mne.datasets.sample.data_path(),\n                          'MEG/sample/sample_audvis_raw.fif'))\n\n# We'll create some dummy names for each event type\nevent_id = {'Auditory/Left': 1, 'Auditory/Right': 2,\n            'Visual/Left': 3, 'Visual/Right': 4,\n            'smiley': 5, 'button': 32}\nevent_id_rev = {val: key for key, val in event_id.items()}\n\nsides, kinds = [], []\nfor ev in events:\n    split = event_id_rev[ev[2]].lower().split('/')\n    if len(split) == 2:\n        kind, side = split\n    else:\n        kind = split[0]\n        side = 'both'\n    kinds.append(kind)\n    sides.append(side)\n\n\n# Here's a helper function we'll use later\ndef plot_query_results(query):\n    fig = epochs[query].average().plot(show=False, time_unit='s')\n    title = fig.axes[0].get_title()\n    add = 'Query: {}\\nNum Epochs: {}'.format(query, len(epochs[query]))\n    fig.axes[0].set(title='\\n'.join([add, title]))\n    plt.show()"
      ]
    },
    {
      "cell_type": "markdown",
      "metadata": {},
      "source": [
        "First we'll create our metadata object. This should be a\n:class:`pandas.DataFrame` with each row corresponding to an event.\n\n<div class=\"alert alert-danger\"><h4>Warning</h4><p>Do not set or change the Dataframe index of ``epochs.metadata``.\n             It will be controlled by MNE to mirror ``epochs.selection``.\n             Also, while some inplace operations on ``epochs.metadata`` are\n             possible, do not manually drop or add rows, as this will\n             create inconsistency between the metadata and actual data.</p></div>\n\n"
      ]
    },
    {
      "cell_type": "code",
      "execution_count": null,
      "metadata": {
        "collapsed": false
      },
      "outputs": [],
      "source": [
        "metadata = {'event_time': events[:, 0] / raw.info['sfreq'],\n            'trial_number': range(len(events)),\n            'kind': kinds,\n            'side': sides}\nmetadata = pd.DataFrame(metadata)\nmetadata.head()"
      ]
    },
    {
      "cell_type": "markdown",
      "metadata": {},
      "source": [
        "We can use this metadata object in the construction of an :class:`mne.Epochs`\nobject. The metadata will then exist as an attribute:\n\n"
      ]
    },
    {
      "cell_type": "code",
      "execution_count": null,
      "metadata": {
        "collapsed": false
      },
      "outputs": [],
      "source": [
        "epochs = mne.Epochs(raw, events, metadata=metadata, preload=True)\nprint(epochs.metadata.head())"
      ]
    },
    {
      "cell_type": "markdown",
      "metadata": {},
      "source": [
        "You can select rows by passing various queries to the Epochs object. For\nexample, you can select a subset of events based on the value of a column.\n\n"
      ]
    },
    {
      "cell_type": "code",
      "execution_count": null,
      "metadata": {
        "collapsed": false
      },
      "outputs": [],
      "source": [
        "query = 'kind == \"auditory\"'\nplot_query_results(query)"
      ]
    },
    {
      "cell_type": "markdown",
      "metadata": {},
      "source": [
        "If a column has numeric values, you can also use numeric-style queries:\n\n"
      ]
    },
    {
      "cell_type": "code",
      "execution_count": null,
      "metadata": {
        "collapsed": false
      },
      "outputs": [],
      "source": [
        "query = 'trial_number < 10'\nplot_query_results(query)"
      ]
    },
    {
      "cell_type": "markdown",
      "metadata": {},
      "source": [
        "It is possible to chain these queries together, giving you more expressive\nways to select particular epochs:\n\n"
      ]
    },
    {
      "cell_type": "code",
      "execution_count": null,
      "metadata": {
        "collapsed": false
      },
      "outputs": [],
      "source": [
        "query = 'trial_number < 10 and side == \"left\"'\nplot_query_results(query)"
      ]
    },
    {
      "cell_type": "markdown",
      "metadata": {},
      "source": [
        "Any query that works with ``DataFrame.query`` will work for selecting epochs.\n\n"
      ]
    },
    {
      "cell_type": "code",
      "execution_count": null,
      "metadata": {
        "collapsed": false
      },
      "outputs": [],
      "source": [
        "plot_events = ['smiley', 'button']\nquery = 'kind in {}'.format(plot_events)\nplot_query_results(query)"
      ]
    }
  ],
  "metadata": {
    "kernelspec": {
      "display_name": "Python 3",
      "language": "python",
      "name": "python3"
    },
    "language_info": {
      "codemirror_mode": {
        "name": "ipython",
        "version": 3
      },
      "file_extension": ".py",
      "mimetype": "text/x-python",
      "name": "python",
      "nbconvert_exporter": "python",
      "pygments_lexer": "ipython3",
      "version": "3.7.4"
    }
  },
  "nbformat": 4,
  "nbformat_minor": 0
}