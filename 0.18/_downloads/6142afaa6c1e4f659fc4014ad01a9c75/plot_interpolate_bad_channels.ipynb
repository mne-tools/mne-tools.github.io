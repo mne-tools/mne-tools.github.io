{
  "cells": [
    {
      "cell_type": "code",
      "execution_count": null,
      "metadata": {
        "collapsed": false
      },
      "outputs": [],
      "source": [
        "%matplotlib inline"
      ]
    },
    {
      "cell_type": "markdown",
      "metadata": {},
      "source": [
        "\n=============================================\nInterpolate bad channels for MEG/EEG channels\n=============================================\n\nThis example shows how to interpolate bad MEG/EEG channels\n\n    - Using spherical splines as described in [1]_ for EEG data.\n    - Using field interpolation for MEG data.\n\nThe bad channels will still be marked as bad. Only the data in those channels\nis removed.\n\nReferences\n----------\n.. [1] Perrin, F., Pernier, J., Bertrand, O. and Echallier, JF. (1989)\n       Spherical splines for scalp potential and current density mapping.\n       Electroencephalography and Clinical Neurophysiology, Feb; 72(2):184-7.\n"
      ]
    },
    {
      "cell_type": "code",
      "execution_count": null,
      "metadata": {
        "collapsed": false
      },
      "outputs": [],
      "source": [
        "# Authors: Denis A. Engemann <denis.engemann@gmail.com>\n#          Mainak Jas <mainak.jas@telecom-paristech.fr>\n#\n# License: BSD (3-clause)\n\nimport mne\nfrom mne.datasets import sample\n\nprint(__doc__)\n\ndata_path = sample.data_path()\n\nfname = data_path + '/MEG/sample/sample_audvis-ave.fif'\nevoked = mne.read_evokeds(fname, condition='Left Auditory',\n                          baseline=(None, 0))\n\n# plot with bads\nevoked.plot(exclude=[], time_unit='s')\n\n# compute interpolation (also works with Raw and Epochs objects)\nevoked.interpolate_bads(reset_bads=False, verbose=False)\n\n# plot interpolated (previous bads)\nevoked.plot(exclude=[], time_unit='s')"
      ]
    }
  ],
  "metadata": {
    "kernelspec": {
      "display_name": "Python 3",
      "language": "python",
      "name": "python3"
    },
    "language_info": {
      "codemirror_mode": {
        "name": "ipython",
        "version": 3
      },
      "file_extension": ".py",
      "mimetype": "text/x-python",
      "name": "python",
      "nbconvert_exporter": "python",
      "pygments_lexer": "ipython3",
      "version": "3.7.4"
    }
  },
  "nbformat": 4,
  "nbformat_minor": 0
}