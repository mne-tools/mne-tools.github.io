{
  "cells": [
    {
      "cell_type": "code",
      "execution_count": null,
      "metadata": {
        "collapsed": false
      },
      "outputs": [],
      "source": [
        "%matplotlib inline"
      ]
    },
    {
      "cell_type": "markdown",
      "metadata": {},
      "source": [
        "\n\nRejecting bad data (channels and segments)\n==========================================\n"
      ]
    },
    {
      "cell_type": "code",
      "execution_count": null,
      "metadata": {
        "collapsed": false
      },
      "outputs": [],
      "source": [
        "# sphinx_gallery_thumbnail_number = 3\n\nimport numpy as np\nimport mne\nfrom mne.datasets import sample\n\ndata_path = sample.data_path()\nraw_fname = data_path + '/MEG/sample/sample_audvis_filt-0-40_raw.fif'\nraw = mne.io.read_raw_fif(raw_fname)  # already has an EEG ref"
      ]
    },
    {
      "cell_type": "markdown",
      "metadata": {},
      "source": [
        "\nMarking bad channels\n--------------------\n\nSometimes some MEG or EEG channels are not functioning properly\nfor various reasons. These channels should be excluded from\nanalysis by marking them bad as. This is done by setting the 'bads'\nin the measurement info of a data container object (e.g. Raw, Epochs,\nEvoked). The info['bads'] value is a Python string. Here is\nexample:\n\n"
      ]
    },
    {
      "cell_type": "code",
      "execution_count": null,
      "metadata": {
        "collapsed": false
      },
      "outputs": [],
      "source": [
        "raw.info['bads'] = ['MEG 2443']"
      ]
    },
    {
      "cell_type": "markdown",
      "metadata": {},
      "source": [
        "**Why setting a channel bad?**: If a channel does not show\na signal at all (flat) it is important to exclude it from the\nanalysis. If a channel as a noise level significantly higher than the\nother channels it should be marked as bad. Presence of bad channels\ncan have terribe consequences on down stream analysis. For a flat channel\nsome noise estimate will be unrealistically low and\nthus the current estimate calculations will give a strong weight\nto the zero signal on the flat channels and will essentially vanish.\nNoisy channels can also affect others when signal-space projections\nor EEG average electrode reference is employed. Noisy bad channels can\nalso adversely affect averaging and noise-covariance matrix estimation by\ncausing unnecessary rejections of epochs.\n\nRecommended ways to identify bad channels are:\n\n- Observe the quality of data during data\n  acquisition and make notes of observed malfunctioning channels to\n  your measurement protocol sheet.\n\n- View the on-line averages and check the condition of the channels.\n\n- Compute preliminary off-line averages with artifact rejection,\n  SSP/ICA, and EEG average electrode reference computation\n  off and check the condition of the channels.\n\n- View raw data with :func:`mne.io.Raw.plot` without SSP/ICA\n  enabled and identify bad channels.\n\n<div class=\"alert alert-info\"><h4>Note</h4><p>Setting the bad channels should be done as early as possible in the\n    analysis pipeline. That's why it's recommended to set bad channels\n    the raw objects/files. If present in the raw data\n    files, the bad channel selections will be automatically transferred\n    to averaged files, noise-covariance matrices, forward solution\n    files, and inverse operator decompositions.</p></div>\n\nThe actual removal happens using :func:`pick_types <mne.pick_types>` with\n`exclude='bads'` option (see `picking_channels`).\n\n"
      ]
    },
    {
      "cell_type": "markdown",
      "metadata": {},
      "source": [
        "Instead of removing the bad channels, you can also try to repair them.\nThis is done by **interpolation** of the data from other channels.\nTo illustrate how to use channel interpolation let us load some data.\n\n"
      ]
    },
    {
      "cell_type": "code",
      "execution_count": null,
      "metadata": {
        "collapsed": false
      },
      "outputs": [],
      "source": [
        "# Reading data with a bad channel marked as bad:\nfname = data_path + '/MEG/sample/sample_audvis-ave.fif'\nevoked = mne.read_evokeds(fname, condition='Left Auditory',\n                          baseline=(None, 0))\n\n# restrict the evoked to EEG and MEG channels\nevoked.pick_types(meg=True, eeg=True, exclude=[])\n\n# plot with bads\nevoked.plot(exclude=[], time_unit='s')\n\nprint(evoked.info['bads'])"
      ]
    },
    {
      "cell_type": "markdown",
      "metadata": {},
      "source": [
        "Let's now interpolate the bad channels (displayed in red above)\n\n"
      ]
    },
    {
      "cell_type": "code",
      "execution_count": null,
      "metadata": {
        "collapsed": false
      },
      "outputs": [],
      "source": [
        "evoked.interpolate_bads(reset_bads=False, verbose=False)"
      ]
    },
    {
      "cell_type": "markdown",
      "metadata": {},
      "source": [
        "Let's plot the cleaned data\n\n"
      ]
    },
    {
      "cell_type": "code",
      "execution_count": null,
      "metadata": {
        "collapsed": false
      },
      "outputs": [],
      "source": [
        "evoked.plot(exclude=[], time_unit='s')"
      ]
    },
    {
      "cell_type": "markdown",
      "metadata": {},
      "source": [
        "<div class=\"alert alert-info\"><h4>Note</h4><p>Interpolation is a linear operation that can be performed also on\n    Raw and Epochs objects.</p></div>\n\nFor more details on interpolation see the page `channel_interpolation`.\n\n"
      ]
    },
    {
      "cell_type": "markdown",
      "metadata": {},
      "source": [
        "\nMarking bad raw segments with annotations\n-----------------------------------------\n\nMNE provides an :class:`mne.Annotations` class that can be used to mark\nsegments of raw data and to reject epochs that overlap with bad segments\nof data. The annotations are automatically synchronized with raw data as\nlong as the timestamps of raw data and annotations are in sync.\n\nSee `tut-brainstorm-auditory`\nfor a long example exploiting the annotations for artifact removal.\n\nThe instances of annotations are created by providing a list of onsets and\noffsets with descriptions for each segment. The onsets and offsets are marked\nas seconds. ``onset`` refers to time from start of the data. ``offset`` is\nthe duration of the annotation. The instance of :class:`mne.Annotations`\ncan be added as an attribute of :class:`mne.io.Raw`.\n\n"
      ]
    },
    {
      "cell_type": "code",
      "execution_count": null,
      "metadata": {
        "collapsed": false
      },
      "outputs": [],
      "source": [
        "eog_events = mne.preprocessing.find_eog_events(raw)\nn_blinks = len(eog_events)\n# Center to cover the whole blink with full duration of 0.5s:\nonset = eog_events[:, 0] / raw.info['sfreq'] - 0.25\nduration = np.repeat(0.5, n_blinks)\nannot = mne.Annotations(onset, duration, ['bad blink'] * n_blinks,\n                        orig_time=raw.info['meas_date'])\nraw.set_annotations(annot)\nprint(raw.annotations)  # to get information about what annotations we have\nraw.plot(events=eog_events)  # To see the annotated segments."
      ]
    },
    {
      "cell_type": "markdown",
      "metadata": {},
      "source": [
        "It is also possible to draw bad segments interactively using\n:meth:`raw.plot <mne.io.Raw.plot>` (see `tut-viz-raw`).\n\nAs the data is epoched, all the epochs overlapping with segments whose\ndescription starts with 'bad' are rejected by default. To turn rejection off,\nuse keyword argument ``reject_by_annotation=False`` when constructing\n:class:`mne.Epochs`. When working with neuromag data, the ``first_samp``\noffset of raw acquisition is also taken into account the same way as with\nevent lists. For more see :class:`mne.Epochs` and :class:`mne.Annotations`.\n\n"
      ]
    },
    {
      "cell_type": "markdown",
      "metadata": {},
      "source": [
        "\nRejecting bad epochs\n--------------------\n\nWhen working with segmented data (Epochs) MNE offers a quite simple approach\nto automatically reject/ignore bad epochs. This is done by defining\nthresholds for peak-to-peak amplitude and flat signal detection.\n\nIn the following code we build Epochs from Raw object. One of the provided\nparameter is named *reject*. It is a dictionary where every key is a\nchannel type as a string and the corresponding values are peak-to-peak\nrejection parameters (amplitude ranges as floats). Below we define\nthe peak-to-peak rejection values for gradiometers,\nmagnetometers and EOG:\n\n"
      ]
    },
    {
      "cell_type": "code",
      "execution_count": null,
      "metadata": {
        "collapsed": false
      },
      "outputs": [],
      "source": [
        "reject = dict(grad=4000e-13, mag=4e-12, eog=150e-6)"
      ]
    },
    {
      "cell_type": "markdown",
      "metadata": {},
      "source": [
        "<div class=\"alert alert-info\"><h4>Note</h4><p>The rejection values can be highly data dependent. You should be careful\n   when adjusting these values. Make sure not too many epochs are rejected\n   and look into the cause of the rejections. Maybe it's just a matter\n   of marking a single channel as bad and you'll be able to save a lot\n   of data.</p></div>\n\n"
      ]
    },
    {
      "cell_type": "markdown",
      "metadata": {},
      "source": [
        "We then construct the epochs\n\n"
      ]
    },
    {
      "cell_type": "code",
      "execution_count": null,
      "metadata": {
        "collapsed": false
      },
      "outputs": [],
      "source": [
        "events = mne.find_events(raw, stim_channel='STI 014')\nevent_id = {\"auditory/left\": 1}\ntmin = -0.2  # start of each epoch (200ms before the trigger)\ntmax = 0.5  # end of each epoch (500ms after the trigger)\nbaseline = (None, 0)  # means from the first instant to t = 0\nepochs = mne.Epochs(raw, events, event_id, tmin, tmax, proj=True,\n                    picks=['meg', 'eog'], baseline=baseline, reject=reject,\n                    reject_by_annotation=True)"
      ]
    },
    {
      "cell_type": "markdown",
      "metadata": {},
      "source": [
        "We then drop/reject the bad epochs\n\n"
      ]
    },
    {
      "cell_type": "code",
      "execution_count": null,
      "metadata": {
        "collapsed": false
      },
      "outputs": [],
      "source": [
        "epochs.drop_bad()"
      ]
    },
    {
      "cell_type": "markdown",
      "metadata": {},
      "source": [
        "And plot the so-called *drop log* that details the reason for which some\nepochs have been dropped.\n\n"
      ]
    },
    {
      "cell_type": "code",
      "execution_count": null,
      "metadata": {
        "collapsed": false
      },
      "outputs": [],
      "source": [
        "print(epochs.drop_log[40:45])  # only a subset\nepochs.plot_drop_log()"
      ]
    },
    {
      "cell_type": "markdown",
      "metadata": {},
      "source": [
        "What you see is that some drop log values are empty. It means event was kept.\nIf it says 'IGNORED' is means the event_id did not contain the associated\nevent. If it gives the name of channel such as 'EOG 061' it means the\nepoch was rejected because 'EOG 061' exceeded the peak-to-peak rejection\nlimit.\n\n"
      ]
    }
  ],
  "metadata": {
    "kernelspec": {
      "display_name": "Python 3",
      "language": "python",
      "name": "python3"
    },
    "language_info": {
      "codemirror_mode": {
        "name": "ipython",
        "version": 3
      },
      "file_extension": ".py",
      "mimetype": "text/x-python",
      "name": "python",
      "nbconvert_exporter": "python",
      "pygments_lexer": "ipython3",
      "version": "3.7.4"
    }
  },
  "nbformat": 4,
  "nbformat_minor": 0
}