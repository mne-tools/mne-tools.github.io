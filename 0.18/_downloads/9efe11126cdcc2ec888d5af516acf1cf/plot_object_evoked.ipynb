{
  "cells": [
    {
      "cell_type": "code",
      "execution_count": null,
      "metadata": {
        "collapsed": false
      },
      "outputs": [],
      "source": [
        "%matplotlib inline"
      ]
    },
    {
      "cell_type": "markdown",
      "metadata": {},
      "source": [
        "\n\nThe :class:`Evoked <mne.Evoked>` data structure: evoked/averaged data\n=====================================================================\n\nThe :class:`Evoked <mne.Evoked>` data structure is mainly used for storing\naveraged data over trials. In MNE the evoked objects are usually created by\naveraging epochs data with :func:`mne.Epochs.average`.\n"
      ]
    },
    {
      "cell_type": "code",
      "execution_count": null,
      "metadata": {
        "collapsed": false
      },
      "outputs": [],
      "source": [
        "# sphinx_gallery_thumbnail_number = 2\n\nimport os.path as op\n\nimport matplotlib.pyplot as plt\nimport mne"
      ]
    },
    {
      "cell_type": "markdown",
      "metadata": {},
      "source": [
        "Here for convenience we read the evoked dataset from a file.\n\n"
      ]
    },
    {
      "cell_type": "code",
      "execution_count": null,
      "metadata": {
        "collapsed": false
      },
      "outputs": [],
      "source": [
        "data_path = mne.datasets.sample.data_path()\nfname = op.join(data_path, 'MEG', 'sample', 'sample_audvis-ave.fif')\nevokeds = mne.read_evokeds(fname, baseline=(None, 0), proj=True)\nprint(evokeds)"
      ]
    },
    {
      "cell_type": "markdown",
      "metadata": {},
      "source": [
        "Notice that the reader function returned a list of evoked instances. This is\nbecause you can store multiple categories into a single file. Here we have\ncategories of\n``['Left Auditory', 'Right Auditory', 'Left Visual', 'Right Visual']``.\nWe can also use ``condition`` parameter to read in only one category.\n\n"
      ]
    },
    {
      "cell_type": "code",
      "execution_count": null,
      "metadata": {
        "collapsed": false
      },
      "outputs": [],
      "source": [
        "evoked = mne.read_evokeds(fname, condition='Left Auditory')\nevoked.apply_baseline((None, 0)).apply_proj()\nprint(evoked)"
      ]
    },
    {
      "cell_type": "markdown",
      "metadata": {},
      "source": [
        "If you're gone through the tutorials of raw and epochs datasets, you're\nprobably already familiar with the :class:`Info <mne.Info>` attribute.\nThere is nothing new or special with the ``evoked.info``. All the relevant\ninfo is still there.\n\n"
      ]
    },
    {
      "cell_type": "code",
      "execution_count": null,
      "metadata": {
        "collapsed": false
      },
      "outputs": [],
      "source": [
        "print(evoked.info)\nprint(evoked.times)"
      ]
    },
    {
      "cell_type": "markdown",
      "metadata": {},
      "source": [
        "The evoked data structure also contains some new attributes easily\naccessible:\n\n"
      ]
    },
    {
      "cell_type": "code",
      "execution_count": null,
      "metadata": {
        "collapsed": false
      },
      "outputs": [],
      "source": [
        "print(evoked.nave)  # Number of averaged epochs.\nprint(evoked.first)  # First time sample.\nprint(evoked.last)  # Last time sample.\nprint(evoked.comment)  # Comment on dataset. Usually the condition.\nprint(evoked.kind)  # Type of data, either average or standard_error."
      ]
    },
    {
      "cell_type": "markdown",
      "metadata": {},
      "source": [
        "The data is also easily accessible. Since the evoked data arrays are usually\nmuch smaller than raw or epochs datasets, they are preloaded into the memory\nwhen the evoked object is constructed. You can access the data as a numpy\narray.\n\n"
      ]
    },
    {
      "cell_type": "code",
      "execution_count": null,
      "metadata": {
        "collapsed": false
      },
      "outputs": [],
      "source": [
        "data = evoked.data\nprint(data.shape)"
      ]
    },
    {
      "cell_type": "markdown",
      "metadata": {},
      "source": [
        "The data is arranged in an array of shape `(n_channels, n_times)`. Notice\nthat unlike epochs, evoked object does not support indexing. This means that\nto access the data of a specific channel you must use the data array\ndirectly.\n\n"
      ]
    },
    {
      "cell_type": "code",
      "execution_count": null,
      "metadata": {
        "collapsed": false
      },
      "outputs": [],
      "source": [
        "print('Data from channel {0}:'.format(evoked.ch_names[10]))\nprint(data[10])"
      ]
    },
    {
      "cell_type": "markdown",
      "metadata": {},
      "source": [
        "In the same vein, we can quickly extract (and, e.g., plot) the GFP as the\nstandard deviation across channels, here shown just for EEG.\n\n"
      ]
    },
    {
      "cell_type": "code",
      "execution_count": null,
      "metadata": {
        "collapsed": false
      },
      "outputs": [],
      "source": [
        "gfp = evoked.copy().pick_types(eeg=True, meg=False).data.std(axis=0)\nfig, ax = plt.subplots(1)\nax.plot(evoked.times, gfp / 1e6)  # scale to uV\nax.set(xlabel='Time (sec)', ylabel='GFP (uV)')\nfig.tight_layout()"
      ]
    },
    {
      "cell_type": "markdown",
      "metadata": {},
      "source": [
        "If you want to import evoked data from some other system and you have it in a\nnumpy array you can use :class:`mne.EvokedArray` for that. All you need is\nthe data and some info about the evoked data. For more information, see\n`tut_creating_data_structures`.\n\n"
      ]
    },
    {
      "cell_type": "code",
      "execution_count": null,
      "metadata": {
        "collapsed": false
      },
      "outputs": [],
      "source": [
        "evoked = mne.EvokedArray(data, evoked.info, tmin=evoked.times[0])\nevoked.plot(time_unit='s')"
      ]
    },
    {
      "cell_type": "markdown",
      "metadata": {},
      "source": [
        "To write an evoked dataset to a file, use the :meth:`mne.Evoked.save` method.\nTo save multiple categories to a single file, see :func:`mne.write_evokeds`.\n\n"
      ]
    }
  ],
  "metadata": {
    "kernelspec": {
      "display_name": "Python 3",
      "language": "python",
      "name": "python3"
    },
    "language_info": {
      "codemirror_mode": {
        "name": "ipython",
        "version": 3
      },
      "file_extension": ".py",
      "mimetype": "text/x-python",
      "name": "python",
      "nbconvert_exporter": "python",
      "pygments_lexer": "ipython3",
      "version": "3.7.4"
    }
  },
  "nbformat": 4,
  "nbformat_minor": 0
}