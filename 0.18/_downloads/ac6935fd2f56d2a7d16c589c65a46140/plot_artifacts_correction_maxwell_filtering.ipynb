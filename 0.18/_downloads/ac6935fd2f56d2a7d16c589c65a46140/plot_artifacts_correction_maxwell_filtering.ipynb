{
  "cells": [
    {
      "cell_type": "code",
      "execution_count": null,
      "metadata": {
        "collapsed": false
      },
      "outputs": [],
      "source": [
        "%matplotlib inline"
      ]
    },
    {
      "cell_type": "markdown",
      "metadata": {},
      "source": [
        "\n# Artifact correction with Maxwell filter\n\n\nThis tutorial shows how to clean MEG data with Maxwell filtering.\n\nMaxwell filtering in MNE can be used to suppress sources of external\ninterference and compensate for subject head movements.\n\nSee `maxwell` for more details.\n"
      ]
    },
    {
      "cell_type": "code",
      "execution_count": null,
      "metadata": {
        "collapsed": false
      },
      "outputs": [],
      "source": [
        "import mne\nfrom mne.preprocessing import maxwell_filter\n\ndata_path = mne.datasets.sample.data_path()"
      ]
    },
    {
      "cell_type": "markdown",
      "metadata": {},
      "source": [
        "Set parameters\n\n"
      ]
    },
    {
      "cell_type": "code",
      "execution_count": null,
      "metadata": {
        "collapsed": false
      },
      "outputs": [],
      "source": [
        "raw_fname = data_path + '/MEG/sample/sample_audvis_raw.fif'\nctc_fname = data_path + '/SSS/ct_sparse_mgh.fif'\nfine_cal_fname = data_path + '/SSS/sss_cal_mgh.dat'"
      ]
    },
    {
      "cell_type": "markdown",
      "metadata": {},
      "source": [
        "Preprocess with Maxwell filtering\n\n"
      ]
    },
    {
      "cell_type": "code",
      "execution_count": null,
      "metadata": {
        "collapsed": false
      },
      "outputs": [],
      "source": [
        "raw = mne.io.read_raw_fif(raw_fname)\nraw.info['bads'] = ['MEG 2443', 'EEG 053', 'MEG 1032', 'MEG 2313']  # set bads\n# Here we don't use tSSS (set st_duration) because MGH data is very clean\nraw_sss = maxwell_filter(raw, cross_talk=ctc_fname, calibration=fine_cal_fname)"
      ]
    },
    {
      "cell_type": "markdown",
      "metadata": {},
      "source": [
        "Select events to extract epochs from, pick M/EEG channels, and plot evoked\n\n"
      ]
    },
    {
      "cell_type": "code",
      "execution_count": null,
      "metadata": {
        "collapsed": false
      },
      "outputs": [],
      "source": [
        "tmin, tmax = -0.2, 0.5\nevent_id = {'Auditory/Left': 1}\nevents = mne.find_events(raw, 'STI 014')\nfor r, kind in zip((raw, raw_sss), ('Raw data', 'Maxwell filtered data')):\n    epochs = mne.Epochs(r, events, event_id, tmin, tmax,\n                        picks=('meg', 'eog'),\n                        baseline=(None, 0), reject=dict(eog=150e-6))\n    evoked = epochs.average()\n    evoked.plot(window_title=kind, ylim=dict(grad=(-200, 250),\n                                             mag=(-600, 700)), time_unit='s')"
      ]
    }
  ],
  "metadata": {
    "kernelspec": {
      "display_name": "Python 3",
      "language": "python",
      "name": "python3"
    },
    "language_info": {
      "codemirror_mode": {
        "name": "ipython",
        "version": 3
      },
      "file_extension": ".py",
      "mimetype": "text/x-python",
      "name": "python",
      "nbconvert_exporter": "python",
      "pygments_lexer": "ipython3",
      "version": "3.7.4"
    }
  },
  "nbformat": 4,
  "nbformat_minor": 0
}