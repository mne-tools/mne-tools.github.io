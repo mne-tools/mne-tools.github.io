{
  "cells": [
    {
      "cell_type": "code",
      "execution_count": null,
      "metadata": {
        "collapsed": false
      },
      "outputs": [],
      "source": [
        "%matplotlib inline"
      ]
    },
    {
      "cell_type": "markdown",
      "metadata": {},
      "source": [
        "\n# Compute LCMV inverse solution in volume source space\n\n\nCompute LCMV beamformer on an auditory evoked dataset in a volume source space.\n"
      ]
    },
    {
      "cell_type": "code",
      "execution_count": null,
      "metadata": {
        "collapsed": false
      },
      "outputs": [],
      "source": [
        "# Author: Alexandre Gramfort <alexandre.gramfort@telecom-paristech.fr>\n#\n# License: BSD (3-clause)\n\n# sphinx_gallery_thumbnail_number = 3\n\nimport mne\nfrom mne.datasets import sample\nfrom mne.beamformer import make_lcmv, apply_lcmv\n\nprint(__doc__)"
      ]
    },
    {
      "cell_type": "markdown",
      "metadata": {},
      "source": [
        "Data preprocessing:\n\n"
      ]
    },
    {
      "cell_type": "code",
      "execution_count": null,
      "metadata": {
        "collapsed": false
      },
      "outputs": [],
      "source": [
        "data_path = sample.data_path()\nsubjects_dir = data_path + '/subjects'\nraw_fname = data_path + '/MEG/sample/sample_audvis_raw.fif'\nevent_fname = data_path + '/MEG/sample/sample_audvis_raw-eve.fif'\nfname_fwd = data_path + '/MEG/sample/sample_audvis-meg-vol-7-fwd.fif'\n\n# Get epochs\nevent_id, tmin, tmax = [1, 2], -0.2, 0.5\n\n# Read forward model\nforward = mne.read_forward_solution(fname_fwd)\n\n# Setup for reading the raw data\nraw = mne.io.read_raw_fif(raw_fname, preload=True)\nraw.info['bads'] = ['MEG 2443', 'EEG 053']  # 2 bads channels\nevents = mne.read_events(event_fname)\n\n# Pick the channels of interest\nraw.pick(['meg', 'eog'])\n\n# Read epochs\nproj = False  # already applied\nepochs = mne.Epochs(raw, events, event_id, tmin, tmax,\n                    baseline=(None, 0), preload=True, proj=proj,\n                    reject=dict(grad=4000e-13, mag=4e-12, eog=150e-6))\nevoked = epochs.average()\n\n# Visualize sensor space data\nevoked.plot_joint()"
      ]
    },
    {
      "cell_type": "markdown",
      "metadata": {},
      "source": [
        "Compute covariance matrices, fit and apply  spatial filter.\n\n"
      ]
    },
    {
      "cell_type": "code",
      "execution_count": null,
      "metadata": {
        "collapsed": false
      },
      "outputs": [],
      "source": [
        "# Read regularized noise covariance and compute regularized data covariance\nnoise_cov = mne.compute_covariance(epochs, tmin=tmin, tmax=0, method='shrunk',\n                                   rank=None)\ndata_cov = mne.compute_covariance(epochs, tmin=0.04, tmax=0.15,\n                                  method='shrunk', rank=None)\n\n# Compute weights of free orientation (vector) beamformer with weight\n# normalization (neural activity index, NAI). Providing a noise covariance\n# matrix enables whitening of the data and forward solution. Source orientation\n# is optimized by setting pick_ori to 'max-power'.\n# weight_norm can also be set to 'unit-noise-gain'. Source orientation can also\n# be 'normal' (but only when using a surface-based source space) or None,\n# which computes a vector beamfomer. Note, however, that not all combinations\n# of orientation selection and weight normalization are implemented yet.\nfilters = make_lcmv(evoked.info, forward, data_cov, reg=0.05,\n                    noise_cov=noise_cov, pick_ori='max-power',\n                    weight_norm='nai', rank=None)\nprint(filters)\n\n# You can save these with:\n# filters.save('filters-lcmv.h5')\n\n# Apply this spatial filter to the evoked data.\nstc = apply_lcmv(evoked, filters, max_ori_out='signed')"
      ]
    },
    {
      "cell_type": "markdown",
      "metadata": {},
      "source": [
        "Plot source space activity:\n\n"
      ]
    },
    {
      "cell_type": "code",
      "execution_count": null,
      "metadata": {
        "collapsed": false
      },
      "outputs": [],
      "source": [
        "# You can save result in stc files with:\n# stc.save('lcmv-vol')\n\nclim = dict(kind='value', pos_lims=[0.3, 0.6, 0.9])\nstc.plot(src=forward['src'], subject='sample', subjects_dir=subjects_dir,\n         clim=clim)"
      ]
    },
    {
      "cell_type": "markdown",
      "metadata": {},
      "source": [
        "We can also visualize the activity on a \"glass brain\" (shown here with\nabsolute values):\n\n"
      ]
    },
    {
      "cell_type": "code",
      "execution_count": null,
      "metadata": {
        "collapsed": false
      },
      "outputs": [],
      "source": [
        "clim = dict(kind='value', lims=[0.3, 0.6, 0.9])\nabs(stc).plot(src=forward['src'], subject='sample', subjects_dir=subjects_dir,\n              mode='glass_brain', clim=clim)"
      ]
    }
  ],
  "metadata": {
    "kernelspec": {
      "display_name": "Python 3",
      "language": "python",
      "name": "python3"
    },
    "language_info": {
      "codemirror_mode": {
        "name": "ipython",
        "version": 3
      },
      "file_extension": ".py",
      "mimetype": "text/x-python",
      "name": "python",
      "nbconvert_exporter": "python",
      "pygments_lexer": "ipython3",
      "version": "3.7.4"
    }
  },
  "nbformat": 4,
  "nbformat_minor": 0
}