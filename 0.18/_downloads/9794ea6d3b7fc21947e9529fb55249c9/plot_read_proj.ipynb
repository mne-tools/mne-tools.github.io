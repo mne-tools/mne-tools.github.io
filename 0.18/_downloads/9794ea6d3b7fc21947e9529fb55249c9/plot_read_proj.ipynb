{
  "cells": [
    {
      "cell_type": "code",
      "execution_count": null,
      "metadata": {
        "collapsed": false
      },
      "outputs": [],
      "source": [
        "%matplotlib inline"
      ]
    },
    {
      "cell_type": "markdown",
      "metadata": {},
      "source": [
        "\n==============================================\nRead and visualize projections (SSP and other)\n==============================================\n\nThis example shows how to read and visualize Signal Subspace Projectors (SSP)\nvector. Such projections are sometimes referred to as PCA projections.\n"
      ]
    },
    {
      "cell_type": "code",
      "execution_count": null,
      "metadata": {
        "collapsed": false
      },
      "outputs": [],
      "source": [
        "# Author: Joan Massich <mailsik@gmail.com>\n#\n# License: BSD (3-clause)\n\nimport matplotlib.pyplot as plt\n\nimport mne\nfrom mne import read_proj\nfrom mne.io import read_raw_fif\n\nfrom mne.datasets import sample\n\nprint(__doc__)\n\ndata_path = sample.data_path()\n\nsubjects_dir = data_path + '/subjects'\nfname = data_path + '/MEG/sample/sample_audvis_raw.fif'\necg_fname = data_path + '/MEG/sample/sample_audvis_ecg-proj.fif'"
      ]
    },
    {
      "cell_type": "markdown",
      "metadata": {},
      "source": [
        "Load the FIF file and display the projections present in the file. Here the\nprojections are added to the file during the acquisition and are obtained\nfrom empty room recordings.\n\n"
      ]
    },
    {
      "cell_type": "code",
      "execution_count": null,
      "metadata": {
        "collapsed": false
      },
      "outputs": [],
      "source": [
        "raw = read_raw_fif(fname)\nempty_room_proj = raw.info['projs']\n\n# Display the projections stored in `info['projs']` from the raw object\nraw.plot_projs_topomap()"
      ]
    },
    {
      "cell_type": "markdown",
      "metadata": {},
      "source": [
        "Display the projections one by one\n\n"
      ]
    },
    {
      "cell_type": "code",
      "execution_count": null,
      "metadata": {
        "collapsed": false
      },
      "outputs": [],
      "source": [
        "fig, axes = plt.subplots(1, len(empty_room_proj))\nfor proj, ax in zip(empty_room_proj, axes):\n    proj.plot_topomap(axes=ax)"
      ]
    },
    {
      "cell_type": "markdown",
      "metadata": {},
      "source": [
        "Use the function in `mne.viz` to display a list of projections\n\n"
      ]
    },
    {
      "cell_type": "code",
      "execution_count": null,
      "metadata": {
        "collapsed": false
      },
      "outputs": [],
      "source": [
        "assert isinstance(empty_room_proj, list)\nmne.viz.plot_projs_topomap(empty_room_proj)"
      ]
    },
    {
      "cell_type": "markdown",
      "metadata": {},
      "source": [
        "As shown in the tutorial on how to `tut-viz-raw`\nthe ECG projections can be loaded from a file and added to the raw object\n\n"
      ]
    },
    {
      "cell_type": "code",
      "execution_count": null,
      "metadata": {
        "collapsed": false
      },
      "outputs": [],
      "source": [
        "# read the projections\necg_projs = read_proj(ecg_fname)\n\n# add them to raw and plot everything\nraw.add_proj(ecg_projs)\nraw.plot_projs_topomap()"
      ]
    },
    {
      "cell_type": "markdown",
      "metadata": {},
      "source": [
        "Displaying the projections from a raw object requires no extra information\nsince all the layout information is present in `raw.info`.\nMNE is able to automatically determine the layout for some magnetometer and\ngradiometer configurations but not the layout of EEG electrodes.\n\nHere we display the `ecg_projs` individually and we provide extra parameters\nfor EEG. (Notice that planar projection refers to the gradiometers and axial\nrefers to magnetometers.)\n\nNotice that the conditional is just for illustration purposes. We could\n`raw.info` in all cases to avoid the guesswork in `plot_topomap` and ensure\nthat the right layout is always found\n\n"
      ]
    },
    {
      "cell_type": "code",
      "execution_count": null,
      "metadata": {
        "collapsed": false
      },
      "outputs": [],
      "source": [
        "fig, axes = plt.subplots(1, len(ecg_projs))\nfor proj, ax in zip(ecg_projs, axes):\n    if proj['desc'].startswith('ECG-eeg'):\n        proj.plot_topomap(axes=ax, info=raw.info)\n    else:\n        proj.plot_topomap(axes=ax)"
      ]
    },
    {
      "cell_type": "markdown",
      "metadata": {},
      "source": [
        "The correct layout or a list of layouts from where to choose can also be\nprovided. Just for illustration purposes, here we generate the\n`possible_layouts` from the raw object itself, but it can come from somewhere\nelse.\n\n"
      ]
    },
    {
      "cell_type": "code",
      "execution_count": null,
      "metadata": {
        "collapsed": false
      },
      "outputs": [],
      "source": [
        "possible_layouts = [mne.find_layout(raw.info, ch_type=ch_type)\n                    for ch_type in ('grad', 'mag', 'eeg')]\nmne.viz.plot_projs_topomap(ecg_projs, layout=possible_layouts)"
      ]
    }
  ],
  "metadata": {
    "kernelspec": {
      "display_name": "Python 3",
      "language": "python",
      "name": "python3"
    },
    "language_info": {
      "codemirror_mode": {
        "name": "ipython",
        "version": 3
      },
      "file_extension": ".py",
      "mimetype": "text/x-python",
      "name": "python",
      "nbconvert_exporter": "python",
      "pygments_lexer": "ipython3",
      "version": "3.7.4"
    }
  },
  "nbformat": 4,
  "nbformat_minor": 0
}