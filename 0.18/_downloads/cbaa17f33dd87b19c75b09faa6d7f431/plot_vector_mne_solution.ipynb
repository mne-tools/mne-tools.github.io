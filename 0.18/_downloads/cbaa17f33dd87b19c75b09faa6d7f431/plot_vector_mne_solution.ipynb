{
  "cells": [
    {
      "cell_type": "code",
      "execution_count": null,
      "metadata": {
        "collapsed": false
      },
      "outputs": [],
      "source": [
        "%matplotlib inline"
      ]
    },
    {
      "cell_type": "markdown",
      "metadata": {},
      "source": [
        "\n# Plotting the full MNE solution\n\n\nThe source space that is used for the inverse computation defines a set of\ndipoles, distributed across the cortex. When visualizing a source estimate, it\nis sometimes useful to show the dipole directions in addiion to their estimated\nmagnitude.\n"
      ]
    },
    {
      "cell_type": "code",
      "execution_count": null,
      "metadata": {
        "collapsed": false
      },
      "outputs": [],
      "source": [
        "# Author: Marijn van Vliet <w.m.vanvliet@gmail.com>\n#\n# License: BSD (3-clause)\nimport mne\nfrom mne.datasets import sample\nfrom mne.minimum_norm import read_inverse_operator, apply_inverse\n\nprint(__doc__)\n\ndata_path = sample.data_path()\nsubjects_dir = data_path + '/subjects'\n\n# Read evoked data\nfname_evoked = data_path + '/MEG/sample/sample_audvis-ave.fif'\nevoked = mne.read_evokeds(fname_evoked, condition=0, baseline=(None, 0))\n\n# Read inverse solution\nfname_inv = data_path + '/MEG/sample/sample_audvis-meg-oct-6-meg-inv.fif'\ninv = read_inverse_operator(fname_inv)\n\n# Apply inverse solution, set pick_ori='vector' to obtain a\n# :class:`mne.VectorSourceEstimate` object\nsnr = 3.0\nlambda2 = 1.0 / snr ** 2\nstc = apply_inverse(evoked, inv, lambda2, 'dSPM', pick_ori='vector')\n\n# Use peak getter to move visualization to the time point of the peak magnitude\n_, peak_time = stc.magnitude().get_peak(hemi='lh')\n\n# Plot the source estimate\nbrain = stc.plot(initial_time=peak_time, hemi='lh', subjects_dir=subjects_dir)"
      ]
    }
  ],
  "metadata": {
    "kernelspec": {
      "display_name": "Python 3",
      "language": "python",
      "name": "python3"
    },
    "language_info": {
      "codemirror_mode": {
        "name": "ipython",
        "version": 3
      },
      "file_extension": ".py",
      "mimetype": "text/x-python",
      "name": "python",
      "nbconvert_exporter": "python",
      "pygments_lexer": "ipython3",
      "version": "3.7.4"
    }
  },
  "nbformat": 4,
  "nbformat_minor": 0
}