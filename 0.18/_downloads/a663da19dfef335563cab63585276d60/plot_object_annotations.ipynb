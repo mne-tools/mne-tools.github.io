{
  "cells": [
    {
      "cell_type": "code",
      "execution_count": null,
      "metadata": {
        "collapsed": false
      },
      "outputs": [],
      "source": [
        "%matplotlib inline"
      ]
    },
    {
      "cell_type": "markdown",
      "metadata": {},
      "source": [
        "\n\nThe :term:`Events <events>` and :class:`~mne.Annotations` data structures\n=========================================================================\n\n:term:`Events <events>` and :term:`annotations` are quite similar.\nThis tutorial highlights their differences and similarities, and tries to shed\nsome light on which one is preferred to use in different situations when using\nMNE.\n\nBoth events and :class:`~mne.Annotations` can be seen as triplets\nwhere the first element answers to **when** something happens and the last\nelement refers to **what** it is.\nThe main difference is that events represent the onset in samples taking into\naccount the first sample value\n(:attr:`raw.first_samp <mne.io.Raw.first_samp>`), and the description is\nan integer value.\nIn contrast, :class:`~mne.Annotations` represents the\n``onset`` in seconds (relative to the reference ``orig_time``),\nand the ``description`` is an arbitrary string.\nThere is no correspondence between the second element of events and\n:class:`~mne.Annotations`.\nFor events, the second element corresponds to the previous value on the\nstimulus channel from which events are extracted. In practice, the second\nelement is therefore in most cases zero.\nThe second element of :class:`~mne.Annotations` is a float\nindicating its duration in seconds.\n\nSee `ex-read-events`\nfor a complete example of how to read, select, and visualize **events**;\nand `tut-artifact-rejection` to\nlearn how :class:`~mne.Annotations` are used to mark bad segments\nof data.\n\nAn example of events and annotations\n------------------------------------\n\nThe following example shows the recorded events in `sample_audvis_raw.fif` and\nmarks bad segments due to eye blinks.\n"
      ]
    },
    {
      "cell_type": "code",
      "execution_count": null,
      "metadata": {
        "collapsed": false
      },
      "outputs": [],
      "source": [
        "import os.path as op\nimport numpy as np\n\nimport mne\n\n# Load the data\ndata_path = mne.datasets.sample.data_path()\nfname = op.join(data_path, 'MEG', 'sample', 'sample_audvis_raw.fif')\nraw = mne.io.read_raw_fif(fname)"
      ]
    },
    {
      "cell_type": "markdown",
      "metadata": {},
      "source": [
        "First we'll create and plot events associated with the experimental paradigm:\n\n"
      ]
    },
    {
      "cell_type": "code",
      "execution_count": null,
      "metadata": {
        "collapsed": false
      },
      "outputs": [],
      "source": [
        "# extract the events array from the stim channel\nevents = mne.find_events(raw)\n\n# Specify event_id dictionary based on the meaning of experimental triggers\nevent_id = {'Auditory/Left': 1, 'Auditory/Right': 2,\n            'Visual/Left': 3, 'Visual/Right': 4,\n            'smiley': 5, 'button': 32}\ncolor = {1: 'green', 2: 'yellow', 3: 'red', 4: 'c', 5: 'black', 32: 'blue'}\n\nmne.viz.plot_events(events, raw.info['sfreq'], raw.first_samp, color=color,\n                    event_id=event_id)"
      ]
    },
    {
      "cell_type": "markdown",
      "metadata": {},
      "source": [
        "Next, we're going to detect eye blinks and turn them into\n:class:`~mne.Annotations`:\n\n"
      ]
    },
    {
      "cell_type": "code",
      "execution_count": null,
      "metadata": {
        "collapsed": false
      },
      "outputs": [],
      "source": [
        "# find blinks\nannotated_blink_raw = raw.copy()\neog_events = mne.preprocessing.find_eog_events(raw)\nn_blinks = len(eog_events)\n\n# Turn blink events into Annotations of 0.5 seconds duration,\n# each centered on the blink event:\nonset = eog_events[:, 0] / raw.info['sfreq'] - 0.25\nduration = np.repeat(0.5, n_blinks)\ndescription = ['bad blink'] * n_blinks\nannot = mne.Annotations(onset, duration, description,\n                        orig_time=raw.info['meas_date'])\nannotated_blink_raw.set_annotations(annot)\n\n# plot the annotated raw\nannotated_blink_raw.plot()"
      ]
    },
    {
      "cell_type": "markdown",
      "metadata": {},
      "source": [
        "Add :term:`annotations` to :term:`raw` objects\n----------------------------------------------\n\nAn important element of :class:`~mne.Annotations` is\n``orig_time`` which is the time reference for the ``onset``.\nIt is key to understand that when calling\n:func:`raw.set_annotations <mne.io.Raw.set_annotations>`, given\nannotations are copied and transformed so that\n:class:`raw.annotations.orig_time <mne.Annotations>`\nmatches the recording time of the raw object.\nRefer to the documentation of :class:`~mne.Annotations` to see\nthe expected behavior depending on ``meas_date`` and ``orig_time``.\nWhere ``meas_date`` is the recording time stored in\n:class:`Info <mne.Info>`.\nYou can find more information about :class:`Info <mne.Info>` in\n`tut-info-class`.\n\nWe'll now manipulate some simulated annotations.\nThe first annotations has ``orig_time`` set to ``None`` while the\nsecond is set to a chosen POSIX timestamp for illustration purposes.\nNote that both annotations have different ``onset`` values.\n\n"
      ]
    },
    {
      "cell_type": "code",
      "execution_count": null,
      "metadata": {
        "collapsed": false
      },
      "outputs": [],
      "source": [
        "# Create an annotation object with orig_time undefined (default)\nannot_none = mne.Annotations(onset=[0, 2, 9], duration=[0.5, 4, 0],\n                             description=['foo', 'bar', 'foo'],\n                             orig_time=None)\nprint(annot_none)\n\n# Create an annotation object with orig_time\norig_time = '2002-12-03 19:01:31.676071'\nannot_orig = mne.Annotations(onset=[22, 24, 31], duration=[0.5, 4, 0],\n                             description=['foo', 'bar', 'foo'],\n                             orig_time=orig_time)\nprint(annot_orig)"
      ]
    },
    {
      "cell_type": "markdown",
      "metadata": {},
      "source": [
        "Now we create two raw objects and set each with different annotations.\nThen we plot both raw objects to compare the annotations.\n\n"
      ]
    },
    {
      "cell_type": "code",
      "execution_count": null,
      "metadata": {
        "collapsed": false
      },
      "outputs": [],
      "source": [
        "# Create two cropped copies of raw with the two previous annotations\nraw_a = raw.copy().crop(tmax=12).set_annotations(annot_none)\nraw_b = raw.copy().crop(tmax=12).set_annotations(annot_orig)\n\n# Plot the raw objects\nraw_a.plot()\nraw_b.plot()"
      ]
    },
    {
      "cell_type": "markdown",
      "metadata": {},
      "source": [
        "Note that although the ``onset`` values of both annotations were different,\ndue to complementary ``orig_time`` they are now identical. This is because\nthe first one (``annot_none``), once set in raw, adopted its ``orig_time``.\nThe second one (``annot_orig``) already had an ``orig_time``, so its\n``orig_time`` was changed to match the onset time of the raw. Changing an\nalready defined ``orig_time`` of annotations caused its ``onset`` to be\nrecalibrated with respect to the new ``orig_time``. As a result both\nannotations have now identical ``onset`` and identical ``orig_time``:\n\n"
      ]
    },
    {
      "cell_type": "code",
      "execution_count": null,
      "metadata": {
        "collapsed": false
      },
      "outputs": [],
      "source": [
        "# Show the annotations in the raw objects\nprint(raw_a.annotations)\nprint(raw_b.annotations)\n\n# Show that the onsets are the same\nnp.set_printoptions(precision=6)\nprint(raw_a.annotations.onset)\nprint(raw_b.annotations.onset)"
      ]
    },
    {
      "cell_type": "markdown",
      "metadata": {},
      "source": [
        "Notice again that for the case where ``orig_time`` is ``None``,\nit is assumed that the ``orig_time`` is the time of the first sample of data.\n\n"
      ]
    },
    {
      "cell_type": "code",
      "execution_count": null,
      "metadata": {
        "collapsed": false
      },
      "outputs": [],
      "source": [
        "raw_delta = (1 / raw.info['sfreq'])\nprint('raw.first_sample is {}'.format(raw.first_samp * raw_delta))\nprint('annot_none.onset[0] is {}'.format(annot_none.onset[0]))\nprint('raw_a.annotations.onset[0] is {}'.format(raw_a.annotations.onset[0]))"
      ]
    },
    {
      "cell_type": "markdown",
      "metadata": {},
      "source": [
        "Valid operations in :class:`mne.Annotations`\n--------------------------------------------\n\nConcatenate\n~~~~~~~~~~~\n\nIt is possible to concatenate two annotations with the + operator (just like\nlists) if both share the same ``orig_time``\n\n"
      ]
    },
    {
      "cell_type": "code",
      "execution_count": null,
      "metadata": {
        "collapsed": false
      },
      "outputs": [],
      "source": [
        "annot = mne.Annotations(onset=[10], duration=[0.5],\n                        description=['foobar'],\n                        orig_time=orig_time)\nannot = annot_orig + annot  # concatenation\nprint(annot)"
      ]
    },
    {
      "cell_type": "markdown",
      "metadata": {},
      "source": [
        "Iterating, Indexing and Slicing :class:`mne.Annotations`\n~~~~~~~~~~~~~~~~~~~~~~~~~~~~~~~~~~~~~~~~~~~~~~~~~~~~~~~~\n\n:class:`~mne.Annotations` supports iterating, indexing and slicing.\nIterating over :class:`~mne.Annotations` and indexing with an integer returns\na dictionary. While slicing returns a new :class:`~mne.Annotations` instance.\n\nSee the following examples and usages:\n\n"
      ]
    },
    {
      "cell_type": "code",
      "execution_count": null,
      "metadata": {
        "collapsed": false
      },
      "outputs": [],
      "source": [
        "# difference between indexing and slicing a single element\nprint(annot[0])  # indexing\nprint(annot[:1])  # slicing"
      ]
    },
    {
      "cell_type": "markdown",
      "metadata": {},
      "source": [
        "How about iterations?\n\n"
      ]
    },
    {
      "cell_type": "code",
      "execution_count": null,
      "metadata": {
        "collapsed": false
      },
      "outputs": [],
      "source": [
        "for key, val in annot[0].items():  # iterate on one element which is dictionary\n    print(key, val)"
      ]
    },
    {
      "cell_type": "code",
      "execution_count": null,
      "metadata": {
        "collapsed": false
      },
      "outputs": [],
      "source": [
        "for idx, my_annot in enumerate(annot):  # iterate on the Annotations object\n    print('annot #{0}: onset={1}'.format(idx, my_annot['onset']))\n    print('annot #{0}: duration={1}'.format(idx, my_annot['duration']))\n    print('annot #{0}: description={1}'.format(idx, my_annot['description']))"
      ]
    },
    {
      "cell_type": "code",
      "execution_count": null,
      "metadata": {
        "collapsed": false
      },
      "outputs": [],
      "source": [
        "for idx, my_annot in enumerate(annot[:1]):\n    for key, val in my_annot.items():\n        print('annot #{0}: {1} = {2}'.format(idx, key, val))"
      ]
    },
    {
      "cell_type": "markdown",
      "metadata": {},
      "source": [
        "Iterating, indexing and slicing return a copy. This has implications like the\nfact that changes are not kept.\n\n"
      ]
    },
    {
      "cell_type": "code",
      "execution_count": null,
      "metadata": {
        "collapsed": false
      },
      "outputs": [],
      "source": [
        "# this change is not kept\nannot[0]['onset'] = 42\nprint(annot[0])\n\n# this change is kept\nannot.onset[0] = 42\nprint(annot[0])"
      ]
    },
    {
      "cell_type": "markdown",
      "metadata": {},
      "source": [
        "Save\n~~~~\n\nNote that you can also save annotations to disk in FIF format::\n\n    >>> annot.save('my-annot.fif')\n\nOr as CSV with onsets in (absolute) ISO timestamps::\n\n    >>> annot.save('my-annot.csv')\n\nOr in plain text with onsets relative to ``orig_time``::\n\n    >>> annot.save('my-annot.txt')\n\n\n"
      ]
    }
  ],
  "metadata": {
    "kernelspec": {
      "display_name": "Python 3",
      "language": "python",
      "name": "python3"
    },
    "language_info": {
      "codemirror_mode": {
        "name": "ipython",
        "version": 3
      },
      "file_extension": ".py",
      "mimetype": "text/x-python",
      "name": "python",
      "nbconvert_exporter": "python",
      "pygments_lexer": "ipython3",
      "version": "3.7.4"
    }
  },
  "nbformat": 4,
  "nbformat_minor": 0
}