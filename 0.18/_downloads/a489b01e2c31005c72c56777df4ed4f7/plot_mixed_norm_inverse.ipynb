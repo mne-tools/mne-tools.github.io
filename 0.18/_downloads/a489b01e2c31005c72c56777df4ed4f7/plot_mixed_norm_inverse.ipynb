{
  "cells": [
    {
      "cell_type": "code",
      "execution_count": null,
      "metadata": {
        "collapsed": false
      },
      "outputs": [],
      "source": [
        "%matplotlib inline"
      ]
    },
    {
      "cell_type": "markdown",
      "metadata": {},
      "source": [
        "\n================================================================\nCompute sparse inverse solution with mixed norm: MxNE and irMxNE\n================================================================\n\nRuns an (ir)MxNE (L1/L2 [1]_ or L0.5/L2 [2]_ mixed norm) inverse solver.\nL0.5/L2 is done with irMxNE which allows for sparser\nsource estimates with less amplitude bias due to the non-convexity\nof the L0.5/L2 mixed norm penalty.\n\nReferences\n----------\n.. [1] Gramfort A., Kowalski M. and Hamalainen, M.\n   \"Mixed-norm estimates for the M/EEG inverse problem using accelerated\n   gradient methods\", Physics in Medicine and Biology, 2012.\n   https://doi.org/10.1088/0031-9155/57/7/1937.\n\n.. [2] Strohmeier D., Haueisen J., and Gramfort A.\n   \"Improved MEG/EEG source localization with reweighted mixed-norms\",\n   4th International Workshop on Pattern Recognition in Neuroimaging,\n   Tuebingen, 2014. 10.1109/PRNI.2014.6858545\n"
      ]
    },
    {
      "cell_type": "code",
      "execution_count": null,
      "metadata": {
        "collapsed": false
      },
      "outputs": [],
      "source": [
        "# Author: Alexandre Gramfort <alexandre.gramfort@telecom-paristech.fr>\n#         Daniel Strohmeier <daniel.strohmeier@tu-ilmenau.de>\n#\n# License: BSD (3-clause)\n\nimport numpy as np\n\nimport mne\nfrom mne.datasets import sample\nfrom mne.inverse_sparse import mixed_norm, make_stc_from_dipoles\nfrom mne.minimum_norm import make_inverse_operator, apply_inverse\nfrom mne.viz import (plot_sparse_source_estimates,\n                     plot_dipole_locations, plot_dipole_amplitudes)\n\nprint(__doc__)\n\ndata_path = sample.data_path()\nfwd_fname = data_path + '/MEG/sample/sample_audvis-meg-eeg-oct-6-fwd.fif'\nave_fname = data_path + '/MEG/sample/sample_audvis-ave.fif'\ncov_fname = data_path + '/MEG/sample/sample_audvis-shrunk-cov.fif'\nsubjects_dir = data_path + '/subjects'\n\n# Read noise covariance matrix\ncov = mne.read_cov(cov_fname)\n# Handling average file\ncondition = 'Left Auditory'\nevoked = mne.read_evokeds(ave_fname, condition=condition, baseline=(None, 0))\nevoked.crop(tmin=0, tmax=0.3)\n# Handling forward solution\nforward = mne.read_forward_solution(fwd_fname)"
      ]
    },
    {
      "cell_type": "markdown",
      "metadata": {},
      "source": [
        "Run solver\n\n"
      ]
    },
    {
      "cell_type": "code",
      "execution_count": null,
      "metadata": {
        "collapsed": false
      },
      "outputs": [],
      "source": [
        "alpha = 55  # regularization parameter between 0 and 100 (100 is high)\nloose, depth = 0.2, 0.9  # loose orientation & depth weighting\nn_mxne_iter = 10  # if > 1 use L0.5/L2 reweighted mixed norm solver\n# if n_mxne_iter > 1 dSPM weighting can be avoided.\n\n# Compute dSPM solution to be used as weights in MxNE\ninverse_operator = make_inverse_operator(evoked.info, forward, cov,\n                                         depth=depth, fixed=True,\n                                         use_cps=True)\nstc_dspm = apply_inverse(evoked, inverse_operator, lambda2=1. / 9.,\n                         method='dSPM')\n\n# Compute (ir)MxNE inverse solution with dipole output\ndipoles, residual = mixed_norm(\n    evoked, forward, cov, alpha, loose=loose, depth=depth, maxit=3000,\n    tol=1e-4, active_set_size=10, debias=True, weights=stc_dspm,\n    weights_min=8., n_mxne_iter=n_mxne_iter, return_residual=True,\n    return_as_dipoles=True)"
      ]
    },
    {
      "cell_type": "markdown",
      "metadata": {},
      "source": [
        "Plot dipole activations\n\n"
      ]
    },
    {
      "cell_type": "code",
      "execution_count": null,
      "metadata": {
        "collapsed": false
      },
      "outputs": [],
      "source": [
        "plot_dipole_amplitudes(dipoles)\n\n# Plot dipole location of the strongest dipole with MRI slices\nidx = np.argmax([np.max(np.abs(dip.amplitude)) for dip in dipoles])\nplot_dipole_locations(dipoles[idx], forward['mri_head_t'], 'sample',\n                      subjects_dir=subjects_dir, mode='orthoview',\n                      idx='amplitude')\n\n# Plot dipole locations of all dipoles with MRI slices\nfor dip in dipoles:\n    plot_dipole_locations(dip, forward['mri_head_t'], 'sample',\n                          subjects_dir=subjects_dir, mode='orthoview',\n                          idx='amplitude')"
      ]
    },
    {
      "cell_type": "markdown",
      "metadata": {},
      "source": [
        "Plot residual\n\n"
      ]
    },
    {
      "cell_type": "code",
      "execution_count": null,
      "metadata": {
        "collapsed": false
      },
      "outputs": [],
      "source": [
        "ylim = dict(eeg=[-10, 10], grad=[-400, 400], mag=[-600, 600])\nevoked.pick_types(meg=True, eeg=True, exclude='bads')\nevoked.plot(ylim=ylim, proj=True, time_unit='s')\nresidual.pick_types(meg=True, eeg=True, exclude='bads')\nresidual.plot(ylim=ylim, proj=True, time_unit='s')"
      ]
    },
    {
      "cell_type": "markdown",
      "metadata": {},
      "source": [
        "Generate stc from dipoles\n\n"
      ]
    },
    {
      "cell_type": "code",
      "execution_count": null,
      "metadata": {
        "collapsed": false
      },
      "outputs": [],
      "source": [
        "stc = make_stc_from_dipoles(dipoles, forward['src'])"
      ]
    },
    {
      "cell_type": "markdown",
      "metadata": {},
      "source": [
        "View in 2D and 3D (\"glass\" brain like 3D plot)\n\n"
      ]
    },
    {
      "cell_type": "code",
      "execution_count": null,
      "metadata": {
        "collapsed": false
      },
      "outputs": [],
      "source": [
        "solver = \"MxNE\" if n_mxne_iter == 1 else \"irMxNE\"\nplot_sparse_source_estimates(forward['src'], stc, bgcolor=(1, 1, 1),\n                             fig_name=\"%s (cond %s)\" % (solver, condition),\n                             opacity=0.1)"
      ]
    },
    {
      "cell_type": "markdown",
      "metadata": {},
      "source": [
        "Morph onto fsaverage brain and view\n\n"
      ]
    },
    {
      "cell_type": "code",
      "execution_count": null,
      "metadata": {
        "collapsed": false
      },
      "outputs": [],
      "source": [
        "morph = mne.compute_source_morph(stc, subject_from='sample',\n                                 subject_to='fsaverage', spacing=None,\n                                 sparse=True, subjects_dir=subjects_dir)\nstc_fsaverage = morph.apply(stc)\nsrc_fsaverage_fname = subjects_dir + '/fsaverage/bem/fsaverage-ico-5-src.fif'\nsrc_fsaverage = mne.read_source_spaces(src_fsaverage_fname)\n\nplot_sparse_source_estimates(src_fsaverage, stc_fsaverage, bgcolor=(1, 1, 1),\n                             fig_name=\"Morphed %s (cond %s)\" % (solver,\n                             condition), opacity=0.1)"
      ]
    }
  ],
  "metadata": {
    "kernelspec": {
      "display_name": "Python 3",
      "language": "python",
      "name": "python3"
    },
    "language_info": {
      "codemirror_mode": {
        "name": "ipython",
        "version": 3
      },
      "file_extension": ".py",
      "mimetype": "text/x-python",
      "name": "python",
      "nbconvert_exporter": "python",
      "pygments_lexer": "ipython3",
      "version": "3.7.4"
    }
  },
  "nbformat": 4,
  "nbformat_minor": 0
}