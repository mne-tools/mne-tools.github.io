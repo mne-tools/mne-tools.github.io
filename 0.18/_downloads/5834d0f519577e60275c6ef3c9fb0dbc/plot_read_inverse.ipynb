{
  "cells": [
    {
      "cell_type": "code",
      "execution_count": null,
      "metadata": {
        "collapsed": false
      },
      "outputs": [],
      "source": [
        "%matplotlib inline"
      ]
    },
    {
      "cell_type": "markdown",
      "metadata": {},
      "source": [
        "\n# Reading an inverse operator\n\n\nThe inverse operator's source space is shown in 3D.\n"
      ]
    },
    {
      "cell_type": "code",
      "execution_count": null,
      "metadata": {
        "collapsed": false
      },
      "outputs": [],
      "source": [
        "# Author: Alexandre Gramfort <alexandre.gramfort@telecom-paristech.fr>\n#\n# License: BSD (3-clause)\n\nfrom mne.datasets import sample\nfrom mne.minimum_norm import read_inverse_operator\n\nprint(__doc__)\n\ndata_path = sample.data_path()\nfname = data_path\nfname += '/MEG/sample/sample_audvis-meg-oct-6-meg-inv.fif'\n\ninv = read_inverse_operator(fname)\n\nprint(\"Method: %s\" % inv['methods'])\nprint(\"fMRI prior: %s\" % inv['fmri_prior'])\nprint(\"Number of sources: %s\" % inv['nsource'])\nprint(\"Number of channels: %s\" % inv['nchan'])"
      ]
    },
    {
      "cell_type": "markdown",
      "metadata": {},
      "source": [
        "Show result on 3D source space\n\n"
      ]
    },
    {
      "cell_type": "code",
      "execution_count": null,
      "metadata": {
        "collapsed": false
      },
      "outputs": [],
      "source": [
        "lh_points = inv['src'][0]['rr']\nlh_faces = inv['src'][0]['use_tris']\nrh_points = inv['src'][1]['rr']\nrh_faces = inv['src'][1]['use_tris']\nfrom mayavi import mlab  # noqa\n\nmlab.figure(size=(600, 600), bgcolor=(0, 0, 0))\nmesh = mlab.triangular_mesh(lh_points[:, 0], lh_points[:, 1], lh_points[:, 2],\n                            lh_faces, colormap='RdBu')\nmesh.module_manager.scalar_lut_manager.reverse_lut = True\n\nmesh = mlab.triangular_mesh(rh_points[:, 0], rh_points[:, 1], rh_points[:, 2],\n                            rh_faces, colormap='RdBu')\nmesh.module_manager.scalar_lut_manager.reverse_lut = True"
      ]
    }
  ],
  "metadata": {
    "kernelspec": {
      "display_name": "Python 3",
      "language": "python",
      "name": "python3"
    },
    "language_info": {
      "codemirror_mode": {
        "name": "ipython",
        "version": 3
      },
      "file_extension": ".py",
      "mimetype": "text/x-python",
      "name": "python",
      "nbconvert_exporter": "python",
      "pygments_lexer": "ipython3",
      "version": "3.7.4"
    }
  },
  "nbformat": 4,
  "nbformat_minor": 0
}