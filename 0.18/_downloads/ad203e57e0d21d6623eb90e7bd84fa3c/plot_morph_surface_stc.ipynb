{
  "cells": [
    {
      "cell_type": "code",
      "execution_count": null,
      "metadata": {
        "collapsed": false
      },
      "outputs": [],
      "source": [
        "%matplotlib inline"
      ]
    },
    {
      "cell_type": "markdown",
      "metadata": {},
      "source": [
        "\n\n# Morph surface source estimate\n\n\nThis example demonstrates how to morph an individual subject's\n:class:`mne.SourceEstimate` to a common reference space. We achieve this using\n:class:`mne.SourceMorph`. Pre-computed data will be morphed based on\na spherical representation of the cortex computed using the spherical\nregistration of `FreeSurfer <tut-freesurfer>`\n(https://surfer.nmr.mgh.harvard.edu/fswiki/SurfaceRegAndTemplates) [1]_. This\ntransform will be used to morph the surface vertices of the subject towards the\nreference vertices. Here we will use 'fsaverage' as a reference space (see\nhttps://surfer.nmr.mgh.harvard.edu/fswiki/FsAverage).\n\nThe transformation will be applied to the surface source estimate. A plot\ndepicting the successful morph will be created for the spherical and inflated\nsurface representation of ``'fsaverage'``, overlaid with the morphed surface\nsource estimate.\n\nReferences\n----------\n.. [1] Greve D. N., Van der Haegen L., Cai Q., Stufflebeam S., Sabuncu M.\n       R., Fischl B., Brysbaert M.\n       A Surface-based Analysis of Language Lateralization and Cortical\n       Asymmetry. Journal of Cognitive Neuroscience 25(9), 1477-1492, 2013.\n\n<div class=\"alert alert-info\"><h4>Note</h4><p>For a tutorial about morphing see:\n          `ch_morph`.</p></div>\n"
      ]
    },
    {
      "cell_type": "code",
      "execution_count": null,
      "metadata": {
        "collapsed": false
      },
      "outputs": [],
      "source": [
        "# Author: Tommy Clausner <tommy.clausner@gmail.com>\n#\n# License: BSD (3-clause)\nimport os\n\nimport mne\nfrom mne.datasets import sample\n\nprint(__doc__)"
      ]
    },
    {
      "cell_type": "markdown",
      "metadata": {},
      "source": [
        "Setup paths\n\n"
      ]
    },
    {
      "cell_type": "code",
      "execution_count": null,
      "metadata": {
        "collapsed": false
      },
      "outputs": [],
      "source": [
        "sample_dir_raw = sample.data_path()\nsample_dir = os.path.join(sample_dir_raw, 'MEG', 'sample')\nsubjects_dir = os.path.join(sample_dir_raw, 'subjects')\n\nfname_stc = os.path.join(sample_dir, 'sample_audvis-meg')"
      ]
    },
    {
      "cell_type": "markdown",
      "metadata": {},
      "source": [
        "Load example data\n\n"
      ]
    },
    {
      "cell_type": "code",
      "execution_count": null,
      "metadata": {
        "collapsed": false
      },
      "outputs": [],
      "source": [
        "# Read stc from file\nstc = mne.read_source_estimate(fname_stc, subject='sample')"
      ]
    },
    {
      "cell_type": "markdown",
      "metadata": {},
      "source": [
        "Setting up SourceMorph for SourceEstimate\n-----------------------------------------\n\nIn MNE surface source estimates represent the source space simply as\nlists of vertices (see\n`tut-source-estimate-class`).\nThis list can either be obtained from\n:class:`mne.SourceSpaces` (src) or from the ``stc`` itself.\n\nSince the default ``spacing`` (resolution of surface mesh) is ``5`` and\n``subject_to`` is set to 'fsaverage', :class:`mne.SourceMorph` will use\ndefault ico-5 ``fsaverage`` vertices to morph, which are the special\nvalues ``[np.arange(10242)] * 2``.\n\n<div class=\"alert alert-info\"><h4>Note</h4><p>This is not generally true for other subjects! The set of vertices\n          used for ``fsaverage`` with ico-5 spacing was designed to be\n          special. ico-5 spacings for other subjects (or other spacings\n          for fsaverage) must be calculated and will not be consecutive\n          integers.</p></div>\n\nIf src was not defined, the morph will actually not be precomputed, because\nwe lack the vertices *from* that we want to compute. Instead the morph will\nbe set up and when applying it, the actual transformation will be computed on\nthe fly.\n\nInitialize SourceMorph for SourceEstimate\n\n"
      ]
    },
    {
      "cell_type": "code",
      "execution_count": null,
      "metadata": {
        "collapsed": false
      },
      "outputs": [],
      "source": [
        "morph = mne.compute_source_morph(stc, subject_from='sample',\n                                 subject_to='fsaverage',\n                                 subjects_dir=subjects_dir)"
      ]
    },
    {
      "cell_type": "markdown",
      "metadata": {},
      "source": [
        "Apply morph to (Vector) SourceEstimate\n--------------------------------------\n\nThe morph will be applied to the source estimate data, by giving it as the\nfirst argument to the morph we computed above.\n\n"
      ]
    },
    {
      "cell_type": "code",
      "execution_count": null,
      "metadata": {
        "collapsed": false
      },
      "outputs": [],
      "source": [
        "stc_fsaverage = morph.apply(stc)"
      ]
    },
    {
      "cell_type": "markdown",
      "metadata": {},
      "source": [
        "Plot results\n------------\n\n"
      ]
    },
    {
      "cell_type": "code",
      "execution_count": null,
      "metadata": {
        "collapsed": false
      },
      "outputs": [],
      "source": [
        "# Define plotting parameters\nsurfer_kwargs = dict(\n    hemi='lh', subjects_dir=subjects_dir,\n    clim=dict(kind='value', lims=[8, 12, 15]), views='lateral',\n    initial_time=0.09, time_unit='s', size=(800, 800),\n    smoothing_steps=5)\n\n# As spherical surface\nbrain = stc_fsaverage.plot(surface='sphere', **surfer_kwargs)\n\n# Add title\nbrain.add_text(0.1, 0.9, 'Morphed to fsaverage (spherical)', 'title',\n               font_size=16)"
      ]
    },
    {
      "cell_type": "markdown",
      "metadata": {},
      "source": [
        "As inflated surface\n\n"
      ]
    },
    {
      "cell_type": "code",
      "execution_count": null,
      "metadata": {
        "collapsed": false
      },
      "outputs": [],
      "source": [
        "brain_inf = stc_fsaverage.plot(surface='inflated', **surfer_kwargs)\n\n# Add title\nbrain_inf.add_text(0.1, 0.9, 'Morphed to fsaverage (inflated)', 'title',\n                   font_size=16)"
      ]
    },
    {
      "cell_type": "markdown",
      "metadata": {},
      "source": [
        "Reading and writing SourceMorph from and to disk\n------------------------------------------------\n\nAn instance of SourceMorph can be saved, by calling\n:meth:`morph.save <mne.SourceMorph.save>`.\n\nThis method allows for specification of a filename under which the ``morph``\nwill be save in \".h5\" format. If no file extension is provided, \"-morph.h5\"\nwill be appended to the respective defined filename::\n\n    >>> morph.save('my-file-name')\n\nReading a saved source morph can be achieved by using\n:func:`mne.read_source_morph`::\n\n    >>> morph = mne.read_source_morph('my-file-name-morph.h5')\n\nOnce the environment is set up correctly, no information such as\n``subject_from`` or ``subjects_dir`` must be provided, since it can be\ninferred from the data and use morph to 'fsaverage' by default. SourceMorph\ncan further be used without creating an instance and assigning it to a\nvariable. Instead :func:`mne.compute_source_morph` and\n:meth:`mne.SourceMorph.apply` can be\neasily chained into a handy one-liner. Taking this together the shortest\npossible way to morph data directly would be:\n\n"
      ]
    },
    {
      "cell_type": "code",
      "execution_count": null,
      "metadata": {
        "collapsed": false
      },
      "outputs": [],
      "source": [
        "stc_fsaverage = mne.compute_source_morph(stc,\n                                         subjects_dir=subjects_dir).apply(stc)"
      ]
    }
  ],
  "metadata": {
    "kernelspec": {
      "display_name": "Python 3",
      "language": "python",
      "name": "python3"
    },
    "language_info": {
      "codemirror_mode": {
        "name": "ipython",
        "version": 3
      },
      "file_extension": ".py",
      "mimetype": "text/x-python",
      "name": "python",
      "nbconvert_exporter": "python",
      "pygments_lexer": "ipython3",
      "version": "3.7.4"
    }
  },
  "nbformat": 4,
  "nbformat_minor": 0
}