{
  "cells": [
    {
      "cell_type": "code",
      "execution_count": null,
      "metadata": {
        "collapsed": false
      },
      "outputs": [],
      "source": [
        "%matplotlib inline"
      ]
    },
    {
      "cell_type": "markdown",
      "metadata": {},
      "source": [
        "\n# Compute MNE inverse solution on evoked data in a mixed source space\n\n\nCreate a mixed source space and compute MNE inverse solution on evoked dataset.\n"
      ]
    },
    {
      "cell_type": "code",
      "execution_count": null,
      "metadata": {
        "collapsed": false
      },
      "outputs": [],
      "source": [
        "# Author: Annalisa Pascarella <a.pascarella@iac.cnr.it>\n#\n# License: BSD (3-clause)\n\nimport os.path as op\nimport matplotlib.pyplot as plt\n\nfrom nilearn import plotting\n\nimport mne\nfrom mne.minimum_norm import make_inverse_operator, apply_inverse\n\n# Set dir\ndata_path = mne.datasets.sample.data_path()\nsubject = 'sample'\ndata_dir = op.join(data_path, 'MEG', subject)\nsubjects_dir = op.join(data_path, 'subjects')\nbem_dir = op.join(subjects_dir, subject, 'bem')\n\n# Set file names\nfname_mixed_src = op.join(bem_dir, '%s-oct-6-mixed-src.fif' % subject)\nfname_aseg = op.join(subjects_dir, subject, 'mri', 'aseg.mgz')\n\nfname_model = op.join(bem_dir, '%s-5120-bem.fif' % subject)\nfname_bem = op.join(bem_dir, '%s-5120-bem-sol.fif' % subject)\n\nfname_evoked = data_dir + '/sample_audvis-ave.fif'\nfname_trans = data_dir + '/sample_audvis_raw-trans.fif'\nfname_fwd = data_dir + '/sample_audvis-meg-oct-6-mixed-fwd.fif'\nfname_cov = data_dir + '/sample_audvis-shrunk-cov.fif'"
      ]
    },
    {
      "cell_type": "markdown",
      "metadata": {},
      "source": [
        "Set up our source space.\n\n"
      ]
    },
    {
      "cell_type": "code",
      "execution_count": null,
      "metadata": {
        "collapsed": false
      },
      "outputs": [],
      "source": [
        "# List substructures we are interested in. We select only the\n# sub structures we want to include in the source space\nlabels_vol = ['Left-Amygdala',\n              'Left-Thalamus-Proper',\n              'Left-Cerebellum-Cortex',\n              'Brain-Stem',\n              'Right-Amygdala',\n              'Right-Thalamus-Proper',\n              'Right-Cerebellum-Cortex']\n\n# Get a surface-based source space, here with few source points for speed\n# in this demonstration, in general you should use oct6 spacing!\nsrc = mne.setup_source_space(subject, spacing='oct5',\n                             add_dist=False, subjects_dir=subjects_dir)\n\n# Now we create a mixed src space by adding the volume regions specified in the\n# list labels_vol. First, read the aseg file and the source space bounds\n# using the inner skull surface (here using 10mm spacing to save time,\n# we recommend something smaller like 5.0 in actual analyses):\n\nvol_src = mne.setup_volume_source_space(\n    subject, mri=fname_aseg, pos=10.0, bem=fname_model,\n    volume_label=labels_vol, subjects_dir=subjects_dir,\n    add_interpolator=False,  # just for speed, usually this should be True\n    verbose=True)\n\n# Generate the mixed source space\nsrc += vol_src\n\n# Visualize the source space.\nsrc.plot(subjects_dir=subjects_dir)\n\nn = sum(src[i]['nuse'] for i in range(len(src)))\nprint('the src space contains %d spaces and %d points' % (len(src), n))"
      ]
    },
    {
      "cell_type": "markdown",
      "metadata": {},
      "source": [
        "We could write the mixed source space with::\n\n   >>> write_source_spaces(fname_mixed_src, src, overwrite=True)\n\nWe can also export source positions to nift file and visualize it again:\n\n"
      ]
    },
    {
      "cell_type": "code",
      "execution_count": null,
      "metadata": {
        "collapsed": false
      },
      "outputs": [],
      "source": [
        "nii_fname = op.join(bem_dir, '%s-mixed-src.nii' % subject)\nsrc.export_volume(nii_fname, mri_resolution=True)\n\nplotting.plot_img(nii_fname, cmap='nipy_spectral')\n\n# Compute the fwd matrix\nfwd = mne.make_forward_solution(\n    fname_evoked, fname_trans, src, fname_bem,\n    mindist=5.0,  # ignore sources<=5mm from innerskull\n    meg=True, eeg=False, n_jobs=1)\n\nleadfield = fwd['sol']['data']\nprint(\"Leadfield size : %d sensors x %d dipoles\" % leadfield.shape)\n\nsrc_fwd = fwd['src']\nn = sum(src_fwd[i]['nuse'] for i in range(len(src_fwd)))\nprint('the fwd src space contains %d spaces and %d points' % (len(src_fwd), n))\n\n# Load data\ncondition = 'Left Auditory'\nevoked = mne.read_evokeds(fname_evoked, condition=condition,\n                          baseline=(None, 0))\nnoise_cov = mne.read_cov(fname_cov)\n\n# Compute inverse solution and for each epoch\nsnr = 3.0            # use smaller SNR for raw data\ninv_method = 'dSPM'  # sLORETA, MNE, dSPM\nparc = 'aparc'       # the parcellation to use, e.g., 'aparc' 'aparc.a2009s'\n\nlambda2 = 1.0 / snr ** 2\n\n# Compute inverse operator\ninverse_operator = make_inverse_operator(evoked.info, fwd, noise_cov,\n                                         depth=None, fixed=False)\n\nstc = apply_inverse(evoked, inverse_operator, lambda2, inv_method,\n                    pick_ori=None)\n\n# Get labels for FreeSurfer 'aparc' cortical parcellation with 34 labels/hemi\nlabels_parc = mne.read_labels_from_annot(\n    subject, parc=parc, subjects_dir=subjects_dir)"
      ]
    },
    {
      "cell_type": "markdown",
      "metadata": {},
      "source": [
        "Average the source estimates within each label of the cortical parcellation\nand each sub structure contained in the src space\n\n"
      ]
    },
    {
      "cell_type": "code",
      "execution_count": null,
      "metadata": {
        "collapsed": false
      },
      "outputs": [],
      "source": [
        "src = inverse_operator['src']\n\nlabel_ts = mne.extract_label_time_course(\n    [stc], labels_parc, src, mode='mean', allow_empty=True)\n\n# plot the times series of 2 labels\nfig, axes = plt.subplots(1)\naxes.plot(1e3 * stc.times, label_ts[0][0, :], 'k', label='bankssts-lh')\naxes.plot(1e3 * stc.times, label_ts[0][71, :].T, 'r', label='Brain-stem')\naxes.set(xlabel='Time (ms)', ylabel='MNE current (nAm)')\naxes.legend()\nmne.viz.tight_layout()"
      ]
    }
  ],
  "metadata": {
    "kernelspec": {
      "display_name": "Python 3",
      "language": "python",
      "name": "python3"
    },
    "language_info": {
      "codemirror_mode": {
        "name": "ipython",
        "version": 3
      },
      "file_extension": ".py",
      "mimetype": "text/x-python",
      "name": "python",
      "nbconvert_exporter": "python",
      "pygments_lexer": "ipython3",
      "version": "3.7.4"
    }
  },
  "nbformat": 4,
  "nbformat_minor": 0
}