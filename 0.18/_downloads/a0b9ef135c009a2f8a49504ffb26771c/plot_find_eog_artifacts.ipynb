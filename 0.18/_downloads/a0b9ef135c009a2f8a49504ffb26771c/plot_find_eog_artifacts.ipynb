{
  "cells": [
    {
      "cell_type": "code",
      "execution_count": null,
      "metadata": {
        "collapsed": false
      },
      "outputs": [],
      "source": [
        "%matplotlib inline"
      ]
    },
    {
      "cell_type": "markdown",
      "metadata": {},
      "source": [
        "\n# Find EOG artifacts\n\n\nLocate peaks of EOG to spot blinks and general EOG artifacts.\n"
      ]
    },
    {
      "cell_type": "code",
      "execution_count": null,
      "metadata": {
        "collapsed": false
      },
      "outputs": [],
      "source": [
        "# Authors: Alexandre Gramfort <alexandre.gramfort@telecom-paristech.fr>\n#\n# License: BSD (3-clause)\n\n\nimport numpy as np\nimport matplotlib.pyplot as plt\n\nimport mne\nfrom mne import io\nfrom mne.datasets import sample\n\nprint(__doc__)\n\ndata_path = sample.data_path()"
      ]
    },
    {
      "cell_type": "markdown",
      "metadata": {},
      "source": [
        "Set parameters\n\n"
      ]
    },
    {
      "cell_type": "code",
      "execution_count": null,
      "metadata": {
        "collapsed": false
      },
      "outputs": [],
      "source": [
        "raw_fname = data_path + '/MEG/sample/sample_audvis_filt-0-40_raw.fif'\n\n# Setup for reading the raw data\nraw = io.read_raw_fif(raw_fname)\n\nevent_id = 998\neog_events = mne.preprocessing.find_eog_events(raw, event_id)\n\n# Read epochs\npicks = mne.pick_types(raw.info, meg=False, eeg=False, stim=False, eog=True,\n                       exclude='bads')\ntmin, tmax = -0.2, 0.2\nepochs = mne.Epochs(raw, eog_events, event_id, tmin, tmax, picks=picks)\ndata = epochs.get_data()\n\nprint(\"Number of detected EOG artifacts : %d\" % len(data))"
      ]
    },
    {
      "cell_type": "markdown",
      "metadata": {},
      "source": [
        "Plot EOG artifacts\n\n"
      ]
    },
    {
      "cell_type": "code",
      "execution_count": null,
      "metadata": {
        "collapsed": false
      },
      "outputs": [],
      "source": [
        "plt.plot(1e3 * epochs.times, np.squeeze(data).T)\nplt.xlabel('Times (ms)')\nplt.ylabel('EOG (muV)')\nplt.show()"
      ]
    }
  ],
  "metadata": {
    "kernelspec": {
      "display_name": "Python 3",
      "language": "python",
      "name": "python3"
    },
    "language_info": {
      "codemirror_mode": {
        "name": "ipython",
        "version": 3
      },
      "file_extension": ".py",
      "mimetype": "text/x-python",
      "name": "python",
      "nbconvert_exporter": "python",
      "pygments_lexer": "ipython3",
      "version": "3.7.4"
    }
  },
  "nbformat": 4,
  "nbformat_minor": 0
}