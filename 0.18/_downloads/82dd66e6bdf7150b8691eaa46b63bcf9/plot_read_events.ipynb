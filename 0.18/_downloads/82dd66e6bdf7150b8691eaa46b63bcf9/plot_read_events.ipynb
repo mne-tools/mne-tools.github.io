{
  "cells": [
    {
      "cell_type": "code",
      "execution_count": null,
      "metadata": {
        "collapsed": false
      },
      "outputs": [],
      "source": [
        "%matplotlib inline"
      ]
    },
    {
      "cell_type": "markdown",
      "metadata": {},
      "source": [
        "\n\n# Reading an event file\n\n\nRead events from a file. For a more detailed guide on how to read events\nusing MNE-Python, see `tut_epoching_and_averaging`.\n"
      ]
    },
    {
      "cell_type": "code",
      "execution_count": null,
      "metadata": {
        "collapsed": false
      },
      "outputs": [],
      "source": [
        "# Authors: Alexandre Gramfort <alexandre.gramfort@telecom-paristech.fr>\n#          Chris Holdgraf <choldgraf@berkeley.edu>\n#\n# License: BSD (3-clause)\n\nimport matplotlib.pyplot as plt\nimport mne\nfrom mne.datasets import sample\n\nprint(__doc__)\n\ndata_path = sample.data_path()\nfname = data_path + '/MEG/sample/sample_audvis_raw-eve.fif'"
      ]
    },
    {
      "cell_type": "markdown",
      "metadata": {},
      "source": [
        "Reading events\n--------------\n\nBelow we'll read in an events file. We suggest that this file end in\n``-eve.fif``. Note that we can read in the entire events file, or only\nevents corresponding to particular event types with the ``include`` and\n``exclude`` parameters.\n\n"
      ]
    },
    {
      "cell_type": "code",
      "execution_count": null,
      "metadata": {
        "collapsed": false
      },
      "outputs": [],
      "source": [
        "events_1 = mne.read_events(fname, include=1)\nevents_1_2 = mne.read_events(fname, include=[1, 2])\nevents_not_4_32 = mne.read_events(fname, exclude=[4, 32])"
      ]
    },
    {
      "cell_type": "markdown",
      "metadata": {},
      "source": [
        "Events objects are essentially numpy arrays with three columns:\n``event_sample | previous_event_id | event_id``\n\n"
      ]
    },
    {
      "cell_type": "code",
      "execution_count": null,
      "metadata": {
        "collapsed": false
      },
      "outputs": [],
      "source": [
        "print(events_1[:5], '\\n\\n---\\n\\n', events_1_2[:5], '\\n\\n')\n\nfor ind, before, after in events_1[:5]:\n    print(\"At sample %d stim channel went from %d to %d\"\n          % (ind, before, after))"
      ]
    },
    {
      "cell_type": "markdown",
      "metadata": {},
      "source": [
        "Plotting events\n---------------\n\nWe can also plot events in order to visualize how events occur over the\ncourse of our recording session. Below we'll plot our three event types\nto see which ones were included.\n\n"
      ]
    },
    {
      "cell_type": "code",
      "execution_count": null,
      "metadata": {
        "collapsed": false
      },
      "outputs": [],
      "source": [
        "fig, axs = plt.subplots(1, 3, figsize=(15, 5))\n\nmne.viz.plot_events(events_1, axes=axs[0], show=False)\naxs[0].set(title=\"restricted to event 1\")\n\nmne.viz.plot_events(events_1_2, axes=axs[1], show=False)\naxs[1].set(title=\"restricted to event 1 or 2\")\n\nmne.viz.plot_events(events_not_4_32, axes=axs[2], show=False)\naxs[2].set(title=\"keep all but 4 and 32\")\nplt.setp([ax.get_xticklabels() for ax in axs], rotation=45)\nplt.tight_layout()\nplt.show()"
      ]
    },
    {
      "cell_type": "markdown",
      "metadata": {},
      "source": [
        "Writing events\n--------------\n\nFinally, we can write events to disk. Remember to use the naming convention\n``-eve.fif`` for your file.\n\n"
      ]
    },
    {
      "cell_type": "code",
      "execution_count": null,
      "metadata": {
        "collapsed": false
      },
      "outputs": [],
      "source": [
        "mne.write_events('example-eve.fif', events_1)"
      ]
    }
  ],
  "metadata": {
    "kernelspec": {
      "display_name": "Python 3",
      "language": "python",
      "name": "python3"
    },
    "language_info": {
      "codemirror_mode": {
        "name": "ipython",
        "version": 3
      },
      "file_extension": ".py",
      "mimetype": "text/x-python",
      "name": "python",
      "nbconvert_exporter": "python",
      "pygments_lexer": "ipython3",
      "version": "3.7.4"
    }
  },
  "nbformat": 4,
  "nbformat_minor": 0
}