{
  "cells": [
    {
      "cell_type": "code",
      "execution_count": null,
      "metadata": {
        "collapsed": false
      },
      "outputs": [],
      "source": [
        "%matplotlib inline"
      ]
    },
    {
      "cell_type": "markdown",
      "metadata": {},
      "source": [
        "\n# Configuring MNE python\n\n\nThis tutorial gives a short introduction to MNE configurations.\n"
      ]
    },
    {
      "cell_type": "code",
      "execution_count": null,
      "metadata": {
        "collapsed": false
      },
      "outputs": [],
      "source": [
        "import os.path as op\n\nimport mne\nfrom mne.datasets.sample import data_path\n\nfname = op.join(data_path(), 'MEG', 'sample', 'sample_audvis_raw.fif')\nraw = mne.io.read_raw_fif(fname).crop(0, 10)\noriginal_level = mne.get_config('MNE_LOGGING_LEVEL', 'INFO')"
      ]
    },
    {
      "cell_type": "markdown",
      "metadata": {},
      "source": [
        "MNE-python stores configurations to a folder called `.mne` in the user's\nhome directory, or to AppData directory on Windows. The path to the config\nfile can be found out by calling :func:`mne.get_config_path`.\n\n"
      ]
    },
    {
      "cell_type": "code",
      "execution_count": null,
      "metadata": {
        "collapsed": false
      },
      "outputs": [],
      "source": [
        "print(mne.get_config_path())"
      ]
    },
    {
      "cell_type": "markdown",
      "metadata": {},
      "source": [
        "These configurations include information like sample data paths and plotter\nwindow sizes. Files inside this folder should never be modified manually.\nLet's see what the configurations contain.\n\n"
      ]
    },
    {
      "cell_type": "code",
      "execution_count": null,
      "metadata": {
        "collapsed": false
      },
      "outputs": [],
      "source": [
        "print(mne.get_config())"
      ]
    },
    {
      "cell_type": "markdown",
      "metadata": {},
      "source": [
        "We see fields like \"MNE_DATASETS_SAMPLE_PATH\". As the name suggests, this is\nthe path the sample data is downloaded to. All the fields in the\nconfiguration file can be modified by calling :func:`mne.set_config`.\n\n"
      ]
    },
    {
      "cell_type": "markdown",
      "metadata": {},
      "source": [
        "\nLogging\n=======\nConfigurations also include the default logging level for the functions. This\nfield is called \"MNE_LOGGING_LEVEL\".\n\n"
      ]
    },
    {
      "cell_type": "code",
      "execution_count": null,
      "metadata": {
        "collapsed": false
      },
      "outputs": [],
      "source": [
        "mne.set_config('MNE_LOGGING_LEVEL', 'INFO')\nprint(mne.get_config(key='MNE_LOGGING_LEVEL'))"
      ]
    },
    {
      "cell_type": "markdown",
      "metadata": {},
      "source": [
        "The default value is now set to INFO. This level will now be used by default\nevery time we call a function in MNE. We can set the global logging level for\nonly this session by calling :func:`mne.set_log_level` function.\n\n"
      ]
    },
    {
      "cell_type": "code",
      "execution_count": null,
      "metadata": {
        "collapsed": false
      },
      "outputs": [],
      "source": [
        "mne.set_log_level('WARNING')\nprint(mne.get_config(key='MNE_LOGGING_LEVEL'))"
      ]
    },
    {
      "cell_type": "markdown",
      "metadata": {},
      "source": [
        "Notice how the value in the config file was not changed. Logging level of\nWARNING only applies for this session. Let's see what logging level of\nWARNING prints for :func:`mne.compute_raw_covariance`.\n\n"
      ]
    },
    {
      "cell_type": "code",
      "execution_count": null,
      "metadata": {
        "collapsed": false
      },
      "outputs": [],
      "source": [
        "cov_raw = mne.compute_raw_covariance(raw)"
      ]
    },
    {
      "cell_type": "markdown",
      "metadata": {},
      "source": [
        "Nothing. This means that no warnings were emitted during the computation. If\nyou look at the documentation of :func:`mne.compute_raw_covariance`, you\nnotice the ``verbose`` keyword. Setting this parameter does not touch the\nconfigurations, but sets the logging level for just this one function call.\nLet's see what happens with logging level of INFO.\n\n"
      ]
    },
    {
      "cell_type": "code",
      "execution_count": null,
      "metadata": {
        "collapsed": false
      },
      "outputs": [],
      "source": [
        "cov = mne.compute_raw_covariance(raw, verbose=True)"
      ]
    },
    {
      "cell_type": "markdown",
      "metadata": {},
      "source": [
        "As you see there is some info about what the function is doing. The logging\nlevel can be set to 'DEBUG', 'INFO', 'WARNING', 'ERROR' or 'CRITICAL'. It can\nalso be set to an integer or a boolean value. The correspondence to string\nvalues can be seen in the table below. ``verbose=None`` uses the default\nvalue from the configuration file.\n\n+----------+---------+---------+\n| String   | Integer | Boolean |\n+==========+=========+=========+\n| DEBUG    | 10      |         |\n+----------+---------+---------+\n| INFO     | 20      | True    |\n+----------+---------+---------+\n| WARNING  | 30      | False   |\n+----------+---------+---------+\n| ERROR    | 40      |         |\n+----------+---------+---------+\n| CRITICAL | 50      |         |\n+----------+---------+---------+\n\n"
      ]
    },
    {
      "cell_type": "code",
      "execution_count": null,
      "metadata": {
        "collapsed": false
      },
      "outputs": [],
      "source": [
        "mne.set_config('MNE_LOGGING_LEVEL', original_level)\nprint('Config value restored to: %s' % mne.get_config(key='MNE_LOGGING_LEVEL'))"
      ]
    }
  ],
  "metadata": {
    "kernelspec": {
      "display_name": "Python 3",
      "language": "python",
      "name": "python3"
    },
    "language_info": {
      "codemirror_mode": {
        "name": "ipython",
        "version": 3
      },
      "file_extension": ".py",
      "mimetype": "text/x-python",
      "name": "python",
      "nbconvert_exporter": "python",
      "pygments_lexer": "ipython3",
      "version": "3.7.4"
    }
  },
  "nbformat": 4,
  "nbformat_minor": 0
}