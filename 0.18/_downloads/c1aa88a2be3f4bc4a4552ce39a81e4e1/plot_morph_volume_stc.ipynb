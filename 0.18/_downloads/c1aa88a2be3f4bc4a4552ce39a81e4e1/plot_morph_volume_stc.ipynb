{
  "cells": [
    {
      "cell_type": "code",
      "execution_count": null,
      "metadata": {
        "collapsed": false
      },
      "outputs": [],
      "source": [
        "%matplotlib inline"
      ]
    },
    {
      "cell_type": "markdown",
      "metadata": {},
      "source": [
        "\n\n# Morph volumetric source estimate\n\n\nThis example demonstrates how to morph an individual subject's\n:class:`mne.VolSourceEstimate` to a common reference space. We achieve this\nusing :class:`mne.SourceMorph`. Pre-computed data will be morphed based on\nan affine transformation and a nonlinear registration method\nknown as Symmetric Diffeomorphic Registration (SDR) by Avants et al. [1]_.\n\nTransformation is estimated from the subject's anatomical T1 weighted MRI\n(brain) to `FreeSurfer's 'fsaverage' T1 weighted MRI (brain)\n<https://surfer.nmr.mgh.harvard.edu/fswiki/FsAverage>`__.\n\nAfterwards the transformation will be applied to the volumetric source\nestimate. The result will be plotted, showing the fsaverage T1 weighted\nanatomical MRI, overlaid with the morphed volumetric source estimate.\n\nReferences\n----------\n.. [1] Avants, B. B., Epstein, C. L., Grossman, M., & Gee, J. C. (2009).\n       Symmetric Diffeomorphic Image Registration with Cross- Correlation:\n       Evaluating Automated Labeling of Elderly and Neurodegenerative\n       Brain, 12(1), 26-41.\n\n<div class=\"alert alert-info\"><h4>Note</h4><p>For a tutorial about morphing see `ch_morph`.</p></div>\n"
      ]
    },
    {
      "cell_type": "code",
      "execution_count": null,
      "metadata": {
        "collapsed": false
      },
      "outputs": [],
      "source": [
        "# Author: Tommy Clausner <tommy.clausner@gmail.com>\n#\n# License: BSD (3-clause)\nimport os\n\nimport nibabel as nib\nimport mne\nfrom mne.datasets import sample\nfrom mne.minimum_norm import apply_inverse, read_inverse_operator\nfrom nilearn.plotting import plot_glass_brain\n\nprint(__doc__)"
      ]
    },
    {
      "cell_type": "markdown",
      "metadata": {},
      "source": [
        "Setup paths\n\n"
      ]
    },
    {
      "cell_type": "code",
      "execution_count": null,
      "metadata": {
        "collapsed": false
      },
      "outputs": [],
      "source": [
        "sample_dir_raw = sample.data_path()\nsample_dir = os.path.join(sample_dir_raw, 'MEG', 'sample')\nsubjects_dir = os.path.join(sample_dir_raw, 'subjects')\n\nfname_evoked = os.path.join(sample_dir, 'sample_audvis-ave.fif')\nfname_inv = os.path.join(sample_dir, 'sample_audvis-meg-vol-7-meg-inv.fif')\n\nfname_t1_fsaverage = os.path.join(subjects_dir, 'fsaverage', 'mri',\n                                  'brain.mgz')"
      ]
    },
    {
      "cell_type": "markdown",
      "metadata": {},
      "source": [
        "Compute example data. For reference see\n`sphx_glr_auto_examples_inverse_plot_compute_mne_inverse_volume.py`\n\nLoad data:\n\n"
      ]
    },
    {
      "cell_type": "code",
      "execution_count": null,
      "metadata": {
        "collapsed": false
      },
      "outputs": [],
      "source": [
        "evoked = mne.read_evokeds(fname_evoked, condition=0, baseline=(None, 0))\ninverse_operator = read_inverse_operator(fname_inv)\n\n# Apply inverse operator\nstc = apply_inverse(evoked, inverse_operator, 1.0 / 3.0 ** 2, \"dSPM\")\n\n# To save time\nstc.crop(0.09, 0.09)"
      ]
    },
    {
      "cell_type": "markdown",
      "metadata": {},
      "source": [
        "Get a SourceMorph object for VolSourceEstimate\n----------------------------------------------\n\n``subject_from`` can typically be inferred from\n:class:`src <mne.SourceSpaces>`,\nand ``subject_to`` is  set to 'fsaverage' by default. ``subjects_dir`` can be\nNone when set in the environment. In that case SourceMorph can be initialized\ntaking ``src`` as only argument. See :class:`mne.SourceMorph` for more\ndetails.\n\nThe default parameter setting for *spacing* will cause the reference volumes\nto be resliced before computing the transform. A value of '5' would cause\nthe function to reslice to an isotropic voxel size of 5 mm. The higher this\nvalue the less accurate but faster the computation will be.\n\nA standard usage for volumetric data reads:\n\n"
      ]
    },
    {
      "cell_type": "code",
      "execution_count": null,
      "metadata": {
        "collapsed": false
      },
      "outputs": [],
      "source": [
        "morph = mne.compute_source_morph(inverse_operator['src'],\n                                 subject_from='sample', subject_to='fsaverage',\n                                 subjects_dir=subjects_dir)"
      ]
    },
    {
      "cell_type": "markdown",
      "metadata": {},
      "source": [
        "Apply morph to VolSourceEstimate\n--------------------------------\n\nThe morph can be applied to the source estimate data, by giving it as the\nfirst argument to the :meth:`morph.apply() <mne.SourceMorph.apply>` method:\n\n"
      ]
    },
    {
      "cell_type": "code",
      "execution_count": null,
      "metadata": {
        "collapsed": false
      },
      "outputs": [],
      "source": [
        "stc_fsaverage = morph.apply(stc)"
      ]
    },
    {
      "cell_type": "markdown",
      "metadata": {},
      "source": [
        "Convert morphed VolSourceEstimate into NIfTI\n--------------------------------------------\n\nWe can convert our morphed source estimate into a NIfTI volume using\n:meth:`morph.apply(..., output='nifti1') <mne.SourceMorph.apply>`.\n\n"
      ]
    },
    {
      "cell_type": "code",
      "execution_count": null,
      "metadata": {
        "collapsed": false
      },
      "outputs": [],
      "source": [
        "# Create mri-resolution volume of results\nimg_fsaverage = morph.apply(stc, mri_resolution=2, output='nifti1')"
      ]
    },
    {
      "cell_type": "markdown",
      "metadata": {},
      "source": [
        "Plot results\n------------\n\n"
      ]
    },
    {
      "cell_type": "code",
      "execution_count": null,
      "metadata": {
        "collapsed": false
      },
      "outputs": [],
      "source": [
        "# Load fsaverage anatomical image\nt1_fsaverage = nib.load(fname_t1_fsaverage)\n\n# Plot glass brain (change to plot_anat to display an overlaid anatomical T1)\ndisplay = plot_glass_brain(t1_fsaverage,\n                           title='subject results to fsaverage',\n                           draw_cross=False,\n                           annotate=True)\n\n# Add functional data as overlay\ndisplay.add_overlay(img_fsaverage, alpha=0.75)"
      ]
    },
    {
      "cell_type": "markdown",
      "metadata": {},
      "source": [
        "Reading and writing SourceMorph from and to disk\n------------------------------------------------\n\nAn instance of SourceMorph can be saved, by calling\n:meth:`morph.save <mne.SourceMorph.save>`.\n\nThis methods allows for specification of a filename under which the ``morph``\nwill be save in \".h5\" format. If no file extension is provided, \"-morph.h5\"\nwill be appended to the respective defined filename::\n\n    >>> morph.save('my-file-name')\n\nReading a saved source morph can be achieved by using\n:func:`mne.read_source_morph`::\n\n    >>> morph = mne.read_source_morph('my-file-name-morph.h5')\n\nOnce the environment is set up correctly, no information such as\n``subject_from`` or ``subjects_dir`` must be provided, since it can be\ninferred from the data and used morph to 'fsaverage' by default. SourceMorph\ncan further be used without creating an instance and assigning it to a\nvariable. Instead :func:`mne.compute_source_morph` and\n:meth:`mne.SourceMorph.apply` can be\neasily chained into a handy one-liner. Taking this together the shortest\npossible way to morph data directly would be:\n\n"
      ]
    },
    {
      "cell_type": "code",
      "execution_count": null,
      "metadata": {
        "collapsed": false
      },
      "outputs": [],
      "source": [
        "stc_fsaverage_new = mne.compute_source_morph(\n    inverse_operator['src'], subject_from='sample',\n    subjects_dir=subjects_dir).apply(stc)"
      ]
    }
  ],
  "metadata": {
    "kernelspec": {
      "display_name": "Python 3",
      "language": "python",
      "name": "python3"
    },
    "language_info": {
      "codemirror_mode": {
        "name": "ipython",
        "version": 3
      },
      "file_extension": ".py",
      "mimetype": "text/x-python",
      "name": "python",
      "nbconvert_exporter": "python",
      "pygments_lexer": "ipython3",
      "version": "3.7.4"
    }
  },
  "nbformat": 4,
  "nbformat_minor": 0
}