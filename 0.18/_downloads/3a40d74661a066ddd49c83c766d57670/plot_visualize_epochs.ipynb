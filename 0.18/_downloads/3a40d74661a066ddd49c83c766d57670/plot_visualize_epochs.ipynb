{
  "cells": [
    {
      "cell_type": "code",
      "execution_count": null,
      "metadata": {
        "collapsed": false
      },
      "outputs": [],
      "source": [
        "%matplotlib inline"
      ]
    },
    {
      "cell_type": "markdown",
      "metadata": {},
      "source": [
        "\n\nVisualize Epochs data\n=====================\n"
      ]
    },
    {
      "cell_type": "code",
      "execution_count": null,
      "metadata": {
        "collapsed": false
      },
      "outputs": [],
      "source": [
        "# sphinx_gallery_thumbnail_number = 7\n\nimport os.path as op\n\nimport mne\n\ndata_path = op.join(mne.datasets.sample.data_path(), 'MEG', 'sample')\nraw = mne.io.read_raw_fif(\n    op.join(data_path, 'sample_audvis_raw.fif'), preload=True)\nraw.load_data().filter(None, 9, fir_design='firwin')\nraw.set_eeg_reference('average', projection=True)  # set EEG average reference\nevent_id = {'auditory/left': 1, 'auditory/right': 2, 'visual/left': 3,\n            'visual/right': 4, 'smiley': 5, 'button': 32}\nevents = mne.read_events(op.join(data_path, 'sample_audvis_raw-eve.fif'))\nepochs = mne.Epochs(raw, events, event_id=event_id, tmin=-0.2, tmax=.5)"
      ]
    },
    {
      "cell_type": "markdown",
      "metadata": {},
      "source": [
        "This tutorial focuses on visualization of epoched data. All of the functions\nintroduced here are basically high level matplotlib functions with built in\nintelligence to work with epoched data. All the methods return a handle to\nmatplotlib figure instance.\n\nEvents used for constructing the epochs here are the triggers for subject\nbeing presented a smiley face at the center of the visual field. More of the\nparadigm at `BABDHIFJ`.\n\nAll plotting functions start with ``plot``. Let's start with the most\nobvious. :func:`mne.Epochs.plot` offers an interactive browser that allows\nrejection by hand when called in combination with a keyword ``block=True``.\nThis blocks the execution of the script until the browser window is closed.\n\n"
      ]
    },
    {
      "cell_type": "code",
      "execution_count": null,
      "metadata": {
        "collapsed": false
      },
      "outputs": [],
      "source": [
        "epochs.plot(block=True)"
      ]
    },
    {
      "cell_type": "markdown",
      "metadata": {},
      "source": [
        "The numbers at the top refer to the event id of the epoch. The number at the\nbottom is the running numbering for the epochs.\n\nSince we did no artifact correction or rejection, there are epochs\ncontaminated with blinks and saccades. For instance, epoch number 1 seems to\nbe contaminated by a blink (scroll to the bottom to view the EOG channel).\nThis epoch can be marked for rejection by clicking on top of the browser\nwindow. The epoch should turn red when you click it. This means that it will\nbe dropped as the browser window is closed.\n\nIt is possible to plot event markers on epoched data by passing ``events``\nkeyword to the epochs plotter. The events are plotted as vertical lines and\nthey follow the same coloring scheme as :func:`mne.viz.plot_events`. The\nevents plotter gives you all the events with a rough idea of the timing.\nSince the colors are the same, the event plotter can also function as a\nlegend for the epochs plotter events. It is also possible to pass your own\ncolors via ``event_colors`` keyword. Here we can plot the reaction times\nbetween seeing the smiley face and the button press (event 32).\n\nWhen events are passed, the epoch numbering at the bottom is switched off by\ndefault to avoid overlaps. You can turn it back on via settings dialog by\npressing `o` key. You should check out `help` at the lower left corner of the\nwindow for more information about the interactive features.\n\n"
      ]
    },
    {
      "cell_type": "code",
      "execution_count": null,
      "metadata": {
        "collapsed": false
      },
      "outputs": [],
      "source": [
        "events = mne.pick_events(events, include=[5, 32])\nmne.viz.plot_events(events)\nepochs['smiley'].plot(events=events)"
      ]
    },
    {
      "cell_type": "markdown",
      "metadata": {},
      "source": [
        "To plot individual channels as an image, where you see all the epochs at one\nglance, you can use function :func:`mne.Epochs.plot_image`. It shows the\namplitude of the signal over all the epochs plus an average (evoked response)\nof the activation. We explicitly set interactive colorbar on (it is also on\nby default for plotting functions with a colorbar except the topo plots). In\ninteractive mode you can scale and change the colormap with mouse scroll and\nup/down arrow keys. You can also drag the colorbar with left/right mouse\nbutton. Hitting space bar resets the scale.\n\n"
      ]
    },
    {
      "cell_type": "code",
      "execution_count": null,
      "metadata": {
        "collapsed": false
      },
      "outputs": [],
      "source": [
        "epochs.plot_image(278, cmap='interactive', sigma=1., vmin=-250, vmax=250)"
      ]
    },
    {
      "cell_type": "markdown",
      "metadata": {},
      "source": [
        "We can also give an overview of all channels by calculating  the global\nfield power (or other other aggregation methods). However, combining\nmultiple channel types (e.g., MEG and EEG) in this way is not sensible.\nInstead, we can use the ``group_by`` parameter. Setting ``group_by`` to\n'type' combines channels by type.\n``group_by`` can also be used to group channels into arbitrary groups, e.g.\nregions of interests, by providing a dictionary containing\ngroup name -> channel indices mappings.\n\n"
      ]
    },
    {
      "cell_type": "code",
      "execution_count": null,
      "metadata": {
        "collapsed": false
      },
      "outputs": [],
      "source": [
        "epochs.plot_image(combine='gfp', group_by='type', sigma=2., cmap=\"YlGnBu_r\")"
      ]
    },
    {
      "cell_type": "markdown",
      "metadata": {},
      "source": [
        "You also have functions for plotting channelwise information arranged into a\nshape of the channel array. The image plotting uses automatic scaling by\ndefault, but noisy channels and different channel types can cause the scaling\nto be a bit off. Here we define the limits by hand.\n\n"
      ]
    },
    {
      "cell_type": "code",
      "execution_count": null,
      "metadata": {
        "collapsed": false
      },
      "outputs": [],
      "source": [
        "epochs.plot_topo_image(vmin=-250, vmax=250, title='ERF images', sigma=2.,\n                       fig_facecolor='w', font_color='k')"
      ]
    }
  ],
  "metadata": {
    "kernelspec": {
      "display_name": "Python 3",
      "language": "python",
      "name": "python3"
    },
    "language_info": {
      "codemirror_mode": {
        "name": "ipython",
        "version": 3
      },
      "file_extension": ".py",
      "mimetype": "text/x-python",
      "name": "python",
      "nbconvert_exporter": "python",
      "pygments_lexer": "ipython3",
      "version": "3.7.4"
    }
  },
  "nbformat": 4,
  "nbformat_minor": 0
}