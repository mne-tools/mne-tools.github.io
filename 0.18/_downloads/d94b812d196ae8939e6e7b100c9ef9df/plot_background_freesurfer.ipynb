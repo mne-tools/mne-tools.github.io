{
  "cells": [
    {
      "cell_type": "code",
      "execution_count": null,
      "metadata": {
        "collapsed": false
      },
      "outputs": [],
      "source": [
        "%matplotlib inline"
      ]
    },
    {
      "cell_type": "markdown",
      "metadata": {},
      "source": [
        "\n\n# FreeSurfer integration with MNE-Python\n\n\nFreeSurfer is an open source analysis toolbox for MRI data. It contains several\ncommand line tools and graphical user interfaces. FreeSurfer can be obtained\nfrom https://surfer.nmr.mgh.harvard.edu/\n\nIn MNE, FreeSurfer is used to provide structural information of various\nkinds, for `source estimation <tut-inverse-methods>`. Thereby a\nsubject specific structural MRI will be used to obtain various structural\nrepresentations like spherical or inflated brain surfaces. Furthermore features\nlike curvature as well as various labels for areas of interest (such as V1) are\ncomputed.\n\nThus FreeSurfer provides an easy way to shift anatomically related\ndata between different representations and spaces. See e.g.\n`ch_morph` for information about how to\nuse FreeSurfer surface representations to allow functional data to morph\nbetween different subjects.\n\nFirst steps\n===========\n\nAfter downloading and installing, the environment needs to be set up correctly.\nThis can be done by setting the FreeSurfer's root directory correctly and\nsourcing the setup file::\n\n    $ export FREESURFER_HOME=/path/to/FreeSurfer\n    $ source $FREESURFER_HOME/SetUpFreeSurfer.sh\n\n<div class=\"alert alert-info\"><h4>Note</h4><p>The FreeSurfer home directory might vary depending on your operating\n    system. See the `FreeSurfer installation guide\n    <https://surfer.nmr.mgh.harvard.edu/fswiki/DownloadAndInstall>`_ for more.</p></div>\n\nAnother important step is to define the subject directory correctly.\n``SUBJECTS_DIR`` must be defined such, that it contains the individual\nsubject's reconstructions in separate sub-folders. Those sub-folders will be\ncreated upon the reconstruction of the anatomical data. Nevertheless the parent\ndirectory has to be set beforehand::\n\n    $ export SUBJECTS_DIR=~/subjects\n\nAgain see the `FreeSurfer installation guide\n<https://surfer.nmr.mgh.harvard.edu/fswiki/DownloadAndInstall>`_ for more.\n\nOnce setup correctly, FreeSurfer will create a new subject folder in\n``$SUBJECTS_DIR``.\n\nAnatomical reconstruction\n=========================\n\nMNE-Python works together with FreeSurfer in order to compute the forward model\nand setting up the corresponding :class:`source space <mne.SourceSpaces>`. See\n`setting_up_source_space` for more information. Usually a full FreeSurfer\nreconstruction is obtained by prompting the following command to a bash\nconsole (e.g. Linux or MacOS Terminal)::\n\n    $ my_subject=sample\n    $ my_NIfTI=/path/to/NIfTI.nii.gz\n    $ recon-all -i $my_NIfTI -s $my_subject -all\n\n, where $i$ stands for \"input\" and $s$ for \"subject\". Executing\nthis, will create the folder \"~/subjects/sample\", where all\nresults are stored.\n\n<div class=\"alert alert-info\"><h4>Note</h4><p>This compution takes often several hours. Please be patient.</p></div>\n\nWithin a single subject all the files MNE-Python uses (and some more) are\ngrouped into meaningful sub-folders (such that \"surf\" contains surface\nrepresentations, \"mri\" volumetric files, etc.).\n\nFreeSurfer performs a hemispheric separation and most results are present\nin a left and right hemisphere version. This is often indicated by the\nprefix ``lh`` or ``rh`` to refer to the aforementioned. For that reason\ndata representations such as :class:`mne.SourceEstimate` carry two sets of\nspatial locations (vertices) for both hemispheres separately. See also\n`tut-source-estimate-class`.\n\n'fsaverage'\n===========\n\nDuring installation, FreeSurfer copies a \"default\" subject, called\n``'fsaverage'`` to ``$FREESURFER_HOME/subjects/fsaverage``. It contains all\ndata types that a subject reconstruction would yield and is required by\nMNE-Python.\n\nSee https://surfer.nmr.mgh.harvard.edu/fswiki/FsAverage for more\ninformation. Furthermore a copy of 'fsaverage' can be found in\n`ch_sample_data`.\n\nWhen using ``'fsaverage'`` as value for the definition\nof a subject when calling a function, the corresponding data will be read (e.g.\n``subject='fsaverage'``) from '~/subjects/fsaverage'. This becomes especially\nhandy, when attempting statistical analyses on group level, based on\nindividual's brain space data. In that case ``'fsaverage'`` will by default act\nas reference space for `source estimate transformations <ch_morph>`.\n\nUse with MNE-Python\n===================\n\nFor source localization analyses to work properly, it is important, that the\nFreeSurfer reconstruction has completed beforehand. Furthermore, when using\nrelated functions, such as :func:`mne.setup_source_space`, ``SUBJECTS_DIR`` has\nto be defined either globally by setting :func:`mne.set_config` or for\neach function separately, by passing the respective keyword argument\n``subjects_dir='~/subjects'``. See also `setting_up_source_space` to get\nan idea of how this works.\n"
      ]
    }
  ],
  "metadata": {
    "kernelspec": {
      "display_name": "Python 3",
      "language": "python",
      "name": "python3"
    },
    "language_info": {
      "codemirror_mode": {
        "name": "ipython",
        "version": 3
      },
      "file_extension": ".py",
      "mimetype": "text/x-python",
      "name": "python",
      "nbconvert_exporter": "python",
      "pygments_lexer": "ipython3",
      "version": "3.7.4"
    }
  },
  "nbformat": 4,
  "nbformat_minor": 0
}