{
  "cells": [
    {
      "cell_type": "code",
      "execution_count": null,
      "metadata": {
        "collapsed": false
      },
      "outputs": [],
      "source": [
        "%matplotlib inline"
      ]
    },
    {
      "cell_type": "markdown",
      "metadata": {},
      "source": [
        "\n\n# Plotting topographic maps of evoked data\n\n\nLoad evoked data and plot topomaps for selected time points using multiple\nadditional options.\n"
      ]
    },
    {
      "cell_type": "code",
      "execution_count": null,
      "metadata": {
        "collapsed": false
      },
      "outputs": [],
      "source": [
        "# Authors: Christian Brodbeck <christianbrodbeck@nyu.edu>\n#          Tal Linzen <linzen@nyu.edu>\n#          Denis A. Engeman <denis.engemann@gmail.com>\n#          Miko\u0142aj Magnuski <mmagnuski@swps.edu.pl>\n#\n# License: BSD (3-clause)\n# sphinx_gallery_thumbnail_number = 5\n\nimport numpy as np\nimport matplotlib.pyplot as plt\nfrom mne.datasets import sample\nfrom mne import read_evokeds\n\nprint(__doc__)\n\npath = sample.data_path()\nfname = path + '/MEG/sample/sample_audvis-ave.fif'\n\n# load evoked corresponding to a specific condition\n# from the fif file and subtract baseline\ncondition = 'Left Auditory'\nevoked = read_evokeds(fname, condition=condition, baseline=(None, 0))"
      ]
    },
    {
      "cell_type": "markdown",
      "metadata": {},
      "source": [
        "Basic `plot_topomap` options\n----------------------------\n\nWe plot evoked topographies using :func:`mne.Evoked.plot_topomap`. The first\nargument, ``times`` allows to specify time instants (in seconds!) for which\ntopographies will be shown. We select timepoints from 50 to 150 ms with a\nstep of 20ms and plot magnetometer data:\n\n"
      ]
    },
    {
      "cell_type": "code",
      "execution_count": null,
      "metadata": {
        "collapsed": false
      },
      "outputs": [],
      "source": [
        "times = np.arange(0.05, 0.151, 0.02)\nevoked.plot_topomap(times, ch_type='mag', time_unit='s')"
      ]
    },
    {
      "cell_type": "markdown",
      "metadata": {},
      "source": [
        "If times is set to None at most 10 regularly spaced topographies will be\nshown:\n\n"
      ]
    },
    {
      "cell_type": "code",
      "execution_count": null,
      "metadata": {
        "collapsed": false
      },
      "outputs": [],
      "source": [
        "evoked.plot_topomap(ch_type='mag', time_unit='s')"
      ]
    },
    {
      "cell_type": "markdown",
      "metadata": {},
      "source": [
        "Instead of showing topographies at specific time points we can compute\naverages of 50 ms bins centered on these time points to reduce the noise in\nthe topographies:\n\n"
      ]
    },
    {
      "cell_type": "code",
      "execution_count": null,
      "metadata": {
        "collapsed": false
      },
      "outputs": [],
      "source": [
        "evoked.plot_topomap(times, ch_type='mag', average=0.05, time_unit='s')"
      ]
    },
    {
      "cell_type": "markdown",
      "metadata": {},
      "source": [
        "We can plot gradiometer data (plots the RMS for each pair of gradiometers)\n\n"
      ]
    },
    {
      "cell_type": "code",
      "execution_count": null,
      "metadata": {
        "collapsed": false
      },
      "outputs": [],
      "source": [
        "evoked.plot_topomap(times, ch_type='grad', time_unit='s')"
      ]
    },
    {
      "cell_type": "markdown",
      "metadata": {},
      "source": [
        "Additional `plot_topomap` options\n---------------------------------\n\nWe can also use a range of various :func:`mne.viz.plot_topomap` arguments\nthat control how the topography is drawn. For example:\n\n* ``cmap`` - to specify the color map\n* ``res`` - to control the resolution of the topographies (lower resolution\n  means faster plotting)\n* ``outlines='skirt'`` to see the topography stretched beyond the head circle\n* ``contours`` to define how many contour lines should be plotted\n\n"
      ]
    },
    {
      "cell_type": "code",
      "execution_count": null,
      "metadata": {
        "collapsed": false
      },
      "outputs": [],
      "source": [
        "evoked.plot_topomap(times, ch_type='mag', cmap='Spectral_r', res=32,\n                    outlines='skirt', contours=4, time_unit='s')"
      ]
    },
    {
      "cell_type": "markdown",
      "metadata": {},
      "source": [
        "If you look at the edges of the head circle of a single topomap you'll see\nthe effect of extrapolation. By default ``extrapolate='box'`` is used which\nextrapolates to a large box stretching beyond the head circle.\nCompare this with ``extrapolate='head'`` (second topography below) where\nextrapolation goes to 0 at the head circle and ``extrapolate='local'`` where\nextrapolation is performed only within some distance from channels:\n\n"
      ]
    },
    {
      "cell_type": "code",
      "execution_count": null,
      "metadata": {
        "collapsed": false
      },
      "outputs": [],
      "source": [
        "extrapolations = ['box', 'head', 'local']\nfig, axes = plt.subplots(figsize=(7.5, 2.5), ncols=3)\n\nfor ax, extr in zip(axes, extrapolations):\n    evoked.plot_topomap(0.1, ch_type='mag', size=2, extrapolate=extr, axes=ax,\n                        show=False, colorbar=False)\n    ax.set_title(extr, fontsize=14)"
      ]
    },
    {
      "cell_type": "markdown",
      "metadata": {},
      "source": [
        "More advanced usage\n-------------------\n\nNow we plot magnetometer data as topomap at a single time point: 100 ms\npost-stimulus, add channel labels, title and adjust plot margins:\n\n"
      ]
    },
    {
      "cell_type": "code",
      "execution_count": null,
      "metadata": {
        "collapsed": false
      },
      "outputs": [],
      "source": [
        "evoked.plot_topomap(0.1, ch_type='mag', show_names=True, colorbar=False,\n                    size=6, res=128, title='Auditory response',\n                    time_unit='s')\nplt.subplots_adjust(left=0.01, right=0.99, bottom=0.01, top=0.88)"
      ]
    },
    {
      "cell_type": "markdown",
      "metadata": {},
      "source": [
        "Animating the topomap\n---------------------\n\nInstead of using a still image we can plot magnetometer data as an animation\n(animates only in matplotlib interactive mode)\n\n"
      ]
    },
    {
      "cell_type": "code",
      "execution_count": null,
      "metadata": {
        "collapsed": false
      },
      "outputs": [],
      "source": [
        "evoked.animate_topomap(ch_type='mag', times=times, frame_rate=10,\n                       time_unit='s')"
      ]
    }
  ],
  "metadata": {
    "kernelspec": {
      "display_name": "Python 3",
      "language": "python",
      "name": "python3"
    },
    "language_info": {
      "codemirror_mode": {
        "name": "ipython",
        "version": 3
      },
      "file_extension": ".py",
      "mimetype": "text/x-python",
      "name": "python",
      "nbconvert_exporter": "python",
      "pygments_lexer": "ipython3",
      "version": "3.7.4"
    }
  },
  "nbformat": 4,
  "nbformat_minor": 0
}