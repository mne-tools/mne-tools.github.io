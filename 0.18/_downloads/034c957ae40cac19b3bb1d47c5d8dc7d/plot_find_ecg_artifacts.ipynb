{
  "cells": [
    {
      "cell_type": "code",
      "execution_count": null,
      "metadata": {
        "collapsed": false
      },
      "outputs": [],
      "source": [
        "%matplotlib inline"
      ]
    },
    {
      "cell_type": "markdown",
      "metadata": {},
      "source": [
        "\n# Find ECG artifacts\n\n\nLocate QRS component of ECG.\n"
      ]
    },
    {
      "cell_type": "code",
      "execution_count": null,
      "metadata": {
        "collapsed": false
      },
      "outputs": [],
      "source": [
        "# Authors: Alexandre Gramfort <alexandre.gramfort@telecom-paristech.fr>\n#\n# License: BSD (3-clause)\n\n\nimport numpy as np\nimport matplotlib.pyplot as plt\n\nimport mne\nfrom mne import io\nfrom mne.datasets import sample\n\nprint(__doc__)\n\ndata_path = sample.data_path()"
      ]
    },
    {
      "cell_type": "markdown",
      "metadata": {},
      "source": [
        "Set parameters\n\n"
      ]
    },
    {
      "cell_type": "code",
      "execution_count": null,
      "metadata": {
        "collapsed": false
      },
      "outputs": [],
      "source": [
        "raw_fname = data_path + '/MEG/sample/sample_audvis_raw.fif'\n\n# Setup for reading the raw data\nraw = io.read_raw_fif(raw_fname)\n\nevent_id = 999\necg_events, _, _ = mne.preprocessing.find_ecg_events(raw, event_id,\n                                                     ch_name='MEG 1531')\n\n# Read epochs\npicks = mne.pick_types(raw.info, meg=False, eeg=False, stim=False, eog=False,\n                       include=['MEG 1531'], exclude='bads')\ntmin, tmax = -0.1, 0.1\nraw.del_proj()\nepochs = mne.Epochs(raw, ecg_events, event_id, tmin, tmax, picks=picks)\ndata = epochs.get_data()\n\nprint(\"Number of detected ECG artifacts : %d\" % len(data))"
      ]
    },
    {
      "cell_type": "markdown",
      "metadata": {},
      "source": [
        "Plot ECG artifacts\n\n"
      ]
    },
    {
      "cell_type": "code",
      "execution_count": null,
      "metadata": {
        "collapsed": false
      },
      "outputs": [],
      "source": [
        "plt.plot(1e3 * epochs.times, np.squeeze(data).T)\nplt.xlabel('Times (ms)')\nplt.ylabel('ECG')\nplt.show()"
      ]
    }
  ],
  "metadata": {
    "kernelspec": {
      "display_name": "Python 3",
      "language": "python",
      "name": "python3"
    },
    "language_info": {
      "codemirror_mode": {
        "name": "ipython",
        "version": 3
      },
      "file_extension": ".py",
      "mimetype": "text/x-python",
      "name": "python",
      "nbconvert_exporter": "python",
      "pygments_lexer": "ipython3",
      "version": "3.7.4"
    }
  },
  "nbformat": 4,
  "nbformat_minor": 0
}