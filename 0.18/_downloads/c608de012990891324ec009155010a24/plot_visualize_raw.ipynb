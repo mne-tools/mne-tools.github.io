{
  "cells": [
    {
      "cell_type": "code",
      "execution_count": null,
      "metadata": {
        "collapsed": false
      },
      "outputs": [],
      "source": [
        "%matplotlib inline"
      ]
    },
    {
      "cell_type": "markdown",
      "metadata": {},
      "source": [
        "\n\nVisualize Raw data\n==================\n"
      ]
    },
    {
      "cell_type": "code",
      "execution_count": null,
      "metadata": {
        "collapsed": false
      },
      "outputs": [],
      "source": [
        "import os.path as op\nimport numpy as np\n\nimport mne\n\ndata_path = op.join(mne.datasets.sample.data_path(), 'MEG', 'sample')\nraw = mne.io.read_raw_fif(op.join(data_path, 'sample_audvis_raw.fif'),\n                          preload=True)\nraw.set_eeg_reference('average', projection=True)  # set EEG average reference"
      ]
    },
    {
      "cell_type": "markdown",
      "metadata": {},
      "source": [
        "The visualization module (:mod:`mne.viz`) contains all the plotting functions\nthat work in combination with MNE data structures. Usually the easiest way to\nuse them is to call a method of the data container. All of the plotting\nmethod names start with ``plot``. If you're using Ipython console, you can\njust write ``raw.plot`` and ask the interpreter for suggestions with a\n``tab`` key.\n\nTo visually inspect your raw data, you can use the python equivalent of\n``mne_browse_raw``.\n\n"
      ]
    },
    {
      "cell_type": "code",
      "execution_count": null,
      "metadata": {
        "collapsed": false
      },
      "outputs": [],
      "source": [
        "raw.plot(block=True, lowpass=40)"
      ]
    },
    {
      "cell_type": "markdown",
      "metadata": {},
      "source": [
        "The channels are color coded by channel type. Generally MEG channels are\ncolored in different shades of blue, whereas EEG channels are black. The\nscrollbar on right side of the browser window also tells us that two of the\nchannels are marked as ``bad``. Bad channels are color coded gray. By\nclicking the lines or channel names on the left, you can mark or unmark a bad\nchannel interactively. You can use +/- keys to adjust the scale (also = works\nfor magnifying the data). Note that the initial scaling factors can be set\nwith parameter ``scalings``. If you don't know the scaling factor for\nchannels, you can automatically set them by passing scalings='auto'. With\n``pageup/pagedown`` and ``home/end`` keys you can adjust the amount of data\nviewed at once.\n\nDrawing annotations\n-------------------\n\nYou can enter annotation mode by pressing ``a`` key. In annotation mode you\ncan mark segments of data (and modify existing annotations) with the left\nmouse button. You can use the description of any existing annotation or\ncreate a new description by typing when the annotation dialog is active.\nNotice that the description starting with the keyword ``'bad'`` means that\nthe segment will be discarded when epoching the data. Existing annotations\ncan be deleted with the right mouse button.  Annotation mode is exited by\npressing ``a`` again or closing the annotation window. See also\n:class:`mne.Annotations` and `marking_bad_segments`. To see all the\ninteractive features, hit ``?`` key or click ``help`` in the lower left\ncorner of the browser window.\n\n<div class=\"alert alert-danger\"><h4>Warning</h4><p>Annotations are modified in-place immediately at run-time.\n             Deleted annotations cannot be retrieved after deletion.</p></div>\n\nThe channels are sorted by channel type by default. You can use the\n``group_by`` parameter of :func:`raw.plot <mne.io.Raw.plot>` to group the\nchannels in a different way. ``group_by='selection'`` uses the same channel\ngroups as MNE-C's mne_browse_raw (see `CACCJEJD`). The selections are\ndefined in ``mne-python/mne/data/mne_analyze.sel`` and by modifying the\nchannels there, you can define your own selection groups. Notice that this\nalso affects the selections returned by :func:`mne.read_selection`. By\ndefault the selections only work for Neuromag data, but\n``group_by='position'`` tries to mimic this behavior for any data with sensor\npositions available. The channels are grouped by sensor positions to 8 evenly\nsized regions. Notice that for this to work effectively, all the data\nchannels in the channel array must be present. The ``order`` parameter allows\nto customize the order and select a subset of channels for plotting (picks).\nHere we use the butterfly mode and group the channels by position. To toggle\nbetween regular and butterfly modes, press 'b' key when the plotter window is\nactive. Notice that ``group_by`` also affects the channel groupings in\nbutterfly mode.\n\n"
      ]
    },
    {
      "cell_type": "code",
      "execution_count": null,
      "metadata": {
        "collapsed": false
      },
      "outputs": [],
      "source": [
        "raw.plot(butterfly=True, group_by='position')"
      ]
    },
    {
      "cell_type": "markdown",
      "metadata": {},
      "source": [
        "We can read events from a file (or extract them from the trigger channel)\nand pass them as a parameter when calling the method. The events are plotted\nas vertical lines so you can see how they align with the raw data.\n\nWe can also pass a corresponding \"event_id\" to transform the event\ntrigger integers to strings.\n\n"
      ]
    },
    {
      "cell_type": "code",
      "execution_count": null,
      "metadata": {
        "collapsed": false
      },
      "outputs": [],
      "source": [
        "events = mne.read_events(op.join(data_path, 'sample_audvis_raw-eve.fif'))\nevent_id = {'A/L': 1, 'A/R': 2, 'V/L': 3, 'V/R': 4, 'S': 5, 'B': 32}\nraw.plot(butterfly=True, events=events, event_id=event_id)"
      ]
    },
    {
      "cell_type": "markdown",
      "metadata": {},
      "source": [
        "We can check where the channels reside with ``plot_sensors``. Notice that\nthis method (along with many other MNE plotting functions) is callable using\nany MNE data container where the channel information is available.\n\n"
      ]
    },
    {
      "cell_type": "code",
      "execution_count": null,
      "metadata": {
        "collapsed": false
      },
      "outputs": [],
      "source": [
        "raw.plot_sensors(kind='3d', ch_type='mag', ch_groups='position')"
      ]
    },
    {
      "cell_type": "markdown",
      "metadata": {},
      "source": [
        "We used ``ch_groups='position'`` to color code the different regions. It uses\nthe same algorithm for dividing the regions as ``order='position'`` of\n:func:`raw.plot <mne.io.Raw.plot>`. You can also pass a list of picks to\ncolor any channel group with different colors.\n\nNow let's add some ssp projectors to the raw data. Here we read them from a\nfile and plot them.\n\n"
      ]
    },
    {
      "cell_type": "code",
      "execution_count": null,
      "metadata": {
        "collapsed": false
      },
      "outputs": [],
      "source": [
        "projs = mne.read_proj(op.join(data_path, 'sample_audvis_eog-proj.fif'))\nraw.add_proj(projs)\nraw.plot_projs_topomap()"
      ]
    },
    {
      "cell_type": "markdown",
      "metadata": {},
      "source": [
        "Note that the projections in ``raw.info['projs']`` can be visualized using\n:meth:`raw.plot_projs_topomap <mne.io.Raw.plot_projs_topomap>` or calling\n:func:`proj.plot_topomap <mne.Projection.plot_topomap>`\n\nmore examples can be found in\n`sphx_glr_auto_examples_io_plot_read_proj.py`\n\n"
      ]
    },
    {
      "cell_type": "code",
      "execution_count": null,
      "metadata": {
        "collapsed": false
      },
      "outputs": [],
      "source": [
        "projs[0].plot_topomap()"
      ]
    },
    {
      "cell_type": "markdown",
      "metadata": {},
      "source": [
        "The first three projectors that we see are the SSP vectors from empty room\nmeasurements to compensate for the noise. The fourth one is the average EEG\nreference. These are already applied to the data and can no longer be\nremoved. The next six are the EOG projections that we added. Every data\nchannel type has two projection vectors each. Let's try the raw browser\nagain.\n\n"
      ]
    },
    {
      "cell_type": "code",
      "execution_count": null,
      "metadata": {
        "collapsed": false
      },
      "outputs": [],
      "source": [
        "raw.plot()"
      ]
    },
    {
      "cell_type": "markdown",
      "metadata": {},
      "source": [
        "Now click the ``proj`` button at the lower right corner of the browser\nwindow. A selection dialog should appear, where you can toggle the projectors\non and off. Notice that the first four are already applied to the data and\ntoggling them does not change the data. However the newly added projectors\nmodify the data to get rid of the EOG artifacts. Note that toggling the\nprojectors here doesn't actually modify the data. This is purely for visually\ninspecting the effect. See :func:`mne.io.Raw.del_proj` to actually remove the\nprojectors.\n\nRaw container also lets us easily plot the power spectra over the raw data.\nHere we plot the data using ``spatial_colors`` to map the line colors to\nchannel locations (default in versions >= 0.15.0). Other option is to use the\n``average`` (default in < 0.15.0). See the API documentation for more info.\n\n"
      ]
    },
    {
      "cell_type": "code",
      "execution_count": null,
      "metadata": {
        "collapsed": false
      },
      "outputs": [],
      "source": [
        "raw.plot_psd(tmax=np.inf, average=False)"
      ]
    },
    {
      "cell_type": "markdown",
      "metadata": {},
      "source": [
        "Plotting channel-wise power spectra is just as easy. The layout is inferred\nfrom the data by default when plotting topo plots. This works for most data,\nbut it is also possible to define the layouts by hand. Here we select a\nlayout with only magnetometer channels and plot it. Then we plot the channel\nwise spectra of first 30 seconds of the data.\n\n"
      ]
    },
    {
      "cell_type": "code",
      "execution_count": null,
      "metadata": {
        "collapsed": false
      },
      "outputs": [],
      "source": [
        "layout = mne.channels.read_layout('Vectorview-mag')\nlayout.plot()\nraw.plot_psd_topo(tmax=30., fmin=5., fmax=60., n_fft=1024, layout=layout)"
      ]
    }
  ],
  "metadata": {
    "kernelspec": {
      "display_name": "Python 3",
      "language": "python",
      "name": "python3"
    },
    "language_info": {
      "codemirror_mode": {
        "name": "ipython",
        "version": 3
      },
      "file_extension": ".py",
      "mimetype": "text/x-python",
      "name": "python",
      "nbconvert_exporter": "python",
      "pygments_lexer": "ipython3",
      "version": "3.7.4"
    }
  },
  "nbformat": 4,
  "nbformat_minor": 0
}