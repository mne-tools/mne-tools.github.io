{
  "cells": [
    {
      "cell_type": "code",
      "execution_count": null,
      "metadata": {
        "collapsed": false
      },
      "outputs": [],
      "source": [
        "%matplotlib inline"
      ]
    },
    {
      "cell_type": "markdown",
      "metadata": {},
      "source": [
        "\n\nPlotting sensor layouts of EEG Systems\n======================================\n\nThis example illustrates how to load all the EEG system montages\nshipped in MNE-python, and display it on fsaverage template.\n"
      ]
    },
    {
      "cell_type": "code",
      "execution_count": null,
      "metadata": {
        "collapsed": false
      },
      "outputs": [],
      "source": [
        "# Authors: Alexandre Gramfort <alexandre.gramfort@inria.fr>\n#          Joan Massich <mailsik@gmail.com>\n#\n# License: BSD Style.\n\nfrom mayavi import mlab\nimport os.path as op\n\nimport mne\nfrom mne.channels.montage import get_builtin_montages\nfrom mne.datasets import fetch_fsaverage\nfrom mne.viz import plot_alignment\n\nsubjects_dir = op.dirname(fetch_fsaverage())"
      ]
    },
    {
      "cell_type": "markdown",
      "metadata": {},
      "source": [
        "check all montages\n\n\n"
      ]
    },
    {
      "cell_type": "code",
      "execution_count": null,
      "metadata": {
        "collapsed": false
      },
      "outputs": [],
      "source": [
        "for current_montage in get_builtin_montages():\n\n    montage = mne.channels.read_montage(current_montage,\n                                        unit='auto',\n                                        transform=False)\n\n    info = mne.create_info(ch_names=montage.ch_names,\n                           sfreq=1,\n                           ch_types='eeg',\n                           montage=montage)\n\n    fig = plot_alignment(info, trans=None,\n                         subject='fsaverage',\n                         subjects_dir=subjects_dir,\n                         eeg=['projected'],\n                         )\n    mlab.view(135, 80)\n    mlab.title(montage.kind, figure=fig)"
      ]
    }
  ],
  "metadata": {
    "kernelspec": {
      "display_name": "Python 3",
      "language": "python",
      "name": "python3"
    },
    "language_info": {
      "codemirror_mode": {
        "name": "ipython",
        "version": 3
      },
      "file_extension": ".py",
      "mimetype": "text/x-python",
      "name": "python",
      "nbconvert_exporter": "python",
      "pygments_lexer": "ipython3",
      "version": "3.7.4"
    }
  },
  "nbformat": 4,
  "nbformat_minor": 0
}