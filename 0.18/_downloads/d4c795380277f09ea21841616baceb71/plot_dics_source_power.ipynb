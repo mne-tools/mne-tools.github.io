{
  "cells": [
    {
      "cell_type": "code",
      "execution_count": null,
      "metadata": {
        "collapsed": false
      },
      "outputs": [],
      "source": [
        "%matplotlib inline"
      ]
    },
    {
      "cell_type": "markdown",
      "metadata": {},
      "source": [
        "\n# Compute source power using DICS beamfomer\n\n\nCompute a Dynamic Imaging of Coherent Sources (DICS) [1]_ filter from\nsingle-trial activity to estimate source power across a frequency band. This\nexample demonstrates how to source localize the event-related synchronization\n(ERS) of beta band activity in the \"somato\" dataset.\n\n\nReferences\n----------\n.. [1] Gross et al. Dynamic imaging of coherent sources: Studying neural\n       interactions in the human brain. PNAS (2001) vol. 98 (2) pp. 694-699\n"
      ]
    },
    {
      "cell_type": "code",
      "execution_count": null,
      "metadata": {
        "collapsed": false
      },
      "outputs": [],
      "source": [
        "# Author: Marijn van Vliet <w.m.vanvliet@gmail.com>\n#         Roman Goj <roman.goj@gmail.com>\n#         Denis Engemann <denis.engemann@gmail.com>\n#\n# License: BSD (3-clause)\nimport numpy as np\nimport mne\nfrom mne.datasets import somato\nfrom mne.time_frequency import csd_morlet\nfrom mne.beamformer import make_dics, apply_dics_csd\n\nprint(__doc__)"
      ]
    },
    {
      "cell_type": "markdown",
      "metadata": {},
      "source": [
        "Reading the raw data and creating epochs:\n\n"
      ]
    },
    {
      "cell_type": "code",
      "execution_count": null,
      "metadata": {
        "collapsed": false
      },
      "outputs": [],
      "source": [
        "data_path = somato.data_path()\nraw_fname = data_path + '/MEG/somato/sef_raw_sss.fif'\nfname_fwd = data_path + '/MEG/somato/somato-meg-oct-6-fwd.fif'\nsubjects_dir = data_path + '/subjects'\n\nraw = mne.io.read_raw_fif(raw_fname)\n\n# Set picks, use a single sensor type\npicks = mne.pick_types(raw.info, meg='grad', exclude='bads')\n\n# Read epochs\nevents = mne.find_events(raw)\nepochs = mne.Epochs(raw, events, event_id=1, tmin=-1.5, tmax=2, picks=picks,\n                    preload=True)\n\n# Read forward operator\nfwd = mne.read_forward_solution(fname_fwd)"
      ]
    },
    {
      "cell_type": "markdown",
      "metadata": {},
      "source": [
        "We are interested in the beta band. Define a range of frequencies, using a\nlog scale, from 12 to 30 Hz.\n\n"
      ]
    },
    {
      "cell_type": "code",
      "execution_count": null,
      "metadata": {
        "collapsed": false
      },
      "outputs": [],
      "source": [
        "freqs = np.logspace(np.log10(12), np.log10(30), 9)"
      ]
    },
    {
      "cell_type": "markdown",
      "metadata": {},
      "source": [
        "Computing the cross-spectral density matrix for the beta frequency band, for\ndifferent time intervals. We use a decim value of 20 to speed up the\ncomputation in this example at the loss of accuracy.\n\n"
      ]
    },
    {
      "cell_type": "code",
      "execution_count": null,
      "metadata": {
        "collapsed": false
      },
      "outputs": [],
      "source": [
        "csd = csd_morlet(epochs, freqs, tmin=-1, tmax=1.5, decim=20)\ncsd_baseline = csd_morlet(epochs, freqs, tmin=-1, tmax=0, decim=20)\n# ERS activity starts at 0.5 seconds after stimulus onset\ncsd_ers = csd_morlet(epochs, freqs, tmin=0.5, tmax=1.5, decim=20)"
      ]
    },
    {
      "cell_type": "markdown",
      "metadata": {},
      "source": [
        "Computing DICS spatial filters using the CSD that was computed on the entire\ntimecourse.\n\n"
      ]
    },
    {
      "cell_type": "code",
      "execution_count": null,
      "metadata": {
        "collapsed": false
      },
      "outputs": [],
      "source": [
        "filters = make_dics(epochs.info, fwd, csd.mean(), pick_ori='max-power')"
      ]
    },
    {
      "cell_type": "markdown",
      "metadata": {},
      "source": [
        "Applying DICS spatial filters separately to the CSD computed using the\nbaseline and the CSD computed during the ERS activity.\n\n"
      ]
    },
    {
      "cell_type": "code",
      "execution_count": null,
      "metadata": {
        "collapsed": false
      },
      "outputs": [],
      "source": [
        "baseline_source_power, freqs = apply_dics_csd(csd_baseline.mean(), filters)\nbeta_source_power, freqs = apply_dics_csd(csd_ers.mean(), filters)"
      ]
    },
    {
      "cell_type": "markdown",
      "metadata": {},
      "source": [
        "Visualizing source power during ERS activity relative to the baseline power.\n\n"
      ]
    },
    {
      "cell_type": "code",
      "execution_count": null,
      "metadata": {
        "collapsed": false
      },
      "outputs": [],
      "source": [
        "stc = beta_source_power / baseline_source_power\nmessage = 'DICS source power in the 12-30 Hz frequency band'\nbrain = stc.plot(hemi='both', views='par', subjects_dir=subjects_dir,\n                 time_label=message)"
      ]
    }
  ],
  "metadata": {
    "kernelspec": {
      "display_name": "Python 3",
      "language": "python",
      "name": "python3"
    },
    "language_info": {
      "codemirror_mode": {
        "name": "ipython",
        "version": 3
      },
      "file_extension": ".py",
      "mimetype": "text/x-python",
      "name": "python",
      "nbconvert_exporter": "python",
      "pygments_lexer": "ipython3",
      "version": "3.7.4"
    }
  },
  "nbformat": 4,
  "nbformat_minor": 0
}