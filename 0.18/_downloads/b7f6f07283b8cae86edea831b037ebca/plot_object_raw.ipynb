{
  "cells": [
    {
      "cell_type": "code",
      "execution_count": null,
      "metadata": {
        "collapsed": false
      },
      "outputs": [],
      "source": [
        "%matplotlib inline"
      ]
    },
    {
      "cell_type": "markdown",
      "metadata": {},
      "source": [
        "\n\nThe :class:`~mne.io.Raw` data structure: continuous data\n========================================================\n\nContinuous data is stored in objects of type :class:`~mne.io.Raw`.\nThe core data structure is simply a 2D numpy array (channels \u00d7 samples)\n(in memory or loaded on demand) combined with an\n:class:`~mne.Info` object (`.info` attribute)\n(see `tut-info-class`).\n\nThe most common way to load continuous data is from a .fif file. For more\ninformation on `loading data from other formats <ch_convert>`, or\ncreating it `from scratch <tut_creating_data_structures>`.\n"
      ]
    },
    {
      "cell_type": "code",
      "execution_count": null,
      "metadata": {
        "collapsed": false
      },
      "outputs": [],
      "source": [
        "import mne\nimport os.path as op\nfrom matplotlib import pyplot as plt"
      ]
    },
    {
      "cell_type": "markdown",
      "metadata": {},
      "source": [
        "Loading continuous data\n-----------------------\n\nLoad an example dataset, the preload flag loads the data into memory now:\n\n"
      ]
    },
    {
      "cell_type": "code",
      "execution_count": null,
      "metadata": {
        "collapsed": false
      },
      "outputs": [],
      "source": [
        "data_path = op.join(mne.datasets.sample.data_path(), 'MEG',\n                    'sample', 'sample_audvis_raw.fif')\nraw = mne.io.read_raw_fif(data_path, preload=True)\nraw.set_eeg_reference('average', projection=True)  # set EEG average reference\n\n# Give the sample rate\nprint('sample rate:', raw.info['sfreq'], 'Hz')\n# Give the size of the data matrix\nprint('%s channels x %s samples' % (raw.info['nchan'], len(raw.times)))"
      ]
    },
    {
      "cell_type": "markdown",
      "metadata": {},
      "source": [
        "<div class=\"alert alert-info\"><h4>Note</h4><p>This size can also be obtained by examining `raw._data.shape`.\n          However this is a private attribute as its name starts\n          with an `_`. This suggests that you should **not** access this\n          variable directly but rely on indexing syntax detailed just below.</p></div>\n\n"
      ]
    },
    {
      "cell_type": "markdown",
      "metadata": {},
      "source": [
        "Information about the channels contained in the :class:`~mne.io.Raw`\nobject is contained in the :class:`~mne.Info` attribute.\nThis is essentially a dictionary with a number of relevant fields (see\n`tut-info-class`).\n\n"
      ]
    },
    {
      "cell_type": "markdown",
      "metadata": {},
      "source": [
        "Indexing data\n-------------\n\nTo access the data stored within :class:`~mne.io.Raw` objects,\nit is possible to index the :class:`~mne.io.Raw` object.\n\nIndexing a :class:`~mne.io.Raw` object will return two arrays: an array\nof times, as well as the data representing those timepoints. This works\neven if the data is not preloaded, in which case the data will be read from\ndisk when indexing. The syntax is as follows:\n\n"
      ]
    },
    {
      "cell_type": "code",
      "execution_count": null,
      "metadata": {
        "collapsed": false
      },
      "outputs": [],
      "source": [
        "# Extract data from the first 5 channels, from 1 s to 3 s.\nsfreq = raw.info['sfreq']\ndata, times = raw[:5, int(sfreq * 1):int(sfreq * 3)]\n_ = plt.plot(times, data.T)\n_ = plt.title('Sample channels')"
      ]
    },
    {
      "cell_type": "markdown",
      "metadata": {},
      "source": [
        "-----------------------------------------\nSelecting subsets of channels and samples\n-----------------------------------------\n\nIt is possible to use more intelligent indexing to extract data, using\nchannel names, types or time ranges.\n\n"
      ]
    },
    {
      "cell_type": "code",
      "execution_count": null,
      "metadata": {
        "collapsed": false
      },
      "outputs": [],
      "source": [
        "# Pull all MEG gradiometer channels:\n# Make sure to use .copy() or it will overwrite the data\nmeg_only = raw.copy().pick_types(meg=True)\neeg_only = raw.copy().pick_types(meg=False, eeg=True)\n\n# The MEG flag in particular lets you specify a string for more specificity\ngrad_only = raw.copy().pick_types(meg='grad')\n\n# Or you can use custom channel names\npick_chans = ['MEG 0112', 'MEG 0111', 'MEG 0122', 'MEG 0123']\nspecific_chans = raw.copy().pick_channels(pick_chans)\nprint(meg_only)\nprint(eeg_only)\nprint(grad_only)\nprint(specific_chans)"
      ]
    },
    {
      "cell_type": "markdown",
      "metadata": {},
      "source": [
        "Notice the different scalings of these types\n\n"
      ]
    },
    {
      "cell_type": "code",
      "execution_count": null,
      "metadata": {
        "collapsed": false
      },
      "outputs": [],
      "source": [
        "f, (a1, a2) = plt.subplots(2, 1)\neeg, times = eeg_only[0, :int(sfreq * 2)]\nmeg, times = meg_only[0, :int(sfreq * 2)]\na1.plot(times, meg[0])\na2.plot(times, eeg[0])\ndel eeg, meg, meg_only, grad_only, eeg_only, data, specific_chans"
      ]
    },
    {
      "cell_type": "markdown",
      "metadata": {},
      "source": [
        "You can restrict the data to a specific time range\n\n"
      ]
    },
    {
      "cell_type": "code",
      "execution_count": null,
      "metadata": {
        "collapsed": false
      },
      "outputs": [],
      "source": [
        "raw = raw.crop(0, 50)  # in seconds\nprint('New time range from', raw.times.min(), 's to', raw.times.max(), 's')"
      ]
    },
    {
      "cell_type": "markdown",
      "metadata": {},
      "source": [
        "And drop channels by name\n\n"
      ]
    },
    {
      "cell_type": "code",
      "execution_count": null,
      "metadata": {
        "collapsed": false
      },
      "outputs": [],
      "source": [
        "nchan = raw.info['nchan']\nraw = raw.drop_channels(['MEG 0241', 'EEG 001'])\nprint('Number of channels reduced from', nchan, 'to', raw.info['nchan'])"
      ]
    },
    {
      "cell_type": "markdown",
      "metadata": {},
      "source": [
        "------------------------------------------\nConcatenating :class:`~mne.io.Raw` objects\n------------------------------------------\n\n:class:`~mne.io.Raw` objects can be concatenated in time by using the\n:func:`~mne.io.Raw.append` function. For this to work, they must\nhave the same number of channels and their :class:`~mne.Info`\nstructures should be compatible.\n\n"
      ]
    },
    {
      "cell_type": "code",
      "execution_count": null,
      "metadata": {
        "collapsed": false
      },
      "outputs": [],
      "source": [
        "# Create multiple :class:`~mne.io.Raw` objects\nraw1 = raw.copy().crop(0, 10)\nraw2 = raw.copy().crop(10, 20)\nraw3 = raw.copy().crop(20, 40)\n\n# Concatenate in time (also works without preloading)\nraw1.append([raw2, raw3])\nprint('Time extends from', raw1.times.min(), 's to', raw1.times.max(), 's')"
      ]
    }
  ],
  "metadata": {
    "kernelspec": {
      "display_name": "Python 3",
      "language": "python",
      "name": "python3"
    },
    "language_info": {
      "codemirror_mode": {
        "name": "ipython",
        "version": 3
      },
      "file_extension": ".py",
      "mimetype": "text/x-python",
      "name": "python",
      "nbconvert_exporter": "python",
      "pygments_lexer": "ipython3",
      "version": "3.7.4"
    }
  },
  "nbformat": 4,
  "nbformat_minor": 0
}