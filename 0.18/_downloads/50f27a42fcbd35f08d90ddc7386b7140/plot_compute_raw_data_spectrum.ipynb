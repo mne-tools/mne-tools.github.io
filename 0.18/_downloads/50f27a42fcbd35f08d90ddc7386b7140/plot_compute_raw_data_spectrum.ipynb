{
  "cells": [
    {
      "cell_type": "code",
      "execution_count": null,
      "metadata": {
        "collapsed": false
      },
      "outputs": [],
      "source": [
        "%matplotlib inline"
      ]
    },
    {
      "cell_type": "markdown",
      "metadata": {},
      "source": [
        "\n# Compute the power spectral density of raw data\n\n\nThis script shows how to compute the power spectral density (PSD)\nof measurements on a raw dataset. It also show the effect of applying SSP\nto the data to reduce ECG and EOG artifacts.\n"
      ]
    },
    {
      "cell_type": "code",
      "execution_count": null,
      "metadata": {
        "collapsed": false
      },
      "outputs": [],
      "source": [
        "# Authors: Alexandre Gramfort <alexandre.gramfort@telecom-paristech.fr>\n#          Martin Luessi <mluessi@nmr.mgh.harvard.edu>\n#          Eric Larson <larson.eric.d@gmail.com>\n# License: BSD (3-clause)\n\nimport numpy as np\nimport matplotlib.pyplot as plt\n\nimport mne\nfrom mne import io, read_proj, read_selection\nfrom mne.datasets import sample\nfrom mne.time_frequency import psd_multitaper\n\nprint(__doc__)"
      ]
    },
    {
      "cell_type": "markdown",
      "metadata": {},
      "source": [
        "Load data\n---------\n\nWe'll load a sample MEG dataset, along with SSP projections that will\nallow us to reduce EOG and ECG artifacts. For more information about\nreducing artifacts, see the preprocessing section in `documentation`.\n\n"
      ]
    },
    {
      "cell_type": "code",
      "execution_count": null,
      "metadata": {
        "collapsed": false
      },
      "outputs": [],
      "source": [
        "data_path = sample.data_path()\nraw_fname = data_path + '/MEG/sample/sample_audvis_raw.fif'\nproj_fname = data_path + '/MEG/sample/sample_audvis_eog-proj.fif'\n\ntmin, tmax = 0, 60  # use the first 60s of data\n\n# Setup for reading the raw data (to save memory, crop before loading)\nraw = io.read_raw_fif(raw_fname).crop(tmin, tmax).load_data()\nraw.info['bads'] += ['MEG 2443', 'EEG 053']  # bads + 2 more\n\n# Add SSP projection vectors to reduce EOG and ECG artifacts\nprojs = read_proj(proj_fname)\nraw.add_proj(projs, remove_existing=True)\n\n\nfmin, fmax = 2, 300  # look at frequencies between 2 and 300Hz\nn_fft = 2048  # the FFT size (n_fft). Ideally a power of 2"
      ]
    },
    {
      "cell_type": "markdown",
      "metadata": {},
      "source": [
        "Plot the raw PSD\n----------------\n\nFirst we'll visualize the raw PSD of our data. We'll do this on all of the\nchannels first. Note that there are several parameters to the\n:meth:`mne.io.Raw.plot_psd` method, some of which will be explained below.\n\n"
      ]
    },
    {
      "cell_type": "code",
      "execution_count": null,
      "metadata": {
        "collapsed": false
      },
      "outputs": [],
      "source": [
        "raw.plot_psd(area_mode='range', tmax=10.0, show=False, average=True)"
      ]
    },
    {
      "cell_type": "markdown",
      "metadata": {},
      "source": [
        "Plot a cleaned PSD\n------------------\n\nNext we'll focus the visualization on a subset of channels.\nThis can be useful for identifying particularly noisy channels or\ninvestigating how the power spectrum changes across channels.\n\nWe'll visualize how this PSD changes after applying some standard\nfiltering techniques. We'll first apply the SSP projections, which is\naccomplished with the ``proj=True`` kwarg. We'll then perform a notch filter\nto remove particular frequency bands.\n\n"
      ]
    },
    {
      "cell_type": "code",
      "execution_count": null,
      "metadata": {
        "collapsed": false
      },
      "outputs": [],
      "source": [
        "# Pick MEG magnetometers in the Left-temporal region\nselection = read_selection('Left-temporal')\npicks = mne.pick_types(raw.info, meg='mag', eeg=False, eog=False,\n                       stim=False, exclude='bads', selection=selection)\n\n# Let's just look at the first few channels for demonstration purposes\npicks = picks[:4]\n\nplt.figure()\nax = plt.axes()\nraw.plot_psd(tmin=tmin, tmax=tmax, fmin=fmin, fmax=fmax, n_fft=n_fft,\n             n_jobs=1, proj=False, ax=ax, color=(0, 0, 1),  picks=picks,\n             show=False, average=True)\n\nraw.plot_psd(tmin=tmin, tmax=tmax, fmin=fmin, fmax=fmax, n_fft=n_fft,\n             n_jobs=1, proj=True, ax=ax, color=(0, 1, 0), picks=picks,\n             show=False, average=True)\n\n# And now do the same with SSP + notch filtering\n# Pick all channels for notch since the SSP projection mixes channels together\nraw.notch_filter(np.arange(60, 241, 60), n_jobs=1, fir_design='firwin')\nraw.plot_psd(tmin=tmin, tmax=tmax, fmin=fmin, fmax=fmax, n_fft=n_fft,\n             n_jobs=1, proj=True, ax=ax, color=(1, 0, 0), picks=picks,\n             show=False, average=True)\n\nax.set_title('Four left-temporal magnetometers')\nplt.legend(ax.lines[::3], ['Without SSP', 'With SSP', 'SSP + Notch'])"
      ]
    },
    {
      "cell_type": "markdown",
      "metadata": {},
      "source": [
        "Alternative functions for PSDs\n------------------------------\n\nThere are also several functions in MNE that create a PSD using a Raw\nobject. These are in the :mod:`mne.time_frequency` module and begin with\n``psd_*``. For example, we'll use a multitaper method to compute the PSD\nbelow.\n\n"
      ]
    },
    {
      "cell_type": "code",
      "execution_count": null,
      "metadata": {
        "collapsed": false
      },
      "outputs": [],
      "source": [
        "f, ax = plt.subplots()\npsds, freqs = psd_multitaper(raw, low_bias=True, tmin=tmin, tmax=tmax,\n                             fmin=fmin, fmax=fmax, proj=True, picks=picks,\n                             n_jobs=1)\npsds = 10 * np.log10(psds)\npsds_mean = psds.mean(0)\npsds_std = psds.std(0)\n\nax.plot(freqs, psds_mean, color='k')\nax.fill_between(freqs, psds_mean - psds_std, psds_mean + psds_std,\n                color='k', alpha=.5)\nax.set(title='Multitaper PSD', xlabel='Frequency',\n       ylabel='Power Spectral Density (dB)')\nplt.show()"
      ]
    }
  ],
  "metadata": {
    "kernelspec": {
      "display_name": "Python 3",
      "language": "python",
      "name": "python3"
    },
    "language_info": {
      "codemirror_mode": {
        "name": "ipython",
        "version": 3
      },
      "file_extension": ".py",
      "mimetype": "text/x-python",
      "name": "python",
      "nbconvert_exporter": "python",
      "pygments_lexer": "ipython3",
      "version": "3.7.4"
    }
  },
  "nbformat": 4,
  "nbformat_minor": 0
}