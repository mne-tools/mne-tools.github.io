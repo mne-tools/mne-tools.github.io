{
  "cells": [
    {
      "cell_type": "code",
      "execution_count": null,
      "metadata": {
        "collapsed": false
      },
      "outputs": [],
      "source": [
        "%matplotlib inline"
      ]
    },
    {
      "cell_type": "markdown",
      "metadata": {},
      "source": [
        "\n\n# Brainstorm raw (median nerve) dataset\n\nHere we compute the evoked from raw for the Brainstorm\ntutorial dataset. For comparison, see :footcite:`TadelEtAl2011` and:\n\n    https://neuroimage.usc.edu/brainstorm/Tutorials/MedianNerveCtf\n"
      ]
    },
    {
      "cell_type": "code",
      "execution_count": null,
      "metadata": {
        "collapsed": false
      },
      "outputs": [],
      "source": [
        "# Authors: Mainak Jas <mainak.jas@telecom-paristech.fr>\n#\n# License: BSD (3-clause)\n\nimport numpy as np\n\nimport mne\nfrom mne.datasets.brainstorm import bst_raw\nfrom mne.io import read_raw_ctf\n\nprint(__doc__)\n\ntmin, tmax, event_id = -0.1, 0.3, 2  # take right-hand somato\nreject = dict(mag=4e-12, eog=250e-6)\n\ndata_path = bst_raw.data_path()\n\nraw_path = (data_path + '/MEG/bst_raw/' +\n            'subj001_somatosensory_20111109_01_AUX-f.ds')\n# Here we crop to half the length to save memory\nraw = read_raw_ctf(raw_path).crop(0, 180).load_data()\nraw.plot()\n\n# set EOG channel\nraw.set_channel_types({'EEG058': 'eog'})\nraw.set_eeg_reference('average', projection=True)\n\n# show power line interference and remove it\nraw.plot_psd(tmax=60., average=False)\nraw.notch_filter(np.arange(60, 181, 60), fir_design='firwin')\n\nevents = mne.find_events(raw, stim_channel='UPPT001')\n\n# pick MEG channels\npicks = mne.pick_types(raw.info, meg=True, eeg=False, stim=False, eog=True,\n                       exclude='bads')\n\n# Compute epochs\nepochs = mne.Epochs(raw, events, event_id, tmin, tmax, picks=picks,\n                    baseline=(None, 0), reject=reject, preload=False)\n\n# compute evoked\nevoked = epochs.average()\n\n# remove physiological artifacts (eyeblinks, heartbeats) using SSP on baseline\nevoked.add_proj(mne.compute_proj_evoked(evoked.copy().crop(tmax=0)))\nevoked.apply_proj()\n\n# fix stim artifact\nmne.preprocessing.fix_stim_artifact(evoked)\n\n# correct delays due to hardware (stim artifact is at 4 ms)\nevoked.shift_time(-0.004)\n\n# plot the result\nevoked.plot(time_unit='s')\n\n# show topomaps\nevoked.plot_topomap(times=np.array([0.016, 0.030, 0.060, 0.070]),\n                    time_unit='s')"
      ]
    },
    {
      "cell_type": "markdown",
      "metadata": {},
      "source": [
        "## References\n.. footbibliography::\n\n"
      ]
    }
  ],
  "metadata": {
    "kernelspec": {
      "display_name": "Python 3",
      "language": "python",
      "name": "python3"
    },
    "language_info": {
      "codemirror_mode": {
        "name": "ipython",
        "version": 3
      },
      "file_extension": ".py",
      "mimetype": "text/x-python",
      "name": "python",
      "nbconvert_exporter": "python",
      "pygments_lexer": "ipython3",
      "version": "3.8.5"
    }
  },
  "nbformat": 4,
  "nbformat_minor": 0
}