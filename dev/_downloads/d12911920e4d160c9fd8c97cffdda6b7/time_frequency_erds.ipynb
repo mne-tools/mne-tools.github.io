{
  "cells": [
    {
      "cell_type": "markdown",
      "metadata": {},
      "source": [
        "\n\n# Compute and visualize ERDS maps\n\nThis example calculates and displays ERDS maps of event-related EEG data.\nERDS (sometimes also written as ERD/ERS) is short for event-related\ndesynchronization (ERD) and event-related synchronization (ERS)\n:footcite:`PfurtschellerLopesdaSilva1999`. Conceptually, ERD corresponds to a\ndecrease in power in a specific frequency band relative to a baseline.\nSimilarly, ERS corresponds to an increase in power. An ERDS map is a\ntime/frequency representation of ERD/ERS over a range of frequencies\n:footcite:`GraimannEtAl2002`. ERDS maps are also known as ERSP (event-related\nspectral perturbation) :footcite:`Makeig1993`.\n\nIn this example, we use an EEG BCI data set containing two different motor\nimagery tasks (imagined hand and feet movement). Our goal is to generate ERDS\nmaps for each of the two tasks.\n\nFirst, we load the data and create epochs of 5s length. The data set contains\nmultiple channels, but we will only consider C3, Cz, and C4. We compute maps\ncontaining frequencies ranging from 2 to 35Hz. We map ERD to red color and ERS\nto blue color, which is customary in many ERDS publications. Finally, we\nperform cluster-based permutation tests to estimate significant ERDS values\n(corrected for multiple comparisons within channels).\n"
      ]
    },
    {
      "cell_type": "code",
      "execution_count": null,
      "metadata": {
        "collapsed": false
      },
      "outputs": [],
      "source": [
        "# Authors: Clemens Brunner <clemens.brunner@gmail.com>\n#          Felix Klotzsche <klotzsche@cbs.mpg.de>\n#\n# License: BSD-3-Clause\n# Copyright the MNE-Python contributors."
      ]
    },
    {
      "cell_type": "markdown",
      "metadata": {},
      "source": [
        "As usual, we import everything we need.\n\n"
      ]
    },
    {
      "cell_type": "code",
      "execution_count": null,
      "metadata": {
        "collapsed": false
      },
      "outputs": [],
      "source": [
        "import matplotlib.pyplot as plt\nimport numpy as np\nimport pandas as pd\nimport seaborn as sns\nfrom matplotlib.colors import TwoSlopeNorm\n\nimport mne\nfrom mne.datasets import eegbci\nfrom mne.io import concatenate_raws, read_raw_edf\nfrom mne.stats import permutation_cluster_1samp_test as pcluster_test"
      ]
    },
    {
      "cell_type": "markdown",
      "metadata": {},
      "source": [
        "First, we load and preprocess the data. We use runs 6, 10, and 14 from\nsubject 1 (these runs contains hand and feet motor imagery).\n\n"
      ]
    },
    {
      "cell_type": "code",
      "execution_count": null,
      "metadata": {
        "collapsed": false
      },
      "outputs": [],
      "source": [
        "fnames = eegbci.load_data(subject=1, runs=(6, 10, 14))\nraw = concatenate_raws([read_raw_edf(f, preload=True) for f in fnames])\n\nraw.rename_channels(lambda x: x.strip(\".\"))  # remove dots from channel names\n# rename descriptions to be more easily interpretable\nraw.annotations.rename(dict(T1=\"hands\", T2=\"feet\"))"
      ]
    },
    {
      "cell_type": "markdown",
      "metadata": {},
      "source": [
        "Now we can create 5-second epochs around events of interest.\n\n"
      ]
    },
    {
      "cell_type": "code",
      "execution_count": null,
      "metadata": {
        "collapsed": false
      },
      "outputs": [],
      "source": [
        "tmin, tmax = -1, 4\nevent_ids = dict(hands=2, feet=3)  # map event IDs to tasks\n\nepochs = mne.Epochs(\n    raw,\n    event_id=[\"hands\", \"feet\"],\n    tmin=tmin - 0.5,\n    tmax=tmax + 0.5,\n    picks=(\"C3\", \"Cz\", \"C4\"),\n    baseline=None,\n    preload=True,\n)"
      ]
    },
    {
      "cell_type": "markdown",
      "metadata": {},
      "source": [
        "\nHere we set suitable values for computing ERDS maps. Note especially the\n``cnorm`` variable, which sets up an *asymmetric* colormap where the middle\ncolor is mapped to zero, even though zero is not the middle *value* of the\ncolormap range. This does two things: it ensures that zero values will be\nplotted in white (given that below we select the ``RdBu`` colormap), and it\nmakes synchronization and desynchronization look equally prominent in the\nplots, even though their extreme values are of different magnitudes.\n\n"
      ]
    },
    {
      "cell_type": "code",
      "execution_count": null,
      "metadata": {
        "collapsed": false
      },
      "outputs": [],
      "source": [
        "freqs = np.arange(2, 36)  # frequencies from 2-35Hz\nvmin, vmax = -1, 1.5  # set min and max ERDS values in plot\nbaseline = (-1, 0)  # baseline interval (in s)\ncnorm = TwoSlopeNorm(vmin=vmin, vcenter=0, vmax=vmax)  # min, center & max ERDS\n\nkwargs = dict(\n    n_permutations=100, step_down_p=0.05, seed=1, buffer_size=None, out_type=\"mask\"\n)  # for cluster test"
      ]
    },
    {
      "cell_type": "markdown",
      "metadata": {},
      "source": [
        "Finally, we perform time/frequency decomposition over all epochs.\n\n"
      ]
    },
    {
      "cell_type": "code",
      "execution_count": null,
      "metadata": {
        "collapsed": false
      },
      "outputs": [],
      "source": [
        "tfr = epochs.compute_tfr(\n    method=\"multitaper\",\n    freqs=freqs,\n    n_cycles=freqs,\n    use_fft=True,\n    return_itc=False,\n    average=False,\n    decim=2,\n)\ntfr.crop(tmin, tmax).apply_baseline(baseline, mode=\"percent\")\n\nfor event in event_ids:\n    # select desired epochs for visualization\n    tfr_ev = tfr[event]\n    fig, axes = plt.subplots(\n        1, 4, figsize=(12, 4), gridspec_kw={\"width_ratios\": [10, 10, 10, 1]}\n    )\n    for ch, ax in enumerate(axes[:-1]):  # for each channel\n        # positive clusters\n        _, c1, p1, _ = pcluster_test(tfr_ev.data[:, ch], tail=1, **kwargs)\n        # negative clusters\n        _, c2, p2, _ = pcluster_test(tfr_ev.data[:, ch], tail=-1, **kwargs)\n\n        # note that we keep clusters with p <= 0.05 from the combined clusters\n        # of two independent tests; in this example, we do not correct for\n        # these two comparisons\n        c = np.stack(c1 + c2, axis=2)  # combined clusters\n        p = np.concatenate((p1, p2))  # combined p-values\n        mask = c[..., p <= 0.05].any(axis=-1)\n\n        # plot TFR (ERDS map with masking)\n        tfr_ev.average().plot(\n            [ch],\n            cmap=\"RdBu\",\n            cnorm=cnorm,\n            axes=ax,\n            colorbar=False,\n            show=False,\n            mask=mask,\n            mask_style=\"mask\",\n        )\n\n        ax.set_title(epochs.ch_names[ch], fontsize=10)\n        ax.axvline(0, linewidth=1, color=\"black\", linestyle=\":\")  # event\n        if ch != 0:\n            ax.set_ylabel(\"\")\n            ax.set_yticklabels(\"\")\n    fig.colorbar(axes[0].images[-1], cax=axes[-1]).ax.set_yscale(\"linear\")\n    fig.suptitle(f\"ERDS ({event})\")\n    plt.show()"
      ]
    },
    {
      "cell_type": "markdown",
      "metadata": {},
      "source": [
        "Similar to `~mne.Epochs` objects, we can also export data from\n`~mne.time_frequency.EpochsTFR` and `~mne.time_frequency.AverageTFR` objects\nto a :class:`Pandas DataFrame <pandas.DataFrame>`. By default, the `time`\ncolumn of the exported data frame is in milliseconds. Here, to be consistent\nwith the time-frequency plots, we want to keep it in seconds, which we can\nachieve by setting ``time_format=None``:\n\n"
      ]
    },
    {
      "cell_type": "code",
      "execution_count": null,
      "metadata": {
        "collapsed": false
      },
      "outputs": [],
      "source": [
        "df = tfr.to_data_frame(time_format=None)\ndf.head()"
      ]
    },
    {
      "cell_type": "markdown",
      "metadata": {},
      "source": [
        "This allows us to use additional plotting functions like\n:func:`seaborn.lineplot` to plot confidence bands:\n\n"
      ]
    },
    {
      "cell_type": "code",
      "execution_count": null,
      "metadata": {
        "collapsed": false
      },
      "outputs": [],
      "source": [
        "df = tfr.to_data_frame(time_format=None, long_format=True)\n\n# Map to frequency bands:\nfreq_bounds = {\"_\": 0, \"delta\": 3, \"theta\": 7, \"alpha\": 13, \"beta\": 35, \"gamma\": 140}\ndf[\"band\"] = pd.cut(\n    df[\"freq\"], list(freq_bounds.values()), labels=list(freq_bounds)[1:]\n)\n\n# Filter to retain only relevant frequency bands:\nfreq_bands_of_interest = [\"delta\", \"theta\", \"alpha\", \"beta\"]\ndf = df[df.band.isin(freq_bands_of_interest)]\ndf[\"band\"] = df[\"band\"].cat.remove_unused_categories()\n\n# Order channels for plotting:\ndf[\"channel\"] = df[\"channel\"].cat.reorder_categories((\"C3\", \"Cz\", \"C4\"), ordered=True)\n\ng = sns.FacetGrid(df, row=\"band\", col=\"channel\", margin_titles=True)\ng.map(sns.lineplot, \"time\", \"value\", \"condition\", n_boot=10)\naxline_kw = dict(color=\"black\", linestyle=\"dashed\", linewidth=0.5, alpha=0.5)\ng.map(plt.axhline, y=0, **axline_kw)\ng.map(plt.axvline, x=0, **axline_kw)\ng.set(ylim=(None, 1.5))\ng.set_axis_labels(\"Time (s)\", \"ERDS\")\ng.set_titles(col_template=\"{col_name}\", row_template=\"{row_name}\")\ng.add_legend(ncol=2, loc=\"lower center\")\ng.fig.subplots_adjust(left=0.1, right=0.9, top=0.9, bottom=0.08)"
      ]
    },
    {
      "cell_type": "markdown",
      "metadata": {},
      "source": [
        "Having the data as a DataFrame also facilitates subsetting,\ngrouping, and other transforms.\nHere, we use seaborn to plot the average ERDS in the motor imagery interval\nas a function of frequency band and imagery condition:\n\n"
      ]
    },
    {
      "cell_type": "code",
      "execution_count": null,
      "metadata": {
        "collapsed": false
      },
      "outputs": [],
      "source": [
        "df_mean = (\n    df.query(\"time > 1\")\n    .groupby([\"condition\", \"epoch\", \"band\", \"channel\"], observed=False)[[\"value\"]]\n    .mean()\n    .reset_index()\n)\n\ng = sns.FacetGrid(\n    df_mean, col=\"condition\", col_order=[\"hands\", \"feet\"], margin_titles=True\n)\ng = g.map(\n    sns.violinplot,\n    \"channel\",\n    \"value\",\n    \"band\",\n    cut=0,\n    palette=\"deep\",\n    order=[\"C3\", \"Cz\", \"C4\"],\n    hue_order=freq_bands_of_interest,\n    linewidth=0.5,\n).add_legend(ncol=4, loc=\"lower center\")\n\ng.map(plt.axhline, **axline_kw)\ng.set_axis_labels(\"\", \"ERDS\")\ng.set_titles(col_template=\"{col_name}\", row_template=\"{row_name}\")\ng.fig.subplots_adjust(left=0.1, right=0.9, top=0.9, bottom=0.3)"
      ]
    },
    {
      "cell_type": "markdown",
      "metadata": {},
      "source": [
        "## References\n.. footbibliography::\n\n"
      ]
    }
  ],
  "metadata": {
    "kernelspec": {
      "display_name": "Python 3",
      "language": "python",
      "name": "python3"
    },
    "language_info": {
      "codemirror_mode": {
        "name": "ipython",
        "version": 3
      },
      "file_extension": ".py",
      "mimetype": "text/x-python",
      "name": "python",
      "nbconvert_exporter": "python",
      "pygments_lexer": "ipython3",
      "version": "3.10.12"
    }
  },
  "nbformat": 4,
  "nbformat_minor": 0
}