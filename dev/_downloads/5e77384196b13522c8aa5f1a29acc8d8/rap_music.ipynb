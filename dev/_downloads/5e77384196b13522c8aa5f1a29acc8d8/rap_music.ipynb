{
  "cells": [
    {
      "cell_type": "code",
      "execution_count": null,
      "metadata": {
        "collapsed": false
      },
      "outputs": [],
      "source": [
        "%matplotlib inline"
      ]
    },
    {
      "cell_type": "markdown",
      "metadata": {},
      "source": [
        "\n# Compute Rap-Music on evoked data\n\nCompute a Recursively Applied and Projected MUltiple Signal Classification\n(RAP-MUSIC) :footcite:`MosherLeahy1999` on evoked data.\n"
      ]
    },
    {
      "cell_type": "code",
      "execution_count": null,
      "metadata": {
        "collapsed": false
      },
      "outputs": [],
      "source": [
        "# Author: Yousra Bekhti <yousra.bekhti@gmail.com>\n#\n# License: BSD (3-clause)\n\nimport mne\n\nfrom mne.datasets import sample\nfrom mne.beamformer import rap_music\nfrom mne.viz import plot_dipole_locations, plot_dipole_amplitudes\n\nprint(__doc__)\n\ndata_path = sample.data_path()\nsubjects_dir = data_path + '/subjects'\nfwd_fname = data_path + '/MEG/sample/sample_audvis-meg-eeg-oct-6-fwd.fif'\nevoked_fname = data_path + '/MEG/sample/sample_audvis-ave.fif'\ncov_fname = data_path + '/MEG/sample/sample_audvis-cov.fif'\n\n# Read the evoked response and crop it\ncondition = 'Right Auditory'\nevoked = mne.read_evokeds(evoked_fname, condition=condition,\n                          baseline=(None, 0))\n# select N100\nevoked.crop(tmin=0.05, tmax=0.15)\n\nevoked.pick_types(meg=True, eeg=False)\n\n# Read the forward solution\nforward = mne.read_forward_solution(fwd_fname)\n\n# Read noise covariance matrix\nnoise_cov = mne.read_cov(cov_fname)\n\ndipoles, residual = rap_music(evoked, forward, noise_cov, n_dipoles=2,\n                              return_residual=True, verbose=True)\ntrans = forward['mri_head_t']\nplot_dipole_locations(dipoles, trans, 'sample', subjects_dir=subjects_dir)\nplot_dipole_amplitudes(dipoles)\n\n# Plot the evoked data and the residual.\nevoked.plot(ylim=dict(grad=[-300, 300], mag=[-800, 800], eeg=[-6, 8]),\n            time_unit='s')\nresidual.plot(ylim=dict(grad=[-300, 300], mag=[-800, 800], eeg=[-6, 8]),\n              time_unit='s')"
      ]
    },
    {
      "cell_type": "markdown",
      "metadata": {},
      "source": [
        "## References\n.. footbibliography::\n\n"
      ]
    }
  ],
  "metadata": {
    "kernelspec": {
      "display_name": "Python 3",
      "language": "python",
      "name": "python3"
    },
    "language_info": {
      "codemirror_mode": {
        "name": "ipython",
        "version": 3
      },
      "file_extension": ".py",
      "mimetype": "text/x-python",
      "name": "python",
      "nbconvert_exporter": "python",
      "pygments_lexer": "ipython3",
      "version": "3.8.5"
    }
  },
  "nbformat": 4,
  "nbformat_minor": 0
}