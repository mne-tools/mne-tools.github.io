{
  "cells": [
    {
      "cell_type": "code",
      "execution_count": null,
      "metadata": {
        "collapsed": false
      },
      "outputs": [],
      "source": [
        "%matplotlib inline"
      ]
    },
    {
      "cell_type": "markdown",
      "metadata": {},
      "source": [
        "\n\n# Preprocessing optically pumped magnetometer (OPM) MEG data\n\nThis tutorial covers preprocessing steps that are specific to :term:`OPM`\nMEG data. OPMs use a different sensing technology than traditional\n:term:`SQUID` MEG systems, which leads to several important differences for\nanalysis:\n\n- They are sensitive to :term:`DC` magnetic fields\n- Sensor layouts can vary by participant and recording session due to flexible\n  sensor placement\n- Devices are typically not fixed in place, so the position of the sensors\n  relative to the room (and through the DC fields) can change over time\n\nWe will cover some of these considerations here by processing the\n`UCL OPM auditory dataset <ucl-opm-auditory-dataset>`\n:footcite:`SeymourEtAl2022`\n"
      ]
    },
    {
      "cell_type": "code",
      "execution_count": null,
      "metadata": {
        "collapsed": false
      },
      "outputs": [],
      "source": [
        "import matplotlib.pyplot as plt\nimport numpy as np\n\nimport mne\n\nopm_data_folder = mne.datasets.ucl_opm_auditory.data_path()\nopm_file = (opm_data_folder / 'sub-001' / 'ses-001' / 'meg' /\n            'sub-001_ses-001_task-aef_run-001_meg.bin')\n# For now we are going to assume the device and head coordinate frames are\n# identical (even though this is incorrect), so we pass verbose='error' for now\nraw = mne.io.read_raw_fil(opm_file, verbose='error')\nraw.crop(120, 240).load_data()  # crop for speed"
      ]
    },
    {
      "cell_type": "markdown",
      "metadata": {},
      "source": [
        "## Examining raw data\n\nFirst, let's look at the raw data, noting that there are large fluctuations\nin the sub 1 Hz band. In some cases the range of fields a single channel\nreports is as much as 600 pT across this experiment.\n\n"
      ]
    },
    {
      "cell_type": "code",
      "execution_count": null,
      "metadata": {
        "collapsed": false
      },
      "outputs": [],
      "source": [
        "picks = mne.pick_types(raw.info, meg=True)\n\namp_scale = 1e12  # T->pT\nstop = len(raw.times) - 300\nstep = 300\ndata_ds, time_ds = raw[picks[::5], :stop]\ndata_ds, time_ds = data_ds[:, ::step] * amp_scale, time_ds[::step]\n\nfig, ax = plt.subplots(constrained_layout=True)\nplot_kwargs = dict(lw=1, alpha=0.5)\nax.plot(time_ds, data_ds.T - np.mean(data_ds, axis=1), **plot_kwargs)\nax.grid(True)\nset_kwargs = dict(ylim=(-500, 500), xlim=time_ds[[0, -1]],\n                  xlabel='Time (s)', ylabel='Amplitude (pT)')\nax.set(title='No preprocessing', **set_kwargs)"
      ]
    },
    {
      "cell_type": "markdown",
      "metadata": {},
      "source": [
        "## Denoising: Regressing via reference sensors\n\nThe simplest method for reducing low frequency drift in the data is to\nuse a set of reference sensors away from the scalp, which only sample the\nambient fields in the room. An advantage of this method is that no prior\nknowldge of the locations of the sensors is required. However, it assumes\nthat the reference sensors experience the same interference as scalp\nrecordings.\n\nTo do this in our current dataset, we require a bit of housekeeping.\nThere are a set of channels beginning with the name \"Flux\" which do not\ncontain any evironmental data, these need to be set to as bad channels.\n\nFor now we are only interested in removing artefacts seen below 5 Hz, so we\ninitially low-pass filter the good reference channels in this dataset prior\nto regression\n\nLooking at the processed data, we see there has been a large reduction in the\nlow frequency drift, but there are still periods where the drift has not been\nentirely removed. The likely cause of this is that the spatial profile of the\ninterference is dynamic, so performing a single regression over the entire\nexperiment is not the most effective approach.\n\n"
      ]
    },
    {
      "cell_type": "code",
      "execution_count": null,
      "metadata": {
        "collapsed": false
      },
      "outputs": [],
      "source": [
        "# set flux channels to bad\nbad_picks = mne.pick_channels_regexp(raw.ch_names, regexp='Flux.')\nraw.info['bads'].extend([raw.ch_names[ii] for ii in bad_picks])\n\n# compute the PSD for later using 1 Hz resolution\npsd_kwargs = dict(fmax=20, n_fft=int(round(raw.info['sfreq'])))\npsd_pre = raw.compute_psd(**psd_kwargs)\n\n# filter and regress\nraw.filter(None, 5, picks='ref_meg')\nregress = mne.preprocessing.EOGRegression(picks, picks_artifact='ref_meg')\nregress.fit(raw)\nregress.apply(raw, copy=False)\n\n# plot\ndata_ds, _ = raw[picks[::5], :stop]\ndata_ds = data_ds[:, ::step] * amp_scale\n\nfig, ax = plt.subplots(constrained_layout=True)\nax.plot(time_ds, data_ds.T - np.mean(data_ds, axis=1), **plot_kwargs)\nax.grid(True, ls=':')\nax.set(title='After reference regression', **set_kwargs)"
      ]
    },
    {
      "cell_type": "markdown",
      "metadata": {},
      "source": [
        "## Comparing denoising methods\n\nDiffering denoising methods will have differing levels of performance across\ndifferent parts of the spectrum. One way to evaluate the performance of a\ndenoising step is to calculate the power spectrum of the dataset before and\nafter processing. We will use metric called the shielding factor to summarise\nthe values. Positive shielding factors indicate a reduction in power, whilst\nnegative means in increase.\n\n"
      ]
    },
    {
      "cell_type": "code",
      "execution_count": null,
      "metadata": {
        "collapsed": false
      },
      "outputs": [],
      "source": [
        "# psd_pre was computed above before regression\npsd_post = raw.compute_psd(**psd_kwargs)\nshielding = 10 * np.log10(psd_pre[:] / psd_post[:])\n\nfig, ax = plt.subplots(constrained_layout=True)\nax.plot(psd_post.freqs, shielding.T, **plot_kwargs)\nax.grid(True, ls=':')\nax.set(xticks=psd_post.freqs)\nax.set(xlim=(0, 20), title='Reference regression shielding',\n       xlabel='Frequency (Hz)', ylabel='Shielding (dB)')"
      ]
    },
    {
      "cell_type": "markdown",
      "metadata": {},
      "source": [
        "## Filtering nuisance signals\n\nHaving regressed much of the high-amplitude, low-frequency interference, we\ncan now look to filtering the remnant nuisance signals. The motivation for\nfiltering after regression (rather than before) is to minimise any filter\nartefacts generated when removing such high-amplitude interfece (compared\nto the neural signals we are interested in).\n\nWe are going to remove the 50 Hz mains signal with a notch filter,\nfollowed by a bandpass filter between 1 and 48 Hz. From here it becomes clear\nthat the variance in our signal has been reduced from 100s of pT to 10s of\npT instead.\n\n"
      ]
    },
    {
      "cell_type": "code",
      "execution_count": null,
      "metadata": {
        "collapsed": false
      },
      "outputs": [],
      "source": [
        "# notch\nraw.notch_filter(np.arange(50, 251, 50))\n# bandpass\nraw.filter(1, 48, picks='meg')\n# plot\ndata_ds, _ = raw[picks[::5], :stop]\ndata_ds = data_ds[:, ::step] * amp_scale\nfig, ax = plt.subplots(constrained_layout=True)\nplot_kwargs = dict(lw=1, alpha=0.5)\nax.plot(time_ds, data_ds.T - np.mean(data_ds, axis=1), **plot_kwargs)\nax.grid(True)\nset_kwargs = dict(ylim=(-500, 500), xlim=time_ds[[0, -1]],\n                  xlabel='Time (s)', ylabel='Amplitude (pT)')\nax.set(title='After regression and filtering', **set_kwargs)"
      ]
    },
    {
      "cell_type": "markdown",
      "metadata": {},
      "source": [
        "## Generating an evoked response\n\nWith the data preprocessed, it is now possible to see an auditory evoked\nresponse at the sensor level.\n\n"
      ]
    },
    {
      "cell_type": "code",
      "execution_count": null,
      "metadata": {
        "collapsed": false
      },
      "outputs": [],
      "source": [
        "events = mne.find_events(raw, min_duration=0.1)\nepochs = mne.Epochs(raw, events, tmin=-0.1, tmax=0.4, baseline=(-0.1, 0.))\nevoked = epochs.average()\nevoked.plot()"
      ]
    },
    {
      "cell_type": "markdown",
      "metadata": {},
      "source": [
        "## References\n.. footbibliography::\n\n"
      ]
    }
  ],
  "metadata": {
    "kernelspec": {
      "display_name": "Python 3",
      "language": "python",
      "name": "python3"
    },
    "language_info": {
      "codemirror_mode": {
        "name": "ipython",
        "version": 3
      },
      "file_extension": ".py",
      "mimetype": "text/x-python",
      "name": "python",
      "nbconvert_exporter": "python",
      "pygments_lexer": "ipython3",
      "version": "3.10.6"
    }
  },
  "nbformat": 4,
  "nbformat_minor": 0
}