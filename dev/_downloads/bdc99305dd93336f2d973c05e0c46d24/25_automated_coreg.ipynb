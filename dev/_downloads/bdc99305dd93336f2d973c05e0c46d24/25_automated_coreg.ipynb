{
  "cells": [
    {
      "cell_type": "code",
      "execution_count": null,
      "metadata": {
        "collapsed": false
      },
      "outputs": [],
      "source": [
        "%matplotlib inline"
      ]
    },
    {
      "cell_type": "markdown",
      "metadata": {},
      "source": [
        "\n# Using an automated approach to coregistration\n\nThis example shows how to use the coregistration functions to perform an\nautomated MEG-MRI coregistration via scripting.\n\n<div class=\"alert alert-danger\"><h4>Warning</h4><p>The quality of the coregistration depends heavily upon the\n             quality of the head shape points (HSP) collected during subject\n             prepration and the quality of your T1-weighted MRI. Use with\n             caution and check the coregistration error.</p></div>\n"
      ]
    },
    {
      "cell_type": "code",
      "execution_count": null,
      "metadata": {
        "collapsed": false
      },
      "outputs": [],
      "source": [
        "# Author: Jon Houck <jon.houck@gmail.com>\n#         Guillaume Favelier <guillaume.favelier@gmail.com>\n#\n# License: BSD-3-Clause\n\nimport os.path as op\nimport numpy as np\n\nimport mne\nfrom mne.coreg import Coregistration\nfrom mne.io import read_info\n\n\ndata_path = mne.datasets.sample.data_path()\nsubjects_dir = op.join(data_path, 'subjects')\nsubject = 'sample'\n\nfname_raw = op.join(data_path, 'MEG', subject, subject + '_audvis_raw.fif')\ninfo = read_info(fname_raw)\nplot_kwargs = dict(subject=subject, subjects_dir=subjects_dir,\n                   surfaces=\"head-dense\", dig=True, eeg=[],\n                   meg='sensors', show_axes=True,\n                   coord_frame='meg')\nview_kwargs = dict(azimuth=45, elevation=90, distance=0.6,\n                   focalpoint=(0., 0., 0.))"
      ]
    },
    {
      "cell_type": "markdown",
      "metadata": {},
      "source": [
        "Set up the coregistration model\n\n"
      ]
    },
    {
      "cell_type": "code",
      "execution_count": null,
      "metadata": {
        "collapsed": false
      },
      "outputs": [],
      "source": [
        "fiducials = \"estimated\"  # get fiducials from fsaverage\ncoreg = Coregistration(info, subject, subjects_dir, fiducials=fiducials)\nfig = mne.viz.plot_alignment(info, trans=coreg.trans, **plot_kwargs)"
      ]
    },
    {
      "cell_type": "markdown",
      "metadata": {},
      "source": [
        "Do first a coregistration fit using only 3 fiducial points. This allows\nto find a good initial solution before further optimization using\nhead shape points. This can also be useful to detect outlier head shape\npoints which are too far from the skin surface. One can see for example\nthat on this dataset there is one such point and we will omit it from\nthe subsequent fit.\n\n"
      ]
    },
    {
      "cell_type": "code",
      "execution_count": null,
      "metadata": {
        "collapsed": false
      },
      "outputs": [],
      "source": [
        "coreg.fit_fiducials(verbose=True)\nfig = mne.viz.plot_alignment(info, trans=coreg.trans, **plot_kwargs)"
      ]
    },
    {
      "cell_type": "markdown",
      "metadata": {},
      "source": [
        "Next we refine the transformation using a few iteration of the\nIterative Closest Point (ICP) algorithm. As the initial fiducials\nare obtained from fsaverage and not from precise manual picking in the\nGUI we do a fit with reduced weight for the nasion.\n\n"
      ]
    },
    {
      "cell_type": "code",
      "execution_count": null,
      "metadata": {
        "collapsed": false
      },
      "outputs": [],
      "source": [
        "coreg.fit_icp(n_iterations=6, nasion_weight=2., verbose=True)\nfig = mne.viz.plot_alignment(info, trans=coreg.trans, **plot_kwargs)"
      ]
    },
    {
      "cell_type": "markdown",
      "metadata": {},
      "source": [
        "It is now very clear that we have one point that is an outlier\nand that should be removed.\n\n"
      ]
    },
    {
      "cell_type": "code",
      "execution_count": null,
      "metadata": {
        "collapsed": false
      },
      "outputs": [],
      "source": [
        "coreg.omit_head_shape_points(distance=5. / 1000)  # distance is in meters"
      ]
    },
    {
      "cell_type": "markdown",
      "metadata": {},
      "source": [
        "Do a final coregistration fit\n\n"
      ]
    },
    {
      "cell_type": "code",
      "execution_count": null,
      "metadata": {
        "collapsed": false
      },
      "outputs": [],
      "source": [
        "coreg.fit_icp(n_iterations=20, nasion_weight=10., verbose=True)\nfig = mne.viz.plot_alignment(info, trans=coreg.trans, **plot_kwargs)\nmne.viz.set_3d_view(fig, **view_kwargs)\n\ndists = coreg.compute_dig_mri_distances() * 1e3  # in mm\nprint(\n    f\"Distance between HSP and MRI (mean/min/max):\\n{np.mean(dists):.2f} mm \"\n    f\"/ {np.min(dists):.2f} mm / {np.max(dists):.2f} mm\"\n)"
      ]
    }
  ],
  "metadata": {
    "kernelspec": {
      "display_name": "Python 3",
      "language": "python",
      "name": "python3"
    },
    "language_info": {
      "codemirror_mode": {
        "name": "ipython",
        "version": 3
      },
      "file_extension": ".py",
      "mimetype": "text/x-python",
      "name": "python",
      "nbconvert_exporter": "python",
      "pygments_lexer": "ipython3",
      "version": "3.8.5"
    }
  },
  "nbformat": 4,
  "nbformat_minor": 0
}