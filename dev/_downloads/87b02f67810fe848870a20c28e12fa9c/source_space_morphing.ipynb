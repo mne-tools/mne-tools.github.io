{
  "cells": [
    {
      "cell_type": "markdown",
      "metadata": {},
      "source": [
        "\n\n# Use source space morphing\n\nThis example shows how to use source space morphing (as opposed to\n:class:`~mne.SourceEstimate` morphing) to create data that can be compared\nbetween subjects.\n\n<div class=\"alert alert-danger\"><h4>Warning</h4><p>Source space morphing will likely lead to source spaces that are\n             less evenly sampled than source spaces created for individual\n             subjects. Use with caution and check effects on localization\n             before use.</p></div>\n"
      ]
    },
    {
      "cell_type": "code",
      "execution_count": null,
      "metadata": {
        "collapsed": false
      },
      "outputs": [],
      "source": [
        "# Authors: Denis A. Engemann <denis.engemann@gmail.com>\n#          Eric larson <larson.eric.d@gmail.com>\n#\n# License: BSD-3-Clause"
      ]
    },
    {
      "cell_type": "code",
      "execution_count": null,
      "metadata": {
        "collapsed": false
      },
      "outputs": [],
      "source": [
        "import mne\n\ndata_path = mne.datasets.sample.data_path()\nsubjects_dir = data_path / \"subjects\"\nfname_trans = data_path / \"MEG\" / \"sample\" / \"sample_audvis_raw-trans.fif\"\nfname_bem = subjects_dir / \"sample\" / \"bem\" / \"sample-5120-bem-sol.fif\"\nfname_src_fs = subjects_dir / \"fsaverage\" / \"bem\" / \"fsaverage-ico-5-src.fif\"\nraw_fname = data_path / \"MEG\" / \"sample\" / \"sample_audvis_raw.fif\"\n\n# Get relevant channel information\ninfo = mne.io.read_info(raw_fname)\ninfo = mne.pick_info(info, mne.pick_types(info, meg=True, eeg=False, exclude=[]))\n\n# Morph fsaverage's source space to sample\nsrc_fs = mne.read_source_spaces(fname_src_fs)\nsrc_morph = mne.morph_source_spaces(\n    src_fs, subject_to=\"sample\", subjects_dir=subjects_dir\n)\n\n# Compute the forward with our morphed source space\nfwd = mne.make_forward_solution(info, trans=fname_trans, src=src_morph, bem=fname_bem)\nmag_map = mne.sensitivity_map(fwd, ch_type=\"mag\")\n\n# Return this SourceEstimate (on sample's surfaces) to fsaverage's surfaces\nmag_map_fs = mag_map.to_original_src(src_fs, subjects_dir=subjects_dir)\n\n# Plot the result, which tracks the sulcal-gyral folding\n# outliers may occur, we'll place the cutoff at 99 percent.\nkwargs = dict(\n    clim=dict(kind=\"percent\", lims=[0, 50, 99]),\n    # no smoothing, let's see the dipoles on the cortex.\n    smoothing_steps=1,\n    hemi=\"rh\",\n    views=[\"lat\"],\n)\n\n# Now note that the dipoles on fsaverage are almost equidistant while\n# morphing will distribute the dipoles unevenly across the given subject's\n# cortical surface to achieve the closest approximation to the average brain.\n# Our testing code suggests a correlation of higher than 0.99.\n\nbrain_subject = mag_map.plot(  # plot forward in subject source space (morphed)\n    time_label=\"Morphed\", subjects_dir=subjects_dir, **kwargs\n)\n\nbrain_fs = mag_map_fs.plot(  # plot forward in original source space (remapped)\n    time_label=\"Remapped\", subjects_dir=subjects_dir, **kwargs\n)"
      ]
    }
  ],
  "metadata": {
    "kernelspec": {
      "display_name": "Python 3",
      "language": "python",
      "name": "python3"
    },
    "language_info": {
      "codemirror_mode": {
        "name": "ipython",
        "version": 3
      },
      "file_extension": ".py",
      "mimetype": "text/x-python",
      "name": "python",
      "nbconvert_exporter": "python",
      "pygments_lexer": "ipython3",
      "version": "3.10.12"
    }
  },
  "nbformat": 4,
  "nbformat_minor": 0
}