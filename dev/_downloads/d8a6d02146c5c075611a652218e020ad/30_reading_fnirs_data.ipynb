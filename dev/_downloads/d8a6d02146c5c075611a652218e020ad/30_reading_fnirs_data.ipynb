{
  "cells": [
    {
      "cell_type": "code",
      "execution_count": null,
      "metadata": {
        "collapsed": false
      },
      "outputs": [],
      "source": [
        "%matplotlib inline"
      ]
    },
    {
      "cell_type": "markdown",
      "metadata": {},
      "source": [
        "\n\n# Importing data from fNIRS devices\n\nMNE includes various functions and utilities for reading NIRS\ndata and optode locations.\n\nfNIRS devices consist of light sources and light detectors. A channel is formed\nby source-detector pairs. MNE stores the location of the channels, sources, and\ndetectors.\n\n<div class=\"alert alert-danger\"><h4>Warning</h4><p>Information about device light wavelength is stored in channel\n             names. Manual modification of channel names is not recommended.</p></div>\n\n\n## NIRx (directory)\n\nNIRx recordings can be read in using :func:`mne.io.read_raw_nirx`.\nThe NIRx device stores data directly to a directory with multiple file types,\nMNE extracts the appropriate information from each file.\nMNE only supports NIRx files recorded with NIRStar version 15.0 and above.\n\n\n\n## SNIRF (.snirf)\n\nData stored in the SNIRF format can be read in\nusing :func:`mne.io.read_raw_snirf`.\n\n<div class=\"alert alert-danger\"><h4>Warning</h4><p>The SNIRF format has provisions for many different types of NIRS\n             recordings. MNE currently only supports continuous wave data\n             stored in the .snirf format.</p></div>\n\n\n\n## BOXY (.txt)\n\nBOXY recordings can be read in using :func:`mne.io.read_raw_boxy`.\nThe BOXY software and ISS Imagent I and II devices are frequency domain\nsystems that store data in a single ``.txt`` file containing what they call\n(with MNE's name for that type of data in parens):\n\n- DC\n    All light collected by the detector (``fnirs_cw_amplitude``)\n- AC\n    High-frequency modulated light intensity (``fnirs_fd_ac_amplitude``)\n- Phase\n    Phase of the modulated light (``fnirs_fd_phase``)\n\nDC data is stored as the type ``fnirs_cw_amplitude`` because it\ncollects both the modulated and any unmodulated light, and hence is analogous\nto what is collected by continuous wave systems such as NIRx. This helps with\nconformance to SNIRF standard types.\n\nThese raw data files can be saved by the acquisition devices as parsed or\nunparsed ``.txt`` files, which affects how the data in the file is organised.\nMNE will read either file type and extract the raw DC, AC, and Phase data.\nIf triggers are sent using the ``digaux`` port of the recording hardware, MNE\nwill also read the ``digaux`` data and create annotations for any triggers.\n\n## Hitachi (.csv)\n\nHitachi fNIRS recordings can be read using :func:`mne.io.read_raw_hitachi`.\nNo electrode information is stored so you'll need to set the montage manually,\nsee the Notes section of :func:`mne.io.read_raw_hitachi`.\n\n## Loading legacy data in CSV or TSV format\n\n<div class=\"alert alert-danger\"><h4>Warning</h4><p>This method is not supported and users are discoraged to use it.\n             You should convert your data to the\n             `SNIRF <https://github.com/fNIRS/snirf>`_ format using the tools\n             provided by the Society for functional Near-Infrared Spectroscopy,\n             and then load it using :func:`mne.io.read_raw_snirf`.</p></div>\n\nfNIRS measurements can have a non-standardised format that is not supported by\nMNE and cannot be converted easily into SNIRF. This legacy data is often in CSV\nor TSV format, we show here a way to load it even though it is not officially\nsupported by MNE due to the lack of standardisation of the file format (the\nnaming and ordering of channels, the type and scaling of data, and\nspecification of sensor positions varies between each vendor). You will likely\nhave to adapt this depending on the system from which your CSV originated.\n"
      ]
    },
    {
      "cell_type": "code",
      "execution_count": null,
      "metadata": {
        "collapsed": false
      },
      "outputs": [],
      "source": [
        "import numpy as np\nimport pandas as pd\nimport mne"
      ]
    },
    {
      "cell_type": "markdown",
      "metadata": {},
      "source": [
        "First, we generate an example CSV file which will then be loaded in to MNE.\nThis step would be skipped if you have actual data you wish to load.\nWe simulate 16 channels with 100 samples of data and save this to a file\ncalled fnirs.csv.\n\n"
      ]
    },
    {
      "cell_type": "code",
      "execution_count": null,
      "metadata": {
        "collapsed": false
      },
      "outputs": [],
      "source": [
        "pd.DataFrame(np.random.normal(size=(16, 100))).to_csv(\"fnirs.csv\")"
      ]
    },
    {
      "cell_type": "markdown",
      "metadata": {},
      "source": [
        "<div class=\"alert alert-danger\"><h4>Warning</h4><p>The channels must be ordered in haemoglobin pairs, such that for\n             a single channel all the types are in subsequent indices. The\n             type order must be 'hbo' then 'hbr'.\n             The data below is already in the correct order and may be\n             used as a template for how data must be stored.\n             If the order that your data is stored is different to the\n             mandatory formatting, then you must first read the data with\n             channel naming according to the data structure, then reorder\n             the channels to match the required format.</p></div>\n\nNext, we will load the example CSV file.\n\n"
      ]
    },
    {
      "cell_type": "code",
      "execution_count": null,
      "metadata": {
        "collapsed": false
      },
      "outputs": [],
      "source": [
        "data = pd.read_csv('fnirs.csv')"
      ]
    },
    {
      "cell_type": "markdown",
      "metadata": {},
      "source": [
        "Then, the metadata must be specified manually as the CSV file does not\ncontain information about channel names, types, sample rate etc.\n\n<div class=\"alert alert-danger\"><h4>Warning</h4><p>In MNE the naming of channels MUST follow the structure of\n             ``S#_D# type`` where # is replaced by the appropriate source and\n             detector numbers and type is either ``hbo``, ``hbr`` or the\n             wavelength.</p></div>\n\n"
      ]
    },
    {
      "cell_type": "code",
      "execution_count": null,
      "metadata": {
        "collapsed": false
      },
      "outputs": [],
      "source": [
        "ch_names = ['S1_D1 hbo', 'S1_D1 hbr', 'S2_D1 hbo', 'S2_D1 hbr',\n            'S3_D1 hbo', 'S3_D1 hbr', 'S4_D1 hbo', 'S4_D1 hbr',\n            'S5_D2 hbo', 'S5_D2 hbr', 'S6_D2 hbo', 'S6_D2 hbr',\n            'S7_D2 hbo', 'S7_D2 hbr', 'S8_D2 hbo', 'S8_D2 hbr']\nch_types = ['hbo', 'hbr', 'hbo', 'hbr',\n            'hbo', 'hbr', 'hbo', 'hbr',\n            'hbo', 'hbr', 'hbo', 'hbr',\n            'hbo', 'hbr', 'hbo', 'hbr']\nsfreq = 10.  # in Hz"
      ]
    },
    {
      "cell_type": "markdown",
      "metadata": {},
      "source": [
        "Finally, the data can be converted in to an MNE data structure.\nThe metadata above is used to create an :class:`mne.Info` data structure,\nand this is combined with the data to create an MNE :class:`~mne.io.Raw`\nobject. For more details on the info structure see `tut-info-class`, and\nfor additional details on how continuous data is stored in MNE see\n`tut-raw-class`.\nFor a more extensive description of how to create MNE data structures from\nraw array data see `tut_creating_data_structures`.\n\n"
      ]
    },
    {
      "cell_type": "code",
      "execution_count": null,
      "metadata": {
        "collapsed": false
      },
      "outputs": [],
      "source": [
        "info = mne.create_info(ch_names=ch_names, ch_types=ch_types, sfreq=sfreq)\nraw = mne.io.RawArray(data, info, verbose=True)"
      ]
    },
    {
      "cell_type": "markdown",
      "metadata": {},
      "source": [
        "### Applying standard sensor locations to imported data\n\nHaving information about optode locations may assist in your analysis.\nBeyond the general benefits this provides (e.g. creating regions of interest,\netc), this is may be particularly important for fNIRS as information about\nthe optode locations is required to convert the optical density data in to an\nestimate of the haemoglobin concentrations.\nMNE provides methods to load standard sensor configurations (montages) from\nsome vendors, and this is demonstrated below.\nSome handy tutorials for understanding sensor locations, coordinate systems,\nand how to store and view this information in MNE are:\n`tut-sensor-locations`, `plot_source_alignment`, and\n`ex-eeg-on-scalp`.\n\nBelow is an example of how to load the optode positions for an Artinis\nOctaMon device.\n\n<div class=\"alert alert-info\"><h4>Note</h4><p>It is also possible to create a custom montage from a file for\n          fNIRS with :func:`mne.channels.read_custom_montage` by setting\n          ``coord_frame`` to ``'mri'``.</p></div>\n\n"
      ]
    },
    {
      "cell_type": "code",
      "execution_count": null,
      "metadata": {
        "collapsed": false
      },
      "outputs": [],
      "source": [
        "montage = mne.channels.make_standard_montage('artinis-octamon')\nraw.set_montage(montage)\n\n# View the position of optodes in 2D to confirm the positions are correct.\nraw.plot_sensors()"
      ]
    },
    {
      "cell_type": "markdown",
      "metadata": {},
      "source": [
        "To validate the positions were loaded correctly it is also possible to view\nthe location of the sources (red), detectors (black), and channels (white\nlines and orange dots) in a 3D representation.\nThe ficiduals are marked in blue, green and red.\nSee `plot_source_alignment` for more details.\n\n"
      ]
    },
    {
      "cell_type": "code",
      "execution_count": null,
      "metadata": {
        "collapsed": false
      },
      "outputs": [],
      "source": [
        "subjects_dir = mne.datasets.sample.data_path() + '/subjects'\nmne.datasets.fetch_fsaverage(subjects_dir=subjects_dir)\n\ntrans = mne.channels.compute_native_head_t(montage)\n\nfig = mne.viz.create_3d_figure(size=(800, 600), bgcolor='white')\nfig = mne.viz.plot_alignment(\n    raw.info, trans=trans, subject='fsaverage', subjects_dir=subjects_dir,\n    surfaces=['brain', 'head'], coord_frame='mri', dig=True, show_axes=True,\n    fnirs=['channels', 'pairs', 'sources', 'detectors'], fig=fig)\nmne.viz.set_3d_view(figure=fig, azimuth=90, elevation=90, distance=0.5,\n                    focalpoint=(0., -0.01, 0.02))"
      ]
    }
  ],
  "metadata": {
    "kernelspec": {
      "display_name": "Python 3",
      "language": "python",
      "name": "python3"
    },
    "language_info": {
      "codemirror_mode": {
        "name": "ipython",
        "version": 3
      },
      "file_extension": ".py",
      "mimetype": "text/x-python",
      "name": "python",
      "nbconvert_exporter": "python",
      "pygments_lexer": "ipython3",
      "version": "3.8.5"
    }
  },
  "nbformat": 4,
  "nbformat_minor": 0
}