{
  "cells": [
    {
      "cell_type": "markdown",
      "metadata": {},
      "source": [
        "\n\n# Working with eye tracker data in MNE-Python\n\nIn this tutorial we will load some eye tracker data and plot the average\npupil response to light flashes (i.e. the pupillary light reflex).\n"
      ]
    },
    {
      "cell_type": "code",
      "execution_count": null,
      "metadata": {
        "collapsed": false
      },
      "outputs": [],
      "source": [
        "# Authors: Dominik Welke <dominik.welke@web.de>\n#          Scott Huberty <scott.huberty@mail.mcgill.ca>\n#\n# License: BSD-3-Clause"
      ]
    },
    {
      "cell_type": "markdown",
      "metadata": {},
      "source": [
        "## Data loading\n\nFirst we will load an eye tracker recording from SR research's proprietary\n``'.asc'`` file format.\n\nBy default, Eyelink files will output events for occular events (blinks,\nsaccades, fixations), and experiment messages. MNE will store these events\nas `mne.Annotations`. If we are only interested in certain event types from\nthe Eyelink file, we can select for these using the ``'create_annotations'``\nargument of `mne.io.read_raw_eyelink`. Here, we will only create annotations\nfor blinks, and experiment messages.\n\nThe info structure tells us we loaded a monocular recording with 2\n``'eyegaze'``, channels (X/Y), 1 ``'pupil'`` channel, and 1 ``'stim'``\nchannel.\n\n"
      ]
    },
    {
      "cell_type": "code",
      "execution_count": null,
      "metadata": {
        "collapsed": false
      },
      "outputs": [],
      "source": [
        "from mne import Epochs, find_events\nfrom mne.io import read_raw_eyelink\nfrom mne.datasets.eyelink import data_path\n\neyelink_fname = data_path() / \"mono_multi-block_multi-DINS.asc\"\n\nraw = read_raw_eyelink(eyelink_fname, create_annotations=[\"blinks\", \"messages\"])\nraw.crop(tmin=0, tmax=146)"
      ]
    },
    {
      "cell_type": "markdown",
      "metadata": {},
      "source": [
        "## Get stimulus events from DIN channel\n\nEyelink eye trackers have a DIN port that can be used to feed in stimulus\nor response timings. :func:`mne.io.read_raw_eyelink` loads this data as a\n``'stim'`` channel. Alternatively, the onset of stimulus events could be sent\nto the eyetracker as ``messages`` - these can be read in as\n`mne.Annotations`.\n\nIn the example data, the DIN channel contains the onset of light flashes on\nthe screen. We now extract these events to visualize the pupil response.\n\n"
      ]
    },
    {
      "cell_type": "code",
      "execution_count": null,
      "metadata": {
        "collapsed": false
      },
      "outputs": [],
      "source": [
        "events = find_events(raw, \"DIN\", shortest_event=1, min_duration=0.02, uint_cast=True)\nevent_dict = {\"flash\": 3}"
      ]
    },
    {
      "cell_type": "markdown",
      "metadata": {},
      "source": [
        "## Plot raw data\n\nAs the following plot shows, we now have a raw object with the eye tracker\ndata, eyeblink annotations and stimulus events (from the DIN channel).\n\nThe plot also shows us that there is some noise in the data (not always\ncategorized as blinks). Also, notice that we have passed a custom `dict` into\nthe scalings argument of ``raw.plot``. This is necessary to make the eyegaze\nchannel traces legible when plotting, since the file contains pixel position\ndata (as opposed to eye angles, which are reported in radians).\n\n"
      ]
    },
    {
      "cell_type": "code",
      "execution_count": null,
      "metadata": {
        "collapsed": false
      },
      "outputs": [],
      "source": [
        "raw.plot(\n    events=events,\n    event_id={\"Flash\": 3},\n    event_color=\"g\",\n    start=25,\n    duration=45,\n    scalings=dict(eyegaze=1e3),\n)"
      ]
    },
    {
      "cell_type": "markdown",
      "metadata": {},
      "source": [
        "## Plot average pupil response\n\nWe now visualize the pupillary light reflex.\nTherefore, we select only the pupil channel and plot the evoked response to\nthe light flashes.\n\nAs we see, there is a prominent decrease in pupil size following the\nstimulation. The noise starting about 2.5 s after stimulus onset stems from\neyeblinks and artifacts in some of the 16 trials.\n\n"
      ]
    },
    {
      "cell_type": "code",
      "execution_count": null,
      "metadata": {
        "collapsed": false
      },
      "outputs": [],
      "source": [
        "epochs = Epochs(raw, events, tmin=-0.3, tmax=5, event_id=event_dict, preload=True)\nepochs.pick_types(eyetrack=\"pupil\")\nepochs.average().plot()"
      ]
    },
    {
      "cell_type": "markdown",
      "metadata": {},
      "source": [
        "It is important to note that pupil size data are reported by Eyelink (and\nstored internally by MNE) as arbitrary units (AU). While it often can be\npreferable to convert pupil size data to millimeters, this requires\ninformation that is not always present in the file. MNE does not currently\nprovide methods to convert pupil size data.\nSee `tut-importing-eyetracking-data` for more information on pupil size\ndata.\n\n"
      ]
    }
  ],
  "metadata": {
    "kernelspec": {
      "display_name": "Python 3",
      "language": "python",
      "name": "python3"
    },
    "language_info": {
      "codemirror_mode": {
        "name": "ipython",
        "version": 3
      },
      "file_extension": ".py",
      "mimetype": "text/x-python",
      "name": "python",
      "nbconvert_exporter": "python",
      "pygments_lexer": "ipython3",
      "version": "3.10.6"
    }
  },
  "nbformat": 4,
  "nbformat_minor": 0
}