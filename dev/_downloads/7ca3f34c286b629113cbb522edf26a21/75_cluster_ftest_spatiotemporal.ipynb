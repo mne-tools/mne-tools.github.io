{
  "cells": [
    {
      "cell_type": "code",
      "execution_count": null,
      "metadata": {
        "collapsed": false
      },
      "outputs": [],
      "source": [
        "%matplotlib inline"
      ]
    },
    {
      "cell_type": "markdown",
      "metadata": {},
      "source": [
        "\n\n# Spatiotemporal permutation F-test on full sensor data\n\nTests for differential evoked responses in at least\none condition using a permutation clustering test.\nThe FieldTrip neighbor templates will be used to determine\nthe adjacency between sensors. This serves as a spatial prior\nto the clustering. Spatiotemporal clusters will then\nbe visualized using custom matplotlib code.\n\nSee the `FieldTrip website`_ for a caveat regarding\nthe possible interpretation of \"significant\" clusters.\n"
      ]
    },
    {
      "cell_type": "code",
      "execution_count": null,
      "metadata": {
        "collapsed": false
      },
      "outputs": [],
      "source": [
        "# Authors: Denis Engemann <denis.engemann@gmail.com>\n#          Jona Sassenhagen <jona.sassenhagen@gmail.com>\n#          Alex Rockhill <aprockhill@mailbox.org>\n#\n# License: BSD-3-Clause"
      ]
    },
    {
      "cell_type": "code",
      "execution_count": null,
      "metadata": {
        "collapsed": false
      },
      "outputs": [],
      "source": [
        "import numpy as np\nimport matplotlib.pyplot as plt\nfrom mpl_toolkits.axes_grid1 import make_axes_locatable\n\nimport mne\nfrom mne.stats import spatio_temporal_cluster_test, combine_adjacency\nfrom mne.datasets import sample\nfrom mne.channels import find_ch_adjacency\nfrom mne.viz import plot_compare_evokeds\nfrom mne.time_frequency import tfr_morlet\n\nprint(__doc__)"
      ]
    },
    {
      "cell_type": "markdown",
      "metadata": {},
      "source": [
        "## Set parameters\n\n"
      ]
    },
    {
      "cell_type": "code",
      "execution_count": null,
      "metadata": {
        "collapsed": false
      },
      "outputs": [],
      "source": [
        "data_path = sample.data_path()\nmeg_path = data_path / 'MEG' / 'sample'\nraw_fname = meg_path / 'sample_audvis_filt-0-40_raw.fif'\nevent_fname = meg_path / 'sample_audvis_filt-0-40_raw-eve.fif'\nevent_id = {'Aud/L': 1, 'Aud/R': 2, 'Vis/L': 3, 'Vis/R': 4}\ntmin = -0.2\ntmax = 0.5\n\n# Setup for reading the raw data\nraw = mne.io.read_raw_fif(raw_fname, preload=True)\nraw.filter(1, 30, fir_design='firwin')\nevents = mne.read_events(event_fname)"
      ]
    },
    {
      "cell_type": "markdown",
      "metadata": {},
      "source": [
        "## Read epochs for the channel of interest\n\n"
      ]
    },
    {
      "cell_type": "code",
      "execution_count": null,
      "metadata": {
        "collapsed": false
      },
      "outputs": [],
      "source": [
        "picks = mne.pick_types(raw.info, meg='mag', eog=True)\n\nreject = dict(mag=4e-12, eog=150e-6)\nepochs = mne.Epochs(raw, events, event_id, tmin, tmax, picks=picks,\n                    baseline=None, reject=reject, preload=True)\n\nepochs.drop_channels(['EOG 061'])\nepochs.equalize_event_counts(event_id)\n\nX = [epochs[k].get_data() for k in event_id]  # as 3D matrix\nX = [np.transpose(x, (0, 2, 1)) for x in X]  # transpose for clustering"
      ]
    },
    {
      "cell_type": "markdown",
      "metadata": {},
      "source": [
        "## Find the FieldTrip neighbor definition to setup sensor adjacency\n\n"
      ]
    },
    {
      "cell_type": "code",
      "execution_count": null,
      "metadata": {
        "collapsed": false
      },
      "outputs": [],
      "source": [
        "adjacency, ch_names = find_ch_adjacency(epochs.info, ch_type='mag')\n\nprint(type(adjacency))  # it's a sparse matrix!\n\nfig, ax = plt.subplots(figsize=(5, 4))\nax.imshow(adjacency.toarray(), cmap='gray', origin='lower',\n          interpolation='nearest')\nax.set_xlabel('{} Magnetometers'.format(len(ch_names)))\nax.set_ylabel('{} Magnetometers'.format(len(ch_names)))\nax.set_title('Between-sensor adjacency')\nfig.tight_layout()"
      ]
    },
    {
      "cell_type": "markdown",
      "metadata": {},
      "source": [
        "## Compute permutation statistic\n\nHow does it work? We use clustering to \"bind\" together features which are\nsimilar. Our features are the magnetic fields measured over our sensor\narray at different times. This reduces the multiple comparison problem.\nTo compute the actual test-statistic, we first sum all F-values in all\nclusters. We end up with one statistic for each cluster.\nThen we generate a distribution from the data by shuffling our conditions\nbetween our samples and recomputing our clusters and the test statistics.\nWe test for the significance of a given cluster by computing the probability\nof observing a cluster of that size. For more background read:\nMaris/Oostenveld (2007), \"Nonparametric statistical testing of EEG- and\nMEG-data\" Journal of Neuroscience Methods, Vol. 164, No. 1., pp. 177-190.\ndoi:10.1016/j.jneumeth.2007.03.024\n\n"
      ]
    },
    {
      "cell_type": "code",
      "execution_count": null,
      "metadata": {
        "collapsed": false
      },
      "outputs": [],
      "source": [
        "# set cluster threshold\nthreshold = 50.0  # very high, but the test is quite sensitive on this data\n# set family-wise p-value\np_accept = 0.01\n\ncluster_stats = spatio_temporal_cluster_test(X, n_permutations=1000,\n                                             threshold=threshold, tail=1,\n                                             n_jobs=1, buffer_size=None,\n                                             adjacency=adjacency)\n\nF_obs, clusters, p_values, _ = cluster_stats\ngood_cluster_inds = np.where(p_values < p_accept)[0]"
      ]
    },
    {
      "cell_type": "markdown",
      "metadata": {},
      "source": [
        "Note. The same functions work with source estimate. The only differences\nare the origin of the data, the size, and the adjacency definition.\nIt can be used for single trials or for groups of subjects.\n\n## Visualize clusters\n\n"
      ]
    },
    {
      "cell_type": "code",
      "execution_count": null,
      "metadata": {
        "collapsed": false
      },
      "outputs": [],
      "source": [
        "# configure variables for visualization\ncolors = {\"Aud\": \"crimson\", \"Vis\": 'steelblue'}\nlinestyles = {\"L\": '-', \"R\": '--'}\n\n# organize data for plotting\nevokeds = {cond: epochs[cond].average() for cond in event_id}\n\n# loop over clusters\nfor i_clu, clu_idx in enumerate(good_cluster_inds):\n    # unpack cluster information, get unique indices\n    time_inds, space_inds = np.squeeze(clusters[clu_idx])\n    ch_inds = np.unique(space_inds)\n    time_inds = np.unique(time_inds)\n\n    # get topography for F stat\n    f_map = F_obs[time_inds, ...].mean(axis=0)\n\n    # get signals at the sensors contributing to the cluster\n    sig_times = epochs.times[time_inds]\n\n    # create spatial mask\n    mask = np.zeros((f_map.shape[0], 1), dtype=bool)\n    mask[ch_inds, :] = True\n\n    # initialize figure\n    fig, ax_topo = plt.subplots(1, 1, figsize=(10, 3))\n\n    # plot average test statistic and mark significant sensors\n    f_evoked = mne.EvokedArray(f_map[:, np.newaxis], epochs.info, tmin=0)\n    f_evoked.plot_topomap(times=0, mask=mask, axes=ax_topo, cmap='Reds',\n                          vmin=np.min, vmax=np.max, show=False,\n                          colorbar=False, mask_params=dict(markersize=10))\n    image = ax_topo.images[0]\n\n    # create additional axes (for ERF and colorbar)\n    divider = make_axes_locatable(ax_topo)\n\n    # add axes for colorbar\n    ax_colorbar = divider.append_axes('right', size='5%', pad=0.05)\n    plt.colorbar(image, cax=ax_colorbar)\n    ax_topo.set_xlabel(\n        'Averaged F-map ({:0.3f} - {:0.3f} s)'.format(*sig_times[[0, -1]]))\n\n    # add new axis for time courses and plot time courses\n    ax_signals = divider.append_axes('right', size='300%', pad=1.2)\n    title = 'Cluster #{0}, {1} sensor'.format(i_clu + 1, len(ch_inds))\n    if len(ch_inds) > 1:\n        title += \"s (mean)\"\n    plot_compare_evokeds(evokeds, title=title, picks=ch_inds, axes=ax_signals,\n                         colors=colors, linestyles=linestyles, show=False,\n                         split_legend=True, truncate_yaxis='auto')\n\n    # plot temporal cluster extent\n    ymin, ymax = ax_signals.get_ylim()\n    ax_signals.fill_betweenx((ymin, ymax), sig_times[0], sig_times[-1],\n                             color='orange', alpha=0.3)\n\n    # clean up viz\n    mne.viz.tight_layout(fig=fig)\n    fig.subplots_adjust(bottom=.05)\n    plt.show()"
      ]
    },
    {
      "cell_type": "markdown",
      "metadata": {},
      "source": [
        "## Permutation statistic for time-frequencies\n\nLet's do the same thing with the time-frequency decomposition of the data\n(see `tut-sensors-time-freq` for a tutorial and\n`ex-tfr-comparison` for a comparison of time-frequency methods) to\nshow how cluster permutations can be done on higher-dimensional data.\n\n"
      ]
    },
    {
      "cell_type": "code",
      "execution_count": null,
      "metadata": {
        "collapsed": false
      },
      "outputs": [],
      "source": [
        "decim = 4\nfreqs = np.arange(7, 30, 3)  # define frequencies of interest\nn_cycles = freqs / freqs[0]\n\nepochs_power = list()\nfor condition in [epochs[k] for k in ('Aud/L', 'Vis/L')]:\n    this_tfr = tfr_morlet(condition, freqs, n_cycles=n_cycles,\n                          decim=decim, average=False, return_itc=False)\n    this_tfr.apply_baseline(mode='ratio', baseline=(None, 0))\n    epochs_power.append(this_tfr.data)\n\n# transpose again to (epochs, frequencies, times, vertices)\nX = [np.transpose(x, (0, 2, 3, 1)) for x in epochs_power]"
      ]
    },
    {
      "cell_type": "markdown",
      "metadata": {},
      "source": [
        "Let's extend our adjacency definition to include the time-frequency\ndimensions. Here, the integer inputs are converted into a lattice and\ncombined with the sensor adjacency matrix so that data at similar\ntimes and with similar frequencies and at close sensor locations are\nclustered together.\n\n"
      ]
    },
    {
      "cell_type": "code",
      "execution_count": null,
      "metadata": {
        "collapsed": false
      },
      "outputs": [],
      "source": [
        "tfr_adjacency = combine_adjacency(\n    len(freqs), len(this_tfr.times), adjacency)"
      ]
    },
    {
      "cell_type": "markdown",
      "metadata": {},
      "source": [
        "Now we can run the cluster permutation test, but first we have to set a\nthreshold. This example decimates in time and uses few frequencies so we need\nto increase the threshold from the default value in order to have\ndifferentiated clusters (i.e. so that our algorithm doesn't just find one\nlarge cluster). For a more principled method of setting this parameter,\nthreshold-free cluster enhancement may be used or the p-value may be set with\n\n.. code-block:: python\n\n    from scipy import stats\n    n_comparisons = len(X)  # L auditory vs L visual stimulus\n    n_conditions = X[0].shape[0]  # 55 epochs per comparison\n    threshold = stats.distributions.f.ppf(\n        1 - p_accept, n_comparisons - 1, n_conditions - 1)\n\nSee `disc-stats` for a discussion.\n\n"
      ]
    },
    {
      "cell_type": "code",
      "execution_count": null,
      "metadata": {
        "collapsed": false
      },
      "outputs": [],
      "source": [
        "tfr_threshold = 15.0\n\n# run statistic\ncluster_stats = spatio_temporal_cluster_test(\n    X, n_permutations=1000, threshold=tfr_threshold, tail=1, n_jobs=1,\n    buffer_size=None, adjacency=tfr_adjacency)"
      ]
    },
    {
      "cell_type": "markdown",
      "metadata": {},
      "source": [
        "Finally, we can plot our results. It is difficult to visualize clusters in\ntime-frequency-sensor space; plotting time-frequency spectrograms and\nplotting topomaps display time-frequency and sensor space respectively\nbut they are difficult to combine. We will plot topomaps with the clustered\nsensors colored in white adjacent to spectrograms in order to provide a\nvisualization of the results. This is a dimensionally limited view, however.\nEach sensor has its own significant time-frequencies, but, in order to\ndisplay a single spectrogram, all the time-frequencies that are significant\nfor any sensor in the cluster are plotted as significant. This is a\ndifficulty inherent to visualizing high-dimensional data and should be taken\ninto consideration when interpreting results.\n\n"
      ]
    },
    {
      "cell_type": "code",
      "execution_count": null,
      "metadata": {
        "collapsed": false
      },
      "outputs": [],
      "source": [
        "F_obs, clusters, p_values, _ = cluster_stats\ngood_cluster_inds = np.where(p_values < p_accept)[0]\n\nfor i_clu, clu_idx in enumerate(good_cluster_inds):\n    # unpack cluster information, get unique indices\n    freq_inds, time_inds, space_inds = clusters[clu_idx]\n    ch_inds = np.unique(space_inds)\n    time_inds = np.unique(time_inds)\n    freq_inds = np.unique(freq_inds)\n\n    # get topography for F stat\n    f_map = F_obs[freq_inds].mean(axis=0)\n    f_map = f_map[time_inds].mean(axis=0)\n\n    # get signals at the sensors contributing to the cluster\n    sig_times = epochs.times[time_inds]\n\n    # initialize figure\n    fig, ax_topo = plt.subplots(1, 1, figsize=(10, 3))\n\n    # create spatial mask\n    mask = np.zeros((f_map.shape[0], 1), dtype=bool)\n    mask[ch_inds, :] = True\n\n    # plot average test statistic and mark significant sensors\n    f_evoked = mne.EvokedArray(f_map[:, np.newaxis], epochs.info, tmin=0)\n    f_evoked.plot_topomap(times=0, mask=mask, axes=ax_topo, cmap='Reds',\n                          vmin=np.min, vmax=np.max, show=False,\n                          colorbar=False, mask_params=dict(markersize=10))\n    image = ax_topo.images[0]\n\n    # create additional axes (for ERF and colorbar)\n    divider = make_axes_locatable(ax_topo)\n\n    # add axes for colorbar\n    ax_colorbar = divider.append_axes('right', size='5%', pad=0.05)\n    plt.colorbar(image, cax=ax_colorbar)\n    ax_topo.set_xlabel(\n        'Averaged F-map ({:0.3f} - {:0.3f} s)'.format(*sig_times[[0, -1]]))\n\n    # add new axis for spectrogram\n    ax_spec = divider.append_axes('right', size='300%', pad=1.2)\n    title = 'Cluster #{0}, {1} spectrogram'.format(i_clu + 1, len(ch_inds))\n    if len(ch_inds) > 1:\n        title += \" (max over channels)\"\n    F_obs_plot = F_obs[..., ch_inds].max(axis=-1)\n    F_obs_plot_sig = np.zeros(F_obs_plot.shape) * np.nan\n    F_obs_plot_sig[tuple(np.meshgrid(freq_inds, time_inds))] = \\\n        F_obs_plot[tuple(np.meshgrid(freq_inds, time_inds))]\n\n    for f_image, cmap in zip([F_obs_plot, F_obs_plot_sig], ['gray', 'autumn']):\n        c = ax_spec.imshow(f_image, cmap=cmap, aspect='auto', origin='lower',\n                           extent=[epochs.times[0], epochs.times[-1],\n                                   freqs[0], freqs[-1]])\n    ax_spec.set_xlabel('Time (ms)')\n    ax_spec.set_ylabel('Frequency (Hz)')\n    ax_spec.set_title(title)\n\n    # add another colorbar\n    ax_colorbar2 = divider.append_axes('right', size='5%', pad=0.05)\n    plt.colorbar(c, cax=ax_colorbar2)\n    ax_colorbar2.set_ylabel('F-stat')\n\n    # clean up viz\n    mne.viz.tight_layout(fig=fig)\n    fig.subplots_adjust(bottom=.05)"
      ]
    },
    {
      "cell_type": "markdown",
      "metadata": {},
      "source": [
        "## Exercises\n\n- What is the smallest p-value you can obtain, given the finite number of\n  permutations?\n- use an F distribution to compute the threshold by traditional significance\n  levels. Hint: take a look at :obj:`scipy.stats.f`\n\n      http://www.fieldtriptoolbox.org/faq/\n      how_not_to_interpret_results_from_a_cluster-based_permutation_test\n\n"
      ]
    }
  ],
  "metadata": {
    "kernelspec": {
      "display_name": "Python 3",
      "language": "python",
      "name": "python3"
    },
    "language_info": {
      "codemirror_mode": {
        "name": "ipython",
        "version": 3
      },
      "file_extension": ".py",
      "mimetype": "text/x-python",
      "name": "python",
      "nbconvert_exporter": "python",
      "pygments_lexer": "ipython3",
      "version": "3.8.0"
    }
  },
  "nbformat": 4,
  "nbformat_minor": 0
}