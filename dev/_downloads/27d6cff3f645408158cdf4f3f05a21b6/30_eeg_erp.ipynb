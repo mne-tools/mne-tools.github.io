{
  "cells": [
    {
      "cell_type": "code",
      "execution_count": null,
      "metadata": {
        "collapsed": false
      },
      "outputs": [],
      "source": [
        "%matplotlib inline"
      ]
    },
    {
      "cell_type": "markdown",
      "metadata": {},
      "source": [
        "\n\n# EEG processing and Event Related Potentials (ERPs)\n\nThis tutorial shows how to perform standard ERP analyses in MNE-Python. Most of\nthe material here is covered in other tutorials too, but for convenience the\nfunctions and methods most useful for ERP analyses are collected here, with\nlinks to other tutorials where more detailed information is given.\n\nAs usual we'll start by importing the modules we need and loading some example\ndata. Instead of parsing the events from the raw data's :term:`stim channel`\n(like we do in `this tutorial <tut-events-vs-annotations>`), we'll load\nthe events from an external events file. Finally, to speed up computations so\nour documentation server can handle them, we'll crop the raw data from ~4.5\nminutes down to 90 seconds.\n"
      ]
    },
    {
      "cell_type": "code",
      "execution_count": null,
      "metadata": {
        "collapsed": false
      },
      "outputs": [],
      "source": [
        "import os\nimport numpy as np\nimport pandas as pd\nimport matplotlib.pyplot as plt\nimport mne\n\nsample_data_folder = mne.datasets.sample.data_path()\nsample_data_raw_file = os.path.join(sample_data_folder, 'MEG', 'sample',\n                                    'sample_audvis_filt-0-40_raw.fif')\nraw = mne.io.read_raw_fif(sample_data_raw_file, preload=False)\n\nsample_data_events_file = os.path.join(sample_data_folder, 'MEG', 'sample',\n                                       'sample_audvis_filt-0-40_raw-eve.fif')\nevents = mne.read_events(sample_data_events_file)\n\nraw.crop(tmax=90)  # in seconds; happens in-place\n# discard events >90 seconds (not strictly necessary: avoids some warnings)\nevents = events[events[:, 0] <= raw.last_samp]"
      ]
    },
    {
      "cell_type": "markdown",
      "metadata": {},
      "source": [
        "The file that we loaded has already been partially processed: 3D sensor\nlocations have been saved as part of the ``.fif`` file, the data have been\nlow-pass filtered at 40 Hz, and a common average reference is set for the\nEEG channels, stored as a projector (see `section-avg-ref-proj` in the\n`tut-set-eeg-ref` tutorial for more info about when you may want to do\nthis). We'll discuss how to do each of these below.\n\nSince this is a combined EEG+MEG dataset, let's start by restricting the data\nto just the EEG and EOG channels. This will cause the other projectors saved\nin the file (which apply only to magnetometer channels) to be removed. By\nlooking at the measurement info we can see that we now have 59 EEG channels\nand 1 EOG channel.\n\n"
      ]
    },
    {
      "cell_type": "code",
      "execution_count": null,
      "metadata": {
        "collapsed": false
      },
      "outputs": [],
      "source": [
        "raw.pick(['eeg', 'eog']).load_data()\nraw.info"
      ]
    },
    {
      "cell_type": "markdown",
      "metadata": {},
      "source": [
        "## Channel names and types\n\nIn practice it's quite common to have some channels labelled as EEG that are\nactually EOG channels. `~mne.io.Raw` objects have a\n`~mne.io.Raw.set_channel_types` method that you can use to change a channel\nthat is labeled as ``eeg`` into an ``eog`` type. You can also rename channels\nusing the `~mne.io.Raw.rename_channels` method. Detailed examples of both of\nthese methods can be found in the tutorial `tut-raw-class`. In this data\nthe channel types are all correct already, so for now we'll just rename the\nchannels to remove a space and a leading zero in the channel names, and\nconvert to lowercase:\n\n"
      ]
    },
    {
      "cell_type": "code",
      "execution_count": null,
      "metadata": {
        "collapsed": false
      },
      "outputs": [],
      "source": [
        "channel_renaming_dict = {name: name.replace(' 0', '').lower()\n                         for name in raw.ch_names}\n_ = raw.rename_channels(channel_renaming_dict)  # happens in-place"
      ]
    },
    {
      "cell_type": "markdown",
      "metadata": {},
      "source": [
        "## Channel locations\n\nThe tutorial `tut-sensor-locations` describes MNE-Python's handling of\nsensor positions in great detail. To briefly summarize: MNE-Python\ndistinguishes :term:`montages <montage>` (which contain sensor positions in\n3D: ``x``, ``y``, ``z``, in meters) from :term:`layouts <layout>` (which\ndefine 2D arrangements of sensors for plotting approximate overhead diagrams\nof sensor positions). Additionally, montages may specify *idealized* sensor\npositions (based on, e.g., an idealized spherical headshape model) or they\nmay contain *realistic* sensor positions obtained by digitizing the 3D\nlocations of the sensors when placed on the actual subject's head.\n\nThis dataset has realistic digitized 3D sensor locations saved as part of the\n``.fif`` file, so we can view the sensor locations in 2D or 3D using the\n`~mne.io.Raw.plot_sensors` method:\n\n"
      ]
    },
    {
      "cell_type": "code",
      "execution_count": null,
      "metadata": {
        "collapsed": false
      },
      "outputs": [],
      "source": [
        "raw.plot_sensors(show_names=True)\nfig = raw.plot_sensors('3d')"
      ]
    },
    {
      "cell_type": "markdown",
      "metadata": {},
      "source": [
        "If you're working with a standard montage like the `10-20 <ten_twenty_>`_\nsystem, you can add sensor locations to the data like this:\n``raw.set_montage('standard_1020')``.  See `tut-sensor-locations` for\ninfo on what other standard montages are built-in to MNE-Python.\n\nIf you have digitized realistic sensor locations, there are dedicated\nfunctions for loading those digitization files into MNE-Python; see\n`reading-dig-montages` for discussion and `dig-formats` for a list\nof supported formats. Once loaded, the digitized sensor locations can be\nadded to the data by passing the loaded montage object to\n``raw.set_montage()``.\n\n\n## Setting the EEG reference\n\nAs mentioned above, this data already has an EEG common average reference\nadded as a :term:`projector`. We can view the effect of this on the raw data\nby plotting with and without the projector applied:\n\n"
      ]
    },
    {
      "cell_type": "code",
      "execution_count": null,
      "metadata": {
        "collapsed": false
      },
      "outputs": [],
      "source": [
        "for proj in (False, True):\n    fig = raw.plot(n_channels=5, proj=proj, scalings=dict(eeg=50e-6))\n    fig.subplots_adjust(top=0.9)  # make room for title\n    ref = 'Average' if proj else 'No'\n    fig.suptitle(f'{ref} reference', size='xx-large', weight='bold')"
      ]
    },
    {
      "cell_type": "markdown",
      "metadata": {},
      "source": [
        "The referencing scheme can be changed with the function\n`mne.set_eeg_reference` (which by default operates on a *copy* of the data)\nor the `raw.set_eeg_reference() <mne.io.Raw.set_eeg_reference>` method (which\nalways modifies the data in-place). The tutorial `tut-set-eeg-ref` shows\nseveral examples of this.\n\n\n## Filtering\n\nMNE-Python has extensive support for different ways of filtering data. For a\ngeneral discussion of filter characteristics and MNE-Python defaults, see\n`disc-filtering`. For practical examples of how to apply filters to your\ndata, see `tut-filter-resample`. Here, we'll apply a simple high-pass\nfilter for illustration:\n\n"
      ]
    },
    {
      "cell_type": "code",
      "execution_count": null,
      "metadata": {
        "collapsed": false
      },
      "outputs": [],
      "source": [
        "raw.filter(l_freq=0.1, h_freq=None)"
      ]
    },
    {
      "cell_type": "markdown",
      "metadata": {},
      "source": [
        "## Evoked responses: epoching and averaging\n\nThe general process for extracting evoked responses from continuous data is\nto use the `~mne.Epochs` constructor, and then average the resulting epochs\nto create an `~mne.Evoked` object. In MNE-Python, events are represented as\na :class:`NumPy array <numpy.ndarray>` of sample numbers and integer event\ncodes. The event codes are stored in the last column of the events array:\n\n"
      ]
    },
    {
      "cell_type": "code",
      "execution_count": null,
      "metadata": {
        "collapsed": false
      },
      "outputs": [],
      "source": [
        "np.unique(events[:, -1])"
      ]
    },
    {
      "cell_type": "markdown",
      "metadata": {},
      "source": [
        "The `tut-event-arrays` tutorial discusses event arrays in more detail.\nInteger event codes are mapped to more descriptive text using a Python\n:class:`dictionary <dict>` usually called ``event_id``. This mapping is\ndetermined by your experiment code (i.e., it reflects which event codes you\nchose to use to represent different experimental events or conditions). For\nthe `sample-dataset` data has the following mapping:\n\n"
      ]
    },
    {
      "cell_type": "code",
      "execution_count": null,
      "metadata": {
        "collapsed": false
      },
      "outputs": [],
      "source": [
        "event_dict = {'auditory/left': 1, 'auditory/right': 2, 'visual/left': 3,\n              'visual/right': 4, 'face': 5, 'buttonpress': 32}"
      ]
    },
    {
      "cell_type": "markdown",
      "metadata": {},
      "source": [
        "Now we can extract epochs from the continuous data. An interactive plot\nallows you to click on epochs to mark them as \"bad\" and drop them from the\nanalysis (it is not interactive on the documentation website, but will be\nwhen you run `epochs.plot() <mne.Epochs.plot>` in a Python console).\n\n"
      ]
    },
    {
      "cell_type": "code",
      "execution_count": null,
      "metadata": {
        "collapsed": false
      },
      "outputs": [],
      "source": [
        "epochs = mne.Epochs(raw, events, event_id=event_dict, tmin=-0.3, tmax=0.7,\n                    preload=True)\nfig = epochs.plot(events=events)"
      ]
    },
    {
      "cell_type": "markdown",
      "metadata": {},
      "source": [
        "It is also possible to automatically drop epochs, when first creating them or\nlater on, by providing maximum peak-to-peak signal value thresholds (pass to\nthe `~mne.Epochs` constructor as the ``reject`` parameter; see\n`tut-reject-epochs-section` for details).  You can also do this after\nthe epochs are already created, using the `~mne.Epochs.drop_bad` method:\n\n"
      ]
    },
    {
      "cell_type": "code",
      "execution_count": null,
      "metadata": {
        "collapsed": false
      },
      "outputs": [],
      "source": [
        "reject_criteria = dict(eeg=100e-6,  # 100 \u00b5V\n                       eog=200e-6)  # 200 \u00b5V\n_ = epochs.drop_bad(reject=reject_criteria)"
      ]
    },
    {
      "cell_type": "markdown",
      "metadata": {},
      "source": [
        "Next we generate a barplot of which channels contributed most to epochs\ngetting rejected. If one channel is responsible for lots of epoch rejections,\nit may be worthwhile to mark that channel as \"bad\" in the `~mne.io.Raw`\nobject and then re-run epoching (fewer channels w/ more good epochs may be\npreferable to keeping all channels but losing many epochs). See\n`tut-bad-channels` for more info.\n\n"
      ]
    },
    {
      "cell_type": "code",
      "execution_count": null,
      "metadata": {
        "collapsed": false
      },
      "outputs": [],
      "source": [
        "epochs.plot_drop_log()"
      ]
    },
    {
      "cell_type": "markdown",
      "metadata": {},
      "source": [
        "Another way in which epochs can be automatically dropped is if the event\naround which the epoch is formed is too close to the start or end of the\n`~mne.io.Raw` object (e.g., if the epoch's ``tmax`` would be past the end of\nthe file; this is the cause of the \"TOO_SHORT\" entry in the\n`~mne.Epochs.plot_drop_log` plot above). Epochs may also be automatically\ndropped if the `~mne.io.Raw` object contains :term:`annotations` that begin\nwith either ``bad`` or ``edge`` (\"edge\" annotations are automatically\ninserted when concatenating two separate `~mne.io.Raw` objects together). See\n`tut-reject-data-spans` for more information about annotation-based\nepoch rejection.\n\nNow that we've dropped the bad epochs, let's look at our evoked responses for\nsome conditions we care about. Here the `~mne.Epochs.average` method will\ncreate an `~mne.Evoked` object, which we can then plot. Notice that we\nselect which condition we want to average using the square-bracket indexing\n(like a :class:`dictionary <dict>`); that returns a smaller epochs object\ncontaining just the epochs from that condition, to which we then apply the\n`~mne.Epochs.average` method:\n\n"
      ]
    },
    {
      "cell_type": "code",
      "execution_count": null,
      "metadata": {
        "collapsed": false
      },
      "outputs": [],
      "source": [
        "l_aud = epochs['auditory/left'].average()\nl_vis = epochs['visual/left'].average()"
      ]
    },
    {
      "cell_type": "markdown",
      "metadata": {},
      "source": [
        "These `~mne.Evoked` objects have their own interactive plotting method\n(though again, it won't be interactive on the documentation website):\nclick-dragging a span of time will generate a scalp field topography for that\ntime span. Here we also demonstrate built-in color-coding the channel traces\nby location:\n\n"
      ]
    },
    {
      "cell_type": "code",
      "execution_count": null,
      "metadata": {
        "collapsed": false
      },
      "outputs": [],
      "source": [
        "fig1 = l_aud.plot()\nfig2 = l_vis.plot(spatial_colors=True)"
      ]
    },
    {
      "cell_type": "markdown",
      "metadata": {},
      "source": [
        "Scalp topographies can also be obtained non-interactively with the\n`~mne.Evoked.plot_topomap` method. Here we display topomaps of the average\nfield in 50 ms time windows centered at -200 ms, 100 ms, and 400 ms.\n\n"
      ]
    },
    {
      "cell_type": "code",
      "execution_count": null,
      "metadata": {
        "collapsed": false
      },
      "outputs": [],
      "source": [
        "l_aud.plot_topomap(times=[-0.2, 0.1, 0.4], average=0.05)"
      ]
    },
    {
      "cell_type": "markdown",
      "metadata": {},
      "source": [
        "Considerable customization of these plots is possible, see the docstring of\n`~mne.Evoked.plot_topomap` for details.\n\nThere is also a built-in method for combining \"butterfly\" plots of the\nsignals with scalp topographies, called `~mne.Evoked.plot_joint`. Like\n`~mne.Evoked.plot_topomap` you can specify times for the scalp topographies\nor you can let the method choose times automatically, as is done here:\n\n"
      ]
    },
    {
      "cell_type": "code",
      "execution_count": null,
      "metadata": {
        "collapsed": false
      },
      "outputs": [],
      "source": [
        "l_aud.plot_joint()"
      ]
    },
    {
      "cell_type": "markdown",
      "metadata": {},
      "source": [
        "## Global field power (GFP)\n\nGlobal field power :footcite:`Lehmann1980,Lehmann1984,Murray2008` is,\ngenerally speaking, a measure of agreement of the signals picked up by all\nsensors across the entire scalp: if all sensors have the same value at a\ngiven time point, the GFP will be zero at that time point; if the signals\ndiffer, the GFP will be non-zero at that time point. GFP\npeaks may reflect \"interesting\" brain activity, warranting further\ninvestigation. Mathematically, the GFP is the population standard\ndeviation across all sensors, calculated separately for every time point.\n\nYou can plot the GFP using `evoked.plot(gfp=True) <mne.Evoked.plot>`. The GFP\ntrace will be black if ``spatial_colors=True`` and green otherwise. The EEG\nreference does not affect the GFP:\n\n"
      ]
    },
    {
      "cell_type": "code",
      "execution_count": null,
      "metadata": {
        "collapsed": false
      },
      "outputs": [],
      "source": [
        "for evk in (l_aud, l_vis):\n    evk.plot(gfp=True, spatial_colors=True, ylim=dict(eeg=[-12, 12]))"
      ]
    },
    {
      "cell_type": "markdown",
      "metadata": {},
      "source": [
        "To plot the GFP by itself you can pass ``gfp='only'`` (this makes it easier\nto read off the GFP data values, because the scale is aligned):\n\n"
      ]
    },
    {
      "cell_type": "code",
      "execution_count": null,
      "metadata": {
        "collapsed": false
      },
      "outputs": [],
      "source": [
        "l_aud.plot(gfp='only')"
      ]
    },
    {
      "cell_type": "markdown",
      "metadata": {},
      "source": [
        "As stated above, the GFP is the population standard deviation of the signal\nacross channels. To compute it manually, we can leverage the fact that\n`evoked.data <mne.Evoked.data>` is a :class:`NumPy array <numpy.ndarray>`,\nand verify by plotting it using matplotlib commands:\n\n"
      ]
    },
    {
      "cell_type": "code",
      "execution_count": null,
      "metadata": {
        "collapsed": false
      },
      "outputs": [],
      "source": [
        "gfp = l_aud.data.std(axis=0, ddof=0)\n\n# Reproducing the MNE-Python plot style seen above\nfig, ax = plt.subplots()\nax.plot(l_aud.times, gfp * 1e6, color='lime')\nax.fill_between(l_aud.times, gfp * 1e6, color='lime', alpha=0.2)\nax.set(xlabel='Time (s)', ylabel='GFP (\u00b5V)', title='EEG')"
      ]
    },
    {
      "cell_type": "markdown",
      "metadata": {},
      "source": [
        "## Analyzing regions of interest (ROIs): averaging across channels\n\nSince our sample data is responses to left and right auditory and visual\nstimuli, we may want to compare left versus right ROIs. To average across\nchannels in a region of interest, we first find the channel indices we want.\nLooking back at the 2D sensor plot above, we might choose the following for\nleft and right ROIs:\n\n"
      ]
    },
    {
      "cell_type": "code",
      "execution_count": null,
      "metadata": {
        "collapsed": false
      },
      "outputs": [],
      "source": [
        "left = ['eeg17', 'eeg18', 'eeg25', 'eeg26']\nright = ['eeg23', 'eeg24', 'eeg34', 'eeg35']\n\nleft_ix = mne.pick_channels(l_aud.info['ch_names'], include=left)\nright_ix = mne.pick_channels(l_aud.info['ch_names'], include=right)"
      ]
    },
    {
      "cell_type": "markdown",
      "metadata": {},
      "source": [
        "Now we can create a new Evoked with 2 virtual channels (one for each ROI):\n\n"
      ]
    },
    {
      "cell_type": "code",
      "execution_count": null,
      "metadata": {
        "collapsed": false
      },
      "outputs": [],
      "source": [
        "roi_dict = dict(left_ROI=left_ix, right_ROI=right_ix)\nroi_evoked = mne.channels.combine_channels(l_aud, roi_dict, method='mean')\nprint(roi_evoked.info['ch_names'])\nroi_evoked.plot()"
      ]
    },
    {
      "cell_type": "markdown",
      "metadata": {},
      "source": [
        "## Comparing conditions\n\nIf we wanted to compare our auditory and visual stimuli, a useful function is\n`mne.viz.plot_compare_evokeds`. By default this will combine all channels in\neach evoked object using global field power (or RMS for MEG channels); here\ninstead we specify to combine by averaging, and restrict it to a subset of\nchannels by passing ``picks``:\n\n"
      ]
    },
    {
      "cell_type": "code",
      "execution_count": null,
      "metadata": {
        "collapsed": false
      },
      "outputs": [],
      "source": [
        "evokeds = dict(auditory=l_aud, visual=l_vis)\npicks = [f'eeg{n}' for n in range(10, 15)]\nmne.viz.plot_compare_evokeds(evokeds, picks=picks, combine='mean')"
      ]
    },
    {
      "cell_type": "markdown",
      "metadata": {},
      "source": [
        "We can also easily get confidence intervals by treating each epoch as a\nseparate observation using the `~mne.Epochs.iter_evoked` method. A confidence\ninterval across subjects could also be obtained, by passing a list of\n`~mne.Evoked` objects (one per subject) to the\n`~mne.viz.plot_compare_evokeds` function.\n\n"
      ]
    },
    {
      "cell_type": "code",
      "execution_count": null,
      "metadata": {
        "collapsed": false
      },
      "outputs": [],
      "source": [
        "evokeds = dict(auditory=list(epochs['auditory/left'].iter_evoked()),\n               visual=list(epochs['visual/left'].iter_evoked()))\nmne.viz.plot_compare_evokeds(evokeds, combine='mean', picks=picks)"
      ]
    },
    {
      "cell_type": "markdown",
      "metadata": {},
      "source": [
        "We can also compare conditions by subtracting one `~mne.Evoked` object from\nanother using the `mne.combine_evoked` function (this function also allows\npooling of epochs without subtraction).\n\n"
      ]
    },
    {
      "cell_type": "code",
      "execution_count": null,
      "metadata": {
        "collapsed": false
      },
      "outputs": [],
      "source": [
        "aud_minus_vis = mne.combine_evoked([l_aud, l_vis], weights=[1, -1])\naud_minus_vis.plot_joint()"
      ]
    },
    {
      "cell_type": "markdown",
      "metadata": {},
      "source": [
        "<div class=\"alert alert-danger\"><h4>Warning</h4><p>The code above yields an **equal-weighted difference**. If you have\n    imbalanced trial numbers, you might want to equalize the number of events\n    per condition first by using `epochs.equalize_event_counts()\n    <mne.Epochs.equalize_event_counts>` before averaging.</p></div>\n\n\n## Grand averages\n\nTo compute grand averages across conditions (or subjects), you can pass a\nlist of `~mne.Evoked` objects to `mne.grand_average`. The result is another\n`~mne.Evoked` object.\n\n"
      ]
    },
    {
      "cell_type": "code",
      "execution_count": null,
      "metadata": {
        "collapsed": false
      },
      "outputs": [],
      "source": [
        "grand_average = mne.grand_average([l_aud, l_vis])\nprint(grand_average)"
      ]
    },
    {
      "cell_type": "markdown",
      "metadata": {},
      "source": [
        "For combining *conditions* it is also possible to make use of :term:`HED`\ntags in the condition names when selecting which epochs to average. For\nexample, we have the condition names:\n\n"
      ]
    },
    {
      "cell_type": "code",
      "execution_count": null,
      "metadata": {
        "collapsed": false
      },
      "outputs": [],
      "source": [
        "list(event_dict)"
      ]
    },
    {
      "cell_type": "markdown",
      "metadata": {},
      "source": [
        "We can select the auditory conditions (left and right together) by passing:\n\n"
      ]
    },
    {
      "cell_type": "code",
      "execution_count": null,
      "metadata": {
        "collapsed": false
      },
      "outputs": [],
      "source": [
        "epochs['auditory'].average()"
      ]
    },
    {
      "cell_type": "markdown",
      "metadata": {},
      "source": [
        "see `tut-section-subselect-epochs` for details.\n\nThe tutorials `tut-epochs-class` and `tut-evoked-class` have many\nmore details about working with the `~mne.Epochs` and `~mne.Evoked` classes.\n\n"
      ]
    },
    {
      "cell_type": "markdown",
      "metadata": {},
      "source": [
        "## Amplitude and latency measures\nIt is common in ERP research to extract measures of amplitude or latency to\ncompare across different conditions. There are many measures that can be\nextracted from ERPs, and many of these are detailed (including the respective\nstrengths and weaknesses) in chapter 9 of Luck :footcite:`Luck2014` (also see\nthe `Measurement Tool <https://bit.ly/37uydRw>`_ in the ERPLAB Toolbox\n:footcite:`Lopez-CalderonLuck2014`).\n\nThis part of the tutorial will demonstrate how to extract three common\nmeasures:\n\n* Peak latency\n* Peak amplitude\n* Mean amplitude\n\n### Peak latency and amplitude\n\nThe most common measures of amplitude and latency are peak measures.\nPeak measures are basically the maximum amplitude of the signal in a\nspecified time window and the time point (or latency) at which the peak\namplitude occurred.\n\nPeak measures can be obtained using the :meth:`~mne.Evoked.get_peak` method.\nThere are two important things to point out about\n:meth:`~mne.Evoked.get_peak` method. First, it finds the strongest peak\nlooking across **all channels** of the selected type that are available in\nthe :class:`~mne.Evoked` object. As a consequence, if you want to restrict\nthe search for the peak to a group of channels or a single channel, you\nshould first use the :meth:`~mne.Evoked.pick` or\n:meth:`~mne.Evoked.pick_channels` methods. Second, the\n:meth:`~mne.Evoked.get_peak` method can find different types of peaks using\nthe ``mode`` argument. There are three options:\n\n* ``mode='pos'``: finds the peak with a positive voltage (ignores\n  negative voltages)\n* ``mode='neg'``: finds the peak with a negative voltage (ignores\n  positive voltages)\n* ``mode='abs'``: finds the peak with the largest absolute voltage\n  regardless of sign (positive or negative)\n\nThe following example demonstrates how to find the first positive peak in the\nERP (i.e., the P100) for the left visual condition (i.e., the\n``l_vis`` :class:`~mne.Evoked` object). The time window used to search for\nthe peak ranges from .08 to .12 s. This time window was selected because it\nis when P100 typically occurs. Note that all ``'eeg'`` channels are submitted\nto the :meth:`~mne.Evoked.get_peak` method.\n\n"
      ]
    },
    {
      "cell_type": "code",
      "execution_count": null,
      "metadata": {
        "collapsed": false
      },
      "outputs": [],
      "source": [
        "# Define a function to print out the channel (ch) containing the\n# peak latency (lat; in msec) and amplitude (amp, in \u00b5V), with the\n# time range (tmin and tmax) that were searched.\n# This function will be used throughout the remainder of the tutorial\ndef print_peak_measures(ch, tmin, tmax, lat, amp):\n    print(f'Channel: {ch}')\n    print(f'Time Window: {tmin * 1e3:.3f} - {tmax * 1e3:.3f} ms')\n    print(f'Peak Latency: {lat * 1e3:.3f} ms')\n    print(f'Peak Amplitude: {amp * 1e6:.3f} \u00b5V')\n\n\n# Get peak amplitude and latency from a good time window that contains the peak\ngood_tmin, good_tmax = .08, .12\nch, lat, amp = l_vis.get_peak(ch_type='eeg', tmin=good_tmin, tmax=good_tmax,\n                              mode='pos', return_amplitude=True)\n\n# Print output from the good time window that contains the peak\nprint('** PEAK MEASURES FROM A GOOD TIME WINDOW **')\nprint_peak_measures(ch, good_tmin, good_tmax, lat, amp)"
      ]
    },
    {
      "cell_type": "markdown",
      "metadata": {},
      "source": [
        "The output shows that channel ``eeg55`` had the maximum positive peak in\nthe chosen time window from all of the ``'eeg'`` channels searched.\nIn practice, one might want to pull out the peak for\nan *a priori* region of interest or a single channel depending on the study.\nThis can be done by combining the :meth:`~mne.Evoked.pick`\nor :meth:`~mne.Evoked.pick_channels` methods with the\n:meth:`~mne.Evoked.get_peak` method.\n\nHere, let's assume we believe the effects of interest will occur\nat ``eeg59``.\n\n"
      ]
    },
    {
      "cell_type": "code",
      "execution_count": null,
      "metadata": {
        "collapsed": false
      },
      "outputs": [],
      "source": [
        "# Fist, return a copy of l_vis to select the channel from\nl_vis_roi = l_vis.copy().pick('eeg59')\n\n# Get the peak and latency measure from the selected channel\nch_roi, lat_roi, amp_roi = l_vis_roi.get_peak(\n    tmin=good_tmin, tmax=good_tmax, mode='pos', return_amplitude=True)\n\n# Print output\nprint('** PEAK MEASURES FOR ONE CHANNEL FROM A GOOD TIME WINDOW **')\nprint_peak_measures(ch_roi, good_tmin, good_tmax, lat_roi, amp_roi)"
      ]
    },
    {
      "cell_type": "markdown",
      "metadata": {},
      "source": [
        "While the peak latencies are the same in channels ``eeg55`` and ``eeg59``,\nthe peak amplitudes differ. This approach can also be applied to virtual\nchannels created with the :func:`~mne.channels.combine_channels` function and\ndifference waves created with the :func:`mne.combine_evoked` function (see\n``aud_minus_vis`` in section `Comparing conditions`_ above).\n\nPeak measures are very susceptible to high frequency noise in the\nsignal (for discussion, see :footcite:`Luck2014`). Specifically, high\nfrequency noise positively bias peak amplitude measures. This bias can\nconfound comparisons across conditions where ERPs differ in the level of high\nfrequency noise, such as when the conditions differ in the number of trials\ncontributing to the ERP. One way to avoid this is to apply a non-causal\nlow-pass filter to the ERP. Low-pass filters reduce the contribution of high\nfrequency noise by smoothing out fast (i.e., high frequency) fluctuations in\nthe signal (see `disc-filtering`). While this can reduce the positive\nbias in peak amplitude measures caused by high frequency noise, low-pass\nfiltering the ERP can introduce challenges in interpreting peak latency\nmeasures for effects of interest :footcite:`Rousselet2012,VanRullen2011`.\n\nIf using peak measures, it is critical to visually inspect the data to\nmake sure the selected time window actually contains a peak\n(:meth:`~mne.Evoked.get_peak` will always identify a peak).\nVisual inspection allows to easily verify whether the automatically found\npeak is correct. The :meth:`~mne.Evoked.get_peak` detects the maximum or\nminimum voltage in the specified time range and returns the latency and\namplitude of this peak. There is no guarantee that this method will return\nan actual peak. Instead, it may return a value on the rising or falling edge\nof the peak we are trying to find.\n\nThe following example demonstrates why visual inspection is crucial. Below,\nwe use a known bad time window (.095 to .135 s) to search for a peak in\nchannel ``eeg59``.\n\n"
      ]
    },
    {
      "cell_type": "code",
      "execution_count": null,
      "metadata": {
        "collapsed": false
      },
      "outputs": [],
      "source": [
        "# Get BAD peak measures\nbad_tmin, bad_tmax = .095, .135\nch_roi, bad_lat_roi, bad_amp_roi = l_vis_roi.get_peak(\n    mode='pos', tmin=bad_tmin, tmax=bad_tmax, return_amplitude=True)\n\n# Print output\nprint('** PEAK MEASURES FOR ONE CHANNEL FROM A BAD TIME WINDOW **')\nprint_peak_measures(ch_roi, bad_tmin, bad_tmax, bad_lat_roi, bad_amp_roi)"
      ]
    },
    {
      "cell_type": "markdown",
      "metadata": {},
      "source": [
        "If all we had were the above values, it would be unclear if they are truly\nidentifying a peak or just a the falling or rising edge of one. However, it\nbecomes clear that the .095 to .135 s time window is misses the peak on\n``eeg59``. This is shown in the bottom panel where we see the bad time window\n(highlighted in orange) misses the peak (the pink star). In contrast, the\ntime window defined initially (.08 to .12 s; highlighted in blue) returns\nan actual peak instead of a just a maximal or minimal value in the searched\ntime window. Visual inspection will always help you to convince yourself the\ndata returned are actual peaks.\n\n"
      ]
    },
    {
      "cell_type": "code",
      "execution_count": null,
      "metadata": {
        "collapsed": false
      },
      "outputs": [],
      "source": [
        "fig, axs = plt.subplots(nrows=2, ncols=1)\nwords = (('Bad', 'missing'), ('Good', 'finding'))\ntimes = (np.array([bad_tmin, bad_tmax]), np.array([good_tmin, good_tmax]))\ncolors = ('C1', 'C0')\n\nfor ix, ax in enumerate(axs):\n    title = '{} time window {} peak'.format(*words[ix])\n    l_vis_roi.plot(axes=ax, time_unit='ms', show=False, titles=title)\n    ax.plot(lat_roi * 1e3, amp_roi * 1e6, marker='*', color='C6')\n    ax.axvspan(*(times[ix] * 1e3), facecolor=colors[ix], alpha=0.3)\n    ax.set_xlim(-50, 150)  # Show zoomed in around peak"
      ]
    },
    {
      "cell_type": "markdown",
      "metadata": {},
      "source": [
        "### Mean Amplitude\n\nAnother common practice in ERP studies is to define a component (or effect)\nas the mean amplitude within a specified time window. One advantage of this\napproach is that it is less sensitive to high frequency noise (compared to\npeak amplitude measures) because averaging over a time window acts like a\nlow-pass filter (see discussion in the above section\n`Peak latency and amplitude`_).\n\nWhen using mean amplitude measures, selecting the time window based on\nthe effect of interest (e.g., the difference between two conditions) can\ninflate the likelihood of finding false positives in your results because\nthis approach is circular :footcite:`LuckGaspelin2017`. There are other, and\nbetter, ways to identify a time window to use for extracting mean amplitude\nmeasures. First, you can use *a priori* time window based on prior research.\nA second way is to define a time window from an independent condition or set\nof trials not used in the analysis (e.g., a \"localizer\"). A third approach is\nto define a time window using the across-condition grand average. This latter\napproach is not circular because the across-condition mean and condition\ndifference are independent of one another. The issues discussed above also\napply to selecting channels used for analysis.\n\nThe following example demonstrates how to pull out the mean amplitude\nfrom the left visual condition (i.e., the ``l_vis`` :class:`~mne.Evoked`\nobject) using from selected channels and time windows. Stimulating the\nleft visual field is increases neural activity visual cortex of the\ncontralateral (i.e., right) hemisphere. We can test this by examining the\namplitude of the ERP for left visual field stimulation over right\n(contralateral) and left (ipsilateral) channels. The channels used for this\nanalysis are ``eeg54`` and ``eeg57`` (left hemisphere), and ``eeg59`` and\n``eeg55`` (right hemisphere). The time window used is .08 (``good_tmin``)\nto .12 s (``good_tmax``) as it corresponds to when P100 typically occurs. The\nP100 is sensitive to left and right visual field stimulation. The mean\namplitude is extracted from the above four channels and stored in a\n:class:`pandas.DataFrame`.\n\n"
      ]
    },
    {
      "cell_type": "code",
      "execution_count": null,
      "metadata": {
        "collapsed": false
      },
      "outputs": [],
      "source": [
        "# Select all of the channels and crop to the time window\nchannels = ['eeg54', 'eeg57', 'eeg55', 'eeg59']\nhemisphere = ['left', 'left', 'right', 'right']\nl_vis_mean_roi = l_vis.copy().pick(channels).crop(\n    tmin=good_tmin, tmax=good_tmax)\n\n# Extract mean amplitude in \u00b5V over time\nmean_amp_roi = l_vis_mean_roi.data.mean(axis=1) * 1e6\n\n# Store the data in a data frame\nmean_amp_roi_df = pd.DataFrame({\n    'ch_name': l_vis_mean_roi.ch_names,\n    'hemisphere': ['left', 'left', 'right', 'right'],\n    'mean_amp': mean_amp_roi\n})\n\n# Print the data frame\nprint(mean_amp_roi_df.groupby('hemisphere').mean())"
      ]
    },
    {
      "cell_type": "markdown",
      "metadata": {},
      "source": [
        "As demonstrated in the above example, the mean amplitude was higher and\npositive in right compared to left hemisphere channels. It should be\nreiterated that both that spatial and temporal window you use should be\ndetermined in an independent manner (e.g., defined *a priori* from prior\nresearch, a \"localizer\" or another independent condition) and not based\non the data you will use to test your hypotheses.\n\nThe above example can be modified to extract the the mean amplitude\nfrom all channels and store the resulting output in\n:class:`pandas.DataFrame`. This can be useful for statistical analyses\nconducted in other programming languages.\n\n"
      ]
    },
    {
      "cell_type": "code",
      "execution_count": null,
      "metadata": {
        "collapsed": false
      },
      "outputs": [],
      "source": [
        "# Extract mean amplitude for all channels in l_vis (including `eog`)\nl_vis_cropped = l_vis.copy().crop(tmin=good_tmin, tmax=good_tmax)\nmean_amp_all = l_vis_cropped.data.mean(axis=1) * 1e6\nmean_amp_all_df = pd.DataFrame({\n    'ch_name': l_vis_cropped.info['ch_names'],\n    'mean_amp': mean_amp_all\n})\nmean_amp_all_df['tmin'] = good_tmin\nmean_amp_all_df['tmax'] = good_tmax\nmean_amp_all_df['condition'] = 'Left/Visual'\nprint(mean_amp_all_df.head())\nprint(mean_amp_all_df.tail())"
      ]
    },
    {
      "cell_type": "markdown",
      "metadata": {},
      "source": [
        "\n\n### References\n.. footbibliography::\n\n"
      ]
    }
  ],
  "metadata": {
    "kernelspec": {
      "display_name": "Python 3",
      "language": "python",
      "name": "python3"
    },
    "language_info": {
      "codemirror_mode": {
        "name": "ipython",
        "version": 3
      },
      "file_extension": ".py",
      "mimetype": "text/x-python",
      "name": "python",
      "nbconvert_exporter": "python",
      "pygments_lexer": "ipython3",
      "version": "3.8.5"
    }
  },
  "nbformat": 4,
  "nbformat_minor": 0
}