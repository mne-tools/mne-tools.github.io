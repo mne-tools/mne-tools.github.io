{
  "cells": [
    {
      "cell_type": "markdown",
      "metadata": {},
      "source": [
        "\n\n# Getting impedances from raw files\n\nMany EEG systems provide impedance measurements for each channel within their file\nformat. MNE does not parse this information and does not store it in the\n:class:`~mne.io.Raw` object. However, it is possible to extract this information from\nthe raw data and store it in a separate data structure.\n\n## ANT Neuro\n\nThe ``.cnt`` file format from ANT Neuro stores impedance information in the form of\ntriggers. The function :func:`mne.io.read_raw_ant` reads this information and marks the\ntime-segment during which an impedance measurement was performed as\n:class:`~mne.Annotations` with the description set in the argument\n``impedance_annotation``. However, it doesn't extract the impedance values themselves.\nTo do so, use the function ``antio.parser.read_triggers``.\n"
      ]
    },
    {
      "cell_type": "code",
      "execution_count": null,
      "metadata": {
        "collapsed": false
      },
      "outputs": [],
      "source": [
        "# Authors: The MNE-Python contributors.\n# License: BSD-3-Clause\n# Copyright the MNE-Python contributors.\n\nfrom antio import read_cnt\nfrom antio.parser import read_triggers\nfrom matplotlib import pyplot as plt\n\nfrom mne.datasets import testing\nfrom mne.io import read_raw_ant\nfrom mne.viz import plot_topomap\n\nfname = testing.data_path() / \"antio\" / \"CA_208\" / \"test_CA_208.cnt\"\ncnt = read_cnt(fname)\n_, _, _, impedances, _ = read_triggers(cnt)\n\nraw = read_raw_ant(fname, eog=r\"EOG\")\nimpedances = [{ch: imp[k] for k, ch in enumerate(raw.ch_names)} for imp in impedances]\nprint(impedances[0])  # impedances measurement at the beginning of the recording"
      ]
    },
    {
      "cell_type": "markdown",
      "metadata": {},
      "source": [
        "Note that the impedance measurement contains all channels, including the bipolar ones.\nWe can visualize the impedances on a topographic map; below we show a topography of\nimpedances before and after the recording for the EEG channels only.\n\n"
      ]
    },
    {
      "cell_type": "code",
      "execution_count": null,
      "metadata": {
        "collapsed": false
      },
      "outputs": [],
      "source": [
        "raw.pick(\"eeg\").set_montage(\"standard_1020\")\nimpedances = [{ch: imp[ch] for ch in raw.ch_names} for imp in impedances]\n\nf, ax = plt.subplots(1, 2, layout=\"constrained\", figsize=(10, 5))\nf.suptitle(\"Impedances (kOhm)\")\nimpedance = list(impedances[0].values())\nplot_topomap(\n    impedance,\n    raw.info,\n    vlim=(0, 50),\n    axes=ax[0],\n    show=False,\n    names=[f\"{elt:.1f}\" for elt in impedance],\n)\nax[0].set_title(\"Impedances at the beginning of the recording\")\nimpedance = list(impedances[-1].values())\nplot_topomap(\n    impedance,\n    raw.info,\n    vlim=(0, 50),\n    axes=ax[1],\n    show=False,\n    names=[f\"{elt:.1f}\" for elt in impedance],\n)\nax[1].set_title(\"Impedances at the end of the recording\")\nplt.show()"
      ]
    },
    {
      "cell_type": "markdown",
      "metadata": {},
      "source": [
        "In this very short test file, the impedances are stable over time.\n\n"
      ]
    }
  ],
  "metadata": {
    "kernelspec": {
      "display_name": "Python 3",
      "language": "python",
      "name": "python3"
    },
    "language_info": {
      "codemirror_mode": {
        "name": "ipython",
        "version": 3
      },
      "file_extension": ".py",
      "mimetype": "text/x-python",
      "name": "python",
      "nbconvert_exporter": "python",
      "pygments_lexer": "ipython3",
      "version": "3.12.3"
    }
  },
  "nbformat": 4,
  "nbformat_minor": 0
}