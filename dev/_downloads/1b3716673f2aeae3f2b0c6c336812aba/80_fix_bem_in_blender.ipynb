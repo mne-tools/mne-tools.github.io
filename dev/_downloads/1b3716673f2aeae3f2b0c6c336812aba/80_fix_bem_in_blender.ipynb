{
  "cells": [
    {
      "cell_type": "code",
      "execution_count": null,
      "metadata": {
        "collapsed": false
      },
      "outputs": [],
      "source": [
        "%matplotlib inline"
      ]
    },
    {
      "cell_type": "markdown",
      "metadata": {},
      "source": [
        "\n\n# Editing BEM surfaces in Blender\n\nSometimes when creating a BEM model the surfaces need manual correction because\nof a series of problems that can arise (e.g. intersection between surfaces).\nHere, we will see how this can be achieved by exporting the surfaces to the 3D\nmodeling program `Blender <https://blender.org>`_, editing them, and\nre-importing them.\n\nThis tutorial is based on https://github.com/ezemikulan/blender_freesurfer by\nEzequiel Mikulan.\n   :depth: 2\n"
      ]
    },
    {
      "cell_type": "code",
      "execution_count": null,
      "metadata": {
        "collapsed": false
      },
      "outputs": [],
      "source": [
        "# Authors: Marijn van Vliet <w.m.vanvliet@gmail.com>\n#          Ezequiel Mikulan <e.mikulan@gmail.com>\n#          Manorama Kadwani <manorama.kadwani@gmail.com>\n#\n# License: BSD-3-Clause"
      ]
    },
    {
      "cell_type": "code",
      "execution_count": null,
      "metadata": {
        "collapsed": false
      },
      "outputs": [],
      "source": [
        "import os\nimport os.path as op\nimport shutil\nimport mne\n\ndata_path = mne.datasets.sample.data_path()\nsubjects_dir = op.join(data_path, 'subjects')\nbem_dir = op.join(subjects_dir, 'sample', 'bem', 'flash')"
      ]
    },
    {
      "cell_type": "markdown",
      "metadata": {},
      "source": [
        "## Exporting surfaces to Blender\n\nIn this tutorial, we are working with the MNE-Sample set, for which the\nsurfaces have no issues. To demonstrate how to fix problematic surfaces, we\nare going to manually place one of the inner-skull vertices outside the\nouter-skill mesh.\n\nWe then convert the surfaces to `.obj\n<https://en.wikipedia.org/wiki/Wavefront_.obj_file>`_ files and create a new\nfolder called ``conv`` inside the FreeSurfer subject folder to keep them in.\n\n"
      ]
    },
    {
      "cell_type": "code",
      "execution_count": null,
      "metadata": {
        "collapsed": false
      },
      "outputs": [],
      "source": [
        "# Put the converted surfaces in a separate 'conv' folder\nconv_dir = op.join(subjects_dir, 'sample', 'conv')\nos.makedirs(conv_dir, exist_ok=True)\n\n# Load the inner skull surface and create a problem\n# The metadata is empty in this example. In real study, we want to write the\n# original metadata to the fixed surface file. Set read_metadata=True to do so.\ncoords, faces = mne.read_surface(op.join(bem_dir, 'inner_skull.surf'))\ncoords[0] *= 1.1  # Move the first vertex outside the skull\n\n# Write the inner skull surface as an .obj file that can be imported by\n# Blender.\nmne.write_surface(op.join(conv_dir, 'inner_skull.obj'), coords, faces,\n                  overwrite=True)\n\n# Also convert the outer skull surface.\ncoords, faces = mne.read_surface(op.join(bem_dir, 'outer_skull.surf'))\nmne.write_surface(op.join(conv_dir, 'outer_skull.obj'), coords, faces,\n                  overwrite=True)"
      ]
    },
    {
      "cell_type": "markdown",
      "metadata": {},
      "source": [
        "## Editing in Blender\n\nWe can now open Blender and import the surfaces. Go to *File > Import >\nWavefront (.obj)*. Navigate to the ``conv`` folder and select the file you\nwant to import. Make sure to select the *Keep Vert Order* option. You can\nalso select the *Y Forward* option to load the axes in the correct direction\n(RAS):\n\n<img src=\"file://../../_static/blender_import_obj/blender_import_obj1.jpg\" width=\"800\" alt=\"Importing .obj files in Blender\">\n\nFor convenience, you can save these settings by pressing the ``+`` button\nnext to *Operator Presets*.\n\nRepeat the procedure for all surfaces you want to import (e.g. inner_skull\nand outer_skull).\n\nYou can now edit the surfaces any way you like. See the\n`Beginner Blender Tutorial Series\n<https://www.youtube.com/playlist?list=PLxLGgWrla12dEW5mjO09kR2_TzPqDTXdw>`_\nto learn how to use Blender. Specifically, `part 2\n<http://www.youtube.com/watch?v=RaT-uG5wgUw&t=5m30s>`_ will teach you how to\nuse the basic editing tools you need to fix the surface.\n\n<img src=\"file://../../_static/blender_import_obj/blender_import_obj2.jpg\" width=\"800\" alt=\"Editing surfaces in Blender\">\n\n## Using the fixed surfaces in MNE-Python\n\nIn Blender, you can export a surface as an .obj file by selecting it and go\nto *File > Export > Wavefront (.obj)*. You need to again select the *Y\nForward* option and check the *Keep Vertex Order* box.\n\n<img src=\"file://../../_static/blender_import_obj/blender_import_obj3.jpg\" width=\"200\" alt=\"Exporting .obj files in Blender\">\n\n\nEach surface needs to be exported as a separate file. We recommend saving\nthem in the ``conv`` folder and ending the file name with ``_fixed.obj``,\nalthough this is not strictly necessary.\n\nIn order to be able to run this tutorial script top to bottom, we here\nsimulate the edits you did manually in Blender using Python code:\n\n"
      ]
    },
    {
      "cell_type": "code",
      "execution_count": null,
      "metadata": {
        "collapsed": false
      },
      "outputs": [],
      "source": [
        "coords, faces = mne.read_surface(op.join(conv_dir, 'inner_skull.obj'))\ncoords[0] /= 1.1  # Move the first vertex back inside the skull\nmne.write_surface(op.join(conv_dir, 'inner_skull_fixed.obj'), coords, faces,\n                  overwrite=True)"
      ]
    },
    {
      "cell_type": "markdown",
      "metadata": {},
      "source": [
        "Back in Python, you can read the fixed .obj files and save them as\nFreeSurfer .surf files. For the :func:`mne.make_bem_model` function to find\nthem, they need to be saved using their original names in the ``surf``\nfolder, e.g. ``bem/inner_skull.surf``. Be sure to first backup the original\nsurfaces in case you make a mistake!\n\n"
      ]
    },
    {
      "cell_type": "code",
      "execution_count": null,
      "metadata": {
        "collapsed": false
      },
      "outputs": [],
      "source": [
        "# Read the fixed surface\ncoords, faces = mne.read_surface(op.join(conv_dir, 'inner_skull_fixed.obj'))\n\n# Backup the original surface\nshutil.copy(op.join(bem_dir, 'inner_skull.surf'),\n            op.join(bem_dir, 'inner_skull_orig.surf'))\n\n# Overwrite the original surface with the fixed version\n# In real study you should provide the correct metadata using ``volume_info=``\n# This could be accomplished for example with:\n#\n# _, _, vol_info = mne.read_surface(op.join(bem_dir, 'inner_skull.surf'),\n#                                   read_metadata=True)\n# mne.write_surface(op.join(bem_dir, 'inner_skull.surf'), coords, faces,\n#                   volume_info=vol_info, overwrite=True)"
      ]
    },
    {
      "cell_type": "markdown",
      "metadata": {},
      "source": [
        "## Editing the head surfaces\n\nSometimes the head surfaces are faulty and require manual editing. We use\n:func:`mne.write_head_bem` to convert the fixed surfaces to ``.fif`` files.\n\n### Low-resolution head\n\nFor EEG forward modeling, it is possible that ``outer_skin.surf`` would be\nmanually edited. In that case, remember to save the fixed version of\n``-head.fif`` from the edited surface file for coregistration.\n\n"
      ]
    },
    {
      "cell_type": "code",
      "execution_count": null,
      "metadata": {
        "collapsed": false
      },
      "outputs": [],
      "source": [
        "# Load the fixed surface\ncoords, faces = mne.read_surface(op.join(bem_dir, 'outer_skin.surf'))\n\n# Make sure we are in the correct directory\nhead_dir = op.dirname(bem_dir)\n\n# Remember to backup the original head file in advance!\n# Overwrite the original head file\n#\n# mne.write_head_bem(op.join(head_dir, 'sample-head.fif'), coords, faces,\n#                    overwrite=True)"
      ]
    },
    {
      "cell_type": "markdown",
      "metadata": {},
      "source": [
        "### High-resolution head\n\nWe use :func:`mne.read_bem_surfaces` to read the head surface files. After\nediting, we again output the head file with :func:`mne.write_head_bem`.\nHere we use ``-head.fif`` for speed.\n\n"
      ]
    },
    {
      "cell_type": "code",
      "execution_count": null,
      "metadata": {
        "collapsed": false
      },
      "outputs": [],
      "source": [
        "# If ``-head-dense.fif`` does not exist, you need to run\n# ``mne make_scalp_surfaces`` first.\n# [0] because a list of surfaces is returned\nsurf = mne.read_bem_surfaces(op.join(head_dir, 'sample-head.fif'))[0]\n\n# For consistency only\ncoords = surf['rr']\nfaces = surf['tris']\n\n# Write the head as an .obj file for editing\nmne.write_surface(op.join(conv_dir, 'sample-head.obj'),\n                  coords, faces, overwrite=True)\n\n# Usually here you would go and edit your meshes.\n#\n# Here we just use the same surface as if it were fixed\n# Read in the .obj file\ncoords, faces = mne.read_surface(op.join(conv_dir, 'sample-head.obj'))\n\n# Remember to backup the original head file in advance!\n# Overwrite the original head file\n#\n# mne.write_head_bem(op.join(head_dir, 'sample-head.fif'), coords, faces,\n#                    overwrite=True)"
      ]
    },
    {
      "cell_type": "markdown",
      "metadata": {},
      "source": [
        "That's it! You are ready to continue with your analysis pipeline (e.g.\nrunning :func:`mne.make_bem_model`).\n\n#### What if you still get an error?\n\nWhen editing BEM surfaces/meshes in Blender, make sure to use\ntools that do not change the number or order of vertices, or the geometry\nof triangular faces. For example, avoid the extrusion tool, because it\nduplicates the extruded vertices.\n\nBelow are some examples of errors you might encounter when running the\n`mne.make_bem_model` function, and the likely causes of those errors.\n\n\n1. Cannot decimate to requested ico grade\n\n   This error is caused by having too few or too many vertices. The full\n   error is something like:\n\n   .. code-block:: console\n\n      RuntimeError: Cannot decimate to requested ico grade 4. The provided\n      BEM surface has 20516 triangles, which cannot be isomorphic with a\n      subdivided icosahedron. Consider manually decimating the surface to a\n      suitable density and then use ico=None in make_bem_model.\n\n2. Surface inner skull has topological defects\n\n   This error can occur when trying to match the original number of\n   triangles by removing vertices. The full error looks like:\n\n   .. code-block:: console\n\n      RuntimeError: Surface inner skull has topological defects: 12 / 20484\n      vertices have fewer than three neighboring triangles [733, 1014, 2068,\n      7732, 8435, 8489, 10181, 11120, 11121, 11122, 11304, 11788]\n\n3. Surface inner skull is not complete\n\n   This error (like the previous error) reflects a problem with the surface\n   topology (i.e., the expected pattern of vertices/edges/faces is\n   disrupted).\n\n   .. code-block:: console\n\n      RuntimeError: Surface inner skull is not complete (sum of solid\n      angles yielded 0.999668, should be 1.)\n\n4. Triangle ordering is wrong\n\n   This error reflects a mismatch between how the surface is represented in\n   memory (the order of the vertex/face definitions) and what is expected by\n   MNE-Python.  The full error is:\n\n   .. code-block:: console\n\n      RuntimeError: The source surface has a matching number of\n      triangles but ordering is wrong\n\n\nFor any of these errors, it is usually easiest to start over with the\nunedited BEM surface and try again, making sure to only *move* vertices and\nfaces without *adding* or *deleting* any. For example,\nselect a circle of vertices, then press :kbd:`G` to drag them to the desired\nlocation. Smoothing a group of selected vertices in Blender (by\nright-clicking and selecting \"Smooth Vertices\") can also be helpful.\n\n"
      ]
    }
  ],
  "metadata": {
    "kernelspec": {
      "display_name": "Python 3",
      "language": "python",
      "name": "python3"
    },
    "language_info": {
      "codemirror_mode": {
        "name": "ipython",
        "version": 3
      },
      "file_extension": ".py",
      "mimetype": "text/x-python",
      "name": "python",
      "nbconvert_exporter": "python",
      "pygments_lexer": "ipython3",
      "version": "3.8.5"
    }
  },
  "nbformat": 4,
  "nbformat_minor": 0
}