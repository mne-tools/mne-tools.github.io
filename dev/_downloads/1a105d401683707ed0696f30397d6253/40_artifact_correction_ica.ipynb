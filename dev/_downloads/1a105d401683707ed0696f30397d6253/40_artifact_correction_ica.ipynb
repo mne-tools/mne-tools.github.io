{
  "cells": [
    {
      "cell_type": "code",
      "execution_count": null,
      "metadata": {
        "collapsed": false
      },
      "outputs": [],
      "source": [
        "%matplotlib inline"
      ]
    },
    {
      "cell_type": "markdown",
      "metadata": {},
      "source": [
        "\n\n# Repairing artifacts with ICA\n\nThis tutorial covers the basics of independent components analysis (ICA) and\nshows how ICA can be used for artifact repair; an extended example illustrates\nrepair of ocular and heartbeat artifacts. For conceptual background on ICA, see\n`this scikit-learn tutorial\n<sphx_glr_auto_examples_decomposition_plot_ica_blind_source_separation.py>`.\n\nWe begin as always by importing the necessary Python modules and loading some\n`example data <sample-dataset>`. Because ICA can be computationally\nintense, we'll also crop the data to 60 seconds; and to save ourselves from\nrepeatedly typing ``mne.preprocessing`` we'll directly import a few functions\nand classes from that submodule:\n"
      ]
    },
    {
      "cell_type": "code",
      "execution_count": null,
      "metadata": {
        "collapsed": false
      },
      "outputs": [],
      "source": [
        "import os\nimport mne\nfrom mne.preprocessing import (ICA, corrmap, create_ecg_epochs,\n                               create_eog_epochs)\n\nsample_data_folder = mne.datasets.sample.data_path()\nsample_data_raw_file = os.path.join(sample_data_folder, 'MEG', 'sample',\n                                    'sample_audvis_filt-0-40_raw.fif')\nraw = mne.io.read_raw_fif(sample_data_raw_file)\n# Here we'll crop to 60 seconds and drop gradiometer channels for speed\nraw.crop(tmax=60.).pick_types(meg='mag', eeg=True, stim=True, eog=True)\nraw.load_data()"
      ]
    },
    {
      "cell_type": "markdown",
      "metadata": {},
      "source": [
        "<div class=\"alert alert-info\"><h4>Note</h4><p>Before applying ICA (or any artifact repair strategy), be sure to observe\n    the artifacts in your data to make sure you choose the right repair tool.\n    Sometimes the right tool is no tool at all \u2014 if the artifacts are small\n    enough you may not even need to repair them to get good analysis results.\n    See `tut-artifact-overview` for guidance on detecting and\n    visualizing various types of artifact.</p></div>\n\n## What is ICA?\n\nIndependent components analysis (ICA) is a technique for estimating\nindependent source signals from a set of recordings in which the source\nsignals were mixed together in unknown ratios. A common example of this is\nthe problem of `blind source separation`_: with 3 musical instruments playing\nin the same room, and 3 microphones recording the performance (each picking\nup all 3 instruments, but at varying levels), can you somehow \"unmix\" the\nsignals recorded by the 3 microphones so that you end up with a separate\n\"recording\" isolating the sound of each instrument?\n\nIt is not hard to see how this analogy applies to EEG/MEG analysis: there are\nmany \"microphones\" (sensor channels) simultaneously recording many\n\"instruments\" (blinks, heartbeats, activity in different areas of the brain,\nmuscular activity from jaw clenching or swallowing, etc). As long as these\nvarious source signals are `statistically independent`_ and non-gaussian, it\nis usually possible to separate the sources using ICA, and then re-construct\nthe sensor signals after excluding the sources that are unwanted.\n\n\n### ICA in MNE-Python\n\n.. admonition:: ICA and dimensionality reduction\n    :class: sidebar hint\n\n    If you want to perform ICA with *no* dimensionality reduction (other than\n    the number of Independent Components (ICs) given in ``n_components``, and\n    any subsequent exclusion of ICs you specify in ``ICA.exclude``), simply\n    pass ``n_components``.\n\n    However, if you *do* want to reduce dimensionality, consider this\n    example: if you have 300 sensor channels and you set ``n_components=50``\n    during instantiation and pass ``n_pca_components=None`` to\n    `~mne.preprocessing.ICA.apply`, then the the first 50\n    PCs are sent to the ICA algorithm (yielding 50 ICs), and during\n    reconstruction `~mne.preprocessing.ICA.apply` will use the 50 ICs\n    plus PCs number 51-300 (the full PCA residual). If instead you specify\n    ``n_pca_components=120`` in `~mne.preprocessing.ICA.apply`, it will\n    reconstruct using the 50 ICs plus the first 70 PCs in the PCA residual\n    (numbers 51-120), thus discarding the smallest 180 components.\n\n    **If you have previously been using EEGLAB**'s ``runica()`` and are\n    looking for the equivalent of its ``'pca', n`` option to reduce\n    dimensionality, set ``n_components=n`` during initialization and pass\n    ``n_pca_components=n`` to `~mne.preprocessing.ICA.apply`.\n\nMNE-Python implements three different ICA algorithms: ``fastica`` (the\ndefault), ``picard``, and ``infomax``. FastICA and Infomax are both in fairly\nwidespread use; Picard is a newer (2017) algorithm that is expected to\nconverge faster than FastICA and Infomax, and is more robust than other\nalgorithms in cases where the sources are not completely independent, which\ntypically happens with real EEG/MEG data. See\n:footcite:`AblinEtAl2018` for more information.\n\nThe ICA interface in MNE-Python is similar to the interface in\n`scikit-learn`_: some general parameters are specified when creating an\n`~mne.preprocessing.ICA` object, then the `~mne.preprocessing.ICA` object is\nfit to the data using its `~mne.preprocessing.ICA.fit` method. The results of\nthe fitting are added to the `~mne.preprocessing.ICA` object as attributes\nthat end in an underscore (``_``), such as ``ica.mixing_matrix_`` and\n``ica.unmixing_matrix_``. After fitting, the ICA component(s) that you want\nto remove must be chosen, and the ICA fit must then be applied to the\n`~mne.io.Raw` or `~mne.Epochs` object using the `~mne.preprocessing.ICA`\nobject's `~mne.preprocessing.ICA.apply` method.\n\nAs is typically done with ICA, the data are first scaled to unit variance and\nwhitened using principal components analysis (PCA) before performing the ICA\ndecomposition. This is a two-stage process:\n\n1. To deal with different channel types having different units\n   (e.g., Volts for EEG and Tesla for MEG), data must be pre-whitened.\n   If ``noise_cov=None`` (default), all data of a given channel type is\n   scaled by the standard deviation across all channels. If ``noise_cov`` is\n   a `~mne.Covariance`, the channels are pre-whitened using the covariance.\n2. The pre-whitened data are then decomposed using PCA.\n\nFrom the resulting principal components (PCs), the first ``n_components`` are\nthen passed to the ICA algorithm if ``n_components`` is an integer number.\nIt can also be a float between 0 and 1, specifying the **fraction** of\nexplained variance that the PCs should capture; the appropriate number of\nPCs (i.e., just as many PCs as are required to explain the given fraction\nof total variance) is then passed to the ICA.\n\nAfter visualizing the Independent Components (ICs) and excluding any that\ncapture artifacts you want to repair, the sensor signal can be reconstructed\nusing the `~mne.preprocessing.ICA` object's\n`~mne.preprocessing.ICA.apply` method. By default, signal\nreconstruction uses all of the ICs (less any ICs listed in ``ICA.exclude``)\nplus all of the PCs that were not included in the ICA decomposition (i.e.,\nthe \"PCA residual\"). If you want to reduce the number of components used at\nthe reconstruction stage, it is controlled by the ``n_pca_components``\nparameter (which will in turn reduce the rank of your data; by default\n``n_pca_components=None`` resulting in no additional dimensionality\nreduction). The fitting and reconstruction procedures and the\nparameters that control dimensionality at various stages are summarized in\nthe diagram below:\n\n\n.. raw:: html\n\n   <a href=\n    \"../../_images/graphviz-7483cb1cf41f06e2a4ef451b17f073dbe584ba30.png\">\n\n.. graphviz:: ../../_static/diagrams/ica.dot\n   :alt: Diagram of ICA procedure in MNE-Python\n   :align: left\n\n.. raw:: html\n\n   </a>\n\nSee the Notes section of the `~mne.preprocessing.ICA` documentation\nfor further details. Next we'll walk through an extended example that\nillustrates each of these steps in greater detail.\n\n## Example: EOG and ECG artifact repair\n\n### Visualizing the artifacts\n\nLet's begin by visualizing the artifacts that we want to repair. In this\ndataset they are big enough to see easily in the raw data:\n\n"
      ]
    },
    {
      "cell_type": "code",
      "execution_count": null,
      "metadata": {
        "collapsed": false
      },
      "outputs": [],
      "source": [
        "# pick some channels that clearly show heartbeats and blinks\nregexp = r'(MEG [12][45][123]1|EEG 00.)'\nartifact_picks = mne.pick_channels_regexp(raw.ch_names, regexp=regexp)\nraw.plot(order=artifact_picks, n_channels=len(artifact_picks),\n         show_scrollbars=False)"
      ]
    },
    {
      "cell_type": "markdown",
      "metadata": {},
      "source": [
        "We can get a summary of how the ocular artifact manifests across each channel\ntype using `~mne.preprocessing.create_eog_epochs` like we did in the\n`tut-artifact-overview` tutorial:\n\n"
      ]
    },
    {
      "cell_type": "code",
      "execution_count": null,
      "metadata": {
        "collapsed": false
      },
      "outputs": [],
      "source": [
        "eog_evoked = create_eog_epochs(raw).average()\neog_evoked.apply_baseline(baseline=(None, -0.2))\neog_evoked.plot_joint()"
      ]
    },
    {
      "cell_type": "markdown",
      "metadata": {},
      "source": [
        "Now we'll do the same for the heartbeat artifacts, using\n`~mne.preprocessing.create_ecg_epochs`:\n\n"
      ]
    },
    {
      "cell_type": "code",
      "execution_count": null,
      "metadata": {
        "collapsed": false
      },
      "outputs": [],
      "source": [
        "ecg_evoked = create_ecg_epochs(raw).average()\necg_evoked.apply_baseline(baseline=(None, -0.2))\necg_evoked.plot_joint()"
      ]
    },
    {
      "cell_type": "markdown",
      "metadata": {},
      "source": [
        "### Filtering to remove slow drifts\n\nBefore we run the ICA, an important step is filtering the data to remove\nlow-frequency drifts, which can negatively affect the quality of the ICA fit.\nThe slow drifts are problematic because they reduce the independence of the\nassumed-to-be-independent sources (e.g., during a slow upward drift, the\nneural, heartbeat, blink, and other muscular sources will all tend to have\nhigher values), making it harder for the algorithm to find an accurate\nsolution. A high-pass filter with 1 Hz cutoff frequency is recommended.\nHowever, because filtering is a linear operation, the ICA solution found from\nthe filtered signal can be applied to the unfiltered signal (see\n:footcite:`WinklerEtAl2015` for\nmore information), so we'll keep a copy of the unfiltered\n`~mne.io.Raw` object around so we can apply the ICA solution to it\nlater.\n\n"
      ]
    },
    {
      "cell_type": "code",
      "execution_count": null,
      "metadata": {
        "collapsed": false
      },
      "outputs": [],
      "source": [
        "filt_raw = raw.copy().filter(l_freq=1., h_freq=None)"
      ]
    },
    {
      "cell_type": "markdown",
      "metadata": {},
      "source": [
        "### Fitting ICA\n\n.. admonition:: Ignoring the time domain\n    :class: sidebar hint\n\n    The ICA algorithms implemented in MNE-Python find patterns across\n    channels, but ignore the time domain. This means you can compute ICA on\n    discontinuous `~mne.Epochs` or `~mne.Evoked` objects (not\n    just continuous `~mne.io.Raw` objects), or only use every Nth\n    sample by passing the ``decim`` parameter to ``ICA.fit()``.\n\nNow we're ready to set up and fit the ICA. Since we know (from observing our\nraw data) that the EOG and ECG artifacts are fairly strong, we would expect\nthose artifacts to be captured in the first few dimensions of the PCA\ndecomposition that happens before the ICA. Therefore, we probably don't need\na huge number of components to do a good job of isolating our artifacts\n(though it is usually preferable to include more components for a more\naccurate solution). As a first guess, we'll run ICA with ``n_components=15``\n(use only the first 15 PCA components to compute the ICA decomposition) \u2014 a\nvery small number given that our data has over 300 channels, but with the\nadvantage that it will run quickly and we will able to tell easily whether it\nworked or not (because we already know what the EOG / ECG artifacts should\nlook like).\n\nICA fitting is not deterministic (e.g., the components may get a sign\nflip on different runs, or may not always be returned in the same order), so\nwe'll also specify a `random seed`_ so that we get identical results each\ntime this tutorial is built by our web servers.\n\n<div class=\"alert alert-danger\"><h4>Warning</h4><p>`~mne.Epochs` used for fitting ICA should not be\n    baseline-corrected. Because cleaning the data via ICA may\n    introduce DC offsets, we suggest to baseline correct your data\n    **after** cleaning (and not before), should you require\n    baseline correction.</p></div>\n\n"
      ]
    },
    {
      "cell_type": "code",
      "execution_count": null,
      "metadata": {
        "collapsed": false
      },
      "outputs": [],
      "source": [
        "ica = ICA(n_components=15, max_iter='auto', random_state=97)\nica.fit(filt_raw)\nica"
      ]
    },
    {
      "cell_type": "markdown",
      "metadata": {},
      "source": [
        "Some optional parameters that we could have passed to the\n`~mne.preprocessing.ICA.fit` method include ``decim`` (to use only\nevery Nth sample in computing the ICs, which can yield a considerable\nspeed-up) and ``reject`` (for providing a rejection dictionary for maximum\nacceptable peak-to-peak amplitudes for each channel type, just like we used\nwhen creating epoched data in the `tut-overview` tutorial).\n\n"
      ]
    },
    {
      "cell_type": "markdown",
      "metadata": {},
      "source": [
        "### Looking at the ICA solution\nNow we can examine the ICs to see what they captured.\n\nUsing :meth:`~mne.preprocessing.ICA.get_explained_variance_ratio`, we can\nretrieve the fraction of variance in the original data that is explained by\nour ICA components in the form of a dictionary:\n\n"
      ]
    },
    {
      "cell_type": "code",
      "execution_count": null,
      "metadata": {
        "collapsed": false
      },
      "outputs": [],
      "source": [
        "explained_var_ratio = ica.get_explained_variance_ratio(filt_raw)\nfor channel_type, ratio in explained_var_ratio.items():\n    print(\n        f'Fraction of {channel_type} variance explained by all components: '\n        f'{ratio}'\n    )"
      ]
    },
    {
      "cell_type": "markdown",
      "metadata": {},
      "source": [
        "The values were calculated for all ICA components jointly, but separately for\neach channel type (here: magnetometers and EEG).\n\nWe can also explicitly request for which component(s) and channel type(s) to\nperform the computation:\n\n"
      ]
    },
    {
      "cell_type": "code",
      "execution_count": null,
      "metadata": {
        "collapsed": false
      },
      "outputs": [],
      "source": [
        "explained_var_ratio = ica.get_explained_variance_ratio(\n    filt_raw,\n    components=[0],\n    ch_type='eeg'\n)\n# This time, print as percentage.\nratio_percent = round(100 * explained_var_ratio['eeg'])\nprint(\n    f'Fraction of variance in EEG signal explained by first component: '\n    f'{ratio_percent}%'\n)"
      ]
    },
    {
      "cell_type": "markdown",
      "metadata": {},
      "source": [
        "`~mne.preprocessing.ICA.plot_sources` will show the time series of the\nICs. Note that in our call to `~mne.preprocessing.ICA.plot_sources` we\ncan use the original, unfiltered `~mne.io.Raw` object. A helpful tip is that\nright clicking (or control + click with a trackpad) on the name of the\ncomponent will bring up a plot of its properties. In this plot, you can\nalso toggle the channel type in the topoplot (if you have multiple channel\ntypes) with 't' and whether the spectrum is log-scaled or not with 'l'.\n\n"
      ]
    },
    {
      "cell_type": "code",
      "execution_count": null,
      "metadata": {
        "collapsed": false
      },
      "outputs": [],
      "source": [
        "raw.load_data()\nica.plot_sources(raw, show_scrollbars=False)"
      ]
    },
    {
      "cell_type": "markdown",
      "metadata": {},
      "source": [
        "Here we can pretty clearly see that the first component (``ICA000``) captures\nthe EOG signal quite well, and the second component (``ICA001``) looks a lot\nlike [a heartbeat](qrs_) (for more info on visually identifying Independent\nComponents, `this EEGLAB tutorial`_ is a good resource). We can also\nvisualize the scalp field distribution of each component using\n`~mne.preprocessing.ICA.plot_components`. These are interpolated based\non the values in the ICA mixing matrix:\n\n"
      ]
    },
    {
      "cell_type": "code",
      "execution_count": null,
      "metadata": {
        "collapsed": false
      },
      "outputs": [],
      "source": [
        "ica.plot_components()"
      ]
    },
    {
      "cell_type": "markdown",
      "metadata": {},
      "source": [
        "<div class=\"alert alert-info\"><h4>Note</h4><p>`~mne.preprocessing.ICA.plot_components` (which plots the scalp\n    field topographies for each component) has an optional ``inst`` parameter\n    that takes an instance of `~mne.io.Raw` or `~mne.Epochs`.\n    Passing ``inst`` makes the scalp topographies interactive: clicking one\n    will bring up a diagnostic `~mne.preprocessing.ICA.plot_properties`\n    window (see below) for that component.</p></div>\n\nIn the plots above it's fairly obvious which ICs are capturing our EOG and\nECG artifacts, but there are additional ways visualize them anyway just to\nbe sure. First, we can plot an overlay of the original signal against the\nreconstructed signal with the artifactual ICs excluded, using\n`~mne.preprocessing.ICA.plot_overlay`:\n\n"
      ]
    },
    {
      "cell_type": "code",
      "execution_count": null,
      "metadata": {
        "collapsed": false
      },
      "outputs": [],
      "source": [
        "# blinks\nica.plot_overlay(raw, exclude=[0], picks='eeg')\n# heartbeats\nica.plot_overlay(raw, exclude=[1], picks='mag')"
      ]
    },
    {
      "cell_type": "markdown",
      "metadata": {},
      "source": [
        "We can also plot some diagnostics of each IC using\n`~mne.preprocessing.ICA.plot_properties`:\n\n"
      ]
    },
    {
      "cell_type": "code",
      "execution_count": null,
      "metadata": {
        "collapsed": false
      },
      "outputs": [],
      "source": [
        "ica.plot_properties(raw, picks=[0, 1])"
      ]
    },
    {
      "cell_type": "markdown",
      "metadata": {},
      "source": [
        "In the remaining sections, we'll look at different ways of choosing which ICs\nto exclude prior to reconstructing the sensor signals.\n\n\n### Selecting ICA components manually\n\nOnce we're certain which components we want to exclude, we can specify that\nmanually by setting the ``ica.exclude`` attribute. Similar to marking bad\nchannels, merely setting ``ica.exclude`` doesn't do anything immediately (it\njust adds the excluded ICs to a list that will get used later when it's\nneeded). Once the exclusions have been set, ICA methods like\n`~mne.preprocessing.ICA.plot_overlay` will exclude those component(s)\neven if no ``exclude`` parameter is passed, and the list of excluded\ncomponents will be preserved when using `mne.preprocessing.ICA.save`\nand `mne.preprocessing.read_ica`.\n\n"
      ]
    },
    {
      "cell_type": "code",
      "execution_count": null,
      "metadata": {
        "collapsed": false
      },
      "outputs": [],
      "source": [
        "ica.exclude = [0, 1]  # indices chosen based on various plots above"
      ]
    },
    {
      "cell_type": "markdown",
      "metadata": {},
      "source": [
        "Now that the exclusions have been set, we can reconstruct the sensor signals\nwith artifacts removed using the `~mne.preprocessing.ICA.apply` method\n(remember, we're applying the ICA solution from the *filtered* data to the\noriginal *unfiltered* signal). Plotting the original raw data alongside the\nreconstructed data shows that the heartbeat and blink artifacts are repaired.\n\n"
      ]
    },
    {
      "cell_type": "code",
      "execution_count": null,
      "metadata": {
        "collapsed": false
      },
      "outputs": [],
      "source": [
        "# ica.apply() changes the Raw object in-place, so let's make a copy first:\nreconst_raw = raw.copy()\nica.apply(reconst_raw)\n\nraw.plot(order=artifact_picks, n_channels=len(artifact_picks),\n         show_scrollbars=False)\nreconst_raw.plot(order=artifact_picks, n_channels=len(artifact_picks),\n                 show_scrollbars=False)\ndel reconst_raw"
      ]
    },
    {
      "cell_type": "markdown",
      "metadata": {},
      "source": [
        "### Using an EOG channel to select ICA components\n\nIt may have seemed easy to review the plots and manually select which ICs to\nexclude, but when processing dozens or hundreds of subjects this can become\na tedious, rate-limiting step in the analysis pipeline. One alternative is to\nuse dedicated EOG or ECG sensors as a \"pattern\" to check the ICs against, and\nautomatically mark for exclusion any ICs that match the EOG/ECG pattern. Here\nwe'll use `~mne.preprocessing.ICA.find_bads_eog` to automatically find\nthe ICs that best match the EOG signal, then use\n`~mne.preprocessing.ICA.plot_scores` along with our other plotting\nfunctions to see which ICs it picked. We'll start by resetting\n``ica.exclude`` back to an empty list:\n\n"
      ]
    },
    {
      "cell_type": "code",
      "execution_count": null,
      "metadata": {
        "collapsed": false
      },
      "outputs": [],
      "source": [
        "ica.exclude = []\n# find which ICs match the EOG pattern\neog_indices, eog_scores = ica.find_bads_eog(raw)\nica.exclude = eog_indices\n\n# barplot of ICA component \"EOG match\" scores\nica.plot_scores(eog_scores)\n\n# plot diagnostics\nica.plot_properties(raw, picks=eog_indices)\n\n# plot ICs applied to raw data, with EOG matches highlighted\nica.plot_sources(raw, show_scrollbars=False)\n\n# plot ICs applied to the averaged EOG epochs, with EOG matches highlighted\nica.plot_sources(eog_evoked)"
      ]
    },
    {
      "cell_type": "markdown",
      "metadata": {},
      "source": [
        "Note that above we used `~mne.preprocessing.ICA.plot_sources` on both\nthe original `~mne.io.Raw` instance and also on an\n`~mne.Evoked` instance of the extracted EOG artifacts. This can be\nanother way to confirm that `~mne.preprocessing.ICA.find_bads_eog` has\nidentified the correct components.\n\n\n### Using a simulated channel to select ICA components\n\nIf you don't have an EOG channel,\n`~mne.preprocessing.ICA.find_bads_eog` has a ``ch_name`` parameter that\nyou can use as a proxy for EOG. You can use a single channel, or create a\nbipolar reference from frontal EEG sensors and use that as virtual EOG\nchannel. This carries a risk however: you must hope that the frontal EEG\nchannels only reflect EOG and not brain dynamics in the prefrontal cortex (or\nyou must not care about those prefrontal signals).\n\nFor ECG, it is easier: `~mne.preprocessing.ICA.find_bads_ecg` can use\ncross-channel averaging of magnetometer or gradiometer channels to construct\na virtual ECG channel, so if you have MEG channels it is usually not\nnecessary to pass a specific channel name.\n`~mne.preprocessing.ICA.find_bads_ecg` also has two options for its\n``method`` parameter: ``'ctps'`` (cross-trial phase statistics\n:footcite:`DammersEtAl2008`) and\n``'correlation'`` (Pearson correlation between data and ECG channel).\n\n"
      ]
    },
    {
      "cell_type": "code",
      "execution_count": null,
      "metadata": {
        "collapsed": false
      },
      "outputs": [],
      "source": [
        "ica.exclude = []\n# find which ICs match the ECG pattern\necg_indices, ecg_scores = ica.find_bads_ecg(raw, method='correlation',\n                                            threshold='auto')\nica.exclude = ecg_indices\n\n# barplot of ICA component \"ECG match\" scores\nica.plot_scores(ecg_scores)\n\n# plot diagnostics\nica.plot_properties(raw, picks=ecg_indices)\n\n# plot ICs applied to raw data, with ECG matches highlighted\nica.plot_sources(raw, show_scrollbars=False)\n\n# plot ICs applied to the averaged ECG epochs, with ECG matches highlighted\nica.plot_sources(ecg_evoked)"
      ]
    },
    {
      "cell_type": "markdown",
      "metadata": {},
      "source": [
        "The last of these plots is especially useful: it shows us that the heartbeat\nartifact is coming through on *two* ICs, and we've only caught one of them.\nIn fact, if we look closely at the output of\n`~mne.preprocessing.ICA.plot_sources` (online, you can right-click \u2192\n\"view image\" to zoom in), it looks like ``ICA014`` has a weak periodic\ncomponent that is in-phase with ``ICA001``. It might be worthwhile to re-run\nthe ICA with more components to see if that second heartbeat artifact\nresolves out a little better:\n\n"
      ]
    },
    {
      "cell_type": "code",
      "execution_count": null,
      "metadata": {
        "collapsed": false
      },
      "outputs": [],
      "source": [
        "# refit the ICA with 30 components this time\nnew_ica = ICA(n_components=30, max_iter='auto', random_state=97)\nnew_ica.fit(filt_raw)\n\n# find which ICs match the ECG pattern\necg_indices, ecg_scores = new_ica.find_bads_ecg(raw, method='correlation',\n                                                threshold='auto')\nnew_ica.exclude = ecg_indices\n\n# barplot of ICA component \"ECG match\" scores\nnew_ica.plot_scores(ecg_scores)\n\n# plot diagnostics\nnew_ica.plot_properties(raw, picks=ecg_indices)\n\n# plot ICs applied to raw data, with ECG matches highlighted\nnew_ica.plot_sources(raw, show_scrollbars=False)\n\n# plot ICs applied to the averaged ECG epochs, with ECG matches highlighted\nnew_ica.plot_sources(ecg_evoked)"
      ]
    },
    {
      "cell_type": "markdown",
      "metadata": {},
      "source": [
        "Much better! Now we've captured both ICs that are reflecting the heartbeat\nartifact (and as a result, we got two diagnostic plots: one for each IC that\nreflects the heartbeat). This demonstrates the value of checking the results\nof automated approaches like `~mne.preprocessing.ICA.find_bads_ecg`\nbefore accepting them.\n\n"
      ]
    },
    {
      "cell_type": "markdown",
      "metadata": {},
      "source": [
        "For EEG, activation of muscles for postural control of the head and neck\ncontaminate the signal as well. This is usually not detected by MEG. For\nan example showing how to remove these components, see `ex-muscle-ica`.\n\n"
      ]
    },
    {
      "cell_type": "code",
      "execution_count": null,
      "metadata": {
        "collapsed": false
      },
      "outputs": [],
      "source": [
        "# clean up memory before moving on\ndel raw, ica, new_ica"
      ]
    },
    {
      "cell_type": "markdown",
      "metadata": {},
      "source": [
        "### Selecting ICA components using template matching\n\nWhen dealing with multiple subjects, it is also possible to manually select\nan IC for exclusion on one subject, and then use that component as a\n*template* for selecting which ICs to exclude from other subjects' data,\nusing `mne.preprocessing.corrmap` :footcite:`CamposViolaEtAl2009`.\nThe idea behind `~mne.preprocessing.corrmap` is that the artifact patterns\nare similar\nenough across subjects that corresponding ICs can be identified by\ncorrelating the ICs from each ICA solution with a common template, and\npicking the ICs with the highest correlation strength.\n`~mne.preprocessing.corrmap` takes a list of ICA solutions, and a\n``template`` parameter that specifies which ICA object and which component\nwithin it to use as a template.\n\nSince our sample dataset only contains data from one subject, we'll use a\ndifferent dataset with multiple subjects: the EEGBCI dataset\n:footcite:`SchalkEtAl2004,GoldbergerEtAl2000`. The\ndataset has 109 subjects, we'll just download one run (a left/right hand\nmovement task) from each of the first 4 subjects:\n\n"
      ]
    },
    {
      "cell_type": "code",
      "execution_count": null,
      "metadata": {
        "collapsed": false
      },
      "outputs": [],
      "source": [
        "raws = list()\nicas = list()\n\nfor subj in range(4):\n    # EEGBCI subjects are 1-indexed; run 3 is a left/right hand movement task\n    fname = mne.datasets.eegbci.load_data(subj + 1, runs=[3])[0]\n    raw = mne.io.read_raw_edf(fname).load_data().resample(50)\n    # remove trailing `.` from channel names so we can set montage\n    mne.datasets.eegbci.standardize(raw)\n    raw.set_montage('standard_1005')\n    # high-pass filter\n    raw_filt = raw.copy().load_data().filter(l_freq=1., h_freq=None)\n    # fit ICA, using low max_iter for speed\n    ica = ICA(n_components=30, max_iter=100, random_state=97)\n    ica.fit(raw_filt, verbose='error')\n    raws.append(raw)\n    icas.append(ica)"
      ]
    },
    {
      "cell_type": "markdown",
      "metadata": {},
      "source": [
        "Now let's run `~mne.preprocessing.corrmap`:\n\n"
      ]
    },
    {
      "cell_type": "code",
      "execution_count": null,
      "metadata": {
        "collapsed": false
      },
      "outputs": [],
      "source": [
        "# use the first subject as template; use Fpz as proxy for EOG\nraw = raws[0]\nica = icas[0]\neog_inds, eog_scores = ica.find_bads_eog(raw, ch_name='Fpz')\ncorrmap(icas, template=(0, eog_inds[0]))"
      ]
    },
    {
      "cell_type": "markdown",
      "metadata": {},
      "source": [
        "The first figure shows the template map, while the second figure shows all\nthe maps that were considered a \"match\" for the template (including the\ntemplate itself). There is one match for each subject, but it's a good idea\nto also double-check the ICA sources for each subject:\n\n"
      ]
    },
    {
      "cell_type": "code",
      "execution_count": null,
      "metadata": {
        "collapsed": false
      },
      "outputs": [],
      "source": [
        "for index, (ica, raw) in enumerate(zip(icas, raws)):\n    with mne.viz.use_browser_backend('matplotlib'):\n        fig = ica.plot_sources(raw, show_scrollbars=False)\n    fig.subplots_adjust(top=0.9)  # make space for title\n    fig.suptitle('Subject {}'.format(index))"
      ]
    },
    {
      "cell_type": "markdown",
      "metadata": {},
      "source": [
        "Notice that subjects 2 and 3 each seem to have *two* ICs that reflect ocular\nactivity (components ``ICA000`` and ``ICA002``), but only one was caught by\n`~mne.preprocessing.corrmap`. Let's try setting the threshold manually:\n\n"
      ]
    },
    {
      "cell_type": "code",
      "execution_count": null,
      "metadata": {
        "collapsed": false
      },
      "outputs": [],
      "source": [
        "corrmap(icas, template=(0, eog_inds[0]), threshold=0.9)"
      ]
    },
    {
      "cell_type": "markdown",
      "metadata": {},
      "source": [
        "This time it found 2 ICs for each of subjects 2 and 3 (which is good).\nAt this point we'll re-run `~mne.preprocessing.corrmap` with\nparameters ``label='blink', plot=False`` to *label* the ICs from each subject\nthat capture the blink artifacts (without plotting them again).\n\n"
      ]
    },
    {
      "cell_type": "code",
      "execution_count": null,
      "metadata": {
        "collapsed": false
      },
      "outputs": [],
      "source": [
        "corrmap(icas, template=(0, eog_inds[0]), threshold=0.9, label='blink',\n        plot=False)\nprint([ica.labels_ for ica in icas])"
      ]
    },
    {
      "cell_type": "markdown",
      "metadata": {},
      "source": [
        "Notice that the first subject has 3 different labels for the IC at index 0:\n\"eog/0/Fpz\", \"eog\", and \"blink\". The first two were added by\n`~mne.preprocessing.ICA.find_bads_eog`; the \"blink\" label was added by the\nlast call to `~mne.preprocessing.corrmap`. Notice also that each subject has\nat least one IC index labelled \"blink\", and subjects 2 and 3 each have two\ncomponents (0 and 2) labelled \"blink\" (consistent with the plot of IC sources\nabove). The ``labels_`` attribute of `~mne.preprocessing.ICA` objects can\nalso be manually edited to annotate the ICs with custom labels. They also\ncome in handy when plotting:\n\n"
      ]
    },
    {
      "cell_type": "code",
      "execution_count": null,
      "metadata": {
        "collapsed": false
      },
      "outputs": [],
      "source": [
        "icas[3].plot_components(picks=icas[3].labels_['blink'])\nicas[3].exclude = icas[3].labels_['blink']\nicas[3].plot_sources(raws[3], show_scrollbars=False)"
      ]
    },
    {
      "cell_type": "markdown",
      "metadata": {},
      "source": [
        "As a final note, it is possible to extract ICs numerically using the\n`~mne.preprocessing.ICA.get_components` method of\n`~mne.preprocessing.ICA` objects. This will return a :class:`NumPy\narray <numpy.ndarray>` that can be passed to\n`~mne.preprocessing.corrmap` instead of the :class:`tuple` of\n``(subject_index, component_index)`` we passed before, and will yield the\nsame result:\n\n"
      ]
    },
    {
      "cell_type": "code",
      "execution_count": null,
      "metadata": {
        "collapsed": false
      },
      "outputs": [],
      "source": [
        "template_eog_component = icas[0].get_components()[:, eog_inds[0]]\ncorrmap(icas, template=template_eog_component, threshold=0.9)\nprint(template_eog_component)"
      ]
    },
    {
      "cell_type": "markdown",
      "metadata": {},
      "source": [
        "An advantage of using this numerical representation of an IC to capture a\nparticular artifact pattern is that it can be saved and used as a template\nfor future template-matching tasks using `~mne.preprocessing.corrmap`\nwithout having to load or recompute the ICA solution that yielded the\ntemplate originally. Put another way, when the template is a NumPy array, the\n`~mne.preprocessing.ICA` object containing the template does not need\nto be in the list of ICAs provided to `~mne.preprocessing.corrmap`.\n\n.. LINKS\n\n   https://en.wikipedia.org/wiki/Signal_separation\n   https://en.wikipedia.org/wiki/Independence_(probability_theory)\n\n"
      ]
    },
    {
      "cell_type": "markdown",
      "metadata": {},
      "source": [
        "### Compute ICA components on Epochs\n\nICA is now fit to epoched MEG data instead of the raw data.\nWe assume that the non-stationary EOG artifacts have already been removed.\nThe sources matching the ECG are automatically found and displayed.\n\n<div class=\"alert alert-info\"><h4>Note</h4><p>This example is computationally intensive, so it might take a few minutes\n    to complete.</p></div>\n\nAfter reading the data, preprocessing consists of:\n\n- MEG channel selection\n- 1-30 Hz band-pass filter\n- epoching -0.2 to 0.5 seconds with respect to events\n- rejection based on peak-to-peak amplitude\n\nNote that we don't baseline correct the epochs here \u2013 we'll do this after\ncleaning with ICA is completed. Baseline correction before ICA is not\nrecommended by the MNE-Python developers, as it doesn't guarantee optimal\nresults.\n\n"
      ]
    },
    {
      "cell_type": "code",
      "execution_count": null,
      "metadata": {
        "collapsed": false
      },
      "outputs": [],
      "source": [
        "filt_raw.pick_types(meg=True, eeg=False, exclude='bads', stim=True).load_data()\nfilt_raw.filter(1, 30, fir_design='firwin')\n\n# peak-to-peak amplitude rejection parameters\nreject = dict(mag=4e-12)\n# create longer and more epochs for more artifact exposure\nevents = mne.find_events(filt_raw, stim_channel='STI 014')\n# don't baseline correct epochs\nepochs = mne.Epochs(filt_raw, events, event_id=None, tmin=-0.2, tmax=0.5,\n                    reject=reject, baseline=None)"
      ]
    },
    {
      "cell_type": "markdown",
      "metadata": {},
      "source": [
        "Fit ICA model using the FastICA algorithm, detect and plot components\nexplaining ECG artifacts.\n\n"
      ]
    },
    {
      "cell_type": "code",
      "execution_count": null,
      "metadata": {
        "collapsed": false
      },
      "outputs": [],
      "source": [
        "ica = ICA(n_components=15, method='fastica', max_iter=\"auto\").fit(epochs)\n\necg_epochs = create_ecg_epochs(filt_raw, tmin=-.5, tmax=.5)\necg_inds, scores = ica.find_bads_ecg(ecg_epochs, threshold='auto')\n\nica.plot_components(ecg_inds)"
      ]
    },
    {
      "cell_type": "markdown",
      "metadata": {},
      "source": [
        "Plot the properties of the ECG components:\n\n"
      ]
    },
    {
      "cell_type": "code",
      "execution_count": null,
      "metadata": {
        "collapsed": false
      },
      "outputs": [],
      "source": [
        "ica.plot_properties(epochs, picks=ecg_inds)"
      ]
    },
    {
      "cell_type": "markdown",
      "metadata": {},
      "source": [
        "Plot the estimated sources of detected ECG related components:\n\n"
      ]
    },
    {
      "cell_type": "code",
      "execution_count": null,
      "metadata": {
        "collapsed": false
      },
      "outputs": [],
      "source": [
        "ica.plot_sources(filt_raw, picks=ecg_inds)"
      ]
    },
    {
      "cell_type": "markdown",
      "metadata": {},
      "source": [
        "## References\n.. footbibliography::\n\n"
      ]
    }
  ],
  "metadata": {
    "kernelspec": {
      "display_name": "Python 3",
      "language": "python",
      "name": "python3"
    },
    "language_info": {
      "codemirror_mode": {
        "name": "ipython",
        "version": 3
      },
      "file_extension": ".py",
      "mimetype": "text/x-python",
      "name": "python",
      "nbconvert_exporter": "python",
      "pygments_lexer": "ipython3",
      "version": "3.10.6"
    }
  },
  "nbformat": 4,
  "nbformat_minor": 0
}