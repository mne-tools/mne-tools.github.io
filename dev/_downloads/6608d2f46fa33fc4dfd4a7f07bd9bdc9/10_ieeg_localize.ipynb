{
  "cells": [
    {
      "cell_type": "code",
      "execution_count": null,
      "metadata": {
        "collapsed": false
      },
      "outputs": [],
      "source": [
        "%matplotlib inline"
      ]
    },
    {
      "cell_type": "markdown",
      "metadata": {},
      "source": [
        "\n\n# Locating Intracranial Electrode Contacts\n\nIntracranial electrophysiology recording contacts are generally localized\nbased on a post-implantation computed tomography (CT) image and a\npre-implantation magnetic resonance (MR) image. The CT image has greater\nintensity than the background at each of the electrode contacts and\nfor the skull. Using the skull, the CT can be aligned to MR-space.\nContact locations in MR-space are the goal because this is the image from which\nbrain structures can be determined using the\n`tut-freesurfer-reconstruction`. Contact locations in MR-space can also\nbe translated to a template space such as ``fsaverage`` for group comparisons.\n"
      ]
    },
    {
      "cell_type": "code",
      "execution_count": null,
      "metadata": {
        "collapsed": false
      },
      "outputs": [],
      "source": [
        "# Authors: Alex Rockhill <aprockhill@mailbox.org>\n#          Eric Larson <larson.eric.d@gmail.com>\n#\n# License: BSD (3-clause)\n\nimport os.path as op\n\nimport numpy as np\nimport pandas as pd\nimport matplotlib.pyplot as plt\n\nimport nibabel as nib\nfrom dipy.align import (affine_registration, center_of_mass, translation,\n                        rigid, affine, resample)\nfrom dipy.align.reslice import reslice\n\nimport mne\nfrom mne.datasets import fetch_fsaverage\n\nprint(__doc__)\n\nnp.set_printoptions(suppress=True)  # suppress scientific notation\n\n# paths to mne datasets - sample sEEG and FreeSurfer's fsaverage subject\n# which is in MNI space\nmisc_path = mne.datasets.misc.data_path()\nsample_path = mne.datasets.sample.data_path()\nsubjects_dir = op.join(sample_path, 'subjects')\n\n# use mne-python's fsaverage data\nfetch_fsaverage(subjects_dir=subjects_dir, verbose=True)  # downloads if needed"
      ]
    },
    {
      "cell_type": "markdown",
      "metadata": {},
      "source": [
        "## Freesurfer recon-all\n\nThe first step is the most time consuming; the freesurfer reconstruction.\nThis process segments out the brain from the rest of the MR image and\ndetermines which voxels correspond to each brain area based on a template\ndeformation. This process takes approximately 8 hours so plan accordingly.\n\n.. code-block:: bash\n\n    $ export SUBJECT=sample_seeg\n    $ export SUBJECTS_DIR=$MY_DATA_DIRECTORY\n    $ recon-all -subjid $SUBJECT -sd $SUBJECTS_DIR \\\n      -i $MISC_PATH/seeg/sample_seeg_T1.mgz -all -deface\n\n<div class=\"alert alert-info\"><h4>Note</h4><p>You may need to include an additional ``-cw256`` flag which can be added\n    to the end of the recon-all command if your MR scan is not\n    ``256 x 256 x 256`` voxels.</p></div>\n\n<div class=\"alert alert-info\"><h4>Note</h4><p>Using the ``--deface`` flag will create a defaced, anonymized T1 image\n    located at ``$MY_DATA_DIRECTORY/$SUBJECT/mri/orig_defaced.mgz``,\n    which is helpful for when you publish your data. You can also use\n    :func:`mne_bids.write_anat` and pass ``deface=True``.</p></div>\n\n"
      ]
    },
    {
      "cell_type": "markdown",
      "metadata": {},
      "source": [
        "## Aligning the CT to the MR\n\nLet's load our T1 and CT images and visualize them. You can hardly\nsee the CT, it's so misaligned that it is mostly out of view but there is a\npart of the skull upsidedown and way off center in the middle plot.\nClearly, we need to align the CT to the T1 image.\n\n"
      ]
    },
    {
      "cell_type": "code",
      "execution_count": null,
      "metadata": {
        "collapsed": false
      },
      "outputs": [],
      "source": [
        "def plot_overlay(image, compare, title, thresh=None):\n    \"\"\"Define a helper function for comparing plots.\"\"\"\n    image = nib.orientations.apply_orientation(\n        image.get_fdata().copy(), nib.orientations.axcodes2ornt(\n            nib.orientations.aff2axcodes(image.affine)))\n    compare = nib.orientations.apply_orientation(\n        compare.get_fdata().copy(), nib.orientations.axcodes2ornt(\n            nib.orientations.aff2axcodes(compare.affine)))\n    if thresh is not None:\n        compare[compare < np.quantile(compare, thresh)] = np.nan\n    fig, axes = plt.subplots(1, 3, figsize=(12, 4))\n    fig.suptitle(title)\n    for i, ax in enumerate(axes):\n        ax.imshow(np.take(image, [image.shape[i] // 2], axis=i).squeeze().T,\n                  cmap='gray')\n        ax.imshow(np.take(compare, [compare.shape[i] // 2],\n                          axis=i).squeeze().T, cmap='gist_heat', alpha=0.5)\n        ax.invert_yaxis()\n        ax.axis('off')\n    fig.tight_layout()\n\n\nT1 = nib.load(op.join(misc_path, 'seeg', 'sample_seeg_T1.mgz'))\nCT_orig = nib.load(op.join(misc_path, 'seeg', 'sample_seeg_CT.mgz'))\n\n# resample to T1 shape\nCT_resampled = resample(moving=CT_orig.get_fdata(),\n                        static=T1.get_fdata(),\n                        moving_affine=CT_orig.affine,\n                        static_affine=T1.affine,\n                        between_affine=None)\nplot_overlay(T1, CT_resampled, 'Unaligned CT Overlaid on T1', thresh=0.95)"
      ]
    },
    {
      "cell_type": "markdown",
      "metadata": {},
      "source": [
        "Now we need to align our CT image to the T1 image.\n\n.. code-block:: python\n\n    # normalize intensities\n    mri_to = T1.get_fdata().copy()\n    mri_to /= mri_to.max()\n    ct_from = CT_orig.get_fdata().copy()\n    ct_from /= ct_from.max()\n\n    # downsample for speed\n    zooms = (5, 5, 5)\n    mri_to, affine_to = reslice(\n        mri_to, affine=T1.affine,\n        zooms=T1.header.get_zooms()[:3], new_zooms=zooms)\n    ct_from, affine_from = reslice(\n        ct_from, affine=CT_orig.affine,\n        zooms=CT_orig.header.get_zooms()[:3], new_zooms=zooms)\n\n    # first optimize the translation on the zoomed images using\n    # ``factors`` which looks at the image at different scales\n    reg_affine = affine_registration(\n        moving=ct_from,\n        static=mri_to,\n        moving_affine=affine_from,\n        static_affine=affine_to,\n        nbins=32,\n        metric='MI',\n        pipeline=[center_of_mass, translation],\n        level_iters=[100, 100, 10],\n        sigmas=[3.0, 1.0, 0.0],\n        factors=[4, 2, 1])[1]\n\n    CT_translated = resample(moving=CT_orig.get_fdata(),\n                             static=T1.get_fdata(),\n                             moving_affine=CT_orig.affine,\n                             static_affine=T1.affine,\n                             between_affine=reg_affine)\n\n    # Now, fine-tune the registration\n    reg_affine = affine_registration(\n        moving=CT_translated.get_fdata(),\n        static=T1.get_fdata(),\n        moving_affine=CT_translated.affine,\n        static_affine=T1.affine,\n        nbins=32,\n        metric='MI',\n        pipeline=[rigid],\n        level_iters=[100, 100, 10],\n        sigmas=[3.0, 1.0, 0.0],\n        factors=[4, 2, 1])[1]\n\n    CT_aligned = resample(moving=CT_translated.get_fdata(),\n                          static=T1.get_fdata(),\n                          moving_affine=CT_translated.affine,\n                          static_affine=T1.affine,\n                          between_affine=reg_affine)\n\n"
      ]
    },
    {
      "cell_type": "markdown",
      "metadata": {},
      "source": [
        "The previous section takes several minutes to execute so the results are\npresented here pre-computed for convenience.\n\n"
      ]
    },
    {
      "cell_type": "code",
      "execution_count": null,
      "metadata": {
        "collapsed": false
      },
      "outputs": [],
      "source": [
        "alignment_affine = np.array([\n    [0.99235816, -0.03412124, 0.11857915, -133.22262329],\n    [0.04601133, 0.99402046, -0.09902669, -97.64542095],\n    [-0.11449119, 0.10372593, 0.98799428, -84.39915646],\n    [0., 0., 0., 1.]])\nCT_aligned = resample(moving=CT_orig.get_fdata(),\n                      static=T1.get_fdata(),\n                      moving_affine=CT_orig.affine,\n                      static_affine=T1.affine,\n                      between_affine=alignment_affine)\n\nplot_overlay(T1, CT_aligned, 'Aligned CT Overlaid on T1', thresh=0.95)"
      ]
    },
    {
      "cell_type": "markdown",
      "metadata": {},
      "source": [
        "We can now see how the CT image looks properly aligned to the T1 image.\n\n<div class=\"alert alert-info\"><h4>Note</h4><p>The hyperintense skull is actually aligned to the hypointensity between\n    the brain and the scalp. The brighter area surrounding the skull in the\n    MR is actually subcutaneous fat.</p></div>\n\n"
      ]
    },
    {
      "cell_type": "code",
      "execution_count": null,
      "metadata": {
        "collapsed": false
      },
      "outputs": [],
      "source": [
        "# make low intensity parts of the CT transparent for easier visualization\nCT_data = CT_aligned.get_fdata().copy()\nCT_data[CT_data < np.quantile(CT_data, 0.95)] = np.nan\n\nfig, axes = plt.subplots(1, 3, figsize=(12, 6))\nfor ax in axes:\n    ax.axis('off')\naxes[0].imshow(T1.get_fdata()[T1.shape[0] // 2], cmap='gray')\naxes[0].set_title('MR')\naxes[1].imshow(CT_aligned.get_fdata()[CT_aligned.shape[0] // 2], cmap='gray')\naxes[1].set_title('CT')\naxes[2].imshow(T1.get_fdata()[T1.shape[0] // 2], cmap='gray')\naxes[2].imshow(CT_data[CT_aligned.shape[0] // 2], cmap='gist_heat', alpha=0.5)\nfor ax in (axes[0], axes[2]):\n    ax.annotate('Subcutaneous fat', (110, 52), xytext=(100, 30),\n                color='white', horizontalalignment='center',\n                arrowprops=dict(facecolor='white'))\nfor ax in axes:\n    ax.annotate('Skull (dark in MR, bright in CT)', (40, 175),\n                xytext=(120, 246), horizontalalignment='center',\n                color='white', arrowprops=dict(facecolor='white'))\naxes[2].set_title('CT aligned to MR')\nfig.tight_layout()"
      ]
    },
    {
      "cell_type": "markdown",
      "metadata": {},
      "source": [
        "## Marking the Location of Each Electrode Contact\n\nNow, the CT and the MR are in the same space, so when you are looking at a\npoint in CT space, it is the same point in MR space. So now everything is\nready to determine the location of each electrode contact in the\nindividual subject's anatomical space (T1-space). To do this, can make\nlist of ``TkReg RAS`` points from the lower panel in freeview or use the\nmne graphical user interface (coming soon). The electrode locations will then\nbe in the ``surface RAS`` coordinate frame, which is helpful because that is\nthe coordinate frame that all the surface and image files that freesurfer\noutputs are in, see `tut-freesurfer-mne`.\n\nThe electrode contact locations could be determined using freeview by\nclicking through and noting each contact position in the interface launched\nby the following command:\n\n.. code-block:: bash\n\n    $ freeview $MISC_PATH/seeg/sample_seeg_T1.mgz \\\n      $MISC_PATH/seeg/sample_seeg_CT.mgz\n\nNow, we'll need the subject's brain segmented out from the rest of the T1\nimage from the freesurfer ``recon-all`` reconstruction. This is so that\nwe don't have extraneous data outside the brain affecting our warp to a\ntemplate brain.\n\nLet's plot the electrode contact locations on the subject's brain.\n\n"
      ]
    },
    {
      "cell_type": "code",
      "execution_count": null,
      "metadata": {
        "collapsed": false
      },
      "outputs": [],
      "source": [
        "# Load electrode positions from file\nelec_df = pd.read_csv(op.join(misc_path, 'seeg', 'sample_seeg_electrodes.tsv'),\n                      sep='\\t', header=0, index_col=None)\nch_names = elec_df['name'].tolist()\nch_coords = elec_df[['R', 'A', 'S']].to_numpy(dtype=float)\n\n# load the subject's brain\nsubject_brain = nib.load(op.join(misc_path, 'seeg', 'sample_seeg_brain.mgz'))\n\n# Make brain surface from T1\nverts, triangles = mne.marching_cubes(subject_brain.get_fdata(), level=100)\n# transform from voxels to surface RAS\nverts = mne.transforms.apply_trans(\n    subject_brain.header.get_vox2ras_tkr(), verts) / 1000.  # to meters\n\nfig_kwargs = dict(size=(800, 600), bgcolor='w', scene=False)\nrenderer = mne.viz.backends.renderer.create_3d_figure(**fig_kwargs)\nrenderer.mesh(*verts.T, triangles=triangles, color='gray',\n              opacity=0.05, representation='surface')\nfor ch_coord in ch_coords:\n    renderer.sphere(center=tuple(ch_coord / 1000.), color='y', scale=0.005)\nview_kwargs = dict(azimuth=40, elevation=60)\nmne.viz.set_3d_view(renderer.figure, focalpoint=(0, 0, 0), distance=0.3,\n                    **view_kwargs)\nrenderer.show()"
      ]
    },
    {
      "cell_type": "markdown",
      "metadata": {},
      "source": [
        "## Warping to a Common Atlas\n\nElectrode contact locations are often compared across subjects in a template\nspace such as ``fsaverage`` or ``cvs_avg35_inMNI152``. To transform electrode\ncontact locations to that space, we need to determine a function that maps\nfrom the subject's brain to the template brain. We will use the symmetric\ndiffeomorphic registration (SDR) implemented by ``Dipy`` to do this.\n\nBefore we can make a function to account for individual differences in the\nshape and size of brain areas, we need to fix the alignment of the brains.\nThe plot below shows that they are not yet aligned.\n\n"
      ]
    },
    {
      "cell_type": "code",
      "execution_count": null,
      "metadata": {
        "collapsed": false
      },
      "outputs": [],
      "source": [
        "# load the freesurfer average brain\ntemplate_brain = nib.load(\n    op.join(subjects_dir, 'fsaverage', 'mri', 'brain.mgz'))\n\nplot_overlay(template_brain, subject_brain,\n             'Alignment with fsaverage before Affine Registration')"
      ]
    },
    {
      "cell_type": "markdown",
      "metadata": {},
      "source": [
        "Now, we'll register the affine of the subject's brain to the template brain.\nThis aligns the two brains, preparing the subject's brain to be warped\nto the template.\n\n"
      ]
    },
    {
      "cell_type": "code",
      "execution_count": null,
      "metadata": {
        "collapsed": false
      },
      "outputs": [],
      "source": [
        "# normalize intensities\nmri_to = template_brain.get_fdata().copy()\nmri_to /= mri_to.max()\nmri_from = subject_brain.get_fdata().copy()\nmri_from /= mri_from.max()\n\n# downsample for speed\nzooms = (5, 5, 5)\nmri_to, affine_to = reslice(\n    mri_to, affine=template_brain.affine,\n    zooms=template_brain.header.get_zooms()[:3], new_zooms=zooms)\nmri_from, affine_from = reslice(\n    mri_from, affine=subject_brain.affine,\n    zooms=subject_brain.header.get_zooms()[:3], new_zooms=zooms)\n\nreg_affine = affine_registration(\n    moving=mri_from,\n    static=mri_to,\n    moving_affine=affine_from,\n    static_affine=affine_to,\n    nbins=32,\n    metric='MI',\n    pipeline=[center_of_mass, translation, rigid, affine],\n    level_iters=[100, 100, 10],\n    sigmas=[3.0, 1.0, 0.0],\n    factors=[4, 2, 1])[1]\n\n# Apply the transform to the subject brain to plot it\nsubject_brain_aligned = resample(moving=subject_brain.get_fdata(),\n                                 static=template_brain.get_fdata(),\n                                 moving_affine=subject_brain.affine,\n                                 static_affine=template_brain.affine,\n                                 between_affine=reg_affine)\nplot_overlay(template_brain, subject_brain_aligned,\n             'Alignment with fsaverage after Affine Registration')"
      ]
    },
    {
      "cell_type": "markdown",
      "metadata": {},
      "source": [
        "Next, we'll compute the symmetric diffeomorphic registration. This accounts\nfor differences in the shape and size of the subject's brain areas\ncompared to the template brain.\n\nThis takes several minutes, so it won't actually be executed in the\ntutorial, instead, we'll just use pre-computed results for convenience.\n\n.. code-block:: python\n\n    from dipy.align.metrics import CCMetric\n    from dipy.align.imwarp import SymmetricDiffeomorphicRegistration\n    # Compute registration\n    sdr = SymmetricDiffeomorphicRegistration(\n        metric=CCMetric(3), level_iters=[10, 10, 5])\n    mapping = sdr.optimize(static=template_brain.get_fdata(),\n                           moving=subject_brain.get_fdata(),\n                           static_grid2world=template_brain.affine,\n                           moving_grid2world=subject_brain.affine,\n                           prealign=reg_affine)\n\n"
      ]
    },
    {
      "cell_type": "markdown",
      "metadata": {},
      "source": [
        "Finally, we'll apply the registrations to the electrode contact coordinates.\nThe brain image is warped to the template but the goal was to warp the\npositions of the electrode contacts. To do that, we'll make an image that is\na lookup table of the electrode contacts. In this image, the background will\nbe ``0`` s all the bright voxels near the location of the first contact will\nbe ``1`` s, the second ``2`` s and so on. This image can then be warped by\nthe SDR transform. We can finally recover a position by averaging the\npositions of all the voxels that had the contact's lookup number in\nthe warped image.\n\n.. code-block:: python\n\n    # convert electrode positions from surface RAS to voxels\n    ch_coords = mne.transforms.apply_trans(\n        np.linalg.inv(subject_brain.header.get_vox2ras_tkr()), ch_coords)\n\n    # Take channel coordinates and use the CT to transform them\n    # into a 3D image where all the voxels over a threshold nearby\n    # are labeled with an index\n    CT_data = CT_aligned.get_fdata()\n    thresh = np.quantile(CT_data, 0.95)\n    elec_image = np.zeros(subject_brain.shape, dtype=int)\n    for i, ch_coord in enumerate(ch_coords):\n        # this looks up to a voxel away, it may be marked imperfectly\n        volume = mne.voxel_neighbors(ch_coord, CT_data, thresh)\n        for voxel in volume:\n            if elec_image[voxel] != 0:\n                # some voxels ambiguous because the contacts are bridged on\n                # the CT so assign the voxel to the nearest contact location\n                dist_old = np.sqrt(\n                    (ch_coords[elec_image[voxel] - 1] - voxel)**2).sum()\n                dist_new = np.sqrt((ch_coord - voxel)**2).sum()\n                if dist_new < dist_old:\n                    elec_image[voxel] = i + 1\n            else:\n                elec_image[voxel] = i + 1\n\n    # Apply the mapping\n    warped_elec_image = mapping.transform(elec_image,\n                                          interpolation='nearest')\n\n    # Recover the electrode contact positions as the center of mass\n    for i in range(ch_coords.shape[0]):\n        ch_coords[i] = np.array(\n            np.where(warped_elec_image == i + 1)).mean(axis=1)\n\n    # Convert back to surface RAS but to the template surface RAS this time\n    ch_coords = mne.transforms.apply_trans(\n        template_brain.header.get_vox2ras_tkr(), ch_coords)\n\n"
      ]
    },
    {
      "cell_type": "markdown",
      "metadata": {},
      "source": [
        "We can now plot the result. You can compare this to the plot in\n`tut-working-with-seeg` to see the difference between this morph, which\nis more complex, and the less-complex, linear Talairach transformation.\nBy accounting for the shape of this particular subject's brain using the\nSDR to warp the positions of the electrode contacts, the position in the\ntemplate brain is able to be more accurately estimated.\n\n"
      ]
    },
    {
      "cell_type": "code",
      "execution_count": null,
      "metadata": {
        "collapsed": false
      },
      "outputs": [],
      "source": [
        "# load pre-computed warped values\nelec_df = pd.read_csv(\n    op.join(misc_path, 'seeg', 'sample_seeg_electrodes_fsaverage.tsv'),\n    sep='\\t', header=0, index_col=None)\nch_coords = elec_df[['R', 'A', 'S']].to_numpy(dtype=float)\n\n# load electrophysiology data\nraw = mne.io.read_raw(op.join(misc_path, 'seeg', 'sample_seeg_ieeg.fif'))\n\nlpa, nasion, rpa = mne.coreg.get_mni_fiducials(\n    'fsaverage', subjects_dir=subjects_dir)\nlpa, nasion, rpa = lpa['r'], nasion['r'], rpa['r']\n\n# Create a montage with our new points\nch_pos = dict(zip(ch_names, ch_coords / 1000))  # mm -> m\nmontage = mne.channels.make_dig_montage(\n    ch_pos, coord_frame='mri', nasion=nasion, lpa=lpa, rpa=rpa)\nraw.set_montage(montage)\n\n# get trans\ntrans = mne.channels.compute_native_head_t(montage)\n\n# plot the resulting alignment\nrenderer = mne.viz.backends.renderer.create_3d_figure(**fig_kwargs)\nfig = mne.viz.plot_alignment(raw.info, trans, 'fsaverage',\n                             fig=renderer.figure,\n                             subjects_dir=subjects_dir, show_axes=True,\n                             surfaces=dict(pial=0.2, head=0.2))\nmne.viz.set_3d_view(fig, focalpoint=(0, 0, 0.05), distance=0.4, **view_kwargs)"
      ]
    },
    {
      "cell_type": "markdown",
      "metadata": {},
      "source": [
        "This pipeline was developed based on previous work\n:footcite:`HamiltonEtAl2017`.\n\n"
      ]
    },
    {
      "cell_type": "markdown",
      "metadata": {},
      "source": [
        "## References\n\n.. footbibliography::\n\n"
      ]
    }
  ],
  "metadata": {
    "kernelspec": {
      "display_name": "Python 3",
      "language": "python",
      "name": "python3"
    },
    "language_info": {
      "codemirror_mode": {
        "name": "ipython",
        "version": 3
      },
      "file_extension": ".py",
      "mimetype": "text/x-python",
      "name": "python",
      "nbconvert_exporter": "python",
      "pygments_lexer": "ipython3",
      "version": "3.8.5"
    }
  },
  "nbformat": 4,
  "nbformat_minor": 0
}