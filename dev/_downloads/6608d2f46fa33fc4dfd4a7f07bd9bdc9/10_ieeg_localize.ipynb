{
  "cells": [
    {
      "cell_type": "code",
      "execution_count": null,
      "metadata": {
        "collapsed": false
      },
      "outputs": [],
      "source": [
        "%matplotlib inline"
      ]
    },
    {
      "cell_type": "markdown",
      "metadata": {},
      "source": [
        "\n\n# Locating Intracranial Electrode Contacts\n\nIntracranial electrophysiology recording contacts are generally localized\nbased on a post-implantation computed tomography (CT) image and a\npre-implantation magnetic resonance (MR) image. The CT image has greater\nintensity than the background at each of the electrode contacts and\nfor the skull. Using the skull, the CT can be aligned to MR-space.\nContact locations in MR-space are the goal because this is the image from which\nbrain structures can be determined using the\n`tut-freesurfer-reconstruction`. Contact locations in MR-space can also\nbe translated to a template space such as ``fsaverage`` for group comparisons.\n"
      ]
    },
    {
      "cell_type": "code",
      "execution_count": null,
      "metadata": {
        "collapsed": false
      },
      "outputs": [],
      "source": [
        "# Authors: Alex Rockhill <aprockhill@mailbox.org>\n#          Eric Larson <larson.eric.d@gmail.com>\n#\n# License: BSD-3-Clause"
      ]
    },
    {
      "cell_type": "code",
      "execution_count": null,
      "metadata": {
        "collapsed": false
      },
      "outputs": [],
      "source": [
        "import os\nimport os.path as op\n\nimport numpy as np\nimport matplotlib.pyplot as plt\n\nimport nibabel as nib\nimport nilearn.plotting\nfrom dipy.align import resample\n\nimport mne\nfrom mne.datasets import fetch_fsaverage\n\n# paths to mne datasets - sample sEEG and FreeSurfer's fsaverage subject\n# which is in MNI space\nmisc_path = mne.datasets.misc.data_path()\nsample_path = mne.datasets.sample.data_path()\nsubjects_dir = op.join(sample_path, 'subjects')\n\n# use mne-python's fsaverage data\nfetch_fsaverage(subjects_dir=subjects_dir, verbose=True)  # downloads if needed"
      ]
    },
    {
      "cell_type": "markdown",
      "metadata": {},
      "source": [
        "## Freesurfer recon-all\n\nThe first step is the most time consuming; the freesurfer reconstruction.\nThis process segments out the brain from the rest of the MR image and\ndetermines which voxels correspond to each brain area based on a template\ndeformation. This process takes approximately 8 hours so plan accordingly.\n\n.. code-block:: bash\n\n    $ export SUBJECT=sample_seeg\n    $ export SUBJECTS_DIR=$MY_DATA_DIRECTORY\n    $ recon-all -subjid $SUBJECT -sd $SUBJECTS_DIR \\\n      -i $MISC_PATH/seeg/sample_seeg_T1.mgz -all -deface\n\n<div class=\"alert alert-info\"><h4>Note</h4><p>You may need to include an additional ``-cw256`` flag which can be added\n    to the end of the recon-all command if your MR scan is not\n    ``256 x 256 x 256`` voxels.</p></div>\n\n<div class=\"alert alert-info\"><h4>Note</h4><p>Using the ``-deface`` flag will create a defaced, anonymized T1 image\n    located at ``$MY_DATA_DIRECTORY/$SUBJECT/mri/orig_defaced.mgz``,\n    which is helpful for when you publish your data. You can also use\n    :func:`mne_bids.write_anat` and pass ``deface=True``.</p></div>\n\n"
      ]
    },
    {
      "cell_type": "markdown",
      "metadata": {},
      "source": [
        "## Aligning the CT to the MR\n\nLet's load our T1 and CT images and visualize them. You can hardly\nsee the CT, it's so misaligned that it is mostly out of view but there is a\npart of the skull upsidedown and way off center in the middle plot.\nClearly, we need to align the CT to the T1 image.\n\n"
      ]
    },
    {
      "cell_type": "code",
      "execution_count": null,
      "metadata": {
        "collapsed": false
      },
      "outputs": [],
      "source": [
        "def plot_overlay(image, compare, title, thresh=None):\n    \"\"\"Define a helper function for comparing plots.\"\"\"\n    image = nib.orientations.apply_orientation(\n        np.asarray(image.dataobj), nib.orientations.axcodes2ornt(\n            nib.orientations.aff2axcodes(image.affine))).astype(np.float32)\n    compare = nib.orientations.apply_orientation(\n        np.asarray(compare.dataobj), nib.orientations.axcodes2ornt(\n            nib.orientations.aff2axcodes(compare.affine))).astype(np.float32)\n    if thresh is not None:\n        compare[compare < np.quantile(compare, thresh)] = np.nan\n    fig, axes = plt.subplots(1, 3, figsize=(12, 4))\n    fig.suptitle(title)\n    for i, ax in enumerate(axes):\n        ax.imshow(np.take(image, [image.shape[i] // 2], axis=i).squeeze().T,\n                  cmap='gray')\n        ax.imshow(np.take(compare, [compare.shape[i] // 2],\n                          axis=i).squeeze().T, cmap='gist_heat', alpha=0.5)\n        ax.invert_yaxis()\n        ax.axis('off')\n    fig.tight_layout()\n\n\nT1 = nib.load(op.join(misc_path, 'seeg', 'sample_seeg', 'mri', 'T1.mgz'))\nCT_orig = nib.load(op.join(misc_path, 'seeg', 'sample_seeg_CT.mgz'))\n\n# resample to T1's definition of world coordinates\nCT_resampled = resample(moving=np.asarray(CT_orig.dataobj),\n                        static=np.asarray(T1.dataobj),\n                        moving_affine=CT_orig.affine,\n                        static_affine=T1.affine)\nplot_overlay(T1, CT_resampled, 'Unaligned CT Overlaid on T1', thresh=0.95)\ndel CT_resampled"
      ]
    },
    {
      "cell_type": "markdown",
      "metadata": {},
      "source": [
        "Now we need to align our CT image to the T1 image.\n\nWe want this to be a rigid transformation (just rotation + translation),\nso we don't do a full affine registration (that includes shear) here.\nThis takes a while (~10 minutes) to execute so we skip actually running it\nhere::\n\n   reg_affine, _ = mne.transforms.compute_volume_registration(\n       CT_orig, T1, pipeline='rigids', verbose=True)\n\nAnd instead we just hard-code the resulting 4x4 matrix:\n\n"
      ]
    },
    {
      "cell_type": "code",
      "execution_count": null,
      "metadata": {
        "collapsed": false
      },
      "outputs": [],
      "source": [
        "reg_affine = np.array([\n    [0.99270756, -0.03243313, 0.11610254, -133.094156],\n    [0.04374389, 0.99439665, -0.09623816, -97.58320673],\n    [-0.11233068, 0.10061512, 0.98856381, -84.45551601],\n    [0., 0., 0., 1.]])\nCT_aligned = mne.transforms.apply_volume_registration(CT_orig, T1, reg_affine)\nplot_overlay(T1, CT_aligned, 'Aligned CT Overlaid on T1', thresh=0.95)\ndel CT_orig"
      ]
    },
    {
      "cell_type": "markdown",
      "metadata": {},
      "source": [
        "We can now see how the CT image looks properly aligned to the T1 image.\n\n<div class=\"alert alert-info\"><h4>Note</h4><p>The hyperintense skull is actually aligned to the hypointensity between\n    the brain and the scalp. The brighter area surrounding the skull in the\n    MR is actually subcutaneous fat.</p></div>\n\n"
      ]
    },
    {
      "cell_type": "code",
      "execution_count": null,
      "metadata": {
        "collapsed": false
      },
      "outputs": [],
      "source": [
        "# make low intensity parts of the CT transparent for easier visualization\nCT_data = CT_aligned.get_fdata().copy()\nCT_data[CT_data < np.quantile(CT_data, 0.95)] = np.nan\nT1_data = np.asarray(T1.dataobj)\n\nfig, axes = plt.subplots(1, 3, figsize=(12, 6))\nfor ax in axes:\n    ax.axis('off')\naxes[0].imshow(T1_data[T1.shape[0] // 2], cmap='gray')\naxes[0].set_title('MR')\naxes[1].imshow(np.asarray(CT_aligned.dataobj)[CT_aligned.shape[0] // 2],\n               cmap='gray')\naxes[1].set_title('CT')\naxes[2].imshow(T1_data[T1.shape[0] // 2], cmap='gray')\naxes[2].imshow(CT_data[CT_aligned.shape[0] // 2], cmap='gist_heat', alpha=0.5)\nfor ax in (axes[0], axes[2]):\n    ax.annotate('Subcutaneous fat', (110, 52), xytext=(100, 30),\n                color='white', horizontalalignment='center',\n                arrowprops=dict(facecolor='white'))\nfor ax in axes:\n    ax.annotate('Skull (dark in MR, bright in CT)', (40, 175),\n                xytext=(120, 246), horizontalalignment='center',\n                color='white', arrowprops=dict(facecolor='white'))\naxes[2].set_title('CT aligned to MR')\nfig.tight_layout()\ndel CT_data, T1"
      ]
    },
    {
      "cell_type": "markdown",
      "metadata": {},
      "source": [
        "## Marking the Location of Each Electrode Contact\n\nNow, the CT and the MR are in the same space, so when you are looking at a\npoint in CT space, it is the same point in MR space. So now everything is\nready to determine the location of each electrode contact in the\nindividual subject's anatomical space (T1-space). To do this, can make\nlist of ``TkReg RAS`` points from the lower panel in freeview or use the\nmne graphical user interface (coming soon). The electrode locations will then\nbe in the ``surface RAS`` coordinate frame, which is helpful because that is\nthe coordinate frame that all the surface and image files that freesurfer\noutputs are in, see `tut-freesurfer-mne`.\n\nThe electrode contact locations could be determined using freeview by\nclicking through and noting each contact position in the interface launched\nby the following command:\n\n.. code-block:: bash\n\n    $ freeview $MISC_PATH/seeg/sample_seeg_T1.mgz \\\n          $MISC_PATH/seeg/sample_seeg_CT.mgz\n\n"
      ]
    },
    {
      "cell_type": "markdown",
      "metadata": {},
      "source": [
        "Now, we'll make a montage with the channels that we've found in the\nprevious step.\n\n<div class=\"alert alert-info\"><h4>Note</h4><p>MNE represents data in the \"head\" space internally</p></div>\n\n"
      ]
    },
    {
      "cell_type": "code",
      "execution_count": null,
      "metadata": {
        "collapsed": false
      },
      "outputs": [],
      "source": [
        "# load electrophysiology data with channel locations\nraw = mne.io.read_raw(op.join(misc_path, 'seeg', 'sample_seeg_ieeg.fif'))\n\n# MNE stores digitization montages in a coordinate frame called \"head\"\n# thus even though the channel positions were found in the reference frame of\n# Freesurfer surfaces when they were assigned to the ``raw`` object, they were\n# transformed to \"head\" so we need to have a transform to put them back\nsubj_trans = mne.read_trans(op.join(misc_path, 'seeg',\n                                    'sample_seeg_trans.fif'))\n\n# create symbolic link to share ``subjects_dir``\nseeg_subject_dir = op.join(subjects_dir, 'sample_seeg')\nif not op.exists(seeg_subject_dir):\n    os.symlink(op.join(misc_path, 'seeg', 'sample_seeg'), seeg_subject_dir)"
      ]
    },
    {
      "cell_type": "markdown",
      "metadata": {},
      "source": [
        "Let's plot the electrode contact locations on the subject's brain.\n\n"
      ]
    },
    {
      "cell_type": "code",
      "execution_count": null,
      "metadata": {
        "collapsed": false
      },
      "outputs": [],
      "source": [
        "# load the subject's brain\nsubject_brain = nib.load(\n    op.join(misc_path, 'seeg', 'sample_seeg', 'mri', 'brain.mgz'))\n\n# plot the alignment\nfig_kwargs = dict(size=(800, 600), bgcolor='w', scene=False)\nrenderer = mne.viz.backends.renderer.create_3d_figure(**fig_kwargs)\nal_kwargs = dict(\n    show_axes=True, surfaces=dict(pial=0.2), coord_frame='mri',\n    subjects_dir=subjects_dir)\nfig = mne.viz.plot_alignment(raw.info, subj_trans, 'sample_seeg',\n                             fig=renderer.figure, **al_kwargs)\nview_kwargs = dict(azimuth=60, elevation=100, distance=0.3)\nmne.viz.set_3d_view(fig, **view_kwargs)"
      ]
    },
    {
      "cell_type": "markdown",
      "metadata": {},
      "source": [
        "## Warping to a Common Atlas\n\nElectrode contact locations are often compared across subjects in a template\nspace such as ``fsaverage`` or ``cvs_avg35_inMNI152``. To transform electrode\ncontact locations to that space, we need to determine a function that maps\nfrom the subject's brain to the template brain. We will use the symmetric\ndiffeomorphic registration (SDR) implemented by ``Dipy`` to do this.\n\nBefore we can make a function to account for individual differences in the\nshape and size of brain areas, we need to fix the alignment of the brains.\nThe plot below shows that they are not yet aligned.\n\n"
      ]
    },
    {
      "cell_type": "code",
      "execution_count": null,
      "metadata": {
        "collapsed": false
      },
      "outputs": [],
      "source": [
        "# load the freesurfer average brain\ntemplate_brain = nib.load(\n    op.join(subjects_dir, 'fsaverage', 'mri', 'brain.mgz'))\n\nplot_overlay(template_brain, subject_brain,\n             'Alignment with fsaverage before Affine Registration')"
      ]
    },
    {
      "cell_type": "markdown",
      "metadata": {},
      "source": [
        "Now, we'll register the affine of the subject's brain to the template brain.\nThis aligns the two brains, preparing the subject's brain to be warped\nto the template.\n\n<div class=\"alert alert-danger\"><h4>Warning</h4><p>Here we use ``zooms=5`` just for speed, in general we recommend\n             using ``zooms=None``` (default) for highest accuracy. To deal\n             with this coarseness, we also use a threshold of 0.8 for the CT\n             electrodes rather than 0.95. This coarse zoom and low threshold\n             is useful for getting a quick view of the data, but finalized\n             pipelines should use ``zooms=None`` instead!</p></div>\n\n"
      ]
    },
    {
      "cell_type": "code",
      "execution_count": null,
      "metadata": {
        "collapsed": false
      },
      "outputs": [],
      "source": [
        "CT_thresh = 0.8  # 0.95 is better for zooms=None!\nreg_affine, sdr_morph = mne.transforms.compute_volume_registration(\n    subject_brain, template_brain, zooms=5, verbose=True)\nsubject_brain_sdr = mne.transforms.apply_volume_registration(\n    subject_brain, template_brain, reg_affine, sdr_morph)\n\n# apply the transform to the subject brain to plot it\nplot_overlay(template_brain, subject_brain_sdr,\n             'Alignment with fsaverage after SDR Registration')\n\ndel subject_brain, template_brain"
      ]
    },
    {
      "cell_type": "markdown",
      "metadata": {},
      "source": [
        "Finally, we'll apply the registrations to the electrode contact coordinates.\nThe brain image is warped to the template but the goal was to warp the\npositions of the electrode contacts. To do that, we'll make an image that is\na lookup table of the electrode contacts. In this image, the background will\nbe ``0`` s all the bright voxels near the location of the first contact will\nbe ``1`` s, the second ``2`` s and so on. This image can then be warped by\nthe SDR transform. We can finally recover a position by averaging the\npositions of all the voxels that had the contact's lookup number in\nthe warped image.\n\n"
      ]
    },
    {
      "cell_type": "code",
      "execution_count": null,
      "metadata": {
        "collapsed": false
      },
      "outputs": [],
      "source": [
        "# first we need our montage but it should be converted to \"mri\" coordinates\nmontage = raw.get_montage()\n# ``subj_trans`` is \"mri\" to \"head\", we need \"head\" to \"mri\"\nmontage.apply_trans(mne.transforms.invert_transform(subj_trans))\n\nmontage_warped, elec_image, warped_elec_image = mne.warp_montage_volume(\n    montage, CT_aligned, reg_affine, sdr_morph,\n    subject_from='sample_seeg', subjects_dir=subjects_dir, thresh=CT_thresh)\n\nfig, axes = plt.subplots(2, 1, figsize=(8, 8))\nnilearn.plotting.plot_glass_brain(elec_image, axes=axes[0], cmap='Dark2')\nfig.text(0.1, 0.65, 'Subject T1', rotation='vertical')\nnilearn.plotting.plot_glass_brain(warped_elec_image, axes=axes[1],\n                                  cmap='Dark2')\nfig.text(0.1, 0.25, 'fsaverage', rotation='vertical')\nfig.suptitle('Electrodes warped to fsaverage')\n\ndel CT_aligned"
      ]
    },
    {
      "cell_type": "markdown",
      "metadata": {},
      "source": [
        "We can now plot the result. You can compare this to the plot in\n`tut-working-with-seeg` to see the difference between this morph, which\nis more complex, and the less-complex, linear Talairach transformation.\nBy accounting for the shape of this particular subject's brain using the\nSDR to warp the positions of the electrode contacts, the position in the\ntemplate brain is able to be more accurately estimated.\n\n"
      ]
    },
    {
      "cell_type": "code",
      "execution_count": null,
      "metadata": {
        "collapsed": false
      },
      "outputs": [],
      "source": [
        "# get native to head trans\nfsaverage_trans = mne.channels.compute_native_head_t(montage_warped)\n\n# set new montage\nraw.set_montage(montage_warped)\n\n# plot the resulting alignment\nrenderer = mne.viz.backends.renderer.create_3d_figure(**fig_kwargs)\nfig = mne.viz.plot_alignment(raw.info, fsaverage_trans, 'fsaverage',\n                             fig=renderer.figure, **al_kwargs)\nmne.viz.set_3d_view(fig, **view_kwargs)"
      ]
    },
    {
      "cell_type": "markdown",
      "metadata": {},
      "source": [
        "This pipeline was developed based on previous work\n:footcite:`HamiltonEtAl2017`.\n\n"
      ]
    },
    {
      "cell_type": "markdown",
      "metadata": {},
      "source": [
        "## References\n\n.. footbibliography::\n\n"
      ]
    }
  ],
  "metadata": {
    "kernelspec": {
      "display_name": "Python 3",
      "language": "python",
      "name": "python3"
    },
    "language_info": {
      "codemirror_mode": {
        "name": "ipython",
        "version": 3
      },
      "file_extension": ".py",
      "mimetype": "text/x-python",
      "name": "python",
      "nbconvert_exporter": "python",
      "pygments_lexer": "ipython3",
      "version": "3.8.5"
    }
  },
  "nbformat": 4,
  "nbformat_minor": 0
}