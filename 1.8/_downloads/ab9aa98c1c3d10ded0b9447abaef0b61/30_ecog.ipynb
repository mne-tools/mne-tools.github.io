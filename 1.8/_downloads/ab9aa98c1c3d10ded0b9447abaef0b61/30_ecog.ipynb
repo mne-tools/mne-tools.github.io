{
  "cells": [
    {
      "cell_type": "markdown",
      "metadata": {},
      "source": [
        "\n\n# Working with ECoG data\n\nMNE supports working with more than just MEG and EEG data. Here we show some\nof the functions that can be used to facilitate working with\nelectrocorticography (ECoG) data.\n\nThis example shows how to use:\n\n- ECoG data ([available here](https://openneuro.org/datasets/ds003029)_) from\n  an epilepsy patient during a seizure\n- channel locations in FreeSurfer's ``fsaverage`` MRI space\n- projection onto a pial surface\n\nFor a complementary example that involves sEEG data, channel locations in MNI\nspace, or projection into a volume, see `tut-working-with-seeg`.\n\nPlease note that this tutorial requires 3D plotting dependencies (see\n`manual-install`) as well as ``mne-bids`` which can be installed using\n``pip``.\n"
      ]
    },
    {
      "cell_type": "code",
      "execution_count": null,
      "metadata": {
        "collapsed": false
      },
      "outputs": [],
      "source": [
        "# Authors: Eric Larson <larson.eric.d@gmail.com>\n#          Chris Holdgraf <choldgraf@gmail.com>\n#          Adam Li <adam2392@gmail.com>\n#          Alex Rockhill <aprockhill@mailbox.org>\n#          Liberty Hamilton <libertyhamilton@gmail.com>\n#\n# License: BSD-3-Clause\n# Copyright the MNE-Python contributors."
      ]
    },
    {
      "cell_type": "code",
      "execution_count": null,
      "metadata": {
        "collapsed": false
      },
      "outputs": [],
      "source": [
        "import matplotlib.pyplot as plt\nimport numpy as np\nfrom matplotlib import colormaps\nfrom mne_bids import BIDSPath, read_raw_bids\n\nimport mne\nfrom mne.viz import plot_alignment, snapshot_brain_montage\n\nprint(__doc__)\n\n# paths to mne datasets - sample ECoG and FreeSurfer subject\nbids_root = mne.datasets.epilepsy_ecog.data_path()\nsample_path = mne.datasets.sample.data_path()\nsubjects_dir = sample_path / \"subjects\""
      ]
    },
    {
      "cell_type": "markdown",
      "metadata": {},
      "source": [
        "## Load in data and perform basic preprocessing\n\nLet's load some ECoG electrode data with `MNE-BIDS`_.\n\n<div class=\"alert alert-info\"><h4>Note</h4><p>Downsampling is just to save execution time in this example, you should\n    not need to do this in general!</p></div>\n\n"
      ]
    },
    {
      "cell_type": "code",
      "execution_count": null,
      "metadata": {
        "collapsed": false
      },
      "outputs": [],
      "source": [
        "# first define the bids path\nbids_path = BIDSPath(\n    root=bids_root,\n    subject=\"pt1\",\n    session=\"presurgery\",\n    task=\"ictal\",\n    datatype=\"ieeg\",\n    extension=\".vhdr\",\n)\n\n# Then we'll use it to load in the sample dataset. This function changes the\n# units of some channels, so we suppress a related warning here by using\n# verbose='error'.\nraw = read_raw_bids(bids_path=bids_path, verbose=\"error\")\n\n# Pick only the ECoG channels, removing the EKG channels\nraw.pick(picks=\"ecog\")\n\n# Load the data\nraw.load_data()\n\n# Then we remove line frequency interference\nraw.notch_filter([60], trans_bandwidth=3)\n\n# drop bad channels\nraw.drop_channels(raw.info[\"bads\"])\n\n# the coordinate frame of the montage\nmontage = raw.get_montage()\nprint(montage.get_positions()[\"coord_frame\"])\n\n# add fiducials to montage\nmontage.add_mni_fiducials(subjects_dir)\n\n# now with fiducials assigned, the montage will be properly converted\n# to \"head\" which is what MNE requires internally (this is the coordinate\n# system with the origin between LPA and RPA whereas MNI has the origin\n# at the posterior commissure)\nraw.set_montage(montage)\n\n# Make a 25 second epoch that spans before and after the seizure onset\nepoch_length = 25  # seconds\nepochs = mne.Epochs(\n    raw,\n    event_id=\"onset\",\n    tmin=13,\n    tmax=13 + epoch_length,\n    baseline=None,\n)\n# Make evoked from the one epoch and resample\nevoked = epochs.average().resample(200)\ndel epochs"
      ]
    },
    {
      "cell_type": "markdown",
      "metadata": {},
      "source": [
        "## Explore the electrodes on a template brain\n\nOur electrodes are shown after being morphed to fsaverage brain so we'll use\nthis fsaverage brain to plot the locations of our electrodes. We'll use\n:func:`~mne.viz.snapshot_brain_montage` to save the plot as image data\n(along with xy positions of each electrode in the image), so that later\nwe can plot frequency band power on top of it.\n\n"
      ]
    },
    {
      "cell_type": "code",
      "execution_count": null,
      "metadata": {
        "collapsed": false
      },
      "outputs": [],
      "source": [
        "fig = plot_alignment(\n    raw.info,\n    trans=\"fsaverage\",\n    subject=\"fsaverage\",\n    subjects_dir=subjects_dir,\n    surfaces=[\"pial\"],\n    coord_frame=\"head\",\n    sensor_colors=(1.0, 1.0, 1.0, 0.5),\n)\nmne.viz.set_3d_view(fig, azimuth=0, elevation=70, focalpoint=\"auto\", distance=\"auto\")\n\nxy, im = snapshot_brain_montage(fig, raw.info)"
      ]
    },
    {
      "cell_type": "markdown",
      "metadata": {},
      "source": [
        "## Compute frequency features of the data\n\nNext, we'll compute the signal power in the gamma (30-90 Hz) band,\ndownsampling the result to 10 Hz (to save time).\n\n"
      ]
    },
    {
      "cell_type": "code",
      "execution_count": null,
      "metadata": {
        "collapsed": false
      },
      "outputs": [],
      "source": [
        "sfreq = 10\ngamma_power_t = (\n    evoked.copy().filter(30, 90).apply_hilbert(envelope=True).resample(sfreq)\n)\ngamma_info = gamma_power_t.info"
      ]
    },
    {
      "cell_type": "markdown",
      "metadata": {},
      "source": [
        "## Plot Gamma Power on cortical sensors\n\nWe will now use evoked gamma power to plot on the cortical surface.\nTherefore we extract the evoked time sample at 15s and normalize\nit in a range of 0 to 1 in order to map it using a matplotlib colormap.\n\n"
      ]
    },
    {
      "cell_type": "code",
      "execution_count": null,
      "metadata": {
        "collapsed": false
      },
      "outputs": [],
      "source": [
        "gamma_power_at_15s = gamma_power_t.to_data_frame(index=\"time\").loc[15]\n# scale values to be between 0 and 1, then map to colors\ngamma_power_at_15s -= gamma_power_at_15s.min()\ngamma_power_at_15s /= gamma_power_at_15s.max()\nrgba = colormaps.get_cmap(\"viridis\")\nsensor_colors = np.array(gamma_power_at_15s.map(rgba).tolist(), float)\nsensor_colors[:, 3] = 0.5\n\nfig = plot_alignment(\n    raw.info,\n    trans=\"fsaverage\",\n    subject=\"fsaverage\",\n    subjects_dir=subjects_dir,\n    surfaces=[\"pial\"],\n    coord_frame=\"head\",\n    sensor_colors=sensor_colors,\n)\n\nmne.viz.set_3d_view(fig, azimuth=0, elevation=70, focalpoint=\"auto\", distance=\"auto\")\n\nxy, im = snapshot_brain_montage(fig, raw.info)"
      ]
    },
    {
      "cell_type": "markdown",
      "metadata": {},
      "source": [
        "## Visualize the time-evolution of the gamma power on the brain\n\nSay we want to visualize the evolution of the power in the gamma band,\ninstead of just plotting the average. We can use\n`matplotlib.animation.FuncAnimation` to create an animation and apply this\nto the brain figure.\n\n"
      ]
    },
    {
      "cell_type": "code",
      "execution_count": null,
      "metadata": {
        "collapsed": false
      },
      "outputs": [],
      "source": [
        "# convert from a dictionary to array to plot\nxy_pts = np.vstack([xy[ch] for ch in raw.info[\"ch_names\"]])\n\n# get a colormap to color nearby points similar colors\ncmap = plt.colormaps[\"viridis\"]\n\n# create the figure of the brain with the electrode positions\nfig, ax = plt.subplots(figsize=(5, 5))\nax.set_title(\"Gamma power over time\", size=\"large\")\nax.imshow(im)\nax.set_axis_off()\n\n# normalize gamma power for plotting\ngamma_power = -100 * gamma_power_t.data / gamma_power_t.data.max()\n# add the time course overlaid on the positions\nx_line = np.linspace(\n    -0.025 * im.shape[0], 0.025 * im.shape[0], gamma_power_t.data.shape[1]\n)\nfor i, pos in enumerate(xy_pts):\n    x, y = pos\n    color = cmap(i / xy_pts.shape[0])\n    ax.plot(x_line + x, gamma_power[i] + y, linewidth=0.5, color=color)"
      ]
    },
    {
      "cell_type": "markdown",
      "metadata": {},
      "source": [
        "We can project gamma power from the sensor data to the nearest locations on\nthe pial surface and visualize that:\n\nAs shown in the plot, the epileptiform activity starts in the temporal lobe,\nprogressing posteriorly. The seizure becomes generalized eventually, after\nthis example short time section. This dataset is available using\n:func:`mne.datasets.epilepsy_ecog.data_path` for you to examine.\n\n"
      ]
    },
    {
      "cell_type": "code",
      "execution_count": null,
      "metadata": {
        "collapsed": false
      },
      "outputs": [],
      "source": [
        "xyz_pts = np.array([dig[\"r\"] for dig in evoked.info[\"dig\"]])\n\nsrc = mne.read_source_spaces(\n    subjects_dir / \"fsaverage\" / \"bem\" / \"fsaverage-ico-5-src.fif\"\n)\nstc = mne.stc_near_sensors(\n    gamma_power_t,\n    trans=\"fsaverage\",\n    subject=\"fsaverage\",\n    subjects_dir=subjects_dir,\n    src=src,\n    surface=\"pial\",\n    mode=\"nearest\",\n    distance=0.02,\n)\nvmin, vmid, vmax = np.percentile(gamma_power_t.data, [10, 25, 90])\nclim = dict(kind=\"value\", lims=[vmin, vmid, vmax])\nbrain = stc.plot(\n    surface=\"pial\",\n    hemi=\"rh\",\n    colormap=\"inferno\",\n    colorbar=False,\n    clim=clim,\n    views=[\"lat\", \"med\"],\n    subjects_dir=subjects_dir,\n    size=(250, 250),\n    smoothing_steps=\"nearest\",\n    time_viewer=False,\n)\nbrain.add_sensors(raw.info, trans=\"fsaverage\")\ndel brain\n\n# You can save a movie like the one on our documentation website with:\n# brain.save_movie(time_dilation=1, interpolation='linear', framerate=3,\n#                  time_viewer=True)"
      ]
    }
  ],
  "metadata": {
    "kernelspec": {
      "display_name": "Python 3",
      "language": "python",
      "name": "python3"
    },
    "language_info": {
      "codemirror_mode": {
        "name": "ipython",
        "version": 3
      },
      "file_extension": ".py",
      "mimetype": "text/x-python",
      "name": "python",
      "nbconvert_exporter": "python",
      "pygments_lexer": "ipython3",
      "version": "3.12.2"
    }
  },
  "nbformat": 4,
  "nbformat_minor": 0
}