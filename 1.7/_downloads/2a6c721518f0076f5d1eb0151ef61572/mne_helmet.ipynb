{
  "cells": [
    {
      "cell_type": "markdown",
      "metadata": {},
      "source": [
        "\n\n# Plot the MNE brain and helmet\n\nThis tutorial shows how to make the MNE helmet + brain image.\n"
      ]
    },
    {
      "cell_type": "code",
      "execution_count": null,
      "metadata": {
        "collapsed": false
      },
      "outputs": [],
      "source": [
        "# License: BSD-3-Clause\n# Copyright the MNE-Python contributors."
      ]
    },
    {
      "cell_type": "code",
      "execution_count": null,
      "metadata": {
        "collapsed": false
      },
      "outputs": [],
      "source": [
        "import mne\n\nsample_path = mne.datasets.sample.data_path()\nsubjects_dir = sample_path / \"subjects\"\nfname_evoked = sample_path / \"MEG\" / \"sample\" / \"sample_audvis-ave.fif\"\nfname_inv = sample_path / \"MEG\" / \"sample\" / \"sample_audvis-meg-oct-6-meg-inv.fif\"\nfname_trans = sample_path / \"MEG\" / \"sample\" / \"sample_audvis_raw-trans.fif\"\ninv = mne.minimum_norm.read_inverse_operator(fname_inv)\nevoked = mne.read_evokeds(\n    fname_evoked,\n    baseline=(None, 0),\n    proj=True,\n    verbose=False,\n    condition=\"Left Auditory\",\n)\nmaps = mne.make_field_map(\n    evoked,\n    trans=fname_trans,\n    ch_type=\"meg\",\n    subject=\"sample\",\n    subjects_dir=subjects_dir,\n)\ntime = 0.083\nfig = mne.viz.create_3d_figure((256, 256))\nmne.viz.plot_alignment(\n    evoked.info,\n    subject=\"sample\",\n    subjects_dir=subjects_dir,\n    fig=fig,\n    trans=fname_trans,\n    meg=\"sensors\",\n    eeg=False,\n    surfaces=\"pial\",\n    coord_frame=\"mri\",\n)\nevoked.plot_field(\n    maps, time=time, fig=fig, time_label=None, vmax=5e-13, time_viewer=False\n)\nmne.viz.set_3d_view(\n    fig,\n    azimuth=40,\n    elevation=87,\n    focalpoint=(0.0, -0.01, 0.04),\n    roll=-25,\n    distance=0.55,\n)"
      ]
    }
  ],
  "metadata": {
    "kernelspec": {
      "display_name": "Python 3",
      "language": "python",
      "name": "python3"
    },
    "language_info": {
      "codemirror_mode": {
        "name": "ipython",
        "version": 3
      },
      "file_extension": ".py",
      "mimetype": "text/x-python",
      "name": "python",
      "nbconvert_exporter": "python",
      "pygments_lexer": "ipython3",
      "version": "3.10.12"
    }
  },
  "nbformat": 4,
  "nbformat_minor": 0
}