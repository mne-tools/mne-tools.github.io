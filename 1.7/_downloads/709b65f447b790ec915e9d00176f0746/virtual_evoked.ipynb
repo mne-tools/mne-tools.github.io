{
  "cells": [
    {
      "cell_type": "markdown",
      "metadata": {},
      "source": [
        "\n\n# Remap MEG channel types\n\nIn this example, MEG data are remapped from one channel type to another.\nThis is useful to:\n\n    - visualize combined magnetometers and gradiometers as magnetometers\n      or gradiometers.\n    - run statistics from both magnetometers and gradiometers while\n      working with a single type of channels.\n"
      ]
    },
    {
      "cell_type": "code",
      "execution_count": null,
      "metadata": {
        "collapsed": false
      },
      "outputs": [],
      "source": [
        "# Author: Mainak Jas <mainak.jas@telecom-paristech.fr>\n\n# License: BSD-3-Clause\n# Copyright the MNE-Python contributors."
      ]
    },
    {
      "cell_type": "code",
      "execution_count": null,
      "metadata": {
        "collapsed": false
      },
      "outputs": [],
      "source": [
        "import mne\nfrom mne.datasets import sample\n\nprint(__doc__)\n\n# read the evoked\ndata_path = sample.data_path()\nmeg_path = data_path / \"MEG\" / \"sample\"\nfname = meg_path / \"sample_audvis-ave.fif\"\nevoked = mne.read_evokeds(fname, condition=\"Left Auditory\", baseline=(None, 0))"
      ]
    },
    {
      "cell_type": "markdown",
      "metadata": {},
      "source": [
        "First, let's call remap gradiometers to magnometers, and plot\nthe original and remapped topomaps of the magnetometers.\n\n"
      ]
    },
    {
      "cell_type": "code",
      "execution_count": null,
      "metadata": {
        "collapsed": false
      },
      "outputs": [],
      "source": [
        "# go from grad + mag to mag and plot original mag\nvirt_evoked = evoked.as_type(\"mag\")\nfig = evoked.plot_topomap(ch_type=\"mag\")\nfig.suptitle(\"mag (original)\")"
      ]
    },
    {
      "cell_type": "code",
      "execution_count": null,
      "metadata": {
        "collapsed": false
      },
      "outputs": [],
      "source": [
        "# plot interpolated grad + mag\nfig = virt_evoked.plot_topomap(ch_type=\"mag\")\nfig.suptitle(\"mag (interpolated from mag + grad)\")"
      ]
    },
    {
      "cell_type": "markdown",
      "metadata": {},
      "source": [
        "Now, we remap magnometers to gradiometers, and plot\nthe original and remapped topomaps of the gradiometers\n\n"
      ]
    },
    {
      "cell_type": "code",
      "execution_count": null,
      "metadata": {
        "collapsed": false
      },
      "outputs": [],
      "source": [
        "# go from grad + mag to grad and plot original grad\nvirt_evoked = evoked.as_type(\"grad\")\nfig = evoked.plot_topomap(ch_type=\"grad\")\nfig.suptitle(\"grad (original)\")"
      ]
    },
    {
      "cell_type": "code",
      "execution_count": null,
      "metadata": {
        "collapsed": false
      },
      "outputs": [],
      "source": [
        "# plot interpolated grad + mag\nfig = virt_evoked.plot_topomap(ch_type=\"grad\")\nfig.suptitle(\"grad (interpolated from mag + grad)\")"
      ]
    }
  ],
  "metadata": {
    "kernelspec": {
      "display_name": "Python 3",
      "language": "python",
      "name": "python3"
    },
    "language_info": {
      "codemirror_mode": {
        "name": "ipython",
        "version": 3
      },
      "file_extension": ".py",
      "mimetype": "text/x-python",
      "name": "python",
      "nbconvert_exporter": "python",
      "pygments_lexer": "ipython3",
      "version": "3.10.12"
    }
  },
  "nbformat": 4,
  "nbformat_minor": 0
}