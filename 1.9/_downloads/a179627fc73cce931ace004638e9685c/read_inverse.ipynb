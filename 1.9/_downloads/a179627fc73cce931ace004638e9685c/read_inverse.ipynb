{
  "cells": [
    {
      "cell_type": "markdown",
      "metadata": {},
      "source": [
        "\n\n# Reading an inverse operator\n\nThe inverse operator's source space is shown in 3D.\n"
      ]
    },
    {
      "cell_type": "code",
      "execution_count": null,
      "metadata": {
        "collapsed": false
      },
      "outputs": [],
      "source": [
        "# Author: Alexandre Gramfort <alexandre.gramfort@inria.fr>\n#\n# License: BSD-3-Clause\n# Copyright the MNE-Python contributors."
      ]
    },
    {
      "cell_type": "code",
      "execution_count": null,
      "metadata": {
        "collapsed": false
      },
      "outputs": [],
      "source": [
        "import mne\nfrom mne.datasets import sample\nfrom mne.minimum_norm import read_inverse_operator\nfrom mne.viz import set_3d_view\n\nprint(__doc__)\n\ndata_path = sample.data_path()\nsubjects_dir = data_path / \"subjects\"\nmeg_path = data_path / \"MEG\" / \"sample\"\nfname_trans = meg_path / \"sample_audvis_raw-trans.fif\"\ninv_fname = meg_path / \"sample_audvis-meg-oct-6-meg-inv.fif\"\n\ninv = read_inverse_operator(inv_fname)\n\nprint(f\"Method: {inv['methods']}\")\nprint(f\"fMRI prior: {inv['fmri_prior']}\")\nprint(f\"Number of sources: {inv['nsource']}\")\nprint(f\"Number of channels: {inv['nchan']}\")\n\nsrc = inv[\"src\"]  # get the source space\n\n# Get access to the triangulation of the cortex\n\nprint(f\"Number of vertices on the left hemisphere:  {len(src[0]['rr'])}\")\nprint(f\"Number of triangles on left hemisphere:     {len(src[0]['use_tris'])}\")\nprint(f\"Number of vertices on the right hemisphere: {len(src[1]['rr'])}\")\nprint(f\"Number of triangles on right hemisphere:    {len(src[1]['use_tris'])}\")"
      ]
    },
    {
      "cell_type": "markdown",
      "metadata": {},
      "source": [
        "Show the 3D source space\n\n"
      ]
    },
    {
      "cell_type": "code",
      "execution_count": null,
      "metadata": {
        "collapsed": false
      },
      "outputs": [],
      "source": [
        "fig = mne.viz.plot_alignment(\n    subject=\"sample\",\n    subjects_dir=subjects_dir,\n    trans=fname_trans,\n    surfaces=\"white\",\n    src=src,\n)\nset_3d_view(fig, focalpoint=(0.0, 0.0, 0.06))"
      ]
    }
  ],
  "metadata": {
    "kernelspec": {
      "display_name": "Python 3",
      "language": "python",
      "name": "python3"
    },
    "language_info": {
      "codemirror_mode": {
        "name": "ipython",
        "version": 3
      },
      "file_extension": ".py",
      "mimetype": "text/x-python",
      "name": "python",
      "nbconvert_exporter": "python",
      "pygments_lexer": "ipython3",
      "version": "3.12.3"
    }
  },
  "nbformat": 4,
  "nbformat_minor": 0
}