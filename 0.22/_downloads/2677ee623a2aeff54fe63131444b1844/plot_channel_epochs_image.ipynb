{
  "cells": [
    {
      "cell_type": "code",
      "execution_count": null,
      "metadata": {
        "collapsed": false
      },
      "outputs": [],
      "source": [
        "%matplotlib inline"
      ]
    },
    {
      "cell_type": "markdown",
      "metadata": {},
      "source": [
        "\n# Visualize channel over epochs as an image\n\nThis will produce what is sometimes called an event related\npotential / field (ERP/ERF) image.\n\nTwo images are produced, one with a good channel and one with a channel\nthat does not show any evoked field.\n\nIt is also demonstrated how to reorder the epochs using a 1D spectral\nembedding as described in [1]_.\n"
      ]
    },
    {
      "cell_type": "code",
      "execution_count": null,
      "metadata": {
        "collapsed": false
      },
      "outputs": [],
      "source": [
        "# Authors: Alexandre Gramfort <alexandre.gramfort@inria.fr>\n#\n# License: BSD (3-clause)\n\nimport numpy as np\nimport matplotlib.pyplot as plt\n\nimport mne\nfrom mne import io\nfrom mne.datasets import sample\n\nprint(__doc__)\n\ndata_path = sample.data_path()"
      ]
    },
    {
      "cell_type": "markdown",
      "metadata": {},
      "source": [
        "Set parameters\n\n"
      ]
    },
    {
      "cell_type": "code",
      "execution_count": null,
      "metadata": {
        "collapsed": false
      },
      "outputs": [],
      "source": [
        "raw_fname = data_path + '/MEG/sample/sample_audvis_filt-0-40_raw.fif'\nevent_fname = data_path + '/MEG/sample/sample_audvis_filt-0-40_raw-eve.fif'\nevent_id, tmin, tmax = 1, -0.2, 0.4\n\n# Setup for reading the raw data\nraw = io.read_raw_fif(raw_fname)\nevents = mne.read_events(event_fname)\n\n# Set up pick list: EEG + MEG - bad channels (modify to your needs)\nraw.info['bads'] = ['MEG 2443', 'EEG 053']\n\n# Create epochs, here for gradiometers + EOG only for simplicity\nepochs = mne.Epochs(raw, events, event_id, tmin, tmax, proj=True,\n                    picks=('grad', 'eog'), baseline=(None, 0), preload=True,\n                    reject=dict(grad=4000e-13, eog=150e-6))"
      ]
    },
    {
      "cell_type": "markdown",
      "metadata": {},
      "source": [
        "Show event-related fields images\n\n"
      ]
    },
    {
      "cell_type": "code",
      "execution_count": null,
      "metadata": {
        "collapsed": false
      },
      "outputs": [],
      "source": [
        "# and order with spectral reordering\n# If you don't have scikit-learn installed set order_func to None\nfrom sklearn.manifold import spectral_embedding  # noqa\nfrom sklearn.metrics.pairwise import rbf_kernel   # noqa\n\n\ndef order_func(times, data):\n    this_data = data[:, (times > 0.0) & (times < 0.350)]\n    this_data /= np.sqrt(np.sum(this_data ** 2, axis=1))[:, np.newaxis]\n    return np.argsort(spectral_embedding(rbf_kernel(this_data, gamma=1.),\n                      n_components=1, random_state=0).ravel())\n\n\ngood_pick = 97  # channel with a clear evoked response\nbad_pick = 98  # channel with no evoked response\n\n# We'll also plot a sample time onset for each trial\nplt_times = np.linspace(0, .2, len(epochs))\n\nplt.close('all')\nmne.viz.plot_epochs_image(epochs, [good_pick, bad_pick], sigma=.5,\n                          order=order_func, vmin=-250, vmax=250,\n                          overlay_times=plt_times, show=True)"
      ]
    },
    {
      "cell_type": "markdown",
      "metadata": {},
      "source": [
        "## References\n.. [1] Graph-based variability estimation in single-trial event-related\n       neural responses. A. Gramfort, R. Keriven, M. Clerc, 2010,\n       Biomedical Engineering, IEEE Trans. on, vol. 57 (5), 1051-1061\n       https://ieeexplore.ieee.org/document/5406156\n\n"
      ]
    }
  ],
  "metadata": {
    "kernelspec": {
      "display_name": "Python 3",
      "language": "python",
      "name": "python3"
    },
    "language_info": {
      "codemirror_mode": {
        "name": "ipython",
        "version": 3
      },
      "file_extension": ".py",
      "mimetype": "text/x-python",
      "name": "python",
      "nbconvert_exporter": "python",
      "pygments_lexer": "ipython3",
      "version": "3.8.5"
    }
  },
  "nbformat": 4,
  "nbformat_minor": 0
}