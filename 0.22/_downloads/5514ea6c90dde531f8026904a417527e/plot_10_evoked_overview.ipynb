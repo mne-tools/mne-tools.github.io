{
  "cells": [
    {
      "cell_type": "code",
      "execution_count": null,
      "metadata": {
        "collapsed": false
      },
      "outputs": [],
      "source": [
        "%matplotlib inline"
      ]
    },
    {
      "cell_type": "markdown",
      "metadata": {},
      "source": [
        "\n\n# The Evoked data structure: evoked/averaged data\n\nThis tutorial covers the basics of creating and working with :term:`evoked`\ndata. It introduces the :class:`~mne.Evoked` data structure in detail,\nincluding how to load, query, subselect, export, and plot data from an\n:class:`~mne.Evoked` object. For info on creating an :class:`~mne.Evoked`\nobject from (possibly simulated) data in a :class:`NumPy array\n<numpy.ndarray>`, see `tut_creating_data_structures`.\n   :depth: 2\n\nAs usual we'll start by importing the modules we need:\n"
      ]
    },
    {
      "cell_type": "code",
      "execution_count": null,
      "metadata": {
        "collapsed": false
      },
      "outputs": [],
      "source": [
        "import os\nimport mne"
      ]
    },
    {
      "cell_type": "markdown",
      "metadata": {},
      "source": [
        "## Creating ``Evoked`` objects from ``Epochs``\n\n:class:`~mne.Evoked` objects typically store an EEG or MEG signal that has\nbeen *averaged* over multiple :term:`epochs`, which is a common technique for\nestimating stimulus-evoked activity. The data in an :class:`~mne.Evoked`\nobject are stored in an :class:`array <numpy.ndarray>` of shape\n``(n_channels, n_times)`` (in contrast to an :class:`~mne.Epochs` object,\nwhich stores data of shape ``(n_epochs, n_channels, n_times)``). Thus to\ncreate an :class:`~mne.Evoked` object, we'll start by epoching some raw data,\nand then averaging together all the epochs from one condition:\n\n"
      ]
    },
    {
      "cell_type": "code",
      "execution_count": null,
      "metadata": {
        "collapsed": false
      },
      "outputs": [],
      "source": [
        "sample_data_folder = mne.datasets.sample.data_path()\nsample_data_raw_file = os.path.join(sample_data_folder, 'MEG', 'sample',\n                                    'sample_audvis_raw.fif')\nraw = mne.io.read_raw_fif(sample_data_raw_file, verbose=False)\nevents = mne.find_events(raw, stim_channel='STI 014')\n# we'll skip the \"face\" and \"buttonpress\" conditions, to save memory:\nevent_dict = {'auditory/left': 1, 'auditory/right': 2, 'visual/left': 3,\n              'visual/right': 4}\nepochs = mne.Epochs(raw, events, tmin=-0.3, tmax=0.7, event_id=event_dict,\n                    preload=True)\nevoked = epochs['auditory/left'].average()\n\ndel raw  # reduce memory usage"
      ]
    },
    {
      "cell_type": "markdown",
      "metadata": {},
      "source": [
        "## Basic visualization of ``Evoked`` objects\n\nWe can visualize the average evoked response for left-auditory stimuli using\nthe :meth:`~mne.Evoked.plot` method, which yields a butterfly plot of each\nchannel type:\n\n"
      ]
    },
    {
      "cell_type": "code",
      "execution_count": null,
      "metadata": {
        "collapsed": false
      },
      "outputs": [],
      "source": [
        "evoked.plot()"
      ]
    },
    {
      "cell_type": "markdown",
      "metadata": {},
      "source": [
        "Like the ``plot()`` methods for :meth:`Raw <mne.io.Raw.plot>` and\n:meth:`Epochs <mne.Epochs.plot>` objects,\n:meth:`evoked.plot() <mne.Evoked.plot>` has many parameters for customizing\nthe plot output, such as color-coding channel traces by scalp location, or\nplotting the :term:`global field power <GFP>` alongside the channel traces.\nSee `tut-visualize-evoked` for more information about visualizing\n:class:`~mne.Evoked` objects.\n\n\n## Subselecting ``Evoked`` data\n\n.. sidebar:: Evokeds are not memory-mapped\n\n  :class:`~mne.Evoked` objects use a :attr:`~mne.Evoked.data` *attribute*\n  rather than a :meth:`~mne.Epochs.get_data` *method*; this reflects the fact\n  that the data in :class:`~mne.Evoked` objects are always loaded into\n  memory, never `memory-mapped`_ from their location on disk (because they\n  are typically *much* smaller than :class:`~mne.io.Raw` or\n  :class:`~mne.Epochs` objects).\n\n\nUnlike :class:`~mne.io.Raw` and :class:`~mne.Epochs` objects,\n:class:`~mne.Evoked` objects do not support selection by square-bracket\nindexing. Instead, data can be subselected by indexing the\n:attr:`~mne.Evoked.data` attribute:\n\n"
      ]
    },
    {
      "cell_type": "code",
      "execution_count": null,
      "metadata": {
        "collapsed": false
      },
      "outputs": [],
      "source": [
        "print(evoked.data[:2, :3])  # first 2 channels, first 3 timepoints"
      ]
    },
    {
      "cell_type": "markdown",
      "metadata": {},
      "source": [
        "To select based on time in seconds, the :meth:`~mne.Evoked.time_as_index`\nmethod can be useful, although beware that depending on the sampling\nfrequency, the number of samples in a span of given duration may not always\nbe the same (see the `time-as-index` section of the\n`tutorial about Raw data <tut-raw-class>` for details).\n\n\n### Selecting, dropping, and reordering channels\n\nBy default, when creating :class:`~mne.Evoked` data from an\n:class:`~mne.Epochs` object, only the \"data\" channels will be retained:\n``eog``, ``ecg``, ``stim``, and ``misc`` channel types will be dropped. You\ncan control which channel types are retained via the ``picks`` parameter of\n:meth:`epochs.average() <mne.Epochs.average>`, by passing ``'all'`` to\nretain all channels, or by passing a list of integers, channel names, or\nchannel types. See the documentation of :meth:`~mne.Epochs.average` for\ndetails.\n\nIf you've already created the :class:`~mne.Evoked` object, you can use the\n:meth:`~mne.Evoked.pick`, :meth:`~mne.Evoked.pick_channels`,\n:meth:`~mne.Evoked.pick_types`, and :meth:`~mne.Evoked.drop_channels` methods\nto modify which channels are included in an :class:`~mne.Evoked` object.\nYou can also use :meth:`~mne.Evoked.reorder_channels` for this purpose; any\nchannel names not provided to :meth:`~mne.Evoked.reorder_channels` will be\ndropped. Note that *channel* selection methods modify the object in-place, so\nin interactive/exploratory sessions you may want to create a\n:meth:`~mne.Evoked.copy` first.\n\n"
      ]
    },
    {
      "cell_type": "code",
      "execution_count": null,
      "metadata": {
        "collapsed": false
      },
      "outputs": [],
      "source": [
        "evoked_eeg = evoked.copy().pick_types(meg=False, eeg=True)\nprint(evoked_eeg.ch_names)\n\nnew_order = ['EEG 002', 'MEG 2521', 'EEG 003']\nevoked_subset = evoked.copy().reorder_channels(new_order)\nprint(evoked_subset.ch_names)"
      ]
    },
    {
      "cell_type": "markdown",
      "metadata": {},
      "source": [
        "## Similarities among the core data structures\n\n:class:`~mne.Evoked` objects have many similarities with :class:`~mne.io.Raw`\nand :class:`~mne.Epochs` objects, including:\n\n- They can be loaded from and saved to disk in ``.fif`` format, and their\n  data can be exported to a :class:`NumPy array <numpy.ndarray>` (but through\n  the :attr:`~mne.Evoked.data` attribute, not through a ``get_data()``\n  method). :class:`Pandas DataFrame <pandas.DataFrame>` export is also\n  available through the :meth:`~mne.Evoked.to_data_frame` method.\n\n- You can change the name or type of a channel using\n  :meth:`evoked.rename_channels() <mne.Evoked.rename_channels>` or\n  :meth:`evoked.set_channel_types() <mne.Evoked.set_channel_types>`.\n  Both methods take :class:`dictionaries <dict>` where the keys are existing\n  channel names, and the values are the new name (or type) for that channel.\n  Existing channels that are not in the dictionary will be unchanged.\n\n- :term:`SSP projector <projector>` manipulation is possible through\n  :meth:`~mne.Evoked.add_proj`, :meth:`~mne.Evoked.del_proj`, and\n  :meth:`~mne.Evoked.plot_projs_topomap` methods, and the\n  :attr:`~mne.Evoked.proj` attribute. See `tut-artifact-ssp` for more\n  information on SSP.\n\n- Like :class:`~mne.io.Raw` and :class:`~mne.Epochs` objects,\n  :class:`~mne.Evoked` objects have :meth:`~mne.Evoked.copy`,\n  :meth:`~mne.Evoked.crop`, :meth:`~mne.Evoked.time_as_index`,\n  :meth:`~mne.Evoked.filter`, and :meth:`~mne.Evoked.resample` methods.\n\n- Like :class:`~mne.io.Raw` and :class:`~mne.Epochs` objects,\n  :class:`~mne.Evoked` objects have ``evoked.times``,\n  :attr:`evoked.ch_names <mne.Evoked.ch_names>`, and :class:`info <mne.Info>`\n  attributes.\n\n\n\n## Loading and saving ``Evoked`` data\n\nSingle :class:`~mne.Evoked` objects can be saved to disk with the\n:meth:`evoked.save() <mne.Evoked.save>` method. One difference between\n:class:`~mne.Evoked` objects and the other data structures is that multiple\n:class:`~mne.Evoked` objects can be saved into a single ``.fif`` file, using\n:func:`mne.write_evokeds`. The `example data <sample-dataset>`\nincludes just such a ``.fif`` file: the data have already been epoched and\naveraged, and the file contains separate :class:`~mne.Evoked` objects for\neach experimental condition:\n\n"
      ]
    },
    {
      "cell_type": "code",
      "execution_count": null,
      "metadata": {
        "collapsed": false
      },
      "outputs": [],
      "source": [
        "sample_data_evk_file = os.path.join(sample_data_folder, 'MEG', 'sample',\n                                    'sample_audvis-ave.fif')\nevokeds_list = mne.read_evokeds(sample_data_evk_file, verbose=False)\nprint(evokeds_list)\nprint(type(evokeds_list))"
      ]
    },
    {
      "cell_type": "markdown",
      "metadata": {},
      "source": [
        "Notice that :func:`mne.read_evokeds` returned a :class:`list` of\n:class:`~mne.Evoked` objects, and each one has an ``evoked.comment``\nattribute describing the experimental condition that was averaged to\ngenerate the estimate:\n\n"
      ]
    },
    {
      "cell_type": "code",
      "execution_count": null,
      "metadata": {
        "collapsed": false
      },
      "outputs": [],
      "source": [
        "for evok in evokeds_list:\n    print(evok.comment)"
      ]
    },
    {
      "cell_type": "markdown",
      "metadata": {},
      "source": [
        "If you want to load only some of the conditions present in a ``.fif`` file,\n:func:`~mne.read_evokeds` has a ``condition`` parameter, which takes either a\nstring (matched against the comment attribute of the evoked objects on disk),\nor an integer selecting the :class:`~mne.Evoked` object based on the order\nit's stored in the file. Passing lists of integers or strings is also\npossible. If only one object is selected, the :class:`~mne.Evoked` object\nwill be returned directly (rather than a length-one list containing it):\n\n"
      ]
    },
    {
      "cell_type": "code",
      "execution_count": null,
      "metadata": {
        "collapsed": false
      },
      "outputs": [],
      "source": [
        "right_vis = mne.read_evokeds(sample_data_evk_file, condition='Right visual')\nprint(right_vis)\nprint(type(right_vis))"
      ]
    },
    {
      "cell_type": "markdown",
      "metadata": {},
      "source": [
        "Above, when we created an :class:`~mne.Evoked` object by averaging epochs,\nbaseline correction was applied by default when we extracted epochs from the\n`~mne.io.Raw` object (the default baseline period is ``(None, 0)``,\nwhich assured zero mean for times before the stimulus event). In contrast, if\nwe plot the first :class:`~mne.Evoked` object in the list that was loaded\nfrom disk, we'll see that the data have not been baseline-corrected:\n\n"
      ]
    },
    {
      "cell_type": "code",
      "execution_count": null,
      "metadata": {
        "collapsed": false
      },
      "outputs": [],
      "source": [
        "evokeds_list[0].plot(picks='eeg')"
      ]
    },
    {
      "cell_type": "markdown",
      "metadata": {},
      "source": [
        "This can be remedied by either passing a ``baseline`` parameter to\n:func:`mne.read_evokeds`, or by applying baseline correction after loading,\nas shown here:\n\n"
      ]
    },
    {
      "cell_type": "code",
      "execution_count": null,
      "metadata": {
        "collapsed": false
      },
      "outputs": [],
      "source": [
        "evokeds_list[0].apply_baseline((None, 0))\nevokeds_list[0].plot(picks='eeg')"
      ]
    },
    {
      "cell_type": "markdown",
      "metadata": {},
      "source": [
        "Notice that :meth:`~mne.Evoked.apply_baseline` operated in-place. Similarly,\n:class:`~mne.Evoked` objects may have been saved to disk with or without\n:term:`projectors <projector>` applied; you can pass ``proj=True`` to the\n:func:`~mne.read_evokeds` function, or use the :meth:`~mne.Evoked.apply_proj`\nmethod after loading.\n\n\n## Combining ``Evoked`` objects\n\nOne way to pool data across multiple conditions when estimating evoked\nresponses is to do so *prior to averaging* (recall that MNE-Python can select\nbased on partial matching of ``/``-separated epoch labels; see\n`tut-section-subselect-epochs` for more info):\n\n"
      ]
    },
    {
      "cell_type": "code",
      "execution_count": null,
      "metadata": {
        "collapsed": false
      },
      "outputs": [],
      "source": [
        "left_right_aud = epochs['auditory'].average()\nprint(left_right_aud)"
      ]
    },
    {
      "cell_type": "markdown",
      "metadata": {},
      "source": [
        "This approach will weight each epoch equally and create a single\n:class:`~mne.Evoked` object. Notice that the printed representation includes\n``(average, N=145)``, indicating that the :class:`~mne.Evoked` object was\ncreated by averaging across 145 epochs. In this case, the event types were\nfairly close in number:\n\n"
      ]
    },
    {
      "cell_type": "code",
      "execution_count": null,
      "metadata": {
        "collapsed": false
      },
      "outputs": [],
      "source": [
        "left_aud = epochs['auditory/left'].average()\nright_aud = epochs['auditory/right'].average()\nprint([evok.nave for evok in (left_aud, right_aud)])"
      ]
    },
    {
      "cell_type": "markdown",
      "metadata": {},
      "source": [
        "However, this may not always be the case; if for statistical reasons it is\nimportant to average *the same number* of epochs from different conditions,\nyou can use :meth:`~mne.Epochs.equalize_event_counts` prior to averaging.\n\nAnother approach to pooling across conditions is to create separate\n:class:`~mne.Evoked` objects for each condition, and combine them afterward.\nThis can be accomplished by the function :func:`mne.combine_evoked`, which\ncomputes a weighted sum of the :class:`~mne.Evoked` objects given to it. The\nweights can be manually specified as a list or array of float values, or can\nbe specified using the keyword ``'equal'`` (weight each `~mne.Evoked` object\nby $\\frac{1}{N}$, where $N$ is the number of `~mne.Evoked`\nobjects given) or the keyword ``'nave'`` (weight each `~mne.Evoked` object\nproportional to the number of epochs averaged together to create it):\n\n"
      ]
    },
    {
      "cell_type": "code",
      "execution_count": null,
      "metadata": {
        "collapsed": false
      },
      "outputs": [],
      "source": [
        "left_right_aud = mne.combine_evoked([left_aud, right_aud], weights='nave')\nassert left_right_aud.nave == left_aud.nave + right_aud.nave"
      ]
    },
    {
      "cell_type": "markdown",
      "metadata": {},
      "source": [
        "Note that the ``nave`` attribute of the resulting `~mne.Evoked` object will\nreflect the *effective* number of averages, and depends on both the ``nave``\nattributes of the contributing `~mne.Evoked` objects and the weights at\nwhich they are combined. Keeping track of effective ``nave`` is important for\ninverse imaging, because ``nave`` is used to scale the noise covariance\nestimate (which in turn affects the magnitude of estimated source activity).\nSee `minimum_norm_estimates` for more information (especially the\n`whitening_and_scaling` section). Note that `mne.grand_average` does\n*not* adjust ``nave`` to reflect effective number of averaged epochs; rather\nit simply sets ``nave`` to the number of *evokeds* that were averaged\ntogether. For this reason, it is best to use `mne.combine_evoked` rather than\n`mne.grand_average` if you intend to perform inverse imaging on the resulting\n:class:`~mne.Evoked` object.\n\n\n## Other uses of ``Evoked`` objects\n\nAlthough the most common use of :class:`~mne.Evoked` objects is to store\n*averages* of epoched data, there are a couple other uses worth noting here.\nFirst, the method :meth:`epochs.standard_error() <mne.Epochs.standard_error>`\nwill create an :class:`~mne.Evoked` object (just like\n:meth:`epochs.average() <mne.Epochs.average>` does), but the data in the\n:class:`~mne.Evoked` object will be the standard error across epochs instead\nof the average. To indicate this difference, :class:`~mne.Evoked` objects\nhave a :attr:`~mne.Evoked.kind` attribute that takes values ``'average'`` or\n``'standard error'`` as appropriate.\n\nAnother use of :class:`~mne.Evoked` objects is to represent *a single trial\nor epoch* of data, usually when looping through epochs. This can be easily\naccomplished with the :meth:`epochs.iter_evoked() <mne.Epochs.iter_evoked>`\nmethod, and can be useful for applications where you want to do something\nthat is only possible for :class:`~mne.Evoked` objects. For example, here\nwe use the :meth:`~mne.Evoked.get_peak` method (which isn't available for\n:class:`~mne.Epochs` objects) to get the peak response in each trial:\n\n"
      ]
    },
    {
      "cell_type": "code",
      "execution_count": null,
      "metadata": {
        "collapsed": false
      },
      "outputs": [],
      "source": [
        "for ix, trial in enumerate(epochs[:3].iter_evoked()):\n    channel, latency, value = trial.get_peak(ch_type='eeg',\n                                             return_amplitude=True)\n    latency = int(round(latency * 1e3))  # convert to milliseconds\n    value = int(round(value * 1e6))      # convert to \u00b5V\n    print('Trial {}: peak of {} \u00b5V at {} ms in channel {}'\n          .format(ix, value, latency, channel))"
      ]
    },
    {
      "cell_type": "markdown",
      "metadata": {},
      "source": [
        ".. REFERENCES\n\n\n"
      ]
    }
  ],
  "metadata": {
    "kernelspec": {
      "display_name": "Python 3",
      "language": "python",
      "name": "python3"
    },
    "language_info": {
      "codemirror_mode": {
        "name": "ipython",
        "version": 3
      },
      "file_extension": ".py",
      "mimetype": "text/x-python",
      "name": "python",
      "nbconvert_exporter": "python",
      "pygments_lexer": "ipython3",
      "version": "3.8.5"
    }
  },
  "nbformat": 4,
  "nbformat_minor": 0
}