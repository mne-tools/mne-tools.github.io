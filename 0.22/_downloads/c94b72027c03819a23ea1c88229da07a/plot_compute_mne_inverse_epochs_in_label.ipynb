{
  "cells": [
    {
      "cell_type": "code",
      "execution_count": null,
      "metadata": {
        "collapsed": false
      },
      "outputs": [],
      "source": [
        "%matplotlib inline"
      ]
    },
    {
      "cell_type": "markdown",
      "metadata": {},
      "source": [
        "\n# Compute MNE-dSPM inverse solution on single epochs\n\nCompute dSPM inverse solution on single trial epochs restricted\nto a brain label.\n"
      ]
    },
    {
      "cell_type": "code",
      "execution_count": null,
      "metadata": {
        "collapsed": false
      },
      "outputs": [],
      "source": [
        "# Author: Alexandre Gramfort <alexandre.gramfort@inria.fr>\n#\n# License: BSD (3-clause)\n\nimport numpy as np\nimport matplotlib.pyplot as plt\n\nimport mne\nfrom mne.datasets import sample\nfrom mne.minimum_norm import apply_inverse_epochs, read_inverse_operator\nfrom mne.minimum_norm import apply_inverse\n\nprint(__doc__)\n\ndata_path = sample.data_path()\nfname_inv = data_path + '/MEG/sample/sample_audvis-meg-oct-6-meg-inv.fif'\nfname_raw = data_path + '/MEG/sample/sample_audvis_filt-0-40_raw.fif'\nfname_event = data_path + '/MEG/sample/sample_audvis_filt-0-40_raw-eve.fif'\nlabel_name = 'Aud-lh'\nfname_label = data_path + '/MEG/sample/labels/%s.label' % label_name\n\nevent_id, tmin, tmax = 1, -0.2, 0.5\n\n# Using the same inverse operator when inspecting single trials Vs. evoked\nsnr = 3.0  # Standard assumption for average data but using it for single trial\nlambda2 = 1.0 / snr ** 2\n\nmethod = \"dSPM\"  # use dSPM method (could also be MNE or sLORETA)\n\n# Load data\ninverse_operator = read_inverse_operator(fname_inv)\nlabel = mne.read_label(fname_label)\nraw = mne.io.read_raw_fif(fname_raw)\nevents = mne.read_events(fname_event)\n\n# Set up pick list\ninclude = []\n\n# Add a bad channel\nraw.info['bads'] += ['EEG 053']  # bads + 1 more\n\n# pick MEG channels\npicks = mne.pick_types(raw.info, meg=True, eeg=False, stim=False, eog=True,\n                       include=include, exclude='bads')\n# Read epochs\nepochs = mne.Epochs(raw, events, event_id, tmin, tmax, picks=picks,\n                    baseline=(None, 0), reject=dict(mag=4e-12, grad=4000e-13,\n                                                    eog=150e-6))\n\n# Get evoked data (averaging across trials in sensor space)\nevoked = epochs.average()\n\n# Compute inverse solution and stcs for each epoch\n# Use the same inverse operator as with evoked data (i.e., set nave)\n# If you use a different nave, dSPM just scales by a factor sqrt(nave)\nstcs = apply_inverse_epochs(epochs, inverse_operator, lambda2, method, label,\n                            pick_ori=\"normal\", nave=evoked.nave)\n\n# Mean across trials but not across vertices in label\nmean_stc = sum(stcs) / len(stcs)\n\n# compute sign flip to avoid signal cancellation when averaging signed values\nflip = mne.label_sign_flip(label, inverse_operator['src'])\n\nlabel_mean = np.mean(mean_stc.data, axis=0)\nlabel_mean_flip = np.mean(flip[:, np.newaxis] * mean_stc.data, axis=0)\n\n# Get inverse solution by inverting evoked data\nstc_evoked = apply_inverse(evoked, inverse_operator, lambda2, method,\n                           pick_ori=\"normal\")\n\n# apply_inverse() does whole brain, so sub-select label of interest\nstc_evoked_label = stc_evoked.in_label(label)\n\n# Average over label (not caring to align polarities here)\nlabel_mean_evoked = np.mean(stc_evoked_label.data, axis=0)"
      ]
    },
    {
      "cell_type": "markdown",
      "metadata": {},
      "source": [
        "View activation time-series to illustrate the benefit of aligning/flipping\n\n"
      ]
    },
    {
      "cell_type": "code",
      "execution_count": null,
      "metadata": {
        "collapsed": false
      },
      "outputs": [],
      "source": [
        "times = 1e3 * stcs[0].times  # times in ms\n\nplt.figure()\nh0 = plt.plot(times, mean_stc.data.T, 'k')\nh1, = plt.plot(times, label_mean, 'r', linewidth=3)\nh2, = plt.plot(times, label_mean_flip, 'g', linewidth=3)\nplt.legend((h0[0], h1, h2), ('all dipoles in label', 'mean',\n                             'mean with sign flip'))\nplt.xlabel('time (ms)')\nplt.ylabel('dSPM value')\nplt.show()"
      ]
    },
    {
      "cell_type": "markdown",
      "metadata": {},
      "source": [
        "Viewing single trial dSPM and average dSPM for unflipped pooling over label\nCompare to (1) Inverse (dSPM) then average, (2) Evoked then dSPM\n\n"
      ]
    },
    {
      "cell_type": "code",
      "execution_count": null,
      "metadata": {
        "collapsed": false
      },
      "outputs": [],
      "source": [
        "# Single trial\nplt.figure()\nfor k, stc_trial in enumerate(stcs):\n    plt.plot(times, np.mean(stc_trial.data, axis=0).T, 'k--',\n             label='Single Trials' if k == 0 else '_nolegend_',\n             alpha=0.5)\n\n# Single trial inverse then average.. making linewidth large to not be masked\nplt.plot(times, label_mean, 'b', linewidth=6,\n         label='dSPM first, then average')\n\n# Evoked and then inverse\nplt.plot(times, label_mean_evoked, 'r', linewidth=2,\n         label='Average first, then dSPM')\n\nplt.xlabel('time (ms)')\nplt.ylabel('dSPM value')\nplt.legend()\nplt.show()"
      ]
    }
  ],
  "metadata": {
    "kernelspec": {
      "display_name": "Python 3",
      "language": "python",
      "name": "python3"
    },
    "language_info": {
      "codemirror_mode": {
        "name": "ipython",
        "version": 3
      },
      "file_extension": ".py",
      "mimetype": "text/x-python",
      "name": "python",
      "nbconvert_exporter": "python",
      "pygments_lexer": "ipython3",
      "version": "3.8.5"
    }
  },
  "nbformat": 4,
  "nbformat_minor": 0
}