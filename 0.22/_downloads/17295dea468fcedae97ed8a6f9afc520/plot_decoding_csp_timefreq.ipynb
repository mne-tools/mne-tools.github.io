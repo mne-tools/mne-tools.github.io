{
  "cells": [
    {
      "cell_type": "code",
      "execution_count": null,
      "metadata": {
        "collapsed": false
      },
      "outputs": [],
      "source": [
        "%matplotlib inline"
      ]
    },
    {
      "cell_type": "markdown",
      "metadata": {},
      "source": [
        "\n# Decoding in time-frequency space using Common Spatial Patterns (CSP)\n\nThe time-frequency decomposition is estimated by iterating over raw data that\nhas been band-passed at different frequencies. This is used to compute a\ncovariance matrix over each epoch or a rolling time-window and extract the CSP\nfiltered signals. A linear discriminant classifier is then applied to these\nsignals.\n"
      ]
    },
    {
      "cell_type": "code",
      "execution_count": null,
      "metadata": {
        "collapsed": false
      },
      "outputs": [],
      "source": [
        "# Authors: Laura Gwilliams <laura.gwilliams@nyu.edu>\n#          Jean-Remi King <jeanremi.king@gmail.com>\n#          Alex Barachant <alexandre.barachant@gmail.com>\n#          Alexandre Gramfort <alexandre.gramfort@inria.fr>\n#\n# License: BSD (3-clause)\n\n\nimport numpy as np\nimport matplotlib.pyplot as plt\n\nfrom mne import Epochs, create_info, events_from_annotations\nfrom mne.io import concatenate_raws, read_raw_edf\nfrom mne.datasets import eegbci\nfrom mne.decoding import CSP\nfrom mne.time_frequency import AverageTFR\n\nfrom sklearn.discriminant_analysis import LinearDiscriminantAnalysis\nfrom sklearn.model_selection import StratifiedKFold, cross_val_score\nfrom sklearn.pipeline import make_pipeline\nfrom sklearn.preprocessing import LabelEncoder"
      ]
    },
    {
      "cell_type": "markdown",
      "metadata": {},
      "source": [
        "Set parameters and read data\n\n"
      ]
    },
    {
      "cell_type": "code",
      "execution_count": null,
      "metadata": {
        "collapsed": false
      },
      "outputs": [],
      "source": [
        "event_id = dict(hands=2, feet=3)  # motor imagery: hands vs feet\nsubject = 1\nruns = [6, 10, 14]\nraw_fnames = eegbci.load_data(subject, runs)\nraw = concatenate_raws([read_raw_edf(f) for f in raw_fnames])\n\n# Extract information from the raw file\nsfreq = raw.info['sfreq']\nevents, _ = events_from_annotations(raw, event_id=dict(T1=2, T2=3))\nraw.pick_types(meg=False, eeg=True, stim=False, eog=False, exclude='bads')\nraw.load_data()\n\n# Assemble the classifier using scikit-learn pipeline\nclf = make_pipeline(CSP(n_components=4, reg=None, log=True, norm_trace=False),\n                    LinearDiscriminantAnalysis())\nn_splits = 5  # how many folds to use for cross-validation\ncv = StratifiedKFold(n_splits=n_splits, shuffle=True, random_state=42)\n\n# Classification & time-frequency parameters\ntmin, tmax = -.200, 2.000\nn_cycles = 10.  # how many complete cycles: used to define window size\nmin_freq = 5.\nmax_freq = 25.\nn_freqs = 8  # how many frequency bins to use\n\n# Assemble list of frequency range tuples\nfreqs = np.linspace(min_freq, max_freq, n_freqs)  # assemble frequencies\nfreq_ranges = list(zip(freqs[:-1], freqs[1:]))  # make freqs list of tuples\n\n# Infer window spacing from the max freq and number of cycles to avoid gaps\nwindow_spacing = (n_cycles / np.max(freqs) / 2.)\ncentered_w_times = np.arange(tmin, tmax, window_spacing)[1:]\nn_windows = len(centered_w_times)\n\n# Instantiate label encoder\nle = LabelEncoder()"
      ]
    },
    {
      "cell_type": "markdown",
      "metadata": {},
      "source": [
        "Loop through frequencies, apply classifier and save scores\n\n"
      ]
    },
    {
      "cell_type": "code",
      "execution_count": null,
      "metadata": {
        "collapsed": false
      },
      "outputs": [],
      "source": [
        "# init scores\nfreq_scores = np.zeros((n_freqs - 1,))\n\n# Loop through each frequency range of interest\nfor freq, (fmin, fmax) in enumerate(freq_ranges):\n\n    # Infer window size based on the frequency being used\n    w_size = n_cycles / ((fmax + fmin) / 2.)  # in seconds\n\n    # Apply band-pass filter to isolate the specified frequencies\n    raw_filter = raw.copy().filter(fmin, fmax, n_jobs=1, fir_design='firwin',\n                                   skip_by_annotation='edge')\n\n    # Extract epochs from filtered data, padded by window size\n    epochs = Epochs(raw_filter, events, event_id, tmin - w_size, tmax + w_size,\n                    proj=False, baseline=None, preload=True)\n    epochs.drop_bad()\n    y = le.fit_transform(epochs.events[:, 2])\n\n    X = epochs.get_data()\n\n    # Save mean scores over folds for each frequency and time window\n    freq_scores[freq] = np.mean(cross_val_score(estimator=clf, X=X, y=y,\n                                                scoring='roc_auc', cv=cv,\n                                                n_jobs=1), axis=0)"
      ]
    },
    {
      "cell_type": "markdown",
      "metadata": {},
      "source": [
        "Plot frequency results\n\n"
      ]
    },
    {
      "cell_type": "code",
      "execution_count": null,
      "metadata": {
        "collapsed": false
      },
      "outputs": [],
      "source": [
        "plt.bar(freqs[:-1], freq_scores, width=np.diff(freqs)[0],\n        align='edge', edgecolor='black')\nplt.xticks(freqs)\nplt.ylim([0, 1])\nplt.axhline(len(epochs['feet']) / len(epochs), color='k', linestyle='--',\n            label='chance level')\nplt.legend()\nplt.xlabel('Frequency (Hz)')\nplt.ylabel('Decoding Scores')\nplt.title('Frequency Decoding Scores')"
      ]
    },
    {
      "cell_type": "markdown",
      "metadata": {},
      "source": [
        "Loop through frequencies and time, apply classifier and save scores\n\n"
      ]
    },
    {
      "cell_type": "code",
      "execution_count": null,
      "metadata": {
        "collapsed": false
      },
      "outputs": [],
      "source": [
        "# init scores\ntf_scores = np.zeros((n_freqs - 1, n_windows))\n\n# Loop through each frequency range of interest\nfor freq, (fmin, fmax) in enumerate(freq_ranges):\n\n    # Infer window size based on the frequency being used\n    w_size = n_cycles / ((fmax + fmin) / 2.)  # in seconds\n\n    # Apply band-pass filter to isolate the specified frequencies\n    raw_filter = raw.copy().filter(fmin, fmax, n_jobs=1, fir_design='firwin',\n                                   skip_by_annotation='edge')\n\n    # Extract epochs from filtered data, padded by window size\n    epochs = Epochs(raw_filter, events, event_id, tmin - w_size, tmax + w_size,\n                    proj=False, baseline=None, preload=True)\n    epochs.drop_bad()\n    y = le.fit_transform(epochs.events[:, 2])\n\n    # Roll covariance, csp and lda over time\n    for t, w_time in enumerate(centered_w_times):\n\n        # Center the min and max of the window\n        w_tmin = w_time - w_size / 2.\n        w_tmax = w_time + w_size / 2.\n\n        # Crop data into time-window of interest\n        X = epochs.copy().crop(w_tmin, w_tmax).get_data()\n\n        # Save mean scores over folds for each frequency and time window\n        tf_scores[freq, t] = np.mean(cross_val_score(estimator=clf, X=X, y=y,\n                                                     scoring='roc_auc', cv=cv,\n                                                     n_jobs=1), axis=0)"
      ]
    },
    {
      "cell_type": "markdown",
      "metadata": {},
      "source": [
        "Plot time-frequency results\n\n"
      ]
    },
    {
      "cell_type": "code",
      "execution_count": null,
      "metadata": {
        "collapsed": false
      },
      "outputs": [],
      "source": [
        "# Set up time frequency object\nav_tfr = AverageTFR(create_info(['freq'], sfreq), tf_scores[np.newaxis, :],\n                    centered_w_times, freqs[1:], 1)\n\nchance = np.mean(y)  # set chance level to white in the plot\nav_tfr.plot([0], vmin=chance, title=\"Time-Frequency Decoding Scores\",\n            cmap=plt.cm.Reds)"
      ]
    }
  ],
  "metadata": {
    "kernelspec": {
      "display_name": "Python 3",
      "language": "python",
      "name": "python3"
    },
    "language_info": {
      "codemirror_mode": {
        "name": "ipython",
        "version": 3
      },
      "file_extension": ".py",
      "mimetype": "text/x-python",
      "name": "python",
      "nbconvert_exporter": "python",
      "pygments_lexer": "ipython3",
      "version": "3.8.5"
    }
  },
  "nbformat": 4,
  "nbformat_minor": 0
}