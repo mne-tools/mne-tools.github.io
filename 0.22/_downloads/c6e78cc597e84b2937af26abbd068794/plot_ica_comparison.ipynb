{
  "cells": [
    {
      "cell_type": "code",
      "execution_count": null,
      "metadata": {
        "collapsed": false
      },
      "outputs": [],
      "source": [
        "%matplotlib inline"
      ]
    },
    {
      "cell_type": "markdown",
      "metadata": {},
      "source": [
        "\n# Compare the different ICA algorithms in MNE\n\nDifferent ICA algorithms are fit to raw MEG data, and the corresponding maps\nare displayed.\n"
      ]
    },
    {
      "cell_type": "code",
      "execution_count": null,
      "metadata": {
        "collapsed": false
      },
      "outputs": [],
      "source": [
        "# Authors: Pierre Ablin <pierreablin@gmail.com>\n#\n# License: BSD (3-clause)\n\nfrom time import time\n\nimport mne\nfrom mne.preprocessing import ICA\nfrom mne.datasets import sample\n\n\nprint(__doc__)"
      ]
    },
    {
      "cell_type": "markdown",
      "metadata": {},
      "source": [
        "Read and preprocess the data. Preprocessing consists of:\n\n- MEG channel selection\n- 1-30 Hz band-pass filter\n\n"
      ]
    },
    {
      "cell_type": "code",
      "execution_count": null,
      "metadata": {
        "collapsed": false
      },
      "outputs": [],
      "source": [
        "data_path = sample.data_path()\nraw_fname = data_path + '/MEG/sample/sample_audvis_filt-0-40_raw.fif'\n\nraw = mne.io.read_raw_fif(raw_fname, preload=True)\n\npicks = mne.pick_types(raw.info, meg=True)\nreject = dict(mag=5e-12, grad=4000e-13)\nraw.filter(1, 30, fir_design='firwin')"
      ]
    },
    {
      "cell_type": "markdown",
      "metadata": {},
      "source": [
        "Define a function that runs ICA on the raw MEG data and plots the components\n\n"
      ]
    },
    {
      "cell_type": "code",
      "execution_count": null,
      "metadata": {
        "collapsed": false
      },
      "outputs": [],
      "source": [
        "def run_ica(method, fit_params=None):\n    ica = ICA(n_components=20, method=method, fit_params=fit_params,\n              random_state=0)\n    t0 = time()\n    ica.fit(raw, picks=picks, reject=reject)\n    fit_time = time() - t0\n    title = ('ICA decomposition using %s (took %.1fs)' % (method, fit_time))\n    ica.plot_components(title=title)"
      ]
    },
    {
      "cell_type": "markdown",
      "metadata": {},
      "source": [
        "FastICA\n\n"
      ]
    },
    {
      "cell_type": "code",
      "execution_count": null,
      "metadata": {
        "collapsed": false
      },
      "outputs": [],
      "source": [
        "run_ica('fastica')"
      ]
    },
    {
      "cell_type": "markdown",
      "metadata": {},
      "source": [
        "Picard\n\n"
      ]
    },
    {
      "cell_type": "code",
      "execution_count": null,
      "metadata": {
        "collapsed": false
      },
      "outputs": [],
      "source": [
        "run_ica('picard')"
      ]
    },
    {
      "cell_type": "markdown",
      "metadata": {},
      "source": [
        "Infomax\n\n"
      ]
    },
    {
      "cell_type": "code",
      "execution_count": null,
      "metadata": {
        "collapsed": false
      },
      "outputs": [],
      "source": [
        "run_ica('infomax')"
      ]
    },
    {
      "cell_type": "markdown",
      "metadata": {},
      "source": [
        "Extended Infomax\n\n"
      ]
    },
    {
      "cell_type": "code",
      "execution_count": null,
      "metadata": {
        "collapsed": false
      },
      "outputs": [],
      "source": [
        "run_ica('infomax', fit_params=dict(extended=True))"
      ]
    }
  ],
  "metadata": {
    "kernelspec": {
      "display_name": "Python 3",
      "language": "python",
      "name": "python3"
    },
    "language_info": {
      "codemirror_mode": {
        "name": "ipython",
        "version": 3
      },
      "file_extension": ".py",
      "mimetype": "text/x-python",
      "name": "python",
      "nbconvert_exporter": "python",
      "pygments_lexer": "ipython3",
      "version": "3.8.5"
    }
  },
  "nbformat": 4,
  "nbformat_minor": 0
}