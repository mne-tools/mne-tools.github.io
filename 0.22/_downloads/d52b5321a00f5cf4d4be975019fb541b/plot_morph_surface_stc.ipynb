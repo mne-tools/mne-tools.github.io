{
  "cells": [
    {
      "cell_type": "code",
      "execution_count": null,
      "metadata": {
        "collapsed": false
      },
      "outputs": [],
      "source": [
        "%matplotlib inline"
      ]
    },
    {
      "cell_type": "markdown",
      "metadata": {},
      "source": [
        "\n\n# Morph surface source estimate\n\nThis example demonstrates how to morph an individual subject's\n:class:`mne.SourceEstimate` to a common reference space. We achieve this using\n:class:`mne.SourceMorph`. Pre-computed data will be morphed based on\na spherical representation of the cortex computed using the spherical\nregistration of `FreeSurfer <tut-freesurfer-mne>`\n(https://surfer.nmr.mgh.harvard.edu/fswiki/SurfaceRegAndTemplates)\n:footcite:`GreveEtAl2013`. This\ntransform will be used to morph the surface vertices of the subject towards the\nreference vertices. Here we will use 'fsaverage' as a reference space (see\nhttps://surfer.nmr.mgh.harvard.edu/fswiki/FsAverage).\n\nThe transformation will be applied to the surface source estimate. A plot\ndepicting the successful morph will be created for the spherical and inflated\nsurface representation of ``'fsaverage'``, overlaid with the morphed surface\nsource estimate.\n\n<div class=\"alert alert-info\"><h4>Note</h4><p>For background information about morphing see `ch_morph`.</p></div>\n"
      ]
    },
    {
      "cell_type": "code",
      "execution_count": null,
      "metadata": {
        "collapsed": false
      },
      "outputs": [],
      "source": [
        "# Author: Tommy Clausner <tommy.clausner@gmail.com>\n#\n# License: BSD (3-clause)\nimport os\nimport os.path as op\n\nimport mne\nfrom mne.datasets import sample\n\nprint(__doc__)"
      ]
    },
    {
      "cell_type": "markdown",
      "metadata": {},
      "source": [
        "Setup paths\n\n"
      ]
    },
    {
      "cell_type": "code",
      "execution_count": null,
      "metadata": {
        "collapsed": false
      },
      "outputs": [],
      "source": [
        "data_path = sample.data_path()\nsample_dir = op.join(data_path, 'MEG', 'sample')\nsubjects_dir = op.join(data_path, 'subjects')\nfname_src = op.join(subjects_dir, 'sample', 'bem', 'sample-oct-6-src.fif')\nfname_fwd = op.join(sample_dir, 'sample_audvis-meg-oct-6-fwd.fif')\nfname_fsaverage_src = os.path.join(subjects_dir, 'fsaverage', 'bem',\n                                   'fsaverage-ico-5-src.fif')\n\nfname_stc = os.path.join(sample_dir, 'sample_audvis-meg')"
      ]
    },
    {
      "cell_type": "markdown",
      "metadata": {},
      "source": [
        "Load example data\n\n"
      ]
    },
    {
      "cell_type": "code",
      "execution_count": null,
      "metadata": {
        "collapsed": false
      },
      "outputs": [],
      "source": [
        "# Read stc from file\nstc = mne.read_source_estimate(fname_stc, subject='sample')"
      ]
    },
    {
      "cell_type": "markdown",
      "metadata": {},
      "source": [
        "## Setting up SourceMorph for SourceEstimate\n\nIn MNE, surface source estimates represent the source space simply as\nlists of vertices (see `tut-source-estimate-class`).\nThis list can either be obtained from :class:`mne.SourceSpaces` (src) or from\nthe ``stc`` itself. If you use the source space, be sure to use the\nsource space from the forward or inverse operator, because vertices\ncan be excluded during forward computation due to proximity to the BEM\ninner skull surface:\n\n"
      ]
    },
    {
      "cell_type": "code",
      "execution_count": null,
      "metadata": {
        "collapsed": false
      },
      "outputs": [],
      "source": [
        "src_orig = mne.read_source_spaces(fname_src)\nprint(src_orig)  # n_used=4098, 4098\nfwd = mne.read_forward_solution(fname_fwd)\nprint(fwd['src'])  # n_used=3732, 3766\nprint([len(v) for v in stc.vertices])"
      ]
    },
    {
      "cell_type": "markdown",
      "metadata": {},
      "source": [
        "We also need to specify the set of vertices to morph to. This can be done\nusing the ``spacing`` parameter, but for consistency it's better to pass the\n``src_to`` parameter.\n\n<div class=\"alert alert-info\"><h4>Note</h4><p>Since the default values of :func:`mne.compute_source_morph` are\n     ``spacing=5, subject_to='fsaverage'``, in this example\n     we could actually omit the ``src_to`` and ``subject_to`` arguments\n     below. The ico-5 ``fsaverage`` source space contains the\n     special values ``[np.arange(10242)] * 2``, but in general this will\n     not be true for other spacings or other subjects. Thus it is recommended\n     to always pass the destination ``src`` for consistency.</p></div>\n\nInitialize SourceMorph for SourceEstimate\n\n"
      ]
    },
    {
      "cell_type": "code",
      "execution_count": null,
      "metadata": {
        "collapsed": false
      },
      "outputs": [],
      "source": [
        "src_to = mne.read_source_spaces(fname_fsaverage_src)\nprint(src_to[0]['vertno'])  # special, np.arange(10242)\nmorph = mne.compute_source_morph(stc, subject_from='sample',\n                                 subject_to='fsaverage', src_to=src_to,\n                                 subjects_dir=subjects_dir)"
      ]
    },
    {
      "cell_type": "markdown",
      "metadata": {},
      "source": [
        "## Apply morph to (Vector) SourceEstimate\n\nThe morph will be applied to the source estimate data, by giving it as the\nfirst argument to the morph we computed above.\n\n"
      ]
    },
    {
      "cell_type": "code",
      "execution_count": null,
      "metadata": {
        "collapsed": false
      },
      "outputs": [],
      "source": [
        "stc_fsaverage = morph.apply(stc)"
      ]
    },
    {
      "cell_type": "markdown",
      "metadata": {},
      "source": [
        "## Plot results\n\n"
      ]
    },
    {
      "cell_type": "code",
      "execution_count": null,
      "metadata": {
        "collapsed": false
      },
      "outputs": [],
      "source": [
        "# Define plotting parameters\nsurfer_kwargs = dict(\n    hemi='lh', subjects_dir=subjects_dir,\n    clim=dict(kind='value', lims=[8, 12, 15]), views='lateral',\n    initial_time=0.09, time_unit='s', size=(800, 800),\n    smoothing_steps=5)\n\n# As spherical surface\nbrain = stc_fsaverage.plot(surface='sphere', **surfer_kwargs)\n\n# Add title\nbrain.add_text(0.1, 0.9, 'Morphed to fsaverage (spherical)', 'title',\n               font_size=16)"
      ]
    },
    {
      "cell_type": "markdown",
      "metadata": {},
      "source": [
        "As inflated surface\n\n"
      ]
    },
    {
      "cell_type": "code",
      "execution_count": null,
      "metadata": {
        "collapsed": false
      },
      "outputs": [],
      "source": [
        "brain_inf = stc_fsaverage.plot(surface='inflated', **surfer_kwargs)\n\n# Add title\nbrain_inf.add_text(0.1, 0.9, 'Morphed to fsaverage (inflated)', 'title',\n                   font_size=16)"
      ]
    },
    {
      "cell_type": "markdown",
      "metadata": {},
      "source": [
        "## Reading and writing SourceMorph from and to disk\n\nAn instance of SourceMorph can be saved, by calling\n:meth:`morph.save <mne.SourceMorph.save>`.\n\nThis method allows for specification of a filename under which the ``morph``\nwill be save in \".h5\" format. If no file extension is provided, \"-morph.h5\"\nwill be appended to the respective defined filename::\n\n    >>> morph.save('my-file-name')\n\nReading a saved source morph can be achieved by using\n:func:`mne.read_source_morph`::\n\n    >>> morph = mne.read_source_morph('my-file-name-morph.h5')\n\nOnce the environment is set up correctly, no information such as\n``subject_from`` or ``subjects_dir`` must be provided, since it can be\ninferred from the data and use morph to 'fsaverage' by default. SourceMorph\ncan further be used without creating an instance and assigning it to a\nvariable. Instead :func:`mne.compute_source_morph` and\n:meth:`mne.SourceMorph.apply` can be\neasily chained into a handy one-liner. Taking this together the shortest\npossible way to morph data directly would be:\n\n"
      ]
    },
    {
      "cell_type": "code",
      "execution_count": null,
      "metadata": {
        "collapsed": false
      },
      "outputs": [],
      "source": [
        "stc_fsaverage = mne.compute_source_morph(stc,\n                                         subjects_dir=subjects_dir).apply(stc)"
      ]
    },
    {
      "cell_type": "markdown",
      "metadata": {},
      "source": [
        "For more examples, check out `examples using SourceMorph.apply\n<sphx_glr_backreferences_mne.SourceMorph.apply>`.\n\n\n## References\n.. footbibliography::\n\n"
      ]
    }
  ],
  "metadata": {
    "kernelspec": {
      "display_name": "Python 3",
      "language": "python",
      "name": "python3"
    },
    "language_info": {
      "codemirror_mode": {
        "name": "ipython",
        "version": 3
      },
      "file_extension": ".py",
      "mimetype": "text/x-python",
      "name": "python",
      "nbconvert_exporter": "python",
      "pygments_lexer": "ipython3",
      "version": "3.8.5"
    }
  },
  "nbformat": 4,
  "nbformat_minor": 0
}