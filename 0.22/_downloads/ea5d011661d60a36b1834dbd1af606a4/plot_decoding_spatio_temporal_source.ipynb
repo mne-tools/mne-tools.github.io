{
  "cells": [
    {
      "cell_type": "code",
      "execution_count": null,
      "metadata": {
        "collapsed": false
      },
      "outputs": [],
      "source": [
        "%matplotlib inline"
      ]
    },
    {
      "cell_type": "markdown",
      "metadata": {},
      "source": [
        "\n\n# Decoding source space data\n\nDecoding to MEG data in source space on the left cortical surface. Here\nunivariate feature selection is employed for speed purposes to confine the\nclassification to a small number of potentially relevant features. The\nclassifier then is trained to selected features of epochs in source space.\n"
      ]
    },
    {
      "cell_type": "code",
      "execution_count": null,
      "metadata": {
        "collapsed": false
      },
      "outputs": [],
      "source": [
        "# Author: Denis A. Engemann <denis.engemann@gmail.com>\n#         Alexandre Gramfort <alexandre.gramfort@inria.fr>\n#         Jean-Remi King <jeanremi.king@gmail.com>\n#         Eric Larson <larson.eric.d@gmail.com>\n#\n# License: BSD (3-clause)\n\nimport numpy as np\nimport matplotlib.pyplot as plt\n\nfrom sklearn.pipeline import make_pipeline\nfrom sklearn.preprocessing import StandardScaler\nfrom sklearn.feature_selection import SelectKBest, f_classif\nfrom sklearn.linear_model import LogisticRegression\n\nimport mne\nfrom mne.minimum_norm import apply_inverse_epochs, read_inverse_operator\nfrom mne.decoding import (cross_val_multiscore, LinearModel, SlidingEstimator,\n                          get_coef)\n\nprint(__doc__)\n\ndata_path = mne.datasets.sample.data_path()\nfname_fwd = data_path + 'MEG/sample/sample_audvis-meg-oct-6-fwd.fif'\nfname_evoked = data_path + '/MEG/sample/sample_audvis-ave.fif'\nsubjects_dir = data_path + '/subjects'"
      ]
    },
    {
      "cell_type": "markdown",
      "metadata": {},
      "source": [
        "Set parameters\n\n"
      ]
    },
    {
      "cell_type": "code",
      "execution_count": null,
      "metadata": {
        "collapsed": false
      },
      "outputs": [],
      "source": [
        "raw_fname = data_path + '/MEG/sample/sample_audvis_filt-0-40_raw.fif'\nevent_fname = data_path + '/MEG/sample/sample_audvis_filt-0-40_raw-eve.fif'\nfname_cov = data_path + '/MEG/sample/sample_audvis-cov.fif'\nfname_inv = data_path + '/MEG/sample/sample_audvis-meg-oct-6-meg-inv.fif'\n\ntmin, tmax = -0.2, 0.8\nevent_id = dict(aud_r=2, vis_r=4)  # load contra-lateral conditions\n\n# Setup for reading the raw data\nraw = mne.io.read_raw_fif(raw_fname, preload=True)\nraw.filter(None, 10., fir_design='firwin')\nevents = mne.read_events(event_fname)\n\n# Set up pick list: MEG - bad channels (modify to your needs)\nraw.info['bads'] += ['MEG 2443']  # mark bads\npicks = mne.pick_types(raw.info, meg=True, eeg=False, stim=True, eog=True,\n                       exclude='bads')\n\n# Read epochs\nepochs = mne.Epochs(raw, events, event_id, tmin, tmax, proj=True,\n                    picks=picks, baseline=(None, 0), preload=True,\n                    reject=dict(grad=4000e-13, eog=150e-6),\n                    decim=5)  # decimate to save memory and increase speed"
      ]
    },
    {
      "cell_type": "markdown",
      "metadata": {},
      "source": [
        "Compute inverse solution\n\n"
      ]
    },
    {
      "cell_type": "code",
      "execution_count": null,
      "metadata": {
        "collapsed": false
      },
      "outputs": [],
      "source": [
        "snr = 3.0\nnoise_cov = mne.read_cov(fname_cov)\ninverse_operator = read_inverse_operator(fname_inv)\n\nstcs = apply_inverse_epochs(epochs, inverse_operator,\n                            lambda2=1.0 / snr ** 2, verbose=False,\n                            method=\"dSPM\", pick_ori=\"normal\")"
      ]
    },
    {
      "cell_type": "markdown",
      "metadata": {},
      "source": [
        "Decoding in sensor space using a logistic regression\n\n"
      ]
    },
    {
      "cell_type": "code",
      "execution_count": null,
      "metadata": {
        "collapsed": false
      },
      "outputs": [],
      "source": [
        "# Retrieve source space data into an array\nX = np.array([stc.lh_data for stc in stcs])  # only keep left hemisphere\ny = epochs.events[:, 2]\n\n# prepare a series of classifier applied at each time sample\nclf = make_pipeline(StandardScaler(),  # z-score normalization\n                    SelectKBest(f_classif, k=500),  # select features for speed\n                    LinearModel(LogisticRegression(C=1, solver='liblinear')))\ntime_decod = SlidingEstimator(clf, scoring='roc_auc')\n\n# Run cross-validated decoding analyses:\nscores = cross_val_multiscore(time_decod, X, y, cv=5, n_jobs=1)\n\n# Plot average decoding scores of 5 splits\nfig, ax = plt.subplots(1)\nax.plot(epochs.times, scores.mean(0), label='score')\nax.axhline(.5, color='k', linestyle='--', label='chance')\nax.axvline(0, color='k')\nplt.legend()"
      ]
    },
    {
      "cell_type": "markdown",
      "metadata": {},
      "source": [
        "To investigate weights, we need to retrieve the patterns of a fitted model\n\n"
      ]
    },
    {
      "cell_type": "code",
      "execution_count": null,
      "metadata": {
        "collapsed": false
      },
      "outputs": [],
      "source": [
        "# The fitting needs not be cross validated because the weights are based on\n# the training sets\ntime_decod.fit(X, y)\n\n# Retrieve patterns after inversing the z-score normalization step:\npatterns = get_coef(time_decod, 'patterns_', inverse_transform=True)\n\nstc = stcs[0]  # for convenience, lookup parameters from first stc\nvertices = [stc.lh_vertno, np.array([], int)]  # empty array for right hemi\nstc_feat = mne.SourceEstimate(np.abs(patterns), vertices=vertices,\n                              tmin=stc.tmin, tstep=stc.tstep, subject='sample')\n\nbrain = stc_feat.plot(views=['lat'], transparent=True,\n                      initial_time=0.1, time_unit='s',\n                      subjects_dir=subjects_dir)"
      ]
    }
  ],
  "metadata": {
    "kernelspec": {
      "display_name": "Python 3",
      "language": "python",
      "name": "python3"
    },
    "language_info": {
      "codemirror_mode": {
        "name": "ipython",
        "version": 3
      },
      "file_extension": ".py",
      "mimetype": "text/x-python",
      "name": "python",
      "nbconvert_exporter": "python",
      "pygments_lexer": "ipython3",
      "version": "3.8.5"
    }
  },
  "nbformat": 4,
  "nbformat_minor": 0
}