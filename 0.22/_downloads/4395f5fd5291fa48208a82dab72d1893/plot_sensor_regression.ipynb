{
  "cells": [
    {
      "cell_type": "code",
      "execution_count": null,
      "metadata": {
        "collapsed": false
      },
      "outputs": [],
      "source": [
        "%matplotlib inline"
      ]
    },
    {
      "cell_type": "markdown",
      "metadata": {},
      "source": [
        "\n# Analysing continuous features with binning and regression in sensor space\n\nPredict single trial activity from a continuous variable.\nA single-trial regression is performed in each sensor and timepoint\nindividually, resulting in an :class:`mne.Evoked` object which contains the\nregression coefficient (beta value) for each combination of sensor and\ntimepoint. This example shows the regression coefficient; the t and p values\nare also calculated automatically.\n\nHere, we repeat a few of the analyses from [1]_. This can be easily performed\nby accessing the metadata object, which contains word-level information about\nvarious psycholinguistically relevant features of the words for which we have\nEEG activity.\n\nFor the general methodology, see e.g. [2]_.\n\n## References\n.. [1] Dufau, S., Grainger, J., Midgley, KJ., Holcomb, PJ. A thousand\n   words are worth a picture: Snapshots of printed-word processing in an\n   event-related potential megastudy. Psychological Science, 2015\n.. [2] Hauk et al. The time course of visual word recognition as revealed by\n   linear regression analysis of ERP data. Neuroimage, 2006\n"
      ]
    },
    {
      "cell_type": "code",
      "execution_count": null,
      "metadata": {
        "collapsed": false
      },
      "outputs": [],
      "source": [
        "# Authors: Tal Linzen <linzen@nyu.edu>\n#          Denis A. Engemann <denis.engemann@gmail.com>\n#          Jona Sassenhagen <jona.sassenhagen@gmail.com>\n#\n# License: BSD (3-clause)\n\nimport pandas as pd\nimport mne\nfrom mne.stats import linear_regression, fdr_correction\nfrom mne.viz import plot_compare_evokeds\nfrom mne.datasets import kiloword\n\n# Load the data\npath = kiloword.data_path() + '/kword_metadata-epo.fif'\nepochs = mne.read_epochs(path)\nprint(epochs.metadata.head())"
      ]
    },
    {
      "cell_type": "markdown",
      "metadata": {},
      "source": [
        "Psycholinguistically relevant word characteristics are continuous. I.e.,\nconcreteness or imaginability is a graded property. In the metadata,\nwe have concreteness ratings on a 5-point scale. We can show the dependence\nof the EEG on concreteness by dividing the data into bins and plotting the\nmean activity per bin, color coded.\n\n"
      ]
    },
    {
      "cell_type": "code",
      "execution_count": null,
      "metadata": {
        "collapsed": false
      },
      "outputs": [],
      "source": [
        "name = \"Concreteness\"\ndf = epochs.metadata\ndf[name] = pd.cut(df[name], 11, labels=False) / 10\ncolors = {str(val): val for val in df[name].unique()}\nepochs.metadata = df.assign(Intercept=1)  # Add an intercept for later\nevokeds = {val: epochs[name + \" == \" + val].average() for val in colors}\nplot_compare_evokeds(evokeds, colors=colors, split_legend=True,\n                     cmap=(name + \" Percentile\", \"viridis\"))"
      ]
    },
    {
      "cell_type": "markdown",
      "metadata": {},
      "source": [
        "We observe that there appears to be a monotonic dependence of EEG on\nconcreteness. We can also conduct a continuous analysis: single-trial level\nregression with concreteness as a continuous (although here, binned)\nfeature. We can plot the resulting regression coefficient just like an\nEvent-related Potential.\n\n"
      ]
    },
    {
      "cell_type": "code",
      "execution_count": null,
      "metadata": {
        "collapsed": false
      },
      "outputs": [],
      "source": [
        "names = [\"Intercept\", name]\nres = linear_regression(epochs, epochs.metadata[names], names=names)\nfor cond in names:\n    res[cond].beta.plot_joint(title=cond, ts_args=dict(time_unit='s'),\n                              topomap_args=dict(time_unit='s'))"
      ]
    },
    {
      "cell_type": "markdown",
      "metadata": {},
      "source": [
        "Because the :func:`~mne.stats.linear_regression` function also estimates\np values, we can --\nafter applying FDR correction for multiple comparisons -- also visualise the\nstatistical significance of the regression of word concreteness.\nThe :func:`mne.viz.plot_evoked_image` function takes a ``mask`` parameter.\nIf we supply it with a boolean mask of the positions where we can reject\nthe null hypothesis, points that are not significant will be shown\ntransparently, and if desired, in a different colour palette and surrounded\nby dark contour lines.\n\n"
      ]
    },
    {
      "cell_type": "code",
      "execution_count": null,
      "metadata": {
        "collapsed": false
      },
      "outputs": [],
      "source": [
        "reject_H0, fdr_pvals = fdr_correction(res[\"Concreteness\"].p_val.data)\nevoked = res[\"Concreteness\"].beta\nevoked.plot_image(mask=reject_H0, time_unit='s')"
      ]
    }
  ],
  "metadata": {
    "kernelspec": {
      "display_name": "Python 3",
      "language": "python",
      "name": "python3"
    },
    "language_info": {
      "codemirror_mode": {
        "name": "ipython",
        "version": 3
      },
      "file_extension": ".py",
      "mimetype": "text/x-python",
      "name": "python",
      "nbconvert_exporter": "python",
      "pygments_lexer": "ipython3",
      "version": "3.8.5"
    }
  },
  "nbformat": 4,
  "nbformat_minor": 0
}