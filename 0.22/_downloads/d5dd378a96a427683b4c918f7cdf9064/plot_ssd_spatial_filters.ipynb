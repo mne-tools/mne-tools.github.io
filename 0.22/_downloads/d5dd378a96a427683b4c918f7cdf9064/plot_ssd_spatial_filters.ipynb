{
  "cells": [
    {
      "cell_type": "code",
      "execution_count": null,
      "metadata": {
        "collapsed": false
      },
      "outputs": [],
      "source": [
        "%matplotlib inline"
      ]
    },
    {
      "cell_type": "markdown",
      "metadata": {},
      "source": [
        "\n# Compute Sepctro-Spatial Decomposition (SSD) spatial filters\n\nIn this example, we will compute spatial filters for retaining\noscillatory brain activity and down-weighting 1/f background signals\nas proposed by :footcite:`NikulinEtAl2011`.\nThe idea is to learn spatial filters that separate oscillatory dynamics\nfrom surrounding non-oscillatory noise based on the covariance in the\nfrequency band of interest and the noise covariance based on surrounding\nfrequencies.\n"
      ]
    },
    {
      "cell_type": "code",
      "execution_count": null,
      "metadata": {
        "collapsed": false
      },
      "outputs": [],
      "source": [
        "# Author: Denis A. Engemann <denis.engemann@gmail.com>\n#         Victoria Peterson <victoriapeterson09@gmail.com>\n# License: BSD (3-clause)\n\n\nimport matplotlib.pyplot as plt\nimport mne\nfrom mne import Epochs\nfrom mne.datasets.fieldtrip_cmc import data_path\nfrom mne.decoding import SSD"
      ]
    },
    {
      "cell_type": "markdown",
      "metadata": {},
      "source": [
        "Define parameters\n\n"
      ]
    },
    {
      "cell_type": "code",
      "execution_count": null,
      "metadata": {
        "collapsed": false
      },
      "outputs": [],
      "source": [
        "fname = data_path() + '/SubjectCMC.ds'\n\n# Prepare data\nraw = mne.io.read_raw_ctf(fname)\nraw.crop(50., 110.).load_data()  # crop for memory purposes\nraw.resample(sfreq=250)\n\nraw.pick_types(meg=True, eeg=False, ref_meg=False)\n\nfreqs_sig = 9, 12\nfreqs_noise = 8, 13\n\n\nssd = SSD(info=raw.info,\n          reg='oas',\n          sort_by_spectral_ratio=False,  # False for purpose of example.\n          filt_params_signal=dict(l_freq=freqs_sig[0], h_freq=freqs_sig[1],\n                                  l_trans_bandwidth=1, h_trans_bandwidth=1),\n          filt_params_noise=dict(l_freq=freqs_noise[0], h_freq=freqs_noise[1],\n                                 l_trans_bandwidth=1, h_trans_bandwidth=1))\nssd.fit(X=raw.get_data())"
      ]
    },
    {
      "cell_type": "markdown",
      "metadata": {},
      "source": [
        "Let's investigate spatial filter with max power ratio.\nWe will first inspect the topographies.\nAccording to Nikulin et al. 2011 this is done by either inverting the filters\n(W^{-1}) or by multiplying the noise cov with the filters Eq. (22) (C_n W)^t.\nWe rely on the inversion approach here.\n\n"
      ]
    },
    {
      "cell_type": "code",
      "execution_count": null,
      "metadata": {
        "collapsed": false
      },
      "outputs": [],
      "source": [
        "pattern = mne.EvokedArray(data=ssd.patterns_[:4].T,\n                          info=ssd.info)\npattern.plot_topomap(units=dict(mag='A.U.'), time_format='')\n\n# The topographies suggest that we picked up a parietal alpha generator.\n\n# Transform\nssd_sources = ssd.transform(X=raw.get_data())\n\n# Get psd of SSD-filtered signals.\npsd, freqs = mne.time_frequency.psd_array_welch(\n    ssd_sources, sfreq=raw.info['sfreq'], n_fft=4096)\n\n# Get spec_ratio information (already sorted).\n# Note that this is not necessary if sort_by_spectral_ratio=True (default).\nspec_ratio, sorter = ssd.get_spectral_ratio(ssd_sources)\n\n# Plot spectral ratio (see Eq. 24 in Nikulin 2011).\nfig, ax = plt.subplots(1)\nax.plot(spec_ratio, color='black')\nax.plot(spec_ratio[sorter], color='orange', label='sorted eigenvalues')\nax.set_xlabel(\"Eigenvalue Index\")\nax.set_ylabel(r\"Spectral Ratio $\\frac{P_f}{P_{sf}}$\")\nax.legend()\nax.axhline(1, linestyle='--')\n\n# We can see that the initial sorting based on the eigenvalues\n# was already quite good. However, when using few components only\n# the sorting might make a difference."
      ]
    },
    {
      "cell_type": "markdown",
      "metadata": {},
      "source": [
        "Let's also look at the power spectrum of that source and compare it to\nto the power spectrum of the source with lowest SNR.\n\n"
      ]
    },
    {
      "cell_type": "code",
      "execution_count": null,
      "metadata": {
        "collapsed": false
      },
      "outputs": [],
      "source": [
        "below50 = freqs < 50\n# for highlighting the freq. band of interest\nbandfilt = (freqs_sig[0] <= freqs) & (freqs <= freqs_sig[1])\nfig, ax = plt.subplots(1)\nax.loglog(freqs[below50], psd[0, below50], label='max SNR')\nax.loglog(freqs[below50], psd[-1, below50], label='min SNR')\nax.loglog(freqs[below50], psd[:, below50].mean(axis=0), label='mean')\nax.fill_between(freqs[bandfilt], 0, 10000, color='green', alpha=0.15)\nax.set_xlabel('log(frequency)')\nax.set_ylabel('log(power)')\nax.legend()\n\n# We can clearly see that the selected component enjoys an SNR that is\n# way above the average power spectrum."
      ]
    },
    {
      "cell_type": "markdown",
      "metadata": {},
      "source": [
        "## Epoched data\nAlthough we suggest to use this method before epoching, there might be some\nsituations in which data can only be treated by chunks.\n\n"
      ]
    },
    {
      "cell_type": "code",
      "execution_count": null,
      "metadata": {
        "collapsed": false
      },
      "outputs": [],
      "source": [
        "# Build epochs as sliding windows over the continuous raw file.\nevents = mne.make_fixed_length_events(raw, id=1, duration=5.0, overlap=0.0)\n\n# Epoch length is 5 seconds.\nepochs = Epochs(raw, events, tmin=0., tmax=5,\n                baseline=None, preload=True)\n\nssd_epochs = SSD(info=epochs.info,\n                 reg='oas',\n                 filt_params_signal=dict(l_freq=freqs_sig[0],\n                                         h_freq=freqs_sig[1],\n                                         l_trans_bandwidth=1,\n                                         h_trans_bandwidth=1),\n                 filt_params_noise=dict(l_freq=freqs_noise[0],\n                                        h_freq=freqs_noise[1],\n                                        l_trans_bandwidth=1,\n                                        h_trans_bandwidth=1))\nssd_epochs.fit(X=epochs.get_data())\n\n# Plot topographies.\npattern_epochs = mne.EvokedArray(data=ssd_epochs.patterns_[:4].T,\n                                 info=ssd_epochs.info)\npattern_epochs.plot_topomap(units=dict(mag='A.U.'), time_format='')"
      ]
    },
    {
      "cell_type": "markdown",
      "metadata": {},
      "source": [
        "## References\n\n.. footbibliography::\n\n"
      ]
    }
  ],
  "metadata": {
    "kernelspec": {
      "display_name": "Python 3",
      "language": "python",
      "name": "python3"
    },
    "language_info": {
      "codemirror_mode": {
        "name": "ipython",
        "version": 3
      },
      "file_extension": ".py",
      "mimetype": "text/x-python",
      "name": "python",
      "nbconvert_exporter": "python",
      "pygments_lexer": "ipython3",
      "version": "3.8.5"
    }
  },
  "nbformat": 4,
  "nbformat_minor": 0
}