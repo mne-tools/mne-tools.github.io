{
  "cells": [
    {
      "cell_type": "code",
      "execution_count": null,
      "metadata": {
        "collapsed": false
      },
      "outputs": [],
      "source": [
        "%matplotlib inline"
      ]
    },
    {
      "cell_type": "markdown",
      "metadata": {},
      "source": [
        "\n# XDAWN Denoising\n\nXDAWN filters are trained from epochs, signal is projected in the sources\nspace and then projected back in the sensor space using only the first two\nXDAWN components. The process is similar to an ICA, but is\nsupervised in order to maximize the signal to signal + noise ratio of the\nevoked response.\n\n<div class=\"alert alert-danger\"><h4>Warning</h4><p>As this denoising method exploits the known events to\n             maximize SNR of the contrast between conditions it can lead\n             to overfitting. To avoid a statistical analysis problem you\n             should split epochs used in fit with the ones used in\n             apply method.</p></div>\n\n## References\n[1] Rivet, B., Souloumiac, A., Attina, V., & Gibert, G. (2009). xDAWN\nalgorithm to enhance evoked potentials: application to brain-computer\ninterface. Biomedical Engineering, IEEE Transactions on, 56(8), 2035-2043.\n\n[2] Rivet, B., Cecotti, H., Souloumiac, A., Maby, E., & Mattout, J. (2011,\nAugust). Theoretical analysis of xDAWN algorithm: application to an\nefficient sensor selection in a P300 BCI. In Signal Processing Conference,\n2011 19th European (pp. 1382-1386). IEEE.\n"
      ]
    },
    {
      "cell_type": "code",
      "execution_count": null,
      "metadata": {
        "collapsed": false
      },
      "outputs": [],
      "source": [
        "# Authors: Alexandre Barachant <alexandre.barachant@gmail.com>\n#\n# License: BSD (3-clause)\n\n\nfrom mne import (io, compute_raw_covariance, read_events, pick_types, Epochs)\nfrom mne.datasets import sample\nfrom mne.preprocessing import Xdawn\nfrom mne.viz import plot_epochs_image\n\nprint(__doc__)\n\ndata_path = sample.data_path()"
      ]
    },
    {
      "cell_type": "markdown",
      "metadata": {},
      "source": [
        "Set parameters and read data\n\n"
      ]
    },
    {
      "cell_type": "code",
      "execution_count": null,
      "metadata": {
        "collapsed": false
      },
      "outputs": [],
      "source": [
        "raw_fname = data_path + '/MEG/sample/sample_audvis_filt-0-40_raw.fif'\nevent_fname = data_path + '/MEG/sample/sample_audvis_filt-0-40_raw-eve.fif'\ntmin, tmax = -0.1, 0.3\nevent_id = dict(vis_r=4)\n\n# Setup for reading the raw data\nraw = io.read_raw_fif(raw_fname, preload=True)\nraw.filter(1, 20, fir_design='firwin')  # replace baselining with high-pass\nevents = read_events(event_fname)\n\nraw.info['bads'] = ['MEG 2443']  # set bad channels\npicks = pick_types(raw.info, meg=True, eeg=False, stim=False, eog=False,\n                   exclude='bads')\n# Epoching\nepochs = Epochs(raw, events, event_id, tmin, tmax, proj=False,\n                picks=picks, baseline=None, preload=True,\n                verbose=False)\n\n# Plot image epoch before xdawn\nplot_epochs_image(epochs['vis_r'], picks=[230], vmin=-500, vmax=500)"
      ]
    },
    {
      "cell_type": "markdown",
      "metadata": {},
      "source": [
        "Now, we estimate a set of xDAWN filters for the epochs (which contain only\nthe ``vis_r`` class).\n\n"
      ]
    },
    {
      "cell_type": "code",
      "execution_count": null,
      "metadata": {
        "collapsed": false
      },
      "outputs": [],
      "source": [
        "# Estimates signal covariance\nsignal_cov = compute_raw_covariance(raw, picks=picks)\n\n# Xdawn instance\nxd = Xdawn(n_components=2, signal_cov=signal_cov)\n\n# Fit xdawn\nxd.fit(epochs)"
      ]
    },
    {
      "cell_type": "markdown",
      "metadata": {},
      "source": [
        "Epochs are denoised by calling ``apply``, which by default keeps only the\nsignal subspace corresponding to the first ``n_components`` specified in the\n``Xdawn`` constructor above.\n\n"
      ]
    },
    {
      "cell_type": "code",
      "execution_count": null,
      "metadata": {
        "collapsed": false
      },
      "outputs": [],
      "source": [
        "epochs_denoised = xd.apply(epochs)\n\n# Plot image epoch after Xdawn\nplot_epochs_image(epochs_denoised['vis_r'], picks=[230], vmin=-500, vmax=500)"
      ]
    }
  ],
  "metadata": {
    "kernelspec": {
      "display_name": "Python 3",
      "language": "python",
      "name": "python3"
    },
    "language_info": {
      "codemirror_mode": {
        "name": "ipython",
        "version": 3
      },
      "file_extension": ".py",
      "mimetype": "text/x-python",
      "name": "python",
      "nbconvert_exporter": "python",
      "pygments_lexer": "ipython3",
      "version": "3.8.5"
    }
  },
  "nbformat": 4,
  "nbformat_minor": 0
}