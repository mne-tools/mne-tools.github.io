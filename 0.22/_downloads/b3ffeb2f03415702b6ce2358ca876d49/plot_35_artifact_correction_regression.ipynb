{
  "cells": [
    {
      "cell_type": "code",
      "execution_count": null,
      "metadata": {
        "collapsed": false
      },
      "outputs": [],
      "source": [
        "%matplotlib inline"
      ]
    },
    {
      "cell_type": "markdown",
      "metadata": {},
      "source": [
        "\n\n# Repairing artifacts with regression\n\nThis tutorial covers removal of artifacts using regression as in Gratton et al.\n(1983) :footcite:`GrattonEtAl1983`.\n   :depth: 2\n\nGenerally speaking, artifacts that result in time waveforms on the sensors\nthat are accurately reflected by some reference signal can be removed by\nregression. Blink artifacts captured by bipolar EOG channels serve as a good\nexample of this, so we will demonstrate this here.\n\nAlthough ECG signals are well captured by bipolar ECG electrodes,\nregression-based removal of ECG artifacts usually does not work very well.\nThis is likely because the heart acts like a rotating dipole, and\ntherefore the ECG channel time waveform recorded from the ECG electrode sites\ndoes not reflect the same temporal dynamics that manifest at each MEG channel\n(obtained by sampling some component of the related magnetic vector field).\nOther approaches like `ICA <tut-artifact-ica>` or\n`SSP <tut-artifact-ssp>` will likely work better for ECG.\n\n## Prepare the data\n\nWe begin as always by importing the necessary Python modules and loading some\ndata. In this case we use data from `Brainstorm <tut-brainstorm-auditory>`\nbecause it has some clear, large blink artifacts. We then crop it to 60\nseconds, set some channel information, then process the auditory evoked data.\n\nNote that there are other corrections that are useful for this dataset that we\nwill not apply here (see `tut-brainstorm-auditory` for more information).\n"
      ]
    },
    {
      "cell_type": "code",
      "execution_count": null,
      "metadata": {
        "collapsed": false
      },
      "outputs": [],
      "source": [
        "import os.path as op\nimport numpy as np\nimport mne\n\ndata_path = mne.datasets.brainstorm.bst_auditory.data_path()\nraw_fname = op.join(data_path, 'MEG', 'bst_auditory', 'S01_AEF_20131218_01.ds')\nraw = mne.io.read_raw_ctf(raw_fname).crop(0, 60)\nraw.set_channel_types({'HEOG': 'eog', 'VEOG': 'eog', 'ECG': 'ecg'})\nraw.pick_types(meg=True, stim=True, misc=True,\n               eog=True, ecg=True, ref_meg=False).load_data()\nraw.info['bads'] = ['MLO52-4408', 'MRT51-4408', 'MLO42-4408', 'MLO43-4408']\nraw.filter(None, 40)\ndecim = 12  # 2400 -> 200 Hz sample rate for epochs"
      ]
    },
    {
      "cell_type": "markdown",
      "metadata": {},
      "source": [
        "For this dataset and example we'll use just event type 1 (only the\n\"standard\" trials) for simplicity. Event timing is adjusted by comparing the\ntrigger times on detected sound onsets on channel UADC001-4408.\n\n"
      ]
    },
    {
      "cell_type": "code",
      "execution_count": null,
      "metadata": {
        "collapsed": false
      },
      "outputs": [],
      "source": [
        "events = mne.find_events(raw, stim_channel='UPPT001')\nsound_data = raw[raw.ch_names.index('UADC001-4408')][0][0]\nonsets = np.where(np.abs(sound_data) > 2. * np.std(sound_data))[0]\nmin_diff = int(0.5 * raw.info['sfreq'])\ndiffs = np.concatenate([[min_diff + 1], np.diff(onsets)])\nonsets = onsets[diffs > min_diff]\nassert len(onsets) == len(events)\nevents[:, 0] = onsets\nepochs = mne.Epochs(raw, events, event_id=1, decim=decim, preload=True)"
      ]
    },
    {
      "cell_type": "markdown",
      "metadata": {},
      "source": [
        "## Compute and apply EOG regression\nNext we'll compare the `~mne.Evoked` data (average across epochs) before and\nafter we regress out the EOG signal. We do this by first estimating the\nregression coefficients on epoch data with the evoked response subtracted\nout. As long as the EOG artifacts are in the epochs, then the algorithm\nshould be able to estimate regression coefficients. The EOG artifacts do not\nneed to be time-locked to the stimulus/epoch event timing of the epochs.\n\n"
      ]
    },
    {
      "cell_type": "code",
      "execution_count": null,
      "metadata": {
        "collapsed": false
      },
      "outputs": [],
      "source": [
        "# do regression\n_, betas = mne.preprocessing.regress_artifact(epochs.copy().subtract_evoked())"
      ]
    },
    {
      "cell_type": "markdown",
      "metadata": {},
      "source": [
        "We then use those coefficients to remove the EOG signal from the original\ndata:\n\n"
      ]
    },
    {
      "cell_type": "code",
      "execution_count": null,
      "metadata": {
        "collapsed": false
      },
      "outputs": [],
      "source": [
        "epochs_clean, _ = mne.preprocessing.regress_artifact(epochs, betas=betas)"
      ]
    },
    {
      "cell_type": "markdown",
      "metadata": {},
      "source": [
        "## Visualize the effect on auditory epochs\nNow we can plot the auditory evoked response before and after regression:\n\n"
      ]
    },
    {
      "cell_type": "code",
      "execution_count": null,
      "metadata": {
        "collapsed": false
      },
      "outputs": [],
      "source": [
        "# get ready to plot\nplot_picks = ['meg', 'eog']\nevo_kwargs = dict(picks=plot_picks, spatial_colors=True,\n                  verbose='error')  # ignore warnings about spatial colors\n\nevo_kwargs['ylim'] = dict(mag=[-350, 300], eog=[-35, 5])\n# plot original data (averaged across epochs)\nfig = epochs.average(picks=plot_picks).plot(**evo_kwargs)\nfig.suptitle('Auditory epochs')\nmne.viz.tight_layout()\n\n# plot regressed data\nfig = epochs_clean.average(picks=plot_picks).plot(**evo_kwargs)\nfig.suptitle('Auditory epochs, EOG regressed')\nmne.viz.tight_layout()\n\n# clean up\ndel epochs, epochs_clean"
      ]
    },
    {
      "cell_type": "markdown",
      "metadata": {},
      "source": [
        "The effect is subtle in these evoked data, but you can see that a bump toward\nthe end of the window has had its amplitude decreased.\n\n## Visualize the effect on EOG epochs\n\nThe effect is clearer if we create epochs around (autodetected) blink events,\nand plot the average blink artifact before and after the regression based on\nthe same regression coefficients we computed earlier. If the resulting\nblink evoked data are reduced to near zero, it helps validate\nthat the regression efficiently removes blink artifacts.\n\n"
      ]
    },
    {
      "cell_type": "code",
      "execution_count": null,
      "metadata": {
        "collapsed": false
      },
      "outputs": [],
      "source": [
        "# extract epochs around each blink\nevo_kwargs['ylim'].update(mag=[-4000, 3000], eog=[-600, 100])\neog_epochs = mne.preprocessing.create_eog_epochs(raw, decim=decim)\neog_epochs.apply_baseline((None, None))\n\n# regress, using the `betas` we already found above\neog_epochs_clean, _ = mne.preprocessing.regress_artifact(eog_epochs,\n                                                         betas=betas)\n\n# plot original blink epochs\nfig = eog_epochs.average(picks=plot_picks).plot(**evo_kwargs)\nfig.suptitle('EOG epochs')\nmne.viz.tight_layout()\n\n# plot regressed blink epochs\nfig = eog_epochs_clean.average(picks=plot_picks).plot(**evo_kwargs)\nfig.suptitle('EOG epochs, EOG regressed')\nmne.viz.tight_layout()"
      ]
    },
    {
      "cell_type": "markdown",
      "metadata": {},
      "source": [
        "## Visualize the effect on raw data\nWe can also apply the regression directly to the raw data. To do this\nfollowing the Gratton method requires first computing the regression weights\n*from epoched data with the evoked response subtracted out* (as we did\nabove). It is possible to instead compute regression weights directly from\nthe raw data, but this could bias the evoked response more than computing\nthe weights from data with the evoked response removed.\n\n"
      ]
    },
    {
      "cell_type": "code",
      "execution_count": null,
      "metadata": {
        "collapsed": false
      },
      "outputs": [],
      "source": [
        "# get ready to plot\norder = np.concatenate([  # plotting order: EOG+ECG first, then MEG\n    mne.pick_types(raw.info, meg=False, eog=True, ecg=True),\n    mne.pick_types(raw.info, meg=True)])\nraw_kwargs = dict(events=eog_epochs.events, order=order, start=20, duration=5,\n                  n_channels=40)\n\n# plot original data\nraw.plot(**raw_kwargs)\n\n# regress (using betas computed above) & plot\nraw_clean, _ = mne.preprocessing.regress_artifact(raw, betas=betas)\nraw_clean.plot(**raw_kwargs)"
      ]
    },
    {
      "cell_type": "markdown",
      "metadata": {},
      "source": [
        "## References\n.. footbibliography::\n\n"
      ]
    }
  ],
  "metadata": {
    "kernelspec": {
      "display_name": "Python 3",
      "language": "python",
      "name": "python3"
    },
    "language_info": {
      "codemirror_mode": {
        "name": "ipython",
        "version": 3
      },
      "file_extension": ".py",
      "mimetype": "text/x-python",
      "name": "python",
      "nbconvert_exporter": "python",
      "pygments_lexer": "ipython3",
      "version": "3.8.5"
    }
  },
  "nbformat": 4,
  "nbformat_minor": 0
}