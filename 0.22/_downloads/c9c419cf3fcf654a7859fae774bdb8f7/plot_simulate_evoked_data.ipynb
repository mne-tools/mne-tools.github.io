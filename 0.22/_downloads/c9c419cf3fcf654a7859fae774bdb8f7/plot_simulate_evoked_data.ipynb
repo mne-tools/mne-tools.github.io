{
  "cells": [
    {
      "cell_type": "code",
      "execution_count": null,
      "metadata": {
        "collapsed": false
      },
      "outputs": [],
      "source": [
        "%matplotlib inline"
      ]
    },
    {
      "cell_type": "markdown",
      "metadata": {},
      "source": [
        "\n# Generate simulated evoked data\n\nUse :func:`~mne.simulation.simulate_sparse_stc` to simulate evoked data.\n"
      ]
    },
    {
      "cell_type": "code",
      "execution_count": null,
      "metadata": {
        "collapsed": false
      },
      "outputs": [],
      "source": [
        "# Author: Daniel Strohmeier <daniel.strohmeier@tu-ilmenau.de>\n#         Alexandre Gramfort <alexandre.gramfort@inria.fr>\n#\n# License: BSD (3-clause)\n\nimport numpy as np\nimport matplotlib.pyplot as plt\n\nimport mne\nfrom mne.datasets import sample\nfrom mne.time_frequency import fit_iir_model_raw\nfrom mne.viz import plot_sparse_source_estimates\nfrom mne.simulation import simulate_sparse_stc, simulate_evoked\n\nprint(__doc__)"
      ]
    },
    {
      "cell_type": "markdown",
      "metadata": {},
      "source": [
        "Load real data as templates\n\n"
      ]
    },
    {
      "cell_type": "code",
      "execution_count": null,
      "metadata": {
        "collapsed": false
      },
      "outputs": [],
      "source": [
        "data_path = sample.data_path()\n\nraw = mne.io.read_raw_fif(data_path + '/MEG/sample/sample_audvis_raw.fif')\nproj = mne.read_proj(data_path + '/MEG/sample/sample_audvis_ecg-proj.fif')\nraw.info['projs'] += proj\nraw.info['bads'] = ['MEG 2443', 'EEG 053']  # mark bad channels\n\nfwd_fname = data_path + '/MEG/sample/sample_audvis-meg-eeg-oct-6-fwd.fif'\nave_fname = data_path + '/MEG/sample/sample_audvis-no-filter-ave.fif'\ncov_fname = data_path + '/MEG/sample/sample_audvis-cov.fif'\n\nfwd = mne.read_forward_solution(fwd_fname)\nfwd = mne.pick_types_forward(fwd, meg=True, eeg=True, exclude=raw.info['bads'])\ncov = mne.read_cov(cov_fname)\ninfo = mne.io.read_info(ave_fname)\n\nlabel_names = ['Aud-lh', 'Aud-rh']\nlabels = [mne.read_label(data_path + '/MEG/sample/labels/%s.label' % ln)\n          for ln in label_names]"
      ]
    },
    {
      "cell_type": "markdown",
      "metadata": {},
      "source": [
        "Generate source time courses from 2 dipoles and the correspond evoked data\n\n"
      ]
    },
    {
      "cell_type": "code",
      "execution_count": null,
      "metadata": {
        "collapsed": false
      },
      "outputs": [],
      "source": [
        "times = np.arange(300, dtype=np.float64) / raw.info['sfreq'] - 0.1\nrng = np.random.RandomState(42)\n\n\ndef data_fun(times):\n    \"\"\"Function to generate random source time courses\"\"\"\n    return (50e-9 * np.sin(30. * times) *\n            np.exp(- (times - 0.15 + 0.05 * rng.randn(1)) ** 2 / 0.01))\n\n\nstc = simulate_sparse_stc(fwd['src'], n_dipoles=2, times=times,\n                          random_state=42, labels=labels, data_fun=data_fun)"
      ]
    },
    {
      "cell_type": "markdown",
      "metadata": {},
      "source": [
        "Generate noisy evoked data\n\n"
      ]
    },
    {
      "cell_type": "code",
      "execution_count": null,
      "metadata": {
        "collapsed": false
      },
      "outputs": [],
      "source": [
        "picks = mne.pick_types(raw.info, meg=True, exclude='bads')\niir_filter = fit_iir_model_raw(raw, order=5, picks=picks, tmin=60, tmax=180)[1]\nnave = 100  # simulate average of 100 epochs\nevoked = simulate_evoked(fwd, stc, info, cov, nave=nave, use_cps=True,\n                         iir_filter=iir_filter)"
      ]
    },
    {
      "cell_type": "markdown",
      "metadata": {},
      "source": [
        "Plot\n\n"
      ]
    },
    {
      "cell_type": "code",
      "execution_count": null,
      "metadata": {
        "collapsed": false
      },
      "outputs": [],
      "source": [
        "plot_sparse_source_estimates(fwd['src'], stc, bgcolor=(1, 1, 1),\n                             opacity=0.5, high_resolution=True)\n\nplt.figure()\nplt.psd(evoked.data[0])\n\nevoked.plot(time_unit='s')"
      ]
    }
  ],
  "metadata": {
    "kernelspec": {
      "display_name": "Python 3",
      "language": "python",
      "name": "python3"
    },
    "language_info": {
      "codemirror_mode": {
        "name": "ipython",
        "version": 3
      },
      "file_extension": ".py",
      "mimetype": "text/x-python",
      "name": "python",
      "nbconvert_exporter": "python",
      "pygments_lexer": "ipython3",
      "version": "3.8.5"
    }
  },
  "nbformat": 4,
  "nbformat_minor": 0
}