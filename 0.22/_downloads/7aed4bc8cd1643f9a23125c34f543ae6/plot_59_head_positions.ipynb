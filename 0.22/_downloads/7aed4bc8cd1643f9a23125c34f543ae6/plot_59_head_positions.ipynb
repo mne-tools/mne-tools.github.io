{
  "cells": [
    {
      "cell_type": "code",
      "execution_count": null,
      "metadata": {
        "collapsed": false
      },
      "outputs": [],
      "source": [
        "%matplotlib inline"
      ]
    },
    {
      "cell_type": "markdown",
      "metadata": {},
      "source": [
        "\n\n# Extracting and visualizing subject head movement\n\nContinuous head movement can be encoded during MEG recordings by use of\nHPI coils that continuously emit sinusoidal signals. These signals can then be\nextracted from the recording and used to estimate head position as a function\nof time. Here we show an example of how to do this, and how to visualize\nthe result.\n\n## HPI frequencies\n\nFirst let's load a short bit of raw data where the subject intentionally moved\ntheir head during the recording. Its power spectral density shows five peaks\n(most clearly visible in the gradiometers) corresponding to the HPI coil\nfrequencies, plus other peaks related to power line interference (60 Hz and\nharmonics).\n"
      ]
    },
    {
      "cell_type": "code",
      "execution_count": null,
      "metadata": {
        "collapsed": false
      },
      "outputs": [],
      "source": [
        "# Authors: Eric Larson <larson.eric.d@gmail.com>\n#\n# License: BSD (3-clause)\n\nfrom os import path as op\n\nimport mne\n\nprint(__doc__)\n\ndata_path = op.join(mne.datasets.testing.data_path(verbose=True), 'SSS')\nfname_raw = op.join(data_path, 'test_move_anon_raw.fif')\nraw = mne.io.read_raw_fif(fname_raw, allow_maxshield='yes').load_data()\nraw.plot_psd()"
      ]
    },
    {
      "cell_type": "markdown",
      "metadata": {},
      "source": [
        "## Estimating continuous head position\n\nFirst, let's extract the HPI coil amplitudes as a function of time:\n\n"
      ]
    },
    {
      "cell_type": "code",
      "execution_count": null,
      "metadata": {
        "collapsed": false
      },
      "outputs": [],
      "source": [
        "chpi_amplitudes = mne.chpi.compute_chpi_amplitudes(raw)"
      ]
    },
    {
      "cell_type": "markdown",
      "metadata": {},
      "source": [
        "Second, let's compute time-varying HPI coil locations from these:\n\n"
      ]
    },
    {
      "cell_type": "code",
      "execution_count": null,
      "metadata": {
        "collapsed": false
      },
      "outputs": [],
      "source": [
        "chpi_locs = mne.chpi.compute_chpi_locs(raw.info, chpi_amplitudes)"
      ]
    },
    {
      "cell_type": "markdown",
      "metadata": {},
      "source": [
        "Lastly, compute head positions from the coil locations:\n\n"
      ]
    },
    {
      "cell_type": "code",
      "execution_count": null,
      "metadata": {
        "collapsed": false
      },
      "outputs": [],
      "source": [
        "head_pos = mne.chpi.compute_head_pos(raw.info, chpi_locs, verbose=True)"
      ]
    },
    {
      "cell_type": "markdown",
      "metadata": {},
      "source": [
        "Note that these can then be written to disk or read from disk with\n:func:`mne.chpi.write_head_pos` and :func:`mne.chpi.read_head_pos`,\nrespectively.\n\n## Visualizing continuous head position\n\nWe can plot as traces, which is especially useful for long recordings:\n\n"
      ]
    },
    {
      "cell_type": "code",
      "execution_count": null,
      "metadata": {
        "collapsed": false
      },
      "outputs": [],
      "source": [
        "mne.viz.plot_head_positions(head_pos, mode='traces')"
      ]
    },
    {
      "cell_type": "markdown",
      "metadata": {},
      "source": [
        "Or we can visualize them as a continuous field (with the vectors pointing\nin the head-upward direction):\n\n"
      ]
    },
    {
      "cell_type": "code",
      "execution_count": null,
      "metadata": {
        "collapsed": false
      },
      "outputs": [],
      "source": [
        "mne.viz.plot_head_positions(head_pos, mode='field')"
      ]
    },
    {
      "cell_type": "markdown",
      "metadata": {},
      "source": [
        "These head positions can then be used with\n:func:`mne.preprocessing.maxwell_filter` to compensate for movement,\nor with :func:`mne.preprocessing.annotate_movement` to mark segments as\nbad that deviate too much from the average head position.\n\n"
      ]
    }
  ],
  "metadata": {
    "kernelspec": {
      "display_name": "Python 3",
      "language": "python",
      "name": "python3"
    },
    "language_info": {
      "codemirror_mode": {
        "name": "ipython",
        "version": 3
      },
      "file_extension": ".py",
      "mimetype": "text/x-python",
      "name": "python",
      "nbconvert_exporter": "python",
      "pygments_lexer": "ipython3",
      "version": "3.8.5"
    }
  },
  "nbformat": 4,
  "nbformat_minor": 0
}