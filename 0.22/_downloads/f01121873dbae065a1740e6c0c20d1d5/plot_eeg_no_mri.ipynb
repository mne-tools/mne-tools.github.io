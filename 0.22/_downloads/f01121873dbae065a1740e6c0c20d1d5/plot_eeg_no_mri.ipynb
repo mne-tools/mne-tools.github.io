{
  "cells": [
    {
      "cell_type": "code",
      "execution_count": null,
      "metadata": {
        "collapsed": false
      },
      "outputs": [],
      "source": [
        "%matplotlib inline"
      ]
    },
    {
      "cell_type": "markdown",
      "metadata": {},
      "source": [
        "\n\n# EEG forward operator with a template MRI\n\nThis tutorial explains how to compute the forward operator from EEG data\nusing the standard template MRI subject ``fsaverage``.\n\n.. caution:: Source reconstruction without an individual T1 MRI from the\n             subject will be less accurate. Do not over interpret\n             activity locations which can be off by multiple centimeters.\n   :depth: 2\n"
      ]
    },
    {
      "cell_type": "code",
      "execution_count": null,
      "metadata": {
        "collapsed": false
      },
      "outputs": [],
      "source": [
        "# Authors: Alexandre Gramfort <alexandre.gramfort@inria.fr>\n#          Joan Massich <mailsik@gmail.com>\n#\n# License: BSD Style.\n\nimport os.path as op\n\nimport mne\nfrom mne.datasets import eegbci\nfrom mne.datasets import fetch_fsaverage\n\n# Download fsaverage files\nfs_dir = fetch_fsaverage(verbose=True)\nsubjects_dir = op.dirname(fs_dir)\n\n# The files live in:\nsubject = 'fsaverage'\ntrans = 'fsaverage'  # MNE has a built-in fsaverage transformation\nsrc = op.join(fs_dir, 'bem', 'fsaverage-ico-5-src.fif')\nbem = op.join(fs_dir, 'bem', 'fsaverage-5120-5120-5120-bem-sol.fif')"
      ]
    },
    {
      "cell_type": "markdown",
      "metadata": {},
      "source": [
        "## Load the data\n\nWe use here EEG data from the BCI dataset.\n\n<div class=\"alert alert-info\"><h4>Note</h4><p>See `plot_montage` to view all the standard EEG montages\n          available in MNE-Python.</p></div>\n\n"
      ]
    },
    {
      "cell_type": "code",
      "execution_count": null,
      "metadata": {
        "collapsed": false
      },
      "outputs": [],
      "source": [
        "raw_fname, = eegbci.load_data(subject=1, runs=[6])\nraw = mne.io.read_raw_edf(raw_fname, preload=True)\n\n# Clean channel names to be able to use a standard 1005 montage\nnew_names = dict(\n    (ch_name,\n     ch_name.rstrip('.').upper().replace('Z', 'z').replace('FP', 'Fp'))\n    for ch_name in raw.ch_names)\nraw.rename_channels(new_names)\n\n# Read and set the EEG electrode locations\nmontage = mne.channels.make_standard_montage('standard_1005')\nraw.set_montage(montage)\nraw.set_eeg_reference(projection=True)  # needed for inverse modeling\n\n# Check that the locations of EEG electrodes is correct with respect to MRI\nmne.viz.plot_alignment(\n    raw.info, src=src, eeg=['original', 'projected'], trans=trans,\n    show_axes=True, mri_fiducials=True, dig='fiducials')"
      ]
    },
    {
      "cell_type": "markdown",
      "metadata": {},
      "source": [
        "## Setup source space and compute forward\n\n"
      ]
    },
    {
      "cell_type": "code",
      "execution_count": null,
      "metadata": {
        "collapsed": false
      },
      "outputs": [],
      "source": [
        "fwd = mne.make_forward_solution(raw.info, trans=trans, src=src,\n                                bem=bem, eeg=True, mindist=5.0, n_jobs=1)\nprint(fwd)\n\n# Use fwd to compute the sensitivity map for illustration purposes\neeg_map = mne.sensitivity_map(fwd, ch_type='eeg', mode='fixed')\nbrain = eeg_map.plot(time_label='EEG sensitivity', subjects_dir=subjects_dir,\n                     clim=dict(lims=[5, 50, 100]))"
      ]
    }
  ],
  "metadata": {
    "kernelspec": {
      "display_name": "Python 3",
      "language": "python",
      "name": "python3"
    },
    "language_info": {
      "codemirror_mode": {
        "name": "ipython",
        "version": 3
      },
      "file_extension": ".py",
      "mimetype": "text/x-python",
      "name": "python",
      "nbconvert_exporter": "python",
      "pygments_lexer": "ipython3",
      "version": "3.8.5"
    }
  },
  "nbformat": 4,
  "nbformat_minor": 0
}