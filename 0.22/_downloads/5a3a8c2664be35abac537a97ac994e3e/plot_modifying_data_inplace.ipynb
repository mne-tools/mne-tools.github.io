{
  "cells": [
    {
      "cell_type": "code",
      "execution_count": null,
      "metadata": {
        "collapsed": false
      },
      "outputs": [],
      "source": [
        "%matplotlib inline"
      ]
    },
    {
      "cell_type": "markdown",
      "metadata": {},
      "source": [
        "\n\n# Modifying data in-place\n\nIt is often necessary to modify data once you have loaded it into memory.\nCommon examples of this are signal processing, feature extraction, and data\ncleaning. Some functionality is pre-built into MNE-python, though it is also\npossible to apply an arbitrary function to the data.\n"
      ]
    },
    {
      "cell_type": "code",
      "execution_count": null,
      "metadata": {
        "collapsed": false
      },
      "outputs": [],
      "source": [
        "import mne\nimport os.path as op\nimport numpy as np\nfrom matplotlib import pyplot as plt"
      ]
    },
    {
      "cell_type": "markdown",
      "metadata": {},
      "source": [
        "Load an example dataset, the preload flag loads the data into memory now\n\n"
      ]
    },
    {
      "cell_type": "code",
      "execution_count": null,
      "metadata": {
        "collapsed": false
      },
      "outputs": [],
      "source": [
        "data_path = op.join(mne.datasets.sample.data_path(), 'MEG',\n                    'sample', 'sample_audvis_raw.fif')\nraw = mne.io.read_raw_fif(data_path, preload=True)\nraw = raw.crop(0, 10)\nprint(raw)"
      ]
    },
    {
      "cell_type": "markdown",
      "metadata": {},
      "source": [
        "## Signal processing\n\nMost MNE objects have in-built methods for filtering:\n\n"
      ]
    },
    {
      "cell_type": "code",
      "execution_count": null,
      "metadata": {
        "collapsed": false
      },
      "outputs": [],
      "source": [
        "filt_bands = [(1, 3), (3, 10), (10, 20), (20, 60)]\n_, (ax, ax2) = plt.subplots(2, 1, figsize=(15, 10))\ndata, times = raw[0]\n_ = ax.plot(data[0])\nfor fmin, fmax in filt_bands:\n    raw_filt = raw.copy()\n    raw_filt.filter(fmin, fmax, fir_design='firwin')\n    _ = ax2.plot(raw_filt[0][0][0])\nax2.legend(filt_bands)\nax.set_title('Raw data')\nax2.set_title('Band-pass filtered data')"
      ]
    },
    {
      "cell_type": "markdown",
      "metadata": {},
      "source": [
        "In addition, there are functions for applying the Hilbert transform, which is\nuseful to calculate phase / amplitude of your signal.\n\n"
      ]
    },
    {
      "cell_type": "code",
      "execution_count": null,
      "metadata": {
        "collapsed": false
      },
      "outputs": [],
      "source": [
        "# Filter signal with a fairly steep filter, then take hilbert transform\n\nraw_band = raw.copy()\nraw_band.filter(12, 18, l_trans_bandwidth=2., h_trans_bandwidth=2.,\n                fir_design='firwin')\nraw_hilb = raw_band.copy()\nhilb_picks = mne.pick_types(raw_band.info, meg=False, eeg=True)\nraw_hilb.apply_hilbert(hilb_picks)\nprint(raw_hilb[0][0].dtype)"
      ]
    },
    {
      "cell_type": "markdown",
      "metadata": {},
      "source": [
        "Finally, it is possible to apply arbitrary functions to your data to do\nwhat you want. Here we will use this to take the amplitude and phase of\nthe hilbert transformed data.\n\n<div class=\"alert alert-info\"><h4>Note</h4><p>You can also use ``envelope=True`` in the call to\n          :meth:`mne.io.Raw.apply_hilbert` to do this automatically.</p></div>\n\n\n"
      ]
    },
    {
      "cell_type": "code",
      "execution_count": null,
      "metadata": {
        "collapsed": false
      },
      "outputs": [],
      "source": [
        "# Take the amplitude and phase\nraw_amp = raw_hilb.copy()\nraw_amp.apply_function(np.abs, hilb_picks)\nraw_phase = raw_hilb.copy()\nraw_phase.apply_function(np.angle, hilb_picks)\n\n_, (a1, a2) = plt.subplots(2, 1, figsize=(15, 10))\na1.plot(raw_band[hilb_picks[0]][0][0].real)\na1.plot(raw_amp[hilb_picks[0]][0][0].real)\na2.plot(raw_phase[hilb_picks[0]][0][0].real)\na1.set_title('Amplitude of frequency band')\na2.set_title('Phase of frequency band')"
      ]
    }
  ],
  "metadata": {
    "kernelspec": {
      "display_name": "Python 3",
      "language": "python",
      "name": "python3"
    },
    "language_info": {
      "codemirror_mode": {
        "name": "ipython",
        "version": 3
      },
      "file_extension": ".py",
      "mimetype": "text/x-python",
      "name": "python",
      "nbconvert_exporter": "python",
      "pygments_lexer": "ipython3",
      "version": "3.8.5"
    }
  },
  "nbformat": 4,
  "nbformat_minor": 0
}