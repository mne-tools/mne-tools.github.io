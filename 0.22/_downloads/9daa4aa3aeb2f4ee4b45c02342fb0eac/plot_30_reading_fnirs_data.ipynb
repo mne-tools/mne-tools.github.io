{
  "cells": [
    {
      "cell_type": "code",
      "execution_count": null,
      "metadata": {
        "collapsed": false
      },
      "outputs": [],
      "source": [
        "%matplotlib inline"
      ]
    },
    {
      "cell_type": "markdown",
      "metadata": {},
      "source": [
        "\n\n# Importing data from fNIRS devices\n\nMNE includes various functions and utilities for reading NIRS\ndata and optode locations.\n   :depth: 2\n\n\n\n## NIRx (directory)\n\nNIRx recordings can be read in using :func:`mne.io.read_raw_nirx`.\nThe NIRx device stores data directly to a directory with multiple file types,\nMNE extracts the appropriate information from each file.\n\n\n\n## SNIRF (.snirf)\n\nData stored in the SNIRF format can be read in\nusing :func:`mne.io.read_raw_snirf`.\n\n<div class=\"alert alert-danger\"><h4>Warning</h4><p>The SNIRF format has provisions for many different types of NIRS\n             recordings. MNE currently only supports continuous wave data\n             stored in the .snirf format.</p></div>\n\n\n\n## BOXY (.txt)\n\nBOXY recordings can be read in using :func:`mne.io.read_raw_boxy`.\nThe BOXY software and ISS Imagent I and II devices are frequency domain\nsystems that store data in a single ``.txt`` file containing what they call\n(with MNE's name for that type of data in parens):\n\n- DC\n    All light collected by the detector (``fnirs_cw_amplitude``)\n- AC\n    High-frequency modulated light intensity (``fnirs_fd_ac_amplitude``)\n- Phase\n    Phase of the modulated light (``fnirs_fd_phase``)\n\nDC data is stored as the type ``fnirs_cw_amplitude`` because it\ncollects both the modulated and any unmodulated light, and hence is analogous\nto what is collected by continuous wave systems such as NIRx. This helps with\nconformance to SNIRF standard types.\n\nThese raw data files can be saved by the acquisition devices as parsed or\nunparsed ``.txt`` files, which affects how the data in the file is organised.\nMNE will read either file type and extract the raw DC, AC, and Phase data.\nIf triggers are sent using the ``digaux`` port of the recording hardware, MNE\nwill also read the ``digaux`` data and create annotations for any triggers.\n\n\n## Storing of optode locations\n\nNIRs devices consist of light sources and light detectors.\nA channel is formed by source-detector pairs.\nMNE stores the location of the channels, sources, and detectors.\n\n\n<div class=\"alert alert-danger\"><h4>Warning</h4><p>Information about device light wavelength is stored in\n             channel names. Manual modification of channel names is not\n             recommended.</p></div>\n"
      ]
    }
  ],
  "metadata": {
    "kernelspec": {
      "display_name": "Python 3",
      "language": "python",
      "name": "python3"
    },
    "language_info": {
      "codemirror_mode": {
        "name": "ipython",
        "version": 3
      },
      "file_extension": ".py",
      "mimetype": "text/x-python",
      "name": "python",
      "nbconvert_exporter": "python",
      "pygments_lexer": "ipython3",
      "version": "3.8.5"
    }
  },
  "nbformat": 4,
  "nbformat_minor": 0
}