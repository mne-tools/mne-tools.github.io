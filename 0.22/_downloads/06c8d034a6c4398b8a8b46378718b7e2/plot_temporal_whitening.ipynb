{
  "cells": [
    {
      "cell_type": "code",
      "execution_count": null,
      "metadata": {
        "collapsed": false
      },
      "outputs": [],
      "source": [
        "%matplotlib inline"
      ]
    },
    {
      "cell_type": "markdown",
      "metadata": {},
      "source": [
        "\n# Temporal whitening with AR model\n\nHere we fit an AR model to the data and use it\nto temporally whiten the signals.\n"
      ]
    },
    {
      "cell_type": "code",
      "execution_count": null,
      "metadata": {
        "collapsed": false
      },
      "outputs": [],
      "source": [
        "# Authors: Alexandre Gramfort <alexandre.gramfort@inria.fr>\n#\n# License: BSD (3-clause)\n\nimport numpy as np\nfrom scipy import signal\nimport matplotlib.pyplot as plt\n\nimport mne\nfrom mne.time_frequency import fit_iir_model_raw\nfrom mne.datasets import sample\n\nprint(__doc__)\n\ndata_path = sample.data_path()\n\nraw_fname = data_path + '/MEG/sample/sample_audvis_raw.fif'\nproj_fname = data_path + '/MEG/sample/sample_audvis_ecg-proj.fif'\n\nraw = mne.io.read_raw_fif(raw_fname)\nproj = mne.read_proj(proj_fname)\nraw.info['projs'] += proj\nraw.info['bads'] = ['MEG 2443', 'EEG 053']  # mark bad channels\n\n# Set up pick list: Gradiometers - bad channels\npicks = mne.pick_types(raw.info, meg='grad', exclude='bads')\n\norder = 5  # define model order\npicks = picks[:1]\n\n# Estimate AR models on raw data\nb, a = fit_iir_model_raw(raw, order=order, picks=picks, tmin=60, tmax=180)\nd, times = raw[0, 10000:20000]  # look at one channel from now on\nd = d.ravel()  # make flat vector\ninnovation = signal.convolve(d, a, 'valid')\nd_ = signal.lfilter(b, a, innovation)  # regenerate the signal\nd_ = np.r_[d_[0] * np.ones(order), d_]  # dummy samples to keep signal length"
      ]
    },
    {
      "cell_type": "markdown",
      "metadata": {},
      "source": [
        "Plot the different time series and PSDs\n\n"
      ]
    },
    {
      "cell_type": "code",
      "execution_count": null,
      "metadata": {
        "collapsed": false
      },
      "outputs": [],
      "source": [
        "plt.close('all')\nplt.figure()\nplt.plot(d[:100], label='signal')\nplt.plot(d_[:100], label='regenerated signal')\nplt.legend()\n\nplt.figure()\nplt.psd(d, Fs=raw.info['sfreq'], NFFT=2048)\nplt.psd(innovation, Fs=raw.info['sfreq'], NFFT=2048)\nplt.psd(d_, Fs=raw.info['sfreq'], NFFT=2048, linestyle='--')\nplt.legend(('Signal', 'Innovation', 'Regenerated signal'))\nplt.show()"
      ]
    }
  ],
  "metadata": {
    "kernelspec": {
      "display_name": "Python 3",
      "language": "python",
      "name": "python3"
    },
    "language_info": {
      "codemirror_mode": {
        "name": "ipython",
        "version": 3
      },
      "file_extension": ".py",
      "mimetype": "text/x-python",
      "name": "python",
      "nbconvert_exporter": "python",
      "pygments_lexer": "ipython3",
      "version": "3.8.5"
    }
  },
  "nbformat": 4,
  "nbformat_minor": 0
}