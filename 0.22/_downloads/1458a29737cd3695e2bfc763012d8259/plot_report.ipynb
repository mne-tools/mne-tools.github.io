{
  "cells": [
    {
      "cell_type": "code",
      "execution_count": null,
      "metadata": {
        "collapsed": false
      },
      "outputs": [],
      "source": [
        "%matplotlib inline"
      ]
    },
    {
      "cell_type": "markdown",
      "metadata": {},
      "source": [
        "\n\n# Getting started with ``mne.Report``\n\nThis tutorial covers making interactive HTML summaries with\n:class:`mne.Report`.\n   :depth: 2\n\nAs usual we'll start by importing the modules we need and loading some\n`example data <sample-dataset>`:\n"
      ]
    },
    {
      "cell_type": "code",
      "execution_count": null,
      "metadata": {
        "collapsed": false
      },
      "outputs": [],
      "source": [
        "import os\nimport mne"
      ]
    },
    {
      "cell_type": "markdown",
      "metadata": {},
      "source": [
        "Before getting started with :class:`mne.Report`, make sure the files you want\nto render follow the filename conventions defined by MNE:\n\n.. cssclass:: table-bordered\n.. rst-class:: midvalign\n\n============== ==============================================================\nData object    Filename convention (ends with)\n============== ==============================================================\nraw            -raw.fif(.gz), -raw_sss.fif(.gz), -raw_tsss.fif(.gz), _meg.fif\nevents         -eve.fif(.gz)\nepochs         -epo.fif(.gz)\nevoked         -ave.fif(.gz)\ncovariance     -cov.fif(.gz)\nSSP projectors -proj.fif(.gz)\ntrans          -trans.fif(.gz)\nforward        -fwd.fif(.gz)\ninverse        -inv.fif(.gz)\n============== ==============================================================\n\nAlternatively, the dash ``-`` in the filename may be replaced with an\nunderscore ``_``.\n\n## Basic reports\n\nThe basic process for creating an HTML report is to instantiate the\n:class:`~mne.Report` class, then use the :meth:`~mne.Report.parse_folder`\nmethod to select particular files to include in the report. Which files are\nincluded depends on both the ``pattern`` parameter passed to\n:meth:`~mne.Report.parse_folder` and also the ``subject`` and\n``subjects_dir`` parameters provided to the :class:`~mne.Report` constructor.\n\n.. sidebar: Viewing the report\n\n   On successful creation of the report, the :meth:`~mne.Report.save` method\n   will open the HTML in a new tab in the browser. To disable this, use the\n   ``open_browser=False`` parameter of :meth:`~mne.Report.save`.\n\nFor our first example, we'll generate a barebones report for all the\n:file:`.fif` files containing raw data in the sample dataset, by passing the\npattern ``*raw.fif`` to :meth:`~mne.Report.parse_folder`. We'll omit the\n``subject`` and ``subjects_dir`` parameters from the :class:`~mne.Report`\nconstructor, but we'll also pass ``render_bem=False`` to the\n:meth:`~mne.Report.parse_folder` method \u2014 otherwise we would get a warning\nabout not being able to render MRI and ``trans`` files without knowing the\nsubject.\n\n"
      ]
    },
    {
      "cell_type": "code",
      "execution_count": null,
      "metadata": {
        "collapsed": false
      },
      "outputs": [],
      "source": [
        "path = mne.datasets.sample.data_path(verbose=False)\nreport = mne.Report(verbose=True)\nreport.parse_folder(path, pattern='*raw.fif', render_bem=False)\nreport.save('report_basic.html', overwrite=True)"
      ]
    },
    {
      "cell_type": "markdown",
      "metadata": {},
      "source": [
        "This report yields a textual summary of the :class:`~mne.io.Raw` files\nselected by the pattern. For a slightly more useful report, we'll ask for the\npower spectral density of the :class:`~mne.io.Raw` files, by passing\n``raw_psd=True`` to the :class:`~mne.Report` constructor. We'll also\nvisualize the SSP projectors stored in the raw data's `~mne.Info` dictionary\nby setting ``projs=True``. Lastly, let's also refine our pattern to select\nonly the filtered raw recording (omitting the unfiltered data and the\nempty-room noise recordings):\n\n"
      ]
    },
    {
      "cell_type": "code",
      "execution_count": null,
      "metadata": {
        "collapsed": false
      },
      "outputs": [],
      "source": [
        "pattern = 'sample_audvis_filt-0-40_raw.fif'\nreport = mne.Report(raw_psd=True, projs=True, verbose=True)\nreport.parse_folder(path, pattern=pattern, render_bem=False)\nreport.save('report_raw_psd.html', overwrite=True)"
      ]
    },
    {
      "cell_type": "markdown",
      "metadata": {},
      "source": [
        "The sample dataset also contains SSP projectors stored as *individual files*.\nTo add them to a report, we also have to provide the path to a file\ncontaining an `~mne.Info` dictionary, from which the channel locations can be\nread.\n\n"
      ]
    },
    {
      "cell_type": "code",
      "execution_count": null,
      "metadata": {
        "collapsed": false
      },
      "outputs": [],
      "source": [
        "info_fname = os.path.join(path, 'MEG', 'sample',\n                          'sample_audvis_filt-0-40_raw.fif')\npattern = 'sample_audvis_*proj.fif'\nreport = mne.Report(info_fname=info_fname, verbose=True)\nreport.parse_folder(path, pattern=pattern, render_bem=False)\nreport.save('report_proj.html', overwrite=True)"
      ]
    },
    {
      "cell_type": "markdown",
      "metadata": {},
      "source": [
        "This time we'll pass a specific ``subject`` and ``subjects_dir`` (even though\nthere's only one subject in the sample dataset) and remove our\n``render_bem=False`` parameter so we can see the MRI slices, with BEM\ncontours overlaid on top if available. Since this is computationally\nexpensive, we'll also pass the ``mri_decim`` parameter for the benefit of our\ndocumentation servers, and skip processing the :file:`.fif` files:\n\n"
      ]
    },
    {
      "cell_type": "code",
      "execution_count": null,
      "metadata": {
        "collapsed": false
      },
      "outputs": [],
      "source": [
        "subjects_dir = os.path.join(path, 'subjects')\nreport = mne.Report(subject='sample', subjects_dir=subjects_dir, verbose=True)\nreport.parse_folder(path, pattern='', mri_decim=25)\nreport.save('report_mri_bem.html', overwrite=True)"
      ]
    },
    {
      "cell_type": "markdown",
      "metadata": {},
      "source": [
        "Now let's look at how :class:`~mne.Report` handles :class:`~mne.Evoked` data\n(we'll skip the MRIs to save computation time). The following code will\nproduce butterfly plots, topomaps, and comparisons of the global field\npower (GFP) for different experimental conditions.\n\n"
      ]
    },
    {
      "cell_type": "code",
      "execution_count": null,
      "metadata": {
        "collapsed": false
      },
      "outputs": [],
      "source": [
        "pattern = 'sample_audvis-no-filter-ave.fif'\nreport = mne.Report(verbose=True)\nreport.parse_folder(path, pattern=pattern, render_bem=False)\nreport.save('report_evoked.html', overwrite=True)"
      ]
    },
    {
      "cell_type": "markdown",
      "metadata": {},
      "source": [
        "You have probably noticed that the EEG recordings look particularly odd. This\nis because by default, `~mne.Report` does not apply baseline correction\nbefore rendering evoked data. So if the dataset you wish to add to the report\nhas not been baseline-corrected already, you can request baseline correction\nhere. The MNE sample dataset we're using in this example has **not** been\nbaseline-corrected; so let's do this now for the report!\n\nTo request baseline correction, pass a ``baseline`` argument to\n`~mne.Report`, which should be a tuple with the starting and ending time of\nthe baseline period. For more details, see the documentation on\n`~mne.Evoked.apply_baseline`. Here, we will apply baseline correction for a\nbaseline period from the beginning of the time interval to time point zero.\n\n"
      ]
    },
    {
      "cell_type": "code",
      "execution_count": null,
      "metadata": {
        "collapsed": false
      },
      "outputs": [],
      "source": [
        "baseline = (None, 0)\npattern = 'sample_audvis-no-filter-ave.fif'\nreport = mne.Report(baseline=baseline, verbose=True)\nreport.parse_folder(path, pattern=pattern, render_bem=False)\nreport.save('report_evoked_baseline.html', overwrite=True)"
      ]
    },
    {
      "cell_type": "markdown",
      "metadata": {},
      "source": [
        "To render whitened :class:`~mne.Evoked` files with baseline correction, pass\nthe ``baseline`` argument we just used, and add the noise covariance file.\nThis will display ERP/ERF plots for both the original and whitened\n:class:`~mne.Evoked` objects, but scalp topomaps only for the original.\n\n"
      ]
    },
    {
      "cell_type": "code",
      "execution_count": null,
      "metadata": {
        "collapsed": false
      },
      "outputs": [],
      "source": [
        "cov_fname = os.path.join(path, 'MEG', 'sample', 'sample_audvis-cov.fif')\nbaseline = (None, 0)\nreport = mne.Report(cov_fname=cov_fname, baseline=baseline, verbose=True)\nreport.parse_folder(path, pattern=pattern, render_bem=False)\nreport.save('report_evoked_whitened.html', overwrite=True)"
      ]
    },
    {
      "cell_type": "markdown",
      "metadata": {},
      "source": [
        "If you want to actually *view* the noise covariance in the report, make sure\nit is captured by the pattern passed to :meth:`~mne.Report.parse_folder`, and\nalso include a source for an :class:`~mne.Info` object (any of the\n:class:`~mne.io.Raw`, :class:`~mne.Epochs` or :class:`~mne.Evoked`\n:file:`.fif` files that contain subject data also contain the measurement\ninformation and should work):\n\n"
      ]
    },
    {
      "cell_type": "code",
      "execution_count": null,
      "metadata": {
        "collapsed": false
      },
      "outputs": [],
      "source": [
        "pattern = 'sample_audvis-cov.fif'\ninfo_fname = os.path.join(path, 'MEG', 'sample', 'sample_audvis-ave.fif')\nreport = mne.Report(info_fname=info_fname, verbose=True)\nreport.parse_folder(path, pattern=pattern, render_bem=False)\nreport.save('report_cov.html', overwrite=True)"
      ]
    },
    {
      "cell_type": "markdown",
      "metadata": {},
      "source": [
        "## Adding custom plots to a report\n\nThe python interface has greater flexibility compared to the `command\nline interface <mne report>`. For example, custom plots can be added via\nthe :meth:`~mne.Report.add_figs_to_section` method:\n\n"
      ]
    },
    {
      "cell_type": "code",
      "execution_count": null,
      "metadata": {
        "collapsed": false
      },
      "outputs": [],
      "source": [
        "# generate a custom plot:\nfname_evoked = os.path.join(path, 'MEG', 'sample', 'sample_audvis-ave.fif')\nevoked = mne.read_evokeds(fname_evoked,\n                          condition='Left Auditory',\n                          baseline=(None, 0),\n                          verbose=True)\nfig = evoked.plot(show=False)\n\n# add the custom plot to the report:\nreport.add_figs_to_section(fig, captions='Left Auditory', section='evoked')\nreport.save('report_custom.html', overwrite=True)"
      ]
    },
    {
      "cell_type": "markdown",
      "metadata": {},
      "source": [
        "## Managing report sections\n\nThe MNE report command internally manages the sections so that plots\nbelonging to the same section are rendered consecutively. Within a section,\nthe plots are ordered in the same order that they were added using the\n:meth:`~mne.Report.add_figs_to_section` command. Each section is identified\nby a toggle button in the top navigation bar of the report which can be used\nto show or hide the contents of the section. To toggle the show/hide state of\nall sections in the HTML report, press :kbd:`t`.\n\n<div class=\"alert alert-info\"><h4>Note</h4><p>Although we've been generating separate reports in each example, you could\n   easily create a single report for all :file:`.fif` files (raw, evoked,\n   covariance, etc) by passing ``pattern='*.fif'``.</p></div>\n\n\n## Editing a saved report\n\nSaving to HTML is a write-only operation, meaning that we cannot read an\n``.html`` file back as a :class:`~mne.Report` object. In order to be able\nto edit a report once it's no longer in-memory in an active Python session,\nsave it as an HDF5 file instead of HTML:\n\n"
      ]
    },
    {
      "cell_type": "code",
      "execution_count": null,
      "metadata": {
        "collapsed": false
      },
      "outputs": [],
      "source": [
        "report.save('report.h5', overwrite=True)\nreport_from_disk = mne.open_report('report.h5')\nprint(report_from_disk)"
      ]
    },
    {
      "cell_type": "markdown",
      "metadata": {},
      "source": [
        "This allows the possibility of multiple scripts adding figures to the same\nreport. To make this even easier, :class:`mne.Report` can be used as a\ncontext manager:\n\n"
      ]
    },
    {
      "cell_type": "code",
      "execution_count": null,
      "metadata": {
        "collapsed": false
      },
      "outputs": [],
      "source": [
        "with mne.open_report('report.h5') as report:\n    report.add_figs_to_section(fig,\n                               captions='Left Auditory',\n                               section='evoked',\n                               replace=True)\n    report.save('report_final.html', overwrite=True)"
      ]
    },
    {
      "cell_type": "markdown",
      "metadata": {},
      "source": [
        "With the context manager, the updated report is also automatically saved\nback to :file:`report.h5` upon leaving the block.\n\n"
      ]
    }
  ],
  "metadata": {
    "kernelspec": {
      "display_name": "Python 3",
      "language": "python",
      "name": "python3"
    },
    "language_info": {
      "codemirror_mode": {
        "name": "ipython",
        "version": 3
      },
      "file_extension": ".py",
      "mimetype": "text/x-python",
      "name": "python",
      "nbconvert_exporter": "python",
      "pygments_lexer": "ipython3",
      "version": "3.8.5"
    }
  },
  "nbformat": 4,
  "nbformat_minor": 0
}