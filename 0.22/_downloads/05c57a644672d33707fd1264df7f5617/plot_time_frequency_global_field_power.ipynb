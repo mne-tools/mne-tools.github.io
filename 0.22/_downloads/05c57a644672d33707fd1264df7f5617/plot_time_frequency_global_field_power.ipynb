{
  "cells": [
    {
      "cell_type": "code",
      "execution_count": null,
      "metadata": {
        "collapsed": false
      },
      "outputs": [],
      "source": [
        "%matplotlib inline"
      ]
    },
    {
      "cell_type": "markdown",
      "metadata": {},
      "source": [
        "\n\n# Explore event-related dynamics for specific frequency bands\n\nThe objective is to show you how to explore spectrally localized\neffects. For this purpose we adapt the method described in [1]_ and use it on\nthe somato dataset. The idea is to track the band-limited temporal evolution\nof spatial patterns by using the :term:`Global Field Power(GFP) <GFP>`.\n\nWe first bandpass filter the signals and then apply a Hilbert transform. To\nreveal oscillatory activity the evoked response is then subtracted from every\nsingle trial. Finally, we rectify the signals prior to averaging across trials\nby taking the magniude of the Hilbert.\nThen the :term:`GFP` is computed as described in [2]_, using the sum of the\nsquares but without normalization by the rank.\nBaselining is subsequently applied to make the :term:`GFPs <GFP>` comparable\nbetween frequencies.\nThe procedure is then repeated for each frequency band of interest and\nall :term:`GFPs <GFP>` are visualized. To estimate uncertainty, non-parametric\nconfidence intervals are computed as described in [3]_ across channels.\n\nThe advantage of this method over summarizing the Space x Time x Frequency\noutput of a Morlet Wavelet in frequency bands is relative speed and, more\nimportantly, the clear-cut comparability of the spectral decomposition (the\nsame type of filter is used across all bands).\n\nWe will use this dataset: `somato-dataset`\n\n## References\n\n.. [1] Hari R. and Salmelin R. Human cortical oscillations: a neuromagnetic\n       view through the skull (1997). Trends in Neuroscience 20 (1),\n       pp. 44-49.\n.. [2] Engemann D. and Gramfort A. (2015) Automated model selection in\n       covariance estimation and spatial whitening of MEG and EEG signals,\n       vol. 108, 328-342, NeuroImage.\n.. [3] Efron B. and Hastie T. Computer Age Statistical Inference (2016).\n       Cambrdige University Press, Chapter 11.2.\n"
      ]
    },
    {
      "cell_type": "code",
      "execution_count": null,
      "metadata": {
        "collapsed": false
      },
      "outputs": [],
      "source": [
        "# Authors: Denis A. Engemann <denis.engemann@gmail.com>\n#          Stefan Appelhoff <stefan.appelhoff@mailbox.org>\n#\n# License: BSD (3-clause)\nimport os.path as op\n\nimport numpy as np\nimport matplotlib.pyplot as plt\n\nimport mne\nfrom mne.datasets import somato\nfrom mne.baseline import rescale\nfrom mne.stats import bootstrap_confidence_interval"
      ]
    },
    {
      "cell_type": "markdown",
      "metadata": {},
      "source": [
        "Set parameters\n\n"
      ]
    },
    {
      "cell_type": "code",
      "execution_count": null,
      "metadata": {
        "collapsed": false
      },
      "outputs": [],
      "source": [
        "data_path = somato.data_path()\nsubject = '01'\ntask = 'somato'\nraw_fname = op.join(data_path, 'sub-{}'.format(subject), 'meg',\n                    'sub-{}_task-{}_meg.fif'.format(subject, task))\n\n# let's explore some frequency bands\niter_freqs = [\n    ('Theta', 4, 7),\n    ('Alpha', 8, 12),\n    ('Beta', 13, 25),\n    ('Gamma', 30, 45)\n]"
      ]
    },
    {
      "cell_type": "markdown",
      "metadata": {},
      "source": [
        "We create average power time courses for each frequency band\n\n"
      ]
    },
    {
      "cell_type": "code",
      "execution_count": null,
      "metadata": {
        "collapsed": false
      },
      "outputs": [],
      "source": [
        "# set epoching parameters\nevent_id, tmin, tmax = 1, -1., 3.\nbaseline = None\n\n# get the header to extract events\nraw = mne.io.read_raw_fif(raw_fname)\nevents = mne.find_events(raw, stim_channel='STI 014')\n\nfrequency_map = list()\n\nfor band, fmin, fmax in iter_freqs:\n    # (re)load the data to save memory\n    raw = mne.io.read_raw_fif(raw_fname)\n    raw.pick_types(meg='grad', eog=True)  # we just look at gradiometers\n    raw.load_data()\n\n    # bandpass filter\n    raw.filter(fmin, fmax, n_jobs=1,  # use more jobs to speed up.\n               l_trans_bandwidth=1,  # make sure filter params are the same\n               h_trans_bandwidth=1)  # in each band and skip \"auto\" option.\n\n    # epoch\n    epochs = mne.Epochs(raw, events, event_id, tmin, tmax, baseline=baseline,\n                        reject=dict(grad=4000e-13, eog=350e-6),\n                        preload=True)\n    # remove evoked response\n    epochs.subtract_evoked()\n\n    # get analytic signal (envelope)\n    epochs.apply_hilbert(envelope=True)\n    frequency_map.append(((band, fmin, fmax), epochs.average()))\n    del epochs\ndel raw"
      ]
    },
    {
      "cell_type": "markdown",
      "metadata": {},
      "source": [
        "Now we can compute the Global Field Power\nWe can track the emergence of spatial patterns compared to baseline\nfor each frequency band, with a bootstrapped confidence interval.\n\nWe see dominant responses in the Alpha and Beta bands.\n\n"
      ]
    },
    {
      "cell_type": "code",
      "execution_count": null,
      "metadata": {
        "collapsed": false
      },
      "outputs": [],
      "source": [
        "# Helper function for plotting spread\ndef stat_fun(x):\n    \"\"\"Return sum of squares.\"\"\"\n    return np.sum(x ** 2, axis=0)\n\n\n# Plot\nfig, axes = plt.subplots(4, 1, figsize=(10, 7), sharex=True, sharey=True)\ncolors = plt.get_cmap('winter_r')(np.linspace(0, 1, 4))\nfor ((freq_name, fmin, fmax), average), color, ax in zip(\n        frequency_map, colors, axes.ravel()[::-1]):\n    times = average.times * 1e3\n    gfp = np.sum(average.data ** 2, axis=0)\n    gfp = mne.baseline.rescale(gfp, times, baseline=(None, 0))\n    ax.plot(times, gfp, label=freq_name, color=color, linewidth=2.5)\n    ax.axhline(0, linestyle='--', color='grey', linewidth=2)\n    ci_low, ci_up = bootstrap_confidence_interval(average.data, random_state=0,\n                                                  stat_fun=stat_fun)\n    ci_low = rescale(ci_low, average.times, baseline=(None, 0))\n    ci_up = rescale(ci_up, average.times, baseline=(None, 0))\n    ax.fill_between(times, gfp + ci_up, gfp - ci_low, color=color, alpha=0.3)\n    ax.grid(True)\n    ax.set_ylabel('GFP')\n    ax.annotate('%s (%d-%dHz)' % (freq_name, fmin, fmax),\n                xy=(0.95, 0.8),\n                horizontalalignment='right',\n                xycoords='axes fraction')\n    ax.set_xlim(-1000, 3000)\n\naxes.ravel()[-1].set_xlabel('Time [ms]')"
      ]
    }
  ],
  "metadata": {
    "kernelspec": {
      "display_name": "Python 3",
      "language": "python",
      "name": "python3"
    },
    "language_info": {
      "codemirror_mode": {
        "name": "ipython",
        "version": 3
      },
      "file_extension": ".py",
      "mimetype": "text/x-python",
      "name": "python",
      "nbconvert_exporter": "python",
      "pygments_lexer": "ipython3",
      "version": "3.8.5"
    }
  },
  "nbformat": 4,
  "nbformat_minor": 0
}