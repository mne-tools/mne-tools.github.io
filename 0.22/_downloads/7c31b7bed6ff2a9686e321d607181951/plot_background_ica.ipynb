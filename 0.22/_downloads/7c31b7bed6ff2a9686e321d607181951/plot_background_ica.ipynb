{
  "cells": [
    {
      "cell_type": "code",
      "execution_count": null,
      "metadata": {
        "collapsed": false
      },
      "outputs": [],
      "source": [
        "%matplotlib inline"
      ]
    },
    {
      "cell_type": "markdown",
      "metadata": {},
      "source": [
        "\n\n# Background on Independent Component Analysis (ICA)\n   :depth: 2\n\nMany M/EEG signals including biological artifacts reflect non-Gaussian\nprocesses. Therefore PCA-based artifact rejection will likely perform worse at\nseparating the signal from noise sources.\nMNE-Python supports identifying artifacts and latent components using temporal ICA.\nMNE-Python implements the :class:`mne.preprocessing.ICA` class that facilitates applying ICA\nto MEG and EEG data. Here we discuss some\nbasics of ICA.\n\n## Concepts\n\nICA finds directions in the feature space corresponding to projections with high non-Gaussianity.\n\n- not necessarily orthogonal in the original feature space, but orthogonal in the whitened feature space.\n- In contrast, PCA finds orthogonal directions in the raw feature\n  space that correspond to directions accounting for maximum variance.\n- or differently, if data only reflect Gaussian processes ICA and PCA are equivalent.\n\n\n**Example**: Imagine 3 instruments playing simultaneously and 3 microphones\nrecording mixed signals. ICA can be used to recover the sources ie. what is played by each instrument.\n\nICA employs a very simple model: $X = AS$ where $X$ is our observations, $A$ is the mixing matrix and $S$ is the vector of independent (latent) sources.\n\nThe challenge is to recover $A$ and $S$ from $X$.\n\n\n### First generate simulated data\n"
      ]
    },
    {
      "cell_type": "code",
      "execution_count": null,
      "metadata": {
        "collapsed": false
      },
      "outputs": [],
      "source": [
        "import numpy as np\nimport matplotlib.pyplot as plt\nfrom scipy import signal\n\nfrom sklearn.decomposition import FastICA, PCA\n\nnp.random.seed(0)  # set seed for reproducible results\nn_samples = 2000\ntime = np.linspace(0, 8, n_samples)\n\ns1 = np.sin(2 * time)  # Signal 1 : sinusoidal signal\ns2 = np.sign(np.sin(3 * time))  # Signal 2 : square signal\ns3 = signal.sawtooth(2 * np.pi * time)  # Signal 3: sawtooth signal\n\nS = np.c_[s1, s2, s3]\nS += 0.2 * np.random.normal(size=S.shape)  # Add noise\n\nS /= S.std(axis=0)  # Standardize data\n# Mix data\nA = np.array([[1, 1, 1], [0.5, 2, 1.0], [1.5, 1.0, 2.0]])  # Mixing matrix\nX = np.dot(S, A.T)  # Generate observations"
      ]
    },
    {
      "cell_type": "markdown",
      "metadata": {},
      "source": [
        "### Now try to recover the sources\n\n"
      ]
    },
    {
      "cell_type": "code",
      "execution_count": null,
      "metadata": {
        "collapsed": false
      },
      "outputs": [],
      "source": [
        "# compute ICA\nica = FastICA(n_components=3)\nS_ = ica.fit_transform(X)  # Get the estimated sources\nA_ = ica.mixing_  # Get estimated mixing matrix\n\n# compute PCA\npca = PCA(n_components=3)\nH = pca.fit_transform(X)  # estimate PCA sources\n\nplt.figure(figsize=(9, 6))\n\nmodels = [X, S, S_, H]\nnames = ['Observations (mixed signal)',\n         'True Sources',\n         'ICA estimated sources',\n         'PCA estimated sources']\ncolors = ['red', 'steelblue', 'orange']\n\nfor ii, (model, name) in enumerate(zip(models, names), 1):\n    plt.subplot(4, 1, ii)\n    plt.title(name)\n    for sig, color in zip(model.T, colors):\n        plt.plot(sig, color=color)\n\nplt.tight_layout()"
      ]
    },
    {
      "cell_type": "markdown",
      "metadata": {},
      "source": [
        "$\\rightarrow$ PCA fails at recovering our \"instruments\" since the\nrelated signals reflect non-Gaussian processes.\n\n"
      ]
    }
  ],
  "metadata": {
    "kernelspec": {
      "display_name": "Python 3",
      "language": "python",
      "name": "python3"
    },
    "language_info": {
      "codemirror_mode": {
        "name": "ipython",
        "version": 3
      },
      "file_extension": ".py",
      "mimetype": "text/x-python",
      "name": "python",
      "nbconvert_exporter": "python",
      "pygments_lexer": "ipython3",
      "version": "3.8.5"
    }
  },
  "nbformat": 4,
  "nbformat_minor": 0
}