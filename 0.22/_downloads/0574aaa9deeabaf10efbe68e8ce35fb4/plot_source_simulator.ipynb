{
  "cells": [
    {
      "cell_type": "code",
      "execution_count": null,
      "metadata": {
        "collapsed": false
      },
      "outputs": [],
      "source": [
        "%matplotlib inline"
      ]
    },
    {
      "cell_type": "markdown",
      "metadata": {},
      "source": [
        "\n# Generate simulated source data\n\nThis example illustrates how to use the :class:`mne.simulation.SourceSimulator`\nclass to generate source estimates and raw data. It is meant to be a brief\nintroduction and only highlights the simplest use case.\n"
      ]
    },
    {
      "cell_type": "code",
      "execution_count": null,
      "metadata": {
        "collapsed": false
      },
      "outputs": [],
      "source": [
        "# Author: Kostiantyn Maksymenko <kostiantyn.maksymenko@gmail.com>\n#         Samuel Deslauriers-Gauthier <sam.deslauriers@gmail.com>\n#\n# License: BSD (3-clause)\n\nimport os.path as op\n\nimport numpy as np\n\nimport mne\nfrom mne.datasets import sample\n\nprint(__doc__)\n\n# For this example, we will be using the information of the sample subject.\n# This will download the data if it not already on your machine. We also set\n# the subjects directory so we don't need to give it to functions.\ndata_path = sample.data_path()\nsubjects_dir = op.join(data_path, 'subjects')\nsubject = 'sample'\n\n# First, we get an info structure from the test subject.\nevoked_fname = op.join(data_path, 'MEG', subject, 'sample_audvis-ave.fif')\ninfo = mne.io.read_info(evoked_fname)\ntstep = 1. / info['sfreq']\n\n# To simulate sources, we also need a source space. It can be obtained from the\n# forward solution of the sample subject.\nfwd_fname = op.join(data_path, 'MEG', subject,\n                    'sample_audvis-meg-eeg-oct-6-fwd.fif')\nfwd = mne.read_forward_solution(fwd_fname)\nsrc = fwd['src']\n\n# To select a region to activate, we use the caudal middle frontal to grow\n# a region of interest.\nselected_label = mne.read_labels_from_annot(\n    subject, regexp='caudalmiddlefrontal-lh', subjects_dir=subjects_dir)[0]\nlocation = 'center'  # Use the center of the region as a seed.\nextent = 10.  # Extent in mm of the region.\nlabel = mne.label.select_sources(\n    subject, selected_label, location=location, extent=extent,\n    subjects_dir=subjects_dir)\n\n# Define the time course of the activity for each source of the region to\n# activate. Here we use a sine wave at 18 Hz with a peak amplitude\n# of 10 nAm.\nsource_time_series = np.sin(2. * np.pi * 18. * np.arange(100) * tstep) * 10e-9\n\n# Define when the activity occurs using events. The first column is the sample\n# of the event, the second is not used, and the third is the event id. Here the\n# events occur every 200 samples.\nn_events = 50\nevents = np.zeros((n_events, 3))\nevents[:, 0] = 100 + 200 * np.arange(n_events)  # Events sample.\nevents[:, 2] = 1  # All events have the sample id.\n\n# Create simulated source activity. Here we use a SourceSimulator whose\n# add_data method is key. It specified where (label), what\n# (source_time_series), and when (events) an event type will occur.\nsource_simulator = mne.simulation.SourceSimulator(src, tstep=tstep)\nsource_simulator.add_data(label, source_time_series, events)\n\n# Project the source time series to sensor space and add some noise. The source\n# simulator can be given directly to the simulate_raw function.\nraw = mne.simulation.simulate_raw(info, source_simulator, forward=fwd)\ncov = mne.make_ad_hoc_cov(raw.info)\nmne.simulation.add_noise(raw, cov, iir_filter=[0.2, -0.2, 0.04])\nraw.plot()\n\n# Plot evoked data to get another view of the simulated raw data.\nevents = mne.find_events(raw)\nepochs = mne.Epochs(raw, events, 1, tmin=-0.05, tmax=0.2)\nevoked = epochs.average()\nevoked.plot()"
      ]
    }
  ],
  "metadata": {
    "kernelspec": {
      "display_name": "Python 3",
      "language": "python",
      "name": "python3"
    },
    "language_info": {
      "codemirror_mode": {
        "name": "ipython",
        "version": 3
      },
      "file_extension": ".py",
      "mimetype": "text/x-python",
      "name": "python",
      "nbconvert_exporter": "python",
      "pygments_lexer": "ipython3",
      "version": "3.8.5"
    }
  },
  "nbformat": 4,
  "nbformat_minor": 0
}