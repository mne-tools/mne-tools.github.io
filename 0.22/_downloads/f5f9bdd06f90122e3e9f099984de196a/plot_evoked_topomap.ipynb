{
  "cells": [
    {
      "cell_type": "code",
      "execution_count": null,
      "metadata": {
        "collapsed": false
      },
      "outputs": [],
      "source": [
        "%matplotlib inline"
      ]
    },
    {
      "cell_type": "markdown",
      "metadata": {},
      "source": [
        "\n\n# Plotting topographic maps of evoked data\n\nLoad evoked data and plot topomaps for selected time points using multiple\nadditional options.\n"
      ]
    },
    {
      "cell_type": "code",
      "execution_count": null,
      "metadata": {
        "collapsed": false
      },
      "outputs": [],
      "source": [
        "# Authors: Christian Brodbeck <christianbrodbeck@nyu.edu>\n#          Tal Linzen <linzen@nyu.edu>\n#          Denis A. Engeman <denis.engemann@gmail.com>\n#          Miko\u0142aj Magnuski <mmagnuski@swps.edu.pl>\n#          Eric Larson <larson.eric.d@gmail.com>\n#\n# License: BSD (3-clause)\n\nimport numpy as np\nimport matplotlib.pyplot as plt\n\nfrom mne.datasets import sample\nfrom mne import read_evokeds\n\nprint(__doc__)\n\npath = sample.data_path()\nfname = path + '/MEG/sample/sample_audvis-ave.fif'\n\n# load evoked corresponding to a specific condition\n# from the fif file and subtract baseline\ncondition = 'Left Auditory'\nevoked = read_evokeds(fname, condition=condition, baseline=(None, 0))"
      ]
    },
    {
      "cell_type": "markdown",
      "metadata": {},
      "source": [
        "## Basic :func:`~mne.viz.plot_topomap` options\n\nWe plot evoked topographies using :func:`mne.Evoked.plot_topomap`. The first\nargument, ``times`` allows to specify time instants (in seconds!) for which\ntopographies will be shown. We select timepoints from 50 to 150 ms with a\nstep of 20ms and plot magnetometer data:\n\n"
      ]
    },
    {
      "cell_type": "code",
      "execution_count": null,
      "metadata": {
        "collapsed": false
      },
      "outputs": [],
      "source": [
        "times = np.arange(0.05, 0.151, 0.02)\nevoked.plot_topomap(times, ch_type='mag', time_unit='s')"
      ]
    },
    {
      "cell_type": "markdown",
      "metadata": {},
      "source": [
        "If times is set to None at most 10 regularly spaced topographies will be\nshown:\n\n"
      ]
    },
    {
      "cell_type": "code",
      "execution_count": null,
      "metadata": {
        "collapsed": false
      },
      "outputs": [],
      "source": [
        "evoked.plot_topomap(ch_type='mag', time_unit='s')"
      ]
    },
    {
      "cell_type": "markdown",
      "metadata": {},
      "source": [
        "We can use ``nrows`` and ``ncols`` parameter to create multiline plots\nwith more timepoints.\n\n"
      ]
    },
    {
      "cell_type": "code",
      "execution_count": null,
      "metadata": {
        "collapsed": false
      },
      "outputs": [],
      "source": [
        "all_times = np.arange(-0.2, 0.5, 0.03)\nevoked.plot_topomap(all_times, ch_type='mag', time_unit='s',\n                    ncols=8, nrows='auto')"
      ]
    },
    {
      "cell_type": "markdown",
      "metadata": {},
      "source": [
        "Instead of showing topographies at specific time points we can compute\naverages of 50 ms bins centered on these time points to reduce the noise in\nthe topographies:\n\n"
      ]
    },
    {
      "cell_type": "code",
      "execution_count": null,
      "metadata": {
        "collapsed": false
      },
      "outputs": [],
      "source": [
        "evoked.plot_topomap(times, ch_type='mag', average=0.05, time_unit='s')"
      ]
    },
    {
      "cell_type": "markdown",
      "metadata": {},
      "source": [
        "We can plot gradiometer data (plots the RMS for each pair of gradiometers)\n\n"
      ]
    },
    {
      "cell_type": "code",
      "execution_count": null,
      "metadata": {
        "collapsed": false
      },
      "outputs": [],
      "source": [
        "evoked.plot_topomap(times, ch_type='grad', time_unit='s')"
      ]
    },
    {
      "cell_type": "markdown",
      "metadata": {},
      "source": [
        "## Additional :func:`~mne.viz.plot_topomap` options\n\nWe can also use a range of various :func:`mne.viz.plot_topomap` arguments\nthat control how the topography is drawn. For example:\n\n* ``cmap`` - to specify the color map\n* ``res`` - to control the resolution of the topographies (lower resolution\n  means faster plotting)\n* ``outlines='skirt'`` to see the topography stretched beyond the head circle\n* ``contours`` to define how many contour lines should be plotted\n\n"
      ]
    },
    {
      "cell_type": "code",
      "execution_count": null,
      "metadata": {
        "collapsed": false
      },
      "outputs": [],
      "source": [
        "evoked.plot_topomap(times, ch_type='mag', cmap='Spectral_r', res=32,\n                    outlines='skirt', contours=4, time_unit='s')"
      ]
    },
    {
      "cell_type": "markdown",
      "metadata": {},
      "source": [
        "If you look at the edges of the head circle of a single topomap you'll see\nthe effect of extrapolation. There are three extrapolation modes:\n\n- ``extrapolate='local'`` extrapolates only to points close to the sensors.\n- ``extrapolate='head'`` extrapolates out to the head head circle.\n- ``extrapolate='box'`` extrapolates to a large box stretching beyond the\n  head circle.\n\nThe default value ``extrapolate='auto'`` will use ``'local'`` for MEG sensors\nand ``'head'`` otherwise. Here we show each option:\n\n"
      ]
    },
    {
      "cell_type": "code",
      "execution_count": null,
      "metadata": {
        "collapsed": false
      },
      "outputs": [],
      "source": [
        "extrapolations = ['local', 'head', 'box']\nfig, axes = plt.subplots(figsize=(7.5, 4.5), nrows=2, ncols=3)\n\n# Here we look at EEG channels, and use a custom head sphere to get all the\n# sensors to be well within the drawn head surface\nfor axes_row, ch_type in zip(axes, ('mag', 'eeg')):\n    for ax, extr in zip(axes_row, extrapolations):\n        evoked.plot_topomap(0.1, ch_type=ch_type, size=2, extrapolate=extr,\n                            axes=ax, show=False, colorbar=False,\n                            sphere=(0., 0., 0., 0.09))\n        ax.set_title('%s %s' % (ch_type.upper(), extr), fontsize=14)\nfig.tight_layout()"
      ]
    },
    {
      "cell_type": "markdown",
      "metadata": {},
      "source": [
        "## More advanced usage\n\nNow we plot magnetometer data as topomap at a single time point: 100 ms\npost-stimulus, add channel labels, title and adjust plot margins:\n\n"
      ]
    },
    {
      "cell_type": "code",
      "execution_count": null,
      "metadata": {
        "collapsed": false
      },
      "outputs": [],
      "source": [
        "evoked.plot_topomap(0.1, ch_type='mag', show_names=True, colorbar=False,\n                    size=6, res=128, title='Auditory response',\n                    time_unit='s')\nplt.subplots_adjust(left=0.01, right=0.99, bottom=0.01, top=0.88)"
      ]
    },
    {
      "cell_type": "markdown",
      "metadata": {},
      "source": [
        "## Animating the topomap\n\nInstead of using a still image we can plot magnetometer data as an animation,\nwhich animates properly only in matplotlib interactive mode.\n\n"
      ]
    },
    {
      "cell_type": "code",
      "execution_count": null,
      "metadata": {
        "collapsed": false
      },
      "outputs": [],
      "source": [
        "times = np.arange(0.05, 0.151, 0.01)\nfig, anim = evoked.animate_topomap(\n    times=times, ch_type='mag', frame_rate=2, time_unit='s', blit=False)"
      ]
    }
  ],
  "metadata": {
    "kernelspec": {
      "display_name": "Python 3",
      "language": "python",
      "name": "python3"
    },
    "language_info": {
      "codemirror_mode": {
        "name": "ipython",
        "version": 3
      },
      "file_extension": ".py",
      "mimetype": "text/x-python",
      "name": "python",
      "nbconvert_exporter": "python",
      "pygments_lexer": "ipython3",
      "version": "3.8.5"
    }
  },
  "nbformat": 4,
  "nbformat_minor": 0
}